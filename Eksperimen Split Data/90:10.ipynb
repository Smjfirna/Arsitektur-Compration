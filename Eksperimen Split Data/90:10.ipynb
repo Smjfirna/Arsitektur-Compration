{
  "nbformat": 4,
  "nbformat_minor": 0,
  "metadata": {
    "colab": {
      "provenance": [],
      "gpuType": "T4",
      "include_colab_link": true
    },
    "kernelspec": {
      "name": "python3",
      "display_name": "Python 3"
    },
    "language_info": {
      "name": "python"
    },
    "accelerator": "GPU"
  },
  "cells": [
    {
      "cell_type": "markdown",
      "metadata": {
        "id": "view-in-github",
        "colab_type": "text"
      },
      "source": [
        "<a href=\"https://colab.research.google.com/github/Smjfirna/Arsitektur-Compration/blob/main/Eksperimen%20Split%20Data/90%3A10.ipynb\" target=\"_parent\"><img src=\"https://colab.research.google.com/assets/colab-badge.svg\" alt=\"Open In Colab\"/></a>"
      ]
    },
    {
      "cell_type": "code",
      "source": [
        "import os\n",
        "import cv2\n",
        "import numpy as np\n",
        "from tqdm import tqdm\n",
        "from sklearn.model_selection import train_test_split\n",
        "from sklearn.preprocessing import LabelEncoder\n",
        "from keras.utils import to_categorical\n",
        "\n",
        "import tensorflow as tf\n",
        "from tensorflow.keras.preprocessing.image import ImageDataGenerator\n",
        "from tensorflow.keras.models import Sequential\n",
        "from tensorflow.keras import layers, Model, regularizers\n",
        "from tensorflow.keras.callbacks import EarlyStopping\n",
        "from tensorflow.keras.layers import Conv2D, MaxPooling2D, Flatten, Dense, GlobalAveragePooling2D, Dropout\n",
        "import os\n",
        "from tensorflow.keras.optimizers import Adam\n",
        "from tensorflow.keras.optimizers import RMSprop\n",
        "\n",
        "from keras.applications import ResNet50"
      ],
      "metadata": {
        "id": "LaloGmhuhwP-"
      },
      "execution_count": 1,
      "outputs": []
    },
    {
      "cell_type": "code",
      "execution_count": 2,
      "metadata": {
        "colab": {
          "base_uri": "https://localhost:8080/"
        },
        "id": "d_i5Zy9kdLGU",
        "outputId": "73997e5e-6584-4f36-b4f6-af00a81b4951"
      },
      "outputs": [
        {
          "output_type": "stream",
          "name": "stdout",
          "text": [
            "Mounted at /content/drive\n"
          ]
        }
      ],
      "source": [
        "from google.colab import drive\n",
        "drive.mount('/content/drive')"
      ]
    },
    {
      "cell_type": "code",
      "source": [
        "dataset_dir = \"/content/drive/MyDrive/Skripsi/Data Sample 10\"\n",
        "\n",
        "print(os.listdir(dataset_dir))"
      ],
      "metadata": {
        "colab": {
          "base_uri": "https://localhost:8080/"
        },
        "id": "c60kX1_DjBPd",
        "outputId": "a2c88fd0-4f0e-4008-b182-e731141724bf"
      },
      "execution_count": 3,
      "outputs": [
        {
          "output_type": "stream",
          "name": "stdout",
          "text": [
            "['Healthy', 'Blight', 'Gray_Leaf_Spot', 'Common_Rust']\n"
          ]
        }
      ]
    },
    {
      "cell_type": "code",
      "source": [
        "size_resnet50 = 224"
      ],
      "metadata": {
        "id": "Mjg6pdK1DO1a"
      },
      "execution_count": 4,
      "outputs": []
    },
    {
      "cell_type": "code",
      "source": [
        "def make_data(label, DIR, img_list, label_list):\n",
        "    for img in tqdm(os.listdir(DIR)):\n",
        "        path = os.path.join(DIR, img)\n",
        "        img = cv2.imread(path, cv2.IMREAD_COLOR)\n",
        "        img = cv2.resize(img, (size_resnet50, size_resnet50))\n",
        "        img_list.append(np.array(img))\n",
        "        label_list.append(str(label))"
      ],
      "metadata": {
        "id": "XgNY4FGvD-BF"
      },
      "execution_count": 5,
      "outputs": []
    },
    {
      "cell_type": "code",
      "source": [
        "X = []\n",
        "Z = []"
      ],
      "metadata": {
        "id": "HPv9tP13DXm6"
      },
      "execution_count": 6,
      "outputs": []
    },
    {
      "cell_type": "code",
      "source": [
        "for i, class_name in enumerate(['Common_Rust', 'Healthy', 'Gray_Leaf_Spot', 'Blight']):\n",
        "    class_dir = os.path.join(dataset_dir, class_name)\n",
        "    make_data(class_name, class_dir, X, Z)"
      ],
      "metadata": {
        "colab": {
          "base_uri": "https://localhost:8080/"
        },
        "id": "L7CgU46UDc6d",
        "outputId": "665460ac-2a7c-4c52-f716-1b0b7eccca52"
      },
      "execution_count": 7,
      "outputs": [
        {
          "output_type": "stream",
          "name": "stderr",
          "text": [
            "100%|██████████| 130/130 [00:07<00:00, 17.37it/s]\n",
            "100%|██████████| 116/116 [00:03<00:00, 30.99it/s] \n",
            "100%|██████████| 57/57 [00:45<00:00,  1.27it/s]\n",
            "100%|██████████| 114/114 [00:14<00:00,  7.64it/s]\n"
          ]
        }
      ]
    },
    {
      "cell_type": "code",
      "source": [
        "import matplotlib.pyplot as plt\n",
        "\n",
        "# Menghitung jumlah data untuk setiap kelas\n",
        "class_counts = {class_name: Z.count(class_name) for class_name in set(Z)}\n",
        "\n",
        "# Menampilkan visualisasi jumlah data\n",
        "plt.figure(figsize=(4, 4))\n",
        "plt.bar(class_counts.keys(), class_counts.values())\n",
        "plt.xlabel('Class')\n",
        "plt.ylabel('Count')\n",
        "plt.title('Number of Data Samples for Each Class')\n",
        "plt.show()"
      ],
      "metadata": {
        "colab": {
          "base_uri": "https://localhost:8080/",
          "height": 410
        },
        "id": "jWbdII-8E9kW",
        "outputId": "936893c7-3ee9-44ca-ec52-ab75ebb6e9d4"
      },
      "execution_count": 8,
      "outputs": [
        {
          "output_type": "display_data",
          "data": {
            "text/plain": [
              "<Figure size 400x400 with 1 Axes>"
            ],
            "image/png": "[encoded data removed]"
          },
          "metadata": {}
        }
      ]
    },
    {
      "cell_type": "code",
      "source": [
        "le = LabelEncoder()\n",
        "Y = le.fit_transform(Z)\n",
        "Y = to_categorical(Y, num_classes=len(le.classes_))\n",
        "\n",
        "# Konversi ke array numpy\n",
        "X = np.array(X)\n",
        "\n",
        "# Memisahkan data menjadi data latih dan data uji\n",
        "X_train, X_test, Y_train, Y_test = train_test_split(X, Y, test_size=0.1, random_state=42)\n",
        "\n",
        "print(\"Jumlah Data Train adalah :\", len(X_train))\n",
        "print(\"Jumlah Data Test adalah :\", len(X_test))"
      ],
      "metadata": {
        "colab": {
          "base_uri": "https://localhost:8080/"
        },
        "id": "LFG1SJ3OFPWV",
        "outputId": "1f70a726-5f88-41cf-e3b7-6e6a1ee2fb68"
      },
      "execution_count": 29,
      "outputs": [
        {
          "output_type": "stream",
          "name": "stdout",
          "text": [
            "Jumlah Data Train adalah : 375\n",
            "Jumlah Data Test adalah : 42\n"
          ]
        }
      ]
    },
    {
      "cell_type": "code",
      "source": [
        "datagen = ImageDataGenerator(\n",
        "    rotation_range=20,\n",
        "    zoom_range=0.2,\n",
        "    horizontal_flip=True,\n",
        ")\n",
        "\n",
        "datagen.fit(X_train)"
      ],
      "metadata": {
        "id": "l_s_dW_k2OKD"
      },
      "execution_count": 30,
      "outputs": []
    },
    {
      "cell_type": "code",
      "source": [
        "resnet50 = ResNet50(include_top=False, weights='imagenet', input_shape=(size_resnet50, size_resnet50, 3))\n",
        "\n",
        "# Membuat model Sequential\n",
        "model_resnet50ver2 = Sequential()\n",
        "model_resnet50ver2.add(resnet50)\n",
        "model_resnet50ver2.add(GlobalAveragePooling2D())\n",
        "model_resnet50ver2.add(Dense(4, activation='softmax'))\n",
        "\n",
        "# Membekukan layer-layer ResNet50 yang telah dilatih\n",
        "for layer in resnet50.layers:\n",
        "    layer.trainable = False\n",
        "\n",
        "# Mengompilasi model dengan optimizer Adam dan loss function categorical crossentropy\n",
        "model_resnet50ver2.compile(optimizer=Adam(learning_rate=1e-5), loss='categorical_crossentropy', metrics=['accuracy'])\n",
        "\n",
        "# Menampilkan summary dari model\n",
        "model_resnet50ver2.summary()\n",
        "\n",
        "# Melatih model dengan data latih dan validasi\n",
        "history_resnet50ver2 = model_resnet50ver2.fit(datagen.flow(X_train, Y_train), epochs=200, validation_data=(X_test, Y_test))"
      ],
      "metadata": {
        "colab": {
          "base_uri": "https://localhost:8080/"
        },
        "id": "L4NJLS5-FT93",
        "outputId": "28fe89a6-4eb9-447f-8c07-6761dd93317a"
      },
      "execution_count": 31,
      "outputs": [
        {
          "output_type": "stream",
          "name": "stdout",
          "text": [
            "Model: \"sequential_5\"\n",
            "_________________________________________________________________\n",
            " Layer (type)                Output Shape              Param #   \n",
            "=================================================================\n",
            " resnet50 (Functional)       (None, 7, 7, 2048)        23587712  \n",
            "                                                                 \n",
            " global_average_pooling2d_5  (None, 2048)              0         \n",
            "  (GlobalAveragePooling2D)                                       \n",
            "                                                                 \n",
            " dense_5 (Dense)             (None, 4)                 8196      \n",
            "                                                                 \n",
            "=================================================================\n",
            "Total params: 23595908 (90.01 MB)\n",
            "Trainable params: 8196 (32.02 KB)\n",
            "Non-trainable params: 23587712 (89.98 MB)\n",
            "_________________________________________________________________\n",
            "Epoch 1/200\n",
            "12/12 [==============================] - 9s 422ms/step - loss: 2.0046 - accuracy: 0.1707 - val_loss: 1.6432 - val_accuracy: 0.3571\n",
            "Epoch 2/200\n",
            "12/12 [==============================] - 4s 346ms/step - loss: 1.9260 - accuracy: 0.1973 - val_loss: 1.6044 - val_accuracy: 0.3571\n",
            "Epoch 3/200\n",
            "12/12 [==============================] - 6s 445ms/step - loss: 1.9038 - accuracy: 0.2160 - val_loss: 1.5683 - val_accuracy: 0.4048\n",
            "Epoch 4/200\n",
            "12/12 [==============================] - 5s 415ms/step - loss: 1.8263 - accuracy: 0.2107 - val_loss: 1.5371 - val_accuracy: 0.4048\n",
            "Epoch 5/200\n",
            "12/12 [==============================] - 5s 360ms/step - loss: 1.8072 - accuracy: 0.2080 - val_loss: 1.5095 - val_accuracy: 0.4286\n",
            "Epoch 6/200\n",
            "12/12 [==============================] - 4s 350ms/step - loss: 1.7505 - accuracy: 0.2320 - val_loss: 1.4823 - val_accuracy: 0.4286\n",
            "Epoch 7/200\n",
            "12/12 [==============================] - 5s 457ms/step - loss: 1.7347 - accuracy: 0.2773 - val_loss: 1.4568 - val_accuracy: 0.4762\n",
            "Epoch 8/200\n",
            "12/12 [==============================] - 4s 348ms/step - loss: 1.6618 - accuracy: 0.3067 - val_loss: 1.4359 - val_accuracy: 0.4762\n",
            "Epoch 9/200\n",
            "12/12 [==============================] - 4s 340ms/step - loss: 1.6535 - accuracy: 0.3040 - val_loss: 1.4161 - val_accuracy: 0.5000\n",
            "Epoch 10/200\n",
            "12/12 [==============================] - 6s 470ms/step - loss: 1.6694 - accuracy: 0.2880 - val_loss: 1.3983 - val_accuracy: 0.5000\n",
            "Epoch 11/200\n",
            "12/12 [==============================] - 4s 353ms/step - loss: 1.6230 - accuracy: 0.3040 - val_loss: 1.3803 - val_accuracy: 0.5000\n",
            "Epoch 12/200\n",
            "12/12 [==============================] - 5s 384ms/step - loss: 1.6074 - accuracy: 0.3173 - val_loss: 1.3641 - val_accuracy: 0.5000\n",
            "Epoch 13/200\n",
            "12/12 [==============================] - 5s 362ms/step - loss: 1.5500 - accuracy: 0.3227 - val_loss: 1.3491 - val_accuracy: 0.5238\n",
            "Epoch 14/200\n",
            "12/12 [==============================] - 4s 352ms/step - loss: 1.5653 - accuracy: 0.3360 - val_loss: 1.3339 - val_accuracy: 0.5238\n",
            "Epoch 15/200\n",
            "12/12 [==============================] - 6s 464ms/step - loss: 1.5894 - accuracy: 0.3493 - val_loss: 1.3188 - val_accuracy: 0.5238\n",
            "Epoch 16/200\n",
            "12/12 [==============================] - 4s 359ms/step - loss: 1.4974 - accuracy: 0.3360 - val_loss: 1.3047 - val_accuracy: 0.5238\n",
            "Epoch 17/200\n",
            "12/12 [==============================] - 4s 353ms/step - loss: 1.5104 - accuracy: 0.3333 - val_loss: 1.2894 - val_accuracy: 0.5476\n",
            "Epoch 18/200\n",
            "12/12 [==============================] - 5s 452ms/step - loss: 1.4915 - accuracy: 0.3680 - val_loss: 1.2753 - val_accuracy: 0.5476\n",
            "Epoch 19/200\n",
            "12/12 [==============================] - 4s 356ms/step - loss: 1.4706 - accuracy: 0.3733 - val_loss: 1.2649 - val_accuracy: 0.5476\n",
            "Epoch 20/200\n",
            "12/12 [==============================] - 4s 365ms/step - loss: 1.4602 - accuracy: 0.3867 - val_loss: 1.2531 - val_accuracy: 0.5714\n",
            "Epoch 21/200\n",
            "12/12 [==============================] - 5s 392ms/step - loss: 1.4326 - accuracy: 0.3733 - val_loss: 1.2425 - val_accuracy: 0.5476\n",
            "Epoch 22/200\n",
            "12/12 [==============================] - 4s 366ms/step - loss: 1.4048 - accuracy: 0.3867 - val_loss: 1.2283 - val_accuracy: 0.5476\n",
            "Epoch 23/200\n",
            "12/12 [==============================] - 5s 459ms/step - loss: 1.3929 - accuracy: 0.4053 - val_loss: 1.2153 - val_accuracy: 0.5476\n",
            "Epoch 24/200\n",
            "12/12 [==============================] - 4s 345ms/step - loss: 1.3777 - accuracy: 0.3973 - val_loss: 1.2029 - val_accuracy: 0.5476\n",
            "Epoch 25/200\n",
            "12/12 [==============================] - 4s 347ms/step - loss: 1.3900 - accuracy: 0.4160 - val_loss: 1.1909 - val_accuracy: 0.5476\n",
            "Epoch 26/200\n",
            "12/12 [==============================] - 6s 479ms/step - loss: 1.3275 - accuracy: 0.4507 - val_loss: 1.1796 - val_accuracy: 0.5476\n",
            "Epoch 27/200\n",
            "12/12 [==============================] - 4s 350ms/step - loss: 1.3246 - accuracy: 0.4347 - val_loss: 1.1685 - val_accuracy: 0.5476\n",
            "Epoch 28/200\n",
            "12/12 [==============================] - 5s 461ms/step - loss: 1.2802 - accuracy: 0.4640 - val_loss: 1.1575 - val_accuracy: 0.5476\n",
            "Epoch 29/200\n",
            "12/12 [==============================] - 4s 345ms/step - loss: 1.2958 - accuracy: 0.4587 - val_loss: 1.1471 - val_accuracy: 0.5476\n",
            "Epoch 30/200\n",
            "12/12 [==============================] - 4s 351ms/step - loss: 1.3009 - accuracy: 0.4533 - val_loss: 1.1373 - val_accuracy: 0.5476\n",
            "Epoch 31/200\n",
            "12/12 [==============================] - 6s 453ms/step - loss: 1.2936 - accuracy: 0.4400 - val_loss: 1.1276 - val_accuracy: 0.5476\n",
            "Epoch 32/200\n",
            "12/12 [==============================] - 4s 362ms/step - loss: 1.2306 - accuracy: 0.4880 - val_loss: 1.1167 - val_accuracy: 0.5476\n",
            "Epoch 33/200\n",
            "12/12 [==============================] - 5s 407ms/step - loss: 1.2609 - accuracy: 0.4667 - val_loss: 1.1076 - val_accuracy: 0.5476\n",
            "Epoch 34/200\n",
            "12/12 [==============================] - 5s 379ms/step - loss: 1.2109 - accuracy: 0.4827 - val_loss: 1.0985 - val_accuracy: 0.5714\n",
            "Epoch 35/200\n",
            "12/12 [==============================] - 4s 365ms/step - loss: 1.2229 - accuracy: 0.4613 - val_loss: 1.0889 - val_accuracy: 0.5714\n",
            "Epoch 36/200\n",
            "12/12 [==============================] - 6s 488ms/step - loss: 1.2079 - accuracy: 0.4773 - val_loss: 1.0799 - val_accuracy: 0.5714\n",
            "Epoch 37/200\n",
            "12/12 [==============================] - 4s 359ms/step - loss: 1.2059 - accuracy: 0.4960 - val_loss: 1.0700 - val_accuracy: 0.5714\n",
            "Epoch 38/200\n",
            "12/12 [==============================] - 4s 359ms/step - loss: 1.1832 - accuracy: 0.4773 - val_loss: 1.0611 - val_accuracy: 0.5952\n",
            "Epoch 39/200\n",
            "12/12 [==============================] - 6s 480ms/step - loss: 1.1687 - accuracy: 0.5493 - val_loss: 1.0527 - val_accuracy: 0.6190\n",
            "Epoch 40/200\n",
            "12/12 [==============================] - 4s 360ms/step - loss: 1.1577 - accuracy: 0.5173 - val_loss: 1.0437 - val_accuracy: 0.6190\n",
            "Epoch 41/200\n",
            "12/12 [==============================] - 5s 428ms/step - loss: 1.1568 - accuracy: 0.5120 - val_loss: 1.0365 - val_accuracy: 0.6429\n",
            "Epoch 42/200\n",
            "12/12 [==============================] - 4s 368ms/step - loss: 1.1314 - accuracy: 0.5173 - val_loss: 1.0275 - val_accuracy: 0.6429\n",
            "Epoch 43/200\n",
            "12/12 [==============================] - 5s 396ms/step - loss: 1.1316 - accuracy: 0.5333 - val_loss: 1.0195 - val_accuracy: 0.6429\n",
            "Epoch 44/200\n",
            "12/12 [==============================] - 5s 381ms/step - loss: 1.1193 - accuracy: 0.5280 - val_loss: 1.0108 - val_accuracy: 0.6429\n",
            "Epoch 45/200\n",
            "12/12 [==============================] - 4s 357ms/step - loss: 1.0635 - accuracy: 0.5813 - val_loss: 1.0028 - val_accuracy: 0.6429\n",
            "Epoch 46/200\n",
            "12/12 [==============================] - 6s 489ms/step - loss: 1.0777 - accuracy: 0.5467 - val_loss: 0.9958 - val_accuracy: 0.6429\n",
            "Epoch 47/200\n",
            "12/12 [==============================] - 4s 345ms/step - loss: 1.0881 - accuracy: 0.5760 - val_loss: 0.9875 - val_accuracy: 0.6429\n",
            "Epoch 48/200\n",
            "12/12 [==============================] - 4s 359ms/step - loss: 1.0694 - accuracy: 0.5840 - val_loss: 0.9807 - val_accuracy: 0.6429\n",
            "Epoch 49/200\n",
            "12/12 [==============================] - 6s 483ms/step - loss: 1.0378 - accuracy: 0.5760 - val_loss: 0.9741 - val_accuracy: 0.6429\n",
            "Epoch 50/200\n",
            "12/12 [==============================] - 4s 355ms/step - loss: 1.0547 - accuracy: 0.5840 - val_loss: 0.9660 - val_accuracy: 0.6429\n",
            "Epoch 51/200\n",
            "12/12 [==============================] - 4s 358ms/step - loss: 1.0270 - accuracy: 0.5867 - val_loss: 0.9594 - val_accuracy: 0.6429\n",
            "Epoch 52/200\n",
            "12/12 [==============================] - 6s 476ms/step - loss: 1.0088 - accuracy: 0.6053 - val_loss: 0.9532 - val_accuracy: 0.6667\n",
            "Epoch 53/200\n",
            "12/12 [==============================] - 5s 403ms/step - loss: 1.0230 - accuracy: 0.5973 - val_loss: 0.9458 - val_accuracy: 0.6667\n",
            "Epoch 54/200\n",
            "12/12 [==============================] - 5s 401ms/step - loss: 1.0032 - accuracy: 0.6213 - val_loss: 0.9391 - val_accuracy: 0.6667\n",
            "Epoch 55/200\n",
            "12/12 [==============================] - 4s 356ms/step - loss: 0.9895 - accuracy: 0.6320 - val_loss: 0.9326 - val_accuracy: 0.6667\n",
            "Epoch 56/200\n",
            "12/12 [==============================] - 5s 459ms/step - loss: 0.9924 - accuracy: 0.6187 - val_loss: 0.9260 - val_accuracy: 0.6667\n",
            "Epoch 57/200\n",
            "12/12 [==============================] - 4s 347ms/step - loss: 0.9874 - accuracy: 0.6160 - val_loss: 0.9186 - val_accuracy: 0.6905\n",
            "Epoch 58/200\n",
            "12/12 [==============================] - 4s 365ms/step - loss: 1.0016 - accuracy: 0.6187 - val_loss: 0.9125 - val_accuracy: 0.6905\n",
            "Epoch 59/200\n",
            "12/12 [==============================] - 6s 472ms/step - loss: 0.9577 - accuracy: 0.6320 - val_loss: 0.9067 - val_accuracy: 0.6905\n",
            "Epoch 60/200\n",
            "12/12 [==============================] - 4s 353ms/step - loss: 0.9665 - accuracy: 0.6187 - val_loss: 0.9021 - val_accuracy: 0.7143\n",
            "Epoch 61/200\n",
            "12/12 [==============================] - 4s 351ms/step - loss: 0.9436 - accuracy: 0.6480 - val_loss: 0.8959 - val_accuracy: 0.7143\n",
            "Epoch 62/200\n",
            "12/12 [==============================] - 5s 376ms/step - loss: 0.9709 - accuracy: 0.6293 - val_loss: 0.8900 - val_accuracy: 0.7143\n",
            "Epoch 63/200\n",
            "12/12 [==============================] - 4s 356ms/step - loss: 0.9402 - accuracy: 0.6400 - val_loss: 0.8841 - val_accuracy: 0.7143\n",
            "Epoch 64/200\n",
            "12/12 [==============================] - 5s 464ms/step - loss: 0.9168 - accuracy: 0.6400 - val_loss: 0.8769 - val_accuracy: 0.7143\n",
            "Epoch 65/200\n",
            "12/12 [==============================] - 4s 353ms/step - loss: 0.8958 - accuracy: 0.6667 - val_loss: 0.8711 - val_accuracy: 0.7143\n",
            "Epoch 66/200\n",
            "12/12 [==============================] - 4s 345ms/step - loss: 0.9061 - accuracy: 0.6400 - val_loss: 0.8663 - val_accuracy: 0.7143\n",
            "Epoch 67/200\n",
            "12/12 [==============================] - 6s 468ms/step - loss: 0.9050 - accuracy: 0.6373 - val_loss: 0.8614 - val_accuracy: 0.7381\n",
            "Epoch 68/200\n",
            "12/12 [==============================] - 4s 352ms/step - loss: 0.9098 - accuracy: 0.6720 - val_loss: 0.8564 - val_accuracy: 0.7381\n",
            "Epoch 69/200\n",
            "12/12 [==============================] - 4s 344ms/step - loss: 0.9022 - accuracy: 0.6640 - val_loss: 0.8517 - val_accuracy: 0.7381\n",
            "Epoch 70/200\n",
            "12/12 [==============================] - 6s 471ms/step - loss: 0.8913 - accuracy: 0.6480 - val_loss: 0.8466 - val_accuracy: 0.7381\n",
            "Epoch 71/200\n",
            "12/12 [==============================] - 4s 366ms/step - loss: 0.9001 - accuracy: 0.6693 - val_loss: 0.8423 - val_accuracy: 0.7381\n",
            "Epoch 72/200\n",
            "12/12 [==============================] - 5s 393ms/step - loss: 0.8812 - accuracy: 0.6880 - val_loss: 0.8378 - val_accuracy: 0.7381\n",
            "Epoch 73/200\n",
            "12/12 [==============================] - 5s 389ms/step - loss: 0.8811 - accuracy: 0.6800 - val_loss: 0.8333 - val_accuracy: 0.7381\n",
            "Epoch 74/200\n",
            "12/12 [==============================] - 4s 340ms/step - loss: 0.9096 - accuracy: 0.6587 - val_loss: 0.8291 - val_accuracy: 0.7381\n",
            "Epoch 75/200\n",
            "12/12 [==============================] - 6s 475ms/step - loss: 0.8588 - accuracy: 0.6693 - val_loss: 0.8253 - val_accuracy: 0.7381\n",
            "Epoch 76/200\n",
            "12/12 [==============================] - 4s 352ms/step - loss: 0.8770 - accuracy: 0.6720 - val_loss: 0.8206 - val_accuracy: 0.7381\n",
            "Epoch 77/200\n",
            "12/12 [==============================] - 6s 467ms/step - loss: 0.8383 - accuracy: 0.7040 - val_loss: 0.8162 - val_accuracy: 0.7381\n",
            "Epoch 78/200\n",
            "12/12 [==============================] - 5s 391ms/step - loss: 0.8559 - accuracy: 0.6960 - val_loss: 0.8118 - val_accuracy: 0.7381\n",
            "Epoch 79/200\n",
            "12/12 [==============================] - 5s 393ms/step - loss: 0.8384 - accuracy: 0.7093 - val_loss: 0.8081 - val_accuracy: 0.7381\n",
            "Epoch 80/200\n",
            "12/12 [==============================] - 4s 367ms/step - loss: 0.8297 - accuracy: 0.6933 - val_loss: 0.8046 - val_accuracy: 0.7619\n",
            "Epoch 81/200\n",
            "12/12 [==============================] - 5s 457ms/step - loss: 0.8336 - accuracy: 0.7067 - val_loss: 0.8007 - val_accuracy: 0.7619\n",
            "Epoch 82/200\n",
            "12/12 [==============================] - 5s 351ms/step - loss: 0.8182 - accuracy: 0.7067 - val_loss: 0.7968 - val_accuracy: 0.7619\n",
            "Epoch 83/200\n",
            "12/12 [==============================] - 4s 356ms/step - loss: 0.8105 - accuracy: 0.7173 - val_loss: 0.7923 - val_accuracy: 0.7619\n",
            "Epoch 84/200\n",
            "12/12 [==============================] - 6s 482ms/step - loss: 0.8102 - accuracy: 0.7120 - val_loss: 0.7893 - val_accuracy: 0.7619\n",
            "Epoch 85/200\n",
            "12/12 [==============================] - 4s 358ms/step - loss: 0.8166 - accuracy: 0.6987 - val_loss: 0.7859 - val_accuracy: 0.7619\n",
            "Epoch 86/200\n",
            "12/12 [==============================] - 4s 348ms/step - loss: 0.8061 - accuracy: 0.7040 - val_loss: 0.7828 - val_accuracy: 0.7619\n",
            "Epoch 87/200\n",
            "12/12 [==============================] - 6s 482ms/step - loss: 0.8019 - accuracy: 0.7200 - val_loss: 0.7789 - val_accuracy: 0.7619\n",
            "Epoch 88/200\n",
            "12/12 [==============================] - 4s 345ms/step - loss: 0.7754 - accuracy: 0.7227 - val_loss: 0.7755 - val_accuracy: 0.7619\n",
            "Epoch 89/200\n",
            "12/12 [==============================] - 4s 335ms/step - loss: 0.7930 - accuracy: 0.7227 - val_loss: 0.7721 - val_accuracy: 0.7619\n",
            "Epoch 90/200\n",
            "12/12 [==============================] - 5s 453ms/step - loss: 0.7800 - accuracy: 0.7093 - val_loss: 0.7686 - val_accuracy: 0.7619\n",
            "Epoch 91/200\n",
            "12/12 [==============================] - 4s 338ms/step - loss: 0.7886 - accuracy: 0.7040 - val_loss: 0.7652 - val_accuracy: 0.7619\n",
            "Epoch 92/200\n",
            "12/12 [==============================] - 4s 340ms/step - loss: 0.8017 - accuracy: 0.7280 - val_loss: 0.7622 - val_accuracy: 0.7619\n",
            "Epoch 93/200\n",
            "12/12 [==============================] - 5s 359ms/step - loss: 0.7721 - accuracy: 0.7307 - val_loss: 0.7586 - val_accuracy: 0.7619\n",
            "Epoch 94/200\n",
            "12/12 [==============================] - 4s 349ms/step - loss: 0.7762 - accuracy: 0.7120 - val_loss: 0.7560 - val_accuracy: 0.7619\n",
            "Epoch 95/200\n",
            "12/12 [==============================] - 5s 426ms/step - loss: 0.7737 - accuracy: 0.7227 - val_loss: 0.7526 - val_accuracy: 0.7619\n",
            "Epoch 96/200\n",
            "12/12 [==============================] - 4s 339ms/step - loss: 0.7419 - accuracy: 0.7173 - val_loss: 0.7496 - val_accuracy: 0.7619\n",
            "Epoch 97/200\n",
            "12/12 [==============================] - 4s 342ms/step - loss: 0.7762 - accuracy: 0.7040 - val_loss: 0.7466 - val_accuracy: 0.7857\n",
            "Epoch 98/200\n",
            "12/12 [==============================] - 5s 456ms/step - loss: 0.7667 - accuracy: 0.7333 - val_loss: 0.7436 - val_accuracy: 0.7857\n",
            "Epoch 99/200\n",
            "12/12 [==============================] - 4s 341ms/step - loss: 0.7344 - accuracy: 0.7387 - val_loss: 0.7406 - val_accuracy: 0.7857\n",
            "Epoch 100/200\n",
            "12/12 [==============================] - 4s 342ms/step - loss: 0.7197 - accuracy: 0.7440 - val_loss: 0.7378 - val_accuracy: 0.7857\n",
            "Epoch 101/200\n",
            "12/12 [==============================] - 5s 462ms/step - loss: 0.7526 - accuracy: 0.7253 - val_loss: 0.7345 - val_accuracy: 0.7857\n",
            "Epoch 102/200\n",
            "12/12 [==============================] - 4s 336ms/step - loss: 0.7486 - accuracy: 0.7147 - val_loss: 0.7315 - val_accuracy: 0.7857\n",
            "Epoch 103/200\n",
            "12/12 [==============================] - 4s 343ms/step - loss: 0.7386 - accuracy: 0.7307 - val_loss: 0.7284 - val_accuracy: 0.7857\n",
            "Epoch 104/200\n",
            "12/12 [==============================] - 5s 428ms/step - loss: 0.7317 - accuracy: 0.7307 - val_loss: 0.7264 - val_accuracy: 0.8095\n",
            "Epoch 105/200\n",
            "12/12 [==============================] - 4s 334ms/step - loss: 0.7161 - accuracy: 0.7413 - val_loss: 0.7239 - val_accuracy: 0.8095\n",
            "Epoch 106/200\n",
            "12/12 [==============================] - 5s 435ms/step - loss: 0.7382 - accuracy: 0.7440 - val_loss: 0.7214 - val_accuracy: 0.8095\n",
            "Epoch 107/200\n",
            "12/12 [==============================] - 4s 339ms/step - loss: 0.6965 - accuracy: 0.7547 - val_loss: 0.7189 - val_accuracy: 0.8095\n",
            "Epoch 108/200\n",
            "12/12 [==============================] - 4s 338ms/step - loss: 0.7240 - accuracy: 0.7253 - val_loss: 0.7162 - val_accuracy: 0.8095\n",
            "Epoch 109/200\n",
            "12/12 [==============================] - 5s 458ms/step - loss: 0.7193 - accuracy: 0.7333 - val_loss: 0.7141 - val_accuracy: 0.8095\n",
            "Epoch 110/200\n",
            "12/12 [==============================] - 4s 343ms/step - loss: 0.7323 - accuracy: 0.7307 - val_loss: 0.7122 - val_accuracy: 0.8095\n",
            "Epoch 111/200\n",
            "12/12 [==============================] - 4s 348ms/step - loss: 0.6945 - accuracy: 0.7547 - val_loss: 0.7102 - val_accuracy: 0.8095\n",
            "Epoch 112/200\n",
            "12/12 [==============================] - 6s 466ms/step - loss: 0.7145 - accuracy: 0.7333 - val_loss: 0.7083 - val_accuracy: 0.8095\n",
            "Epoch 113/200\n",
            "12/12 [==============================] - 4s 340ms/step - loss: 0.6931 - accuracy: 0.7360 - val_loss: 0.7062 - val_accuracy: 0.8095\n",
            "Epoch 114/200\n",
            "12/12 [==============================] - 5s 364ms/step - loss: 0.6842 - accuracy: 0.7653 - val_loss: 0.7044 - val_accuracy: 0.8095\n",
            "Epoch 115/200\n",
            "12/12 [==============================] - 4s 343ms/step - loss: 0.7054 - accuracy: 0.7547 - val_loss: 0.7018 - val_accuracy: 0.8095\n",
            "Epoch 116/200\n",
            "12/12 [==============================] - 5s 435ms/step - loss: 0.6748 - accuracy: 0.7467 - val_loss: 0.6999 - val_accuracy: 0.8095\n",
            "Epoch 117/200\n",
            "12/12 [==============================] - 4s 353ms/step - loss: 0.7007 - accuracy: 0.7413 - val_loss: 0.6981 - val_accuracy: 0.8095\n",
            "Epoch 118/200\n",
            "12/12 [==============================] - 4s 346ms/step - loss: 0.6984 - accuracy: 0.7413 - val_loss: 0.6958 - val_accuracy: 0.8095\n",
            "Epoch 119/200\n",
            "12/12 [==============================] - 5s 455ms/step - loss: 0.6825 - accuracy: 0.7573 - val_loss: 0.6937 - val_accuracy: 0.8095\n",
            "Epoch 120/200\n",
            "12/12 [==============================] - 4s 337ms/step - loss: 0.6796 - accuracy: 0.7413 - val_loss: 0.6918 - val_accuracy: 0.8095\n",
            "Epoch 121/200\n",
            "12/12 [==============================] - 4s 337ms/step - loss: 0.6941 - accuracy: 0.7307 - val_loss: 0.6901 - val_accuracy: 0.8095\n",
            "Epoch 122/200\n",
            "12/12 [==============================] - 5s 454ms/step - loss: 0.6846 - accuracy: 0.7387 - val_loss: 0.6875 - val_accuracy: 0.8095\n",
            "Epoch 123/200\n",
            "12/12 [==============================] - 4s 340ms/step - loss: 0.6797 - accuracy: 0.7547 - val_loss: 0.6854 - val_accuracy: 0.8095\n",
            "Epoch 124/200\n",
            "12/12 [==============================] - 4s 346ms/step - loss: 0.6792 - accuracy: 0.7280 - val_loss: 0.6839 - val_accuracy: 0.8095\n",
            "Epoch 125/200\n",
            "12/12 [==============================] - 5s 433ms/step - loss: 0.6697 - accuracy: 0.7280 - val_loss: 0.6819 - val_accuracy: 0.8095\n",
            "Epoch 126/200\n",
            "12/12 [==============================] - 5s 393ms/step - loss: 0.6590 - accuracy: 0.7467 - val_loss: 0.6797 - val_accuracy: 0.8095\n",
            "Epoch 127/200\n",
            "12/12 [==============================] - 5s 366ms/step - loss: 0.6396 - accuracy: 0.7707 - val_loss: 0.6776 - val_accuracy: 0.8095\n",
            "Epoch 128/200\n",
            "12/12 [==============================] - 4s 340ms/step - loss: 0.6701 - accuracy: 0.7333 - val_loss: 0.6756 - val_accuracy: 0.8095\n",
            "Epoch 129/200\n",
            "12/12 [==============================] - 5s 431ms/step - loss: 0.6340 - accuracy: 0.7707 - val_loss: 0.6735 - val_accuracy: 0.8095\n",
            "Epoch 130/200\n",
            "12/12 [==============================] - 4s 340ms/step - loss: 0.6572 - accuracy: 0.7520 - val_loss: 0.6721 - val_accuracy: 0.8095\n",
            "Epoch 131/200\n",
            "12/12 [==============================] - 4s 338ms/step - loss: 0.6483 - accuracy: 0.7547 - val_loss: 0.6704 - val_accuracy: 0.8095\n",
            "Epoch 132/200\n",
            "12/12 [==============================] - 5s 452ms/step - loss: 0.6506 - accuracy: 0.7520 - val_loss: 0.6687 - val_accuracy: 0.8095\n",
            "Epoch 133/200\n",
            "12/12 [==============================] - 4s 348ms/step - loss: 0.6613 - accuracy: 0.7627 - val_loss: 0.6668 - val_accuracy: 0.8095\n",
            "Epoch 134/200\n",
            "12/12 [==============================] - 4s 339ms/step - loss: 0.6472 - accuracy: 0.7653 - val_loss: 0.6653 - val_accuracy: 0.8095\n",
            "Epoch 135/200\n",
            "12/12 [==============================] - 5s 458ms/step - loss: 0.6435 - accuracy: 0.7493 - val_loss: 0.6639 - val_accuracy: 0.8095\n",
            "Epoch 136/200\n",
            "12/12 [==============================] - 4s 341ms/step - loss: 0.6215 - accuracy: 0.7547 - val_loss: 0.6623 - val_accuracy: 0.8095\n",
            "Epoch 137/200\n",
            "12/12 [==============================] - 4s 335ms/step - loss: 0.6379 - accuracy: 0.7467 - val_loss: 0.6602 - val_accuracy: 0.8095\n",
            "Epoch 138/200\n",
            "12/12 [==============================] - 5s 457ms/step - loss: 0.6353 - accuracy: 0.7387 - val_loss: 0.6583 - val_accuracy: 0.8095\n",
            "Epoch 139/200\n",
            "12/12 [==============================] - 4s 343ms/step - loss: 0.6304 - accuracy: 0.7547 - val_loss: 0.6563 - val_accuracy: 0.8095\n",
            "Epoch 140/200\n",
            "12/12 [==============================] - 4s 338ms/step - loss: 0.6366 - accuracy: 0.7707 - val_loss: 0.6548 - val_accuracy: 0.8095\n",
            "Epoch 141/200\n",
            "12/12 [==============================] - 5s 458ms/step - loss: 0.6125 - accuracy: 0.7813 - val_loss: 0.6529 - val_accuracy: 0.8095\n",
            "Epoch 142/200\n",
            "12/12 [==============================] - 5s 371ms/step - loss: 0.6423 - accuracy: 0.7520 - val_loss: 0.6519 - val_accuracy: 0.8095\n",
            "Epoch 143/200\n",
            "12/12 [==============================] - 5s 353ms/step - loss: 0.6378 - accuracy: 0.7600 - val_loss: 0.6507 - val_accuracy: 0.8095\n",
            "Epoch 144/200\n",
            "12/12 [==============================] - 4s 338ms/step - loss: 0.6263 - accuracy: 0.7627 - val_loss: 0.6496 - val_accuracy: 0.8095\n",
            "Epoch 145/200\n",
            "12/12 [==============================] - 5s 443ms/step - loss: 0.6259 - accuracy: 0.7520 - val_loss: 0.6479 - val_accuracy: 0.8095\n",
            "Epoch 146/200\n",
            "12/12 [==============================] - 4s 341ms/step - loss: 0.5941 - accuracy: 0.7840 - val_loss: 0.6457 - val_accuracy: 0.8095\n",
            "Epoch 147/200\n",
            "12/12 [==============================] - 5s 463ms/step - loss: 0.6168 - accuracy: 0.7600 - val_loss: 0.6433 - val_accuracy: 0.8095\n",
            "Epoch 148/200\n",
            "12/12 [==============================] - 4s 344ms/step - loss: 0.6018 - accuracy: 0.7653 - val_loss: 0.6420 - val_accuracy: 0.8095\n",
            "Epoch 149/200\n",
            "12/12 [==============================] - 4s 343ms/step - loss: 0.6072 - accuracy: 0.7680 - val_loss: 0.6408 - val_accuracy: 0.8095\n",
            "Epoch 150/200\n",
            "12/12 [==============================] - 5s 466ms/step - loss: 0.6248 - accuracy: 0.7440 - val_loss: 0.6395 - val_accuracy: 0.8095\n",
            "Epoch 151/200\n",
            "12/12 [==============================] - 4s 340ms/step - loss: 0.6191 - accuracy: 0.7680 - val_loss: 0.6383 - val_accuracy: 0.8095\n",
            "Epoch 152/200\n",
            "12/12 [==============================] - 4s 356ms/step - loss: 0.5953 - accuracy: 0.7840 - val_loss: 0.6371 - val_accuracy: 0.8095\n",
            "Epoch 153/200\n",
            "12/12 [==============================] - 5s 365ms/step - loss: 0.6135 - accuracy: 0.7627 - val_loss: 0.6358 - val_accuracy: 0.8095\n",
            "Epoch 154/200\n",
            "12/12 [==============================] - 4s 353ms/step - loss: 0.5949 - accuracy: 0.7733 - val_loss: 0.6347 - val_accuracy: 0.8095\n",
            "Epoch 155/200\n",
            "12/12 [==============================] - 5s 423ms/step - loss: 0.5990 - accuracy: 0.7707 - val_loss: 0.6336 - val_accuracy: 0.8095\n",
            "Epoch 156/200\n",
            "12/12 [==============================] - 4s 342ms/step - loss: 0.6166 - accuracy: 0.7493 - val_loss: 0.6318 - val_accuracy: 0.8095\n",
            "Epoch 157/200\n",
            "12/12 [==============================] - 4s 345ms/step - loss: 0.5785 - accuracy: 0.7680 - val_loss: 0.6311 - val_accuracy: 0.8095\n",
            "Epoch 158/200\n",
            "12/12 [==============================] - 5s 468ms/step - loss: 0.5857 - accuracy: 0.7813 - val_loss: 0.6297 - val_accuracy: 0.8333\n",
            "Epoch 159/200\n",
            "12/12 [==============================] - 4s 337ms/step - loss: 0.6013 - accuracy: 0.7733 - val_loss: 0.6285 - val_accuracy: 0.8333\n",
            "Epoch 160/200\n",
            "12/12 [==============================] - 4s 343ms/step - loss: 0.5928 - accuracy: 0.7547 - val_loss: 0.6277 - val_accuracy: 0.8095\n",
            "Epoch 161/200\n",
            "12/12 [==============================] - 5s 454ms/step - loss: 0.5722 - accuracy: 0.7840 - val_loss: 0.6267 - val_accuracy: 0.8095\n",
            "Epoch 162/200\n",
            "12/12 [==============================] - 4s 338ms/step - loss: 0.5663 - accuracy: 0.7733 - val_loss: 0.6252 - val_accuracy: 0.8095\n",
            "Epoch 163/200\n",
            "12/12 [==============================] - 5s 442ms/step - loss: 0.5837 - accuracy: 0.7680 - val_loss: 0.6236 - val_accuracy: 0.8095\n",
            "Epoch 164/200\n",
            "12/12 [==============================] - 4s 338ms/step - loss: 0.5744 - accuracy: 0.7813 - val_loss: 0.6228 - val_accuracy: 0.8095\n",
            "Epoch 165/200\n",
            "12/12 [==============================] - 4s 360ms/step - loss: 0.5537 - accuracy: 0.8000 - val_loss: 0.6214 - val_accuracy: 0.8095\n",
            "Epoch 166/200\n",
            "12/12 [==============================] - 5s 364ms/step - loss: 0.5586 - accuracy: 0.7600 - val_loss: 0.6206 - val_accuracy: 0.8095\n",
            "Epoch 167/200\n",
            "12/12 [==============================] - 4s 338ms/step - loss: 0.5771 - accuracy: 0.7867 - val_loss: 0.6202 - val_accuracy: 0.8095\n",
            "Epoch 168/200\n",
            "12/12 [==============================] - 5s 425ms/step - loss: 0.5901 - accuracy: 0.7627 - val_loss: 0.6189 - val_accuracy: 0.8095\n",
            "Epoch 169/200\n",
            "12/12 [==============================] - 4s 341ms/step - loss: 0.5646 - accuracy: 0.7867 - val_loss: 0.6175 - val_accuracy: 0.8095\n",
            "Epoch 170/200\n",
            "12/12 [==============================] - 4s 341ms/step - loss: 0.5437 - accuracy: 0.7760 - val_loss: 0.6155 - val_accuracy: 0.8095\n",
            "Epoch 171/200\n",
            "12/12 [==============================] - 5s 450ms/step - loss: 0.5449 - accuracy: 0.7893 - val_loss: 0.6138 - val_accuracy: 0.8333\n",
            "Epoch 172/200\n",
            "12/12 [==============================] - 4s 340ms/step - loss: 0.5684 - accuracy: 0.7893 - val_loss: 0.6124 - val_accuracy: 0.8333\n",
            "Epoch 173/200\n",
            "12/12 [==============================] - 4s 342ms/step - loss: 0.5484 - accuracy: 0.8027 - val_loss: 0.6111 - val_accuracy: 0.8095\n",
            "Epoch 174/200\n",
            "12/12 [==============================] - 5s 455ms/step - loss: 0.5681 - accuracy: 0.7867 - val_loss: 0.6107 - val_accuracy: 0.8095\n",
            "Epoch 175/200\n",
            "12/12 [==============================] - 4s 340ms/step - loss: 0.5519 - accuracy: 0.7840 - val_loss: 0.6095 - val_accuracy: 0.8095\n",
            "Epoch 176/200\n",
            "12/12 [==============================] - 4s 341ms/step - loss: 0.5534 - accuracy: 0.7867 - val_loss: 0.6089 - val_accuracy: 0.8095\n",
            "Epoch 177/200\n",
            "12/12 [==============================] - 5s 366ms/step - loss: 0.5684 - accuracy: 0.7600 - val_loss: 0.6077 - val_accuracy: 0.8095\n",
            "Epoch 178/200\n",
            "12/12 [==============================] - 4s 353ms/step - loss: 0.5704 - accuracy: 0.7680 - val_loss: 0.6069 - val_accuracy: 0.8095\n",
            "Epoch 179/200\n",
            "12/12 [==============================] - 5s 420ms/step - loss: 0.5456 - accuracy: 0.7947 - val_loss: 0.6061 - val_accuracy: 0.8095\n",
            "Epoch 180/200\n",
            "12/12 [==============================] - 4s 342ms/step - loss: 0.5405 - accuracy: 0.7867 - val_loss: 0.6050 - val_accuracy: 0.8095\n",
            "Epoch 181/200\n",
            "12/12 [==============================] - 4s 337ms/step - loss: 0.5592 - accuracy: 0.7760 - val_loss: 0.6036 - val_accuracy: 0.8095\n",
            "Epoch 182/200\n",
            "12/12 [==============================] - 5s 459ms/step - loss: 0.5655 - accuracy: 0.7920 - val_loss: 0.6024 - val_accuracy: 0.8095\n",
            "Epoch 183/200\n",
            "12/12 [==============================] - 4s 339ms/step - loss: 0.5547 - accuracy: 0.7760 - val_loss: 0.6012 - val_accuracy: 0.8095\n",
            "Epoch 184/200\n",
            "12/12 [==============================] - 4s 345ms/step - loss: 0.5281 - accuracy: 0.7920 - val_loss: 0.5998 - val_accuracy: 0.8095\n",
            "Epoch 185/200\n",
            "12/12 [==============================] - 5s 352ms/step - loss: 0.5456 - accuracy: 0.7893 - val_loss: 0.5990 - val_accuracy: 0.8095\n",
            "Epoch 186/200\n",
            "12/12 [==============================] - 4s 340ms/step - loss: 0.5561 - accuracy: 0.7787 - val_loss: 0.5981 - val_accuracy: 0.8095\n",
            "Epoch 187/200\n",
            "12/12 [==============================] - 5s 457ms/step - loss: 0.5321 - accuracy: 0.7867 - val_loss: 0.5979 - val_accuracy: 0.8095\n",
            "Epoch 188/200\n",
            "12/12 [==============================] - 4s 340ms/step - loss: 0.5689 - accuracy: 0.7867 - val_loss: 0.5975 - val_accuracy: 0.8095\n",
            "Epoch 189/200\n",
            "12/12 [==============================] - 4s 336ms/step - loss: 0.5575 - accuracy: 0.7840 - val_loss: 0.5962 - val_accuracy: 0.8095\n",
            "Epoch 190/200\n",
            "12/12 [==============================] - 5s 453ms/step - loss: 0.5344 - accuracy: 0.8000 - val_loss: 0.5951 - val_accuracy: 0.8095\n",
            "Epoch 191/200\n",
            "12/12 [==============================] - 4s 347ms/step - loss: 0.5480 - accuracy: 0.8000 - val_loss: 0.5939 - val_accuracy: 0.8095\n",
            "Epoch 192/200\n",
            "12/12 [==============================] - 4s 337ms/step - loss: 0.5402 - accuracy: 0.8000 - val_loss: 0.5941 - val_accuracy: 0.8095\n",
            "Epoch 193/200\n",
            "12/12 [==============================] - 5s 435ms/step - loss: 0.5331 - accuracy: 0.7973 - val_loss: 0.5931 - val_accuracy: 0.8095\n",
            "Epoch 194/200\n",
            "12/12 [==============================] - 5s 420ms/step - loss: 0.5478 - accuracy: 0.7733 - val_loss: 0.5915 - val_accuracy: 0.8095\n",
            "Epoch 195/200\n",
            "12/12 [==============================] - 4s 341ms/step - loss: 0.5443 - accuracy: 0.7920 - val_loss: 0.5904 - val_accuracy: 0.8095\n",
            "Epoch 196/200\n",
            "12/12 [==============================] - 4s 343ms/step - loss: 0.5298 - accuracy: 0.8053 - val_loss: 0.5900 - val_accuracy: 0.8095\n",
            "Epoch 197/200\n",
            "12/12 [==============================] - 5s 459ms/step - loss: 0.5288 - accuracy: 0.7733 - val_loss: 0.5886 - val_accuracy: 0.8095\n",
            "Epoch 198/200\n",
            "12/12 [==============================] - 4s 340ms/step - loss: 0.5324 - accuracy: 0.7840 - val_loss: 0.5876 - val_accuracy: 0.8095\n",
            "Epoch 199/200\n",
            "12/12 [==============================] - 4s 337ms/step - loss: 0.5193 - accuracy: 0.7920 - val_loss: 0.5869 - val_accuracy: 0.8095\n",
            "Epoch 200/200\n",
            "12/12 [==============================] - 6s 461ms/step - loss: 0.5301 - accuracy: 0.7947 - val_loss: 0.5861 - val_accuracy: 0.8095\n"
          ]
        }
      ]
    },
    {
      "cell_type": "code",
      "source": [
        "from sklearn.metrics import confusion_matrix, classification_report\n",
        "import numpy as np\n",
        "import matplotlib.pyplot as plt\n",
        "import seaborn as sns\n",
        "\n",
        "Y_pred = model_resnet50ver2.predict(X_test)\n",
        "Y_pred_classes = np.argmax(Y_pred, axis=1)\n",
        "Y_true = np.argmax(Y_test, axis=1)\n",
        "\n",
        "conf_matrix = confusion_matrix(Y_true, Y_pred_classes)\n",
        "\n",
        "plt.figure(figsize=(8, 6))\n",
        "sns.heatmap(conf_matrix, annot=True, fmt=\"d\", cmap=\"Blues\", xticklabels=['Common_Rust', 'Healthy', 'Gray_Leaf_Spot', 'Blight'], yticklabels=['Common_Rust', 'Healthy', 'Gray_Leaf_Spot', 'Blight'])\n",
        "plt.xlabel('Predicted labels')\n",
        "plt.ylabel('True labels')\n",
        "plt.title('Confusion Matrix')\n",
        "plt.show()\n",
        "\n",
        "class_report = classification_report(Y_true, Y_pred_classes)\n",
        "\n",
        "print(\"\\nClassification Report:\")\n",
        "print(class_report)\n"
      ],
      "metadata": {
        "colab": {
          "base_uri": "https://localhost:8080/",
          "height": 931
        },
        "id": "YWvBAbaMInI-",
        "outputId": "01afdb01-f82a-4eac-fa38-984d6d7ccd5b"
      },
      "execution_count": 32,
      "outputs": [
        {
          "output_type": "stream",
          "name": "stdout",
          "text": [
            "2/2 [==============================] - 1s 119ms/step\n"
          ]
        },
        {
          "output_type": "display_data",
          "data": {
            "text/plain": [
              "<Figure size 800x600 with 2 Axes>"
            ],
            "image/png": "[encoded data removed]"
          },
          "metadata": {}
        },
        {
          "output_type": "stream",
          "name": "stdout",
          "text": [
            "\n",
            "Classification Report:\n",
            "              precision    recall  f1-score   support\n",
            "\n",
            "           0       0.76      0.87      0.81        15\n",
            "           1       0.79      0.94      0.86        16\n",
            "           2       0.00      0.00      0.00         5\n",
            "           3       1.00      1.00      1.00         6\n",
            "\n",
            "    accuracy                           0.81        42\n",
            "   macro avg       0.64      0.70      0.67        42\n",
            "weighted avg       0.72      0.81      0.76        42\n",
            "\n"
          ]
        },
        {
          "output_type": "stream",
          "name": "stderr",
          "text": [
            "/usr/local/lib/python3.10/dist-packages/sklearn/metrics/_classification.py:1344: UndefinedMetricWarning: Precision and F-score are ill-defined and being set to 0.0 in labels with no predicted samples. Use `zero_division` parameter to control this behavior.\n",
            "  _warn_prf(average, modifier, msg_start, len(result))\n",
            "/usr/local/lib/python3.10/dist-packages/sklearn/metrics/_classification.py:1344: UndefinedMetricWarning: Precision and F-score are ill-defined and being set to 0.0 in labels with no predicted samples. Use `zero_division` parameter to control this behavior.\n",
            "  _warn_prf(average, modifier, msg_start, len(result))\n",
            "/usr/local/lib/python3.10/dist-packages/sklearn/metrics/_classification.py:1344: UndefinedMetricWarning: Precision and F-score are ill-defined and being set to 0.0 in labels with no predicted samples. Use `zero_division` parameter to control this behavior.\n",
            "  _warn_prf(average, modifier, msg_start, len(result))\n"
          ]
        }
      ]
    }
  ]
}