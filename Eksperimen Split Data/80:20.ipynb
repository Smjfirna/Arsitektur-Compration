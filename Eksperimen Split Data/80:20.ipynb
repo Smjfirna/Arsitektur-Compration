{
  "nbformat": 4,
  "nbformat_minor": 0,
  "metadata": {
    "colab": {
      "provenance": [],
      "gpuType": "T4",
      "include_colab_link": true
    },
    "kernelspec": {
      "name": "python3",
      "display_name": "Python 3"
    },
    "language_info": {
      "name": "python"
    },
    "accelerator": "GPU"
  },
  "cells": [
    {
      "cell_type": "markdown",
      "metadata": {
        "id": "view-in-github",
        "colab_type": "text"
      },
      "source": [
        "<a href=\"https://colab.research.google.com/github/Smjfirna/Arsitektur-Compration/blob/main/Eksperimen%20Split%20Data/80%3A20.ipynb\" target=\"_parent\"><img src=\"https://colab.research.google.com/assets/colab-badge.svg\" alt=\"Open In Colab\"/></a>"
      ]
    },
    {
      "cell_type": "code",
      "source": [
        "import os\n",
        "import cv2\n",
        "import numpy as np\n",
        "from tqdm import tqdm\n",
        "from sklearn.model_selection import train_test_split\n",
        "from sklearn.preprocessing import LabelEncoder\n",
        "from keras.utils import to_categorical\n",
        "\n",
        "import tensorflow as tf\n",
        "from tensorflow.keras.preprocessing.image import ImageDataGenerator\n",
        "from tensorflow.keras.models import Sequential\n",
        "from tensorflow.keras import layers, Model, regularizers\n",
        "from tensorflow.keras.callbacks import EarlyStopping\n",
        "from tensorflow.keras.layers import Conv2D, MaxPooling2D, Flatten, Dense, GlobalAveragePooling2D, Dropout\n",
        "import os\n",
        "from tensorflow.keras.optimizers import Adam\n",
        "from tensorflow.keras.optimizers import RMSprop\n",
        "\n",
        "from keras.applications import ResNet50"
      ],
      "metadata": {
        "id": "LaloGmhuhwP-"
      },
      "execution_count": 1,
      "outputs": []
    },
    {
      "cell_type": "code",
      "execution_count": 2,
      "metadata": {
        "colab": {
          "base_uri": "https://localhost:8080/"
        },
        "id": "d_i5Zy9kdLGU",
        "outputId": "73997e5e-6584-4f36-b4f6-af00a81b4951"
      },
      "outputs": [
        {
          "output_type": "stream",
          "name": "stdout",
          "text": [
            "Mounted at /content/drive\n"
          ]
        }
      ],
      "source": [
        "from google.colab import drive\n",
        "drive.mount('/content/drive')"
      ]
    },
    {
      "cell_type": "code",
      "source": [
        "dataset_dir = \"/content/drive/MyDrive/Skripsi/Data Sample 10\"\n",
        "\n",
        "print(os.listdir(dataset_dir))"
      ],
      "metadata": {
        "colab": {
          "base_uri": "https://localhost:8080/"
        },
        "id": "c60kX1_DjBPd",
        "outputId": "a2c88fd0-4f0e-4008-b182-e731141724bf"
      },
      "execution_count": 3,
      "outputs": [
        {
          "output_type": "stream",
          "name": "stdout",
          "text": [
            "['Healthy', 'Blight', 'Gray_Leaf_Spot', 'Common_Rust']\n"
          ]
        }
      ]
    },
    {
      "cell_type": "code",
      "source": [
        "size_resnet50 = 224"
      ],
      "metadata": {
        "id": "Mjg6pdK1DO1a"
      },
      "execution_count": 4,
      "outputs": []
    },
    {
      "cell_type": "code",
      "source": [
        "def make_data(label, DIR, img_list, label_list):\n",
        "    for img in tqdm(os.listdir(DIR)):\n",
        "        path = os.path.join(DIR, img)\n",
        "        img = cv2.imread(path, cv2.IMREAD_COLOR)\n",
        "        img = cv2.resize(img, (size_resnet50, size_resnet50))\n",
        "        img_list.append(np.array(img))\n",
        "        label_list.append(str(label))"
      ],
      "metadata": {
        "id": "XgNY4FGvD-BF"
      },
      "execution_count": 5,
      "outputs": []
    },
    {
      "cell_type": "code",
      "source": [
        "X = []\n",
        "Z = []"
      ],
      "metadata": {
        "id": "HPv9tP13DXm6"
      },
      "execution_count": 6,
      "outputs": []
    },
    {
      "cell_type": "code",
      "source": [
        "for i, class_name in enumerate(['Common_Rust', 'Healthy', 'Gray_Leaf_Spot', 'Blight']):\n",
        "    class_dir = os.path.join(dataset_dir, class_name)\n",
        "    make_data(class_name, class_dir, X, Z)"
      ],
      "metadata": {
        "colab": {
          "base_uri": "https://localhost:8080/"
        },
        "id": "L7CgU46UDc6d",
        "outputId": "665460ac-2a7c-4c52-f716-1b0b7eccca52"
      },
      "execution_count": 7,
      "outputs": [
        {
          "output_type": "stream",
          "name": "stderr",
          "text": [
            "100%|██████████| 130/130 [00:07<00:00, 17.37it/s]\n",
            "100%|██████████| 116/116 [00:03<00:00, 30.99it/s] \n",
            "100%|██████████| 57/57 [00:45<00:00,  1.27it/s]\n",
            "100%|██████████| 114/114 [00:14<00:00,  7.64it/s]\n"
          ]
        }
      ]
    },
    {
      "cell_type": "code",
      "source": [
        "import matplotlib.pyplot as plt\n",
        "\n",
        "# Menghitung jumlah data untuk setiap kelas\n",
        "class_counts = {class_name: Z.count(class_name) for class_name in set(Z)}\n",
        "\n",
        "# Menampilkan visualisasi jumlah data\n",
        "plt.figure(figsize=(4, 4))\n",
        "plt.bar(class_counts.keys(), class_counts.values())\n",
        "plt.xlabel('Class')\n",
        "plt.ylabel('Count')\n",
        "plt.title('Number of Data Samples for Each Class')\n",
        "plt.show()"
      ],
      "metadata": {
        "colab": {
          "base_uri": "https://localhost:8080/",
          "height": 410
        },
        "id": "jWbdII-8E9kW",
        "outputId": "936893c7-3ee9-44ca-ec52-ab75ebb6e9d4"
      },
      "execution_count": 8,
      "outputs": [
        {
          "output_type": "display_data",
          "data": {
            "text/plain": [
              "<Figure size 400x400 with 1 Axes>"
            ],
            "image/png": "[encoded data removed]"
          },
          "metadata": {}
        }
      ]
    },
    {
      "cell_type": "code",
      "source": [
        "le = LabelEncoder()\n",
        "Y = le.fit_transform(Z)\n",
        "Y = to_categorical(Y, num_classes=len(le.classes_))\n",
        "\n",
        "# Konversi ke array numpy\n",
        "X = np.array(X)\n",
        "\n",
        "# Memisahkan data menjadi data latih dan data uji\n",
        "X_train, X_test, Y_train, Y_test = train_test_split(X, Y, test_size=0.2, random_state=42)\n",
        "\n",
        "print(\"Jumlah Data Train adalah :\", len(X_train))\n",
        "print(\"Jumlah Data Test adalah :\", len(X_test))"
      ],
      "metadata": {
        "colab": {
          "base_uri": "https://localhost:8080/"
        },
        "id": "LFG1SJ3OFPWV",
        "outputId": "052d1fa6-fba2-4be9-838c-8bfb7f284002"
      },
      "execution_count": 33,
      "outputs": [
        {
          "output_type": "stream",
          "name": "stdout",
          "text": [
            "Jumlah Data Train adalah : 333\n",
            "Jumlah Data Test adalah : 84\n"
          ]
        }
      ]
    },
    {
      "cell_type": "code",
      "source": [
        "datagen = ImageDataGenerator(\n",
        "    rotation_range=20,\n",
        "    zoom_range=0.2,\n",
        "    horizontal_flip=True,\n",
        ")\n",
        "\n",
        "datagen.fit(X_train)"
      ],
      "metadata": {
        "id": "l_s_dW_k2OKD"
      },
      "execution_count": 34,
      "outputs": []
    },
    {
      "cell_type": "code",
      "source": [
        "resnet50 = ResNet50(include_top=False, weights='imagenet', input_shape=(size_resnet50, size_resnet50, 3))\n",
        "\n",
        "# Membuat model Sequential\n",
        "model_resnet50ver2 = Sequential()\n",
        "model_resnet50ver2.add(resnet50)\n",
        "model_resnet50ver2.add(GlobalAveragePooling2D())\n",
        "model_resnet50ver2.add(Dense(4, activation='softmax'))\n",
        "\n",
        "# Membekukan layer-layer ResNet50 yang telah dilatih\n",
        "for layer in resnet50.layers:\n",
        "    layer.trainable = False\n",
        "\n",
        "# Mengompilasi model dengan optimizer Adam dan loss function categorical crossentropy\n",
        "model_resnet50ver2.compile(optimizer=Adam(learning_rate=1e-5), loss='categorical_crossentropy', metrics=['accuracy'])\n",
        "\n",
        "# Menampilkan summary dari model\n",
        "model_resnet50ver2.summary()\n",
        "\n",
        "# Melatih model dengan data latih dan validasi\n",
        "history_resnet50ver2 = model_resnet50ver2.fit(datagen.flow(X_train, Y_train), epochs=200, validation_data=(X_test, Y_test))"
      ],
      "metadata": {
        "colab": {
          "base_uri": "https://localhost:8080/"
        },
        "id": "L4NJLS5-FT93",
        "outputId": "a0b503eb-38e7-4463-c533-28e6e2bda794"
      },
      "execution_count": 35,
      "outputs": [
        {
          "output_type": "stream",
          "name": "stdout",
          "text": [
            "Model: \"sequential_6\"\n",
            "_________________________________________________________________\n",
            " Layer (type)                Output Shape              Param #   \n",
            "=================================================================\n",
            " resnet50 (Functional)       (None, 7, 7, 2048)        23587712  \n",
            "                                                                 \n",
            " global_average_pooling2d_6  (None, 2048)              0         \n",
            "  (GlobalAveragePooling2D)                                       \n",
            "                                                                 \n",
            " dense_6 (Dense)             (None, 4)                 8196      \n",
            "                                                                 \n",
            "=================================================================\n",
            "Total params: 23595908 (90.01 MB)\n",
            "Trainable params: 8196 (32.02 KB)\n",
            "Non-trainable params: 23587712 (89.98 MB)\n",
            "_________________________________________________________________\n",
            "Epoch 1/200\n",
            "11/11 [==============================] - 8s 426ms/step - loss: 1.5791 - accuracy: 0.3724 - val_loss: 1.4517 - val_accuracy: 0.4286\n",
            "Epoch 2/200\n",
            "11/11 [==============================] - 4s 357ms/step - loss: 1.5912 - accuracy: 0.3754 - val_loss: 1.4254 - val_accuracy: 0.4405\n",
            "Epoch 3/200\n",
            "11/11 [==============================] - 4s 346ms/step - loss: 1.5417 - accuracy: 0.3874 - val_loss: 1.4042 - val_accuracy: 0.4405\n",
            "Epoch 4/200\n",
            "11/11 [==============================] - 4s 347ms/step - loss: 1.5031 - accuracy: 0.3904 - val_loss: 1.3809 - val_accuracy: 0.4524\n",
            "Epoch 5/200\n",
            "11/11 [==============================] - 5s 413ms/step - loss: 1.4413 - accuracy: 0.4084 - val_loss: 1.3620 - val_accuracy: 0.4524\n",
            "Epoch 6/200\n",
            "11/11 [==============================] - 4s 356ms/step - loss: 1.4738 - accuracy: 0.3994 - val_loss: 1.3435 - val_accuracy: 0.4524\n",
            "Epoch 7/200\n",
            "11/11 [==============================] - 4s 365ms/step - loss: 1.3964 - accuracy: 0.4234 - val_loss: 1.3259 - val_accuracy: 0.4643\n",
            "Epoch 8/200\n",
            "11/11 [==============================] - 4s 381ms/step - loss: 1.3729 - accuracy: 0.4414 - val_loss: 1.3079 - val_accuracy: 0.4643\n",
            "Epoch 9/200\n",
            "11/11 [==============================] - 5s 399ms/step - loss: 1.3540 - accuracy: 0.4294 - val_loss: 1.2918 - val_accuracy: 0.4643\n",
            "Epoch 10/200\n",
            "11/11 [==============================] - 4s 340ms/step - loss: 1.3544 - accuracy: 0.4144 - val_loss: 1.2784 - val_accuracy: 0.4643\n",
            "Epoch 11/200\n",
            "11/11 [==============================] - 4s 345ms/step - loss: 1.3160 - accuracy: 0.4414 - val_loss: 1.2626 - val_accuracy: 0.4762\n",
            "Epoch 12/200\n",
            "11/11 [==============================] - 5s 430ms/step - loss: 1.3187 - accuracy: 0.4625 - val_loss: 1.2501 - val_accuracy: 0.4881\n",
            "Epoch 13/200\n",
            "11/11 [==============================] - 4s 367ms/step - loss: 1.3340 - accuracy: 0.4474 - val_loss: 1.2372 - val_accuracy: 0.4881\n",
            "Epoch 14/200\n",
            "11/11 [==============================] - 4s 368ms/step - loss: 1.3024 - accuracy: 0.4655 - val_loss: 1.2250 - val_accuracy: 0.4881\n",
            "Epoch 15/200\n",
            "11/11 [==============================] - 5s 445ms/step - loss: 1.3042 - accuracy: 0.4414 - val_loss: 1.2112 - val_accuracy: 0.4881\n",
            "Epoch 16/200\n",
            "11/11 [==============================] - 4s 337ms/step - loss: 1.2886 - accuracy: 0.4595 - val_loss: 1.1991 - val_accuracy: 0.5000\n",
            "Epoch 17/200\n",
            "11/11 [==============================] - 4s 372ms/step - loss: 1.2561 - accuracy: 0.4805 - val_loss: 1.1880 - val_accuracy: 0.5000\n",
            "Epoch 18/200\n",
            "11/11 [==============================] - 5s 391ms/step - loss: 1.2687 - accuracy: 0.4685 - val_loss: 1.1760 - val_accuracy: 0.5119\n",
            "Epoch 19/200\n",
            "11/11 [==============================] - 4s 343ms/step - loss: 1.2258 - accuracy: 0.5345 - val_loss: 1.1652 - val_accuracy: 0.5119\n",
            "Epoch 20/200\n",
            "11/11 [==============================] - 4s 342ms/step - loss: 1.2239 - accuracy: 0.4895 - val_loss: 1.1536 - val_accuracy: 0.5119\n",
            "Epoch 21/200\n",
            "11/11 [==============================] - 4s 343ms/step - loss: 1.1879 - accuracy: 0.5045 - val_loss: 1.1438 - val_accuracy: 0.5119\n",
            "Epoch 22/200\n",
            "11/11 [==============================] - 4s 336ms/step - loss: 1.2127 - accuracy: 0.5105 - val_loss: 1.1324 - val_accuracy: 0.5238\n",
            "Epoch 23/200\n",
            "11/11 [==============================] - 4s 409ms/step - loss: 1.1638 - accuracy: 0.5465 - val_loss: 1.1217 - val_accuracy: 0.5238\n",
            "Epoch 24/200\n",
            "11/11 [==============================] - 4s 380ms/step - loss: 1.1472 - accuracy: 0.5315 - val_loss: 1.1110 - val_accuracy: 0.5119\n",
            "Epoch 25/200\n",
            "11/11 [==============================] - 4s 347ms/step - loss: 1.1660 - accuracy: 0.5225 - val_loss: 1.1013 - val_accuracy: 0.5238\n",
            "Epoch 26/200\n",
            "11/11 [==============================] - 4s 396ms/step - loss: 1.1460 - accuracy: 0.5285 - val_loss: 1.0919 - val_accuracy: 0.5476\n",
            "Epoch 27/200\n",
            "11/11 [==============================] - 5s 397ms/step - loss: 1.1804 - accuracy: 0.5285 - val_loss: 1.0809 - val_accuracy: 0.5595\n",
            "Epoch 28/200\n",
            "11/11 [==============================] - 4s 348ms/step - loss: 1.1204 - accuracy: 0.5285 - val_loss: 1.0697 - val_accuracy: 0.5714\n",
            "Epoch 29/200\n",
            "11/11 [==============================] - 5s 431ms/step - loss: 1.0995 - accuracy: 0.5766 - val_loss: 1.0623 - val_accuracy: 0.5833\n",
            "Epoch 30/200\n",
            "11/11 [==============================] - 4s 374ms/step - loss: 1.0947 - accuracy: 0.5556 - val_loss: 1.0529 - val_accuracy: 0.5833\n",
            "Epoch 31/200\n",
            "11/11 [==============================] - 4s 337ms/step - loss: 1.0697 - accuracy: 0.5766 - val_loss: 1.0450 - val_accuracy: 0.5833\n",
            "Epoch 32/200\n",
            "11/11 [==============================] - 5s 467ms/step - loss: 1.0712 - accuracy: 0.5586 - val_loss: 1.0363 - val_accuracy: 0.5833\n",
            "Epoch 33/200\n",
            "11/11 [==============================] - 4s 344ms/step - loss: 1.0558 - accuracy: 0.5946 - val_loss: 1.0282 - val_accuracy: 0.5833\n",
            "Epoch 34/200\n",
            "11/11 [==============================] - 4s 336ms/step - loss: 1.0316 - accuracy: 0.5916 - val_loss: 1.0186 - val_accuracy: 0.5952\n",
            "Epoch 35/200\n",
            "11/11 [==============================] - 5s 466ms/step - loss: 1.0110 - accuracy: 0.5916 - val_loss: 1.0107 - val_accuracy: 0.5952\n",
            "Epoch 36/200\n",
            "11/11 [==============================] - 4s 348ms/step - loss: 1.0070 - accuracy: 0.6006 - val_loss: 1.0035 - val_accuracy: 0.5952\n",
            "Epoch 37/200\n",
            "11/11 [==============================] - 4s 349ms/step - loss: 1.0514 - accuracy: 0.5976 - val_loss: 0.9960 - val_accuracy: 0.5952\n",
            "Epoch 38/200\n",
            "11/11 [==============================] - 5s 482ms/step - loss: 0.9958 - accuracy: 0.5946 - val_loss: 0.9887 - val_accuracy: 0.6071\n",
            "Epoch 39/200\n",
            "11/11 [==============================] - 4s 347ms/step - loss: 1.0159 - accuracy: 0.5976 - val_loss: 0.9815 - val_accuracy: 0.6190\n",
            "Epoch 40/200\n",
            "11/11 [==============================] - 4s 346ms/step - loss: 1.0093 - accuracy: 0.6186 - val_loss: 0.9736 - val_accuracy: 0.6190\n",
            "Epoch 41/200\n",
            "11/11 [==============================] - 5s 405ms/step - loss: 0.9541 - accuracy: 0.6066 - val_loss: 0.9688 - val_accuracy: 0.6190\n",
            "Epoch 42/200\n",
            "11/11 [==============================] - 4s 341ms/step - loss: 0.9479 - accuracy: 0.6396 - val_loss: 0.9621 - val_accuracy: 0.6190\n",
            "Epoch 43/200\n",
            "11/11 [==============================] - 4s 342ms/step - loss: 0.9694 - accuracy: 0.6126 - val_loss: 0.9547 - val_accuracy: 0.6310\n",
            "Epoch 44/200\n",
            "11/11 [==============================] - 5s 430ms/step - loss: 0.9582 - accuracy: 0.6156 - val_loss: 0.9490 - val_accuracy: 0.6429\n",
            "Epoch 45/200\n",
            "11/11 [==============================] - 4s 338ms/step - loss: 0.9595 - accuracy: 0.6186 - val_loss: 0.9409 - val_accuracy: 0.6548\n",
            "Epoch 46/200\n",
            "11/11 [==============================] - 4s 344ms/step - loss: 0.9458 - accuracy: 0.6486 - val_loss: 0.9345 - val_accuracy: 0.6548\n",
            "Epoch 47/200\n",
            "11/11 [==============================] - 5s 462ms/step - loss: 0.9521 - accuracy: 0.6456 - val_loss: 0.9272 - val_accuracy: 0.6548\n",
            "Epoch 48/200\n",
            "11/11 [==============================] - 4s 342ms/step - loss: 0.9341 - accuracy: 0.6486 - val_loss: 0.9200 - val_accuracy: 0.6548\n",
            "Epoch 49/200\n",
            "11/11 [==============================] - 4s 333ms/step - loss: 0.9145 - accuracy: 0.6577 - val_loss: 0.9165 - val_accuracy: 0.6667\n",
            "Epoch 50/200\n",
            "11/11 [==============================] - 5s 473ms/step - loss: 0.9199 - accuracy: 0.6667 - val_loss: 0.9099 - val_accuracy: 0.6667\n",
            "Epoch 51/200\n",
            "11/11 [==============================] - 4s 344ms/step - loss: 0.9347 - accuracy: 0.6366 - val_loss: 0.9039 - val_accuracy: 0.6667\n",
            "Epoch 52/200\n",
            "11/11 [==============================] - 4s 350ms/step - loss: 0.9083 - accuracy: 0.6727 - val_loss: 0.8989 - val_accuracy: 0.6667\n",
            "Epoch 53/200\n",
            "11/11 [==============================] - 5s 465ms/step - loss: 0.8864 - accuracy: 0.6607 - val_loss: 0.8923 - val_accuracy: 0.6667\n",
            "Epoch 54/200\n",
            "11/11 [==============================] - 4s 355ms/step - loss: 0.9070 - accuracy: 0.6637 - val_loss: 0.8855 - val_accuracy: 0.6667\n",
            "Epoch 55/200\n",
            "11/11 [==============================] - 4s 343ms/step - loss: 0.8988 - accuracy: 0.6637 - val_loss: 0.8821 - val_accuracy: 0.6667\n",
            "Epoch 56/200\n",
            "11/11 [==============================] - 5s 468ms/step - loss: 0.8853 - accuracy: 0.6517 - val_loss: 0.8786 - val_accuracy: 0.6667\n",
            "Epoch 57/200\n",
            "11/11 [==============================] - 4s 340ms/step - loss: 0.8966 - accuracy: 0.6486 - val_loss: 0.8734 - val_accuracy: 0.6905\n",
            "Epoch 58/200\n",
            "11/11 [==============================] - 4s 346ms/step - loss: 0.8552 - accuracy: 0.6787 - val_loss: 0.8690 - val_accuracy: 0.6905\n",
            "Epoch 59/200\n",
            "11/11 [==============================] - 5s 467ms/step - loss: 0.8604 - accuracy: 0.6577 - val_loss: 0.8628 - val_accuracy: 0.6905\n",
            "Epoch 60/200\n",
            "11/11 [==============================] - 4s 344ms/step - loss: 0.8678 - accuracy: 0.6637 - val_loss: 0.8565 - val_accuracy: 0.6905\n",
            "Epoch 61/200\n",
            "11/11 [==============================] - 4s 339ms/step - loss: 0.8108 - accuracy: 0.7117 - val_loss: 0.8522 - val_accuracy: 0.6905\n",
            "Epoch 62/200\n",
            "11/11 [==============================] - 5s 466ms/step - loss: 0.8550 - accuracy: 0.6757 - val_loss: 0.8464 - val_accuracy: 0.6786\n",
            "Epoch 63/200\n",
            "11/11 [==============================] - 4s 347ms/step - loss: 0.8602 - accuracy: 0.6697 - val_loss: 0.8408 - val_accuracy: 0.6786\n",
            "Epoch 64/200\n",
            "11/11 [==============================] - 4s 343ms/step - loss: 0.8485 - accuracy: 0.6847 - val_loss: 0.8348 - val_accuracy: 0.6786\n",
            "Epoch 65/200\n",
            "11/11 [==============================] - 5s 493ms/step - loss: 0.8538 - accuracy: 0.6817 - val_loss: 0.8298 - val_accuracy: 0.6786\n",
            "Epoch 66/200\n",
            "11/11 [==============================] - 4s 343ms/step - loss: 0.8490 - accuracy: 0.6847 - val_loss: 0.8264 - val_accuracy: 0.6786\n",
            "Epoch 67/200\n",
            "11/11 [==============================] - 5s 464ms/step - loss: 0.8305 - accuracy: 0.6847 - val_loss: 0.8222 - val_accuracy: 0.6905\n",
            "Epoch 68/200\n",
            "11/11 [==============================] - 4s 346ms/step - loss: 0.8260 - accuracy: 0.6907 - val_loss: 0.8193 - val_accuracy: 0.6905\n",
            "Epoch 69/200\n",
            "11/11 [==============================] - 4s 346ms/step - loss: 0.8093 - accuracy: 0.7117 - val_loss: 0.8147 - val_accuracy: 0.6905\n",
            "Epoch 70/200\n",
            "11/11 [==============================] - 5s 445ms/step - loss: 0.8054 - accuracy: 0.7117 - val_loss: 0.8102 - val_accuracy: 0.6905\n",
            "Epoch 71/200\n",
            "11/11 [==============================] - 4s 372ms/step - loss: 0.8020 - accuracy: 0.6967 - val_loss: 0.8053 - val_accuracy: 0.7024\n",
            "Epoch 72/200\n",
            "11/11 [==============================] - 4s 363ms/step - loss: 0.7981 - accuracy: 0.6877 - val_loss: 0.8014 - val_accuracy: 0.7024\n",
            "Epoch 73/200\n",
            "11/11 [==============================] - 4s 375ms/step - loss: 0.7985 - accuracy: 0.7117 - val_loss: 0.7977 - val_accuracy: 0.7024\n",
            "Epoch 74/200\n",
            "11/11 [==============================] - 4s 338ms/step - loss: 0.7797 - accuracy: 0.7087 - val_loss: 0.7934 - val_accuracy: 0.7024\n",
            "Epoch 75/200\n",
            "11/11 [==============================] - 4s 363ms/step - loss: 0.7670 - accuracy: 0.7477 - val_loss: 0.7898 - val_accuracy: 0.7024\n",
            "Epoch 76/200\n",
            "11/11 [==============================] - 5s 413ms/step - loss: 0.7750 - accuracy: 0.6937 - val_loss: 0.7866 - val_accuracy: 0.7024\n",
            "Epoch 77/200\n",
            "11/11 [==============================] - 4s 344ms/step - loss: 0.7879 - accuracy: 0.7057 - val_loss: 0.7815 - val_accuracy: 0.7024\n",
            "Epoch 78/200\n",
            "11/11 [==============================] - 4s 341ms/step - loss: 0.7737 - accuracy: 0.7027 - val_loss: 0.7764 - val_accuracy: 0.7024\n",
            "Epoch 79/200\n",
            "11/11 [==============================] - 5s 441ms/step - loss: 0.7788 - accuracy: 0.7117 - val_loss: 0.7722 - val_accuracy: 0.7024\n",
            "Epoch 80/200\n",
            "11/11 [==============================] - 4s 346ms/step - loss: 0.7558 - accuracy: 0.7057 - val_loss: 0.7676 - val_accuracy: 0.7024\n",
            "Epoch 81/200\n",
            "11/11 [==============================] - 4s 344ms/step - loss: 0.7936 - accuracy: 0.7177 - val_loss: 0.7650 - val_accuracy: 0.7024\n",
            "Epoch 82/200\n",
            "11/11 [==============================] - 5s 457ms/step - loss: 0.7809 - accuracy: 0.7027 - val_loss: 0.7623 - val_accuracy: 0.7024\n",
            "Epoch 83/200\n",
            "11/11 [==============================] - 4s 344ms/step - loss: 0.7665 - accuracy: 0.7237 - val_loss: 0.7593 - val_accuracy: 0.7024\n",
            "Epoch 84/200\n",
            "11/11 [==============================] - 4s 367ms/step - loss: 0.7458 - accuracy: 0.7147 - val_loss: 0.7574 - val_accuracy: 0.7024\n",
            "Epoch 85/200\n",
            "11/11 [==============================] - 5s 400ms/step - loss: 0.7709 - accuracy: 0.7087 - val_loss: 0.7541 - val_accuracy: 0.7143\n",
            "Epoch 86/200\n",
            "11/11 [==============================] - 4s 341ms/step - loss: 0.7461 - accuracy: 0.7117 - val_loss: 0.7507 - val_accuracy: 0.7143\n",
            "Epoch 87/200\n",
            "11/11 [==============================] - 5s 438ms/step - loss: 0.7630 - accuracy: 0.7237 - val_loss: 0.7480 - val_accuracy: 0.7143\n",
            "Epoch 88/200\n",
            "11/11 [==============================] - 4s 345ms/step - loss: 0.7451 - accuracy: 0.7207 - val_loss: 0.7448 - val_accuracy: 0.7143\n",
            "Epoch 89/200\n",
            "11/11 [==============================] - 4s 346ms/step - loss: 0.7189 - accuracy: 0.7237 - val_loss: 0.7410 - val_accuracy: 0.7143\n",
            "Epoch 90/200\n",
            "11/11 [==============================] - 5s 465ms/step - loss: 0.7424 - accuracy: 0.7207 - val_loss: 0.7378 - val_accuracy: 0.7143\n",
            "Epoch 91/200\n",
            "11/11 [==============================] - 4s 341ms/step - loss: 0.7184 - accuracy: 0.7267 - val_loss: 0.7337 - val_accuracy: 0.7262\n",
            "Epoch 92/200\n",
            "11/11 [==============================] - 4s 346ms/step - loss: 0.7381 - accuracy: 0.7057 - val_loss: 0.7306 - val_accuracy: 0.7262\n",
            "Epoch 93/200\n",
            "11/11 [==============================] - 5s 469ms/step - loss: 0.7634 - accuracy: 0.6877 - val_loss: 0.7270 - val_accuracy: 0.7143\n",
            "Epoch 94/200\n",
            "11/11 [==============================] - 4s 348ms/step - loss: 0.7191 - accuracy: 0.7177 - val_loss: 0.7259 - val_accuracy: 0.7262\n",
            "Epoch 95/200\n",
            "11/11 [==============================] - 4s 339ms/step - loss: 0.7158 - accuracy: 0.7387 - val_loss: 0.7244 - val_accuracy: 0.7262\n",
            "Epoch 96/200\n",
            "11/11 [==============================] - 5s 465ms/step - loss: 0.7166 - accuracy: 0.7207 - val_loss: 0.7225 - val_accuracy: 0.7262\n",
            "Epoch 97/200\n",
            "11/11 [==============================] - 4s 340ms/step - loss: 0.7111 - accuracy: 0.7568 - val_loss: 0.7202 - val_accuracy: 0.7262\n",
            "Epoch 98/200\n",
            "11/11 [==============================] - 4s 344ms/step - loss: 0.6777 - accuracy: 0.7357 - val_loss: 0.7168 - val_accuracy: 0.7262\n",
            "Epoch 99/200\n",
            "11/11 [==============================] - 5s 430ms/step - loss: 0.6803 - accuracy: 0.7387 - val_loss: 0.7148 - val_accuracy: 0.7262\n",
            "Epoch 100/200\n",
            "11/11 [==============================] - 4s 346ms/step - loss: 0.7042 - accuracy: 0.7417 - val_loss: 0.7115 - val_accuracy: 0.7262\n",
            "Epoch 101/200\n",
            "11/11 [==============================] - 4s 348ms/step - loss: 0.7068 - accuracy: 0.7327 - val_loss: 0.7084 - val_accuracy: 0.7262\n",
            "Epoch 102/200\n",
            "11/11 [==============================] - 5s 465ms/step - loss: 0.6985 - accuracy: 0.7327 - val_loss: 0.7048 - val_accuracy: 0.7262\n",
            "Epoch 103/200\n",
            "11/11 [==============================] - 4s 338ms/step - loss: 0.6956 - accuracy: 0.7508 - val_loss: 0.7017 - val_accuracy: 0.7262\n",
            "Epoch 104/200\n",
            "11/11 [==============================] - 4s 356ms/step - loss: 0.6656 - accuracy: 0.7658 - val_loss: 0.6994 - val_accuracy: 0.7262\n",
            "Epoch 105/200\n",
            "11/11 [==============================] - 5s 397ms/step - loss: 0.6668 - accuracy: 0.7477 - val_loss: 0.6979 - val_accuracy: 0.7262\n",
            "Epoch 106/200\n",
            "11/11 [==============================] - 4s 347ms/step - loss: 0.7173 - accuracy: 0.7297 - val_loss: 0.6933 - val_accuracy: 0.7381\n",
            "Epoch 107/200\n",
            "11/11 [==============================] - 4s 357ms/step - loss: 0.6933 - accuracy: 0.7357 - val_loss: 0.6913 - val_accuracy: 0.7381\n",
            "Epoch 108/200\n",
            "11/11 [==============================] - 4s 345ms/step - loss: 0.6711 - accuracy: 0.7387 - val_loss: 0.6895 - val_accuracy: 0.7381\n",
            "Epoch 109/200\n",
            "11/11 [==============================] - 4s 349ms/step - loss: 0.6660 - accuracy: 0.7508 - val_loss: 0.6869 - val_accuracy: 0.7381\n",
            "Epoch 110/200\n",
            "11/11 [==============================] - 5s 467ms/step - loss: 0.6741 - accuracy: 0.7598 - val_loss: 0.6849 - val_accuracy: 0.7381\n",
            "Epoch 111/200\n",
            "11/11 [==============================] - 4s 358ms/step - loss: 0.6522 - accuracy: 0.7477 - val_loss: 0.6822 - val_accuracy: 0.7381\n",
            "Epoch 112/200\n",
            "11/11 [==============================] - 4s 371ms/step - loss: 0.6896 - accuracy: 0.7327 - val_loss: 0.6790 - val_accuracy: 0.7381\n",
            "Epoch 113/200\n",
            "11/11 [==============================] - 5s 459ms/step - loss: 0.6910 - accuracy: 0.7177 - val_loss: 0.6762 - val_accuracy: 0.7381\n",
            "Epoch 114/200\n",
            "11/11 [==============================] - 4s 369ms/step - loss: 0.6608 - accuracy: 0.7598 - val_loss: 0.6738 - val_accuracy: 0.7381\n",
            "Epoch 115/200\n",
            "11/11 [==============================] - 4s 340ms/step - loss: 0.6775 - accuracy: 0.7538 - val_loss: 0.6713 - val_accuracy: 0.7381\n",
            "Epoch 116/200\n",
            "11/11 [==============================] - 5s 421ms/step - loss: 0.6612 - accuracy: 0.7688 - val_loss: 0.6682 - val_accuracy: 0.7381\n",
            "Epoch 117/200\n",
            "11/11 [==============================] - 4s 352ms/step - loss: 0.6486 - accuracy: 0.7598 - val_loss: 0.6662 - val_accuracy: 0.7381\n",
            "Epoch 118/200\n",
            "11/11 [==============================] - 4s 347ms/step - loss: 0.6555 - accuracy: 0.7598 - val_loss: 0.6639 - val_accuracy: 0.7381\n",
            "Epoch 119/200\n",
            "11/11 [==============================] - 4s 386ms/step - loss: 0.6649 - accuracy: 0.7658 - val_loss: 0.6613 - val_accuracy: 0.7381\n",
            "Epoch 120/200\n",
            "11/11 [==============================] - 4s 380ms/step - loss: 0.6382 - accuracy: 0.7598 - val_loss: 0.6593 - val_accuracy: 0.7381\n",
            "Epoch 121/200\n",
            "11/11 [==============================] - 4s 347ms/step - loss: 0.6352 - accuracy: 0.7718 - val_loss: 0.6573 - val_accuracy: 0.7381\n",
            "Epoch 122/200\n",
            "11/11 [==============================] - 4s 361ms/step - loss: 0.6617 - accuracy: 0.7387 - val_loss: 0.6556 - val_accuracy: 0.7381\n",
            "Epoch 123/200\n",
            "11/11 [==============================] - 5s 415ms/step - loss: 0.6369 - accuracy: 0.7688 - val_loss: 0.6539 - val_accuracy: 0.7381\n",
            "Epoch 124/200\n",
            "11/11 [==============================] - 4s 347ms/step - loss: 0.6469 - accuracy: 0.7477 - val_loss: 0.6523 - val_accuracy: 0.7381\n",
            "Epoch 125/200\n",
            "11/11 [==============================] - 4s 348ms/step - loss: 0.6282 - accuracy: 0.7808 - val_loss: 0.6503 - val_accuracy: 0.7381\n",
            "Epoch 126/200\n",
            "11/11 [==============================] - 5s 450ms/step - loss: 0.6372 - accuracy: 0.7688 - val_loss: 0.6478 - val_accuracy: 0.7381\n",
            "Epoch 127/200\n",
            "11/11 [==============================] - 4s 344ms/step - loss: 0.6317 - accuracy: 0.7748 - val_loss: 0.6464 - val_accuracy: 0.7381\n",
            "Epoch 128/200\n",
            "11/11 [==============================] - 4s 349ms/step - loss: 0.6183 - accuracy: 0.7778 - val_loss: 0.6442 - val_accuracy: 0.7381\n",
            "Epoch 129/200\n",
            "11/11 [==============================] - 5s 457ms/step - loss: 0.6059 - accuracy: 0.7688 - val_loss: 0.6421 - val_accuracy: 0.7381\n",
            "Epoch 130/200\n",
            "11/11 [==============================] - 4s 338ms/step - loss: 0.6240 - accuracy: 0.7447 - val_loss: 0.6415 - val_accuracy: 0.7381\n",
            "Epoch 131/200\n",
            "11/11 [==============================] - 4s 347ms/step - loss: 0.6254 - accuracy: 0.7688 - val_loss: 0.6400 - val_accuracy: 0.7381\n",
            "Epoch 132/200\n",
            "11/11 [==============================] - 5s 488ms/step - loss: 0.6399 - accuracy: 0.7598 - val_loss: 0.6388 - val_accuracy: 0.7381\n",
            "Epoch 133/200\n",
            "11/11 [==============================] - 4s 344ms/step - loss: 0.6301 - accuracy: 0.7568 - val_loss: 0.6375 - val_accuracy: 0.7500\n",
            "Epoch 134/200\n",
            "11/11 [==============================] - 4s 344ms/step - loss: 0.6154 - accuracy: 0.7628 - val_loss: 0.6359 - val_accuracy: 0.7500\n",
            "Epoch 135/200\n",
            "11/11 [==============================] - 5s 476ms/step - loss: 0.6048 - accuracy: 0.7928 - val_loss: 0.6335 - val_accuracy: 0.7500\n",
            "Epoch 136/200\n",
            "11/11 [==============================] - 4s 343ms/step - loss: 0.5947 - accuracy: 0.7958 - val_loss: 0.6314 - val_accuracy: 0.7500\n",
            "Epoch 137/200\n",
            "11/11 [==============================] - 4s 377ms/step - loss: 0.5951 - accuracy: 0.8018 - val_loss: 0.6297 - val_accuracy: 0.7500\n",
            "Epoch 138/200\n",
            "11/11 [==============================] - 5s 468ms/step - loss: 0.6081 - accuracy: 0.7447 - val_loss: 0.6267 - val_accuracy: 0.7500\n",
            "Epoch 139/200\n",
            "11/11 [==============================] - 4s 353ms/step - loss: 0.5889 - accuracy: 0.7748 - val_loss: 0.6254 - val_accuracy: 0.7500\n",
            "Epoch 140/200\n",
            "11/11 [==============================] - 4s 347ms/step - loss: 0.6181 - accuracy: 0.7628 - val_loss: 0.6240 - val_accuracy: 0.7619\n",
            "Epoch 141/200\n",
            "11/11 [==============================] - 5s 475ms/step - loss: 0.6288 - accuracy: 0.7508 - val_loss: 0.6214 - val_accuracy: 0.7619\n",
            "Epoch 142/200\n",
            "11/11 [==============================] - 4s 346ms/step - loss: 0.6032 - accuracy: 0.7718 - val_loss: 0.6212 - val_accuracy: 0.7619\n",
            "Epoch 143/200\n",
            "11/11 [==============================] - 5s 400ms/step - loss: 0.5982 - accuracy: 0.7658 - val_loss: 0.6194 - val_accuracy: 0.7619\n",
            "Epoch 144/200\n",
            "11/11 [==============================] - 4s 342ms/step - loss: 0.5985 - accuracy: 0.7568 - val_loss: 0.6183 - val_accuracy: 0.7619\n",
            "Epoch 145/200\n",
            "11/11 [==============================] - 4s 369ms/step - loss: 0.6091 - accuracy: 0.7718 - val_loss: 0.6161 - val_accuracy: 0.7619\n",
            "Epoch 146/200\n",
            "11/11 [==============================] - 5s 452ms/step - loss: 0.5625 - accuracy: 0.7958 - val_loss: 0.6138 - val_accuracy: 0.7619\n",
            "Epoch 147/200\n",
            "11/11 [==============================] - 4s 335ms/step - loss: 0.5897 - accuracy: 0.7658 - val_loss: 0.6124 - val_accuracy: 0.7619\n",
            "Epoch 148/200\n",
            "11/11 [==============================] - 4s 406ms/step - loss: 0.5906 - accuracy: 0.7778 - val_loss: 0.6104 - val_accuracy: 0.7619\n",
            "Epoch 149/200\n",
            "11/11 [==============================] - 4s 368ms/step - loss: 0.6008 - accuracy: 0.7958 - val_loss: 0.6080 - val_accuracy: 0.7619\n",
            "Epoch 150/200\n",
            "11/11 [==============================] - 4s 345ms/step - loss: 0.5751 - accuracy: 0.7928 - val_loss: 0.6065 - val_accuracy: 0.7619\n",
            "Epoch 151/200\n",
            "11/11 [==============================] - 4s 376ms/step - loss: 0.5938 - accuracy: 0.7658 - val_loss: 0.6049 - val_accuracy: 0.7619\n",
            "Epoch 152/200\n",
            "11/11 [==============================] - 5s 400ms/step - loss: 0.5839 - accuracy: 0.7538 - val_loss: 0.6030 - val_accuracy: 0.7738\n",
            "Epoch 153/200\n",
            "11/11 [==============================] - 4s 341ms/step - loss: 0.5637 - accuracy: 0.7868 - val_loss: 0.6016 - val_accuracy: 0.7738\n",
            "Epoch 154/200\n",
            "11/11 [==============================] - 5s 435ms/step - loss: 0.5902 - accuracy: 0.7658 - val_loss: 0.5995 - val_accuracy: 0.7619\n",
            "Epoch 155/200\n",
            "11/11 [==============================] - 4s 339ms/step - loss: 0.5880 - accuracy: 0.7898 - val_loss: 0.5977 - val_accuracy: 0.7619\n",
            "Epoch 156/200\n",
            "11/11 [==============================] - 4s 346ms/step - loss: 0.5681 - accuracy: 0.7958 - val_loss: 0.5970 - val_accuracy: 0.7619\n",
            "Epoch 157/200\n",
            "11/11 [==============================] - 4s 400ms/step - loss: 0.5693 - accuracy: 0.7928 - val_loss: 0.5951 - val_accuracy: 0.7619\n",
            "Epoch 158/200\n",
            "11/11 [==============================] - 4s 380ms/step - loss: 0.5798 - accuracy: 0.7868 - val_loss: 0.5943 - val_accuracy: 0.7619\n",
            "Epoch 159/200\n",
            "11/11 [==============================] - 4s 354ms/step - loss: 0.5819 - accuracy: 0.7808 - val_loss: 0.5934 - val_accuracy: 0.7738\n",
            "Epoch 160/200\n",
            "11/11 [==============================] - 4s 383ms/step - loss: 0.5753 - accuracy: 0.7808 - val_loss: 0.5919 - val_accuracy: 0.7857\n",
            "Epoch 161/200\n",
            "11/11 [==============================] - 4s 346ms/step - loss: 0.5427 - accuracy: 0.7988 - val_loss: 0.5901 - val_accuracy: 0.7738\n",
            "Epoch 162/200\n",
            "11/11 [==============================] - 4s 356ms/step - loss: 0.5933 - accuracy: 0.7718 - val_loss: 0.5893 - val_accuracy: 0.7738\n",
            "Epoch 163/200\n",
            "11/11 [==============================] - 5s 421ms/step - loss: 0.5789 - accuracy: 0.7748 - val_loss: 0.5885 - val_accuracy: 0.7738\n",
            "Epoch 164/200\n",
            "11/11 [==============================] - 4s 394ms/step - loss: 0.5708 - accuracy: 0.7808 - val_loss: 0.5874 - val_accuracy: 0.7857\n",
            "Epoch 165/200\n",
            "11/11 [==============================] - 4s 348ms/step - loss: 0.5574 - accuracy: 0.7958 - val_loss: 0.5856 - val_accuracy: 0.7857\n",
            "Epoch 166/200\n",
            "11/11 [==============================] - 5s 479ms/step - loss: 0.5885 - accuracy: 0.7718 - val_loss: 0.5842 - val_accuracy: 0.7976\n",
            "Epoch 167/200\n",
            "11/11 [==============================] - 4s 337ms/step - loss: 0.5364 - accuracy: 0.8108 - val_loss: 0.5831 - val_accuracy: 0.7976\n",
            "Epoch 168/200\n",
            "11/11 [==============================] - 4s 342ms/step - loss: 0.5462 - accuracy: 0.7928 - val_loss: 0.5811 - val_accuracy: 0.7976\n",
            "Epoch 169/200\n",
            "11/11 [==============================] - 5s 473ms/step - loss: 0.5258 - accuracy: 0.8078 - val_loss: 0.5795 - val_accuracy: 0.7976\n",
            "Epoch 170/200\n",
            "11/11 [==============================] - 4s 345ms/step - loss: 0.5605 - accuracy: 0.7898 - val_loss: 0.5784 - val_accuracy: 0.7857\n",
            "Epoch 171/200\n",
            "11/11 [==============================] - 4s 346ms/step - loss: 0.5382 - accuracy: 0.7898 - val_loss: 0.5764 - val_accuracy: 0.7857\n",
            "Epoch 172/200\n",
            "11/11 [==============================] - 5s 495ms/step - loss: 0.5669 - accuracy: 0.7868 - val_loss: 0.5753 - val_accuracy: 0.7857\n",
            "Epoch 173/200\n",
            "11/11 [==============================] - 4s 349ms/step - loss: 0.5408 - accuracy: 0.7838 - val_loss: 0.5744 - val_accuracy: 0.7857\n",
            "Epoch 174/200\n",
            "11/11 [==============================] - 4s 340ms/step - loss: 0.5236 - accuracy: 0.7898 - val_loss: 0.5730 - val_accuracy: 0.7857\n",
            "Epoch 175/200\n",
            "11/11 [==============================] - 5s 486ms/step - loss: 0.5388 - accuracy: 0.7988 - val_loss: 0.5716 - val_accuracy: 0.7857\n",
            "Epoch 176/200\n",
            "11/11 [==============================] - 4s 345ms/step - loss: 0.5285 - accuracy: 0.8078 - val_loss: 0.5705 - val_accuracy: 0.7857\n",
            "Epoch 177/200\n",
            "11/11 [==============================] - 4s 354ms/step - loss: 0.5691 - accuracy: 0.7748 - val_loss: 0.5702 - val_accuracy: 0.7857\n",
            "Epoch 178/200\n",
            "11/11 [==============================] - 5s 441ms/step - loss: 0.5471 - accuracy: 0.7898 - val_loss: 0.5692 - val_accuracy: 0.7857\n",
            "Epoch 179/200\n",
            "11/11 [==============================] - 4s 363ms/step - loss: 0.5267 - accuracy: 0.7928 - val_loss: 0.5673 - val_accuracy: 0.7976\n",
            "Epoch 180/200\n",
            "11/11 [==============================] - 4s 357ms/step - loss: 0.5440 - accuracy: 0.8048 - val_loss: 0.5662 - val_accuracy: 0.7976\n",
            "Epoch 181/200\n",
            "11/11 [==============================] - 5s 454ms/step - loss: 0.5434 - accuracy: 0.7988 - val_loss: 0.5659 - val_accuracy: 0.7976\n",
            "Epoch 182/200\n",
            "11/11 [==============================] - 4s 352ms/step - loss: 0.5523 - accuracy: 0.7808 - val_loss: 0.5645 - val_accuracy: 0.7976\n",
            "Epoch 183/200\n",
            "11/11 [==============================] - 4s 334ms/step - loss: 0.5233 - accuracy: 0.8108 - val_loss: 0.5633 - val_accuracy: 0.8095\n",
            "Epoch 184/200\n",
            "11/11 [==============================] - 5s 417ms/step - loss: 0.5390 - accuracy: 0.7838 - val_loss: 0.5622 - val_accuracy: 0.8095\n",
            "Epoch 185/200\n",
            "11/11 [==============================] - 4s 342ms/step - loss: 0.5313 - accuracy: 0.7868 - val_loss: 0.5616 - val_accuracy: 0.8214\n",
            "Epoch 186/200\n",
            "11/11 [==============================] - 4s 341ms/step - loss: 0.5330 - accuracy: 0.7868 - val_loss: 0.5600 - val_accuracy: 0.8214\n",
            "Epoch 187/200\n",
            "11/11 [==============================] - 5s 478ms/step - loss: 0.5167 - accuracy: 0.8138 - val_loss: 0.5596 - val_accuracy: 0.8214\n",
            "Epoch 188/200\n",
            "11/11 [==============================] - 4s 348ms/step - loss: 0.5163 - accuracy: 0.8018 - val_loss: 0.5585 - val_accuracy: 0.8214\n",
            "Epoch 189/200\n",
            "11/11 [==============================] - 4s 343ms/step - loss: 0.5165 - accuracy: 0.8168 - val_loss: 0.5573 - val_accuracy: 0.8214\n",
            "Epoch 190/200\n",
            "11/11 [==============================] - 5s 467ms/step - loss: 0.5131 - accuracy: 0.8108 - val_loss: 0.5567 - val_accuracy: 0.8214\n",
            "Epoch 191/200\n",
            "11/11 [==============================] - 4s 341ms/step - loss: 0.5152 - accuracy: 0.8078 - val_loss: 0.5561 - val_accuracy: 0.8214\n",
            "Epoch 192/200\n",
            "11/11 [==============================] - 4s 362ms/step - loss: 0.5146 - accuracy: 0.8198 - val_loss: 0.5554 - val_accuracy: 0.8214\n",
            "Epoch 193/200\n",
            "11/11 [==============================] - 5s 478ms/step - loss: 0.5210 - accuracy: 0.8108 - val_loss: 0.5548 - val_accuracy: 0.8214\n",
            "Epoch 194/200\n",
            "11/11 [==============================] - 4s 341ms/step - loss: 0.5368 - accuracy: 0.7808 - val_loss: 0.5539 - val_accuracy: 0.8214\n",
            "Epoch 195/200\n",
            "11/11 [==============================] - 4s 346ms/step - loss: 0.5392 - accuracy: 0.7988 - val_loss: 0.5528 - val_accuracy: 0.8214\n",
            "Epoch 196/200\n",
            "11/11 [==============================] - 5s 477ms/step - loss: 0.5187 - accuracy: 0.8168 - val_loss: 0.5517 - val_accuracy: 0.8214\n",
            "Epoch 197/200\n",
            "11/11 [==============================] - 4s 346ms/step - loss: 0.5271 - accuracy: 0.7868 - val_loss: 0.5506 - val_accuracy: 0.8214\n",
            "Epoch 198/200\n",
            "11/11 [==============================] - 4s 352ms/step - loss: 0.5273 - accuracy: 0.8168 - val_loss: 0.5501 - val_accuracy: 0.8214\n",
            "Epoch 199/200\n",
            "11/11 [==============================] - 4s 396ms/step - loss: 0.5307 - accuracy: 0.7928 - val_loss: 0.5490 - val_accuracy: 0.8333\n",
            "Epoch 200/200\n",
            "11/11 [==============================] - 4s 346ms/step - loss: 0.5287 - accuracy: 0.8048 - val_loss: 0.5471 - val_accuracy: 0.8214\n"
          ]
        }
      ]
    },
    {
      "cell_type": "code",
      "source": [
        "from sklearn.metrics import confusion_matrix, classification_report\n",
        "import numpy as np\n",
        "import matplotlib.pyplot as plt\n",
        "import seaborn as sns\n",
        "\n",
        "Y_pred = model_resnet50ver2.predict(X_test)\n",
        "Y_pred_classes = np.argmax(Y_pred, axis=1)\n",
        "Y_true = np.argmax(Y_test, axis=1)\n",
        "\n",
        "conf_matrix = confusion_matrix(Y_true, Y_pred_classes)\n",
        "\n",
        "plt.figure(figsize=(8, 6))\n",
        "sns.heatmap(conf_matrix, annot=True, fmt=\"d\", cmap=\"Blues\", xticklabels=['Common_Rust', 'Healthy', 'Gray_Leaf_Spot', 'Blight'], yticklabels=['Common_Rust', 'Healthy', 'Gray_Leaf_Spot', 'Blight'])\n",
        "plt.xlabel('Predicted labels')\n",
        "plt.ylabel('True labels')\n",
        "plt.title('Confusion Matrix')\n",
        "plt.show()\n",
        "\n",
        "class_report = classification_report(Y_true, Y_pred_classes)\n",
        "\n",
        "print(\"\\nClassification Report:\")\n",
        "print(class_report)\n"
      ],
      "metadata": {
        "colab": {
          "base_uri": "https://localhost:8080/",
          "height": 807
        },
        "id": "YWvBAbaMInI-",
        "outputId": "ca7d3bd2-c464-431e-cebb-9483f773f683"
      },
      "execution_count": 36,
      "outputs": [
        {
          "output_type": "stream",
          "name": "stdout",
          "text": [
            "3/3 [==============================] - 1s 111ms/step\n"
          ]
        },
        {
          "output_type": "display_data",
          "data": {
            "text/plain": [
              "<Figure size 800x600 with 2 Axes>"
            ],
            "image/png": "[encoded data removed]"
          },
          "metadata": {}
        },
        {
          "output_type": "stream",
          "name": "stdout",
          "text": [
            "\n",
            "Classification Report:\n",
            "              precision    recall  f1-score   support\n",
            "\n",
            "           0       0.76      0.85      0.80        26\n",
            "           1       0.88      0.88      0.88        34\n",
            "           2       0.43      0.30      0.35        10\n",
            "           3       1.00      1.00      1.00        14\n",
            "\n",
            "    accuracy                           0.82        84\n",
            "   macro avg       0.77      0.76      0.76        84\n",
            "weighted avg       0.81      0.82      0.81        84\n",
            "\n"
          ]
        }
      ]
    }
  ]
}