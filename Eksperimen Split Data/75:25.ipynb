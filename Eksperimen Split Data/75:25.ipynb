{
  "nbformat": 4,
  "nbformat_minor": 0,
  "metadata": {
    "colab": {
      "provenance": [],
      "gpuType": "T4",
      "include_colab_link": true
    },
    "kernelspec": {
      "name": "python3",
      "display_name": "Python 3"
    },
    "language_info": {
      "name": "python"
    },
    "accelerator": "GPU"
  },
  "cells": [
    {
      "cell_type": "markdown",
      "metadata": {
        "id": "view-in-github",
        "colab_type": "text"
      },
      "source": [
        "<a href=\"https://colab.research.google.com/github/Smjfirna/Arsitektur-Compration/blob/main/Eksperimen%20Split%20Data/75%3A25.ipynb\" target=\"_parent\"><img src=\"https://colab.research.google.com/assets/colab-badge.svg\" alt=\"Open In Colab\"/></a>"
      ]
    },
    {
      "cell_type": "code",
      "source": [
        "import os\n",
        "import cv2\n",
        "import numpy as np\n",
        "from tqdm import tqdm\n",
        "from sklearn.model_selection import train_test_split\n",
        "from sklearn.preprocessing import LabelEncoder\n",
        "from keras.utils import to_categorical\n",
        "\n",
        "import tensorflow as tf\n",
        "from tensorflow.keras.preprocessing.image import ImageDataGenerator\n",
        "from tensorflow.keras.models import Sequential\n",
        "from tensorflow.keras import layers, Model, regularizers\n",
        "from tensorflow.keras.callbacks import EarlyStopping\n",
        "from tensorflow.keras.layers import Conv2D, MaxPooling2D, Flatten, Dense, GlobalAveragePooling2D, Dropout\n",
        "import os\n",
        "from tensorflow.keras.optimizers import Adam\n",
        "from tensorflow.keras.optimizers import RMSprop\n",
        "\n",
        "from keras.applications import ResNet50"
      ],
      "metadata": {
        "id": "LaloGmhuhwP-"
      },
      "execution_count": 1,
      "outputs": []
    },
    {
      "cell_type": "code",
      "execution_count": 2,
      "metadata": {
        "colab": {
          "base_uri": "https://localhost:8080/"
        },
        "id": "d_i5Zy9kdLGU",
        "outputId": "73997e5e-6584-4f36-b4f6-af00a81b4951"
      },
      "outputs": [
        {
          "output_type": "stream",
          "name": "stdout",
          "text": [
            "Mounted at /content/drive\n"
          ]
        }
      ],
      "source": [
        "from google.colab import drive\n",
        "drive.mount('/content/drive')"
      ]
    },
    {
      "cell_type": "code",
      "source": [
        "dataset_dir = \"/content/drive/MyDrive/Skripsi/Data Sample 10\"\n",
        "\n",
        "print(os.listdir(dataset_dir))"
      ],
      "metadata": {
        "colab": {
          "base_uri": "https://localhost:8080/"
        },
        "id": "c60kX1_DjBPd",
        "outputId": "a2c88fd0-4f0e-4008-b182-e731141724bf"
      },
      "execution_count": 3,
      "outputs": [
        {
          "output_type": "stream",
          "name": "stdout",
          "text": [
            "['Healthy', 'Blight', 'Gray_Leaf_Spot', 'Common_Rust']\n"
          ]
        }
      ]
    },
    {
      "cell_type": "code",
      "source": [
        "size_resnet50 = 224"
      ],
      "metadata": {
        "id": "Mjg6pdK1DO1a"
      },
      "execution_count": 4,
      "outputs": []
    },
    {
      "cell_type": "code",
      "source": [
        "def make_data(label, DIR, img_list, label_list):\n",
        "    for img in tqdm(os.listdir(DIR)):\n",
        "        path = os.path.join(DIR, img)\n",
        "        img = cv2.imread(path, cv2.IMREAD_COLOR)\n",
        "        img = cv2.resize(img, (size_resnet50, size_resnet50))\n",
        "        img_list.append(np.array(img))\n",
        "        label_list.append(str(label))"
      ],
      "metadata": {
        "id": "XgNY4FGvD-BF"
      },
      "execution_count": 5,
      "outputs": []
    },
    {
      "cell_type": "code",
      "source": [
        "X = []\n",
        "Z = []"
      ],
      "metadata": {
        "id": "HPv9tP13DXm6"
      },
      "execution_count": 6,
      "outputs": []
    },
    {
      "cell_type": "code",
      "source": [
        "for i, class_name in enumerate(['Common_Rust', 'Healthy', 'Gray_Leaf_Spot', 'Blight']):\n",
        "    class_dir = os.path.join(dataset_dir, class_name)\n",
        "    make_data(class_name, class_dir, X, Z)"
      ],
      "metadata": {
        "colab": {
          "base_uri": "https://localhost:8080/"
        },
        "id": "L7CgU46UDc6d",
        "outputId": "665460ac-2a7c-4c52-f716-1b0b7eccca52"
      },
      "execution_count": 7,
      "outputs": [
        {
          "output_type": "stream",
          "name": "stderr",
          "text": [
            "100%|██████████| 130/130 [00:07<00:00, 17.37it/s]\n",
            "100%|██████████| 116/116 [00:03<00:00, 30.99it/s] \n",
            "100%|██████████| 57/57 [00:45<00:00,  1.27it/s]\n",
            "100%|██████████| 114/114 [00:14<00:00,  7.64it/s]\n"
          ]
        }
      ]
    },
    {
      "cell_type": "code",
      "source": [
        "import matplotlib.pyplot as plt\n",
        "\n",
        "# Menghitung jumlah data untuk setiap kelas\n",
        "class_counts = {class_name: Z.count(class_name) for class_name in set(Z)}\n",
        "\n",
        "# Menampilkan visualisasi jumlah data\n",
        "plt.figure(figsize=(4, 4))\n",
        "plt.bar(class_counts.keys(), class_counts.values())\n",
        "plt.xlabel('Class')\n",
        "plt.ylabel('Count')\n",
        "plt.title('Number of Data Samples for Each Class')\n",
        "plt.show()"
      ],
      "metadata": {
        "colab": {
          "base_uri": "https://localhost:8080/",
          "height": 410
        },
        "id": "jWbdII-8E9kW",
        "outputId": "936893c7-3ee9-44ca-ec52-ab75ebb6e9d4"
      },
      "execution_count": 8,
      "outputs": [
        {
          "output_type": "display_data",
          "data": {
            "text/plain": [
              "<Figure size 400x400 with 1 Axes>"
            ],
            "image/png": "[encoded data removed]"
          },
          "metadata": {}
        }
      ]
    },
    {
      "cell_type": "code",
      "source": [
        "le = LabelEncoder()\n",
        "Y = le.fit_transform(Z)\n",
        "Y = to_categorical(Y, num_classes=len(le.classes_))\n",
        "\n",
        "# Konversi ke array numpy\n",
        "X = np.array(X)\n",
        "\n",
        "# Memisahkan data menjadi data latih dan data uji\n",
        "X_train, X_test, Y_train, Y_test = train_test_split(X, Y, test_size=0.33, random_state=42)\n",
        "\n",
        "print(\"Jumlah Data Train adalah :\", len(X_train))\n",
        "print(\"Jumlah Data Test adalah :\", len(X_test))"
      ],
      "metadata": {
        "colab": {
          "base_uri": "https://localhost:8080/"
        },
        "id": "LFG1SJ3OFPWV",
        "outputId": "6243b249-85bc-4121-afbd-46dce9268ed1"
      },
      "execution_count": 21,
      "outputs": [
        {
          "output_type": "stream",
          "name": "stdout",
          "text": [
            "Jumlah Data Train adalah : 279\n",
            "Jumlah Data Test adalah : 138\n"
          ]
        }
      ]
    },
    {
      "cell_type": "code",
      "source": [
        "datagen = ImageDataGenerator(\n",
        "    rotation_range=20,\n",
        "    zoom_range=0.2,\n",
        "    horizontal_flip=True,\n",
        ")\n",
        "\n",
        "datagen.fit(X_train)"
      ],
      "metadata": {
        "id": "l_s_dW_k2OKD"
      },
      "execution_count": 22,
      "outputs": []
    },
    {
      "cell_type": "code",
      "source": [
        "resnet50 = ResNet50(include_top=False, weights='imagenet', input_shape=(size_resnet50, size_resnet50, 3))\n",
        "\n",
        "# Membuat model Sequential\n",
        "model_resnet50ver2 = Sequential()\n",
        "model_resnet50ver2.add(resnet50)\n",
        "model_resnet50ver2.add(GlobalAveragePooling2D())\n",
        "model_resnet50ver2.add(Dense(4, activation='softmax'))\n",
        "\n",
        "# Membekukan layer-layer ResNet50 yang telah dilatih\n",
        "for layer in resnet50.layers:\n",
        "    layer.trainable = False\n",
        "\n",
        "# Mengompilasi model dengan optimizer Adam dan loss function categorical crossentropy\n",
        "model_resnet50ver2.compile(optimizer=Adam(learning_rate=1e-5), loss='categorical_crossentropy', metrics=['accuracy'])\n",
        "\n",
        "# Menampilkan summary dari model\n",
        "model_resnet50ver2.summary()\n",
        "\n",
        "# Melatih model dengan data latih dan validasi\n",
        "history_resnet50ver2 = model_resnet50ver2.fit(datagen.flow(X_train, Y_train), epochs=200, validation_data=(X_test, Y_test))"
      ],
      "metadata": {
        "colab": {
          "base_uri": "https://localhost:8080/"
        },
        "id": "L4NJLS5-FT93",
        "outputId": "40350f9e-fe4c-46ea-e34d-3ff054269bff"
      },
      "execution_count": 23,
      "outputs": [
        {
          "output_type": "stream",
          "name": "stdout",
          "text": [
            "Model: \"sequential_3\"\n",
            "_________________________________________________________________\n",
            " Layer (type)                Output Shape              Param #   \n",
            "=================================================================\n",
            " resnet50 (Functional)       (None, 7, 7, 2048)        23587712  \n",
            "                                                                 \n",
            " global_average_pooling2d_3  (None, 2048)              0         \n",
            "  (GlobalAveragePooling2D)                                       \n",
            "                                                                 \n",
            " dense_3 (Dense)             (None, 4)                 8196      \n",
            "                                                                 \n",
            "=================================================================\n",
            "Total params: 23595908 (90.01 MB)\n",
            "Trainable params: 8196 (32.02 KB)\n",
            "Non-trainable params: 23587712 (89.98 MB)\n",
            "_________________________________________________________________\n",
            "Epoch 1/200\n",
            "9/9 [==============================] - 7s 484ms/step - loss: 1.7719 - accuracy: 0.1900 - val_loss: 1.8708 - val_accuracy: 0.1522\n",
            "Epoch 2/200\n",
            "9/9 [==============================] - 4s 432ms/step - loss: 1.7689 - accuracy: 0.1864 - val_loss: 1.8360 - val_accuracy: 0.1667\n",
            "Epoch 3/200\n",
            "9/9 [==============================] - 3s 377ms/step - loss: 1.7563 - accuracy: 0.2151 - val_loss: 1.8009 - val_accuracy: 0.1667\n",
            "Epoch 4/200\n",
            "9/9 [==============================] - 4s 398ms/step - loss: 1.7269 - accuracy: 0.2007 - val_loss: 1.7665 - val_accuracy: 0.1594\n",
            "Epoch 5/200\n",
            "9/9 [==============================] - 4s 429ms/step - loss: 1.6684 - accuracy: 0.2330 - val_loss: 1.7342 - val_accuracy: 0.1812\n",
            "Epoch 6/200\n",
            "9/9 [==============================] - 4s 407ms/step - loss: 1.6815 - accuracy: 0.2258 - val_loss: 1.7026 - val_accuracy: 0.1884\n",
            "Epoch 7/200\n",
            "9/9 [==============================] - 4s 404ms/step - loss: 1.6105 - accuracy: 0.2473 - val_loss: 1.6744 - val_accuracy: 0.2246\n",
            "Epoch 8/200\n",
            "9/9 [==============================] - 4s 427ms/step - loss: 1.6386 - accuracy: 0.2222 - val_loss: 1.6472 - val_accuracy: 0.2319\n",
            "Epoch 9/200\n",
            "9/9 [==============================] - 3s 370ms/step - loss: 1.5772 - accuracy: 0.2724 - val_loss: 1.6239 - val_accuracy: 0.2391\n",
            "Epoch 10/200\n",
            "9/9 [==============================] - 3s 373ms/step - loss: 1.5783 - accuracy: 0.2903 - val_loss: 1.5989 - val_accuracy: 0.2391\n",
            "Epoch 11/200\n",
            "9/9 [==============================] - 5s 553ms/step - loss: 1.5738 - accuracy: 0.2796 - val_loss: 1.5754 - val_accuracy: 0.2391\n",
            "Epoch 12/200\n",
            "9/9 [==============================] - 3s 367ms/step - loss: 1.5314 - accuracy: 0.2903 - val_loss: 1.5539 - val_accuracy: 0.2609\n",
            "Epoch 13/200\n",
            "9/9 [==============================] - 3s 371ms/step - loss: 1.4879 - accuracy: 0.2760 - val_loss: 1.5317 - val_accuracy: 0.2609\n",
            "Epoch 14/200\n",
            "9/9 [==============================] - 4s 417ms/step - loss: 1.5130 - accuracy: 0.3118 - val_loss: 1.5122 - val_accuracy: 0.2681\n",
            "Epoch 15/200\n",
            "9/9 [==============================] - 4s 453ms/step - loss: 1.5003 - accuracy: 0.3226 - val_loss: 1.4916 - val_accuracy: 0.2971\n",
            "Epoch 16/200\n",
            "9/9 [==============================] - 3s 369ms/step - loss: 1.4663 - accuracy: 0.3011 - val_loss: 1.4731 - val_accuracy: 0.3116\n",
            "Epoch 17/200\n",
            "9/9 [==============================] - 4s 399ms/step - loss: 1.4646 - accuracy: 0.3154 - val_loss: 1.4558 - val_accuracy: 0.3333\n",
            "Epoch 18/200\n",
            "9/9 [==============================] - 5s 538ms/step - loss: 1.3826 - accuracy: 0.3871 - val_loss: 1.4401 - val_accuracy: 0.3551\n",
            "Epoch 19/200\n",
            "9/9 [==============================] - 4s 399ms/step - loss: 1.4562 - accuracy: 0.3190 - val_loss: 1.4225 - val_accuracy: 0.3623\n",
            "Epoch 20/200\n",
            "9/9 [==============================] - 3s 370ms/step - loss: 1.4104 - accuracy: 0.3369 - val_loss: 1.4068 - val_accuracy: 0.3768\n",
            "Epoch 21/200\n",
            "9/9 [==============================] - 5s 527ms/step - loss: 1.4058 - accuracy: 0.3584 - val_loss: 1.3899 - val_accuracy: 0.3841\n",
            "Epoch 22/200\n",
            "9/9 [==============================] - 4s 416ms/step - loss: 1.4149 - accuracy: 0.3620 - val_loss: 1.3747 - val_accuracy: 0.3913\n",
            "Epoch 23/200\n",
            "9/9 [==============================] - 4s 394ms/step - loss: 1.3578 - accuracy: 0.3799 - val_loss: 1.3600 - val_accuracy: 0.3913\n",
            "Epoch 24/200\n",
            "9/9 [==============================] - 5s 567ms/step - loss: 1.2993 - accuracy: 0.4194 - val_loss: 1.3459 - val_accuracy: 0.4058\n",
            "Epoch 25/200\n",
            "9/9 [==============================] - 3s 370ms/step - loss: 1.3545 - accuracy: 0.4086 - val_loss: 1.3320 - val_accuracy: 0.4058\n",
            "Epoch 26/200\n",
            "9/9 [==============================] - 3s 374ms/step - loss: 1.3483 - accuracy: 0.3978 - val_loss: 1.3187 - val_accuracy: 0.4058\n",
            "Epoch 27/200\n",
            "9/9 [==============================] - 4s 474ms/step - loss: 1.3155 - accuracy: 0.4122 - val_loss: 1.3060 - val_accuracy: 0.4275\n",
            "Epoch 28/200\n",
            "9/9 [==============================] - 4s 431ms/step - loss: 1.3071 - accuracy: 0.4122 - val_loss: 1.2932 - val_accuracy: 0.4348\n",
            "Epoch 29/200\n",
            "9/9 [==============================] - 3s 374ms/step - loss: 1.2909 - accuracy: 0.4301 - val_loss: 1.2818 - val_accuracy: 0.4493\n",
            "Epoch 30/200\n",
            "9/9 [==============================] - 4s 400ms/step - loss: 1.2975 - accuracy: 0.4229 - val_loss: 1.2687 - val_accuracy: 0.4710\n",
            "Epoch 31/200\n",
            "9/9 [==============================] - 4s 394ms/step - loss: 1.2943 - accuracy: 0.4373 - val_loss: 1.2570 - val_accuracy: 0.4783\n",
            "Epoch 32/200\n",
            "9/9 [==============================] - 4s 403ms/step - loss: 1.2560 - accuracy: 0.4552 - val_loss: 1.2452 - val_accuracy: 0.4928\n",
            "Epoch 33/200\n",
            "9/9 [==============================] - 4s 425ms/step - loss: 1.2439 - accuracy: 0.4946 - val_loss: 1.2331 - val_accuracy: 0.4928\n",
            "Epoch 34/200\n",
            "9/9 [==============================] - 4s 472ms/step - loss: 1.2110 - accuracy: 0.4767 - val_loss: 1.2226 - val_accuracy: 0.4928\n",
            "Epoch 35/200\n",
            "9/9 [==============================] - 4s 401ms/step - loss: 1.2587 - accuracy: 0.4803 - val_loss: 1.2122 - val_accuracy: 0.4928\n",
            "Epoch 36/200\n",
            "9/9 [==============================] - 3s 370ms/step - loss: 1.2248 - accuracy: 0.4910 - val_loss: 1.2012 - val_accuracy: 0.5145\n",
            "Epoch 37/200\n",
            "9/9 [==============================] - 5s 561ms/step - loss: 1.2148 - accuracy: 0.4910 - val_loss: 1.1913 - val_accuracy: 0.5217\n",
            "Epoch 38/200\n",
            "9/9 [==============================] - 3s 368ms/step - loss: 1.2032 - accuracy: 0.4731 - val_loss: 1.1811 - val_accuracy: 0.5362\n",
            "Epoch 39/200\n",
            "9/9 [==============================] - 4s 403ms/step - loss: 1.1606 - accuracy: 0.5233 - val_loss: 1.1710 - val_accuracy: 0.5362\n",
            "Epoch 40/200\n",
            "9/9 [==============================] - 4s 500ms/step - loss: 1.1703 - accuracy: 0.5090 - val_loss: 1.1604 - val_accuracy: 0.5507\n",
            "Epoch 41/200\n",
            "9/9 [==============================] - 4s 400ms/step - loss: 1.1413 - accuracy: 0.5376 - val_loss: 1.1512 - val_accuracy: 0.5580\n",
            "Epoch 42/200\n",
            "9/9 [==============================] - 3s 368ms/step - loss: 1.1495 - accuracy: 0.5161 - val_loss: 1.1427 - val_accuracy: 0.5580\n",
            "Epoch 43/200\n",
            "9/9 [==============================] - 5s 537ms/step - loss: 1.1850 - accuracy: 0.4946 - val_loss: 1.1335 - val_accuracy: 0.5652\n",
            "Epoch 44/200\n",
            "9/9 [==============================] - 3s 373ms/step - loss: 1.1275 - accuracy: 0.5484 - val_loss: 1.1251 - val_accuracy: 0.5652\n",
            "Epoch 45/200\n",
            "9/9 [==============================] - 4s 397ms/step - loss: 1.1314 - accuracy: 0.5412 - val_loss: 1.1170 - val_accuracy: 0.5870\n",
            "Epoch 46/200\n",
            "9/9 [==============================] - 4s 511ms/step - loss: 1.1208 - accuracy: 0.5376 - val_loss: 1.1075 - val_accuracy: 0.5942\n",
            "Epoch 47/200\n",
            "9/9 [==============================] - 4s 402ms/step - loss: 1.1424 - accuracy: 0.5663 - val_loss: 1.0990 - val_accuracy: 0.5942\n",
            "Epoch 48/200\n",
            "9/9 [==============================] - 3s 372ms/step - loss: 1.1241 - accuracy: 0.5376 - val_loss: 1.0904 - val_accuracy: 0.6014\n",
            "Epoch 49/200\n",
            "9/9 [==============================] - 4s 500ms/step - loss: 1.0952 - accuracy: 0.5269 - val_loss: 1.0827 - val_accuracy: 0.6014\n",
            "Epoch 50/200\n",
            "9/9 [==============================] - 3s 367ms/step - loss: 1.0935 - accuracy: 0.5627 - val_loss: 1.0746 - val_accuracy: 0.6014\n",
            "Epoch 51/200\n",
            "9/9 [==============================] - 4s 409ms/step - loss: 1.0635 - accuracy: 0.5806 - val_loss: 1.0666 - val_accuracy: 0.6087\n",
            "Epoch 52/200\n",
            "9/9 [==============================] - 4s 454ms/step - loss: 1.0676 - accuracy: 0.5950 - val_loss: 1.0594 - val_accuracy: 0.6087\n",
            "Epoch 53/200\n",
            "9/9 [==============================] - 3s 374ms/step - loss: 1.0801 - accuracy: 0.5914 - val_loss: 1.0529 - val_accuracy: 0.6159\n",
            "Epoch 54/200\n",
            "9/9 [==============================] - 4s 398ms/step - loss: 1.0519 - accuracy: 0.5806 - val_loss: 1.0448 - val_accuracy: 0.6159\n",
            "Epoch 55/200\n",
            "9/9 [==============================] - 4s 412ms/step - loss: 1.0100 - accuracy: 0.6129 - val_loss: 1.0374 - val_accuracy: 0.6232\n",
            "Epoch 56/200\n",
            "9/9 [==============================] - 3s 372ms/step - loss: 1.0490 - accuracy: 0.5950 - val_loss: 1.0297 - val_accuracy: 0.6304\n",
            "Epoch 57/200\n",
            "9/9 [==============================] - 3s 371ms/step - loss: 1.0248 - accuracy: 0.5986 - val_loss: 1.0217 - val_accuracy: 0.6522\n",
            "Epoch 58/200\n",
            "9/9 [==============================] - 4s 399ms/step - loss: 1.0078 - accuracy: 0.6022 - val_loss: 1.0138 - val_accuracy: 0.6522\n",
            "Epoch 59/200\n",
            "9/9 [==============================] - 4s 396ms/step - loss: 0.9955 - accuracy: 0.6272 - val_loss: 1.0073 - val_accuracy: 0.6594\n",
            "Epoch 60/200\n",
            "9/9 [==============================] - 4s 403ms/step - loss: 1.0234 - accuracy: 0.6129 - val_loss: 1.0009 - val_accuracy: 0.6594\n",
            "Epoch 61/200\n",
            "9/9 [==============================] - 4s 399ms/step - loss: 0.9935 - accuracy: 0.6344 - val_loss: 0.9938 - val_accuracy: 0.6594\n",
            "Epoch 62/200\n",
            "9/9 [==============================] - 4s 449ms/step - loss: 1.0244 - accuracy: 0.5986 - val_loss: 0.9869 - val_accuracy: 0.6667\n",
            "Epoch 63/200\n",
            "9/9 [==============================] - 4s 400ms/step - loss: 1.0178 - accuracy: 0.6057 - val_loss: 0.9804 - val_accuracy: 0.6667\n",
            "Epoch 64/200\n",
            "9/9 [==============================] - 4s 400ms/step - loss: 0.9805 - accuracy: 0.6344 - val_loss: 0.9743 - val_accuracy: 0.6739\n",
            "Epoch 65/200\n",
            "9/9 [==============================] - 5s 559ms/step - loss: 0.9873 - accuracy: 0.6093 - val_loss: 0.9672 - val_accuracy: 0.6739\n",
            "Epoch 66/200\n",
            "9/9 [==============================] - 4s 411ms/step - loss: 0.9532 - accuracy: 0.6416 - val_loss: 0.9615 - val_accuracy: 0.6739\n",
            "Epoch 67/200\n",
            "9/9 [==============================] - 4s 402ms/step - loss: 0.9178 - accuracy: 0.6559 - val_loss: 0.9553 - val_accuracy: 0.6739\n",
            "Epoch 68/200\n",
            "9/9 [==============================] - 4s 505ms/step - loss: 0.9709 - accuracy: 0.6487 - val_loss: 0.9495 - val_accuracy: 0.6739\n",
            "Epoch 69/200\n",
            "9/9 [==============================] - 3s 369ms/step - loss: 0.9464 - accuracy: 0.6559 - val_loss: 0.9442 - val_accuracy: 0.6739\n",
            "Epoch 70/200\n",
            "9/9 [==============================] - 4s 406ms/step - loss: 0.9376 - accuracy: 0.6452 - val_loss: 0.9380 - val_accuracy: 0.6739\n",
            "Epoch 71/200\n",
            "9/9 [==============================] - 4s 400ms/step - loss: 0.9016 - accuracy: 0.6810 - val_loss: 0.9326 - val_accuracy: 0.6739\n",
            "Epoch 72/200\n",
            "9/9 [==============================] - 4s 401ms/step - loss: 0.8878 - accuracy: 0.6846 - val_loss: 0.9274 - val_accuracy: 0.6812\n",
            "Epoch 73/200\n",
            "9/9 [==============================] - 4s 413ms/step - loss: 0.9304 - accuracy: 0.6595 - val_loss: 0.9227 - val_accuracy: 0.6812\n",
            "Epoch 74/200\n",
            "9/9 [==============================] - 5s 526ms/step - loss: 0.9239 - accuracy: 0.6667 - val_loss: 0.9176 - val_accuracy: 0.6812\n",
            "Epoch 75/200\n",
            "9/9 [==============================] - 4s 400ms/step - loss: 0.9074 - accuracy: 0.6631 - val_loss: 0.9116 - val_accuracy: 0.6812\n",
            "Epoch 76/200\n",
            "9/9 [==============================] - 3s 372ms/step - loss: 0.8962 - accuracy: 0.6595 - val_loss: 0.9057 - val_accuracy: 0.6812\n",
            "Epoch 77/200\n",
            "9/9 [==============================] - 4s 400ms/step - loss: 0.9014 - accuracy: 0.6523 - val_loss: 0.9012 - val_accuracy: 0.6812\n",
            "Epoch 78/200\n",
            "9/9 [==============================] - 4s 445ms/step - loss: 0.8678 - accuracy: 0.7061 - val_loss: 0.8971 - val_accuracy: 0.6812\n",
            "Epoch 79/200\n",
            "9/9 [==============================] - 3s 369ms/step - loss: 0.8902 - accuracy: 0.6631 - val_loss: 0.8919 - val_accuracy: 0.6812\n",
            "Epoch 80/200\n",
            "9/9 [==============================] - 4s 399ms/step - loss: 0.8900 - accuracy: 0.6738 - val_loss: 0.8875 - val_accuracy: 0.6884\n",
            "Epoch 81/200\n",
            "9/9 [==============================] - 5s 536ms/step - loss: 0.8780 - accuracy: 0.6631 - val_loss: 0.8830 - val_accuracy: 0.6957\n",
            "Epoch 82/200\n",
            "9/9 [==============================] - 3s 370ms/step - loss: 0.8870 - accuracy: 0.6631 - val_loss: 0.8786 - val_accuracy: 0.6957\n",
            "Epoch 83/200\n",
            "9/9 [==============================] - 3s 380ms/step - loss: 0.8919 - accuracy: 0.6738 - val_loss: 0.8737 - val_accuracy: 0.7029\n",
            "Epoch 84/200\n",
            "9/9 [==============================] - 4s 465ms/step - loss: 0.8801 - accuracy: 0.6667 - val_loss: 0.8691 - val_accuracy: 0.7029\n",
            "Epoch 85/200\n",
            "9/9 [==============================] - 4s 409ms/step - loss: 0.8778 - accuracy: 0.6774 - val_loss: 0.8641 - val_accuracy: 0.7101\n",
            "Epoch 86/200\n",
            "9/9 [==============================] - 3s 370ms/step - loss: 0.8672 - accuracy: 0.6918 - val_loss: 0.8603 - val_accuracy: 0.7101\n",
            "Epoch 87/200\n",
            "9/9 [==============================] - 5s 570ms/step - loss: 0.8541 - accuracy: 0.6703 - val_loss: 0.8555 - val_accuracy: 0.7101\n",
            "Epoch 88/200\n",
            "9/9 [==============================] - 4s 404ms/step - loss: 0.8618 - accuracy: 0.6667 - val_loss: 0.8510 - val_accuracy: 0.7101\n",
            "Epoch 89/200\n",
            "9/9 [==============================] - 4s 398ms/step - loss: 0.8448 - accuracy: 0.6487 - val_loss: 0.8468 - val_accuracy: 0.7101\n",
            "Epoch 90/200\n",
            "9/9 [==============================] - 4s 433ms/step - loss: 0.8737 - accuracy: 0.6810 - val_loss: 0.8427 - val_accuracy: 0.7101\n",
            "Epoch 91/200\n",
            "9/9 [==============================] - 4s 444ms/step - loss: 0.8186 - accuracy: 0.7240 - val_loss: 0.8385 - val_accuracy: 0.7101\n",
            "Epoch 92/200\n",
            "9/9 [==============================] - 3s 372ms/step - loss: 0.8295 - accuracy: 0.7204 - val_loss: 0.8349 - val_accuracy: 0.7101\n",
            "Epoch 93/200\n",
            "9/9 [==============================] - 3s 381ms/step - loss: 0.7969 - accuracy: 0.7204 - val_loss: 0.8305 - val_accuracy: 0.7101\n",
            "Epoch 94/200\n",
            "9/9 [==============================] - 5s 559ms/step - loss: 0.7969 - accuracy: 0.7240 - val_loss: 0.8263 - val_accuracy: 0.7101\n",
            "Epoch 95/200\n",
            "9/9 [==============================] - 3s 372ms/step - loss: 0.8462 - accuracy: 0.6846 - val_loss: 0.8227 - val_accuracy: 0.7029\n",
            "Epoch 96/200\n",
            "9/9 [==============================] - 3s 375ms/step - loss: 0.8311 - accuracy: 0.6953 - val_loss: 0.8186 - val_accuracy: 0.7029\n",
            "Epoch 97/200\n",
            "9/9 [==============================] - 4s 454ms/step - loss: 0.8344 - accuracy: 0.6774 - val_loss: 0.8147 - val_accuracy: 0.7029\n",
            "Epoch 98/200\n",
            "9/9 [==============================] - 4s 391ms/step - loss: 0.7740 - accuracy: 0.7312 - val_loss: 0.8108 - val_accuracy: 0.7029\n",
            "Epoch 99/200\n",
            "9/9 [==============================] - 3s 373ms/step - loss: 0.8014 - accuracy: 0.7097 - val_loss: 0.8079 - val_accuracy: 0.7029\n",
            "Epoch 100/200\n",
            "9/9 [==============================] - 3s 373ms/step - loss: 0.8072 - accuracy: 0.6989 - val_loss: 0.8039 - val_accuracy: 0.7029\n",
            "Epoch 101/200\n",
            "9/9 [==============================] - 5s 570ms/step - loss: 0.7803 - accuracy: 0.7204 - val_loss: 0.8000 - val_accuracy: 0.7029\n",
            "Epoch 102/200\n",
            "9/9 [==============================] - 3s 378ms/step - loss: 0.7962 - accuracy: 0.6989 - val_loss: 0.7964 - val_accuracy: 0.7101\n",
            "Epoch 103/200\n",
            "9/9 [==============================] - 4s 404ms/step - loss: 0.7835 - accuracy: 0.7025 - val_loss: 0.7932 - val_accuracy: 0.7101\n",
            "Epoch 104/200\n",
            "9/9 [==============================] - 4s 502ms/step - loss: 0.7864 - accuracy: 0.6989 - val_loss: 0.7899 - val_accuracy: 0.7174\n",
            "Epoch 105/200\n",
            "9/9 [==============================] - 4s 402ms/step - loss: 0.7752 - accuracy: 0.7240 - val_loss: 0.7864 - val_accuracy: 0.7174\n",
            "Epoch 106/200\n",
            "9/9 [==============================] - 3s 373ms/step - loss: 0.7835 - accuracy: 0.7025 - val_loss: 0.7831 - val_accuracy: 0.7174\n",
            "Epoch 107/200\n",
            "9/9 [==============================] - 3s 376ms/step - loss: 0.7649 - accuracy: 0.7168 - val_loss: 0.7797 - val_accuracy: 0.7174\n",
            "Epoch 108/200\n",
            "9/9 [==============================] - 5s 484ms/step - loss: 0.7968 - accuracy: 0.7061 - val_loss: 0.7766 - val_accuracy: 0.7246\n",
            "Epoch 109/200\n",
            "9/9 [==============================] - 4s 413ms/step - loss: 0.7834 - accuracy: 0.7240 - val_loss: 0.7734 - val_accuracy: 0.7246\n",
            "Epoch 110/200\n",
            "9/9 [==============================] - 3s 387ms/step - loss: 0.7503 - accuracy: 0.7240 - val_loss: 0.7701 - val_accuracy: 0.7246\n",
            "Epoch 111/200\n",
            "9/9 [==============================] - 5s 517ms/step - loss: 0.7268 - accuracy: 0.7419 - val_loss: 0.7671 - val_accuracy: 0.7319\n",
            "Epoch 112/200\n",
            "9/9 [==============================] - 4s 407ms/step - loss: 0.7511 - accuracy: 0.7384 - val_loss: 0.7642 - val_accuracy: 0.7319\n",
            "Epoch 113/200\n",
            "9/9 [==============================] - 4s 405ms/step - loss: 0.7767 - accuracy: 0.7061 - val_loss: 0.7615 - val_accuracy: 0.7319\n",
            "Epoch 114/200\n",
            "9/9 [==============================] - 4s 439ms/step - loss: 0.7449 - accuracy: 0.7384 - val_loss: 0.7583 - val_accuracy: 0.7319\n",
            "Epoch 115/200\n",
            "9/9 [==============================] - 4s 416ms/step - loss: 0.7438 - accuracy: 0.7348 - val_loss: 0.7554 - val_accuracy: 0.7391\n",
            "Epoch 116/200\n",
            "9/9 [==============================] - 4s 407ms/step - loss: 0.7482 - accuracy: 0.7061 - val_loss: 0.7524 - val_accuracy: 0.7391\n",
            "Epoch 117/200\n",
            "9/9 [==============================] - 4s 400ms/step - loss: 0.7514 - accuracy: 0.7240 - val_loss: 0.7497 - val_accuracy: 0.7391\n",
            "Epoch 118/200\n",
            "9/9 [==============================] - 4s 381ms/step - loss: 0.7594 - accuracy: 0.7061 - val_loss: 0.7467 - val_accuracy: 0.7391\n",
            "Epoch 119/200\n",
            "9/9 [==============================] - 4s 401ms/step - loss: 0.7273 - accuracy: 0.7563 - val_loss: 0.7444 - val_accuracy: 0.7391\n",
            "Epoch 120/200\n",
            "9/9 [==============================] - 4s 449ms/step - loss: 0.7158 - accuracy: 0.7491 - val_loss: 0.7419 - val_accuracy: 0.7391\n",
            "Epoch 121/200\n",
            "9/9 [==============================] - 4s 438ms/step - loss: 0.7310 - accuracy: 0.7419 - val_loss: 0.7395 - val_accuracy: 0.7391\n",
            "Epoch 122/200\n",
            "9/9 [==============================] - 4s 405ms/step - loss: 0.7300 - accuracy: 0.7312 - val_loss: 0.7366 - val_accuracy: 0.7391\n",
            "Epoch 123/200\n",
            "9/9 [==============================] - 4s 403ms/step - loss: 0.7175 - accuracy: 0.7240 - val_loss: 0.7338 - val_accuracy: 0.7391\n",
            "Epoch 124/200\n",
            "9/9 [==============================] - 5s 504ms/step - loss: 0.7275 - accuracy: 0.7097 - val_loss: 0.7311 - val_accuracy: 0.7391\n",
            "Epoch 125/200\n",
            "9/9 [==============================] - 4s 398ms/step - loss: 0.7214 - accuracy: 0.7384 - val_loss: 0.7286 - val_accuracy: 0.7391\n",
            "Epoch 126/200\n",
            "9/9 [==============================] - 3s 376ms/step - loss: 0.7294 - accuracy: 0.7455 - val_loss: 0.7263 - val_accuracy: 0.7391\n",
            "Epoch 127/200\n",
            "9/9 [==============================] - 5s 544ms/step - loss: 0.6910 - accuracy: 0.7312 - val_loss: 0.7239 - val_accuracy: 0.7391\n",
            "Epoch 128/200\n",
            "9/9 [==============================] - 4s 398ms/step - loss: 0.6924 - accuracy: 0.7670 - val_loss: 0.7211 - val_accuracy: 0.7391\n",
            "Epoch 129/200\n",
            "9/9 [==============================] - 4s 417ms/step - loss: 0.7336 - accuracy: 0.7133 - val_loss: 0.7187 - val_accuracy: 0.7391\n",
            "Epoch 130/200\n",
            "9/9 [==============================] - 5s 530ms/step - loss: 0.7187 - accuracy: 0.7240 - val_loss: 0.7158 - val_accuracy: 0.7391\n",
            "Epoch 131/200\n",
            "9/9 [==============================] - 4s 400ms/step - loss: 0.6675 - accuracy: 0.7491 - val_loss: 0.7138 - val_accuracy: 0.7391\n",
            "Epoch 132/200\n",
            "9/9 [==============================] - 4s 420ms/step - loss: 0.7127 - accuracy: 0.7384 - val_loss: 0.7120 - val_accuracy: 0.7391\n",
            "Epoch 133/200\n",
            "9/9 [==============================] - 4s 476ms/step - loss: 0.6757 - accuracy: 0.7849 - val_loss: 0.7092 - val_accuracy: 0.7391\n",
            "Epoch 134/200\n",
            "9/9 [==============================] - 4s 430ms/step - loss: 0.6836 - accuracy: 0.7455 - val_loss: 0.7067 - val_accuracy: 0.7391\n",
            "Epoch 135/200\n",
            "9/9 [==============================] - 4s 399ms/step - loss: 0.7211 - accuracy: 0.7168 - val_loss: 0.7046 - val_accuracy: 0.7464\n",
            "Epoch 136/200\n",
            "9/9 [==============================] - 3s 377ms/step - loss: 0.6907 - accuracy: 0.7455 - val_loss: 0.7024 - val_accuracy: 0.7464\n",
            "Epoch 137/200\n",
            "9/9 [==============================] - 5s 551ms/step - loss: 0.6987 - accuracy: 0.7240 - val_loss: 0.7002 - val_accuracy: 0.7464\n",
            "Epoch 138/200\n",
            "9/9 [==============================] - 4s 388ms/step - loss: 0.7129 - accuracy: 0.7204 - val_loss: 0.6979 - val_accuracy: 0.7464\n",
            "Epoch 139/200\n",
            "9/9 [==============================] - 4s 409ms/step - loss: 0.6730 - accuracy: 0.7742 - val_loss: 0.6961 - val_accuracy: 0.7536\n",
            "Epoch 140/200\n",
            "9/9 [==============================] - 5s 571ms/step - loss: 0.7042 - accuracy: 0.7204 - val_loss: 0.6938 - val_accuracy: 0.7536\n",
            "Epoch 141/200\n",
            "9/9 [==============================] - 3s 384ms/step - loss: 0.6751 - accuracy: 0.7455 - val_loss: 0.6918 - val_accuracy: 0.7536\n",
            "Epoch 142/200\n",
            "9/9 [==============================] - 4s 406ms/step - loss: 0.6662 - accuracy: 0.7563 - val_loss: 0.6894 - val_accuracy: 0.7536\n",
            "Epoch 143/200\n",
            "9/9 [==============================] - 5s 582ms/step - loss: 0.6701 - accuracy: 0.7563 - val_loss: 0.6875 - val_accuracy: 0.7536\n",
            "Epoch 144/200\n",
            "9/9 [==============================] - 3s 375ms/step - loss: 0.6576 - accuracy: 0.7670 - val_loss: 0.6857 - val_accuracy: 0.7536\n",
            "Epoch 145/200\n",
            "9/9 [==============================] - 4s 408ms/step - loss: 0.6723 - accuracy: 0.7348 - val_loss: 0.6839 - val_accuracy: 0.7536\n",
            "Epoch 146/200\n",
            "9/9 [==============================] - 5s 530ms/step - loss: 0.6856 - accuracy: 0.7527 - val_loss: 0.6820 - val_accuracy: 0.7536\n",
            "Epoch 147/200\n",
            "9/9 [==============================] - 3s 375ms/step - loss: 0.6816 - accuracy: 0.7599 - val_loss: 0.6799 - val_accuracy: 0.7536\n",
            "Epoch 148/200\n",
            "9/9 [==============================] - 3s 379ms/step - loss: 0.6897 - accuracy: 0.7240 - val_loss: 0.6778 - val_accuracy: 0.7536\n",
            "Epoch 149/200\n",
            "9/9 [==============================] - 3s 380ms/step - loss: 0.6362 - accuracy: 0.7670 - val_loss: 0.6760 - val_accuracy: 0.7536\n",
            "Epoch 150/200\n",
            "9/9 [==============================] - 5s 482ms/step - loss: 0.6745 - accuracy: 0.7384 - val_loss: 0.6744 - val_accuracy: 0.7536\n",
            "Epoch 151/200\n",
            "9/9 [==============================] - 3s 373ms/step - loss: 0.6383 - accuracy: 0.7670 - val_loss: 0.6723 - val_accuracy: 0.7536\n",
            "Epoch 152/200\n",
            "9/9 [==============================] - 4s 402ms/step - loss: 0.6092 - accuracy: 0.8065 - val_loss: 0.6705 - val_accuracy: 0.7536\n",
            "Epoch 153/200\n",
            "9/9 [==============================] - 5s 518ms/step - loss: 0.6522 - accuracy: 0.7670 - val_loss: 0.6690 - val_accuracy: 0.7536\n",
            "Epoch 154/200\n",
            "9/9 [==============================] - 4s 405ms/step - loss: 0.6171 - accuracy: 0.7742 - val_loss: 0.6673 - val_accuracy: 0.7536\n",
            "Epoch 155/200\n",
            "9/9 [==============================] - 4s 401ms/step - loss: 0.6540 - accuracy: 0.7455 - val_loss: 0.6660 - val_accuracy: 0.7536\n",
            "Epoch 156/200\n",
            "9/9 [==============================] - 4s 431ms/step - loss: 0.6422 - accuracy: 0.7706 - val_loss: 0.6645 - val_accuracy: 0.7536\n",
            "Epoch 157/200\n",
            "9/9 [==============================] - 4s 454ms/step - loss: 0.6364 - accuracy: 0.7455 - val_loss: 0.6626 - val_accuracy: 0.7536\n",
            "Epoch 158/200\n",
            "9/9 [==============================] - 4s 406ms/step - loss: 0.6309 - accuracy: 0.7634 - val_loss: 0.6612 - val_accuracy: 0.7609\n",
            "Epoch 159/200\n",
            "9/9 [==============================] - 4s 406ms/step - loss: 0.6391 - accuracy: 0.7455 - val_loss: 0.6592 - val_accuracy: 0.7609\n",
            "Epoch 160/200\n",
            "9/9 [==============================] - 4s 470ms/step - loss: 0.6202 - accuracy: 0.7634 - val_loss: 0.6575 - val_accuracy: 0.7609\n",
            "Epoch 161/200\n",
            "9/9 [==============================] - 3s 382ms/step - loss: 0.6368 - accuracy: 0.7849 - val_loss: 0.6559 - val_accuracy: 0.7609\n",
            "Epoch 162/200\n",
            "9/9 [==============================] - 4s 418ms/step - loss: 0.6122 - accuracy: 0.7634 - val_loss: 0.6543 - val_accuracy: 0.7609\n",
            "Epoch 163/200\n",
            "9/9 [==============================] - 4s 414ms/step - loss: 0.6312 - accuracy: 0.7706 - val_loss: 0.6526 - val_accuracy: 0.7609\n",
            "Epoch 164/200\n",
            "9/9 [==============================] - 3s 376ms/step - loss: 0.6154 - accuracy: 0.7634 - val_loss: 0.6511 - val_accuracy: 0.7681\n",
            "Epoch 165/200\n",
            "9/9 [==============================] - 3s 372ms/step - loss: 0.6270 - accuracy: 0.7778 - val_loss: 0.6494 - val_accuracy: 0.7681\n",
            "Epoch 166/200\n",
            "9/9 [==============================] - 4s 408ms/step - loss: 0.6148 - accuracy: 0.7384 - val_loss: 0.6477 - val_accuracy: 0.7681\n",
            "Epoch 167/200\n",
            "9/9 [==============================] - 4s 414ms/step - loss: 0.6128 - accuracy: 0.7814 - val_loss: 0.6461 - val_accuracy: 0.7681\n",
            "Epoch 168/200\n",
            "9/9 [==============================] - 4s 411ms/step - loss: 0.6062 - accuracy: 0.7670 - val_loss: 0.6447 - val_accuracy: 0.7681\n",
            "Epoch 169/200\n",
            "9/9 [==============================] - 5s 482ms/step - loss: 0.5954 - accuracy: 0.7814 - val_loss: 0.6429 - val_accuracy: 0.7681\n",
            "Epoch 170/200\n",
            "9/9 [==============================] - 4s 400ms/step - loss: 0.6149 - accuracy: 0.7742 - val_loss: 0.6412 - val_accuracy: 0.7754\n",
            "Epoch 171/200\n",
            "9/9 [==============================] - 4s 402ms/step - loss: 0.6184 - accuracy: 0.7814 - val_loss: 0.6399 - val_accuracy: 0.7754\n",
            "Epoch 172/200\n",
            "9/9 [==============================] - 5s 539ms/step - loss: 0.6022 - accuracy: 0.7849 - val_loss: 0.6384 - val_accuracy: 0.7754\n",
            "Epoch 173/200\n",
            "9/9 [==============================] - 3s 375ms/step - loss: 0.6125 - accuracy: 0.7706 - val_loss: 0.6370 - val_accuracy: 0.7754\n",
            "Epoch 174/200\n",
            "9/9 [==============================] - 3s 376ms/step - loss: 0.6057 - accuracy: 0.7634 - val_loss: 0.6356 - val_accuracy: 0.7754\n",
            "Epoch 175/200\n",
            "9/9 [==============================] - 4s 480ms/step - loss: 0.6141 - accuracy: 0.7634 - val_loss: 0.6343 - val_accuracy: 0.7754\n",
            "Epoch 176/200\n",
            "9/9 [==============================] - 4s 409ms/step - loss: 0.5906 - accuracy: 0.7993 - val_loss: 0.6328 - val_accuracy: 0.7754\n",
            "Epoch 177/200\n",
            "9/9 [==============================] - 3s 381ms/step - loss: 0.5932 - accuracy: 0.7849 - val_loss: 0.6315 - val_accuracy: 0.7754\n",
            "Epoch 178/200\n",
            "9/9 [==============================] - 4s 416ms/step - loss: 0.6006 - accuracy: 0.7885 - val_loss: 0.6303 - val_accuracy: 0.7754\n",
            "Epoch 179/200\n",
            "9/9 [==============================] - 5s 489ms/step - loss: 0.6146 - accuracy: 0.7706 - val_loss: 0.6291 - val_accuracy: 0.7754\n",
            "Epoch 180/200\n",
            "9/9 [==============================] - 4s 403ms/step - loss: 0.5927 - accuracy: 0.7814 - val_loss: 0.6277 - val_accuracy: 0.7754\n",
            "Epoch 181/200\n",
            "9/9 [==============================] - 3s 376ms/step - loss: 0.5751 - accuracy: 0.7849 - val_loss: 0.6263 - val_accuracy: 0.7754\n",
            "Epoch 182/200\n",
            "9/9 [==============================] - 5s 558ms/step - loss: 0.5917 - accuracy: 0.7814 - val_loss: 0.6253 - val_accuracy: 0.7899\n",
            "Epoch 183/200\n",
            "9/9 [==============================] - 3s 378ms/step - loss: 0.5962 - accuracy: 0.7599 - val_loss: 0.6243 - val_accuracy: 0.7899\n",
            "Epoch 184/200\n",
            "9/9 [==============================] - 3s 378ms/step - loss: 0.5765 - accuracy: 0.7814 - val_loss: 0.6231 - val_accuracy: 0.7899\n",
            "Epoch 185/200\n",
            "9/9 [==============================] - 5s 537ms/step - loss: 0.5859 - accuracy: 0.7706 - val_loss: 0.6219 - val_accuracy: 0.7899\n",
            "Epoch 186/200\n",
            "9/9 [==============================] - 4s 405ms/step - loss: 0.5660 - accuracy: 0.8100 - val_loss: 0.6205 - val_accuracy: 0.7899\n",
            "Epoch 187/200\n",
            "9/9 [==============================] - 3s 386ms/step - loss: 0.5646 - accuracy: 0.7921 - val_loss: 0.6196 - val_accuracy: 0.7899\n",
            "Epoch 188/200\n",
            "9/9 [==============================] - 4s 505ms/step - loss: 0.5673 - accuracy: 0.7957 - val_loss: 0.6184 - val_accuracy: 0.7899\n",
            "Epoch 189/200\n",
            "9/9 [==============================] - 4s 405ms/step - loss: 0.5954 - accuracy: 0.7599 - val_loss: 0.6174 - val_accuracy: 0.7899\n",
            "Epoch 190/200\n",
            "9/9 [==============================] - 3s 377ms/step - loss: 0.5689 - accuracy: 0.7778 - val_loss: 0.6161 - val_accuracy: 0.7899\n",
            "Epoch 191/200\n",
            "9/9 [==============================] - 4s 404ms/step - loss: 0.5820 - accuracy: 0.7849 - val_loss: 0.6150 - val_accuracy: 0.7899\n",
            "Epoch 192/200\n",
            "9/9 [==============================] - 4s 464ms/step - loss: 0.5853 - accuracy: 0.7670 - val_loss: 0.6139 - val_accuracy: 0.7899\n",
            "Epoch 193/200\n",
            "9/9 [==============================] - 3s 392ms/step - loss: 0.5581 - accuracy: 0.8029 - val_loss: 0.6128 - val_accuracy: 0.7899\n",
            "Epoch 194/200\n",
            "9/9 [==============================] - 4s 404ms/step - loss: 0.5656 - accuracy: 0.7778 - val_loss: 0.6118 - val_accuracy: 0.7899\n",
            "Epoch 195/200\n",
            "9/9 [==============================] - 5s 547ms/step - loss: 0.5410 - accuracy: 0.8029 - val_loss: 0.6104 - val_accuracy: 0.7899\n",
            "Epoch 196/200\n",
            "9/9 [==============================] - 4s 403ms/step - loss: 0.5751 - accuracy: 0.8029 - val_loss: 0.6090 - val_accuracy: 0.7899\n",
            "Epoch 197/200\n",
            "9/9 [==============================] - 3s 376ms/step - loss: 0.5638 - accuracy: 0.7957 - val_loss: 0.6076 - val_accuracy: 0.7899\n",
            "Epoch 198/200\n",
            "9/9 [==============================] - 4s 438ms/step - loss: 0.5482 - accuracy: 0.8100 - val_loss: 0.6066 - val_accuracy: 0.7899\n",
            "Epoch 199/200\n",
            "9/9 [==============================] - 4s 406ms/step - loss: 0.5393 - accuracy: 0.7814 - val_loss: 0.6055 - val_accuracy: 0.7899\n",
            "Epoch 200/200\n",
            "9/9 [==============================] - 3s 377ms/step - loss: 0.5289 - accuracy: 0.8065 - val_loss: 0.6046 - val_accuracy: 0.7899\n"
          ]
        }
      ]
    },
    {
      "cell_type": "code",
      "source": [
        "from sklearn.metrics import confusion_matrix, classification_report\n",
        "import numpy as np\n",
        "import matplotlib.pyplot as plt\n",
        "import seaborn as sns\n",
        "\n",
        "Y_pred = model_resnet50ver2.predict(X_test)\n",
        "Y_pred_classes = np.argmax(Y_pred, axis=1)\n",
        "Y_true = np.argmax(Y_test, axis=1)\n",
        "\n",
        "conf_matrix = confusion_matrix(Y_true, Y_pred_classes)\n",
        "\n",
        "plt.figure(figsize=(8, 6))\n",
        "sns.heatmap(conf_matrix, annot=True, fmt=\"d\", cmap=\"Blues\", xticklabels=['Common_Rust', 'Healthy', 'Gray_Leaf_Spot', 'Blight'], yticklabels=['Common_Rust', 'Healthy', 'Gray_Leaf_Spot', 'Blight'])\n",
        "plt.xlabel('Predicted labels')\n",
        "plt.ylabel('True labels')\n",
        "plt.title('Confusion Matrix')\n",
        "plt.show()\n",
        "\n",
        "class_report = classification_report(Y_true, Y_pred_classes)\n",
        "\n",
        "print(\"\\nClassification Report:\")\n",
        "print(class_report)\n"
      ],
      "metadata": {
        "colab": {
          "base_uri": "https://localhost:8080/",
          "height": 807
        },
        "id": "YWvBAbaMInI-",
        "outputId": "8e910065-0029-452d-b1c8-cf622924de61"
      },
      "execution_count": 24,
      "outputs": [
        {
          "output_type": "stream",
          "name": "stdout",
          "text": [
            "5/5 [==============================] - 1s 101ms/step\n"
          ]
        },
        {
          "output_type": "display_data",
          "data": {
            "text/plain": [
              "<Figure size 800x600 with 2 Axes>"
            ],
            "image/png": "[encoded data removed]"
          },
          "metadata": {}
        },
        {
          "output_type": "stream",
          "name": "stdout",
          "text": [
            "\n",
            "Classification Report:\n",
            "              precision    recall  f1-score   support\n",
            "\n",
            "           0       0.72      0.85      0.78        40\n",
            "           1       0.87      0.87      0.87        52\n",
            "           2       0.40      0.22      0.29        18\n",
            "           3       0.90      0.93      0.91        28\n",
            "\n",
            "    accuracy                           0.79       138\n",
            "   macro avg       0.72      0.72      0.71       138\n",
            "weighted avg       0.77      0.79      0.78       138\n",
            "\n"
          ]
        }
      ]
    }
  ]
}