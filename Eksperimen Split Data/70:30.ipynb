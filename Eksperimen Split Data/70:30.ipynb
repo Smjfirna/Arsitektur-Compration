{
  "nbformat": 4,
  "nbformat_minor": 0,
  "metadata": {
    "colab": {
      "provenance": [],
      "gpuType": "T4",
      "include_colab_link": true
    },
    "kernelspec": {
      "name": "python3",
      "display_name": "Python 3"
    },
    "language_info": {
      "name": "python"
    },
    "accelerator": "GPU"
  },
  "cells": [
    {
      "cell_type": "markdown",
      "metadata": {
        "id": "view-in-github",
        "colab_type": "text"
      },
      "source": [
        "<a href=\"https://colab.research.google.com/github/Smjfirna/Arsitektur-Compration/blob/main/Eksperimen%20Split%20Data/70%3A30.ipynb\" target=\"_parent\"><img src=\"https://colab.research.google.com/assets/colab-badge.svg\" alt=\"Open In Colab\"/></a>"
      ]
    },
    {
      "cell_type": "code",
      "source": [
        "import os\n",
        "import cv2\n",
        "import numpy as np\n",
        "from tqdm import tqdm\n",
        "from sklearn.model_selection import train_test_split\n",
        "from sklearn.preprocessing import LabelEncoder\n",
        "from keras.utils import to_categorical\n",
        "\n",
        "import tensorflow as tf\n",
        "from tensorflow.keras.preprocessing.image import ImageDataGenerator\n",
        "from tensorflow.keras.models import Sequential\n",
        "from tensorflow.keras import layers, Model, regularizers\n",
        "from tensorflow.keras.callbacks import EarlyStopping\n",
        "from tensorflow.keras.layers import Conv2D, MaxPooling2D, Flatten, Dense, GlobalAveragePooling2D, Dropout\n",
        "import os\n",
        "from tensorflow.keras.optimizers import Adam\n",
        "from tensorflow.keras.optimizers import RMSprop\n",
        "\n",
        "from keras.applications import ResNet50"
      ],
      "metadata": {
        "id": "LaloGmhuhwP-"
      },
      "execution_count": 1,
      "outputs": []
    },
    {
      "cell_type": "code",
      "execution_count": 2,
      "metadata": {
        "colab": {
          "base_uri": "https://localhost:8080/"
        },
        "id": "d_i5Zy9kdLGU",
        "outputId": "73997e5e-6584-4f36-b4f6-af00a81b4951"
      },
      "outputs": [
        {
          "output_type": "stream",
          "name": "stdout",
          "text": [
            "Mounted at /content/drive\n"
          ]
        }
      ],
      "source": [
        "from google.colab import drive\n",
        "drive.mount('/content/drive')"
      ]
    },
    {
      "cell_type": "code",
      "source": [
        "dataset_dir = \"/content/drive/MyDrive/Skripsi/Data Sample 10\"\n",
        "\n",
        "print(os.listdir(dataset_dir))"
      ],
      "metadata": {
        "colab": {
          "base_uri": "https://localhost:8080/"
        },
        "id": "c60kX1_DjBPd",
        "outputId": "a2c88fd0-4f0e-4008-b182-e731141724bf"
      },
      "execution_count": 3,
      "outputs": [
        {
          "output_type": "stream",
          "name": "stdout",
          "text": [
            "['Healthy', 'Blight', 'Gray_Leaf_Spot', 'Common_Rust']\n"
          ]
        }
      ]
    },
    {
      "cell_type": "code",
      "source": [
        "size_resnet50 = 224"
      ],
      "metadata": {
        "id": "Mjg6pdK1DO1a"
      },
      "execution_count": 4,
      "outputs": []
    },
    {
      "cell_type": "code",
      "source": [
        "def make_data(label, DIR, img_list, label_list):\n",
        "    for img in tqdm(os.listdir(DIR)):\n",
        "        path = os.path.join(DIR, img)\n",
        "        img = cv2.imread(path, cv2.IMREAD_COLOR)\n",
        "        img = cv2.resize(img, (size_resnet50, size_resnet50))\n",
        "        img_list.append(np.array(img))\n",
        "        label_list.append(str(label))"
      ],
      "metadata": {
        "id": "XgNY4FGvD-BF"
      },
      "execution_count": 5,
      "outputs": []
    },
    {
      "cell_type": "code",
      "source": [
        "X = []\n",
        "Z = []"
      ],
      "metadata": {
        "id": "HPv9tP13DXm6"
      },
      "execution_count": 6,
      "outputs": []
    },
    {
      "cell_type": "code",
      "source": [
        "for i, class_name in enumerate(['Common_Rust', 'Healthy', 'Gray_Leaf_Spot', 'Blight']):\n",
        "    class_dir = os.path.join(dataset_dir, class_name)\n",
        "    make_data(class_name, class_dir, X, Z)"
      ],
      "metadata": {
        "colab": {
          "base_uri": "https://localhost:8080/"
        },
        "id": "L7CgU46UDc6d",
        "outputId": "665460ac-2a7c-4c52-f716-1b0b7eccca52"
      },
      "execution_count": 7,
      "outputs": [
        {
          "output_type": "stream",
          "name": "stderr",
          "text": [
            "100%|██████████| 130/130 [00:07<00:00, 17.37it/s]\n",
            "100%|██████████| 116/116 [00:03<00:00, 30.99it/s] \n",
            "100%|██████████| 57/57 [00:45<00:00,  1.27it/s]\n",
            "100%|██████████| 114/114 [00:14<00:00,  7.64it/s]\n"
          ]
        }
      ]
    },
    {
      "cell_type": "code",
      "source": [
        "import matplotlib.pyplot as plt\n",
        "\n",
        "# Menghitung jumlah data untuk setiap kelas\n",
        "class_counts = {class_name: Z.count(class_name) for class_name in set(Z)}\n",
        "\n",
        "# Menampilkan visualisasi jumlah data\n",
        "plt.figure(figsize=(4, 4))\n",
        "plt.bar(class_counts.keys(), class_counts.values())\n",
        "plt.xlabel('Class')\n",
        "plt.ylabel('Count')\n",
        "plt.title('Number of Data Samples for Each Class')\n",
        "plt.show()"
      ],
      "metadata": {
        "colab": {
          "base_uri": "https://localhost:8080/",
          "height": 410
        },
        "id": "jWbdII-8E9kW",
        "outputId": "936893c7-3ee9-44ca-ec52-ab75ebb6e9d4"
      },
      "execution_count": 8,
      "outputs": [
        {
          "output_type": "display_data",
          "data": {
            "text/plain": [
              "<Figure size 400x400 with 1 Axes>"
            ],
            "image/png": "[encoded data removed]"
          },
          "metadata": {}
        }
      ]
    },
    {
      "cell_type": "code",
      "source": [
        "le = LabelEncoder()\n",
        "Y = le.fit_transform(Z)\n",
        "Y = to_categorical(Y, num_classes=len(le.classes_))\n",
        "\n",
        "# Konversi ke array numpy\n",
        "X = np.array(X)\n",
        "\n",
        "# Memisahkan data menjadi data latih dan data uji\n",
        "X_train, X_test, Y_train, Y_test = train_test_split(X, Y, test_size=0.3, random_state=42)\n",
        "\n",
        "print(\"Jumlah Data Train adalah :\", len(X_train))\n",
        "print(\"Jumlah Data Test adalah :\", len(X_test))"
      ],
      "metadata": {
        "colab": {
          "base_uri": "https://localhost:8080/"
        },
        "id": "LFG1SJ3OFPWV",
        "outputId": "b58e9b8b-e2c7-4384-d561-846833a6192a"
      },
      "execution_count": 17,
      "outputs": [
        {
          "output_type": "stream",
          "name": "stdout",
          "text": [
            "Jumlah Data Train adalah : 291\n",
            "Jumlah Data Test adalah : 126\n"
          ]
        }
      ]
    },
    {
      "cell_type": "code",
      "source": [
        "datagen = ImageDataGenerator(\n",
        "    rotation_range=20,\n",
        "    zoom_range=0.2,\n",
        "    horizontal_flip=True,\n",
        ")\n",
        "\n",
        "datagen.fit(X_train)"
      ],
      "metadata": {
        "id": "l_s_dW_k2OKD"
      },
      "execution_count": 18,
      "outputs": []
    },
    {
      "cell_type": "code",
      "source": [
        "resnet50 = ResNet50(include_top=False, weights='imagenet', input_shape=(size_resnet50, size_resnet50, 3))\n",
        "\n",
        "# Membuat model Sequential\n",
        "model_resnet50ver2 = Sequential()\n",
        "model_resnet50ver2.add(resnet50)\n",
        "model_resnet50ver2.add(GlobalAveragePooling2D())\n",
        "model_resnet50ver2.add(Dense(4, activation='softmax'))\n",
        "\n",
        "# Membekukan layer-layer ResNet50 yang telah dilatih\n",
        "for layer in resnet50.layers:\n",
        "    layer.trainable = False\n",
        "\n",
        "# Mengompilasi model dengan optimizer Adam dan loss function categorical crossentropy\n",
        "model_resnet50ver2.compile(optimizer=Adam(learning_rate=1e-5), loss='categorical_crossentropy', metrics=['accuracy'])\n",
        "\n",
        "# Menampilkan summary dari model\n",
        "model_resnet50ver2.summary()\n",
        "\n",
        "# Melatih model dengan data latih dan validasi\n",
        "history_resnet50ver2 = model_resnet50ver2.fit(datagen.flow(X_train, Y_train), epochs=200, validation_data=(X_test, Y_test))"
      ],
      "metadata": {
        "colab": {
          "base_uri": "https://localhost:8080/"
        },
        "id": "L4NJLS5-FT93",
        "outputId": "56b670b0-bc84-40a0-b241-d7bc7c2bc65d"
      },
      "execution_count": 19,
      "outputs": [
        {
          "output_type": "stream",
          "name": "stdout",
          "text": [
            "Model: \"sequential_2\"\n",
            "_________________________________________________________________\n",
            " Layer (type)                Output Shape              Param #   \n",
            "=================================================================\n",
            " resnet50 (Functional)       (None, 7, 7, 2048)        23587712  \n",
            "                                                                 \n",
            " global_average_pooling2d_2  (None, 2048)              0         \n",
            "  (GlobalAveragePooling2D)                                       \n",
            "                                                                 \n",
            " dense_2 (Dense)             (None, 4)                 8196      \n",
            "                                                                 \n",
            "=================================================================\n",
            "Total params: 23595908 (90.01 MB)\n",
            "Trainable params: 8196 (32.02 KB)\n",
            "Non-trainable params: 23587712 (89.98 MB)\n",
            "_________________________________________________________________\n",
            "Epoch 1/200\n",
            "10/10 [==============================] - 11s 738ms/step - loss: 1.5977 - accuracy: 0.5155 - val_loss: 1.4382 - val_accuracy: 0.5000\n",
            "Epoch 2/200\n",
            "10/10 [==============================] - 5s 491ms/step - loss: 1.5926 - accuracy: 0.4639 - val_loss: 1.4110 - val_accuracy: 0.5079\n",
            "Epoch 3/200\n",
            "10/10 [==============================] - 4s 374ms/step - loss: 1.5652 - accuracy: 0.4914 - val_loss: 1.3855 - val_accuracy: 0.5238\n",
            "Epoch 4/200\n",
            "10/10 [==============================] - 4s 369ms/step - loss: 1.4764 - accuracy: 0.4742 - val_loss: 1.3601 - val_accuracy: 0.5317\n",
            "Epoch 5/200\n",
            "10/10 [==============================] - 4s 420ms/step - loss: 1.4760 - accuracy: 0.4983 - val_loss: 1.3398 - val_accuracy: 0.5397\n",
            "Epoch 6/200\n",
            "10/10 [==============================] - 4s 384ms/step - loss: 1.4087 - accuracy: 0.4639 - val_loss: 1.3203 - val_accuracy: 0.5397\n",
            "Epoch 7/200\n",
            "10/10 [==============================] - 4s 412ms/step - loss: 1.4313 - accuracy: 0.4742 - val_loss: 1.3038 - val_accuracy: 0.5397\n",
            "Epoch 8/200\n",
            "10/10 [==============================] - 4s 392ms/step - loss: 1.4011 - accuracy: 0.5017 - val_loss: 1.2869 - val_accuracy: 0.5556\n",
            "Epoch 9/200\n",
            "10/10 [==============================] - 4s 371ms/step - loss: 1.3748 - accuracy: 0.4708 - val_loss: 1.2701 - val_accuracy: 0.5556\n",
            "Epoch 10/200\n",
            "10/10 [==============================] - 3s 344ms/step - loss: 1.3750 - accuracy: 0.4880 - val_loss: 1.2562 - val_accuracy: 0.5556\n",
            "Epoch 11/200\n",
            "10/10 [==============================] - 4s 393ms/step - loss: 1.3269 - accuracy: 0.4845 - val_loss: 1.2423 - val_accuracy: 0.5556\n",
            "Epoch 12/200\n",
            "10/10 [==============================] - 4s 418ms/step - loss: 1.3007 - accuracy: 0.4914 - val_loss: 1.2318 - val_accuracy: 0.5635\n",
            "Epoch 13/200\n",
            "10/10 [==============================] - 4s 383ms/step - loss: 1.3332 - accuracy: 0.4708 - val_loss: 1.2191 - val_accuracy: 0.5714\n",
            "Epoch 14/200\n",
            "10/10 [==============================] - 3s 343ms/step - loss: 1.2866 - accuracy: 0.5120 - val_loss: 1.2066 - val_accuracy: 0.5714\n",
            "Epoch 15/200\n",
            "10/10 [==============================] - 5s 498ms/step - loss: 1.2746 - accuracy: 0.4983 - val_loss: 1.1947 - val_accuracy: 0.5635\n",
            "Epoch 16/200\n",
            "10/10 [==============================] - 4s 346ms/step - loss: 1.2718 - accuracy: 0.4777 - val_loss: 1.1837 - val_accuracy: 0.5635\n",
            "Epoch 17/200\n",
            "10/10 [==============================] - 4s 415ms/step - loss: 1.2475 - accuracy: 0.4777 - val_loss: 1.1740 - val_accuracy: 0.5714\n",
            "Epoch 18/200\n",
            "10/10 [==============================] - 5s 525ms/step - loss: 1.2620 - accuracy: 0.4880 - val_loss: 1.1640 - val_accuracy: 0.5714\n",
            "Epoch 19/200\n",
            "10/10 [==============================] - 4s 373ms/step - loss: 1.2467 - accuracy: 0.5017 - val_loss: 1.1561 - val_accuracy: 0.5714\n",
            "Epoch 20/200\n",
            "10/10 [==============================] - 4s 369ms/step - loss: 1.1870 - accuracy: 0.5086 - val_loss: 1.1476 - val_accuracy: 0.5794\n",
            "Epoch 21/200\n",
            "10/10 [==============================] - 4s 449ms/step - loss: 1.1874 - accuracy: 0.5258 - val_loss: 1.1391 - val_accuracy: 0.5873\n",
            "Epoch 22/200\n",
            "10/10 [==============================] - 3s 344ms/step - loss: 1.1370 - accuracy: 0.5189 - val_loss: 1.1306 - val_accuracy: 0.5952\n",
            "Epoch 23/200\n",
            "10/10 [==============================] - 4s 414ms/step - loss: 1.2199 - accuracy: 0.5086 - val_loss: 1.1224 - val_accuracy: 0.5952\n",
            "Epoch 24/200\n",
            "10/10 [==============================] - 4s 394ms/step - loss: 1.1685 - accuracy: 0.5395 - val_loss: 1.1143 - val_accuracy: 0.5952\n",
            "Epoch 25/200\n",
            "10/10 [==============================] - 3s 346ms/step - loss: 1.1347 - accuracy: 0.5292 - val_loss: 1.1076 - val_accuracy: 0.5952\n",
            "Epoch 26/200\n",
            "10/10 [==============================] - 3s 342ms/step - loss: 1.1416 - accuracy: 0.5498 - val_loss: 1.0998 - val_accuracy: 0.5952\n",
            "Epoch 27/200\n",
            "10/10 [==============================] - 4s 399ms/step - loss: 1.1203 - accuracy: 0.5361 - val_loss: 1.0923 - val_accuracy: 0.5952\n",
            "Epoch 28/200\n",
            "10/10 [==============================] - 4s 392ms/step - loss: 1.1655 - accuracy: 0.5326 - val_loss: 1.0848 - val_accuracy: 0.5952\n",
            "Epoch 29/200\n",
            "10/10 [==============================] - 3s 338ms/step - loss: 1.1258 - accuracy: 0.5361 - val_loss: 1.0787 - val_accuracy: 0.5952\n",
            "Epoch 30/200\n",
            "10/10 [==============================] - 3s 340ms/step - loss: 1.1317 - accuracy: 0.5155 - val_loss: 1.0729 - val_accuracy: 0.5873\n",
            "Epoch 31/200\n",
            "10/10 [==============================] - 5s 490ms/step - loss: 1.1089 - accuracy: 0.5155 - val_loss: 1.0656 - val_accuracy: 0.5873\n",
            "Epoch 32/200\n",
            "10/10 [==============================] - 4s 368ms/step - loss: 1.0910 - accuracy: 0.5498 - val_loss: 1.0565 - val_accuracy: 0.5873\n",
            "Epoch 33/200\n",
            "10/10 [==============================] - 3s 342ms/step - loss: 1.1112 - accuracy: 0.5292 - val_loss: 1.0489 - val_accuracy: 0.5952\n",
            "Epoch 34/200\n",
            "10/10 [==============================] - 4s 447ms/step - loss: 1.0766 - accuracy: 0.5361 - val_loss: 1.0401 - val_accuracy: 0.5952\n",
            "Epoch 35/200\n",
            "10/10 [==============================] - 3s 342ms/step - loss: 1.0458 - accuracy: 0.5670 - val_loss: 1.0339 - val_accuracy: 0.5952\n",
            "Epoch 36/200\n",
            "10/10 [==============================] - 4s 374ms/step - loss: 1.0509 - accuracy: 0.5739 - val_loss: 1.0292 - val_accuracy: 0.5952\n",
            "Epoch 37/200\n",
            "10/10 [==============================] - 4s 434ms/step - loss: 1.0993 - accuracy: 0.5361 - val_loss: 1.0233 - val_accuracy: 0.5952\n",
            "Epoch 38/200\n",
            "10/10 [==============================] - 4s 374ms/step - loss: 1.0496 - accuracy: 0.5704 - val_loss: 1.0180 - val_accuracy: 0.5952\n",
            "Epoch 39/200\n",
            "10/10 [==============================] - 4s 380ms/step - loss: 1.0714 - accuracy: 0.5361 - val_loss: 1.0126 - val_accuracy: 0.5873\n",
            "Epoch 40/200\n",
            "10/10 [==============================] - 4s 423ms/step - loss: 1.0085 - accuracy: 0.5808 - val_loss: 1.0074 - val_accuracy: 0.5873\n",
            "Epoch 41/200\n",
            "10/10 [==============================] - 4s 373ms/step - loss: 1.0770 - accuracy: 0.5533 - val_loss: 1.0018 - val_accuracy: 0.5952\n",
            "Epoch 42/200\n",
            "10/10 [==============================] - 3s 341ms/step - loss: 1.0117 - accuracy: 0.5842 - val_loss: 0.9973 - val_accuracy: 0.6032\n",
            "Epoch 43/200\n",
            "10/10 [==============================] - 5s 512ms/step - loss: 1.0637 - accuracy: 0.5464 - val_loss: 0.9908 - val_accuracy: 0.5952\n",
            "Epoch 44/200\n",
            "10/10 [==============================] - 3s 343ms/step - loss: 1.0436 - accuracy: 0.5464 - val_loss: 0.9848 - val_accuracy: 0.6032\n",
            "Epoch 45/200\n",
            "10/10 [==============================] - 4s 350ms/step - loss: 1.0381 - accuracy: 0.5533 - val_loss: 0.9784 - val_accuracy: 0.6032\n",
            "Epoch 46/200\n",
            "10/10 [==============================] - 5s 470ms/step - loss: 1.0214 - accuracy: 0.6186 - val_loss: 0.9733 - val_accuracy: 0.6190\n",
            "Epoch 47/200\n",
            "10/10 [==============================] - 4s 348ms/step - loss: 1.0540 - accuracy: 0.5567 - val_loss: 0.9683 - val_accuracy: 0.6270\n",
            "Epoch 48/200\n",
            "10/10 [==============================] - 4s 345ms/step - loss: 1.0205 - accuracy: 0.5567 - val_loss: 0.9636 - val_accuracy: 0.6270\n",
            "Epoch 49/200\n",
            "10/10 [==============================] - 4s 384ms/step - loss: 1.0142 - accuracy: 0.5876 - val_loss: 0.9597 - val_accuracy: 0.6349\n",
            "Epoch 50/200\n",
            "10/10 [==============================] - 3s 340ms/step - loss: 0.9957 - accuracy: 0.5876 - val_loss: 0.9537 - val_accuracy: 0.6349\n",
            "Epoch 51/200\n",
            "10/10 [==============================] - 4s 372ms/step - loss: 1.0154 - accuracy: 0.5670 - val_loss: 0.9476 - val_accuracy: 0.6349\n",
            "Epoch 52/200\n",
            "10/10 [==============================] - 4s 397ms/step - loss: 0.9971 - accuracy: 0.5704 - val_loss: 0.9425 - val_accuracy: 0.6349\n",
            "Epoch 53/200\n",
            "10/10 [==============================] - 4s 419ms/step - loss: 1.0019 - accuracy: 0.5842 - val_loss: 0.9374 - val_accuracy: 0.6429\n",
            "Epoch 54/200\n",
            "10/10 [==============================] - 4s 373ms/step - loss: 0.9704 - accuracy: 0.5601 - val_loss: 0.9320 - val_accuracy: 0.6429\n",
            "Epoch 55/200\n",
            "10/10 [==============================] - 4s 421ms/step - loss: 1.0017 - accuracy: 0.5945 - val_loss: 0.9265 - val_accuracy: 0.6508\n",
            "Epoch 56/200\n",
            "10/10 [==============================] - 4s 373ms/step - loss: 0.9723 - accuracy: 0.6186 - val_loss: 0.9218 - val_accuracy: 0.6508\n",
            "Epoch 57/200\n",
            "10/10 [==============================] - 4s 354ms/step - loss: 0.9552 - accuracy: 0.6048 - val_loss: 0.9161 - val_accuracy: 0.6508\n",
            "Epoch 58/200\n",
            "10/10 [==============================] - 4s 427ms/step - loss: 0.9647 - accuracy: 0.6014 - val_loss: 0.9120 - val_accuracy: 0.6508\n",
            "Epoch 59/200\n",
            "10/10 [==============================] - 4s 359ms/step - loss: 0.9449 - accuracy: 0.5979 - val_loss: 0.9085 - val_accuracy: 0.6508\n",
            "Epoch 60/200\n",
            "10/10 [==============================] - 4s 381ms/step - loss: 0.9490 - accuracy: 0.5739 - val_loss: 0.9053 - val_accuracy: 0.6587\n",
            "Epoch 61/200\n",
            "10/10 [==============================] - 5s 456ms/step - loss: 0.9763 - accuracy: 0.5842 - val_loss: 0.9009 - val_accuracy: 0.6587\n",
            "Epoch 62/200\n",
            "10/10 [==============================] - 4s 351ms/step - loss: 0.9335 - accuracy: 0.6254 - val_loss: 0.8951 - val_accuracy: 0.6667\n",
            "Epoch 63/200\n",
            "10/10 [==============================] - 4s 370ms/step - loss: 0.9054 - accuracy: 0.6186 - val_loss: 0.8902 - val_accuracy: 0.6667\n",
            "Epoch 64/200\n",
            "10/10 [==============================] - 4s 376ms/step - loss: 0.9296 - accuracy: 0.6082 - val_loss: 0.8858 - val_accuracy: 0.6667\n",
            "Epoch 65/200\n",
            "10/10 [==============================] - 4s 373ms/step - loss: 0.9221 - accuracy: 0.6254 - val_loss: 0.8819 - val_accuracy: 0.6667\n",
            "Epoch 66/200\n",
            "10/10 [==============================] - 4s 375ms/step - loss: 0.9088 - accuracy: 0.6220 - val_loss: 0.8773 - val_accuracy: 0.6667\n",
            "Epoch 67/200\n",
            "10/10 [==============================] - 5s 522ms/step - loss: 0.8987 - accuracy: 0.6254 - val_loss: 0.8731 - val_accuracy: 0.6746\n",
            "Epoch 68/200\n",
            "10/10 [==============================] - 4s 373ms/step - loss: 0.9417 - accuracy: 0.6151 - val_loss: 0.8688 - val_accuracy: 0.6746\n",
            "Epoch 69/200\n",
            "10/10 [==============================] - 4s 367ms/step - loss: 0.9290 - accuracy: 0.5911 - val_loss: 0.8657 - val_accuracy: 0.6825\n",
            "Epoch 70/200\n",
            "10/10 [==============================] - 5s 483ms/step - loss: 0.9118 - accuracy: 0.6117 - val_loss: 0.8628 - val_accuracy: 0.6825\n",
            "Epoch 71/200\n",
            "10/10 [==============================] - 4s 376ms/step - loss: 0.9167 - accuracy: 0.6048 - val_loss: 0.8595 - val_accuracy: 0.6905\n",
            "Epoch 72/200\n",
            "10/10 [==============================] - 4s 378ms/step - loss: 0.8822 - accuracy: 0.6151 - val_loss: 0.8553 - val_accuracy: 0.6984\n",
            "Epoch 73/200\n",
            "10/10 [==============================] - 5s 512ms/step - loss: 0.9043 - accuracy: 0.6048 - val_loss: 0.8514 - val_accuracy: 0.6984\n",
            "Epoch 74/200\n",
            "10/10 [==============================] - 4s 356ms/step - loss: 0.8829 - accuracy: 0.6289 - val_loss: 0.8473 - val_accuracy: 0.6984\n",
            "Epoch 75/200\n",
            "10/10 [==============================] - 4s 370ms/step - loss: 0.8836 - accuracy: 0.6460 - val_loss: 0.8438 - val_accuracy: 0.6984\n",
            "Epoch 76/200\n",
            "10/10 [==============================] - 5s 472ms/step - loss: 0.9020 - accuracy: 0.6117 - val_loss: 0.8398 - val_accuracy: 0.6984\n",
            "Epoch 77/200\n",
            "10/10 [==============================] - 4s 374ms/step - loss: 0.8880 - accuracy: 0.6220 - val_loss: 0.8367 - val_accuracy: 0.6984\n",
            "Epoch 78/200\n",
            "10/10 [==============================] - 4s 371ms/step - loss: 0.8600 - accuracy: 0.6460 - val_loss: 0.8313 - val_accuracy: 0.6984\n",
            "Epoch 79/200\n",
            "10/10 [==============================] - 4s 442ms/step - loss: 0.8494 - accuracy: 0.6254 - val_loss: 0.8258 - val_accuracy: 0.6905\n",
            "Epoch 80/200\n",
            "10/10 [==============================] - 3s 338ms/step - loss: 0.8870 - accuracy: 0.6220 - val_loss: 0.8222 - val_accuracy: 0.6984\n",
            "Epoch 81/200\n",
            "10/10 [==============================] - 4s 416ms/step - loss: 0.8782 - accuracy: 0.6460 - val_loss: 0.8187 - val_accuracy: 0.6984\n",
            "Epoch 82/200\n",
            "10/10 [==============================] - 5s 517ms/step - loss: 0.8879 - accuracy: 0.6289 - val_loss: 0.8157 - val_accuracy: 0.7063\n",
            "Epoch 83/200\n",
            "10/10 [==============================] - 3s 341ms/step - loss: 0.8478 - accuracy: 0.6460 - val_loss: 0.8111 - val_accuracy: 0.7063\n",
            "Epoch 84/200\n",
            "10/10 [==============================] - 3s 340ms/step - loss: 0.8402 - accuracy: 0.6667 - val_loss: 0.8074 - val_accuracy: 0.6984\n",
            "Epoch 85/200\n",
            "10/10 [==============================] - 4s 412ms/step - loss: 0.8703 - accuracy: 0.6220 - val_loss: 0.8054 - val_accuracy: 0.7063\n",
            "Epoch 86/200\n",
            "10/10 [==============================] - 4s 369ms/step - loss: 0.8694 - accuracy: 0.6254 - val_loss: 0.8027 - val_accuracy: 0.7063\n",
            "Epoch 87/200\n",
            "10/10 [==============================] - 3s 342ms/step - loss: 0.8162 - accuracy: 0.6632 - val_loss: 0.7991 - val_accuracy: 0.7063\n",
            "Epoch 88/200\n",
            "10/10 [==============================] - 4s 399ms/step - loss: 0.8518 - accuracy: 0.6289 - val_loss: 0.7960 - val_accuracy: 0.7063\n",
            "Epoch 89/200\n",
            "10/10 [==============================] - 4s 412ms/step - loss: 0.8355 - accuracy: 0.6323 - val_loss: 0.7923 - val_accuracy: 0.7063\n",
            "Epoch 90/200\n",
            "10/10 [==============================] - 4s 372ms/step - loss: 0.8281 - accuracy: 0.6701 - val_loss: 0.7883 - val_accuracy: 0.7063\n",
            "Epoch 91/200\n",
            "10/10 [==============================] - 4s 371ms/step - loss: 0.8373 - accuracy: 0.6426 - val_loss: 0.7855 - val_accuracy: 0.7143\n",
            "Epoch 92/200\n",
            "10/10 [==============================] - 5s 460ms/step - loss: 0.8246 - accuracy: 0.6873 - val_loss: 0.7832 - val_accuracy: 0.7222\n",
            "Epoch 93/200\n",
            "10/10 [==============================] - 4s 373ms/step - loss: 0.8435 - accuracy: 0.6254 - val_loss: 0.7827 - val_accuracy: 0.7222\n",
            "Epoch 94/200\n",
            "10/10 [==============================] - 3s 342ms/step - loss: 0.8161 - accuracy: 0.6598 - val_loss: 0.7811 - val_accuracy: 0.7302\n",
            "Epoch 95/200\n",
            "10/10 [==============================] - 4s 362ms/step - loss: 0.8109 - accuracy: 0.6529 - val_loss: 0.7783 - val_accuracy: 0.7302\n",
            "Epoch 96/200\n",
            "10/10 [==============================] - 4s 346ms/step - loss: 0.8265 - accuracy: 0.6564 - val_loss: 0.7758 - val_accuracy: 0.7302\n",
            "Epoch 97/200\n",
            "10/10 [==============================] - 4s 347ms/step - loss: 0.8127 - accuracy: 0.6529 - val_loss: 0.7732 - val_accuracy: 0.7302\n",
            "Epoch 98/200\n",
            "10/10 [==============================] - 5s 458ms/step - loss: 0.8104 - accuracy: 0.6667 - val_loss: 0.7700 - val_accuracy: 0.7302\n",
            "Epoch 99/200\n",
            "10/10 [==============================] - 4s 411ms/step - loss: 0.8033 - accuracy: 0.6598 - val_loss: 0.7659 - val_accuracy: 0.7143\n",
            "Epoch 100/200\n",
            "10/10 [==============================] - 3s 382ms/step - loss: 0.7763 - accuracy: 0.6976 - val_loss: 0.7633 - val_accuracy: 0.7143\n",
            "Epoch 101/200\n",
            "10/10 [==============================] - 4s 457ms/step - loss: 0.7944 - accuracy: 0.6564 - val_loss: 0.7608 - val_accuracy: 0.7143\n",
            "Epoch 102/200\n",
            "10/10 [==============================] - 3s 344ms/step - loss: 0.7814 - accuracy: 0.6701 - val_loss: 0.7576 - val_accuracy: 0.7222\n",
            "Epoch 103/200\n",
            "10/10 [==============================] - 4s 392ms/step - loss: 0.8049 - accuracy: 0.6770 - val_loss: 0.7541 - val_accuracy: 0.7222\n",
            "Epoch 104/200\n",
            "10/10 [==============================] - 4s 348ms/step - loss: 0.7993 - accuracy: 0.6426 - val_loss: 0.7518 - val_accuracy: 0.7222\n",
            "Epoch 105/200\n",
            "10/10 [==============================] - 4s 343ms/step - loss: 0.7890 - accuracy: 0.6667 - val_loss: 0.7493 - val_accuracy: 0.7222\n",
            "Epoch 106/200\n",
            "10/10 [==============================] - 5s 514ms/step - loss: 0.7596 - accuracy: 0.6976 - val_loss: 0.7466 - val_accuracy: 0.7222\n",
            "Epoch 107/200\n",
            "10/10 [==============================] - 3s 339ms/step - loss: 0.7807 - accuracy: 0.6770 - val_loss: 0.7449 - val_accuracy: 0.7222\n",
            "Epoch 108/200\n",
            "10/10 [==============================] - 3s 339ms/step - loss: 0.7606 - accuracy: 0.6701 - val_loss: 0.7434 - val_accuracy: 0.7222\n",
            "Epoch 109/200\n",
            "10/10 [==============================] - 4s 400ms/step - loss: 0.7853 - accuracy: 0.6701 - val_loss: 0.7411 - val_accuracy: 0.7222\n",
            "Epoch 110/200\n",
            "10/10 [==============================] - 4s 385ms/step - loss: 0.7875 - accuracy: 0.6460 - val_loss: 0.7381 - val_accuracy: 0.7222\n",
            "Epoch 111/200\n",
            "10/10 [==============================] - 3s 341ms/step - loss: 0.7891 - accuracy: 0.6770 - val_loss: 0.7352 - val_accuracy: 0.7222\n",
            "Epoch 112/200\n",
            "10/10 [==============================] - 4s 385ms/step - loss: 0.7612 - accuracy: 0.6942 - val_loss: 0.7329 - val_accuracy: 0.7222\n",
            "Epoch 113/200\n",
            "10/10 [==============================] - 4s 428ms/step - loss: 0.7767 - accuracy: 0.6976 - val_loss: 0.7304 - val_accuracy: 0.7222\n",
            "Epoch 114/200\n",
            "10/10 [==============================] - 3s 345ms/step - loss: 0.7730 - accuracy: 0.6564 - val_loss: 0.7277 - val_accuracy: 0.7381\n",
            "Epoch 115/200\n",
            "10/10 [==============================] - 3s 341ms/step - loss: 0.7689 - accuracy: 0.6838 - val_loss: 0.7250 - val_accuracy: 0.7381\n",
            "Epoch 116/200\n",
            "10/10 [==============================] - 5s 514ms/step - loss: 0.7409 - accuracy: 0.6976 - val_loss: 0.7232 - val_accuracy: 0.7381\n",
            "Epoch 117/200\n",
            "10/10 [==============================] - 4s 349ms/step - loss: 0.7893 - accuracy: 0.6770 - val_loss: 0.7209 - val_accuracy: 0.7381\n",
            "Epoch 118/200\n",
            "10/10 [==============================] - 4s 368ms/step - loss: 0.7539 - accuracy: 0.6907 - val_loss: 0.7189 - val_accuracy: 0.7381\n",
            "Epoch 119/200\n",
            "10/10 [==============================] - 5s 471ms/step - loss: 0.7489 - accuracy: 0.6770 - val_loss: 0.7171 - val_accuracy: 0.7302\n",
            "Epoch 120/200\n",
            "10/10 [==============================] - 3s 344ms/step - loss: 0.7347 - accuracy: 0.6907 - val_loss: 0.7143 - val_accuracy: 0.7381\n",
            "Epoch 121/200\n",
            "10/10 [==============================] - 4s 378ms/step - loss: 0.7472 - accuracy: 0.6942 - val_loss: 0.7114 - val_accuracy: 0.7381\n",
            "Epoch 122/200\n",
            "10/10 [==============================] - 3s 341ms/step - loss: 0.7162 - accuracy: 0.6907 - val_loss: 0.7093 - val_accuracy: 0.7460\n",
            "Epoch 123/200\n",
            "10/10 [==============================] - 4s 418ms/step - loss: 0.7581 - accuracy: 0.6598 - val_loss: 0.7071 - val_accuracy: 0.7460\n",
            "Epoch 124/200\n",
            "10/10 [==============================] - 5s 510ms/step - loss: 0.7337 - accuracy: 0.7045 - val_loss: 0.7047 - val_accuracy: 0.7381\n",
            "Epoch 125/200\n",
            "10/10 [==============================] - 4s 347ms/step - loss: 0.7432 - accuracy: 0.6667 - val_loss: 0.7027 - val_accuracy: 0.7460\n",
            "Epoch 126/200\n",
            "10/10 [==============================] - 4s 367ms/step - loss: 0.7325 - accuracy: 0.7113 - val_loss: 0.7012 - val_accuracy: 0.7460\n",
            "Epoch 127/200\n",
            "10/10 [==============================] - 5s 496ms/step - loss: 0.7428 - accuracy: 0.6873 - val_loss: 0.6987 - val_accuracy: 0.7302\n",
            "Epoch 128/200\n",
            "10/10 [==============================] - 3s 343ms/step - loss: 0.7273 - accuracy: 0.6873 - val_loss: 0.6970 - val_accuracy: 0.7302\n",
            "Epoch 129/200\n",
            "10/10 [==============================] - 4s 369ms/step - loss: 0.7047 - accuracy: 0.7113 - val_loss: 0.6949 - val_accuracy: 0.7302\n",
            "Epoch 130/200\n",
            "10/10 [==============================] - 5s 493ms/step - loss: 0.7213 - accuracy: 0.7148 - val_loss: 0.6929 - val_accuracy: 0.7302\n",
            "Epoch 131/200\n",
            "10/10 [==============================] - 3s 338ms/step - loss: 0.7361 - accuracy: 0.6735 - val_loss: 0.6908 - val_accuracy: 0.7302\n",
            "Epoch 132/200\n",
            "10/10 [==============================] - 4s 371ms/step - loss: 0.7083 - accuracy: 0.7010 - val_loss: 0.6888 - val_accuracy: 0.7302\n",
            "Epoch 133/200\n",
            "10/10 [==============================] - 4s 400ms/step - loss: 0.7314 - accuracy: 0.6770 - val_loss: 0.6867 - val_accuracy: 0.7381\n",
            "Epoch 134/200\n",
            "10/10 [==============================] - 4s 401ms/step - loss: 0.7381 - accuracy: 0.6838 - val_loss: 0.6850 - val_accuracy: 0.7381\n",
            "Epoch 135/200\n",
            "10/10 [==============================] - 3s 340ms/step - loss: 0.7368 - accuracy: 0.6942 - val_loss: 0.6840 - val_accuracy: 0.7302\n",
            "Epoch 136/200\n",
            "10/10 [==============================] - 4s 366ms/step - loss: 0.7238 - accuracy: 0.6907 - val_loss: 0.6818 - val_accuracy: 0.7381\n",
            "Epoch 137/200\n",
            "10/10 [==============================] - 4s 372ms/step - loss: 0.6637 - accuracy: 0.7079 - val_loss: 0.6794 - val_accuracy: 0.7381\n",
            "Epoch 138/200\n",
            "10/10 [==============================] - 4s 349ms/step - loss: 0.7358 - accuracy: 0.6907 - val_loss: 0.6784 - val_accuracy: 0.7381\n",
            "Epoch 139/200\n",
            "10/10 [==============================] - 5s 461ms/step - loss: 0.6835 - accuracy: 0.7251 - val_loss: 0.6778 - val_accuracy: 0.7302\n",
            "Epoch 140/200\n",
            "10/10 [==============================] - 4s 375ms/step - loss: 0.7088 - accuracy: 0.6942 - val_loss: 0.6770 - val_accuracy: 0.7302\n",
            "Epoch 141/200\n",
            "10/10 [==============================] - 4s 410ms/step - loss: 0.7144 - accuracy: 0.6804 - val_loss: 0.6756 - val_accuracy: 0.7302\n",
            "Epoch 142/200\n",
            "10/10 [==============================] - 5s 472ms/step - loss: 0.7042 - accuracy: 0.6976 - val_loss: 0.6739 - val_accuracy: 0.7302\n",
            "Epoch 143/200\n",
            "10/10 [==============================] - 4s 370ms/step - loss: 0.6764 - accuracy: 0.7423 - val_loss: 0.6718 - val_accuracy: 0.7381\n",
            "Epoch 144/200\n",
            "10/10 [==============================] - 4s 421ms/step - loss: 0.7217 - accuracy: 0.6976 - val_loss: 0.6691 - val_accuracy: 0.7460\n",
            "Epoch 145/200\n",
            "10/10 [==============================] - 4s 425ms/step - loss: 0.7074 - accuracy: 0.7216 - val_loss: 0.6668 - val_accuracy: 0.7460\n",
            "Epoch 146/200\n",
            "10/10 [==============================] - 4s 373ms/step - loss: 0.7133 - accuracy: 0.7457 - val_loss: 0.6662 - val_accuracy: 0.7460\n",
            "Epoch 147/200\n",
            "10/10 [==============================] - 3s 341ms/step - loss: 0.6949 - accuracy: 0.7182 - val_loss: 0.6648 - val_accuracy: 0.7460\n",
            "Epoch 148/200\n",
            "10/10 [==============================] - 4s 411ms/step - loss: 0.6950 - accuracy: 0.6804 - val_loss: 0.6622 - val_accuracy: 0.7460\n",
            "Epoch 149/200\n",
            "10/10 [==============================] - 5s 433ms/step - loss: 0.6635 - accuracy: 0.7388 - val_loss: 0.6600 - val_accuracy: 0.7460\n",
            "Epoch 150/200\n",
            "10/10 [==============================] - 4s 370ms/step - loss: 0.6558 - accuracy: 0.7285 - val_loss: 0.6582 - val_accuracy: 0.7540\n",
            "Epoch 151/200\n",
            "10/10 [==============================] - 4s 421ms/step - loss: 0.6882 - accuracy: 0.7216 - val_loss: 0.6566 - val_accuracy: 0.7540\n",
            "Epoch 152/200\n",
            "10/10 [==============================] - 4s 373ms/step - loss: 0.6785 - accuracy: 0.6804 - val_loss: 0.6549 - val_accuracy: 0.7540\n",
            "Epoch 153/200\n",
            "10/10 [==============================] - 3s 341ms/step - loss: 0.6847 - accuracy: 0.7285 - val_loss: 0.6536 - val_accuracy: 0.7540\n",
            "Epoch 154/200\n",
            "10/10 [==============================] - 4s 415ms/step - loss: 0.6630 - accuracy: 0.7285 - val_loss: 0.6517 - val_accuracy: 0.7540\n",
            "Epoch 155/200\n",
            "10/10 [==============================] - 4s 375ms/step - loss: 0.6825 - accuracy: 0.7388 - val_loss: 0.6501 - val_accuracy: 0.7540\n",
            "Epoch 156/200\n",
            "10/10 [==============================] - 4s 369ms/step - loss: 0.6813 - accuracy: 0.7079 - val_loss: 0.6486 - val_accuracy: 0.7540\n",
            "Epoch 157/200\n",
            "10/10 [==============================] - 4s 414ms/step - loss: 0.6753 - accuracy: 0.7010 - val_loss: 0.6472 - val_accuracy: 0.7540\n",
            "Epoch 158/200\n",
            "10/10 [==============================] - 4s 460ms/step - loss: 0.6654 - accuracy: 0.7285 - val_loss: 0.6463 - val_accuracy: 0.7540\n",
            "Epoch 159/200\n",
            "10/10 [==============================] - 3s 339ms/step - loss: 0.6555 - accuracy: 0.7148 - val_loss: 0.6449 - val_accuracy: 0.7540\n",
            "Epoch 160/200\n",
            "10/10 [==============================] - 4s 353ms/step - loss: 0.6693 - accuracy: 0.7251 - val_loss: 0.6432 - val_accuracy: 0.7540\n",
            "Epoch 161/200\n",
            "10/10 [==============================] - 4s 350ms/step - loss: 0.6698 - accuracy: 0.7148 - val_loss: 0.6397 - val_accuracy: 0.7540\n",
            "Epoch 162/200\n",
            "10/10 [==============================] - 3s 344ms/step - loss: 0.6491 - accuracy: 0.7388 - val_loss: 0.6378 - val_accuracy: 0.7540\n",
            "Epoch 163/200\n",
            "10/10 [==============================] - 4s 413ms/step - loss: 0.6354 - accuracy: 0.7388 - val_loss: 0.6369 - val_accuracy: 0.7540\n",
            "Epoch 164/200\n",
            "10/10 [==============================] - 4s 410ms/step - loss: 0.6501 - accuracy: 0.7698 - val_loss: 0.6360 - val_accuracy: 0.7540\n",
            "Epoch 165/200\n",
            "10/10 [==============================] - 3s 340ms/step - loss: 0.6610 - accuracy: 0.7148 - val_loss: 0.6348 - val_accuracy: 0.7540\n",
            "Epoch 166/200\n",
            "10/10 [==============================] - 3s 340ms/step - loss: 0.6445 - accuracy: 0.7148 - val_loss: 0.6332 - val_accuracy: 0.7540\n",
            "Epoch 167/200\n",
            "10/10 [==============================] - 5s 485ms/step - loss: 0.6737 - accuracy: 0.6838 - val_loss: 0.6324 - val_accuracy: 0.7540\n",
            "Epoch 168/200\n",
            "10/10 [==============================] - 4s 376ms/step - loss: 0.6573 - accuracy: 0.7354 - val_loss: 0.6311 - val_accuracy: 0.7540\n",
            "Epoch 169/200\n",
            "10/10 [==============================] - 4s 369ms/step - loss: 0.6664 - accuracy: 0.7079 - val_loss: 0.6298 - val_accuracy: 0.7460\n",
            "Epoch 170/200\n",
            "10/10 [==============================] - 5s 522ms/step - loss: 0.6530 - accuracy: 0.7182 - val_loss: 0.6283 - val_accuracy: 0.7460\n",
            "Epoch 171/200\n",
            "10/10 [==============================] - 4s 372ms/step - loss: 0.6416 - accuracy: 0.7251 - val_loss: 0.6277 - val_accuracy: 0.7540\n",
            "Epoch 172/200\n",
            "10/10 [==============================] - 4s 408ms/step - loss: 0.6432 - accuracy: 0.7423 - val_loss: 0.6265 - val_accuracy: 0.7460\n",
            "Epoch 173/200\n",
            "10/10 [==============================] - 5s 509ms/step - loss: 0.6604 - accuracy: 0.7182 - val_loss: 0.6245 - val_accuracy: 0.7460\n",
            "Epoch 174/200\n",
            "10/10 [==============================] - 3s 338ms/step - loss: 0.6464 - accuracy: 0.7354 - val_loss: 0.6229 - val_accuracy: 0.7460\n",
            "Epoch 175/200\n",
            "10/10 [==============================] - 4s 352ms/step - loss: 0.6635 - accuracy: 0.7251 - val_loss: 0.6219 - val_accuracy: 0.7460\n",
            "Epoch 176/200\n",
            "10/10 [==============================] - 4s 392ms/step - loss: 0.6700 - accuracy: 0.7045 - val_loss: 0.6209 - val_accuracy: 0.7540\n",
            "Epoch 177/200\n",
            "10/10 [==============================] - 4s 372ms/step - loss: 0.6356 - accuracy: 0.7388 - val_loss: 0.6193 - val_accuracy: 0.7540\n",
            "Epoch 178/200\n",
            "10/10 [==============================] - 4s 349ms/step - loss: 0.6129 - accuracy: 0.7423 - val_loss: 0.6190 - val_accuracy: 0.7540\n",
            "Epoch 179/200\n",
            "10/10 [==============================] - 5s 523ms/step - loss: 0.6358 - accuracy: 0.7423 - val_loss: 0.6177 - val_accuracy: 0.7540\n",
            "Epoch 180/200\n",
            "10/10 [==============================] - 4s 376ms/step - loss: 0.6325 - accuracy: 0.7320 - val_loss: 0.6150 - val_accuracy: 0.7540\n",
            "Epoch 181/200\n",
            "10/10 [==============================] - 3s 344ms/step - loss: 0.6115 - accuracy: 0.7457 - val_loss: 0.6130 - val_accuracy: 0.7540\n",
            "Epoch 182/200\n",
            "10/10 [==============================] - 4s 419ms/step - loss: 0.6309 - accuracy: 0.7423 - val_loss: 0.6113 - val_accuracy: 0.7540\n",
            "Epoch 183/200\n",
            "10/10 [==============================] - 4s 397ms/step - loss: 0.6234 - accuracy: 0.7320 - val_loss: 0.6098 - val_accuracy: 0.7540\n",
            "Epoch 184/200\n",
            "10/10 [==============================] - 3s 337ms/step - loss: 0.6213 - accuracy: 0.7285 - val_loss: 0.6087 - val_accuracy: 0.7540\n",
            "Epoch 185/200\n",
            "10/10 [==============================] - 4s 371ms/step - loss: 0.6169 - accuracy: 0.7354 - val_loss: 0.6078 - val_accuracy: 0.7540\n",
            "Epoch 186/200\n",
            "10/10 [==============================] - 4s 350ms/step - loss: 0.6065 - accuracy: 0.7423 - val_loss: 0.6069 - val_accuracy: 0.7540\n",
            "Epoch 187/200\n",
            "10/10 [==============================] - 4s 374ms/step - loss: 0.6015 - accuracy: 0.7491 - val_loss: 0.6060 - val_accuracy: 0.7540\n",
            "Epoch 188/200\n",
            "10/10 [==============================] - 5s 552ms/step - loss: 0.6190 - accuracy: 0.7423 - val_loss: 0.6048 - val_accuracy: 0.7540\n",
            "Epoch 189/200\n",
            "10/10 [==============================] - 4s 381ms/step - loss: 0.6214 - accuracy: 0.7491 - val_loss: 0.6034 - val_accuracy: 0.7540\n",
            "Epoch 190/200\n",
            "10/10 [==============================] - 4s 346ms/step - loss: 0.6247 - accuracy: 0.7388 - val_loss: 0.6031 - val_accuracy: 0.7540\n",
            "Epoch 191/200\n",
            "10/10 [==============================] - 4s 454ms/step - loss: 0.6114 - accuracy: 0.7423 - val_loss: 0.6028 - val_accuracy: 0.7540\n",
            "Epoch 192/200\n",
            "10/10 [==============================] - 4s 345ms/step - loss: 0.5990 - accuracy: 0.7182 - val_loss: 0.6021 - val_accuracy: 0.7540\n",
            "Epoch 193/200\n",
            "10/10 [==============================] - 4s 375ms/step - loss: 0.6099 - accuracy: 0.7457 - val_loss: 0.6011 - val_accuracy: 0.7540\n",
            "Epoch 194/200\n",
            "10/10 [==============================] - 4s 379ms/step - loss: 0.6161 - accuracy: 0.7320 - val_loss: 0.5995 - val_accuracy: 0.7540\n",
            "Epoch 195/200\n",
            "10/10 [==============================] - 4s 374ms/step - loss: 0.6000 - accuracy: 0.7491 - val_loss: 0.5975 - val_accuracy: 0.7540\n",
            "Epoch 196/200\n",
            "10/10 [==============================] - 4s 372ms/step - loss: 0.6158 - accuracy: 0.7320 - val_loss: 0.5955 - val_accuracy: 0.7540\n",
            "Epoch 197/200\n",
            "10/10 [==============================] - 4s 429ms/step - loss: 0.5928 - accuracy: 0.7663 - val_loss: 0.5934 - val_accuracy: 0.7540\n",
            "Epoch 198/200\n",
            "10/10 [==============================] - 4s 353ms/step - loss: 0.6110 - accuracy: 0.7595 - val_loss: 0.5922 - val_accuracy: 0.7540\n",
            "Epoch 199/200\n",
            "10/10 [==============================] - 4s 374ms/step - loss: 0.5775 - accuracy: 0.7595 - val_loss: 0.5914 - val_accuracy: 0.7540\n",
            "Epoch 200/200\n",
            "10/10 [==============================] - 3s 345ms/step - loss: 0.5910 - accuracy: 0.7423 - val_loss: 0.5905 - val_accuracy: 0.7540\n"
          ]
        }
      ]
    },
    {
      "cell_type": "code",
      "source": [
        "from sklearn.metrics import confusion_matrix, classification_report\n",
        "import numpy as np\n",
        "import matplotlib.pyplot as plt\n",
        "import seaborn as sns\n",
        "\n",
        "Y_pred = model_resnet50ver2.predict(X_test)\n",
        "Y_pred_classes = np.argmax(Y_pred, axis=1)\n",
        "Y_true = np.argmax(Y_test, axis=1)\n",
        "\n",
        "conf_matrix = confusion_matrix(Y_true, Y_pred_classes)\n",
        "\n",
        "plt.figure(figsize=(8, 6))\n",
        "sns.heatmap(conf_matrix, annot=True, fmt=\"d\", cmap=\"Blues\", xticklabels=['Common_Rust', 'Healthy', 'Gray_Leaf_Spot', 'Blight'], yticklabels=['Common_Rust', 'Healthy', 'Gray_Leaf_Spot', 'Blight'])\n",
        "plt.xlabel('Predicted labels')\n",
        "plt.ylabel('True labels')\n",
        "plt.title('Confusion Matrix')\n",
        "plt.show()\n",
        "\n",
        "class_report = classification_report(Y_true, Y_pred_classes)\n",
        "\n",
        "print(\"\\nClassification Report:\")\n",
        "print(class_report)\n"
      ],
      "metadata": {
        "colab": {
          "base_uri": "https://localhost:8080/",
          "height": 807
        },
        "id": "YWvBAbaMInI-",
        "outputId": "996c15a2-b6d3-4eaf-fb67-28a550c35fc1"
      },
      "execution_count": 20,
      "outputs": [
        {
          "output_type": "stream",
          "name": "stdout",
          "text": [
            "4/4 [==============================] - 1s 102ms/step\n"
          ]
        },
        {
          "output_type": "display_data",
          "data": {
            "text/plain": [
              "<Figure size 800x600 with 2 Axes>"
            ],
            "image/png": "[encoded data removed]"
          },
          "metadata": {}
        },
        {
          "output_type": "stream",
          "name": "stdout",
          "text": [
            "\n",
            "Classification Report:\n",
            "              precision    recall  f1-score   support\n",
            "\n",
            "           0       0.63      0.73      0.68        37\n",
            "           1       0.93      0.80      0.86        50\n",
            "           2       0.29      0.27      0.28        15\n",
            "           3       0.92      1.00      0.96        24\n",
            "\n",
            "    accuracy                           0.75       126\n",
            "   macro avg       0.69      0.70      0.69       126\n",
            "weighted avg       0.76      0.75      0.76       126\n",
            "\n"
          ]
        }
      ]
    }
  ]
}