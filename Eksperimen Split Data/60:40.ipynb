{
  "nbformat": 4,
  "nbformat_minor": 0,
  "metadata": {
    "colab": {
      "provenance": [],
      "gpuType": "T4",
      "include_colab_link": true
    },
    "kernelspec": {
      "name": "python3",
      "display_name": "Python 3"
    },
    "language_info": {
      "name": "python"
    },
    "accelerator": "GPU"
  },
  "cells": [
    {
      "cell_type": "markdown",
      "metadata": {
        "id": "view-in-github",
        "colab_type": "text"
      },
      "source": [
        "<a href=\"https://colab.research.google.com/github/Smjfirna/Arsitektur-Compration/blob/main/Eksperimen%20Split%20Data/60%3A40.ipynb\" target=\"_parent\"><img src=\"https://colab.research.google.com/assets/colab-badge.svg\" alt=\"Open In Colab\"/></a>"
      ]
    },
    {
      "cell_type": "code",
      "source": [
        "import os\n",
        "import cv2\n",
        "import numpy as np\n",
        "from tqdm import tqdm\n",
        "from sklearn.model_selection import train_test_split\n",
        "from sklearn.preprocessing import LabelEncoder\n",
        "from keras.utils import to_categorical\n",
        "\n",
        "import tensorflow as tf\n",
        "from tensorflow.keras.preprocessing.image import ImageDataGenerator\n",
        "from tensorflow.keras.models import Sequential\n",
        "from tensorflow.keras import layers, Model, regularizers\n",
        "from tensorflow.keras.callbacks import EarlyStopping\n",
        "from tensorflow.keras.layers import Conv2D, MaxPooling2D, Flatten, Dense, GlobalAveragePooling2D, Dropout\n",
        "import os\n",
        "from tensorflow.keras.optimizers import Adam\n",
        "from tensorflow.keras.optimizers import RMSprop\n",
        "\n",
        "from keras.applications import ResNet50"
      ],
      "metadata": {
        "id": "LaloGmhuhwP-"
      },
      "execution_count": 1,
      "outputs": []
    },
    {
      "cell_type": "code",
      "execution_count": 2,
      "metadata": {
        "colab": {
          "base_uri": "https://localhost:8080/"
        },
        "id": "d_i5Zy9kdLGU",
        "outputId": "73997e5e-6584-4f36-b4f6-af00a81b4951"
      },
      "outputs": [
        {
          "output_type": "stream",
          "name": "stdout",
          "text": [
            "Mounted at /content/drive\n"
          ]
        }
      ],
      "source": [
        "from google.colab import drive\n",
        "drive.mount('/content/drive')"
      ]
    },
    {
      "cell_type": "code",
      "source": [
        "dataset_dir = \"/content/drive/MyDrive/Skripsi/Data Sample 10\"\n",
        "\n",
        "print(os.listdir(dataset_dir))"
      ],
      "metadata": {
        "colab": {
          "base_uri": "https://localhost:8080/"
        },
        "id": "c60kX1_DjBPd",
        "outputId": "a2c88fd0-4f0e-4008-b182-e731141724bf"
      },
      "execution_count": 3,
      "outputs": [
        {
          "output_type": "stream",
          "name": "stdout",
          "text": [
            "['Healthy', 'Blight', 'Gray_Leaf_Spot', 'Common_Rust']\n"
          ]
        }
      ]
    },
    {
      "cell_type": "code",
      "source": [
        "size_resnet50 = 224"
      ],
      "metadata": {
        "id": "Mjg6pdK1DO1a"
      },
      "execution_count": 4,
      "outputs": []
    },
    {
      "cell_type": "code",
      "source": [
        "def make_data(label, DIR, img_list, label_list):\n",
        "    for img in tqdm(os.listdir(DIR)):\n",
        "        path = os.path.join(DIR, img)\n",
        "        img = cv2.imread(path, cv2.IMREAD_COLOR)\n",
        "        img = cv2.resize(img, (size_resnet50, size_resnet50))\n",
        "        img_list.append(np.array(img))\n",
        "        label_list.append(str(label))"
      ],
      "metadata": {
        "id": "XgNY4FGvD-BF"
      },
      "execution_count": 5,
      "outputs": []
    },
    {
      "cell_type": "code",
      "source": [
        "X = []\n",
        "Z = []"
      ],
      "metadata": {
        "id": "HPv9tP13DXm6"
      },
      "execution_count": 6,
      "outputs": []
    },
    {
      "cell_type": "code",
      "source": [
        "for i, class_name in enumerate(['Common_Rust', 'Healthy', 'Gray_Leaf_Spot', 'Blight']):\n",
        "    class_dir = os.path.join(dataset_dir, class_name)\n",
        "    make_data(class_name, class_dir, X, Z)"
      ],
      "metadata": {
        "colab": {
          "base_uri": "https://localhost:8080/"
        },
        "id": "L7CgU46UDc6d",
        "outputId": "665460ac-2a7c-4c52-f716-1b0b7eccca52"
      },
      "execution_count": 7,
      "outputs": [
        {
          "output_type": "stream",
          "name": "stderr",
          "text": [
            "100%|██████████| 130/130 [00:07<00:00, 17.37it/s]\n",
            "100%|██████████| 116/116 [00:03<00:00, 30.99it/s] \n",
            "100%|██████████| 57/57 [00:45<00:00,  1.27it/s]\n",
            "100%|██████████| 114/114 [00:14<00:00,  7.64it/s]\n"
          ]
        }
      ]
    },
    {
      "cell_type": "code",
      "source": [
        "import matplotlib.pyplot as plt\n",
        "\n",
        "# Menghitung jumlah data untuk setiap kelas\n",
        "class_counts = {class_name: Z.count(class_name) for class_name in set(Z)}\n",
        "\n",
        "# Menampilkan visualisasi jumlah data\n",
        "plt.figure(figsize=(4, 4))\n",
        "plt.bar(class_counts.keys(), class_counts.values())\n",
        "plt.xlabel('Class')\n",
        "plt.ylabel('Count')\n",
        "plt.title('Number of Data Samples for Each Class')\n",
        "plt.show()"
      ],
      "metadata": {
        "colab": {
          "base_uri": "https://localhost:8080/",
          "height": 410
        },
        "id": "jWbdII-8E9kW",
        "outputId": "936893c7-3ee9-44ca-ec52-ab75ebb6e9d4"
      },
      "execution_count": 8,
      "outputs": [
        {
          "output_type": "display_data",
          "data": {
            "text/plain": [
              "<Figure size 400x400 with 1 Axes>"
            ],
            "image/png": "[encoded data removed]"
          },
          "metadata": {}
        }
      ]
    },
    {
      "cell_type": "code",
      "source": [
        "le = LabelEncoder()\n",
        "Y = le.fit_transform(Z)\n",
        "Y = to_categorical(Y, num_classes=len(le.classes_))\n",
        "\n",
        "# Konversi ke array numpy\n",
        "X = np.array(X)\n",
        "\n",
        "# Memisahkan data menjadi data latih dan data uji\n",
        "X_train, X_test, Y_train, Y_test = train_test_split(X, Y, test_size=0.4, random_state=42)\n",
        "\n",
        "print(\"Jumlah Data Train adalah :\", len(X_train))\n",
        "print(\"Jumlah Data Test adalah :\", len(X_test))"
      ],
      "metadata": {
        "colab": {
          "base_uri": "https://localhost:8080/"
        },
        "id": "LFG1SJ3OFPWV",
        "outputId": "a73034eb-2e65-49e0-9c93-225aff509ddf"
      },
      "execution_count": 25,
      "outputs": [
        {
          "output_type": "stream",
          "name": "stdout",
          "text": [
            "Jumlah Data Train adalah : 250\n",
            "Jumlah Data Test adalah : 167\n"
          ]
        }
      ]
    },
    {
      "cell_type": "code",
      "source": [
        "datagen = ImageDataGenerator(\n",
        "    rotation_range=20,\n",
        "    zoom_range=0.2,\n",
        "    horizontal_flip=True,\n",
        ")\n",
        "\n",
        "datagen.fit(X_train)"
      ],
      "metadata": {
        "id": "l_s_dW_k2OKD"
      },
      "execution_count": 26,
      "outputs": []
    },
    {
      "cell_type": "code",
      "source": [
        "resnet50 = ResNet50(include_top=False, weights='imagenet', input_shape=(size_resnet50, size_resnet50, 3))\n",
        "\n",
        "# Membuat model Sequential\n",
        "model_resnet50ver2 = Sequential()\n",
        "model_resnet50ver2.add(resnet50)\n",
        "model_resnet50ver2.add(GlobalAveragePooling2D())\n",
        "model_resnet50ver2.add(Dense(4, activation='softmax'))\n",
        "\n",
        "# Membekukan layer-layer ResNet50 yang telah dilatih\n",
        "for layer in resnet50.layers:\n",
        "    layer.trainable = False\n",
        "\n",
        "# Mengompilasi model dengan optimizer Adam dan loss function categorical crossentropy\n",
        "model_resnet50ver2.compile(optimizer=Adam(learning_rate=1e-5), loss='categorical_crossentropy', metrics=['accuracy'])\n",
        "\n",
        "# Menampilkan summary dari model\n",
        "model_resnet50ver2.summary()\n",
        "\n",
        "# Melatih model dengan data latih dan validasi\n",
        "history_resnet50ver2 = model_resnet50ver2.fit(datagen.flow(X_train, Y_train), epochs=200, validation_data=(X_test, Y_test))"
      ],
      "metadata": {
        "colab": {
          "base_uri": "https://localhost:8080/"
        },
        "id": "L4NJLS5-FT93",
        "outputId": "5b301880-e4dc-4018-87d1-a4aab313583c"
      },
      "execution_count": 27,
      "outputs": [
        {
          "output_type": "stream",
          "name": "stdout",
          "text": [
            "Model: \"sequential_4\"\n",
            "_________________________________________________________________\n",
            " Layer (type)                Output Shape              Param #   \n",
            "=================================================================\n",
            " resnet50 (Functional)       (None, 7, 7, 2048)        23587712  \n",
            "                                                                 \n",
            " global_average_pooling2d_4  (None, 2048)              0         \n",
            "  (GlobalAveragePooling2D)                                       \n",
            "                                                                 \n",
            " dense_4 (Dense)             (None, 4)                 8196      \n",
            "                                                                 \n",
            "=================================================================\n",
            "Total params: 23595908 (90.01 MB)\n",
            "Trainable params: 8196 (32.02 KB)\n",
            "Non-trainable params: 23587712 (89.98 MB)\n",
            "_________________________________________________________________\n",
            "Epoch 1/200\n",
            "8/8 [==============================] - 12s 1s/step - loss: 1.8032 - accuracy: 0.2680 - val_loss: 1.8512 - val_accuracy: 0.2814\n",
            "Epoch 2/200\n",
            "8/8 [==============================] - 3s 420ms/step - loss: 1.8186 - accuracy: 0.2560 - val_loss: 1.8229 - val_accuracy: 0.2874\n",
            "Epoch 3/200\n",
            "8/8 [==============================] - 4s 538ms/step - loss: 1.7923 - accuracy: 0.2640 - val_loss: 1.7956 - val_accuracy: 0.2874\n",
            "Epoch 4/200\n",
            "8/8 [==============================] - 3s 413ms/step - loss: 1.8068 - accuracy: 0.2560 - val_loss: 1.7697 - val_accuracy: 0.2814\n",
            "Epoch 5/200\n",
            "8/8 [==============================] - 3s 417ms/step - loss: 1.7366 - accuracy: 0.2760 - val_loss: 1.7448 - val_accuracy: 0.2814\n",
            "Epoch 6/200\n",
            "8/8 [==============================] - 3s 414ms/step - loss: 1.7083 - accuracy: 0.3080 - val_loss: 1.7217 - val_accuracy: 0.2874\n",
            "Epoch 7/200\n",
            "8/8 [==============================] - 5s 586ms/step - loss: 1.6771 - accuracy: 0.3040 - val_loss: 1.7004 - val_accuracy: 0.2814\n",
            "Epoch 8/200\n",
            "8/8 [==============================] - 3s 411ms/step - loss: 1.7183 - accuracy: 0.2720 - val_loss: 1.6790 - val_accuracy: 0.2994\n",
            "Epoch 9/200\n",
            "8/8 [==============================] - 3s 415ms/step - loss: 1.6712 - accuracy: 0.3120 - val_loss: 1.6592 - val_accuracy: 0.2994\n",
            "Epoch 10/200\n",
            "8/8 [==============================] - 5s 594ms/step - loss: 1.6171 - accuracy: 0.3000 - val_loss: 1.6405 - val_accuracy: 0.2934\n",
            "Epoch 11/200\n",
            "8/8 [==============================] - 3s 416ms/step - loss: 1.6345 - accuracy: 0.2600 - val_loss: 1.6235 - val_accuracy: 0.2934\n",
            "Epoch 12/200\n",
            "8/8 [==============================] - 3s 417ms/step - loss: 1.6372 - accuracy: 0.2920 - val_loss: 1.6052 - val_accuracy: 0.2994\n",
            "Epoch 13/200\n",
            "8/8 [==============================] - 4s 578ms/step - loss: 1.5992 - accuracy: 0.3080 - val_loss: 1.5886 - val_accuracy: 0.2994\n",
            "Epoch 14/200\n",
            "8/8 [==============================] - 3s 398ms/step - loss: 1.6050 - accuracy: 0.3160 - val_loss: 1.5729 - val_accuracy: 0.3174\n",
            "Epoch 15/200\n",
            "8/8 [==============================] - 3s 419ms/step - loss: 1.6122 - accuracy: 0.2920 - val_loss: 1.5569 - val_accuracy: 0.3114\n",
            "Epoch 16/200\n",
            "8/8 [==============================] - 4s 444ms/step - loss: 1.5986 - accuracy: 0.2680 - val_loss: 1.5400 - val_accuracy: 0.3234\n",
            "Epoch 17/200\n",
            "8/8 [==============================] - 4s 482ms/step - loss: 1.5270 - accuracy: 0.3280 - val_loss: 1.5247 - val_accuracy: 0.3413\n",
            "Epoch 18/200\n",
            "8/8 [==============================] - 3s 407ms/step - loss: 1.4847 - accuracy: 0.3480 - val_loss: 1.5098 - val_accuracy: 0.3473\n",
            "Epoch 19/200\n",
            "8/8 [==============================] - 3s 403ms/step - loss: 1.5363 - accuracy: 0.3560 - val_loss: 1.4957 - val_accuracy: 0.3413\n",
            "Epoch 20/200\n",
            "8/8 [==============================] - 4s 522ms/step - loss: 1.5316 - accuracy: 0.3400 - val_loss: 1.4817 - val_accuracy: 0.3473\n",
            "Epoch 21/200\n",
            "8/8 [==============================] - 4s 474ms/step - loss: 1.5111 - accuracy: 0.3280 - val_loss: 1.4691 - val_accuracy: 0.3533\n",
            "Epoch 22/200\n",
            "8/8 [==============================] - 3s 426ms/step - loss: 1.4666 - accuracy: 0.3800 - val_loss: 1.4562 - val_accuracy: 0.3533\n",
            "Epoch 23/200\n",
            "8/8 [==============================] - 4s 527ms/step - loss: 1.4826 - accuracy: 0.3640 - val_loss: 1.4428 - val_accuracy: 0.3533\n",
            "Epoch 24/200\n",
            "8/8 [==============================] - 3s 422ms/step - loss: 1.4013 - accuracy: 0.4040 - val_loss: 1.4301 - val_accuracy: 0.3772\n",
            "Epoch 25/200\n",
            "8/8 [==============================] - 3s 419ms/step - loss: 1.4332 - accuracy: 0.3760 - val_loss: 1.4175 - val_accuracy: 0.3832\n",
            "Epoch 26/200\n",
            "8/8 [==============================] - 4s 464ms/step - loss: 1.4249 - accuracy: 0.3880 - val_loss: 1.4046 - val_accuracy: 0.3832\n",
            "Epoch 27/200\n",
            "8/8 [==============================] - 4s 456ms/step - loss: 1.4052 - accuracy: 0.3920 - val_loss: 1.3925 - val_accuracy: 0.3892\n",
            "Epoch 28/200\n",
            "8/8 [==============================] - 3s 424ms/step - loss: 1.4093 - accuracy: 0.4160 - val_loss: 1.3808 - val_accuracy: 0.3952\n",
            "Epoch 29/200\n",
            "8/8 [==============================] - 3s 431ms/step - loss: 1.3867 - accuracy: 0.4080 - val_loss: 1.3690 - val_accuracy: 0.4012\n",
            "Epoch 30/200\n",
            "8/8 [==============================] - 5s 602ms/step - loss: 1.3555 - accuracy: 0.4080 - val_loss: 1.3577 - val_accuracy: 0.4012\n",
            "Epoch 31/200\n",
            "8/8 [==============================] - 3s 407ms/step - loss: 1.3530 - accuracy: 0.4200 - val_loss: 1.3467 - val_accuracy: 0.4072\n",
            "Epoch 32/200\n",
            "8/8 [==============================] - 3s 415ms/step - loss: 1.3744 - accuracy: 0.4240 - val_loss: 1.3360 - val_accuracy: 0.4072\n",
            "Epoch 33/200\n",
            "8/8 [==============================] - 3s 399ms/step - loss: 1.3395 - accuracy: 0.4280 - val_loss: 1.3255 - val_accuracy: 0.4132\n",
            "Epoch 34/200\n",
            "8/8 [==============================] - 4s 522ms/step - loss: 1.3563 - accuracy: 0.4560 - val_loss: 1.3139 - val_accuracy: 0.4192\n",
            "Epoch 35/200\n",
            "8/8 [==============================] - 3s 418ms/step - loss: 1.3304 - accuracy: 0.4320 - val_loss: 1.3036 - val_accuracy: 0.4251\n",
            "Epoch 36/200\n",
            "8/8 [==============================] - 3s 405ms/step - loss: 1.3197 - accuracy: 0.4360 - val_loss: 1.2932 - val_accuracy: 0.4311\n",
            "Epoch 37/200\n",
            "8/8 [==============================] - 4s 544ms/step - loss: 1.3191 - accuracy: 0.4120 - val_loss: 1.2834 - val_accuracy: 0.4431\n",
            "Epoch 38/200\n",
            "8/8 [==============================] - 3s 402ms/step - loss: 1.3054 - accuracy: 0.4240 - val_loss: 1.2727 - val_accuracy: 0.4551\n",
            "Epoch 39/200\n",
            "8/8 [==============================] - 3s 393ms/step - loss: 1.3136 - accuracy: 0.4040 - val_loss: 1.2626 - val_accuracy: 0.4551\n",
            "Epoch 40/200\n",
            "8/8 [==============================] - 3s 415ms/step - loss: 1.2952 - accuracy: 0.4400 - val_loss: 1.2526 - val_accuracy: 0.4611\n",
            "Epoch 41/200\n",
            "8/8 [==============================] - 3s 414ms/step - loss: 1.2744 - accuracy: 0.4560 - val_loss: 1.2434 - val_accuracy: 0.4611\n",
            "Epoch 42/200\n",
            "8/8 [==============================] - 3s 426ms/step - loss: 1.3002 - accuracy: 0.4520 - val_loss: 1.2331 - val_accuracy: 0.4671\n",
            "Epoch 43/200\n",
            "8/8 [==============================] - 4s 483ms/step - loss: 1.2643 - accuracy: 0.4560 - val_loss: 1.2233 - val_accuracy: 0.4731\n",
            "Epoch 44/200\n",
            "8/8 [==============================] - 3s 423ms/step - loss: 1.2540 - accuracy: 0.4680 - val_loss: 1.2146 - val_accuracy: 0.4790\n",
            "Epoch 45/200\n",
            "8/8 [==============================] - 3s 415ms/step - loss: 1.2506 - accuracy: 0.4760 - val_loss: 1.2058 - val_accuracy: 0.4731\n",
            "Epoch 46/200\n",
            "8/8 [==============================] - 3s 422ms/step - loss: 1.2437 - accuracy: 0.4920 - val_loss: 1.1961 - val_accuracy: 0.4731\n",
            "Epoch 47/200\n",
            "8/8 [==============================] - 3s 401ms/step - loss: 1.2191 - accuracy: 0.4920 - val_loss: 1.1868 - val_accuracy: 0.4910\n",
            "Epoch 48/200\n",
            "8/8 [==============================] - 3s 423ms/step - loss: 1.2311 - accuracy: 0.4600 - val_loss: 1.1773 - val_accuracy: 0.5030\n",
            "Epoch 49/200\n",
            "8/8 [==============================] - 4s 474ms/step - loss: 1.2084 - accuracy: 0.5000 - val_loss: 1.1687 - val_accuracy: 0.5030\n",
            "Epoch 50/200\n",
            "8/8 [==============================] - 3s 402ms/step - loss: 1.2029 - accuracy: 0.4960 - val_loss: 1.1608 - val_accuracy: 0.5150\n",
            "Epoch 51/200\n",
            "8/8 [==============================] - 3s 398ms/step - loss: 1.1544 - accuracy: 0.5200 - val_loss: 1.1520 - val_accuracy: 0.5210\n",
            "Epoch 52/200\n",
            "8/8 [==============================] - 3s 423ms/step - loss: 1.2311 - accuracy: 0.4800 - val_loss: 1.1435 - val_accuracy: 0.5329\n",
            "Epoch 53/200\n",
            "8/8 [==============================] - 5s 588ms/step - loss: 1.2149 - accuracy: 0.5000 - val_loss: 1.1355 - val_accuracy: 0.5389\n",
            "Epoch 54/200\n",
            "8/8 [==============================] - 3s 396ms/step - loss: 1.1599 - accuracy: 0.5280 - val_loss: 1.1283 - val_accuracy: 0.5449\n",
            "Epoch 55/200\n",
            "8/8 [==============================] - 3s 394ms/step - loss: 1.1715 - accuracy: 0.5440 - val_loss: 1.1203 - val_accuracy: 0.5569\n",
            "Epoch 56/200\n",
            "8/8 [==============================] - 5s 563ms/step - loss: 1.1637 - accuracy: 0.5240 - val_loss: 1.1125 - val_accuracy: 0.5629\n",
            "Epoch 57/200\n",
            "8/8 [==============================] - 3s 419ms/step - loss: 1.1164 - accuracy: 0.5560 - val_loss: 1.1047 - val_accuracy: 0.5629\n",
            "Epoch 58/200\n",
            "8/8 [==============================] - 3s 414ms/step - loss: 1.0847 - accuracy: 0.5960 - val_loss: 1.0973 - val_accuracy: 0.5629\n",
            "Epoch 59/200\n",
            "8/8 [==============================] - 4s 450ms/step - loss: 1.1362 - accuracy: 0.5480 - val_loss: 1.0899 - val_accuracy: 0.5629\n",
            "Epoch 60/200\n",
            "8/8 [==============================] - 4s 471ms/step - loss: 1.1091 - accuracy: 0.5280 - val_loss: 1.0826 - val_accuracy: 0.5629\n",
            "Epoch 61/200\n",
            "8/8 [==============================] - 3s 394ms/step - loss: 1.1205 - accuracy: 0.5400 - val_loss: 1.0758 - val_accuracy: 0.5629\n",
            "Epoch 62/200\n",
            "8/8 [==============================] - 3s 402ms/step - loss: 1.0975 - accuracy: 0.5720 - val_loss: 1.0698 - val_accuracy: 0.5689\n",
            "Epoch 63/200\n",
            "8/8 [==============================] - 3s 394ms/step - loss: 1.1037 - accuracy: 0.5800 - val_loss: 1.0634 - val_accuracy: 0.5689\n",
            "Epoch 64/200\n",
            "8/8 [==============================] - 3s 417ms/step - loss: 1.0909 - accuracy: 0.5280 - val_loss: 1.0565 - val_accuracy: 0.5689\n",
            "Epoch 65/200\n",
            "8/8 [==============================] - 3s 416ms/step - loss: 1.0952 - accuracy: 0.6040 - val_loss: 1.0502 - val_accuracy: 0.5749\n",
            "Epoch 66/200\n",
            "8/8 [==============================] - 3s 396ms/step - loss: 1.0795 - accuracy: 0.5960 - val_loss: 1.0440 - val_accuracy: 0.5749\n",
            "Epoch 67/200\n",
            "8/8 [==============================] - 3s 393ms/step - loss: 1.0252 - accuracy: 0.5960 - val_loss: 1.0378 - val_accuracy: 0.5808\n",
            "Epoch 68/200\n",
            "8/8 [==============================] - 4s 511ms/step - loss: 1.0501 - accuracy: 0.5960 - val_loss: 1.0312 - val_accuracy: 0.5808\n",
            "Epoch 69/200\n",
            "8/8 [==============================] - 4s 414ms/step - loss: 1.0397 - accuracy: 0.5840 - val_loss: 1.0249 - val_accuracy: 0.5808\n",
            "Epoch 70/200\n",
            "8/8 [==============================] - 3s 411ms/step - loss: 1.0507 - accuracy: 0.5920 - val_loss: 1.0186 - val_accuracy: 0.5808\n",
            "Epoch 71/200\n",
            "8/8 [==============================] - 3s 416ms/step - loss: 1.0255 - accuracy: 0.6200 - val_loss: 1.0123 - val_accuracy: 0.5808\n",
            "Epoch 72/200\n",
            "8/8 [==============================] - 5s 600ms/step - loss: 0.9969 - accuracy: 0.5840 - val_loss: 1.0064 - val_accuracy: 0.5868\n",
            "Epoch 73/200\n",
            "8/8 [==============================] - 3s 419ms/step - loss: 1.0302 - accuracy: 0.5840 - val_loss: 1.0000 - val_accuracy: 0.5868\n",
            "Epoch 74/200\n",
            "8/8 [==============================] - 3s 394ms/step - loss: 1.0512 - accuracy: 0.5680 - val_loss: 0.9941 - val_accuracy: 0.5928\n",
            "Epoch 75/200\n",
            "8/8 [==============================] - 3s 426ms/step - loss: 1.0017 - accuracy: 0.6320 - val_loss: 0.9882 - val_accuracy: 0.5928\n",
            "Epoch 76/200\n",
            "8/8 [==============================] - 3s 420ms/step - loss: 1.0304 - accuracy: 0.5920 - val_loss: 0.9824 - val_accuracy: 0.5928\n",
            "Epoch 77/200\n",
            "8/8 [==============================] - 3s 409ms/step - loss: 1.0049 - accuracy: 0.6040 - val_loss: 0.9768 - val_accuracy: 0.5988\n",
            "Epoch 78/200\n",
            "8/8 [==============================] - 3s 417ms/step - loss: 1.0067 - accuracy: 0.6160 - val_loss: 0.9716 - val_accuracy: 0.5988\n",
            "Epoch 79/200\n",
            "8/8 [==============================] - 3s 414ms/step - loss: 1.0096 - accuracy: 0.6080 - val_loss: 0.9658 - val_accuracy: 0.5988\n",
            "Epoch 80/200\n",
            "8/8 [==============================] - 3s 395ms/step - loss: 1.0054 - accuracy: 0.6120 - val_loss: 0.9606 - val_accuracy: 0.6048\n",
            "Epoch 81/200\n",
            "8/8 [==============================] - 3s 393ms/step - loss: 0.9959 - accuracy: 0.6200 - val_loss: 0.9552 - val_accuracy: 0.6048\n",
            "Epoch 82/200\n",
            "8/8 [==============================] - 3s 413ms/step - loss: 0.9083 - accuracy: 0.6560 - val_loss: 0.9504 - val_accuracy: 0.6048\n",
            "Epoch 83/200\n",
            "8/8 [==============================] - 3s 398ms/step - loss: 0.9893 - accuracy: 0.6120 - val_loss: 0.9452 - val_accuracy: 0.6108\n",
            "Epoch 84/200\n",
            "8/8 [==============================] - 4s 538ms/step - loss: 0.9842 - accuracy: 0.6560 - val_loss: 0.9404 - val_accuracy: 0.6108\n",
            "Epoch 85/200\n",
            "8/8 [==============================] - 4s 424ms/step - loss: 0.9406 - accuracy: 0.6600 - val_loss: 0.9357 - val_accuracy: 0.6108\n",
            "Epoch 86/200\n",
            "8/8 [==============================] - 3s 393ms/step - loss: 0.9379 - accuracy: 0.6360 - val_loss: 0.9314 - val_accuracy: 0.6168\n",
            "Epoch 87/200\n",
            "8/8 [==============================] - 3s 398ms/step - loss: 0.9871 - accuracy: 0.5920 - val_loss: 0.9268 - val_accuracy: 0.6168\n",
            "Epoch 88/200\n",
            "8/8 [==============================] - 4s 577ms/step - loss: 0.9361 - accuracy: 0.6680 - val_loss: 0.9221 - val_accuracy: 0.6108\n",
            "Epoch 89/200\n",
            "8/8 [==============================] - 3s 416ms/step - loss: 0.9663 - accuracy: 0.6160 - val_loss: 0.9173 - val_accuracy: 0.6168\n",
            "Epoch 90/200\n",
            "8/8 [==============================] - 3s 419ms/step - loss: 0.9219 - accuracy: 0.6760 - val_loss: 0.9130 - val_accuracy: 0.6287\n",
            "Epoch 91/200\n",
            "8/8 [==============================] - 3s 412ms/step - loss: 0.9707 - accuracy: 0.6520 - val_loss: 0.9082 - val_accuracy: 0.6287\n",
            "Epoch 92/200\n",
            "8/8 [==============================] - 3s 425ms/step - loss: 0.9043 - accuracy: 0.6600 - val_loss: 0.9037 - val_accuracy: 0.6287\n",
            "Epoch 93/200\n",
            "8/8 [==============================] - 3s 420ms/step - loss: 0.9233 - accuracy: 0.6520 - val_loss: 0.8993 - val_accuracy: 0.6287\n",
            "Epoch 94/200\n",
            "8/8 [==============================] - 3s 401ms/step - loss: 0.9076 - accuracy: 0.6520 - val_loss: 0.8950 - val_accuracy: 0.6287\n",
            "Epoch 95/200\n",
            "8/8 [==============================] - 3s 392ms/step - loss: 0.8858 - accuracy: 0.6680 - val_loss: 0.8909 - val_accuracy: 0.6287\n",
            "Epoch 96/200\n",
            "8/8 [==============================] - 3s 414ms/step - loss: 0.9036 - accuracy: 0.6720 - val_loss: 0.8866 - val_accuracy: 0.6287\n",
            "Epoch 97/200\n",
            "8/8 [==============================] - 3s 421ms/step - loss: 0.8924 - accuracy: 0.6560 - val_loss: 0.8824 - val_accuracy: 0.6287\n",
            "Epoch 98/200\n",
            "8/8 [==============================] - 4s 560ms/step - loss: 0.8736 - accuracy: 0.6720 - val_loss: 0.8782 - val_accuracy: 0.6287\n",
            "Epoch 99/200\n",
            "8/8 [==============================] - 3s 416ms/step - loss: 0.8785 - accuracy: 0.6680 - val_loss: 0.8740 - val_accuracy: 0.6347\n",
            "Epoch 100/200\n",
            "8/8 [==============================] - 3s 418ms/step - loss: 0.8843 - accuracy: 0.6560 - val_loss: 0.8695 - val_accuracy: 0.6407\n",
            "Epoch 101/200\n",
            "8/8 [==============================] - 5s 543ms/step - loss: 0.8994 - accuracy: 0.6680 - val_loss: 0.8654 - val_accuracy: 0.6407\n",
            "Epoch 102/200\n",
            "8/8 [==============================] - 3s 418ms/step - loss: 0.8874 - accuracy: 0.6640 - val_loss: 0.8614 - val_accuracy: 0.6407\n",
            "Epoch 103/200\n",
            "8/8 [==============================] - 3s 417ms/step - loss: 0.8981 - accuracy: 0.6680 - val_loss: 0.8574 - val_accuracy: 0.6407\n",
            "Epoch 104/200\n",
            "8/8 [==============================] - 3s 417ms/step - loss: 0.8605 - accuracy: 0.7040 - val_loss: 0.8536 - val_accuracy: 0.6407\n",
            "Epoch 105/200\n",
            "8/8 [==============================] - 3s 424ms/step - loss: 0.8282 - accuracy: 0.7000 - val_loss: 0.8498 - val_accuracy: 0.6407\n",
            "Epoch 106/200\n",
            "8/8 [==============================] - 3s 397ms/step - loss: 0.8615 - accuracy: 0.6840 - val_loss: 0.8464 - val_accuracy: 0.6407\n",
            "Epoch 107/200\n",
            "8/8 [==============================] - 3s 419ms/step - loss: 0.8470 - accuracy: 0.6880 - val_loss: 0.8424 - val_accuracy: 0.6407\n",
            "Epoch 108/200\n",
            "8/8 [==============================] - 3s 431ms/step - loss: 0.8249 - accuracy: 0.7080 - val_loss: 0.8392 - val_accuracy: 0.6467\n",
            "Epoch 109/200\n",
            "8/8 [==============================] - 3s 423ms/step - loss: 0.8448 - accuracy: 0.6920 - val_loss: 0.8359 - val_accuracy: 0.6407\n",
            "Epoch 110/200\n",
            "8/8 [==============================] - 3s 397ms/step - loss: 0.8280 - accuracy: 0.7120 - val_loss: 0.8324 - val_accuracy: 0.6467\n",
            "Epoch 111/200\n",
            "8/8 [==============================] - 3s 393ms/step - loss: 0.8184 - accuracy: 0.7160 - val_loss: 0.8287 - val_accuracy: 0.6467\n",
            "Epoch 112/200\n",
            "8/8 [==============================] - 3s 407ms/step - loss: 0.8353 - accuracy: 0.7000 - val_loss: 0.8251 - val_accuracy: 0.6467\n",
            "Epoch 113/200\n",
            "8/8 [==============================] - 4s 570ms/step - loss: 0.8262 - accuracy: 0.6920 - val_loss: 0.8219 - val_accuracy: 0.6467\n",
            "Epoch 114/200\n",
            "8/8 [==============================] - 3s 417ms/step - loss: 0.8806 - accuracy: 0.6720 - val_loss: 0.8186 - val_accuracy: 0.6467\n",
            "Epoch 115/200\n",
            "8/8 [==============================] - 3s 397ms/step - loss: 0.8237 - accuracy: 0.7160 - val_loss: 0.8154 - val_accuracy: 0.6467\n",
            "Epoch 116/200\n",
            "8/8 [==============================] - 4s 465ms/step - loss: 0.8175 - accuracy: 0.7080 - val_loss: 0.8122 - val_accuracy: 0.6467\n",
            "Epoch 117/200\n",
            "8/8 [==============================] - 4s 484ms/step - loss: 0.8310 - accuracy: 0.6880 - val_loss: 0.8089 - val_accuracy: 0.6467\n",
            "Epoch 118/200\n",
            "8/8 [==============================] - 3s 396ms/step - loss: 0.8317 - accuracy: 0.6720 - val_loss: 0.8055 - val_accuracy: 0.6527\n",
            "Epoch 119/200\n",
            "8/8 [==============================] - 3s 421ms/step - loss: 0.8083 - accuracy: 0.6880 - val_loss: 0.8024 - val_accuracy: 0.6527\n",
            "Epoch 120/200\n",
            "8/8 [==============================] - 4s 563ms/step - loss: 0.8127 - accuracy: 0.7160 - val_loss: 0.7997 - val_accuracy: 0.6527\n",
            "Epoch 121/200\n",
            "8/8 [==============================] - 3s 402ms/step - loss: 0.7910 - accuracy: 0.7200 - val_loss: 0.7970 - val_accuracy: 0.6527\n",
            "Epoch 122/200\n",
            "8/8 [==============================] - 3s 412ms/step - loss: 0.8235 - accuracy: 0.6640 - val_loss: 0.7938 - val_accuracy: 0.6527\n",
            "Epoch 123/200\n",
            "8/8 [==============================] - 3s 399ms/step - loss: 0.7950 - accuracy: 0.7040 - val_loss: 0.7912 - val_accuracy: 0.6527\n",
            "Epoch 124/200\n",
            "8/8 [==============================] - 3s 421ms/step - loss: 0.8028 - accuracy: 0.6880 - val_loss: 0.7881 - val_accuracy: 0.6527\n",
            "Epoch 125/200\n",
            "8/8 [==============================] - 3s 401ms/step - loss: 0.7664 - accuracy: 0.7080 - val_loss: 0.7846 - val_accuracy: 0.6527\n",
            "Epoch 126/200\n",
            "8/8 [==============================] - 4s 578ms/step - loss: 0.7710 - accuracy: 0.7360 - val_loss: 0.7816 - val_accuracy: 0.6527\n",
            "Epoch 127/200\n",
            "8/8 [==============================] - 3s 428ms/step - loss: 0.7714 - accuracy: 0.7400 - val_loss: 0.7788 - val_accuracy: 0.6527\n",
            "Epoch 128/200\n",
            "8/8 [==============================] - 3s 417ms/step - loss: 0.7704 - accuracy: 0.6920 - val_loss: 0.7760 - val_accuracy: 0.6587\n",
            "Epoch 129/200\n",
            "8/8 [==============================] - 3s 424ms/step - loss: 0.8087 - accuracy: 0.6800 - val_loss: 0.7735 - val_accuracy: 0.6587\n",
            "Epoch 130/200\n",
            "8/8 [==============================] - 4s 522ms/step - loss: 0.7683 - accuracy: 0.7320 - val_loss: 0.7708 - val_accuracy: 0.6587\n",
            "Epoch 131/200\n",
            "8/8 [==============================] - 3s 415ms/step - loss: 0.8085 - accuracy: 0.7040 - val_loss: 0.7682 - val_accuracy: 0.6587\n",
            "Epoch 132/200\n",
            "8/8 [==============================] - 3s 406ms/step - loss: 0.7677 - accuracy: 0.6880 - val_loss: 0.7653 - val_accuracy: 0.6587\n",
            "Epoch 133/200\n",
            "8/8 [==============================] - 4s 465ms/step - loss: 0.7611 - accuracy: 0.7000 - val_loss: 0.7626 - val_accuracy: 0.6587\n",
            "Epoch 134/200\n",
            "8/8 [==============================] - 3s 396ms/step - loss: 0.7798 - accuracy: 0.7040 - val_loss: 0.7601 - val_accuracy: 0.6587\n",
            "Epoch 135/200\n",
            "8/8 [==============================] - 3s 414ms/step - loss: 0.7538 - accuracy: 0.7240 - val_loss: 0.7576 - val_accuracy: 0.6587\n",
            "Epoch 136/200\n",
            "8/8 [==============================] - 4s 592ms/step - loss: 0.7767 - accuracy: 0.6800 - val_loss: 0.7550 - val_accuracy: 0.6587\n",
            "Epoch 137/200\n",
            "8/8 [==============================] - 3s 399ms/step - loss: 0.7485 - accuracy: 0.7040 - val_loss: 0.7527 - val_accuracy: 0.6587\n",
            "Epoch 138/200\n",
            "8/8 [==============================] - 3s 398ms/step - loss: 0.7440 - accuracy: 0.7160 - val_loss: 0.7501 - val_accuracy: 0.6587\n",
            "Epoch 139/200\n",
            "8/8 [==============================] - 4s 550ms/step - loss: 0.7461 - accuracy: 0.7200 - val_loss: 0.7478 - val_accuracy: 0.6587\n",
            "Epoch 140/200\n",
            "8/8 [==============================] - 3s 396ms/step - loss: 0.7581 - accuracy: 0.6960 - val_loss: 0.7453 - val_accuracy: 0.6587\n",
            "Epoch 141/200\n",
            "8/8 [==============================] - 3s 397ms/step - loss: 0.7452 - accuracy: 0.6960 - val_loss: 0.7426 - val_accuracy: 0.6527\n",
            "Epoch 142/200\n",
            "8/8 [==============================] - 3s 416ms/step - loss: 0.7282 - accuracy: 0.7200 - val_loss: 0.7399 - val_accuracy: 0.6527\n",
            "Epoch 143/200\n",
            "8/8 [==============================] - 4s 530ms/step - loss: 0.7361 - accuracy: 0.7240 - val_loss: 0.7374 - val_accuracy: 0.6527\n",
            "Epoch 144/200\n",
            "8/8 [==============================] - 3s 399ms/step - loss: 0.7473 - accuracy: 0.7400 - val_loss: 0.7351 - val_accuracy: 0.6527\n",
            "Epoch 145/200\n",
            "8/8 [==============================] - 3s 398ms/step - loss: 0.7285 - accuracy: 0.7560 - val_loss: 0.7326 - val_accuracy: 0.6527\n",
            "Epoch 146/200\n",
            "8/8 [==============================] - 4s 494ms/step - loss: 0.7353 - accuracy: 0.7200 - val_loss: 0.7303 - val_accuracy: 0.6527\n",
            "Epoch 147/200\n",
            "8/8 [==============================] - 4s 452ms/step - loss: 0.7627 - accuracy: 0.7000 - val_loss: 0.7278 - val_accuracy: 0.6527\n",
            "Epoch 148/200\n",
            "8/8 [==============================] - 3s 419ms/step - loss: 0.7466 - accuracy: 0.6800 - val_loss: 0.7253 - val_accuracy: 0.6527\n",
            "Epoch 149/200\n",
            "8/8 [==============================] - 3s 409ms/step - loss: 0.7170 - accuracy: 0.7200 - val_loss: 0.7230 - val_accuracy: 0.6527\n",
            "Epoch 150/200\n",
            "8/8 [==============================] - 4s 513ms/step - loss: 0.7100 - accuracy: 0.7520 - val_loss: 0.7206 - val_accuracy: 0.6527\n",
            "Epoch 151/200\n",
            "8/8 [==============================] - 3s 415ms/step - loss: 0.7195 - accuracy: 0.7120 - val_loss: 0.7182 - val_accuracy: 0.6527\n",
            "Epoch 152/200\n",
            "8/8 [==============================] - 3s 393ms/step - loss: 0.7332 - accuracy: 0.7040 - val_loss: 0.7159 - val_accuracy: 0.6587\n",
            "Epoch 153/200\n",
            "8/8 [==============================] - 4s 516ms/step - loss: 0.6913 - accuracy: 0.7160 - val_loss: 0.7136 - val_accuracy: 0.6587\n",
            "Epoch 154/200\n",
            "8/8 [==============================] - 3s 416ms/step - loss: 0.7159 - accuracy: 0.7040 - val_loss: 0.7112 - val_accuracy: 0.6587\n",
            "Epoch 155/200\n",
            "8/8 [==============================] - 4s 456ms/step - loss: 0.7148 - accuracy: 0.7280 - val_loss: 0.7088 - val_accuracy: 0.6587\n",
            "Epoch 156/200\n",
            "8/8 [==============================] - 4s 458ms/step - loss: 0.7229 - accuracy: 0.7200 - val_loss: 0.7067 - val_accuracy: 0.6587\n",
            "Epoch 157/200\n",
            "8/8 [==============================] - 3s 418ms/step - loss: 0.7144 - accuracy: 0.7080 - val_loss: 0.7048 - val_accuracy: 0.6587\n",
            "Epoch 158/200\n",
            "8/8 [==============================] - 3s 396ms/step - loss: 0.6939 - accuracy: 0.7400 - val_loss: 0.7027 - val_accuracy: 0.6587\n",
            "Epoch 159/200\n",
            "8/8 [==============================] - 4s 541ms/step - loss: 0.6922 - accuracy: 0.7560 - val_loss: 0.7007 - val_accuracy: 0.6587\n",
            "Epoch 160/200\n",
            "8/8 [==============================] - 3s 431ms/step - loss: 0.7097 - accuracy: 0.7160 - val_loss: 0.6984 - val_accuracy: 0.6587\n",
            "Epoch 161/200\n",
            "8/8 [==============================] - 3s 421ms/step - loss: 0.6945 - accuracy: 0.7360 - val_loss: 0.6964 - val_accuracy: 0.6587\n",
            "Epoch 162/200\n",
            "8/8 [==============================] - 4s 577ms/step - loss: 0.7167 - accuracy: 0.7440 - val_loss: 0.6944 - val_accuracy: 0.6587\n",
            "Epoch 163/200\n",
            "8/8 [==============================] - 3s 402ms/step - loss: 0.7022 - accuracy: 0.7320 - val_loss: 0.6923 - val_accuracy: 0.6587\n",
            "Epoch 164/200\n",
            "8/8 [==============================] - 3s 401ms/step - loss: 0.7385 - accuracy: 0.6800 - val_loss: 0.6905 - val_accuracy: 0.6587\n",
            "Epoch 165/200\n",
            "8/8 [==============================] - 4s 543ms/step - loss: 0.6965 - accuracy: 0.7240 - val_loss: 0.6891 - val_accuracy: 0.6587\n",
            "Epoch 166/200\n",
            "8/8 [==============================] - 3s 398ms/step - loss: 0.7068 - accuracy: 0.7320 - val_loss: 0.6874 - val_accuracy: 0.6647\n",
            "Epoch 167/200\n",
            "8/8 [==============================] - 3s 427ms/step - loss: 0.7220 - accuracy: 0.7280 - val_loss: 0.6855 - val_accuracy: 0.6707\n",
            "Epoch 168/200\n",
            "8/8 [==============================] - 3s 415ms/step - loss: 0.6491 - accuracy: 0.7440 - val_loss: 0.6836 - val_accuracy: 0.6707\n",
            "Epoch 169/200\n",
            "8/8 [==============================] - 4s 560ms/step - loss: 0.6818 - accuracy: 0.7360 - val_loss: 0.6816 - val_accuracy: 0.6647\n",
            "Epoch 170/200\n",
            "8/8 [==============================] - 3s 416ms/step - loss: 0.6725 - accuracy: 0.7200 - val_loss: 0.6800 - val_accuracy: 0.6707\n",
            "Epoch 171/200\n",
            "8/8 [==============================] - 3s 415ms/step - loss: 0.6779 - accuracy: 0.7560 - val_loss: 0.6779 - val_accuracy: 0.6766\n",
            "Epoch 172/200\n",
            "8/8 [==============================] - 5s 613ms/step - loss: 0.6697 - accuracy: 0.7360 - val_loss: 0.6761 - val_accuracy: 0.6707\n",
            "Epoch 173/200\n",
            "8/8 [==============================] - 3s 400ms/step - loss: 0.6859 - accuracy: 0.7440 - val_loss: 0.6742 - val_accuracy: 0.6826\n",
            "Epoch 174/200\n",
            "8/8 [==============================] - 3s 407ms/step - loss: 0.6654 - accuracy: 0.7440 - val_loss: 0.6725 - val_accuracy: 0.6766\n",
            "Epoch 175/200\n",
            "8/8 [==============================] - 3s 407ms/step - loss: 0.6654 - accuracy: 0.7520 - val_loss: 0.6712 - val_accuracy: 0.6886\n",
            "Epoch 176/200\n",
            "8/8 [==============================] - 3s 415ms/step - loss: 0.6356 - accuracy: 0.7600 - val_loss: 0.6695 - val_accuracy: 0.6886\n",
            "Epoch 177/200\n",
            "8/8 [==============================] - 3s 424ms/step - loss: 0.6609 - accuracy: 0.7480 - val_loss: 0.6680 - val_accuracy: 0.6886\n",
            "Epoch 178/200\n",
            "8/8 [==============================] - 3s 395ms/step - loss: 0.6481 - accuracy: 0.7680 - val_loss: 0.6665 - val_accuracy: 0.6886\n",
            "Epoch 179/200\n",
            "8/8 [==============================] - 4s 519ms/step - loss: 0.6639 - accuracy: 0.7360 - val_loss: 0.6645 - val_accuracy: 0.6886\n",
            "Epoch 180/200\n",
            "8/8 [==============================] - 3s 400ms/step - loss: 0.6644 - accuracy: 0.7400 - val_loss: 0.6630 - val_accuracy: 0.6886\n",
            "Epoch 181/200\n",
            "8/8 [==============================] - 3s 396ms/step - loss: 0.6547 - accuracy: 0.7680 - val_loss: 0.6613 - val_accuracy: 0.6886\n",
            "Epoch 182/200\n",
            "8/8 [==============================] - 4s 464ms/step - loss: 0.6432 - accuracy: 0.7600 - val_loss: 0.6597 - val_accuracy: 0.6886\n",
            "Epoch 183/200\n",
            "8/8 [==============================] - 3s 433ms/step - loss: 0.6803 - accuracy: 0.7320 - val_loss: 0.6581 - val_accuracy: 0.6946\n",
            "Epoch 184/200\n",
            "8/8 [==============================] - 3s 400ms/step - loss: 0.6418 - accuracy: 0.7480 - val_loss: 0.6566 - val_accuracy: 0.6946\n",
            "Epoch 185/200\n",
            "8/8 [==============================] - 3s 404ms/step - loss: 0.6304 - accuracy: 0.7600 - val_loss: 0.6548 - val_accuracy: 0.6946\n",
            "Epoch 186/200\n",
            "8/8 [==============================] - 4s 445ms/step - loss: 0.6362 - accuracy: 0.7320 - val_loss: 0.6536 - val_accuracy: 0.6946\n",
            "Epoch 187/200\n",
            "8/8 [==============================] - 3s 414ms/step - loss: 0.6668 - accuracy: 0.7520 - val_loss: 0.6520 - val_accuracy: 0.6946\n",
            "Epoch 188/200\n",
            "8/8 [==============================] - 5s 596ms/step - loss: 0.6180 - accuracy: 0.7760 - val_loss: 0.6505 - val_accuracy: 0.7006\n",
            "Epoch 189/200\n",
            "8/8 [==============================] - 3s 437ms/step - loss: 0.6448 - accuracy: 0.7520 - val_loss: 0.6482 - val_accuracy: 0.7006\n",
            "Epoch 190/200\n",
            "8/8 [==============================] - 3s 412ms/step - loss: 0.6136 - accuracy: 0.7640 - val_loss: 0.6465 - val_accuracy: 0.7006\n",
            "Epoch 191/200\n",
            "8/8 [==============================] - 3s 403ms/step - loss: 0.6366 - accuracy: 0.7560 - val_loss: 0.6450 - val_accuracy: 0.7066\n",
            "Epoch 192/200\n",
            "8/8 [==============================] - 5s 593ms/step - loss: 0.6341 - accuracy: 0.7560 - val_loss: 0.6434 - val_accuracy: 0.7066\n",
            "Epoch 193/200\n",
            "8/8 [==============================] - 3s 449ms/step - loss: 0.6467 - accuracy: 0.7480 - val_loss: 0.6420 - val_accuracy: 0.7126\n",
            "Epoch 194/200\n",
            "8/8 [==============================] - 3s 420ms/step - loss: 0.6541 - accuracy: 0.7520 - val_loss: 0.6406 - val_accuracy: 0.7186\n",
            "Epoch 195/200\n",
            "8/8 [==============================] - 4s 512ms/step - loss: 0.6127 - accuracy: 0.7520 - val_loss: 0.6390 - val_accuracy: 0.7186\n",
            "Epoch 196/200\n",
            "8/8 [==============================] - 4s 423ms/step - loss: 0.6337 - accuracy: 0.7560 - val_loss: 0.6377 - val_accuracy: 0.7186\n",
            "Epoch 197/200\n",
            "8/8 [==============================] - 3s 407ms/step - loss: 0.6382 - accuracy: 0.7400 - val_loss: 0.6363 - val_accuracy: 0.7186\n",
            "Epoch 198/200\n",
            "8/8 [==============================] - 4s 448ms/step - loss: 0.6237 - accuracy: 0.7560 - val_loss: 0.6352 - val_accuracy: 0.7186\n",
            "Epoch 199/200\n",
            "8/8 [==============================] - 5s 627ms/step - loss: 0.6043 - accuracy: 0.7800 - val_loss: 0.6338 - val_accuracy: 0.7186\n",
            "Epoch 200/200\n",
            "8/8 [==============================] - 3s 438ms/step - loss: 0.6392 - accuracy: 0.7400 - val_loss: 0.6324 - val_accuracy: 0.7186\n"
          ]
        }
      ]
    },
    {
      "cell_type": "code",
      "source": [
        "from sklearn.metrics import confusion_matrix, classification_report\n",
        "import numpy as np\n",
        "import matplotlib.pyplot as plt\n",
        "import seaborn as sns\n",
        "\n",
        "Y_pred = model_resnet50ver2.predict(X_test)\n",
        "Y_pred_classes = np.argmax(Y_pred, axis=1)\n",
        "Y_true = np.argmax(Y_test, axis=1)\n",
        "\n",
        "conf_matrix = confusion_matrix(Y_true, Y_pred_classes)\n",
        "\n",
        "plt.figure(figsize=(8, 6))\n",
        "sns.heatmap(conf_matrix, annot=True, fmt=\"d\", cmap=\"Blues\", xticklabels=['Common_Rust', 'Healthy', 'Gray_Leaf_Spot', 'Blight'], yticklabels=['Common_Rust', 'Healthy', 'Gray_Leaf_Spot', 'Blight'])\n",
        "plt.xlabel('Predicted labels')\n",
        "plt.ylabel('True labels')\n",
        "plt.title('Confusion Matrix')\n",
        "plt.show()\n",
        "\n",
        "class_report = classification_report(Y_true, Y_pred_classes)\n",
        "\n",
        "print(\"\\nClassification Report:\")\n",
        "print(class_report)\n"
      ],
      "metadata": {
        "colab": {
          "base_uri": "https://localhost:8080/",
          "height": 807
        },
        "id": "YWvBAbaMInI-",
        "outputId": "da78aed9-248b-4efd-b565-34e226a15983"
      },
      "execution_count": 28,
      "outputs": [
        {
          "output_type": "stream",
          "name": "stdout",
          "text": [
            "6/6 [==============================] - 1s 99ms/step\n"
          ]
        },
        {
          "output_type": "display_data",
          "data": {
            "text/plain": [
              "<Figure size 800x600 with 2 Axes>"
            ],
            "image/png": "[encoded data removed]"
          },
          "metadata": {}
        },
        {
          "output_type": "stream",
          "name": "stdout",
          "text": [
            "\n",
            "Classification Report:\n",
            "              precision    recall  f1-score   support\n",
            "\n",
            "           0       0.68      0.72      0.70        47\n",
            "           1       0.79      0.69      0.74        59\n",
            "           2       0.19      0.16      0.17        19\n",
            "           3       0.86      1.00      0.92        42\n",
            "\n",
            "    accuracy                           0.72       167\n",
            "   macro avg       0.63      0.64      0.63       167\n",
            "weighted avg       0.71      0.72      0.71       167\n",
            "\n"
          ]
        }
      ]
    }
  ]
}