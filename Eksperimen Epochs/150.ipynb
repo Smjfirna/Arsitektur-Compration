{
  "nbformat": 4,
  "nbformat_minor": 0,
  "metadata": {
    "colab": {
      "provenance": [],
      "gpuType": "T4",
      "include_colab_link": true
    },
    "kernelspec": {
      "name": "python3",
      "display_name": "Python 3"
    },
    "language_info": {
      "name": "python"
    },
    "accelerator": "GPU"
  },
  "cells": [
    {
      "cell_type": "markdown",
      "metadata": {
        "id": "view-in-github",
        "colab_type": "text"
      },
      "source": [
        "<a href=\"https://colab.research.google.com/github/Smjfirna/Arsitektur-Compration/blob/main/Eksperimen%20Epochs/150.ipynb\" target=\"_parent\"><img src=\"https://colab.research.google.com/assets/colab-badge.svg\" alt=\"Open In Colab\"/></a>"
      ]
    },
    {
      "cell_type": "code",
      "source": [
        "#Preprocessing\n",
        "import os\n",
        "import cv2\n",
        "import numpy as np\n",
        "from tqdm import tqdm\n",
        "from sklearn.model_selection import train_test_split\n",
        "from sklearn.preprocessing import LabelEncoder\n",
        "from keras.utils import to_categorical\n",
        "\n",
        "#Model dan Augmentasi\n",
        "import tensorflow as tf\n",
        "from tensorflow.keras.preprocessing.image import ImageDataGenerator\n",
        "from tensorflow.keras.models import Sequential\n",
        "from tensorflow.keras import layers, Model, regularizers\n",
        "from tensorflow.keras.callbacks import EarlyStopping\n",
        "from tensorflow.keras.layers import Conv2D, MaxPooling2D, Flatten, Dense, GlobalAveragePooling2D, Dropout\n",
        "import os\n",
        "from tensorflow.keras.optimizers import Adam\n",
        "from tensorflow.keras.optimizers import RMSprop\n",
        "from keras.applications import ResNet50\n",
        "\n",
        "# Evaluasi\n",
        "#import torch\n",
        "#import torchvision.models as models\n",
        "#from thop import profile\n",
        "from sklearn.metrics import confusion_matrix, classification_report\n",
        "\n",
        "#Visualisasi\n",
        "import matplotlib.pyplot as plt\n",
        "import seaborn as sns"
      ],
      "metadata": {
        "id": "NMN3beIVALVJ"
      },
      "execution_count": 2,
      "outputs": []
    },
    {
      "cell_type": "code",
      "execution_count": 3,
      "metadata": {
        "colab": {
          "base_uri": "https://localhost:8080/",
          "height": 90
        },
        "id": "GK3MPeDN_Ofu",
        "outputId": "684578b5-3b9b-4bb9-8fbf-d480bd48994d"
      },
      "outputs": [
        {
          "output_type": "display_data",
          "data": {
            "text/plain": [
              "<IPython.core.display.HTML object>"
            ],
            "text/html": [
              "\n",
              "     <input type=\"file\" id=\"files-74b24214-6ccd-4642-8f01-ed1379bae95f\" name=\"files[]\" multiple disabled\n",
              "        style=\"border:none\" />\n",
              "     <output id=\"result-74b24214-6ccd-4642-8f01-ed1379bae95f\">\n",
              "      Upload widget is only available when the cell has been executed in the\n",
              "      current browser session. Please rerun this cell to enable.\n",
              "      </output>\n",
              "      <script>// Copyright 2017 Google LLC\n",
              "//\n",
              "// Licensed under the Apache License, Version 2.0 (the \"License\");\n",
              "// you may not use this file except in compliance with the License.\n",
              "// You may obtain a copy of the License at\n",
              "//\n",
              "//      http://www.apache.org/licenses/LICENSE-2.0\n",
              "//\n",
              "// Unless required by applicable law or agreed to in writing, software\n",
              "// distributed under the License is distributed on an \"AS IS\" BASIS,\n",
              "// WITHOUT WARRANTIES OR CONDITIONS OF ANY KIND, either express or implied.\n",
              "// See the License for the specific language governing permissions and\n",
              "// limitations under the License.\n",
              "\n",
              "/**\n",
              " * @fileoverview Helpers for google.colab Python module.\n",
              " */\n",
              "(function(scope) {\n",
              "function span(text, styleAttributes = {}) {\n",
              "  const element = document.createElement('span');\n",
              "  element.textContent = text;\n",
              "  for (const key of Object.keys(styleAttributes)) {\n",
              "    element.style[key] = styleAttributes[key];\n",
              "  }\n",
              "  return element;\n",
              "}\n",
              "\n",
              "// Max number of bytes which will be uploaded at a time.\n",
              "const MAX_PAYLOAD_SIZE = 100 * 1024;\n",
              "\n",
              "function _uploadFiles(inputId, outputId) {\n",
              "  const steps = uploadFilesStep(inputId, outputId);\n",
              "  const outputElement = document.getElementById(outputId);\n",
              "  // Cache steps on the outputElement to make it available for the next call\n",
              "  // to uploadFilesContinue from Python.\n",
              "  outputElement.steps = steps;\n",
              "\n",
              "  return _uploadFilesContinue(outputId);\n",
              "}\n",
              "\n",
              "// This is roughly an async generator (not supported in the browser yet),\n",
              "// where there are multiple asynchronous steps and the Python side is going\n",
              "// to poll for completion of each step.\n",
              "// This uses a Promise to block the python side on completion of each step,\n",
              "// then passes the result of the previous step as the input to the next step.\n",
              "function _uploadFilesContinue(outputId) {\n",
              "  const outputElement = document.getElementById(outputId);\n",
              "  const steps = outputElement.steps;\n",
              "\n",
              "  const next = steps.next(outputElement.lastPromiseValue);\n",
              "  return Promise.resolve(next.value.promise).then((value) => {\n",
              "    // Cache the last promise value to make it available to the next\n",
              "    // step of the generator.\n",
              "    outputElement.lastPromiseValue = value;\n",
              "    return next.value.response;\n",
              "  });\n",
              "}\n",
              "\n",
              "/**\n",
              " * Generator function which is called between each async step of the upload\n",
              " * process.\n",
              " * @param {string} inputId Element ID of the input file picker element.\n",
              " * @param {string} outputId Element ID of the output display.\n",
              " * @return {!Iterable<!Object>} Iterable of next steps.\n",
              " */\n",
              "function* uploadFilesStep(inputId, outputId) {\n",
              "  const inputElement = document.getElementById(inputId);\n",
              "  inputElement.disabled = false;\n",
              "\n",
              "  const outputElement = document.getElementById(outputId);\n",
              "  outputElement.innerHTML = '';\n",
              "\n",
              "  const pickedPromise = new Promise((resolve) => {\n",
              "    inputElement.addEventListener('change', (e) => {\n",
              "      resolve(e.target.files);\n",
              "    });\n",
              "  });\n",
              "\n",
              "  const cancel = document.createElement('button');\n",
              "  inputElement.parentElement.appendChild(cancel);\n",
              "  cancel.textContent = 'Cancel upload';\n",
              "  const cancelPromise = new Promise((resolve) => {\n",
              "    cancel.onclick = () => {\n",
              "      resolve(null);\n",
              "    };\n",
              "  });\n",
              "\n",
              "  // Wait for the user to pick the files.\n",
              "  const files = yield {\n",
              "    promise: Promise.race([pickedPromise, cancelPromise]),\n",
              "    response: {\n",
              "      action: 'starting',\n",
              "    }\n",
              "  };\n",
              "\n",
              "  cancel.remove();\n",
              "\n",
              "  // Disable the input element since further picks are not allowed.\n",
              "  inputElement.disabled = true;\n",
              "\n",
              "  if (!files) {\n",
              "    return {\n",
              "      response: {\n",
              "        action: 'complete',\n",
              "      }\n",
              "    };\n",
              "  }\n",
              "\n",
              "  for (const file of files) {\n",
              "    const li = document.createElement('li');\n",
              "    li.append(span(file.name, {fontWeight: 'bold'}));\n",
              "    li.append(span(\n",
              "        `(${file.type || 'n/a'}) - ${file.size} bytes, ` +\n",
              "        `last modified: ${\n",
              "            file.lastModifiedDate ? file.lastModifiedDate.toLocaleDateString() :\n",
              "                                    'n/a'} - `));\n",
              "    const percent = span('0% done');\n",
              "    li.appendChild(percent);\n",
              "\n",
              "    outputElement.appendChild(li);\n",
              "\n",
              "    const fileDataPromise = new Promise((resolve) => {\n",
              "      const reader = new FileReader();\n",
              "      reader.onload = (e) => {\n",
              "        resolve(e.target.result);\n",
              "      };\n",
              "      reader.readAsArrayBuffer(file);\n",
              "    });\n",
              "    // Wait for the data to be ready.\n",
              "    let fileData = yield {\n",
              "      promise: fileDataPromise,\n",
              "      response: {\n",
              "        action: 'continue',\n",
              "      }\n",
              "    };\n",
              "\n",
              "    // Use a chunked sending to avoid message size limits. See b/62115660.\n",
              "    let position = 0;\n",
              "    do {\n",
              "      const length = Math.min(fileData.byteLength - position, MAX_PAYLOAD_SIZE);\n",
              "      const chunk = new Uint8Array(fileData, position, length);\n",
              "      position += length;\n",
              "\n",
              "      const base64 = btoa(String.fromCharCode.apply(null, chunk));\n",
              "      yield {\n",
              "        response: {\n",
              "          action: 'append',\n",
              "          file: file.name,\n",
              "          data: base64,\n",
              "        },\n",
              "      };\n",
              "\n",
              "      let percentDone = fileData.byteLength === 0 ?\n",
              "          100 :\n",
              "          Math.round((position / fileData.byteLength) * 100);\n",
              "      percent.textContent = `${percentDone}% done`;\n",
              "\n",
              "    } while (position < fileData.byteLength);\n",
              "  }\n",
              "\n",
              "  // All done.\n",
              "  yield {\n",
              "    response: {\n",
              "      action: 'complete',\n",
              "    }\n",
              "  };\n",
              "}\n",
              "\n",
              "scope.google = scope.google || {};\n",
              "scope.google.colab = scope.google.colab || {};\n",
              "scope.google.colab._files = {\n",
              "  _uploadFiles,\n",
              "  _uploadFilesContinue,\n",
              "};\n",
              "})(self);\n",
              "</script> "
            ]
          },
          "metadata": {}
        },
        {
          "output_type": "stream",
          "name": "stdout",
          "text": [
            "Saving kaggle.json to kaggle.json\n"
          ]
        },
        {
          "output_type": "execute_result",
          "data": {
            "text/plain": [
              "{'kaggle.json': b'{\"username\":\"smjayyy\",\"key\":\"07729aa6a210c0f9baaeed1cf96a6a3b\"}'}"
            ]
          },
          "metadata": {},
          "execution_count": 3
        }
      ],
      "source": [
        "from google.colab import files\n",
        "files.upload()"
      ]
    },
    {
      "cell_type": "code",
      "source": [
        "!mkdir -p ~/.kaggle\n",
        "!cp kaggle.json ~/.kaggle/\n",
        "!chmod 600 ~/.kaggle/kaggle.json"
      ],
      "metadata": {
        "id": "Y9Kia11G_5Si"
      },
      "execution_count": 4,
      "outputs": []
    },
    {
      "cell_type": "code",
      "source": [
        "##link dataset in Kaggle.com\n",
        "!kaggle datasets download -d smaranjitghose/corn-or-maize-leaf-disease-dataset"
      ],
      "metadata": {
        "colab": {
          "base_uri": "https://localhost:8080/"
        },
        "id": "apfKVlxj_8FJ",
        "outputId": "92445096-6615-4dd4-aa0f-8e5ebf345af0"
      },
      "execution_count": 5,
      "outputs": [
        {
          "output_type": "stream",
          "name": "stdout",
          "text": [
            "Dataset URL: https://www.kaggle.com/datasets/smaranjitghose/corn-or-maize-leaf-disease-dataset\n",
            "License(s): copyright-authors\n",
            "Downloading corn-or-maize-leaf-disease-dataset.zip to /content\n",
            " 87% 140M/161M [00:01<00:00, 140MB/s]\n",
            "100% 161M/161M [00:01<00:00, 121MB/s]\n"
          ]
        }
      ]
    },
    {
      "cell_type": "code",
      "source": [
        "!unzip -q corn-or-maize-leaf-disease-dataset.zip -d /content"
      ],
      "metadata": {
        "id": "ixMUoB2rAAd3"
      },
      "execution_count": 6,
      "outputs": []
    },
    {
      "cell_type": "code",
      "source": [
        "dataset_dir = '/content/data'"
      ],
      "metadata": {
        "id": "pZ8IerIQAGFO"
      },
      "execution_count": 7,
      "outputs": []
    },
    {
      "cell_type": "code",
      "source": [
        "print(os.listdir(dataset_dir))"
      ],
      "metadata": {
        "colab": {
          "base_uri": "https://localhost:8080/"
        },
        "id": "9wwka8QaAIcj",
        "outputId": "57245188-ce40-4d4e-f09e-67ee7bdc838b"
      },
      "execution_count": 8,
      "outputs": [
        {
          "output_type": "stream",
          "name": "stdout",
          "text": [
            "['Gray_Leaf_Spot', 'Blight', 'Common_Rust', 'Healthy']\n"
          ]
        }
      ]
    },
    {
      "cell_type": "code",
      "source": [
        "IMAGE_SIZE_resnet50 = 224"
      ],
      "metadata": {
        "id": "_UCEuA-hAPSa"
      },
      "execution_count": 9,
      "outputs": []
    },
    {
      "cell_type": "code",
      "source": [
        "def make_data(label, DIR, img_list, label_list):\n",
        "    for img in tqdm(os.listdir(DIR)):\n",
        "        path = os.path.join(DIR, img)\n",
        "        img = cv2.imread(path, cv2.IMREAD_COLOR)\n",
        "        img = cv2.resize(img, (IMAGE_SIZE_resnet50, IMAGE_SIZE_resnet50))\n",
        "        img_list.append(np.array(img))\n",
        "        label_list.append(str(label))"
      ],
      "metadata": {
        "id": "B3menIgvARk5"
      },
      "execution_count": 10,
      "outputs": []
    },
    {
      "cell_type": "code",
      "source": [
        "X = []\n",
        "Z = []"
      ],
      "metadata": {
        "id": "Jn6gWefxATyU"
      },
      "execution_count": 11,
      "outputs": []
    },
    {
      "cell_type": "code",
      "source": [
        "for i, class_name in enumerate(['Common_Rust', 'Healthy', 'Gray_Leaf_Spot', 'Blight']):\n",
        "    class_dir = os.path.join(dataset_dir, class_name)\n",
        "    make_data(class_name, class_dir, X, Z)"
      ],
      "metadata": {
        "colab": {
          "base_uri": "https://localhost:8080/"
        },
        "id": "S9-RQTGJAWCk",
        "outputId": "02265781-f4e6-4455-9591-131458d95130"
      },
      "execution_count": 12,
      "outputs": [
        {
          "output_type": "stream",
          "name": "stderr",
          "text": [
            "100%|██████████| 1306/1306 [00:02<00:00, 440.50it/s]\n",
            "100%|██████████| 1162/1162 [00:00<00:00, 1401.05it/s]\n",
            "100%|██████████| 574/574 [00:01<00:00, 527.72it/s]\n",
            "100%|██████████| 1146/1146 [00:03<00:00, 356.82it/s]\n"
          ]
        }
      ]
    },
    {
      "cell_type": "code",
      "source": [
        "# Menghitung jumlah data untuk setiap kelas\n",
        "class_counts = {class_name: Z.count(class_name) for class_name in set(Z)}\n",
        "\n",
        "# Menampilkan visualisasi jumlah data\n",
        "plt.figure(figsize=(6, 4))\n",
        "plt.bar(class_counts.keys(), class_counts.values())\n",
        "plt.xlabel('Class')\n",
        "plt.ylabel('Count')\n",
        "plt.title('Jumlah Data Setiap Kelas')\n",
        "plt.show()"
      ],
      "metadata": {
        "colab": {
          "base_uri": "https://localhost:8080/",
          "height": 410
        },
        "id": "-IcXHIM8Akcw",
        "outputId": "1f918335-2ff3-45aa-f871-4838d6256182"
      },
      "execution_count": 13,
      "outputs": [
        {
          "output_type": "display_data",
          "data": {
            "text/plain": [
              "<Figure size 600x400 with 1 Axes>"
            ],
            "image/png": "[encoded data removed]"
          },
          "metadata": {}
        }
      ]
    },
    {
      "cell_type": "code",
      "source": [
        "le = LabelEncoder()\n",
        "Y = le.fit_transform(Z)\n",
        "Y = to_categorical(Y, num_classes=len(le.classes_))\n",
        "\n",
        "# Konversi ke array numpy\n",
        "X = np.array(X)\n",
        "\n",
        "# Memisahkan data menjadi data latih dan data uji\n",
        "X_train, X_test, Y_train, Y_test = train_test_split(X, Y, test_size=0.2, random_state=42)\n",
        "\n",
        "print(\"Jumlah Data Train adalah :\", len(X_train))\n",
        "print(\"Jumlah Data Test adalah :\", len(X_test))"
      ],
      "metadata": {
        "colab": {
          "base_uri": "https://localhost:8080/"
        },
        "id": "OI7kvVbXAqko",
        "outputId": "8addfa18-7816-42a5-e5dd-107aaf848c61"
      },
      "execution_count": 14,
      "outputs": [
        {
          "output_type": "stream",
          "name": "stdout",
          "text": [
            "Jumlah Data Train adalah : 3350\n",
            "Jumlah Data Test adalah : 838\n"
          ]
        }
      ]
    },
    {
      "cell_type": "code",
      "source": [
        "datagen = ImageDataGenerator(\n",
        "    rotation_range=20,\n",
        "    zoom_range=0.2,\n",
        "    horizontal_flip=True,\n",
        "    vertical_flip=True\n",
        ")\n",
        "\n",
        "datagen.fit(X_train)"
      ],
      "metadata": {
        "id": "ue5XLCIlA2ld"
      },
      "execution_count": 15,
      "outputs": []
    },
    {
      "cell_type": "code",
      "source": [
        "resnet50 = ResNet50(include_top=False, weights='imagenet', input_shape=(IMAGE_SIZE_resnet50, IMAGE_SIZE_resnet50, 3))\n",
        "\n",
        "# Membuat model Sequential\n",
        "model_resnet50ver2 = Sequential()\n",
        "model_resnet50ver2.add(resnet50)\n",
        "model_resnet50ver2.add(GlobalAveragePooling2D())\n",
        "model_resnet50ver2.add(Dense(4, activation='softmax'))\n",
        "\n",
        "# Membekukan layer-layer ResNet50 yang telah dilatih\n",
        "for layer in resnet50.layers:\n",
        "    layer.trainable = False\n",
        "\n",
        "model_resnet50ver2.compile(optimizer=Adam(learning_rate=1e-4), loss='categorical_crossentropy', metrics=['accuracy'])\n",
        "\n",
        "# Menampilkan summary dari model\n",
        "#model_resnet50ver2.summary()\n",
        "\n",
        "# Melatih model dengan data latih dan validasi\n",
        "history_resnet50ver2 = model_resnet50ver2.fit(datagen.flow(X_train, Y_train), epochs=150, validation_data=(X_test, Y_test))"
      ],
      "metadata": {
        "id": "qg6h8yY_A62R",
        "colab": {
          "base_uri": "https://localhost:8080/"
        },
        "outputId": "49b892db-3ba9-4f71-977d-41d4881ba52c"
      },
      "execution_count": 17,
      "outputs": [
        {
          "output_type": "stream",
          "name": "stdout",
          "text": [
            "Epoch 1/150\n"
          ]
        },
        {
          "output_type": "stream",
          "name": "stderr",
          "text": [
            "/usr/local/lib/python3.10/dist-packages/keras/src/trainers/data_adapters/py_dataset_adapter.py:121: UserWarning: Your `PyDataset` class should call `super().__init__(**kwargs)` in its constructor. `**kwargs` can include `workers`, `use_multiprocessing`, `max_queue_size`. Do not pass these arguments to `fit()`, as they will be ignored.\n",
            "  self._warn_if_super_not_called()\n"
          ]
        },
        {
          "output_type": "stream",
          "name": "stdout",
          "text": [
            "\u001b[1m105/105\u001b[0m \u001b[32m━━━━━━━━━━━━━━━━━━━━\u001b[0m\u001b[37m\u001b[0m \u001b[1m81s\u001b[0m 583ms/step - accuracy: 0.3361 - loss: 1.6476 - val_accuracy: 0.7530 - val_loss: 0.6932\n",
            "Epoch 2/150\n",
            "\u001b[1m105/105\u001b[0m \u001b[32m━━━━━━━━━━━━━━━━━━━━\u001b[0m\u001b[37m\u001b[0m \u001b[1m55s\u001b[0m 389ms/step - accuracy: 0.7488 - loss: 0.6841 - val_accuracy: 0.8437 - val_loss: 0.4319\n",
            "Epoch 3/150\n",
            "\u001b[1m105/105\u001b[0m \u001b[32m━━━━━━━━━━━━━━━━━━━━\u001b[0m\u001b[37m\u001b[0m \u001b[1m43s\u001b[0m 388ms/step - accuracy: 0.8336 - loss: 0.4683 - val_accuracy: 0.8771 - val_loss: 0.3384\n",
            "Epoch 4/150\n",
            "\u001b[1m105/105\u001b[0m \u001b[32m━━━━━━━━━━━━━━━━━━━━\u001b[0m\u001b[37m\u001b[0m \u001b[1m84s\u001b[0m 406ms/step - accuracy: 0.8816 - loss: 0.3523 - val_accuracy: 0.8950 - val_loss: 0.2927\n",
            "Epoch 5/150\n",
            "\u001b[1m105/105\u001b[0m \u001b[32m━━━━━━━━━━━━━━━━━━━━\u001b[0m\u001b[37m\u001b[0m \u001b[1m81s\u001b[0m 401ms/step - accuracy: 0.8934 - loss: 0.3255 - val_accuracy: 0.9021 - val_loss: 0.2667\n",
            "Epoch 6/150\n",
            "\u001b[1m105/105\u001b[0m \u001b[32m━━━━━━━━━━━━━━━━━━━━\u001b[0m\u001b[37m\u001b[0m \u001b[1m43s\u001b[0m 391ms/step - accuracy: 0.8967 - loss: 0.2993 - val_accuracy: 0.9069 - val_loss: 0.2507\n",
            "Epoch 7/150\n",
            "\u001b[1m105/105\u001b[0m \u001b[32m━━━━━━━━━━━━━━━━━━━━\u001b[0m\u001b[37m\u001b[0m \u001b[1m45s\u001b[0m 405ms/step - accuracy: 0.9038 - loss: 0.2770 - val_accuracy: 0.9165 - val_loss: 0.2325\n",
            "Epoch 8/150\n",
            "\u001b[1m105/105\u001b[0m \u001b[32m━━━━━━━━━━━━━━━━━━━━\u001b[0m\u001b[37m\u001b[0m \u001b[1m82s\u001b[0m 401ms/step - accuracy: 0.9148 - loss: 0.2524 - val_accuracy: 0.9200 - val_loss: 0.2245\n",
            "Epoch 9/150\n",
            "\u001b[1m105/105\u001b[0m \u001b[32m━━━━━━━━━━━━━━━━━━━━\u001b[0m\u001b[37m\u001b[0m \u001b[1m82s\u001b[0m 399ms/step - accuracy: 0.9184 - loss: 0.2454 - val_accuracy: 0.9200 - val_loss: 0.2154\n",
            "Epoch 10/150\n",
            "\u001b[1m105/105\u001b[0m \u001b[32m━━━━━━━━━━━━━━━━━━━━\u001b[0m\u001b[37m\u001b[0m \u001b[1m44s\u001b[0m 393ms/step - accuracy: 0.9186 - loss: 0.2444 - val_accuracy: 0.9248 - val_loss: 0.2067\n",
            "Epoch 11/150\n",
            "\u001b[1m105/105\u001b[0m \u001b[32m━━━━━━━━━━━━━━━━━━━━\u001b[0m\u001b[37m\u001b[0m \u001b[1m44s\u001b[0m 394ms/step - accuracy: 0.9145 - loss: 0.2357 - val_accuracy: 0.9284 - val_loss: 0.2019\n",
            "Epoch 12/150\n",
            "\u001b[1m105/105\u001b[0m \u001b[32m━━━━━━━━━━━━━━━━━━━━\u001b[0m\u001b[37m\u001b[0m \u001b[1m82s\u001b[0m 389ms/step - accuracy: 0.9223 - loss: 0.2184 - val_accuracy: 0.9284 - val_loss: 0.1951\n",
            "Epoch 13/150\n",
            "\u001b[1m105/105\u001b[0m \u001b[32m━━━━━━━━━━━━━━━━━━━━\u001b[0m\u001b[37m\u001b[0m \u001b[1m81s\u001b[0m 396ms/step - accuracy: 0.9318 - loss: 0.1956 - val_accuracy: 0.9284 - val_loss: 0.1931\n",
            "Epoch 14/150\n",
            "\u001b[1m105/105\u001b[0m \u001b[32m━━━━━━━━━━━━━━━━━━━━\u001b[0m\u001b[37m\u001b[0m \u001b[1m45s\u001b[0m 404ms/step - accuracy: 0.9218 - loss: 0.2136 - val_accuracy: 0.9296 - val_loss: 0.1886\n",
            "Epoch 15/150\n",
            "\u001b[1m105/105\u001b[0m \u001b[32m━━━━━━━━━━━━━━━━━━━━\u001b[0m\u001b[37m\u001b[0m \u001b[1m44s\u001b[0m 386ms/step - accuracy: 0.9299 - loss: 0.1986 - val_accuracy: 0.9296 - val_loss: 0.1864\n",
            "Epoch 16/150\n",
            "\u001b[1m105/105\u001b[0m \u001b[32m━━━━━━━━━━━━━━━━━━━━\u001b[0m\u001b[37m\u001b[0m \u001b[1m44s\u001b[0m 394ms/step - accuracy: 0.9240 - loss: 0.1991 - val_accuracy: 0.9344 - val_loss: 0.1832\n",
            "Epoch 17/150\n",
            "\u001b[1m105/105\u001b[0m \u001b[32m━━━━━━━━━━━━━━━━━━━━\u001b[0m\u001b[37m\u001b[0m \u001b[1m44s\u001b[0m 399ms/step - accuracy: 0.9395 - loss: 0.1957 - val_accuracy: 0.9332 - val_loss: 0.1788\n",
            "Epoch 18/150\n",
            "\u001b[1m105/105\u001b[0m \u001b[32m━━━━━━━━━━━━━━━━━━━━\u001b[0m\u001b[37m\u001b[0m \u001b[1m44s\u001b[0m 394ms/step - accuracy: 0.9389 - loss: 0.1817 - val_accuracy: 0.9344 - val_loss: 0.1764\n",
            "Epoch 19/150\n",
            "\u001b[1m105/105\u001b[0m \u001b[32m━━━━━━━━━━━━━━━━━━━━\u001b[0m\u001b[37m\u001b[0m \u001b[1m44s\u001b[0m 394ms/step - accuracy: 0.9276 - loss: 0.1881 - val_accuracy: 0.9356 - val_loss: 0.1760\n",
            "Epoch 20/150\n",
            "\u001b[1m105/105\u001b[0m \u001b[32m━━━━━━━━━━━━━━━━━━━━\u001b[0m\u001b[37m\u001b[0m \u001b[1m81s\u001b[0m 391ms/step - accuracy: 0.9385 - loss: 0.1702 - val_accuracy: 0.9320 - val_loss: 0.1714\n",
            "Epoch 21/150\n",
            "\u001b[1m105/105\u001b[0m \u001b[32m━━━━━━━━━━━━━━━━━━━━\u001b[0m\u001b[37m\u001b[0m \u001b[1m44s\u001b[0m 398ms/step - accuracy: 0.9381 - loss: 0.1714 - val_accuracy: 0.9320 - val_loss: 0.1697\n",
            "Epoch 22/150\n",
            "\u001b[1m105/105\u001b[0m \u001b[32m━━━━━━━━━━━━━━━━━━━━\u001b[0m\u001b[37m\u001b[0m \u001b[1m44s\u001b[0m 390ms/step - accuracy: 0.9339 - loss: 0.1862 - val_accuracy: 0.9356 - val_loss: 0.1697\n",
            "Epoch 23/150\n",
            "\u001b[1m105/105\u001b[0m \u001b[32m━━━━━━━━━━━━━━━━━━━━\u001b[0m\u001b[37m\u001b[0m \u001b[1m81s\u001b[0m 390ms/step - accuracy: 0.9394 - loss: 0.1743 - val_accuracy: 0.9379 - val_loss: 0.1690\n",
            "Epoch 24/150\n",
            "\u001b[1m105/105\u001b[0m \u001b[32m━━━━━━━━━━━━━━━━━━━━\u001b[0m\u001b[37m\u001b[0m \u001b[1m81s\u001b[0m 378ms/step - accuracy: 0.9341 - loss: 0.1755 - val_accuracy: 0.9344 - val_loss: 0.1680\n",
            "Epoch 25/150\n",
            "\u001b[1m105/105\u001b[0m \u001b[32m━━━━━━━━━━━━━━━━━━━━\u001b[0m\u001b[37m\u001b[0m \u001b[1m82s\u001b[0m 385ms/step - accuracy: 0.9385 - loss: 0.1670 - val_accuracy: 0.9379 - val_loss: 0.1646\n",
            "Epoch 26/150\n",
            "\u001b[1m105/105\u001b[0m \u001b[32m━━━━━━━━━━━━━━━━━━━━\u001b[0m\u001b[37m\u001b[0m \u001b[1m43s\u001b[0m 381ms/step - accuracy: 0.9439 - loss: 0.1597 - val_accuracy: 0.9356 - val_loss: 0.1629\n",
            "Epoch 27/150\n",
            "\u001b[1m105/105\u001b[0m \u001b[32m━━━━━━━━━━━━━━━━━━━━\u001b[0m\u001b[37m\u001b[0m \u001b[1m83s\u001b[0m 397ms/step - accuracy: 0.9382 - loss: 0.1638 - val_accuracy: 0.9332 - val_loss: 0.1615\n",
            "Epoch 28/150\n",
            "\u001b[1m105/105\u001b[0m \u001b[32m━━━━━━━━━━━━━━━━━━━━\u001b[0m\u001b[37m\u001b[0m \u001b[1m44s\u001b[0m 397ms/step - accuracy: 0.9414 - loss: 0.1638 - val_accuracy: 0.9332 - val_loss: 0.1615\n",
            "Epoch 29/150\n",
            "\u001b[1m105/105\u001b[0m \u001b[32m━━━━━━━━━━━━━━━━━━━━\u001b[0m\u001b[37m\u001b[0m \u001b[1m43s\u001b[0m 382ms/step - accuracy: 0.9437 - loss: 0.1572 - val_accuracy: 0.9391 - val_loss: 0.1600\n",
            "Epoch 30/150\n",
            "\u001b[1m105/105\u001b[0m \u001b[32m━━━━━━━━━━━━━━━━━━━━\u001b[0m\u001b[37m\u001b[0m \u001b[1m81s\u001b[0m 386ms/step - accuracy: 0.9463 - loss: 0.1516 - val_accuracy: 0.9368 - val_loss: 0.1587\n",
            "Epoch 31/150\n",
            "\u001b[1m105/105\u001b[0m \u001b[32m━━━━━━━━━━━━━━━━━━━━\u001b[0m\u001b[37m\u001b[0m \u001b[1m83s\u001b[0m 390ms/step - accuracy: 0.9405 - loss: 0.1581 - val_accuracy: 0.9391 - val_loss: 0.1568\n",
            "Epoch 32/150\n",
            "\u001b[1m105/105\u001b[0m \u001b[32m━━━━━━━━━━━━━━━━━━━━\u001b[0m\u001b[37m\u001b[0m \u001b[1m44s\u001b[0m 395ms/step - accuracy: 0.9470 - loss: 0.1541 - val_accuracy: 0.9320 - val_loss: 0.1599\n",
            "Epoch 33/150\n",
            "\u001b[1m105/105\u001b[0m \u001b[32m━━━━━━━━━━━━━━━━━━━━\u001b[0m\u001b[37m\u001b[0m \u001b[1m45s\u001b[0m 404ms/step - accuracy: 0.9435 - loss: 0.1606 - val_accuracy: 0.9379 - val_loss: 0.1549\n",
            "Epoch 34/150\n",
            "\u001b[1m105/105\u001b[0m \u001b[32m━━━━━━━━━━━━━━━━━━━━\u001b[0m\u001b[37m\u001b[0m \u001b[1m44s\u001b[0m 385ms/step - accuracy: 0.9495 - loss: 0.1399 - val_accuracy: 0.9391 - val_loss: 0.1549\n",
            "Epoch 35/150\n",
            "\u001b[1m105/105\u001b[0m \u001b[32m━━━━━━━━━━━━━━━━━━━━\u001b[0m\u001b[37m\u001b[0m \u001b[1m82s\u001b[0m 396ms/step - accuracy: 0.9431 - loss: 0.1555 - val_accuracy: 0.9379 - val_loss: 0.1548\n",
            "Epoch 36/150\n",
            "\u001b[1m105/105\u001b[0m \u001b[32m━━━━━━━━━━━━━━━━━━━━\u001b[0m\u001b[37m\u001b[0m \u001b[1m84s\u001b[0m 404ms/step - accuracy: 0.9540 - loss: 0.1375 - val_accuracy: 0.9415 - val_loss: 0.1517\n",
            "Epoch 37/150\n",
            "\u001b[1m105/105\u001b[0m \u001b[32m━━━━━━━━━━━━━━━━━━━━\u001b[0m\u001b[37m\u001b[0m \u001b[1m45s\u001b[0m 407ms/step - accuracy: 0.9488 - loss: 0.1389 - val_accuracy: 0.9391 - val_loss: 0.1509\n",
            "Epoch 38/150\n",
            "\u001b[1m105/105\u001b[0m \u001b[32m━━━━━━━━━━━━━━━━━━━━\u001b[0m\u001b[37m\u001b[0m \u001b[1m45s\u001b[0m 404ms/step - accuracy: 0.9347 - loss: 0.1581 - val_accuracy: 0.9415 - val_loss: 0.1500\n",
            "Epoch 39/150\n",
            "\u001b[1m105/105\u001b[0m \u001b[32m━━━━━━━━━━━━━━━━━━━━\u001b[0m\u001b[37m\u001b[0m \u001b[1m45s\u001b[0m 393ms/step - accuracy: 0.9525 - loss: 0.1403 - val_accuracy: 0.9379 - val_loss: 0.1499\n",
            "Epoch 40/150\n",
            "\u001b[1m105/105\u001b[0m \u001b[32m━━━━━━━━━━━━━━━━━━━━\u001b[0m\u001b[37m\u001b[0m \u001b[1m44s\u001b[0m 396ms/step - accuracy: 0.9471 - loss: 0.1429 - val_accuracy: 0.9379 - val_loss: 0.1490\n",
            "Epoch 41/150\n",
            "\u001b[1m105/105\u001b[0m \u001b[32m━━━━━━━━━━━━━━━━━━━━\u001b[0m\u001b[37m\u001b[0m \u001b[1m44s\u001b[0m 400ms/step - accuracy: 0.9508 - loss: 0.1350 - val_accuracy: 0.9391 - val_loss: 0.1500\n",
            "Epoch 42/150\n",
            "\u001b[1m105/105\u001b[0m \u001b[32m━━━━━━━━━━━━━━━━━━━━\u001b[0m\u001b[37m\u001b[0m \u001b[1m83s\u001b[0m 401ms/step - accuracy: 0.9489 - loss: 0.1324 - val_accuracy: 0.9379 - val_loss: 0.1494\n",
            "Epoch 43/150\n",
            "\u001b[1m105/105\u001b[0m \u001b[32m━━━━━━━━━━━━━━━━━━━━\u001b[0m\u001b[37m\u001b[0m \u001b[1m45s\u001b[0m 408ms/step - accuracy: 0.9504 - loss: 0.1328 - val_accuracy: 0.9415 - val_loss: 0.1471\n",
            "Epoch 44/150\n",
            "\u001b[1m105/105\u001b[0m \u001b[32m━━━━━━━━━━━━━━━━━━━━\u001b[0m\u001b[37m\u001b[0m \u001b[1m81s\u001b[0m 392ms/step - accuracy: 0.9524 - loss: 0.1297 - val_accuracy: 0.9451 - val_loss: 0.1453\n",
            "Epoch 45/150\n",
            "\u001b[1m105/105\u001b[0m \u001b[32m━━━━━━━━━━━━━━━━━━━━\u001b[0m\u001b[37m\u001b[0m \u001b[1m45s\u001b[0m 409ms/step - accuracy: 0.9467 - loss: 0.1328 - val_accuracy: 0.9463 - val_loss: 0.1480\n",
            "Epoch 46/150\n",
            "\u001b[1m105/105\u001b[0m \u001b[32m━━━━━━━━━━━━━━━━━━━━\u001b[0m\u001b[37m\u001b[0m \u001b[1m45s\u001b[0m 407ms/step - accuracy: 0.9513 - loss: 0.1348 - val_accuracy: 0.9439 - val_loss: 0.1487\n",
            "Epoch 47/150\n",
            "\u001b[1m105/105\u001b[0m \u001b[32m━━━━━━━━━━━━━━━━━━━━\u001b[0m\u001b[37m\u001b[0m \u001b[1m44s\u001b[0m 394ms/step - accuracy: 0.9570 - loss: 0.1220 - val_accuracy: 0.9391 - val_loss: 0.1459\n",
            "Epoch 48/150\n",
            "\u001b[1m105/105\u001b[0m \u001b[32m━━━━━━━━━━━━━━━━━━━━\u001b[0m\u001b[37m\u001b[0m \u001b[1m81s\u001b[0m 398ms/step - accuracy: 0.9516 - loss: 0.1260 - val_accuracy: 0.9463 - val_loss: 0.1439\n",
            "Epoch 49/150\n",
            "\u001b[1m105/105\u001b[0m \u001b[32m━━━━━━━━━━━━━━━━━━━━\u001b[0m\u001b[37m\u001b[0m \u001b[1m82s\u001b[0m 399ms/step - accuracy: 0.9524 - loss: 0.1329 - val_accuracy: 0.9427 - val_loss: 0.1447\n",
            "Epoch 50/150\n",
            "\u001b[1m105/105\u001b[0m \u001b[32m━━━━━━━━━━━━━━━━━━━━\u001b[0m\u001b[37m\u001b[0m \u001b[1m82s\u001b[0m 402ms/step - accuracy: 0.9550 - loss: 0.1254 - val_accuracy: 0.9463 - val_loss: 0.1428\n",
            "Epoch 51/150\n",
            "\u001b[1m105/105\u001b[0m \u001b[32m━━━━━━━━━━━━━━━━━━━━\u001b[0m\u001b[37m\u001b[0m \u001b[1m83s\u001b[0m 403ms/step - accuracy: 0.9555 - loss: 0.1271 - val_accuracy: 0.9451 - val_loss: 0.1421\n",
            "Epoch 52/150\n",
            "\u001b[1m105/105\u001b[0m \u001b[32m━━━━━━━━━━━━━━━━━━━━\u001b[0m\u001b[37m\u001b[0m \u001b[1m81s\u001b[0m 400ms/step - accuracy: 0.9540 - loss: 0.1208 - val_accuracy: 0.9451 - val_loss: 0.1408\n",
            "Epoch 53/150\n",
            "\u001b[1m105/105\u001b[0m \u001b[32m━━━━━━━━━━━━━━━━━━━━\u001b[0m\u001b[37m\u001b[0m \u001b[1m82s\u001b[0m 396ms/step - accuracy: 0.9410 - loss: 0.1414 - val_accuracy: 0.9415 - val_loss: 0.1435\n",
            "Epoch 54/150\n",
            "\u001b[1m105/105\u001b[0m \u001b[32m━━━━━━━━━━━━━━━━━━━━\u001b[0m\u001b[37m\u001b[0m \u001b[1m45s\u001b[0m 401ms/step - accuracy: 0.9525 - loss: 0.1165 - val_accuracy: 0.9463 - val_loss: 0.1392\n",
            "Epoch 55/150\n",
            "\u001b[1m105/105\u001b[0m \u001b[32m━━━━━━━━━━━━━━━━━━━━\u001b[0m\u001b[37m\u001b[0m \u001b[1m45s\u001b[0m 406ms/step - accuracy: 0.9586 - loss: 0.1221 - val_accuracy: 0.9451 - val_loss: 0.1412\n",
            "Epoch 56/150\n",
            "\u001b[1m105/105\u001b[0m \u001b[32m━━━━━━━━━━━━━━━━━━━━\u001b[0m\u001b[37m\u001b[0m \u001b[1m81s\u001b[0m 392ms/step - accuracy: 0.9558 - loss: 0.1190 - val_accuracy: 0.9391 - val_loss: 0.1418\n",
            "Epoch 57/150\n",
            "\u001b[1m105/105\u001b[0m \u001b[32m━━━━━━━━━━━━━━━━━━━━\u001b[0m\u001b[37m\u001b[0m \u001b[1m83s\u001b[0m 408ms/step - accuracy: 0.9601 - loss: 0.1186 - val_accuracy: 0.9475 - val_loss: 0.1432\n",
            "Epoch 58/150\n",
            "\u001b[1m105/105\u001b[0m \u001b[32m━━━━━━━━━━━━━━━━━━━━\u001b[0m\u001b[37m\u001b[0m \u001b[1m45s\u001b[0m 404ms/step - accuracy: 0.9550 - loss: 0.1223 - val_accuracy: 0.9451 - val_loss: 0.1416\n",
            "Epoch 59/150\n",
            "\u001b[1m105/105\u001b[0m \u001b[32m━━━━━━━━━━━━━━━━━━━━\u001b[0m\u001b[37m\u001b[0m \u001b[1m45s\u001b[0m 398ms/step - accuracy: 0.9588 - loss: 0.1178 - val_accuracy: 0.9463 - val_loss: 0.1423\n",
            "Epoch 60/150\n",
            "\u001b[1m105/105\u001b[0m \u001b[32m━━━━━━━━━━━━━━━━━━━━\u001b[0m\u001b[37m\u001b[0m \u001b[1m81s\u001b[0m 404ms/step - accuracy: 0.9588 - loss: 0.1141 - val_accuracy: 0.9439 - val_loss: 0.1423\n",
            "Epoch 61/150\n",
            "\u001b[1m105/105\u001b[0m \u001b[32m━━━━━━━━━━━━━━━━━━━━\u001b[0m\u001b[37m\u001b[0m \u001b[1m82s\u001b[0m 390ms/step - accuracy: 0.9578 - loss: 0.1230 - val_accuracy: 0.9487 - val_loss: 0.1382\n",
            "Epoch 62/150\n",
            "\u001b[1m105/105\u001b[0m \u001b[32m━━━━━━━━━━━━━━━━━━━━\u001b[0m\u001b[37m\u001b[0m \u001b[1m82s\u001b[0m 402ms/step - accuracy: 0.9518 - loss: 0.1203 - val_accuracy: 0.9427 - val_loss: 0.1382\n",
            "Epoch 63/150\n",
            "\u001b[1m105/105\u001b[0m \u001b[32m━━━━━━━━━━━━━━━━━━━━\u001b[0m\u001b[37m\u001b[0m \u001b[1m83s\u001b[0m 402ms/step - accuracy: 0.9597 - loss: 0.1170 - val_accuracy: 0.9499 - val_loss: 0.1391\n",
            "Epoch 64/150\n",
            "\u001b[1m105/105\u001b[0m \u001b[32m━━━━━━━━━━━━━━━━━━━━\u001b[0m\u001b[37m\u001b[0m \u001b[1m81s\u001b[0m 404ms/step - accuracy: 0.9558 - loss: 0.1182 - val_accuracy: 0.9487 - val_loss: 0.1376\n",
            "Epoch 65/150\n",
            "\u001b[1m105/105\u001b[0m \u001b[32m━━━━━━━━━━━━━━━━━━━━\u001b[0m\u001b[37m\u001b[0m \u001b[1m82s\u001b[0m 403ms/step - accuracy: 0.9579 - loss: 0.1096 - val_accuracy: 0.9463 - val_loss: 0.1444\n",
            "Epoch 66/150\n",
            "\u001b[1m105/105\u001b[0m \u001b[32m━━━━━━━━━━━━━━━━━━━━\u001b[0m\u001b[37m\u001b[0m \u001b[1m82s\u001b[0m 404ms/step - accuracy: 0.9618 - loss: 0.1113 - val_accuracy: 0.9415 - val_loss: 0.1368\n",
            "Epoch 67/150\n",
            "\u001b[1m105/105\u001b[0m \u001b[32m━━━━━━━━━━━━━━━━━━━━\u001b[0m\u001b[37m\u001b[0m \u001b[1m81s\u001b[0m 394ms/step - accuracy: 0.9585 - loss: 0.1175 - val_accuracy: 0.9487 - val_loss: 0.1365\n",
            "Epoch 68/150\n",
            "\u001b[1m105/105\u001b[0m \u001b[32m━━━━━━━━━━━━━━━━━━━━\u001b[0m\u001b[37m\u001b[0m \u001b[1m44s\u001b[0m 397ms/step - accuracy: 0.9570 - loss: 0.1148 - val_accuracy: 0.9499 - val_loss: 0.1376\n",
            "Epoch 69/150\n",
            "\u001b[1m105/105\u001b[0m \u001b[32m━━━━━━━━━━━━━━━━━━━━\u001b[0m\u001b[37m\u001b[0m \u001b[1m81s\u001b[0m 389ms/step - accuracy: 0.9589 - loss: 0.1081 - val_accuracy: 0.9439 - val_loss: 0.1378\n",
            "Epoch 70/150\n",
            "\u001b[1m105/105\u001b[0m \u001b[32m━━━━━━━━━━━━━━━━━━━━\u001b[0m\u001b[37m\u001b[0m \u001b[1m43s\u001b[0m 391ms/step - accuracy: 0.9526 - loss: 0.1143 - val_accuracy: 0.9487 - val_loss: 0.1353\n",
            "Epoch 71/150\n",
            "\u001b[1m105/105\u001b[0m \u001b[32m━━━━━━━━━━━━━━━━━━━━\u001b[0m\u001b[37m\u001b[0m \u001b[1m44s\u001b[0m 390ms/step - accuracy: 0.9659 - loss: 0.1095 - val_accuracy: 0.9487 - val_loss: 0.1359\n",
            "Epoch 72/150\n",
            "\u001b[1m105/105\u001b[0m \u001b[32m━━━━━━━━━━━━━━━━━━━━\u001b[0m\u001b[37m\u001b[0m \u001b[1m44s\u001b[0m 394ms/step - accuracy: 0.9584 - loss: 0.1126 - val_accuracy: 0.9511 - val_loss: 0.1332\n",
            "Epoch 73/150\n",
            "\u001b[1m105/105\u001b[0m \u001b[32m━━━━━━━━━━━━━━━━━━━━\u001b[0m\u001b[37m\u001b[0m \u001b[1m44s\u001b[0m 395ms/step - accuracy: 0.9588 - loss: 0.1107 - val_accuracy: 0.9487 - val_loss: 0.1350\n",
            "Epoch 74/150\n",
            "\u001b[1m105/105\u001b[0m \u001b[32m━━━━━━━━━━━━━━━━━━━━\u001b[0m\u001b[37m\u001b[0m \u001b[1m81s\u001b[0m 381ms/step - accuracy: 0.9518 - loss: 0.1180 - val_accuracy: 0.9475 - val_loss: 0.1347\n",
            "Epoch 75/150\n",
            "\u001b[1m105/105\u001b[0m \u001b[32m━━━━━━━━━━━━━━━━━━━━\u001b[0m\u001b[37m\u001b[0m \u001b[1m82s\u001b[0m 392ms/step - accuracy: 0.9562 - loss: 0.1149 - val_accuracy: 0.9475 - val_loss: 0.1348\n",
            "Epoch 76/150\n",
            "\u001b[1m105/105\u001b[0m \u001b[32m━━━━━━━━━━━━━━━━━━━━\u001b[0m\u001b[37m\u001b[0m \u001b[1m43s\u001b[0m 383ms/step - accuracy: 0.9666 - loss: 0.1004 - val_accuracy: 0.9475 - val_loss: 0.1341\n",
            "Epoch 77/150\n",
            "\u001b[1m105/105\u001b[0m \u001b[32m━━━━━━━━━━━━━━━━━━━━\u001b[0m\u001b[37m\u001b[0m \u001b[1m83s\u001b[0m 393ms/step - accuracy: 0.9551 - loss: 0.1181 - val_accuracy: 0.9511 - val_loss: 0.1315\n",
            "Epoch 78/150\n",
            "\u001b[1m105/105\u001b[0m \u001b[32m━━━━━━━━━━━━━━━━━━━━\u001b[0m\u001b[37m\u001b[0m \u001b[1m43s\u001b[0m 393ms/step - accuracy: 0.9594 - loss: 0.1098 - val_accuracy: 0.9463 - val_loss: 0.1409\n",
            "Epoch 79/150\n",
            "\u001b[1m105/105\u001b[0m \u001b[32m━━━━━━━━━━━━━━━━━━━━\u001b[0m\u001b[37m\u001b[0m \u001b[1m43s\u001b[0m 385ms/step - accuracy: 0.9590 - loss: 0.1198 - val_accuracy: 0.9511 - val_loss: 0.1342\n",
            "Epoch 80/150\n",
            "\u001b[1m105/105\u001b[0m \u001b[32m━━━━━━━━━━━━━━━━━━━━\u001b[0m\u001b[37m\u001b[0m \u001b[1m82s\u001b[0m 387ms/step - accuracy: 0.9656 - loss: 0.1009 - val_accuracy: 0.9511 - val_loss: 0.1337\n",
            "Epoch 81/150\n",
            "\u001b[1m105/105\u001b[0m \u001b[32m━━━━━━━━━━━━━━━━━━━━\u001b[0m\u001b[37m\u001b[0m \u001b[1m84s\u001b[0m 389ms/step - accuracy: 0.9597 - loss: 0.1114 - val_accuracy: 0.9499 - val_loss: 0.1336\n",
            "Epoch 82/150\n",
            "\u001b[1m105/105\u001b[0m \u001b[32m━━━━━━━━━━━━━━━━━━━━\u001b[0m\u001b[37m\u001b[0m \u001b[1m44s\u001b[0m 401ms/step - accuracy: 0.9616 - loss: 0.0977 - val_accuracy: 0.9487 - val_loss: 0.1318\n",
            "Epoch 83/150\n",
            "\u001b[1m105/105\u001b[0m \u001b[32m━━━━━━━━━━━━━━━━━━━━\u001b[0m\u001b[37m\u001b[0m \u001b[1m81s\u001b[0m 393ms/step - accuracy: 0.9596 - loss: 0.1156 - val_accuracy: 0.9475 - val_loss: 0.1347\n",
            "Epoch 84/150\n",
            "\u001b[1m105/105\u001b[0m \u001b[32m━━━━━━━━━━━━━━━━━━━━\u001b[0m\u001b[37m\u001b[0m \u001b[1m84s\u001b[0m 416ms/step - accuracy: 0.9668 - loss: 0.1007 - val_accuracy: 0.9535 - val_loss: 0.1317\n",
            "Epoch 85/150\n",
            "\u001b[1m105/105\u001b[0m \u001b[32m━━━━━━━━━━━━━━━━━━━━\u001b[0m\u001b[37m\u001b[0m \u001b[1m45s\u001b[0m 405ms/step - accuracy: 0.9604 - loss: 0.1112 - val_accuracy: 0.9511 - val_loss: 0.1319\n",
            "Epoch 86/150\n",
            "\u001b[1m105/105\u001b[0m \u001b[32m━━━━━━━━━━━━━━━━━━━━\u001b[0m\u001b[37m\u001b[0m \u001b[1m82s\u001b[0m 400ms/step - accuracy: 0.9590 - loss: 0.1072 - val_accuracy: 0.9499 - val_loss: 0.1341\n",
            "Epoch 87/150\n",
            "\u001b[1m105/105\u001b[0m \u001b[32m━━━━━━━━━━━━━━━━━━━━\u001b[0m\u001b[37m\u001b[0m \u001b[1m49s\u001b[0m 405ms/step - accuracy: 0.9618 - loss: 0.1002 - val_accuracy: 0.9511 - val_loss: 0.1301\n",
            "Epoch 88/150\n",
            "\u001b[1m105/105\u001b[0m \u001b[32m━━━━━━━━━━━━━━━━━━━━\u001b[0m\u001b[37m\u001b[0m \u001b[1m79s\u001b[0m 412ms/step - accuracy: 0.9515 - loss: 0.1153 - val_accuracy: 0.9463 - val_loss: 0.1305\n",
            "Epoch 89/150\n",
            "\u001b[1m105/105\u001b[0m \u001b[32m━━━━━━━━━━━━━━━━━━━━\u001b[0m\u001b[37m\u001b[0m \u001b[1m80s\u001b[0m 398ms/step - accuracy: 0.9612 - loss: 0.1013 - val_accuracy: 0.9499 - val_loss: 0.1295\n",
            "Epoch 90/150\n",
            "\u001b[1m105/105\u001b[0m \u001b[32m━━━━━━━━━━━━━━━━━━━━\u001b[0m\u001b[37m\u001b[0m \u001b[1m82s\u001b[0m 396ms/step - accuracy: 0.9627 - loss: 0.0984 - val_accuracy: 0.9511 - val_loss: 0.1302\n",
            "Epoch 91/150\n",
            "\u001b[1m105/105\u001b[0m \u001b[32m━━━━━━━━━━━━━━━━━━━━\u001b[0m\u001b[37m\u001b[0m \u001b[1m44s\u001b[0m 384ms/step - accuracy: 0.9671 - loss: 0.0877 - val_accuracy: 0.9535 - val_loss: 0.1297\n",
            "Epoch 92/150\n",
            "\u001b[1m105/105\u001b[0m \u001b[32m━━━━━━━━━━━━━━━━━━━━\u001b[0m\u001b[37m\u001b[0m \u001b[1m44s\u001b[0m 398ms/step - accuracy: 0.9589 - loss: 0.1043 - val_accuracy: 0.9499 - val_loss: 0.1301\n",
            "Epoch 93/150\n",
            "\u001b[1m105/105\u001b[0m \u001b[32m━━━━━━━━━━━━━━━━━━━━\u001b[0m\u001b[37m\u001b[0m \u001b[1m82s\u001b[0m 396ms/step - accuracy: 0.9669 - loss: 0.0972 - val_accuracy: 0.9475 - val_loss: 0.1341\n",
            "Epoch 94/150\n",
            "\u001b[1m105/105\u001b[0m \u001b[32m━━━━━━━━━━━━━━━━━━━━\u001b[0m\u001b[37m\u001b[0m \u001b[1m45s\u001b[0m 400ms/step - accuracy: 0.9623 - loss: 0.0997 - val_accuracy: 0.9499 - val_loss: 0.1309\n",
            "Epoch 95/150\n",
            "\u001b[1m105/105\u001b[0m \u001b[32m━━━━━━━━━━━━━━━━━━━━\u001b[0m\u001b[37m\u001b[0m \u001b[1m81s\u001b[0m 400ms/step - accuracy: 0.9642 - loss: 0.0990 - val_accuracy: 0.9499 - val_loss: 0.1299\n",
            "Epoch 96/150\n",
            "\u001b[1m105/105\u001b[0m \u001b[32m━━━━━━━━━━━━━━━━━━━━\u001b[0m\u001b[37m\u001b[0m \u001b[1m84s\u001b[0m 408ms/step - accuracy: 0.9670 - loss: 0.0941 - val_accuracy: 0.9511 - val_loss: 0.1296\n",
            "Epoch 97/150\n",
            "\u001b[1m105/105\u001b[0m \u001b[32m━━━━━━━━━━━━━━━━━━━━\u001b[0m\u001b[37m\u001b[0m \u001b[1m80s\u001b[0m 402ms/step - accuracy: 0.9628 - loss: 0.0959 - val_accuracy: 0.9499 - val_loss: 0.1310\n",
            "Epoch 98/150\n",
            "\u001b[1m105/105\u001b[0m \u001b[32m━━━━━━━━━━━━━━━━━━━━\u001b[0m\u001b[37m\u001b[0m \u001b[1m83s\u001b[0m 397ms/step - accuracy: 0.9625 - loss: 0.1034 - val_accuracy: 0.9523 - val_loss: 0.1298\n",
            "Epoch 99/150\n",
            "\u001b[1m105/105\u001b[0m \u001b[32m━━━━━━━━━━━━━━━━━━━━\u001b[0m\u001b[37m\u001b[0m \u001b[1m45s\u001b[0m 405ms/step - accuracy: 0.9636 - loss: 0.0972 - val_accuracy: 0.9511 - val_loss: 0.1282\n",
            "Epoch 100/150\n",
            "\u001b[1m105/105\u001b[0m \u001b[32m━━━━━━━━━━━━━━━━━━━━\u001b[0m\u001b[37m\u001b[0m \u001b[1m45s\u001b[0m 408ms/step - accuracy: 0.9692 - loss: 0.0952 - val_accuracy: 0.9511 - val_loss: 0.1301\n",
            "Epoch 101/150\n",
            "\u001b[1m105/105\u001b[0m \u001b[32m━━━━━━━━━━━━━━━━━━━━\u001b[0m\u001b[37m\u001b[0m \u001b[1m83s\u001b[0m 401ms/step - accuracy: 0.9628 - loss: 0.0937 - val_accuracy: 0.9523 - val_loss: 0.1316\n",
            "Epoch 102/150\n",
            "\u001b[1m105/105\u001b[0m \u001b[32m━━━━━━━━━━━━━━━━━━━━\u001b[0m\u001b[37m\u001b[0m \u001b[1m45s\u001b[0m 408ms/step - accuracy: 0.9679 - loss: 0.0943 - val_accuracy: 0.9487 - val_loss: 0.1271\n",
            "Epoch 103/150\n",
            "\u001b[1m105/105\u001b[0m \u001b[32m━━━━━━━━━━━━━━━━━━━━\u001b[0m\u001b[37m\u001b[0m \u001b[1m45s\u001b[0m 409ms/step - accuracy: 0.9703 - loss: 0.0900 - val_accuracy: 0.9535 - val_loss: 0.1291\n",
            "Epoch 104/150\n",
            "\u001b[1m105/105\u001b[0m \u001b[32m━━━━━━━━━━━━━━━━━━━━\u001b[0m\u001b[37m\u001b[0m \u001b[1m82s\u001b[0m 405ms/step - accuracy: 0.9661 - loss: 0.0995 - val_accuracy: 0.9535 - val_loss: 0.1295\n",
            "Epoch 105/150\n",
            "\u001b[1m105/105\u001b[0m \u001b[32m━━━━━━━━━━━━━━━━━━━━\u001b[0m\u001b[37m\u001b[0m \u001b[1m45s\u001b[0m 411ms/step - accuracy: 0.9615 - loss: 0.0914 - val_accuracy: 0.9487 - val_loss: 0.1310\n",
            "Epoch 106/150\n",
            "\u001b[1m105/105\u001b[0m \u001b[32m━━━━━━━━━━━━━━━━━━━━\u001b[0m\u001b[37m\u001b[0m \u001b[1m45s\u001b[0m 396ms/step - accuracy: 0.9689 - loss: 0.0880 - val_accuracy: 0.9487 - val_loss: 0.1302\n",
            "Epoch 107/150\n",
            "\u001b[1m105/105\u001b[0m \u001b[32m━━━━━━━━━━━━━━━━━━━━\u001b[0m\u001b[37m\u001b[0m \u001b[1m44s\u001b[0m 402ms/step - accuracy: 0.9700 - loss: 0.0843 - val_accuracy: 0.9511 - val_loss: 0.1301\n",
            "Epoch 108/150\n",
            "\u001b[1m105/105\u001b[0m \u001b[32m━━━━━━━━━━━━━━━━━━━━\u001b[0m\u001b[37m\u001b[0m \u001b[1m44s\u001b[0m 399ms/step - accuracy: 0.9675 - loss: 0.0985 - val_accuracy: 0.9511 - val_loss: 0.1306\n",
            "Epoch 109/150\n",
            "\u001b[1m105/105\u001b[0m \u001b[32m━━━━━━━━━━━━━━━━━━━━\u001b[0m\u001b[37m\u001b[0m \u001b[1m81s\u001b[0m 375ms/step - accuracy: 0.9630 - loss: 0.1025 - val_accuracy: 0.9511 - val_loss: 0.1297\n",
            "Epoch 110/150\n",
            "\u001b[1m105/105\u001b[0m \u001b[32m━━━━━━━━━━━━━━━━━━━━\u001b[0m\u001b[37m\u001b[0m \u001b[1m83s\u001b[0m 403ms/step - accuracy: 0.9631 - loss: 0.1008 - val_accuracy: 0.9535 - val_loss: 0.1271\n",
            "Epoch 111/150\n",
            "\u001b[1m105/105\u001b[0m \u001b[32m━━━━━━━━━━━━━━━━━━━━\u001b[0m\u001b[37m\u001b[0m \u001b[1m81s\u001b[0m 377ms/step - accuracy: 0.9654 - loss: 0.0963 - val_accuracy: 0.9523 - val_loss: 0.1281\n",
            "Epoch 112/150\n",
            "\u001b[1m105/105\u001b[0m \u001b[32m━━━━━━━━━━━━━━━━━━━━\u001b[0m\u001b[37m\u001b[0m \u001b[1m82s\u001b[0m 393ms/step - accuracy: 0.9684 - loss: 0.0926 - val_accuracy: 0.9547 - val_loss: 0.1254\n",
            "Epoch 113/150\n",
            "\u001b[1m105/105\u001b[0m \u001b[32m━━━━━━━━━━━━━━━━━━━━\u001b[0m\u001b[37m\u001b[0m \u001b[1m44s\u001b[0m 394ms/step - accuracy: 0.9626 - loss: 0.0939 - val_accuracy: 0.9558 - val_loss: 0.1266\n",
            "Epoch 114/150\n",
            "\u001b[1m105/105\u001b[0m \u001b[32m━━━━━━━━━━━━━━━━━━━━\u001b[0m\u001b[37m\u001b[0m \u001b[1m82s\u001b[0m 398ms/step - accuracy: 0.9707 - loss: 0.0914 - val_accuracy: 0.9570 - val_loss: 0.1256\n",
            "Epoch 115/150\n",
            "\u001b[1m105/105\u001b[0m \u001b[32m━━━━━━━━━━━━━━━━━━━━\u001b[0m\u001b[37m\u001b[0m \u001b[1m44s\u001b[0m 397ms/step - accuracy: 0.9686 - loss: 0.0895 - val_accuracy: 0.9535 - val_loss: 0.1268\n",
            "Epoch 116/150\n",
            "\u001b[1m105/105\u001b[0m \u001b[32m━━━━━━━━━━━━━━━━━━━━\u001b[0m\u001b[37m\u001b[0m \u001b[1m45s\u001b[0m 404ms/step - accuracy: 0.9572 - loss: 0.0974 - val_accuracy: 0.9547 - val_loss: 0.1255\n",
            "Epoch 117/150\n",
            "\u001b[1m105/105\u001b[0m \u001b[32m━━━━━━━━━━━━━━━━━━━━\u001b[0m\u001b[37m\u001b[0m \u001b[1m80s\u001b[0m 390ms/step - accuracy: 0.9623 - loss: 0.0992 - val_accuracy: 0.9511 - val_loss: 0.1288\n",
            "Epoch 118/150\n",
            "\u001b[1m105/105\u001b[0m \u001b[32m━━━━━━━━━━━━━━━━━━━━\u001b[0m\u001b[37m\u001b[0m \u001b[1m82s\u001b[0m 390ms/step - accuracy: 0.9687 - loss: 0.0892 - val_accuracy: 0.9523 - val_loss: 0.1282\n",
            "Epoch 119/150\n",
            "\u001b[1m105/105\u001b[0m \u001b[32m━━━━━━━━━━━━━━━━━━━━\u001b[0m\u001b[37m\u001b[0m \u001b[1m82s\u001b[0m 396ms/step - accuracy: 0.9640 - loss: 0.0923 - val_accuracy: 0.9535 - val_loss: 0.1299\n",
            "Epoch 120/150\n",
            "\u001b[1m105/105\u001b[0m \u001b[32m━━━━━━━━━━━━━━━━━━━━\u001b[0m\u001b[37m\u001b[0m \u001b[1m82s\u001b[0m 397ms/step - accuracy: 0.9657 - loss: 0.0925 - val_accuracy: 0.9547 - val_loss: 0.1290\n",
            "Epoch 121/150\n",
            "\u001b[1m105/105\u001b[0m \u001b[32m━━━━━━━━━━━━━━━━━━━━\u001b[0m\u001b[37m\u001b[0m \u001b[1m82s\u001b[0m 400ms/step - accuracy: 0.9639 - loss: 0.0910 - val_accuracy: 0.9535 - val_loss: 0.1256\n",
            "Epoch 122/150\n",
            "\u001b[1m105/105\u001b[0m \u001b[32m━━━━━━━━━━━━━━━━━━━━\u001b[0m\u001b[37m\u001b[0m \u001b[1m81s\u001b[0m 393ms/step - accuracy: 0.9665 - loss: 0.0912 - val_accuracy: 0.9511 - val_loss: 0.1269\n",
            "Epoch 123/150\n",
            "\u001b[1m105/105\u001b[0m \u001b[32m━━━━━━━━━━━━━━━━━━━━\u001b[0m\u001b[37m\u001b[0m \u001b[1m83s\u001b[0m 402ms/step - accuracy: 0.9719 - loss: 0.0809 - val_accuracy: 0.9535 - val_loss: 0.1276\n",
            "Epoch 124/150\n",
            "\u001b[1m105/105\u001b[0m \u001b[32m━━━━━━━━━━━━━━━━━━━━\u001b[0m\u001b[37m\u001b[0m \u001b[1m82s\u001b[0m 396ms/step - accuracy: 0.9689 - loss: 0.0879 - val_accuracy: 0.9523 - val_loss: 0.1279\n",
            "Epoch 125/150\n",
            "\u001b[1m105/105\u001b[0m \u001b[32m━━━━━━━━━━━━━━━━━━━━\u001b[0m\u001b[37m\u001b[0m \u001b[1m45s\u001b[0m 395ms/step - accuracy: 0.9695 - loss: 0.0874 - val_accuracy: 0.9547 - val_loss: 0.1270\n",
            "Epoch 126/150\n",
            "\u001b[1m105/105\u001b[0m \u001b[32m━━━━━━━━━━━━━━━━━━━━\u001b[0m\u001b[37m\u001b[0m \u001b[1m44s\u001b[0m 400ms/step - accuracy: 0.9708 - loss: 0.0890 - val_accuracy: 0.9547 - val_loss: 0.1256\n",
            "Epoch 127/150\n",
            "\u001b[1m105/105\u001b[0m \u001b[32m━━━━━━━━━━━━━━━━━━━━\u001b[0m\u001b[37m\u001b[0m \u001b[1m82s\u001b[0m 401ms/step - accuracy: 0.9697 - loss: 0.0895 - val_accuracy: 0.9547 - val_loss: 0.1263\n",
            "Epoch 128/150\n",
            "\u001b[1m105/105\u001b[0m \u001b[32m━━━━━━━━━━━━━━━━━━━━\u001b[0m\u001b[37m\u001b[0m \u001b[1m81s\u001b[0m 397ms/step - accuracy: 0.9660 - loss: 0.0909 - val_accuracy: 0.9523 - val_loss: 0.1291\n",
            "Epoch 129/150\n",
            "\u001b[1m105/105\u001b[0m \u001b[32m━━━━━━━━━━━━━━━━━━━━\u001b[0m\u001b[37m\u001b[0m \u001b[1m82s\u001b[0m 397ms/step - accuracy: 0.9652 - loss: 0.0864 - val_accuracy: 0.9499 - val_loss: 0.1258\n",
            "Epoch 130/150\n",
            "\u001b[1m105/105\u001b[0m \u001b[32m━━━━━━━━━━━━━━━━━━━━\u001b[0m\u001b[37m\u001b[0m \u001b[1m83s\u001b[0m 403ms/step - accuracy: 0.9706 - loss: 0.0836 - val_accuracy: 0.9547 - val_loss: 0.1260\n",
            "Epoch 131/150\n",
            "\u001b[1m105/105\u001b[0m \u001b[32m━━━━━━━━━━━━━━━━━━━━\u001b[0m\u001b[37m\u001b[0m \u001b[1m83s\u001b[0m 414ms/step - accuracy: 0.9702 - loss: 0.0825 - val_accuracy: 0.9523 - val_loss: 0.1264\n",
            "Epoch 132/150\n",
            "\u001b[1m105/105\u001b[0m \u001b[32m━━━━━━━━━━━━━━━━━━━━\u001b[0m\u001b[37m\u001b[0m \u001b[1m46s\u001b[0m 407ms/step - accuracy: 0.9620 - loss: 0.0939 - val_accuracy: 0.9558 - val_loss: 0.1250\n",
            "Epoch 133/150\n",
            "\u001b[1m105/105\u001b[0m \u001b[32m━━━━━━━━━━━━━━━━━━━━\u001b[0m\u001b[37m\u001b[0m \u001b[1m80s\u001b[0m 399ms/step - accuracy: 0.9642 - loss: 0.0897 - val_accuracy: 0.9523 - val_loss: 0.1256\n",
            "Epoch 134/150\n",
            "\u001b[1m105/105\u001b[0m \u001b[32m━━━━━━━━━━━━━━━━━━━━\u001b[0m\u001b[37m\u001b[0m \u001b[1m45s\u001b[0m 393ms/step - accuracy: 0.9655 - loss: 0.0924 - val_accuracy: 0.9547 - val_loss: 0.1233\n",
            "Epoch 135/150\n",
            "\u001b[1m105/105\u001b[0m \u001b[32m━━━━━━━━━━━━━━━━━━━━\u001b[0m\u001b[37m\u001b[0m \u001b[1m82s\u001b[0m 412ms/step - accuracy: 0.9745 - loss: 0.0846 - val_accuracy: 0.9535 - val_loss: 0.1248\n",
            "Epoch 136/150\n",
            "\u001b[1m105/105\u001b[0m \u001b[32m━━━━━━━━━━━━━━━━━━━━\u001b[0m\u001b[37m\u001b[0m \u001b[1m82s\u001b[0m 410ms/step - accuracy: 0.9690 - loss: 0.0874 - val_accuracy: 0.9547 - val_loss: 0.1269\n",
            "Epoch 137/150\n",
            "\u001b[1m105/105\u001b[0m \u001b[32m━━━━━━━━━━━━━━━━━━━━\u001b[0m\u001b[37m\u001b[0m \u001b[1m81s\u001b[0m 402ms/step - accuracy: 0.9690 - loss: 0.0891 - val_accuracy: 0.9535 - val_loss: 0.1329\n",
            "Epoch 138/150\n",
            "\u001b[1m105/105\u001b[0m \u001b[32m━━━━━━━━━━━━━━━━━━━━\u001b[0m\u001b[37m\u001b[0m \u001b[1m81s\u001b[0m 397ms/step - accuracy: 0.9717 - loss: 0.0860 - val_accuracy: 0.9511 - val_loss: 0.1244\n",
            "Epoch 139/150\n",
            "\u001b[1m105/105\u001b[0m \u001b[32m━━━━━━━━━━━━━━━━━━━━\u001b[0m\u001b[37m\u001b[0m \u001b[1m45s\u001b[0m 400ms/step - accuracy: 0.9743 - loss: 0.0839 - val_accuracy: 0.9511 - val_loss: 0.1271\n",
            "Epoch 140/150\n",
            "\u001b[1m105/105\u001b[0m \u001b[32m━━━━━━━━━━━━━━━━━━━━\u001b[0m\u001b[37m\u001b[0m \u001b[1m44s\u001b[0m 399ms/step - accuracy: 0.9627 - loss: 0.0966 - val_accuracy: 0.9523 - val_loss: 0.1251\n",
            "Epoch 141/150\n",
            "\u001b[1m105/105\u001b[0m \u001b[32m━━━━━━━━━━━━━━━━━━━━\u001b[0m\u001b[37m\u001b[0m \u001b[1m82s\u001b[0m 393ms/step - accuracy: 0.9652 - loss: 0.0894 - val_accuracy: 0.9523 - val_loss: 0.1275\n",
            "Epoch 142/150\n",
            "\u001b[1m105/105\u001b[0m \u001b[32m━━━━━━━━━━━━━━━━━━━━\u001b[0m\u001b[37m\u001b[0m \u001b[1m82s\u001b[0m 402ms/step - accuracy: 0.9670 - loss: 0.0873 - val_accuracy: 0.9535 - val_loss: 0.1269\n",
            "Epoch 143/150\n",
            "\u001b[1m105/105\u001b[0m \u001b[32m━━━━━━━━━━━━━━━━━━━━\u001b[0m\u001b[37m\u001b[0m \u001b[1m82s\u001b[0m 398ms/step - accuracy: 0.9692 - loss: 0.0836 - val_accuracy: 0.9523 - val_loss: 0.1280\n",
            "Epoch 144/150\n",
            "\u001b[1m105/105\u001b[0m \u001b[32m━━━━━━━━━━━━━━━━━━━━\u001b[0m\u001b[37m\u001b[0m \u001b[1m44s\u001b[0m 392ms/step - accuracy: 0.9669 - loss: 0.0884 - val_accuracy: 0.9547 - val_loss: 0.1273\n",
            "Epoch 145/150\n",
            "\u001b[1m105/105\u001b[0m \u001b[32m━━━━━━━━━━━━━━━━━━━━\u001b[0m\u001b[37m\u001b[0m \u001b[1m82s\u001b[0m 400ms/step - accuracy: 0.9695 - loss: 0.0859 - val_accuracy: 0.9511 - val_loss: 0.1278\n",
            "Epoch 146/150\n",
            "\u001b[1m105/105\u001b[0m \u001b[32m━━━━━━━━━━━━━━━━━━━━\u001b[0m\u001b[37m\u001b[0m \u001b[1m82s\u001b[0m 394ms/step - accuracy: 0.9736 - loss: 0.0811 - val_accuracy: 0.9523 - val_loss: 0.1248\n",
            "Epoch 147/150\n",
            "\u001b[1m105/105\u001b[0m \u001b[32m━━━━━━━━━━━━━━━━━━━━\u001b[0m\u001b[37m\u001b[0m \u001b[1m81s\u001b[0m 396ms/step - accuracy: 0.9673 - loss: 0.0843 - val_accuracy: 0.9523 - val_loss: 0.1301\n",
            "Epoch 148/150\n",
            "\u001b[1m105/105\u001b[0m \u001b[32m━━━━━━━━━━━━━━━━━━━━\u001b[0m\u001b[37m\u001b[0m \u001b[1m44s\u001b[0m 400ms/step - accuracy: 0.9705 - loss: 0.0828 - val_accuracy: 0.9535 - val_loss: 0.1265\n",
            "Epoch 149/150\n",
            "\u001b[1m105/105\u001b[0m \u001b[32m━━━━━━━━━━━━━━━━━━━━\u001b[0m\u001b[37m\u001b[0m \u001b[1m45s\u001b[0m 397ms/step - accuracy: 0.9638 - loss: 0.0897 - val_accuracy: 0.9547 - val_loss: 0.1225\n",
            "Epoch 150/150\n",
            "\u001b[1m105/105\u001b[0m \u001b[32m━━━━━━━━━━━━━━━━━━━━\u001b[0m\u001b[37m\u001b[0m \u001b[1m81s\u001b[0m 395ms/step - accuracy: 0.9722 - loss: 0.0850 - val_accuracy: 0.9547 - val_loss: 0.1234\n"
          ]
        }
      ]
    },
    {
      "cell_type": "code",
      "source": [
        "# Menggunakan model_resnet50ver2 untuk membuat prediksi pada data uji\n",
        "Y_pred = model_resnet50ver2.predict(X_test)\n",
        "# Mengambil indeks kelas dengan probabilitas tertinggi sebagai prediksi\n",
        "Y_pred_classes = np.argmax(Y_pred, axis=1)\n",
        "# Mengambil indeks kelas dengan probabilitas tertinggi sebagai label sebenarnya\n",
        "Y_true = np.argmax(Y_test, axis=1)\n",
        "\n",
        "# Membuat confusion matrix\n",
        "conf_matrix = confusion_matrix(Y_true, Y_pred_classes)\n",
        "\n",
        "# Menampilkan confusion matrix dalam bentuk visualisasi\n",
        "plt.figure(figsize=(8, 6))\n",
        "sns.heatmap(conf_matrix, annot=True, fmt=\"d\", cmap=\"Blues\", xticklabels=['Common_Rust', 'Healthy', 'Gray_Leaf_Spot', 'Blight'], yticklabels=['Common_Rust', 'Healthy', 'Gray_Leaf_Spot', 'Blight'])\n",
        "plt.xlabel('Predicted labels')\n",
        "plt.ylabel('True labels')\n",
        "plt.title('Confusion Matrix')\n",
        "plt.show()\n",
        "\n",
        "# Membuat classification report\n",
        "class_report = classification_report(Y_true, Y_pred_classes)\n",
        "\n",
        "# Menampilkan classification report\n",
        "print(\"\\nClassification Report:\")\n",
        "print(class_report)"
      ],
      "metadata": {
        "id": "W2svXyjyTjeo",
        "colab": {
          "base_uri": "https://localhost:8080/",
          "height": 807
        },
        "outputId": "33401cfe-0f5d-4b59-c791-1272e888503a"
      },
      "execution_count": 18,
      "outputs": [
        {
          "output_type": "stream",
          "name": "stdout",
          "text": [
            "\u001b[1m27/27\u001b[0m \u001b[32m━━━━━━━━━━━━━━━━━━━━\u001b[0m\u001b[37m\u001b[0m \u001b[1m10s\u001b[0m 202ms/step\n"
          ]
        },
        {
          "output_type": "display_data",
          "data": {
            "text/plain": [
              "<Figure size 800x600 with 2 Axes>"
            ],
            "image/png": "[encoded data removed]"
          },
          "metadata": {}
        },
        {
          "output_type": "stream",
          "name": "stdout",
          "text": [
            "\n",
            "Classification Report:\n",
            "              precision    recall  f1-score   support\n",
            "\n",
            "           0       0.92      0.92      0.92       218\n",
            "           1       0.99      0.98      0.99       289\n",
            "           2       0.83      0.87      0.85       104\n",
            "           3       1.00      0.99      1.00       227\n",
            "\n",
            "    accuracy                           0.95       838\n",
            "   macro avg       0.94      0.94      0.94       838\n",
            "weighted avg       0.96      0.95      0.95       838\n",
            "\n"
          ]
        }
      ]
    }
  ]
}