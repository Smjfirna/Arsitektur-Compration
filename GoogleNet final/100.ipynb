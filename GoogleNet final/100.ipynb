{
  "nbformat": 4,
  "nbformat_minor": 0,
  "metadata": {
    "colab": {
      "provenance": [],
      "gpuType": "T4",
      "include_colab_link": true
    },
    "kernelspec": {
      "name": "python3",
      "display_name": "Python 3"
    },
    "language_info": {
      "name": "python"
    },
    "accelerator": "GPU"
  },
  "cells": [
    {
      "cell_type": "markdown",
      "metadata": {
        "id": "view-in-github",
        "colab_type": "text"
      },
      "source": [
        "<a href=\"https://colab.research.google.com/github/Smjfirna/Arsitektur-Compration/blob/main/GoogleNet%20final/100.ipynb\" target=\"_parent\"><img src=\"https://colab.research.google.com/assets/colab-badge.svg\" alt=\"Open In Colab\"/></a>"
      ]
    },
    {
      "cell_type": "code",
      "source": [
        "#Preprocessing\n",
        "import os\n",
        "import cv2\n",
        "import numpy as np\n",
        "from tqdm import tqdm\n",
        "from sklearn.model_selection import train_test_split\n",
        "from sklearn.preprocessing import LabelEncoder\n",
        "from keras.utils import to_categorical\n",
        "\n",
        "#Model dan Augmentasi\n",
        "import tensorflow as tf\n",
        "from tensorflow.keras.preprocessing.image import ImageDataGenerator\n",
        "from tensorflow.keras.models import Sequential\n",
        "from tensorflow.keras import layers, Model, regularizers\n",
        "from tensorflow.keras.callbacks import EarlyStopping\n",
        "from tensorflow.keras.layers import Input, Conv2D, MaxPooling2D, concatenate, GlobalAveragePooling2D, AveragePooling2D, Flatten, Dense, Dropout, BatchNormalization\n",
        "import os\n",
        "from tensorflow.keras.optimizers import Adam\n",
        "from tensorflow.keras.optimizers import RMSprop\n",
        "\n",
        "# Evaluasi\n",
        "import torch\n",
        "import torchvision.models as models\n",
        "from thop import profile\n",
        "from sklearn.metrics import confusion_matrix, classification_report\n",
        "\n",
        "#Visualisasi\n",
        "import matplotlib.pyplot as plt\n",
        "import seaborn as sns\n",
        "import os\n",
        "import cv2\n",
        "import numpy as np\n",
        "from tqdm import tqdm\n",
        "from sklearn.model_selection import train_test_split\n",
        "from sklearn.preprocessing import LabelEncoder\n",
        "from keras.utils import to_categorical"
      ],
      "metadata": {
        "id": "NMN3beIVALVJ"
      },
      "execution_count": 2,
      "outputs": []
    },
    {
      "cell_type": "code",
      "execution_count": 3,
      "metadata": {
        "colab": {
          "base_uri": "https://localhost:8080/",
          "height": 90
        },
        "id": "GK3MPeDN_Ofu",
        "outputId": "7994ab87-eda4-41ae-8168-861cb216b370"
      },
      "outputs": [
        {
          "output_type": "display_data",
          "data": {
            "text/plain": [
              "<IPython.core.display.HTML object>"
            ],
            "text/html": [
              "\n",
              "     <input type=\"file\" id=\"files-263e71f4-a224-465e-bcad-1b7a6e3b4dea\" name=\"files[]\" multiple disabled\n",
              "        style=\"border:none\" />\n",
              "     <output id=\"result-263e71f4-a224-465e-bcad-1b7a6e3b4dea\">\n",
              "      Upload widget is only available when the cell has been executed in the\n",
              "      current browser session. Please rerun this cell to enable.\n",
              "      </output>\n",
              "      <script>// Copyright 2017 Google LLC\n",
              "//\n",
              "// Licensed under the Apache License, Version 2.0 (the \"License\");\n",
              "// you may not use this file except in compliance with the License.\n",
              "// You may obtain a copy of the License at\n",
              "//\n",
              "//      http://www.apache.org/licenses/LICENSE-2.0\n",
              "//\n",
              "// Unless required by applicable law or agreed to in writing, software\n",
              "// distributed under the License is distributed on an \"AS IS\" BASIS,\n",
              "// WITHOUT WARRANTIES OR CONDITIONS OF ANY KIND, either express or implied.\n",
              "// See the License for the specific language governing permissions and\n",
              "// limitations under the License.\n",
              "\n",
              "/**\n",
              " * @fileoverview Helpers for google.colab Python module.\n",
              " */\n",
              "(function(scope) {\n",
              "function span(text, styleAttributes = {}) {\n",
              "  const element = document.createElement('span');\n",
              "  element.textContent = text;\n",
              "  for (const key of Object.keys(styleAttributes)) {\n",
              "    element.style[key] = styleAttributes[key];\n",
              "  }\n",
              "  return element;\n",
              "}\n",
              "\n",
              "// Max number of bytes which will be uploaded at a time.\n",
              "const MAX_PAYLOAD_SIZE = 100 * 1024;\n",
              "\n",
              "function _uploadFiles(inputId, outputId) {\n",
              "  const steps = uploadFilesStep(inputId, outputId);\n",
              "  const outputElement = document.getElementById(outputId);\n",
              "  // Cache steps on the outputElement to make it available for the next call\n",
              "  // to uploadFilesContinue from Python.\n",
              "  outputElement.steps = steps;\n",
              "\n",
              "  return _uploadFilesContinue(outputId);\n",
              "}\n",
              "\n",
              "// This is roughly an async generator (not supported in the browser yet),\n",
              "// where there are multiple asynchronous steps and the Python side is going\n",
              "// to poll for completion of each step.\n",
              "// This uses a Promise to block the python side on completion of each step,\n",
              "// then passes the result of the previous step as the input to the next step.\n",
              "function _uploadFilesContinue(outputId) {\n",
              "  const outputElement = document.getElementById(outputId);\n",
              "  const steps = outputElement.steps;\n",
              "\n",
              "  const next = steps.next(outputElement.lastPromiseValue);\n",
              "  return Promise.resolve(next.value.promise).then((value) => {\n",
              "    // Cache the last promise value to make it available to the next\n",
              "    // step of the generator.\n",
              "    outputElement.lastPromiseValue = value;\n",
              "    return next.value.response;\n",
              "  });\n",
              "}\n",
              "\n",
              "/**\n",
              " * Generator function which is called between each async step of the upload\n",
              " * process.\n",
              " * @param {string} inputId Element ID of the input file picker element.\n",
              " * @param {string} outputId Element ID of the output display.\n",
              " * @return {!Iterable<!Object>} Iterable of next steps.\n",
              " */\n",
              "function* uploadFilesStep(inputId, outputId) {\n",
              "  const inputElement = document.getElementById(inputId);\n",
              "  inputElement.disabled = false;\n",
              "\n",
              "  const outputElement = document.getElementById(outputId);\n",
              "  outputElement.innerHTML = '';\n",
              "\n",
              "  const pickedPromise = new Promise((resolve) => {\n",
              "    inputElement.addEventListener('change', (e) => {\n",
              "      resolve(e.target.files);\n",
              "    });\n",
              "  });\n",
              "\n",
              "  const cancel = document.createElement('button');\n",
              "  inputElement.parentElement.appendChild(cancel);\n",
              "  cancel.textContent = 'Cancel upload';\n",
              "  const cancelPromise = new Promise((resolve) => {\n",
              "    cancel.onclick = () => {\n",
              "      resolve(null);\n",
              "    };\n",
              "  });\n",
              "\n",
              "  // Wait for the user to pick the files.\n",
              "  const files = yield {\n",
              "    promise: Promise.race([pickedPromise, cancelPromise]),\n",
              "    response: {\n",
              "      action: 'starting',\n",
              "    }\n",
              "  };\n",
              "\n",
              "  cancel.remove();\n",
              "\n",
              "  // Disable the input element since further picks are not allowed.\n",
              "  inputElement.disabled = true;\n",
              "\n",
              "  if (!files) {\n",
              "    return {\n",
              "      response: {\n",
              "        action: 'complete',\n",
              "      }\n",
              "    };\n",
              "  }\n",
              "\n",
              "  for (const file of files) {\n",
              "    const li = document.createElement('li');\n",
              "    li.append(span(file.name, {fontWeight: 'bold'}));\n",
              "    li.append(span(\n",
              "        `(${file.type || 'n/a'}) - ${file.size} bytes, ` +\n",
              "        `last modified: ${\n",
              "            file.lastModifiedDate ? file.lastModifiedDate.toLocaleDateString() :\n",
              "                                    'n/a'} - `));\n",
              "    const percent = span('0% done');\n",
              "    li.appendChild(percent);\n",
              "\n",
              "    outputElement.appendChild(li);\n",
              "\n",
              "    const fileDataPromise = new Promise((resolve) => {\n",
              "      const reader = new FileReader();\n",
              "      reader.onload = (e) => {\n",
              "        resolve(e.target.result);\n",
              "      };\n",
              "      reader.readAsArrayBuffer(file);\n",
              "    });\n",
              "    // Wait for the data to be ready.\n",
              "    let fileData = yield {\n",
              "      promise: fileDataPromise,\n",
              "      response: {\n",
              "        action: 'continue',\n",
              "      }\n",
              "    };\n",
              "\n",
              "    // Use a chunked sending to avoid message size limits. See b/62115660.\n",
              "    let position = 0;\n",
              "    do {\n",
              "      const length = Math.min(fileData.byteLength - position, MAX_PAYLOAD_SIZE);\n",
              "      const chunk = new Uint8Array(fileData, position, length);\n",
              "      position += length;\n",
              "\n",
              "      const base64 = btoa(String.fromCharCode.apply(null, chunk));\n",
              "      yield {\n",
              "        response: {\n",
              "          action: 'append',\n",
              "          file: file.name,\n",
              "          data: base64,\n",
              "        },\n",
              "      };\n",
              "\n",
              "      let percentDone = fileData.byteLength === 0 ?\n",
              "          100 :\n",
              "          Math.round((position / fileData.byteLength) * 100);\n",
              "      percent.textContent = `${percentDone}% done`;\n",
              "\n",
              "    } while (position < fileData.byteLength);\n",
              "  }\n",
              "\n",
              "  // All done.\n",
              "  yield {\n",
              "    response: {\n",
              "      action: 'complete',\n",
              "    }\n",
              "  };\n",
              "}\n",
              "\n",
              "scope.google = scope.google || {};\n",
              "scope.google.colab = scope.google.colab || {};\n",
              "scope.google.colab._files = {\n",
              "  _uploadFiles,\n",
              "  _uploadFilesContinue,\n",
              "};\n",
              "})(self);\n",
              "</script> "
            ]
          },
          "metadata": {}
        },
        {
          "output_type": "stream",
          "name": "stdout",
          "text": [
            "Saving kaggle.json to kaggle.json\n"
          ]
        },
        {
          "output_type": "execute_result",
          "data": {
            "text/plain": [
              "{'kaggle.json': b'{\"username\":\"smjayyy\",\"key\":\"8eb172e224d83c7b56b4a2ef349b7c0d\"}'}"
            ]
          },
          "metadata": {},
          "execution_count": 3
        }
      ],
      "source": [
        "from google.colab import files\n",
        "files.upload()"
      ]
    },
    {
      "cell_type": "code",
      "source": [
        "!mkdir -p ~/.kaggle\n",
        "!cp kaggle.json ~/.kaggle/\n",
        "!chmod 600 ~/.kaggle/kaggle.json"
      ],
      "metadata": {
        "id": "Y9Kia11G_5Si"
      },
      "execution_count": 4,
      "outputs": []
    },
    {
      "cell_type": "code",
      "source": [
        "##link dataset in Kaggle.com\n",
        "!kaggle datasets download -d smaranjitghose/corn-or-maize-leaf-disease-dataset"
      ],
      "metadata": {
        "colab": {
          "base_uri": "https://localhost:8080/"
        },
        "id": "apfKVlxj_8FJ",
        "outputId": "34738262-f91b-4cb2-9757-b14d09357409"
      },
      "execution_count": 5,
      "outputs": [
        {
          "output_type": "stream",
          "name": "stdout",
          "text": [
            "Dataset URL: https://www.kaggle.com/datasets/smaranjitghose/corn-or-maize-leaf-disease-dataset\n",
            "License(s): copyright-authors\n",
            "Downloading corn-or-maize-leaf-disease-dataset.zip to /content\n",
            "100% 160M/161M [00:10<00:00, 20.5MB/s]\n",
            "100% 161M/161M [00:10<00:00, 15.5MB/s]\n"
          ]
        }
      ]
    },
    {
      "cell_type": "code",
      "source": [
        "!unzip -q corn-or-maize-leaf-disease-dataset.zip -d /content"
      ],
      "metadata": {
        "id": "ixMUoB2rAAd3"
      },
      "execution_count": 6,
      "outputs": []
    },
    {
      "cell_type": "code",
      "source": [
        "dataset_dir = '/content/data'"
      ],
      "metadata": {
        "id": "pZ8IerIQAGFO"
      },
      "execution_count": 7,
      "outputs": []
    },
    {
      "cell_type": "code",
      "source": [
        "print(os.listdir(dataset_dir))"
      ],
      "metadata": {
        "colab": {
          "base_uri": "https://localhost:8080/"
        },
        "id": "9wwka8QaAIcj",
        "outputId": "ebd79d50-cf27-46e0-bb69-c8ea556c0ee8"
      },
      "execution_count": 8,
      "outputs": [
        {
          "output_type": "stream",
          "name": "stdout",
          "text": [
            "['Common_Rust', 'Blight', 'Healthy', 'Gray_Leaf_Spot']\n"
          ]
        }
      ]
    },
    {
      "cell_type": "code",
      "source": [
        "IMAGE_SIZE_googlenet = 224"
      ],
      "metadata": {
        "id": "_UCEuA-hAPSa"
      },
      "execution_count": 9,
      "outputs": []
    },
    {
      "cell_type": "code",
      "source": [
        "def make_data(label, DIR, img_list, label_list):\n",
        "    for img in tqdm(os.listdir(DIR)):\n",
        "        path = os.path.join(DIR, img)\n",
        "        img = cv2.imread(path, cv2.IMREAD_COLOR)\n",
        "        img = cv2.resize(img, (IMAGE_SIZE_googlenet, IMAGE_SIZE_googlenet))\n",
        "        img_list.append(np.array(img))\n",
        "        label_list.append(str(label))"
      ],
      "metadata": {
        "id": "B3menIgvARk5"
      },
      "execution_count": 10,
      "outputs": []
    },
    {
      "cell_type": "code",
      "source": [
        "X = []\n",
        "Z = []"
      ],
      "metadata": {
        "id": "Jn6gWefxATyU"
      },
      "execution_count": 11,
      "outputs": []
    },
    {
      "cell_type": "code",
      "source": [
        "for i, class_name in enumerate(['Common_Rust', 'Healthy', 'Gray_Leaf_Spot', 'Blight']):\n",
        "    class_dir = os.path.join(dataset_dir, class_name)\n",
        "    make_data(class_name, class_dir, X, Z)"
      ],
      "metadata": {
        "colab": {
          "base_uri": "https://localhost:8080/"
        },
        "id": "S9-RQTGJAWCk",
        "outputId": "c93197de-7997-4cd2-84c0-f5eecb12dab3"
      },
      "execution_count": 12,
      "outputs": [
        {
          "output_type": "stream",
          "name": "stderr",
          "text": [
            "100%|██████████| 1306/1306 [00:04<00:00, 316.71it/s]\n",
            "100%|██████████| 1162/1162 [00:01<00:00, 942.65it/s]\n",
            "100%|██████████| 574/574 [00:01<00:00, 366.46it/s]\n",
            "100%|██████████| 1146/1146 [00:05<00:00, 204.87it/s]\n"
          ]
        }
      ]
    },
    {
      "cell_type": "code",
      "source": [
        "import matplotlib.pyplot as plt\n",
        "\n",
        "# Menghitung jumlah data untuk setiap kelas\n",
        "class_counts = {class_name: Z.count(class_name) for class_name in set(Z)}\n",
        "\n",
        "# Menampilkan visualisasi jumlah data\n",
        "plt.figure(figsize=(8, 6))\n",
        "plt.bar(class_counts.keys(), class_counts.values())\n",
        "plt.xlabel('Class')\n",
        "plt.ylabel('Count')\n",
        "plt.title('Number of Data Samples for Each Class')\n",
        "plt.show()"
      ],
      "metadata": {
        "colab": {
          "base_uri": "https://localhost:8080/",
          "height": 564
        },
        "id": "-IcXHIM8Akcw",
        "outputId": "87f47136-27b1-45f6-e998-89dc4254b815"
      },
      "execution_count": 13,
      "outputs": [
        {
          "output_type": "display_data",
          "data": {
            "text/plain": [
              "<Figure size 800x600 with 1 Axes>"
            ],
            "image/png": "[encoded data removed]"
          },
          "metadata": {}
        }
      ]
    },
    {
      "cell_type": "code",
      "source": [
        "le = LabelEncoder()\n",
        "Y = le.fit_transform(Z)\n",
        "Y = to_categorical(Y, num_classes=len(le.classes_))\n",
        "\n",
        "# Konversi ke array numpy\n",
        "X = np.array(X)\n",
        "\n",
        "# Memisahkan data menjadi data latih dan data uji\n",
        "X_train, X_test, Y_train, Y_test = train_test_split(X, Y, test_size=0.2, random_state=42)\n",
        "\n",
        "print(\"Jumlah Data Train adalah :\", len(X_train))\n",
        "print(\"Jumlah Data Test adalah :\", len(X_test))"
      ],
      "metadata": {
        "colab": {
          "base_uri": "https://localhost:8080/"
        },
        "id": "OI7kvVbXAqko",
        "outputId": "57ede972-5f60-463d-90c5-7dd4189f378b"
      },
      "execution_count": 14,
      "outputs": [
        {
          "output_type": "stream",
          "name": "stdout",
          "text": [
            "Jumlah Data Train adalah : 3350\n",
            "Jumlah Data Test adalah : 838\n"
          ]
        }
      ]
    },
    {
      "cell_type": "code",
      "source": [
        "datagen = ImageDataGenerator(\n",
        "    rotation_range=20,\n",
        "    zoom_range=0.2,\n",
        "    horizontal_flip=True,\n",
        "    vertical_flip=True\n",
        ")\n",
        "\n",
        "datagen.fit(X_train)"
      ],
      "metadata": {
        "id": "ue5XLCIlA2ld"
      },
      "execution_count": 15,
      "outputs": []
    },
    {
      "cell_type": "code",
      "source": [
        "def inception_module(x, filters_1x1, filters_3x3_reduce, filters_3x3, filters_5x5_reduce, filters_5x5, filters_pool_proj):\n",
        "    path1 = Conv2D(filters_1x1, (1, 1), padding='same', activation='relu')(x)\n",
        "    path2 = Conv2D(filters_3x3_reduce, (1, 1), padding='same', activation='relu')(x)\n",
        "    path2 = Conv2D(filters_3x3, (3, 3), padding='same', activation='relu')(path2)\n",
        "    path3 = Conv2D(filters_5x5_reduce, (1, 1), padding='same', activation='relu')(x)\n",
        "    path3 = Conv2D(filters_5x5, (5, 5), padding='same', activation='relu')(path3)\n",
        "    path4 = MaxPooling2D((3, 3), strides=(1, 1), padding='same')(x)\n",
        "    path4 = Conv2D(filters_pool_proj, (1, 1), padding='same', activation='relu')(path4)\n",
        "    return concatenate([path1, path2, path3, path4], axis=3)\n",
        "\n",
        "def GoogleNet(input_shape=(227, 227, 3), num_classes=4):\n",
        "    inputs = Input(input_shape)\n",
        "    x = Conv2D(64, (7, 7), strides=(2, 2), padding='same', activation='relu')(inputs)\n",
        "    x = MaxPooling2D((3, 3), strides=(2, 2), padding='same')(x)\n",
        "    x = Conv2D(192, (3, 3), padding='same', activation='relu')(x)\n",
        "    x = MaxPooling2D((3, 3), strides=(2, 2), padding='same')(x)\n",
        "    x = inception_module(x, 64, 96, 128, 16, 32, 32)\n",
        "    x = inception_module(x, 128, 128, 192, 32, 96, 64)\n",
        "    x = MaxPooling2D((3, 3), strides=(2, 2), padding='same')(x)\n",
        "    x = inception_module(x, 192, 96, 208, 16, 48, 64)\n",
        "    x = inception_module(x, 160, 112, 224, 24, 64, 64)\n",
        "    x = inception_module(x, 128, 128, 256, 24, 64, 64)\n",
        "    x = inception_module(x, 112, 144, 288, 32, 64, 64)\n",
        "    x = inception_module(x, 256, 160, 320, 32, 128, 128)\n",
        "    x = MaxPooling2D((3, 3), strides=(2, 2), padding='same')(x)\n",
        "    x = inception_module(x, 256, 160, 320, 32, 128, 128)\n",
        "    x = inception_module(x, 384, 192, 384, 48, 128, 128)\n",
        "    x = GlobalAveragePooling2D()(x)\n",
        "    x = Dropout(0.4)(x)\n",
        "    x = Dense(1000, activation='relu')(x)\n",
        "    x = Dense(num_classes, activation='softmax')(x)\n",
        "    model = Model(inputs, x, name='googlenet')\n",
        "    return model\n",
        "\n",
        "# Create the GoogleNet model\n",
        "model = GoogleNet(input_shape=(224, 224, 3), num_classes=4)\n",
        "model.summary()\n",
        "\n",
        "model.compile(optimizer=Adam(learning_rate=1e-4), loss='categorical_crossentropy', metrics=['accuracy'])\n",
        "\n",
        "history = model.fit(datagen.flow(X_train, Y_train), epochs=100, validation_data=(X_test, Y_test))"
      ],
      "metadata": {
        "id": "qg6h8yY_A62R",
        "colab": {
          "base_uri": "https://localhost:8080/"
        },
        "outputId": "8d3ec223-a714-4f69-ed7a-63617e8888bf"
      },
      "execution_count": 17,
      "outputs": [
        {
          "output_type": "stream",
          "name": "stdout",
          "text": [
            "Model: \"googlenet\"\n",
            "__________________________________________________________________________________________________\n",
            " Layer (type)                Output Shape                 Param #   Connected to                  \n",
            "==================================================================================================\n",
            " input_2 (InputLayer)        [(None, 224, 224, 3)]        0         []                            \n",
            "                                                                                                  \n",
            " conv2d_56 (Conv2D)          (None, 112, 112, 64)         9472      ['input_2[0][0]']             \n",
            "                                                                                                  \n",
            " max_pooling2d_13 (MaxPooli  (None, 56, 56, 64)           0         ['conv2d_56[0][0]']           \n",
            " ng2D)                                                                                            \n",
            "                                                                                                  \n",
            " conv2d_57 (Conv2D)          (None, 56, 56, 192)          110784    ['max_pooling2d_13[0][0]']    \n",
            "                                                                                                  \n",
            " max_pooling2d_14 (MaxPooli  (None, 28, 28, 192)          0         ['conv2d_57[0][0]']           \n",
            " ng2D)                                                                                            \n",
            "                                                                                                  \n",
            " conv2d_59 (Conv2D)          (None, 28, 28, 96)           18528     ['max_pooling2d_14[0][0]']    \n",
            "                                                                                                  \n",
            " conv2d_61 (Conv2D)          (None, 28, 28, 16)           3088      ['max_pooling2d_14[0][0]']    \n",
            "                                                                                                  \n",
            " max_pooling2d_15 (MaxPooli  (None, 28, 28, 192)          0         ['max_pooling2d_14[0][0]']    \n",
            " ng2D)                                                                                            \n",
            "                                                                                                  \n",
            " conv2d_58 (Conv2D)          (None, 28, 28, 64)           12352     ['max_pooling2d_14[0][0]']    \n",
            "                                                                                                  \n",
            " conv2d_60 (Conv2D)          (None, 28, 28, 128)          110720    ['conv2d_59[0][0]']           \n",
            "                                                                                                  \n",
            " conv2d_62 (Conv2D)          (None, 28, 28, 32)           12832     ['conv2d_61[0][0]']           \n",
            "                                                                                                  \n",
            " conv2d_63 (Conv2D)          (None, 28, 28, 32)           6176      ['max_pooling2d_15[0][0]']    \n",
            "                                                                                                  \n",
            " concatenate_9 (Concatenate  (None, 28, 28, 256)          0         ['conv2d_58[0][0]',           \n",
            " )                                                                   'conv2d_60[0][0]',           \n",
            "                                                                     'conv2d_62[0][0]',           \n",
            "                                                                     'conv2d_63[0][0]']           \n",
            "                                                                                                  \n",
            " conv2d_65 (Conv2D)          (None, 28, 28, 128)          32896     ['concatenate_9[0][0]']       \n",
            "                                                                                                  \n",
            " conv2d_67 (Conv2D)          (None, 28, 28, 32)           8224      ['concatenate_9[0][0]']       \n",
            "                                                                                                  \n",
            " max_pooling2d_16 (MaxPooli  (None, 28, 28, 256)          0         ['concatenate_9[0][0]']       \n",
            " ng2D)                                                                                            \n",
            "                                                                                                  \n",
            " conv2d_64 (Conv2D)          (None, 28, 28, 128)          32896     ['concatenate_9[0][0]']       \n",
            "                                                                                                  \n",
            " conv2d_66 (Conv2D)          (None, 28, 28, 192)          221376    ['conv2d_65[0][0]']           \n",
            "                                                                                                  \n",
            " conv2d_68 (Conv2D)          (None, 28, 28, 96)           76896     ['conv2d_67[0][0]']           \n",
            "                                                                                                  \n",
            " conv2d_69 (Conv2D)          (None, 28, 28, 64)           16448     ['max_pooling2d_16[0][0]']    \n",
            "                                                                                                  \n",
            " concatenate_10 (Concatenat  (None, 28, 28, 480)          0         ['conv2d_64[0][0]',           \n",
            " e)                                                                  'conv2d_66[0][0]',           \n",
            "                                                                     'conv2d_68[0][0]',           \n",
            "                                                                     'conv2d_69[0][0]']           \n",
            "                                                                                                  \n",
            " max_pooling2d_17 (MaxPooli  (None, 14, 14, 480)          0         ['concatenate_10[0][0]']      \n",
            " ng2D)                                                                                            \n",
            "                                                                                                  \n",
            " conv2d_71 (Conv2D)          (None, 14, 14, 96)           46176     ['max_pooling2d_17[0][0]']    \n",
            "                                                                                                  \n",
            " conv2d_73 (Conv2D)          (None, 14, 14, 16)           7696      ['max_pooling2d_17[0][0]']    \n",
            "                                                                                                  \n",
            " max_pooling2d_18 (MaxPooli  (None, 14, 14, 480)          0         ['max_pooling2d_17[0][0]']    \n",
            " ng2D)                                                                                            \n",
            "                                                                                                  \n",
            " conv2d_70 (Conv2D)          (None, 14, 14, 192)          92352     ['max_pooling2d_17[0][0]']    \n",
            "                                                                                                  \n",
            " conv2d_72 (Conv2D)          (None, 14, 14, 208)          179920    ['conv2d_71[0][0]']           \n",
            "                                                                                                  \n",
            " conv2d_74 (Conv2D)          (None, 14, 14, 48)           19248     ['conv2d_73[0][0]']           \n",
            "                                                                                                  \n",
            " conv2d_75 (Conv2D)          (None, 14, 14, 64)           30784     ['max_pooling2d_18[0][0]']    \n",
            "                                                                                                  \n",
            " concatenate_11 (Concatenat  (None, 14, 14, 512)          0         ['conv2d_70[0][0]',           \n",
            " e)                                                                  'conv2d_72[0][0]',           \n",
            "                                                                     'conv2d_74[0][0]',           \n",
            "                                                                     'conv2d_75[0][0]']           \n",
            "                                                                                                  \n",
            " conv2d_77 (Conv2D)          (None, 14, 14, 112)          57456     ['concatenate_11[0][0]']      \n",
            "                                                                                                  \n",
            " conv2d_79 (Conv2D)          (None, 14, 14, 24)           12312     ['concatenate_11[0][0]']      \n",
            "                                                                                                  \n",
            " max_pooling2d_19 (MaxPooli  (None, 14, 14, 512)          0         ['concatenate_11[0][0]']      \n",
            " ng2D)                                                                                            \n",
            "                                                                                                  \n",
            " conv2d_76 (Conv2D)          (None, 14, 14, 160)          82080     ['concatenate_11[0][0]']      \n",
            "                                                                                                  \n",
            " conv2d_78 (Conv2D)          (None, 14, 14, 224)          226016    ['conv2d_77[0][0]']           \n",
            "                                                                                                  \n",
            " conv2d_80 (Conv2D)          (None, 14, 14, 64)           38464     ['conv2d_79[0][0]']           \n",
            "                                                                                                  \n",
            " conv2d_81 (Conv2D)          (None, 14, 14, 64)           32832     ['max_pooling2d_19[0][0]']    \n",
            "                                                                                                  \n",
            " concatenate_12 (Concatenat  (None, 14, 14, 512)          0         ['conv2d_76[0][0]',           \n",
            " e)                                                                  'conv2d_78[0][0]',           \n",
            "                                                                     'conv2d_80[0][0]',           \n",
            "                                                                     'conv2d_81[0][0]']           \n",
            "                                                                                                  \n",
            " conv2d_83 (Conv2D)          (None, 14, 14, 128)          65664     ['concatenate_12[0][0]']      \n",
            "                                                                                                  \n",
            " conv2d_85 (Conv2D)          (None, 14, 14, 24)           12312     ['concatenate_12[0][0]']      \n",
            "                                                                                                  \n",
            " max_pooling2d_20 (MaxPooli  (None, 14, 14, 512)          0         ['concatenate_12[0][0]']      \n",
            " ng2D)                                                                                            \n",
            "                                                                                                  \n",
            " conv2d_82 (Conv2D)          (None, 14, 14, 128)          65664     ['concatenate_12[0][0]']      \n",
            "                                                                                                  \n",
            " conv2d_84 (Conv2D)          (None, 14, 14, 256)          295168    ['conv2d_83[0][0]']           \n",
            "                                                                                                  \n",
            " conv2d_86 (Conv2D)          (None, 14, 14, 64)           38464     ['conv2d_85[0][0]']           \n",
            "                                                                                                  \n",
            " conv2d_87 (Conv2D)          (None, 14, 14, 64)           32832     ['max_pooling2d_20[0][0]']    \n",
            "                                                                                                  \n",
            " concatenate_13 (Concatenat  (None, 14, 14, 512)          0         ['conv2d_82[0][0]',           \n",
            " e)                                                                  'conv2d_84[0][0]',           \n",
            "                                                                     'conv2d_86[0][0]',           \n",
            "                                                                     'conv2d_87[0][0]']           \n",
            "                                                                                                  \n",
            " conv2d_89 (Conv2D)          (None, 14, 14, 144)          73872     ['concatenate_13[0][0]']      \n",
            "                                                                                                  \n",
            " conv2d_91 (Conv2D)          (None, 14, 14, 32)           16416     ['concatenate_13[0][0]']      \n",
            "                                                                                                  \n",
            " max_pooling2d_21 (MaxPooli  (None, 14, 14, 512)          0         ['concatenate_13[0][0]']      \n",
            " ng2D)                                                                                            \n",
            "                                                                                                  \n",
            " conv2d_88 (Conv2D)          (None, 14, 14, 112)          57456     ['concatenate_13[0][0]']      \n",
            "                                                                                                  \n",
            " conv2d_90 (Conv2D)          (None, 14, 14, 288)          373536    ['conv2d_89[0][0]']           \n",
            "                                                                                                  \n",
            " conv2d_92 (Conv2D)          (None, 14, 14, 64)           51264     ['conv2d_91[0][0]']           \n",
            "                                                                                                  \n",
            " conv2d_93 (Conv2D)          (None, 14, 14, 64)           32832     ['max_pooling2d_21[0][0]']    \n",
            "                                                                                                  \n",
            " concatenate_14 (Concatenat  (None, 14, 14, 528)          0         ['conv2d_88[0][0]',           \n",
            " e)                                                                  'conv2d_90[0][0]',           \n",
            "                                                                     'conv2d_92[0][0]',           \n",
            "                                                                     'conv2d_93[0][0]']           \n",
            "                                                                                                  \n",
            " conv2d_95 (Conv2D)          (None, 14, 14, 160)          84640     ['concatenate_14[0][0]']      \n",
            "                                                                                                  \n",
            " conv2d_97 (Conv2D)          (None, 14, 14, 32)           16928     ['concatenate_14[0][0]']      \n",
            "                                                                                                  \n",
            " max_pooling2d_22 (MaxPooli  (None, 14, 14, 528)          0         ['concatenate_14[0][0]']      \n",
            " ng2D)                                                                                            \n",
            "                                                                                                  \n",
            " conv2d_94 (Conv2D)          (None, 14, 14, 256)          135424    ['concatenate_14[0][0]']      \n",
            "                                                                                                  \n",
            " conv2d_96 (Conv2D)          (None, 14, 14, 320)          461120    ['conv2d_95[0][0]']           \n",
            "                                                                                                  \n",
            " conv2d_98 (Conv2D)          (None, 14, 14, 128)          102528    ['conv2d_97[0][0]']           \n",
            "                                                                                                  \n",
            " conv2d_99 (Conv2D)          (None, 14, 14, 128)          67712     ['max_pooling2d_22[0][0]']    \n",
            "                                                                                                  \n",
            " concatenate_15 (Concatenat  (None, 14, 14, 832)          0         ['conv2d_94[0][0]',           \n",
            " e)                                                                  'conv2d_96[0][0]',           \n",
            "                                                                     'conv2d_98[0][0]',           \n",
            "                                                                     'conv2d_99[0][0]']           \n",
            "                                                                                                  \n",
            " max_pooling2d_23 (MaxPooli  (None, 7, 7, 832)            0         ['concatenate_15[0][0]']      \n",
            " ng2D)                                                                                            \n",
            "                                                                                                  \n",
            " conv2d_101 (Conv2D)         (None, 7, 7, 160)            133280    ['max_pooling2d_23[0][0]']    \n",
            "                                                                                                  \n",
            " conv2d_103 (Conv2D)         (None, 7, 7, 32)             26656     ['max_pooling2d_23[0][0]']    \n",
            "                                                                                                  \n",
            " max_pooling2d_24 (MaxPooli  (None, 7, 7, 832)            0         ['max_pooling2d_23[0][0]']    \n",
            " ng2D)                                                                                            \n",
            "                                                                                                  \n",
            " conv2d_100 (Conv2D)         (None, 7, 7, 256)            213248    ['max_pooling2d_23[0][0]']    \n",
            "                                                                                                  \n",
            " conv2d_102 (Conv2D)         (None, 7, 7, 320)            461120    ['conv2d_101[0][0]']          \n",
            "                                                                                                  \n",
            " conv2d_104 (Conv2D)         (None, 7, 7, 128)            102528    ['conv2d_103[0][0]']          \n",
            "                                                                                                  \n",
            " conv2d_105 (Conv2D)         (None, 7, 7, 128)            106624    ['max_pooling2d_24[0][0]']    \n",
            "                                                                                                  \n",
            " concatenate_16 (Concatenat  (None, 7, 7, 832)            0         ['conv2d_100[0][0]',          \n",
            " e)                                                                  'conv2d_102[0][0]',          \n",
            "                                                                     'conv2d_104[0][0]',          \n",
            "                                                                     'conv2d_105[0][0]']          \n",
            "                                                                                                  \n",
            " conv2d_107 (Conv2D)         (None, 7, 7, 192)            159936    ['concatenate_16[0][0]']      \n",
            "                                                                                                  \n",
            " conv2d_109 (Conv2D)         (None, 7, 7, 48)             39984     ['concatenate_16[0][0]']      \n",
            "                                                                                                  \n",
            " max_pooling2d_25 (MaxPooli  (None, 7, 7, 832)            0         ['concatenate_16[0][0]']      \n",
            " ng2D)                                                                                            \n",
            "                                                                                                  \n",
            " conv2d_106 (Conv2D)         (None, 7, 7, 384)            319872    ['concatenate_16[0][0]']      \n",
            "                                                                                                  \n",
            " conv2d_108 (Conv2D)         (None, 7, 7, 384)            663936    ['conv2d_107[0][0]']          \n",
            "                                                                                                  \n",
            " conv2d_110 (Conv2D)         (None, 7, 7, 128)            153728    ['conv2d_109[0][0]']          \n",
            "                                                                                                  \n",
            " conv2d_111 (Conv2D)         (None, 7, 7, 128)            106624    ['max_pooling2d_25[0][0]']    \n",
            "                                                                                                  \n",
            " concatenate_17 (Concatenat  (None, 7, 7, 1024)           0         ['conv2d_106[0][0]',          \n",
            " e)                                                                  'conv2d_108[0][0]',          \n",
            "                                                                     'conv2d_110[0][0]',          \n",
            "                                                                     'conv2d_111[0][0]']          \n",
            "                                                                                                  \n",
            " global_average_pooling2d_1  (None, 1024)                 0         ['concatenate_17[0][0]']      \n",
            "  (GlobalAveragePooling2D)                                                                        \n",
            "                                                                                                  \n",
            " dropout_1 (Dropout)         (None, 1024)                 0         ['global_average_pooling2d_1[0\n",
            "                                                                    ][0]']                        \n",
            "                                                                                                  \n",
            " dense_2 (Dense)             (None, 1000)                 1025000   ['dropout_1[0][0]']           \n",
            "                                                                                                  \n",
            " dense_3 (Dense)             (None, 4)                    4004      ['dense_2[0][0]']             \n",
            "                                                                                                  \n",
            "==================================================================================================\n",
            "Total params: 6998396 (26.70 MB)\n",
            "Trainable params: 6998396 (26.70 MB)\n",
            "Non-trainable params: 0 (0.00 Byte)\n",
            "__________________________________________________________________________________________________\n",
            "Epoch 1/100\n",
            "105/105 [==============================] - 84s 506ms/step - loss: 0.7711 - accuracy: 0.6752 - val_loss: 0.3501 - val_accuracy: 0.8473\n",
            "Epoch 2/100\n",
            "105/105 [==============================] - 43s 411ms/step - loss: 0.4455 - accuracy: 0.8110 - val_loss: 0.4666 - val_accuracy: 0.7661\n",
            "Epoch 3/100\n",
            "105/105 [==============================] - 42s 401ms/step - loss: 0.3992 - accuracy: 0.8200 - val_loss: 0.3284 - val_accuracy: 0.8473\n",
            "Epoch 4/100\n",
            "105/105 [==============================] - 42s 393ms/step - loss: 0.3841 - accuracy: 0.8340 - val_loss: 0.2900 - val_accuracy: 0.8771\n",
            "Epoch 5/100\n",
            "105/105 [==============================] - 42s 396ms/step - loss: 0.3315 - accuracy: 0.8534 - val_loss: 0.2400 - val_accuracy: 0.8914\n",
            "Epoch 6/100\n",
            "105/105 [==============================] - 42s 404ms/step - loss: 0.2964 - accuracy: 0.8839 - val_loss: 0.2698 - val_accuracy: 0.8854\n",
            "Epoch 7/100\n",
            "105/105 [==============================] - 43s 408ms/step - loss: 0.2944 - accuracy: 0.8734 - val_loss: 0.2222 - val_accuracy: 0.9057\n",
            "Epoch 8/100\n",
            "105/105 [==============================] - 41s 395ms/step - loss: 0.2828 - accuracy: 0.8821 - val_loss: 0.2222 - val_accuracy: 0.9165\n",
            "Epoch 9/100\n",
            "105/105 [==============================] - 42s 395ms/step - loss: 0.2545 - accuracy: 0.8961 - val_loss: 0.2642 - val_accuracy: 0.8902\n",
            "Epoch 10/100\n",
            "105/105 [==============================] - 44s 412ms/step - loss: 0.2616 - accuracy: 0.8925 - val_loss: 0.2793 - val_accuracy: 0.8998\n",
            "Epoch 11/100\n",
            "105/105 [==============================] - 41s 393ms/step - loss: 0.2474 - accuracy: 0.8976 - val_loss: 0.2156 - val_accuracy: 0.8962\n",
            "Epoch 12/100\n",
            "105/105 [==============================] - 41s 395ms/step - loss: 0.2311 - accuracy: 0.9060 - val_loss: 0.1971 - val_accuracy: 0.9117\n",
            "Epoch 13/100\n",
            "105/105 [==============================] - 43s 411ms/step - loss: 0.2302 - accuracy: 0.9104 - val_loss: 0.2534 - val_accuracy: 0.8842\n",
            "Epoch 14/100\n",
            "105/105 [==============================] - 41s 391ms/step - loss: 0.2360 - accuracy: 0.8991 - val_loss: 0.1813 - val_accuracy: 0.9236\n",
            "Epoch 15/100\n",
            "105/105 [==============================] - 48s 461ms/step - loss: 0.2116 - accuracy: 0.9113 - val_loss: 0.1895 - val_accuracy: 0.9236\n",
            "Epoch 16/100\n",
            "105/105 [==============================] - 43s 406ms/step - loss: 0.2233 - accuracy: 0.9101 - val_loss: 0.2160 - val_accuracy: 0.8998\n",
            "Epoch 17/100\n",
            "105/105 [==============================] - 42s 403ms/step - loss: 0.2231 - accuracy: 0.9119 - val_loss: 0.1950 - val_accuracy: 0.9105\n",
            "Epoch 18/100\n",
            "105/105 [==============================] - 41s 394ms/step - loss: 0.1996 - accuracy: 0.9155 - val_loss: 0.2109 - val_accuracy: 0.9129\n",
            "Epoch 19/100\n",
            "105/105 [==============================] - 42s 398ms/step - loss: 0.2078 - accuracy: 0.9152 - val_loss: 0.1965 - val_accuracy: 0.9248\n",
            "Epoch 20/100\n",
            "105/105 [==============================] - 42s 400ms/step - loss: 0.2168 - accuracy: 0.9128 - val_loss: 0.1748 - val_accuracy: 0.9177\n",
            "Epoch 21/100\n",
            "105/105 [==============================] - 42s 396ms/step - loss: 0.2007 - accuracy: 0.9212 - val_loss: 0.1909 - val_accuracy: 0.9117\n",
            "Epoch 22/100\n",
            "105/105 [==============================] - 43s 406ms/step - loss: 0.1800 - accuracy: 0.9301 - val_loss: 0.2022 - val_accuracy: 0.9189\n",
            "Epoch 23/100\n",
            "105/105 [==============================] - 43s 414ms/step - loss: 0.1798 - accuracy: 0.9284 - val_loss: 0.1988 - val_accuracy: 0.9248\n",
            "Epoch 24/100\n",
            "105/105 [==============================] - 41s 394ms/step - loss: 0.1744 - accuracy: 0.9304 - val_loss: 0.1782 - val_accuracy: 0.9212\n",
            "Epoch 25/100\n",
            "105/105 [==============================] - 42s 399ms/step - loss: 0.1655 - accuracy: 0.9415 - val_loss: 0.1927 - val_accuracy: 0.9320\n",
            "Epoch 26/100\n",
            "105/105 [==============================] - 41s 394ms/step - loss: 0.1915 - accuracy: 0.9239 - val_loss: 0.1771 - val_accuracy: 0.9236\n",
            "Epoch 27/100\n",
            "105/105 [==============================] - 44s 417ms/step - loss: 0.1664 - accuracy: 0.9367 - val_loss: 0.1877 - val_accuracy: 0.9260\n",
            "Epoch 28/100\n",
            "105/105 [==============================] - 42s 400ms/step - loss: 0.1769 - accuracy: 0.9215 - val_loss: 0.1722 - val_accuracy: 0.9248\n",
            "Epoch 29/100\n",
            "105/105 [==============================] - 42s 399ms/step - loss: 0.1639 - accuracy: 0.9415 - val_loss: 0.1769 - val_accuracy: 0.9368\n",
            "Epoch 30/100\n",
            "105/105 [==============================] - 42s 403ms/step - loss: 0.1597 - accuracy: 0.9358 - val_loss: 0.1508 - val_accuracy: 0.9379\n",
            "Epoch 31/100\n",
            "105/105 [==============================] - 44s 422ms/step - loss: 0.1436 - accuracy: 0.9463 - val_loss: 0.1697 - val_accuracy: 0.9403\n",
            "Epoch 32/100\n",
            "105/105 [==============================] - 42s 404ms/step - loss: 0.1683 - accuracy: 0.9349 - val_loss: 0.2047 - val_accuracy: 0.9224\n",
            "Epoch 33/100\n",
            "105/105 [==============================] - 42s 405ms/step - loss: 0.1622 - accuracy: 0.9346 - val_loss: 0.1874 - val_accuracy: 0.9284\n",
            "Epoch 34/100\n",
            "105/105 [==============================] - 42s 401ms/step - loss: 0.1612 - accuracy: 0.9376 - val_loss: 0.1605 - val_accuracy: 0.9284\n",
            "Epoch 35/100\n",
            "105/105 [==============================] - 44s 417ms/step - loss: 0.1403 - accuracy: 0.9490 - val_loss: 0.2116 - val_accuracy: 0.9284\n",
            "Epoch 36/100\n",
            "105/105 [==============================] - 42s 398ms/step - loss: 0.1529 - accuracy: 0.9412 - val_loss: 0.1974 - val_accuracy: 0.9284\n",
            "Epoch 37/100\n",
            "105/105 [==============================] - 43s 405ms/step - loss: 0.1569 - accuracy: 0.9370 - val_loss: 0.1803 - val_accuracy: 0.9248\n",
            "Epoch 38/100\n",
            "105/105 [==============================] - 42s 404ms/step - loss: 0.1384 - accuracy: 0.9478 - val_loss: 0.1428 - val_accuracy: 0.9403\n",
            "Epoch 39/100\n",
            "105/105 [==============================] - 42s 401ms/step - loss: 0.1384 - accuracy: 0.9490 - val_loss: 0.1750 - val_accuracy: 0.9379\n",
            "Epoch 40/100\n",
            "105/105 [==============================] - 42s 403ms/step - loss: 0.1393 - accuracy: 0.9466 - val_loss: 0.1607 - val_accuracy: 0.9332\n",
            "Epoch 41/100\n",
            "105/105 [==============================] - 42s 403ms/step - loss: 0.1227 - accuracy: 0.9534 - val_loss: 0.2083 - val_accuracy: 0.9212\n",
            "Epoch 42/100\n",
            "105/105 [==============================] - 44s 419ms/step - loss: 0.1132 - accuracy: 0.9576 - val_loss: 0.1899 - val_accuracy: 0.9344\n",
            "Epoch 43/100\n",
            "105/105 [==============================] - 42s 402ms/step - loss: 0.1385 - accuracy: 0.9501 - val_loss: 0.2559 - val_accuracy: 0.9272\n",
            "Epoch 44/100\n",
            "105/105 [==============================] - 41s 395ms/step - loss: 0.1384 - accuracy: 0.9501 - val_loss: 0.1835 - val_accuracy: 0.9415\n",
            "Epoch 45/100\n",
            "105/105 [==============================] - 42s 402ms/step - loss: 0.1243 - accuracy: 0.9499 - val_loss: 0.1527 - val_accuracy: 0.9379\n",
            "Epoch 46/100\n",
            "105/105 [==============================] - 43s 401ms/step - loss: 0.1253 - accuracy: 0.9531 - val_loss: 0.2236 - val_accuracy: 0.9093\n",
            "Epoch 47/100\n",
            "105/105 [==============================] - 42s 398ms/step - loss: 0.1436 - accuracy: 0.9451 - val_loss: 0.1922 - val_accuracy: 0.9272\n",
            "Epoch 48/100\n",
            "105/105 [==============================] - 42s 403ms/step - loss: 0.1420 - accuracy: 0.9484 - val_loss: 0.1725 - val_accuracy: 0.9344\n",
            "Epoch 49/100\n",
            "105/105 [==============================] - 44s 416ms/step - loss: 0.1247 - accuracy: 0.9510 - val_loss: 0.1515 - val_accuracy: 0.9463\n",
            "Epoch 50/100\n",
            "105/105 [==============================] - 43s 405ms/step - loss: 0.1228 - accuracy: 0.9570 - val_loss: 0.1650 - val_accuracy: 0.9403\n",
            "Epoch 51/100\n",
            "105/105 [==============================] - 42s 400ms/step - loss: 0.1218 - accuracy: 0.9525 - val_loss: 0.2070 - val_accuracy: 0.9308\n",
            "Epoch 52/100\n",
            "105/105 [==============================] - 42s 403ms/step - loss: 0.1297 - accuracy: 0.9504 - val_loss: 0.1893 - val_accuracy: 0.9439\n",
            "Epoch 53/100\n",
            "105/105 [==============================] - 44s 418ms/step - loss: 0.1241 - accuracy: 0.9493 - val_loss: 0.1540 - val_accuracy: 0.9403\n",
            "Epoch 54/100\n",
            "105/105 [==============================] - 42s 400ms/step - loss: 0.1024 - accuracy: 0.9618 - val_loss: 0.2161 - val_accuracy: 0.9284\n",
            "Epoch 55/100\n",
            "105/105 [==============================] - 42s 396ms/step - loss: 0.1101 - accuracy: 0.9603 - val_loss: 0.1619 - val_accuracy: 0.9391\n",
            "Epoch 56/100\n",
            "105/105 [==============================] - 42s 402ms/step - loss: 0.1514 - accuracy: 0.9412 - val_loss: 0.2205 - val_accuracy: 0.9212\n",
            "Epoch 57/100\n",
            "105/105 [==============================] - 42s 400ms/step - loss: 0.1238 - accuracy: 0.9561 - val_loss: 0.1676 - val_accuracy: 0.9451\n",
            "Epoch 58/100\n",
            "105/105 [==============================] - 42s 400ms/step - loss: 0.0962 - accuracy: 0.9615 - val_loss: 0.1923 - val_accuracy: 0.9356\n",
            "Epoch 59/100\n",
            "105/105 [==============================] - 44s 416ms/step - loss: 0.1062 - accuracy: 0.9573 - val_loss: 0.1701 - val_accuracy: 0.9379\n",
            "Epoch 60/100\n",
            "105/105 [==============================] - 42s 401ms/step - loss: 0.1097 - accuracy: 0.9585 - val_loss: 0.1689 - val_accuracy: 0.9463\n",
            "Epoch 61/100\n",
            "105/105 [==============================] - 41s 395ms/step - loss: 0.0821 - accuracy: 0.9684 - val_loss: 0.1723 - val_accuracy: 0.9439\n",
            "Epoch 62/100\n",
            "105/105 [==============================] - 44s 416ms/step - loss: 0.1064 - accuracy: 0.9588 - val_loss: 0.1536 - val_accuracy: 0.9427\n",
            "Epoch 63/100\n",
            "105/105 [==============================] - 43s 412ms/step - loss: 0.0938 - accuracy: 0.9669 - val_loss: 0.2269 - val_accuracy: 0.9248\n",
            "Epoch 64/100\n",
            "105/105 [==============================] - 41s 392ms/step - loss: 0.0904 - accuracy: 0.9672 - val_loss: 0.2144 - val_accuracy: 0.9403\n",
            "Epoch 65/100\n",
            "105/105 [==============================] - 42s 399ms/step - loss: 0.0881 - accuracy: 0.9681 - val_loss: 0.1548 - val_accuracy: 0.9451\n",
            "Epoch 66/100\n",
            "105/105 [==============================] - 42s 398ms/step - loss: 0.0932 - accuracy: 0.9669 - val_loss: 0.1479 - val_accuracy: 0.9487\n",
            "Epoch 67/100\n",
            "105/105 [==============================] - 42s 399ms/step - loss: 0.0783 - accuracy: 0.9710 - val_loss: 0.1967 - val_accuracy: 0.9475\n",
            "Epoch 68/100\n",
            "105/105 [==============================] - 42s 397ms/step - loss: 0.0987 - accuracy: 0.9618 - val_loss: 0.1722 - val_accuracy: 0.9451\n",
            "Epoch 69/100\n",
            "105/105 [==============================] - 43s 414ms/step - loss: 0.0928 - accuracy: 0.9660 - val_loss: 0.2354 - val_accuracy: 0.9320\n",
            "Epoch 70/100\n",
            "105/105 [==============================] - 42s 399ms/step - loss: 0.0881 - accuracy: 0.9663 - val_loss: 0.1896 - val_accuracy: 0.9451\n",
            "Epoch 71/100\n",
            "105/105 [==============================] - 42s 398ms/step - loss: 0.0914 - accuracy: 0.9675 - val_loss: 0.1826 - val_accuracy: 0.9415\n",
            "Epoch 72/100\n",
            "105/105 [==============================] - 42s 399ms/step - loss: 0.0822 - accuracy: 0.9716 - val_loss: 0.1664 - val_accuracy: 0.9487\n",
            "Epoch 73/100\n",
            "105/105 [==============================] - 43s 414ms/step - loss: 0.0900 - accuracy: 0.9707 - val_loss: 0.2067 - val_accuracy: 0.9391\n",
            "Epoch 74/100\n",
            "105/105 [==============================] - 42s 395ms/step - loss: 0.0865 - accuracy: 0.9666 - val_loss: 0.1659 - val_accuracy: 0.9451\n",
            "Epoch 75/100\n",
            "105/105 [==============================] - 42s 399ms/step - loss: 0.0668 - accuracy: 0.9761 - val_loss: 0.1808 - val_accuracy: 0.9439\n",
            "Epoch 76/100\n",
            "105/105 [==============================] - 42s 400ms/step - loss: 0.0681 - accuracy: 0.9761 - val_loss: 0.2143 - val_accuracy: 0.9451\n",
            "Epoch 77/100\n",
            "105/105 [==============================] - 43s 413ms/step - loss: 0.0835 - accuracy: 0.9713 - val_loss: 0.1715 - val_accuracy: 0.9451\n",
            "Epoch 78/100\n",
            "105/105 [==============================] - 42s 401ms/step - loss: 0.0699 - accuracy: 0.9752 - val_loss: 0.1994 - val_accuracy: 0.9379\n",
            "Epoch 79/100\n",
            "105/105 [==============================] - 42s 396ms/step - loss: 0.0784 - accuracy: 0.9681 - val_loss: 0.2625 - val_accuracy: 0.9248\n",
            "Epoch 80/100\n",
            "105/105 [==============================] - 43s 410ms/step - loss: 0.0889 - accuracy: 0.9672 - val_loss: 0.2118 - val_accuracy: 0.9487\n",
            "Epoch 81/100\n",
            "105/105 [==============================] - 41s 394ms/step - loss: 0.0709 - accuracy: 0.9728 - val_loss: 0.1665 - val_accuracy: 0.9451\n",
            "Epoch 82/100\n",
            "105/105 [==============================] - 42s 396ms/step - loss: 0.0957 - accuracy: 0.9624 - val_loss: 0.2144 - val_accuracy: 0.9260\n",
            "Epoch 83/100\n",
            "105/105 [==============================] - 43s 412ms/step - loss: 0.0762 - accuracy: 0.9716 - val_loss: 0.1946 - val_accuracy: 0.9475\n",
            "Epoch 84/100\n",
            "105/105 [==============================] - 42s 395ms/step - loss: 0.0774 - accuracy: 0.9746 - val_loss: 0.1555 - val_accuracy: 0.9427\n",
            "Epoch 85/100\n",
            "105/105 [==============================] - 42s 399ms/step - loss: 0.0600 - accuracy: 0.9791 - val_loss: 0.1500 - val_accuracy: 0.9499\n",
            "Epoch 86/100\n",
            "105/105 [==============================] - 43s 413ms/step - loss: 0.0701 - accuracy: 0.9746 - val_loss: 0.2148 - val_accuracy: 0.9272\n",
            "Epoch 87/100\n",
            "105/105 [==============================] - 42s 403ms/step - loss: 0.0608 - accuracy: 0.9767 - val_loss: 0.2871 - val_accuracy: 0.9332\n",
            "Epoch 88/100\n",
            "105/105 [==============================] - 44s 418ms/step - loss: 0.0939 - accuracy: 0.9678 - val_loss: 0.2163 - val_accuracy: 0.9260\n",
            "Epoch 89/100\n",
            "105/105 [==============================] - 43s 409ms/step - loss: 0.0663 - accuracy: 0.9740 - val_loss: 0.2532 - val_accuracy: 0.9332\n",
            "Epoch 90/100\n",
            "105/105 [==============================] - 43s 413ms/step - loss: 0.0632 - accuracy: 0.9758 - val_loss: 0.2026 - val_accuracy: 0.9523\n",
            "Epoch 91/100\n",
            "105/105 [==============================] - 43s 408ms/step - loss: 0.0732 - accuracy: 0.9716 - val_loss: 0.1801 - val_accuracy: 0.9606\n",
            "Epoch 92/100\n",
            "105/105 [==============================] - 44s 413ms/step - loss: 0.0583 - accuracy: 0.9773 - val_loss: 0.1887 - val_accuracy: 0.9475\n",
            "Epoch 93/100\n",
            "105/105 [==============================] - 46s 438ms/step - loss: 0.0545 - accuracy: 0.9794 - val_loss: 0.2044 - val_accuracy: 0.9487\n",
            "Epoch 94/100\n",
            "105/105 [==============================] - 44s 415ms/step - loss: 0.0576 - accuracy: 0.9821 - val_loss: 0.1743 - val_accuracy: 0.9523\n",
            "Epoch 95/100\n",
            "105/105 [==============================] - 43s 409ms/step - loss: 0.0548 - accuracy: 0.9785 - val_loss: 0.2780 - val_accuracy: 0.9368\n",
            "Epoch 96/100\n",
            "105/105 [==============================] - 43s 414ms/step - loss: 0.0668 - accuracy: 0.9767 - val_loss: 0.1917 - val_accuracy: 0.9475\n",
            "Epoch 97/100\n",
            "105/105 [==============================] - 45s 432ms/step - loss: 0.0590 - accuracy: 0.9782 - val_loss: 0.1992 - val_accuracy: 0.9499\n",
            "Epoch 98/100\n",
            "105/105 [==============================] - 44s 420ms/step - loss: 0.0665 - accuracy: 0.9740 - val_loss: 0.1765 - val_accuracy: 0.9439\n",
            "Epoch 99/100\n",
            "105/105 [==============================] - 42s 397ms/step - loss: 0.0550 - accuracy: 0.9824 - val_loss: 0.2170 - val_accuracy: 0.9487\n",
            "Epoch 100/100\n",
            "105/105 [==============================] - 43s 410ms/step - loss: 0.0306 - accuracy: 0.9884 - val_loss: 0.2491 - val_accuracy: 0.9487\n"
          ]
        }
      ]
    },
    {
      "cell_type": "code",
      "source": [
        "Y_pred = model.predict(X_test)\n",
        "Y_pred_classes = np.argmax(Y_pred, axis=1)\n",
        "Y_true = np.argmax(Y_test, axis=1)\n",
        "conf_matrix = confusion_matrix(Y_true, Y_pred_classes)\n",
        "\n",
        "plt.figure(figsize=(8, 6))\n",
        "sns.heatmap(conf_matrix, annot=True, fmt=\"d\", cmap=\"Blues\", xticklabels=['Common_Rust', 'Healthy', 'Gray_Leaf_Spot', 'Blight'], yticklabels=['Common_Rust', 'Healthy', 'Gray_Leaf_Spot', 'Blight'])\n",
        "plt.xlabel('Predicted labels')\n",
        "plt.ylabel('True labels')\n",
        "plt.title('Confusion Matrix')\n",
        "plt.show()\n",
        "\n",
        "class_report = classification_report(Y_true, Y_pred_classes)\n",
        "\n",
        "print(\"\\nClassification Report:\")\n",
        "print(class_report)"
      ],
      "metadata": {
        "id": "W2svXyjyTjeo",
        "colab": {
          "base_uri": "https://localhost:8080/",
          "height": 807
        },
        "outputId": "8c96ac4d-fcfd-4e6d-dc78-3b9aea6072a1"
      },
      "execution_count": 18,
      "outputs": [
        {
          "output_type": "stream",
          "name": "stdout",
          "text": [
            "27/27 [==============================] - 1s 33ms/step\n"
          ]
        },
        {
          "output_type": "display_data",
          "data": {
            "text/plain": [
              "<Figure size 800x600 with 2 Axes>"
            ],
            "image/png": "[encoded data removed]"
          },
          "metadata": {}
        },
        {
          "output_type": "stream",
          "name": "stdout",
          "text": [
            "\n",
            "Classification Report:\n",
            "              precision    recall  f1-score   support\n",
            "\n",
            "           0       0.90      0.93      0.91       218\n",
            "           1       0.97      0.98      0.97       289\n",
            "           2       0.89      0.82      0.85       104\n",
            "           3       1.00      1.00      1.00       227\n",
            "\n",
            "    accuracy                           0.95       838\n",
            "   macro avg       0.94      0.93      0.93       838\n",
            "weighted avg       0.95      0.95      0.95       838\n",
            "\n"
          ]
        }
      ]
    },
    {
      "cell_type": "code",
      "source": [
        "import tensorflow as tf\n",
        "from tensorflow.python.framework.convert_to_constants import convert_variables_to_constants_v2_as_graph\n",
        "\n",
        "def get_flops(model, batch_size=1):\n",
        "    # Create a concrete function from the model\n",
        "    concrete_func = tf.function(model).get_concrete_function(\n",
        "        tf.TensorSpec([batch_size] + [int(dim) for dim in model.inputs[0].shape[1:]], model.inputs[0].dtype))\n",
        "\n",
        "    # Convert the model function to a frozen graph\n",
        "    frozen_func, graph_def = convert_variables_to_constants_v2_as_graph(concrete_func)\n",
        "\n",
        "    # Calculate FLOPs\n",
        "    run_meta = tf.compat.v1.RunMetadata()\n",
        "    opts = tf.compat.v1.profiler.ProfileOptionBuilder.float_operation()\n",
        "    flops = tf.compat.v1.profiler.profile(graph=frozen_func.graph,\n",
        "                                          run_meta=run_meta, cmd='op', options=opts)\n",
        "\n",
        "    return flops.total_float_ops"
      ],
      "metadata": {
        "id": "sUv2V0g1bmob"
      },
      "execution_count": 19,
      "outputs": []
    },
    {
      "cell_type": "code",
      "source": [
        "model = GoogleNet(input_shape=(224, 224, 3), num_classes=4)\n",
        "model.build(input_shape=(None, 224, 224, 3))"
      ],
      "metadata": {
        "id": "tBl3xzBPbvf0"
      },
      "execution_count": 20,
      "outputs": []
    },
    {
      "cell_type": "code",
      "source": [
        "flops = get_flops(model)\n",
        "print(f\"Estimated FLOPs: {flops}\")"
      ],
      "metadata": {
        "colab": {
          "base_uri": "https://localhost:8080/"
        },
        "id": "p02wf3a5b2P5",
        "outputId": "cbcfbaca-6c2b-4d9d-be93-363e59c5355d"
      },
      "execution_count": 21,
      "outputs": [
        {
          "output_type": "stream",
          "name": "stderr",
          "text": [
            "WARNING:tensorflow:From /usr/local/lib/python3.10/dist-packages/tensorflow/python/ops/nn_ops.py:5256: tensor_shape_from_node_def_name (from tensorflow.python.framework.graph_util_impl) is deprecated and will be removed in a future version.\n",
            "Instructions for updating:\n",
            "This API was designed for TensorFlow v1. See https://www.tensorflow.org/guide/migrate for instructions on how to migrate your code to TensorFlow v2.\n"
          ]
        },
        {
          "output_type": "stream",
          "name": "stdout",
          "text": [
            "Estimated FLOPs: 3155495536\n"
          ]
        }
      ]
    }
  ]
}