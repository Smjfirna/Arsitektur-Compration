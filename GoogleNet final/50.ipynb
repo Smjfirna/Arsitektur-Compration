{
  "nbformat": 4,
  "nbformat_minor": 0,
  "metadata": {
    "colab": {
      "provenance": [],
      "gpuType": "T4",
      "include_colab_link": true
    },
    "kernelspec": {
      "name": "python3",
      "display_name": "Python 3"
    },
    "language_info": {
      "name": "python"
    },
    "accelerator": "GPU"
  },
  "cells": [
    {
      "cell_type": "markdown",
      "metadata": {
        "id": "view-in-github",
        "colab_type": "text"
      },
      "source": [
        "<a href=\"https://colab.research.google.com/github/Smjfirna/Arsitektur-Compration/blob/main/GoogleNet%20final/50.ipynb\" target=\"_parent\"><img src=\"https://colab.research.google.com/assets/colab-badge.svg\" alt=\"Open In Colab\"/></a>"
      ]
    },
    {
      "cell_type": "code",
      "source": [
        "#Preprocessing\n",
        "import os\n",
        "import cv2\n",
        "import numpy as np\n",
        "from tqdm import tqdm\n",
        "from sklearn.model_selection import train_test_split\n",
        "from sklearn.preprocessing import LabelEncoder\n",
        "from keras.utils import to_categorical\n",
        "\n",
        "#Model dan Augmentasi\n",
        "import tensorflow as tf\n",
        "from tensorflow.keras.preprocessing.image import ImageDataGenerator\n",
        "from tensorflow.keras.models import Sequential\n",
        "from tensorflow.keras import layers, Model, regularizers\n",
        "from tensorflow.keras.callbacks import EarlyStopping\n",
        "from tensorflow.keras.layers import Input, Conv2D, MaxPooling2D, concatenate, GlobalAveragePooling2D, AveragePooling2D, Flatten, Dense, Dropout, BatchNormalization\n",
        "import os\n",
        "from tensorflow.keras.optimizers import Adam\n",
        "from tensorflow.keras.optimizers import RMSprop\n",
        "\n",
        "# Evaluasi\n",
        "import torch\n",
        "import torchvision.models as models\n",
        "from thop import profile\n",
        "from sklearn.metrics import confusion_matrix, classification_report\n",
        "\n",
        "#Visualisasi\n",
        "import matplotlib.pyplot as plt\n",
        "import seaborn as sns\n",
        "import os\n",
        "import cv2\n",
        "import numpy as np\n",
        "from tqdm import tqdm\n",
        "from sklearn.model_selection import train_test_split\n",
        "from sklearn.preprocessing import LabelEncoder\n",
        "from keras.utils import to_categorical"
      ],
      "metadata": {
        "id": "NMN3beIVALVJ"
      },
      "execution_count": 13,
      "outputs": []
    },
    {
      "cell_type": "code",
      "execution_count": 3,
      "metadata": {
        "colab": {
          "base_uri": "https://localhost:8080/",
          "height": 90
        },
        "id": "GK3MPeDN_Ofu",
        "outputId": "a68686e9-01d7-4599-b0d1-ab9f076cb79e"
      },
      "outputs": [
        {
          "output_type": "display_data",
          "data": {
            "text/plain": [
              "<IPython.core.display.HTML object>"
            ],
            "text/html": [
              "\n",
              "     <input type=\"file\" id=\"files-301418ad-8286-42ca-beb3-b527b8952f96\" name=\"files[]\" multiple disabled\n",
              "        style=\"border:none\" />\n",
              "     <output id=\"result-301418ad-8286-42ca-beb3-b527b8952f96\">\n",
              "      Upload widget is only available when the cell has been executed in the\n",
              "      current browser session. Please rerun this cell to enable.\n",
              "      </output>\n",
              "      <script>// Copyright 2017 Google LLC\n",
              "//\n",
              "// Licensed under the Apache License, Version 2.0 (the \"License\");\n",
              "// you may not use this file except in compliance with the License.\n",
              "// You may obtain a copy of the License at\n",
              "//\n",
              "//      http://www.apache.org/licenses/LICENSE-2.0\n",
              "//\n",
              "// Unless required by applicable law or agreed to in writing, software\n",
              "// distributed under the License is distributed on an \"AS IS\" BASIS,\n",
              "// WITHOUT WARRANTIES OR CONDITIONS OF ANY KIND, either express or implied.\n",
              "// See the License for the specific language governing permissions and\n",
              "// limitations under the License.\n",
              "\n",
              "/**\n",
              " * @fileoverview Helpers for google.colab Python module.\n",
              " */\n",
              "(function(scope) {\n",
              "function span(text, styleAttributes = {}) {\n",
              "  const element = document.createElement('span');\n",
              "  element.textContent = text;\n",
              "  for (const key of Object.keys(styleAttributes)) {\n",
              "    element.style[key] = styleAttributes[key];\n",
              "  }\n",
              "  return element;\n",
              "}\n",
              "\n",
              "// Max number of bytes which will be uploaded at a time.\n",
              "const MAX_PAYLOAD_SIZE = 100 * 1024;\n",
              "\n",
              "function _uploadFiles(inputId, outputId) {\n",
              "  const steps = uploadFilesStep(inputId, outputId);\n",
              "  const outputElement = document.getElementById(outputId);\n",
              "  // Cache steps on the outputElement to make it available for the next call\n",
              "  // to uploadFilesContinue from Python.\n",
              "  outputElement.steps = steps;\n",
              "\n",
              "  return _uploadFilesContinue(outputId);\n",
              "}\n",
              "\n",
              "// This is roughly an async generator (not supported in the browser yet),\n",
              "// where there are multiple asynchronous steps and the Python side is going\n",
              "// to poll for completion of each step.\n",
              "// This uses a Promise to block the python side on completion of each step,\n",
              "// then passes the result of the previous step as the input to the next step.\n",
              "function _uploadFilesContinue(outputId) {\n",
              "  const outputElement = document.getElementById(outputId);\n",
              "  const steps = outputElement.steps;\n",
              "\n",
              "  const next = steps.next(outputElement.lastPromiseValue);\n",
              "  return Promise.resolve(next.value.promise).then((value) => {\n",
              "    // Cache the last promise value to make it available to the next\n",
              "    // step of the generator.\n",
              "    outputElement.lastPromiseValue = value;\n",
              "    return next.value.response;\n",
              "  });\n",
              "}\n",
              "\n",
              "/**\n",
              " * Generator function which is called between each async step of the upload\n",
              " * process.\n",
              " * @param {string} inputId Element ID of the input file picker element.\n",
              " * @param {string} outputId Element ID of the output display.\n",
              " * @return {!Iterable<!Object>} Iterable of next steps.\n",
              " */\n",
              "function* uploadFilesStep(inputId, outputId) {\n",
              "  const inputElement = document.getElementById(inputId);\n",
              "  inputElement.disabled = false;\n",
              "\n",
              "  const outputElement = document.getElementById(outputId);\n",
              "  outputElement.innerHTML = '';\n",
              "\n",
              "  const pickedPromise = new Promise((resolve) => {\n",
              "    inputElement.addEventListener('change', (e) => {\n",
              "      resolve(e.target.files);\n",
              "    });\n",
              "  });\n",
              "\n",
              "  const cancel = document.createElement('button');\n",
              "  inputElement.parentElement.appendChild(cancel);\n",
              "  cancel.textContent = 'Cancel upload';\n",
              "  const cancelPromise = new Promise((resolve) => {\n",
              "    cancel.onclick = () => {\n",
              "      resolve(null);\n",
              "    };\n",
              "  });\n",
              "\n",
              "  // Wait for the user to pick the files.\n",
              "  const files = yield {\n",
              "    promise: Promise.race([pickedPromise, cancelPromise]),\n",
              "    response: {\n",
              "      action: 'starting',\n",
              "    }\n",
              "  };\n",
              "\n",
              "  cancel.remove();\n",
              "\n",
              "  // Disable the input element since further picks are not allowed.\n",
              "  inputElement.disabled = true;\n",
              "\n",
              "  if (!files) {\n",
              "    return {\n",
              "      response: {\n",
              "        action: 'complete',\n",
              "      }\n",
              "    };\n",
              "  }\n",
              "\n",
              "  for (const file of files) {\n",
              "    const li = document.createElement('li');\n",
              "    li.append(span(file.name, {fontWeight: 'bold'}));\n",
              "    li.append(span(\n",
              "        `(${file.type || 'n/a'}) - ${file.size} bytes, ` +\n",
              "        `last modified: ${\n",
              "            file.lastModifiedDate ? file.lastModifiedDate.toLocaleDateString() :\n",
              "                                    'n/a'} - `));\n",
              "    const percent = span('0% done');\n",
              "    li.appendChild(percent);\n",
              "\n",
              "    outputElement.appendChild(li);\n",
              "\n",
              "    const fileDataPromise = new Promise((resolve) => {\n",
              "      const reader = new FileReader();\n",
              "      reader.onload = (e) => {\n",
              "        resolve(e.target.result);\n",
              "      };\n",
              "      reader.readAsArrayBuffer(file);\n",
              "    });\n",
              "    // Wait for the data to be ready.\n",
              "    let fileData = yield {\n",
              "      promise: fileDataPromise,\n",
              "      response: {\n",
              "        action: 'continue',\n",
              "      }\n",
              "    };\n",
              "\n",
              "    // Use a chunked sending to avoid message size limits. See b/62115660.\n",
              "    let position = 0;\n",
              "    do {\n",
              "      const length = Math.min(fileData.byteLength - position, MAX_PAYLOAD_SIZE);\n",
              "      const chunk = new Uint8Array(fileData, position, length);\n",
              "      position += length;\n",
              "\n",
              "      const base64 = btoa(String.fromCharCode.apply(null, chunk));\n",
              "      yield {\n",
              "        response: {\n",
              "          action: 'append',\n",
              "          file: file.name,\n",
              "          data: base64,\n",
              "        },\n",
              "      };\n",
              "\n",
              "      let percentDone = fileData.byteLength === 0 ?\n",
              "          100 :\n",
              "          Math.round((position / fileData.byteLength) * 100);\n",
              "      percent.textContent = `${percentDone}% done`;\n",
              "\n",
              "    } while (position < fileData.byteLength);\n",
              "  }\n",
              "\n",
              "  // All done.\n",
              "  yield {\n",
              "    response: {\n",
              "      action: 'complete',\n",
              "    }\n",
              "  };\n",
              "}\n",
              "\n",
              "scope.google = scope.google || {};\n",
              "scope.google.colab = scope.google.colab || {};\n",
              "scope.google.colab._files = {\n",
              "  _uploadFiles,\n",
              "  _uploadFilesContinue,\n",
              "};\n",
              "})(self);\n",
              "</script> "
            ]
          },
          "metadata": {}
        },
        {
          "output_type": "stream",
          "name": "stdout",
          "text": [
            "Saving kaggle.json to kaggle.json\n"
          ]
        },
        {
          "output_type": "execute_result",
          "data": {
            "text/plain": [
              "{'kaggle.json': b'{\"username\":\"smjayyy\",\"key\":\"8eb172e224d83c7b56b4a2ef349b7c0d\"}'}"
            ]
          },
          "metadata": {},
          "execution_count": 3
        }
      ],
      "source": [
        "from google.colab import files\n",
        "files.upload()"
      ]
    },
    {
      "cell_type": "code",
      "source": [
        "!mkdir -p ~/.kaggle\n",
        "!cp kaggle.json ~/.kaggle/\n",
        "!chmod 600 ~/.kaggle/kaggle.json"
      ],
      "metadata": {
        "id": "Y9Kia11G_5Si"
      },
      "execution_count": 4,
      "outputs": []
    },
    {
      "cell_type": "code",
      "source": [
        "##link dataset in Kaggle.com\n",
        "!kaggle datasets download -d smaranjitghose/corn-or-maize-leaf-disease-dataset"
      ],
      "metadata": {
        "colab": {
          "base_uri": "https://localhost:8080/"
        },
        "id": "apfKVlxj_8FJ",
        "outputId": "620e4082-e5bc-488d-b841-50c9d58a273d"
      },
      "execution_count": 5,
      "outputs": [
        {
          "output_type": "stream",
          "name": "stdout",
          "text": [
            "Dataset URL: https://www.kaggle.com/datasets/smaranjitghose/corn-or-maize-leaf-disease-dataset\n",
            "License(s): copyright-authors\n",
            "Downloading corn-or-maize-leaf-disease-dataset.zip to /content\n",
            " 92% 148M/161M [00:01<00:00, 105MB/s]\n",
            "100% 161M/161M [00:01<00:00, 89.3MB/s]\n"
          ]
        }
      ]
    },
    {
      "cell_type": "code",
      "source": [
        "!unzip -q corn-or-maize-leaf-disease-dataset.zip -d /content"
      ],
      "metadata": {
        "id": "ixMUoB2rAAd3"
      },
      "execution_count": 6,
      "outputs": []
    },
    {
      "cell_type": "code",
      "source": [
        "dataset_dir = '/content/data'"
      ],
      "metadata": {
        "id": "pZ8IerIQAGFO"
      },
      "execution_count": 2,
      "outputs": []
    },
    {
      "cell_type": "code",
      "source": [
        "print(os.listdir(dataset_dir))"
      ],
      "metadata": {
        "colab": {
          "base_uri": "https://localhost:8080/"
        },
        "id": "9wwka8QaAIcj",
        "outputId": "176fbb4f-9e0d-4e30-a00e-df5c3c8fb2a0"
      },
      "execution_count": 3,
      "outputs": [
        {
          "output_type": "stream",
          "name": "stdout",
          "text": [
            "['Blight', 'Gray_Leaf_Spot', 'Healthy', 'Common_Rust']\n"
          ]
        }
      ]
    },
    {
      "cell_type": "code",
      "source": [
        "IMAGE_SIZE_googlenet = 224"
      ],
      "metadata": {
        "id": "_UCEuA-hAPSa"
      },
      "execution_count": 4,
      "outputs": []
    },
    {
      "cell_type": "code",
      "source": [
        "def make_data(label, DIR, img_list, label_list):\n",
        "    for img in tqdm(os.listdir(DIR)):\n",
        "        path = os.path.join(DIR, img)\n",
        "        img = cv2.imread(path, cv2.IMREAD_COLOR)\n",
        "        img = cv2.resize(img, (IMAGE_SIZE_googlenet, IMAGE_SIZE_googlenet))\n",
        "        img_list.append(np.array(img))\n",
        "        label_list.append(str(label))"
      ],
      "metadata": {
        "id": "B3menIgvARk5"
      },
      "execution_count": 5,
      "outputs": []
    },
    {
      "cell_type": "code",
      "source": [
        "X = []\n",
        "Z = []"
      ],
      "metadata": {
        "id": "Jn6gWefxATyU"
      },
      "execution_count": 6,
      "outputs": []
    },
    {
      "cell_type": "code",
      "source": [
        "for i, class_name in enumerate(['Common_Rust', 'Healthy', 'Gray_Leaf_Spot', 'Blight']):\n",
        "    class_dir = os.path.join(dataset_dir, class_name)\n",
        "    make_data(class_name, class_dir, X, Z)"
      ],
      "metadata": {
        "colab": {
          "base_uri": "https://localhost:8080/"
        },
        "id": "S9-RQTGJAWCk",
        "outputId": "6581cc99-1d38-4ed3-d6f5-07eec3e53a8b"
      },
      "execution_count": 7,
      "outputs": [
        {
          "output_type": "stream",
          "name": "stderr",
          "text": [
            "100%|██████████| 1306/1306 [00:05<00:00, 237.20it/s]\n",
            "100%|██████████| 1162/1162 [00:01<00:00, 659.84it/s]\n",
            "100%|██████████| 574/574 [00:01<00:00, 310.51it/s]\n",
            "100%|██████████| 1146/1146 [00:06<00:00, 183.97it/s]\n"
          ]
        }
      ]
    },
    {
      "cell_type": "code",
      "source": [
        "import matplotlib.pyplot as plt\n",
        "\n",
        "# Menghitung jumlah data untuk setiap kelas\n",
        "class_counts = {class_name: Z.count(class_name) for class_name in set(Z)}\n",
        "\n",
        "# Menampilkan visualisasi jumlah data\n",
        "plt.figure(figsize=(8, 6))\n",
        "plt.bar(class_counts.keys(), class_counts.values())\n",
        "plt.xlabel('Class')\n",
        "plt.ylabel('Count')\n",
        "plt.title('Number of Data Samples for Each Class')\n",
        "plt.show()"
      ],
      "metadata": {
        "colab": {
          "base_uri": "https://localhost:8080/",
          "height": 564
        },
        "id": "-IcXHIM8Akcw",
        "outputId": "7b01d3e1-096a-4536-b63b-dcefcef8239f"
      },
      "execution_count": 8,
      "outputs": [
        {
          "output_type": "display_data",
          "data": {
            "text/plain": [
              "<Figure size 800x600 with 1 Axes>"
            ],
            "image/png": "[encoded data removed]"
          },
          "metadata": {}
        }
      ]
    },
    {
      "cell_type": "code",
      "source": [
        "le = LabelEncoder()\n",
        "Y = le.fit_transform(Z)\n",
        "Y = to_categorical(Y, num_classes=len(le.classes_))\n",
        "\n",
        "# Konversi ke array numpy\n",
        "X = np.array(X)\n",
        "\n",
        "# Memisahkan data menjadi data latih dan data uji\n",
        "X_train, X_test, Y_train, Y_test = train_test_split(X, Y, test_size=0.2, random_state=42)\n",
        "\n",
        "print(\"Jumlah Data Train adalah :\", len(X_train))\n",
        "print(\"Jumlah Data Test adalah :\", len(X_test))"
      ],
      "metadata": {
        "colab": {
          "base_uri": "https://localhost:8080/"
        },
        "id": "OI7kvVbXAqko",
        "outputId": "f5b54a80-f1ef-4b4d-d482-19e5a441cae5"
      },
      "execution_count": 9,
      "outputs": [
        {
          "output_type": "stream",
          "name": "stdout",
          "text": [
            "Jumlah Data Train adalah : 3350\n",
            "Jumlah Data Test adalah : 838\n"
          ]
        }
      ]
    },
    {
      "cell_type": "code",
      "source": [
        "datagen = ImageDataGenerator(\n",
        "    rotation_range=20,\n",
        "    zoom_range=0.2,\n",
        "    horizontal_flip=True,\n",
        "    vertical_flip=True\n",
        ")\n",
        "\n",
        "datagen.fit(X_train)"
      ],
      "metadata": {
        "id": "ue5XLCIlA2ld"
      },
      "execution_count": 10,
      "outputs": []
    },
    {
      "cell_type": "code",
      "source": [
        "def inception_module(x, filters_1x1, filters_3x3_reduce, filters_3x3, filters_5x5_reduce, filters_5x5, filters_pool_proj):\n",
        "    path1 = Conv2D(filters_1x1, (1, 1), padding='same', activation='relu')(x)\n",
        "    path2 = Conv2D(filters_3x3_reduce, (1, 1), padding='same', activation='relu')(x)\n",
        "    path2 = Conv2D(filters_3x3, (3, 3), padding='same', activation='relu')(path2)\n",
        "    path3 = Conv2D(filters_5x5_reduce, (1, 1), padding='same', activation='relu')(x)\n",
        "    path3 = Conv2D(filters_5x5, (5, 5), padding='same', activation='relu')(path3)\n",
        "    path4 = MaxPooling2D((3, 3), strides=(1, 1), padding='same')(x)\n",
        "    path4 = Conv2D(filters_pool_proj, (1, 1), padding='same', activation='relu')(path4)\n",
        "    return concatenate([path1, path2, path3, path4], axis=3)\n",
        "\n",
        "def GoogleNet(input_shape=(227, 227, 3), num_classes=4):\n",
        "    inputs = Input(input_shape)\n",
        "    x = Conv2D(64, (7, 7), strides=(2, 2), padding='same', activation='relu')(inputs)\n",
        "    x = MaxPooling2D((3, 3), strides=(2, 2), padding='same')(x)\n",
        "    x = Conv2D(192, (3, 3), padding='same', activation='relu')(x)\n",
        "    x = MaxPooling2D((3, 3), strides=(2, 2), padding='same')(x)\n",
        "    x = inception_module(x, 64, 96, 128, 16, 32, 32)\n",
        "    x = inception_module(x, 128, 128, 192, 32, 96, 64)\n",
        "    x = MaxPooling2D((3, 3), strides=(2, 2), padding='same')(x)\n",
        "    x = inception_module(x, 192, 96, 208, 16, 48, 64)\n",
        "    x = inception_module(x, 160, 112, 224, 24, 64, 64)\n",
        "    x = inception_module(x, 128, 128, 256, 24, 64, 64)\n",
        "    x = inception_module(x, 112, 144, 288, 32, 64, 64)\n",
        "    x = inception_module(x, 256, 160, 320, 32, 128, 128)\n",
        "    x = MaxPooling2D((3, 3), strides=(2, 2), padding='same')(x)\n",
        "    x = inception_module(x, 256, 160, 320, 32, 128, 128)\n",
        "    x = inception_module(x, 384, 192, 384, 48, 128, 128)\n",
        "    x = GlobalAveragePooling2D()(x)\n",
        "    x = Dropout(0.4)(x)\n",
        "    x = Dense(1000, activation='relu')(x)\n",
        "    x = Dense(num_classes, activation='softmax')(x)\n",
        "    model = Model(inputs, x, name='googlenet')\n",
        "    return model\n",
        "\n",
        "# Create the GoogleNet model\n",
        "model = GoogleNet(input_shape=(224, 224, 3), num_classes=4)\n",
        "model.summary()\n",
        "\n",
        "model.compile(optimizer=Adam(learning_rate=1e-4), loss='categorical_crossentropy', metrics=['accuracy'])\n",
        "\n",
        "history = model.fit(datagen.flow(X_train, Y_train), epochs=50, validation_data=(X_test, Y_test))"
      ],
      "metadata": {
        "id": "qg6h8yY_A62R",
        "colab": {
          "base_uri": "https://localhost:8080/"
        },
        "outputId": "917db305-ecfa-4fc8-d598-4d8e15d2774b"
      },
      "execution_count": 22,
      "outputs": [
        {
          "output_type": "stream",
          "name": "stdout",
          "text": [
            "Model: \"googlenet\"\n",
            "__________________________________________________________________________________________________\n",
            " Layer (type)                Output Shape                 Param #   Connected to                  \n",
            "==================================================================================================\n",
            " input_4 (InputLayer)        [(None, 224, 224, 3)]        0         []                            \n",
            "                                                                                                  \n",
            " conv2d_168 (Conv2D)         (None, 112, 112, 64)         9472      ['input_4[0][0]']             \n",
            "                                                                                                  \n",
            " max_pooling2d_39 (MaxPooli  (None, 56, 56, 64)           0         ['conv2d_168[0][0]']          \n",
            " ng2D)                                                                                            \n",
            "                                                                                                  \n",
            " conv2d_169 (Conv2D)         (None, 56, 56, 192)          110784    ['max_pooling2d_39[0][0]']    \n",
            "                                                                                                  \n",
            " max_pooling2d_40 (MaxPooli  (None, 28, 28, 192)          0         ['conv2d_169[0][0]']          \n",
            " ng2D)                                                                                            \n",
            "                                                                                                  \n",
            " conv2d_171 (Conv2D)         (None, 28, 28, 96)           18528     ['max_pooling2d_40[0][0]']    \n",
            "                                                                                                  \n",
            " conv2d_173 (Conv2D)         (None, 28, 28, 16)           3088      ['max_pooling2d_40[0][0]']    \n",
            "                                                                                                  \n",
            " max_pooling2d_41 (MaxPooli  (None, 28, 28, 192)          0         ['max_pooling2d_40[0][0]']    \n",
            " ng2D)                                                                                            \n",
            "                                                                                                  \n",
            " conv2d_170 (Conv2D)         (None, 28, 28, 64)           12352     ['max_pooling2d_40[0][0]']    \n",
            "                                                                                                  \n",
            " conv2d_172 (Conv2D)         (None, 28, 28, 128)          110720    ['conv2d_171[0][0]']          \n",
            "                                                                                                  \n",
            " conv2d_174 (Conv2D)         (None, 28, 28, 32)           12832     ['conv2d_173[0][0]']          \n",
            "                                                                                                  \n",
            " conv2d_175 (Conv2D)         (None, 28, 28, 32)           6176      ['max_pooling2d_41[0][0]']    \n",
            "                                                                                                  \n",
            " concatenate_27 (Concatenat  (None, 28, 28, 256)          0         ['conv2d_170[0][0]',          \n",
            " e)                                                                  'conv2d_172[0][0]',          \n",
            "                                                                     'conv2d_174[0][0]',          \n",
            "                                                                     'conv2d_175[0][0]']          \n",
            "                                                                                                  \n",
            " conv2d_177 (Conv2D)         (None, 28, 28, 128)          32896     ['concatenate_27[0][0]']      \n",
            "                                                                                                  \n",
            " conv2d_179 (Conv2D)         (None, 28, 28, 32)           8224      ['concatenate_27[0][0]']      \n",
            "                                                                                                  \n",
            " max_pooling2d_42 (MaxPooli  (None, 28, 28, 256)          0         ['concatenate_27[0][0]']      \n",
            " ng2D)                                                                                            \n",
            "                                                                                                  \n",
            " conv2d_176 (Conv2D)         (None, 28, 28, 128)          32896     ['concatenate_27[0][0]']      \n",
            "                                                                                                  \n",
            " conv2d_178 (Conv2D)         (None, 28, 28, 192)          221376    ['conv2d_177[0][0]']          \n",
            "                                                                                                  \n",
            " conv2d_180 (Conv2D)         (None, 28, 28, 96)           76896     ['conv2d_179[0][0]']          \n",
            "                                                                                                  \n",
            " conv2d_181 (Conv2D)         (None, 28, 28, 64)           16448     ['max_pooling2d_42[0][0]']    \n",
            "                                                                                                  \n",
            " concatenate_28 (Concatenat  (None, 28, 28, 480)          0         ['conv2d_176[0][0]',          \n",
            " e)                                                                  'conv2d_178[0][0]',          \n",
            "                                                                     'conv2d_180[0][0]',          \n",
            "                                                                     'conv2d_181[0][0]']          \n",
            "                                                                                                  \n",
            " max_pooling2d_43 (MaxPooli  (None, 14, 14, 480)          0         ['concatenate_28[0][0]']      \n",
            " ng2D)                                                                                            \n",
            "                                                                                                  \n",
            " conv2d_183 (Conv2D)         (None, 14, 14, 96)           46176     ['max_pooling2d_43[0][0]']    \n",
            "                                                                                                  \n",
            " conv2d_185 (Conv2D)         (None, 14, 14, 16)           7696      ['max_pooling2d_43[0][0]']    \n",
            "                                                                                                  \n",
            " max_pooling2d_44 (MaxPooli  (None, 14, 14, 480)          0         ['max_pooling2d_43[0][0]']    \n",
            " ng2D)                                                                                            \n",
            "                                                                                                  \n",
            " conv2d_182 (Conv2D)         (None, 14, 14, 192)          92352     ['max_pooling2d_43[0][0]']    \n",
            "                                                                                                  \n",
            " conv2d_184 (Conv2D)         (None, 14, 14, 208)          179920    ['conv2d_183[0][0]']          \n",
            "                                                                                                  \n",
            " conv2d_186 (Conv2D)         (None, 14, 14, 48)           19248     ['conv2d_185[0][0]']          \n",
            "                                                                                                  \n",
            " conv2d_187 (Conv2D)         (None, 14, 14, 64)           30784     ['max_pooling2d_44[0][0]']    \n",
            "                                                                                                  \n",
            " concatenate_29 (Concatenat  (None, 14, 14, 512)          0         ['conv2d_182[0][0]',          \n",
            " e)                                                                  'conv2d_184[0][0]',          \n",
            "                                                                     'conv2d_186[0][0]',          \n",
            "                                                                     'conv2d_187[0][0]']          \n",
            "                                                                                                  \n",
            " conv2d_189 (Conv2D)         (None, 14, 14, 112)          57456     ['concatenate_29[0][0]']      \n",
            "                                                                                                  \n",
            " conv2d_191 (Conv2D)         (None, 14, 14, 24)           12312     ['concatenate_29[0][0]']      \n",
            "                                                                                                  \n",
            " max_pooling2d_45 (MaxPooli  (None, 14, 14, 512)          0         ['concatenate_29[0][0]']      \n",
            " ng2D)                                                                                            \n",
            "                                                                                                  \n",
            " conv2d_188 (Conv2D)         (None, 14, 14, 160)          82080     ['concatenate_29[0][0]']      \n",
            "                                                                                                  \n",
            " conv2d_190 (Conv2D)         (None, 14, 14, 224)          226016    ['conv2d_189[0][0]']          \n",
            "                                                                                                  \n",
            " conv2d_192 (Conv2D)         (None, 14, 14, 64)           38464     ['conv2d_191[0][0]']          \n",
            "                                                                                                  \n",
            " conv2d_193 (Conv2D)         (None, 14, 14, 64)           32832     ['max_pooling2d_45[0][0]']    \n",
            "                                                                                                  \n",
            " concatenate_30 (Concatenat  (None, 14, 14, 512)          0         ['conv2d_188[0][0]',          \n",
            " e)                                                                  'conv2d_190[0][0]',          \n",
            "                                                                     'conv2d_192[0][0]',          \n",
            "                                                                     'conv2d_193[0][0]']          \n",
            "                                                                                                  \n",
            " conv2d_195 (Conv2D)         (None, 14, 14, 128)          65664     ['concatenate_30[0][0]']      \n",
            "                                                                                                  \n",
            " conv2d_197 (Conv2D)         (None, 14, 14, 24)           12312     ['concatenate_30[0][0]']      \n",
            "                                                                                                  \n",
            " max_pooling2d_46 (MaxPooli  (None, 14, 14, 512)          0         ['concatenate_30[0][0]']      \n",
            " ng2D)                                                                                            \n",
            "                                                                                                  \n",
            " conv2d_194 (Conv2D)         (None, 14, 14, 128)          65664     ['concatenate_30[0][0]']      \n",
            "                                                                                                  \n",
            " conv2d_196 (Conv2D)         (None, 14, 14, 256)          295168    ['conv2d_195[0][0]']          \n",
            "                                                                                                  \n",
            " conv2d_198 (Conv2D)         (None, 14, 14, 64)           38464     ['conv2d_197[0][0]']          \n",
            "                                                                                                  \n",
            " conv2d_199 (Conv2D)         (None, 14, 14, 64)           32832     ['max_pooling2d_46[0][0]']    \n",
            "                                                                                                  \n",
            " concatenate_31 (Concatenat  (None, 14, 14, 512)          0         ['conv2d_194[0][0]',          \n",
            " e)                                                                  'conv2d_196[0][0]',          \n",
            "                                                                     'conv2d_198[0][0]',          \n",
            "                                                                     'conv2d_199[0][0]']          \n",
            "                                                                                                  \n",
            " conv2d_201 (Conv2D)         (None, 14, 14, 144)          73872     ['concatenate_31[0][0]']      \n",
            "                                                                                                  \n",
            " conv2d_203 (Conv2D)         (None, 14, 14, 32)           16416     ['concatenate_31[0][0]']      \n",
            "                                                                                                  \n",
            " max_pooling2d_47 (MaxPooli  (None, 14, 14, 512)          0         ['concatenate_31[0][0]']      \n",
            " ng2D)                                                                                            \n",
            "                                                                                                  \n",
            " conv2d_200 (Conv2D)         (None, 14, 14, 112)          57456     ['concatenate_31[0][0]']      \n",
            "                                                                                                  \n",
            " conv2d_202 (Conv2D)         (None, 14, 14, 288)          373536    ['conv2d_201[0][0]']          \n",
            "                                                                                                  \n",
            " conv2d_204 (Conv2D)         (None, 14, 14, 64)           51264     ['conv2d_203[0][0]']          \n",
            "                                                                                                  \n",
            " conv2d_205 (Conv2D)         (None, 14, 14, 64)           32832     ['max_pooling2d_47[0][0]']    \n",
            "                                                                                                  \n",
            " concatenate_32 (Concatenat  (None, 14, 14, 528)          0         ['conv2d_200[0][0]',          \n",
            " e)                                                                  'conv2d_202[0][0]',          \n",
            "                                                                     'conv2d_204[0][0]',          \n",
            "                                                                     'conv2d_205[0][0]']          \n",
            "                                                                                                  \n",
            " conv2d_207 (Conv2D)         (None, 14, 14, 160)          84640     ['concatenate_32[0][0]']      \n",
            "                                                                                                  \n",
            " conv2d_209 (Conv2D)         (None, 14, 14, 32)           16928     ['concatenate_32[0][0]']      \n",
            "                                                                                                  \n",
            " max_pooling2d_48 (MaxPooli  (None, 14, 14, 528)          0         ['concatenate_32[0][0]']      \n",
            " ng2D)                                                                                            \n",
            "                                                                                                  \n",
            " conv2d_206 (Conv2D)         (None, 14, 14, 256)          135424    ['concatenate_32[0][0]']      \n",
            "                                                                                                  \n",
            " conv2d_208 (Conv2D)         (None, 14, 14, 320)          461120    ['conv2d_207[0][0]']          \n",
            "                                                                                                  \n",
            " conv2d_210 (Conv2D)         (None, 14, 14, 128)          102528    ['conv2d_209[0][0]']          \n",
            "                                                                                                  \n",
            " conv2d_211 (Conv2D)         (None, 14, 14, 128)          67712     ['max_pooling2d_48[0][0]']    \n",
            "                                                                                                  \n",
            " concatenate_33 (Concatenat  (None, 14, 14, 832)          0         ['conv2d_206[0][0]',          \n",
            " e)                                                                  'conv2d_208[0][0]',          \n",
            "                                                                     'conv2d_210[0][0]',          \n",
            "                                                                     'conv2d_211[0][0]']          \n",
            "                                                                                                  \n",
            " max_pooling2d_49 (MaxPooli  (None, 7, 7, 832)            0         ['concatenate_33[0][0]']      \n",
            " ng2D)                                                                                            \n",
            "                                                                                                  \n",
            " conv2d_213 (Conv2D)         (None, 7, 7, 160)            133280    ['max_pooling2d_49[0][0]']    \n",
            "                                                                                                  \n",
            " conv2d_215 (Conv2D)         (None, 7, 7, 32)             26656     ['max_pooling2d_49[0][0]']    \n",
            "                                                                                                  \n",
            " max_pooling2d_50 (MaxPooli  (None, 7, 7, 832)            0         ['max_pooling2d_49[0][0]']    \n",
            " ng2D)                                                                                            \n",
            "                                                                                                  \n",
            " conv2d_212 (Conv2D)         (None, 7, 7, 256)            213248    ['max_pooling2d_49[0][0]']    \n",
            "                                                                                                  \n",
            " conv2d_214 (Conv2D)         (None, 7, 7, 320)            461120    ['conv2d_213[0][0]']          \n",
            "                                                                                                  \n",
            " conv2d_216 (Conv2D)         (None, 7, 7, 128)            102528    ['conv2d_215[0][0]']          \n",
            "                                                                                                  \n",
            " conv2d_217 (Conv2D)         (None, 7, 7, 128)            106624    ['max_pooling2d_50[0][0]']    \n",
            "                                                                                                  \n",
            " concatenate_34 (Concatenat  (None, 7, 7, 832)            0         ['conv2d_212[0][0]',          \n",
            " e)                                                                  'conv2d_214[0][0]',          \n",
            "                                                                     'conv2d_216[0][0]',          \n",
            "                                                                     'conv2d_217[0][0]']          \n",
            "                                                                                                  \n",
            " conv2d_219 (Conv2D)         (None, 7, 7, 192)            159936    ['concatenate_34[0][0]']      \n",
            "                                                                                                  \n",
            " conv2d_221 (Conv2D)         (None, 7, 7, 48)             39984     ['concatenate_34[0][0]']      \n",
            "                                                                                                  \n",
            " max_pooling2d_51 (MaxPooli  (None, 7, 7, 832)            0         ['concatenate_34[0][0]']      \n",
            " ng2D)                                                                                            \n",
            "                                                                                                  \n",
            " conv2d_218 (Conv2D)         (None, 7, 7, 384)            319872    ['concatenate_34[0][0]']      \n",
            "                                                                                                  \n",
            " conv2d_220 (Conv2D)         (None, 7, 7, 384)            663936    ['conv2d_219[0][0]']          \n",
            "                                                                                                  \n",
            " conv2d_222 (Conv2D)         (None, 7, 7, 128)            153728    ['conv2d_221[0][0]']          \n",
            "                                                                                                  \n",
            " conv2d_223 (Conv2D)         (None, 7, 7, 128)            106624    ['max_pooling2d_51[0][0]']    \n",
            "                                                                                                  \n",
            " concatenate_35 (Concatenat  (None, 7, 7, 1024)           0         ['conv2d_218[0][0]',          \n",
            " e)                                                                  'conv2d_220[0][0]',          \n",
            "                                                                     'conv2d_222[0][0]',          \n",
            "                                                                     'conv2d_223[0][0]']          \n",
            "                                                                                                  \n",
            " global_average_pooling2d_2  (None, 1024)                 0         ['concatenate_35[0][0]']      \n",
            "  (GlobalAveragePooling2D)                                                                        \n",
            "                                                                                                  \n",
            " dropout_2 (Dropout)         (None, 1024)                 0         ['global_average_pooling2d_2[0\n",
            "                                                                    ][0]']                        \n",
            "                                                                                                  \n",
            " dense_4 (Dense)             (None, 1000)                 1025000   ['dropout_2[0][0]']           \n",
            "                                                                                                  \n",
            " dense_5 (Dense)             (None, 4)                    4004      ['dense_4[0][0]']             \n",
            "                                                                                                  \n",
            "==================================================================================================\n",
            "Total params: 6998396 (26.70 MB)\n",
            "Trainable params: 6998396 (26.70 MB)\n",
            "Non-trainable params: 0 (0.00 Byte)\n",
            "__________________________________________________________________________________________________\n",
            "Epoch 1/50\n",
            "105/105 [==============================] - 60s 417ms/step - loss: 0.7696 - accuracy: 0.6812 - val_loss: 0.4365 - val_accuracy: 0.8282\n",
            "Epoch 2/50\n",
            "105/105 [==============================] - 41s 390ms/step - loss: 0.4527 - accuracy: 0.8069 - val_loss: 0.3956 - val_accuracy: 0.8210\n",
            "Epoch 3/50\n",
            "105/105 [==============================] - 42s 396ms/step - loss: 0.4116 - accuracy: 0.8176 - val_loss: 0.3462 - val_accuracy: 0.8353\n",
            "Epoch 4/50\n",
            "105/105 [==============================] - 41s 389ms/step - loss: 0.3899 - accuracy: 0.8236 - val_loss: 0.3453 - val_accuracy: 0.8365\n",
            "Epoch 5/50\n",
            "105/105 [==============================] - 43s 407ms/step - loss: 0.3597 - accuracy: 0.8385 - val_loss: 0.2842 - val_accuracy: 0.8819\n",
            "Epoch 6/50\n",
            "105/105 [==============================] - 45s 424ms/step - loss: 0.3253 - accuracy: 0.8537 - val_loss: 0.3183 - val_accuracy: 0.8461\n",
            "Epoch 7/50\n",
            "105/105 [==============================] - 41s 395ms/step - loss: 0.3019 - accuracy: 0.8719 - val_loss: 0.3352 - val_accuracy: 0.8484\n",
            "Epoch 8/50\n",
            "105/105 [==============================] - 41s 393ms/step - loss: 0.2731 - accuracy: 0.8857 - val_loss: 0.3172 - val_accuracy: 0.8544\n",
            "Epoch 9/50\n",
            "105/105 [==============================] - 42s 399ms/step - loss: 0.2642 - accuracy: 0.8896 - val_loss: 0.3046 - val_accuracy: 0.8663\n",
            "Epoch 10/50\n",
            "105/105 [==============================] - 42s 398ms/step - loss: 0.2651 - accuracy: 0.8890 - val_loss: 0.2077 - val_accuracy: 0.9153\n",
            "Epoch 11/50\n",
            "105/105 [==============================] - 41s 393ms/step - loss: 0.2495 - accuracy: 0.8928 - val_loss: 0.2074 - val_accuracy: 0.9153\n",
            "Epoch 12/50\n",
            "105/105 [==============================] - 41s 390ms/step - loss: 0.2283 - accuracy: 0.9069 - val_loss: 0.1990 - val_accuracy: 0.9189\n",
            "Epoch 13/50\n",
            "105/105 [==============================] - 41s 394ms/step - loss: 0.3012 - accuracy: 0.8731 - val_loss: 0.2669 - val_accuracy: 0.8902\n",
            "Epoch 14/50\n",
            "105/105 [==============================] - 42s 398ms/step - loss: 0.2274 - accuracy: 0.9099 - val_loss: 0.2832 - val_accuracy: 0.8878\n",
            "Epoch 15/50\n",
            "105/105 [==============================] - 42s 398ms/step - loss: 0.2251 - accuracy: 0.9078 - val_loss: 0.2280 - val_accuracy: 0.9189\n",
            "Epoch 16/50\n",
            "105/105 [==============================] - 43s 413ms/step - loss: 0.2165 - accuracy: 0.9164 - val_loss: 0.1719 - val_accuracy: 0.9308\n",
            "Epoch 17/50\n",
            "105/105 [==============================] - 42s 397ms/step - loss: 0.2218 - accuracy: 0.9134 - val_loss: 0.2309 - val_accuracy: 0.9129\n",
            "Epoch 18/50\n",
            "105/105 [==============================] - 42s 402ms/step - loss: 0.2172 - accuracy: 0.9155 - val_loss: 0.2173 - val_accuracy: 0.9165\n",
            "Epoch 19/50\n",
            "105/105 [==============================] - 42s 399ms/step - loss: 0.2000 - accuracy: 0.9179 - val_loss: 0.2098 - val_accuracy: 0.9069\n",
            "Epoch 20/50\n",
            "105/105 [==============================] - 42s 397ms/step - loss: 0.2142 - accuracy: 0.9128 - val_loss: 0.2177 - val_accuracy: 0.9093\n",
            "Epoch 21/50\n",
            "105/105 [==============================] - 42s 401ms/step - loss: 0.1954 - accuracy: 0.9215 - val_loss: 0.1920 - val_accuracy: 0.9200\n",
            "Epoch 22/50\n",
            "105/105 [==============================] - 43s 410ms/step - loss: 0.2077 - accuracy: 0.9131 - val_loss: 0.1919 - val_accuracy: 0.9260\n",
            "Epoch 23/50\n",
            "105/105 [==============================] - 42s 398ms/step - loss: 0.1809 - accuracy: 0.9343 - val_loss: 0.1734 - val_accuracy: 0.9260\n",
            "Epoch 24/50\n",
            "105/105 [==============================] - 43s 404ms/step - loss: 0.1752 - accuracy: 0.9316 - val_loss: 0.2279 - val_accuracy: 0.9200\n",
            "Epoch 25/50\n",
            "105/105 [==============================] - 41s 393ms/step - loss: 0.1855 - accuracy: 0.9293 - val_loss: 0.2183 - val_accuracy: 0.9212\n",
            "Epoch 26/50\n",
            "105/105 [==============================] - 43s 411ms/step - loss: 0.1841 - accuracy: 0.9278 - val_loss: 0.1784 - val_accuracy: 0.9260\n",
            "Epoch 27/50\n",
            "105/105 [==============================] - 42s 399ms/step - loss: 0.1683 - accuracy: 0.9340 - val_loss: 0.1704 - val_accuracy: 0.9415\n",
            "Epoch 28/50\n",
            "105/105 [==============================] - 41s 394ms/step - loss: 0.1728 - accuracy: 0.9301 - val_loss: 0.2162 - val_accuracy: 0.9320\n",
            "Epoch 29/50\n",
            "105/105 [==============================] - 42s 401ms/step - loss: 0.1799 - accuracy: 0.9316 - val_loss: 0.1955 - val_accuracy: 0.9320\n",
            "Epoch 30/50\n",
            "105/105 [==============================] - 42s 402ms/step - loss: 0.1566 - accuracy: 0.9352 - val_loss: 0.1615 - val_accuracy: 0.9356\n",
            "Epoch 31/50\n",
            "105/105 [==============================] - 45s 426ms/step - loss: 0.1708 - accuracy: 0.9307 - val_loss: 0.1621 - val_accuracy: 0.9284\n",
            "Epoch 32/50\n",
            "105/105 [==============================] - 43s 407ms/step - loss: 0.1667 - accuracy: 0.9358 - val_loss: 0.1770 - val_accuracy: 0.9332\n",
            "Epoch 33/50\n",
            "105/105 [==============================] - 42s 404ms/step - loss: 0.1899 - accuracy: 0.9266 - val_loss: 0.1761 - val_accuracy: 0.9368\n",
            "Epoch 34/50\n",
            "105/105 [==============================] - 42s 404ms/step - loss: 0.1633 - accuracy: 0.9307 - val_loss: 0.2205 - val_accuracy: 0.9308\n",
            "Epoch 35/50\n",
            "105/105 [==============================] - 42s 397ms/step - loss: 0.1539 - accuracy: 0.9412 - val_loss: 0.1524 - val_accuracy: 0.9487\n",
            "Epoch 36/50\n",
            "105/105 [==============================] - 44s 420ms/step - loss: 0.1503 - accuracy: 0.9391 - val_loss: 0.1520 - val_accuracy: 0.9439\n",
            "Epoch 37/50\n",
            "105/105 [==============================] - 43s 412ms/step - loss: 0.1476 - accuracy: 0.9421 - val_loss: 0.1528 - val_accuracy: 0.9535\n",
            "Epoch 38/50\n",
            "105/105 [==============================] - 43s 405ms/step - loss: 0.1480 - accuracy: 0.9415 - val_loss: 0.1724 - val_accuracy: 0.9391\n",
            "Epoch 39/50\n",
            "105/105 [==============================] - 42s 399ms/step - loss: 0.1277 - accuracy: 0.9507 - val_loss: 0.2291 - val_accuracy: 0.9033\n",
            "Epoch 40/50\n",
            "105/105 [==============================] - 44s 415ms/step - loss: 0.1441 - accuracy: 0.9442 - val_loss: 0.1759 - val_accuracy: 0.9296\n",
            "Epoch 41/50\n",
            "105/105 [==============================] - 42s 403ms/step - loss: 0.1364 - accuracy: 0.9463 - val_loss: 0.1817 - val_accuracy: 0.9320\n",
            "Epoch 42/50\n",
            "105/105 [==============================] - 42s 399ms/step - loss: 0.1352 - accuracy: 0.9493 - val_loss: 0.1807 - val_accuracy: 0.9439\n",
            "Epoch 43/50\n",
            "105/105 [==============================] - 42s 404ms/step - loss: 0.1263 - accuracy: 0.9513 - val_loss: 0.1615 - val_accuracy: 0.9427\n",
            "Epoch 44/50\n",
            "105/105 [==============================] - 42s 400ms/step - loss: 0.1206 - accuracy: 0.9516 - val_loss: 0.2242 - val_accuracy: 0.9296\n",
            "Epoch 45/50\n",
            "105/105 [==============================] - 43s 407ms/step - loss: 0.1158 - accuracy: 0.9561 - val_loss: 0.2668 - val_accuracy: 0.9117\n",
            "Epoch 46/50\n",
            "105/105 [==============================] - 43s 408ms/step - loss: 0.1485 - accuracy: 0.9427 - val_loss: 0.1832 - val_accuracy: 0.9427\n",
            "Epoch 47/50\n",
            "105/105 [==============================] - 43s 404ms/step - loss: 0.1321 - accuracy: 0.9519 - val_loss: 0.1396 - val_accuracy: 0.9427\n",
            "Epoch 48/50\n",
            "105/105 [==============================] - 43s 408ms/step - loss: 0.1323 - accuracy: 0.9501 - val_loss: 0.1483 - val_accuracy: 0.9487\n",
            "Epoch 49/50\n",
            "105/105 [==============================] - 42s 399ms/step - loss: 0.1130 - accuracy: 0.9591 - val_loss: 0.1841 - val_accuracy: 0.9439\n",
            "Epoch 50/50\n",
            "105/105 [==============================] - 45s 426ms/step - loss: 0.1144 - accuracy: 0.9561 - val_loss: 0.1760 - val_accuracy: 0.9332\n"
          ]
        }
      ]
    },
    {
      "cell_type": "code",
      "source": [
        "from sklearn.metrics import confusion_matrix, classification_report\n",
        "import numpy as np\n",
        "import matplotlib.pyplot as plt\n",
        "import seaborn as sns\n",
        "\n",
        "Y_pred = model.predict(X_test)\n",
        "Y_pred_classes = np.argmax(Y_pred, axis=1)\n",
        "Y_true = np.argmax(Y_test, axis=1)\n",
        "conf_matrix = confusion_matrix(Y_true, Y_pred_classes)\n",
        "\n",
        "plt.figure(figsize=(8, 6))\n",
        "sns.heatmap(conf_matrix, annot=True, fmt=\"d\", cmap=\"Blues\", xticklabels=['Common_Rust', 'Healthy', 'Gray_Leaf_Spot', 'Blight'], yticklabels=['Common_Rust', 'Healthy', 'Gray_Leaf_Spot', 'Blight'])\n",
        "plt.xlabel('Predicted labels')\n",
        "plt.ylabel('True labels')\n",
        "plt.title('Confusion Matrix')\n",
        "plt.show()\n",
        "\n",
        "class_report = classification_report(Y_true, Y_pred_classes)\n",
        "\n",
        "print(\"\\nClassification Report:\")\n",
        "print(class_report)"
      ],
      "metadata": {
        "id": "W2svXyjyTjeo",
        "colab": {
          "base_uri": "https://localhost:8080/",
          "height": 807
        },
        "outputId": "d6b0877e-e9a2-45d7-b492-fa3d6c729724"
      },
      "execution_count": 23,
      "outputs": [
        {
          "output_type": "stream",
          "name": "stdout",
          "text": [
            "27/27 [==============================] - 1s 29ms/step\n"
          ]
        },
        {
          "output_type": "display_data",
          "data": {
            "text/plain": [
              "<Figure size 800x600 with 2 Axes>"
            ],
            "image/png": "[encoded data removed]"
          },
          "metadata": {}
        },
        {
          "output_type": "stream",
          "name": "stdout",
          "text": [
            "\n",
            "Classification Report:\n",
            "              precision    recall  f1-score   support\n",
            "\n",
            "           0       0.89      0.89      0.89       218\n",
            "           1       0.97      0.97      0.97       289\n",
            "           2       0.79      0.76      0.77       104\n",
            "           3       0.99      1.00      1.00       227\n",
            "\n",
            "    accuracy                           0.93       838\n",
            "   macro avg       0.91      0.91      0.91       838\n",
            "weighted avg       0.93      0.93      0.93       838\n",
            "\n"
          ]
        }
      ]
    },
    {
      "cell_type": "code",
      "source": [
        "import tensorflow as tf\n",
        "from tensorflow.python.framework.convert_to_constants import convert_variables_to_constants_v2_as_graph\n",
        "\n",
        "def get_flops(model, batch_size=1):\n",
        "    # Create a concrete function from the model\n",
        "    concrete_func = tf.function(model).get_concrete_function(\n",
        "        tf.TensorSpec([batch_size] + [int(dim) for dim in model.inputs[0].shape[1:]], model.inputs[0].dtype))\n",
        "\n",
        "    # Convert the model function to a frozen graph\n",
        "    frozen_func, graph_def = convert_variables_to_constants_v2_as_graph(concrete_func)\n",
        "\n",
        "    # Calculate FLOPs\n",
        "    run_meta = tf.compat.v1.RunMetadata()\n",
        "    opts = tf.compat.v1.profiler.ProfileOptionBuilder.float_operation()\n",
        "    flops = tf.compat.v1.profiler.profile(graph=frozen_func.graph,\n",
        "                                          run_meta=run_meta, cmd='op', options=opts)\n",
        "\n",
        "    return flops.total_float_ops"
      ],
      "metadata": {
        "id": "sUv2V0g1bmob"
      },
      "execution_count": 18,
      "outputs": []
    },
    {
      "cell_type": "code",
      "source": [
        "model = GoogleNet(input_shape=(224, 224, 3), num_classes=4)\n",
        "model.build(input_shape=(None, 224, 224, 3))"
      ],
      "metadata": {
        "id": "tBl3xzBPbvf0"
      },
      "execution_count": 24,
      "outputs": []
    },
    {
      "cell_type": "code",
      "source": [
        "flops = get_flops(model)\n",
        "print(f\"Estimated FLOPs: {flops}\")"
      ],
      "metadata": {
        "colab": {
          "base_uri": "https://localhost:8080/"
        },
        "id": "p02wf3a5b2P5",
        "outputId": "e1b7db9f-900b-4b22-b698-f6f510d33e87"
      },
      "execution_count": 25,
      "outputs": [
        {
          "output_type": "stream",
          "name": "stdout",
          "text": [
            "Estimated FLOPs: 3155495536\n"
          ]
        }
      ]
    }
  ]
}