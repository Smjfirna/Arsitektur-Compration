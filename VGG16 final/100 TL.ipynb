{
  "nbformat": 4,
  "nbformat_minor": 0,
  "metadata": {
    "colab": {
      "provenance": [],
      "gpuType": "T4",
      "authorship_tag": "ABX9TyOxM+f+0gTNJS76xclmkDdN",
      "include_colab_link": true
    },
    "kernelspec": {
      "name": "python3",
      "display_name": "Python 3"
    },
    "language_info": {
      "name": "python"
    },
    "accelerator": "GPU"
  },
  "cells": [
    {
      "cell_type": "markdown",
      "metadata": {
        "id": "view-in-github",
        "colab_type": "text"
      },
      "source": [
        "<a href=\"https://colab.research.google.com/github/Smjfirna/Arsitektur-Compration/blob/main/VGG16%20final/100.ipynb\" target=\"_parent\"><img src=\"https://colab.research.google.com/assets/colab-badge.svg\" alt=\"Open In Colab\"/></a>"
      ]
    },
    {
      "cell_type": "code",
      "source": [
        "#Preprocessing\n",
        "import os\n",
        "import cv2\n",
        "import numpy as np\n",
        "from tqdm import tqdm\n",
        "from sklearn.model_selection import train_test_split\n",
        "from sklearn.preprocessing import LabelEncoder\n",
        "from keras.utils import to_categorical\n",
        "\n",
        "#Model dan Augmentasi\n",
        "import tensorflow as tf\n",
        "from tensorflow.keras.preprocessing.image import ImageDataGenerator\n",
        "from tensorflow.keras.models import Sequential\n",
        "from tensorflow.keras import layers, Model, regularizers\n",
        "from tensorflow.keras.callbacks import EarlyStopping\n",
        "from tensorflow.keras.layers import Conv2D, MaxPooling2D, Flatten, Dense, GlobalAveragePooling2D, Dropout\n",
        "import os\n",
        "from tensorflow.keras.optimizers import Adam\n",
        "from tensorflow.keras.optimizers import RMSprop\n",
        "from tensorflow.keras.applications import VGG16\n",
        "\n",
        "# Evaluasi\n",
        "import torch\n",
        "import torchvision.models as models\n",
        "from thop import profile\n",
        "from sklearn.metrics import confusion_matrix, classification_report\n",
        "\n",
        "#Visualisasi\n",
        "import matplotlib.pyplot as plt\n",
        "import seaborn as sns\n",
        "import os\n",
        "import cv2\n",
        "import numpy as np\n",
        "from tqdm import tqdm\n",
        "from sklearn.model_selection import train_test_split\n",
        "from sklearn.preprocessing import LabelEncoder\n",
        "from keras.utils import to_categorical"
      ],
      "metadata": {
        "id": "NMN3beIVALVJ"
      },
      "execution_count": 2,
      "outputs": []
    },
    {
      "cell_type": "code",
      "execution_count": 3,
      "metadata": {
        "colab": {
          "base_uri": "https://localhost:8080/",
          "height": 90
        },
        "id": "GK3MPeDN_Ofu",
        "outputId": "360ce68a-89af-438b-c9a8-2d6178d6a0c3"
      },
      "outputs": [
        {
          "output_type": "display_data",
          "data": {
            "text/plain": [
              "<IPython.core.display.HTML object>"
            ],
            "text/html": [
              "\n",
              "     <input type=\"file\" id=\"files-473d4674-5c73-44bb-8f09-260631452f3e\" name=\"files[]\" multiple disabled\n",
              "        style=\"border:none\" />\n",
              "     <output id=\"result-473d4674-5c73-44bb-8f09-260631452f3e\">\n",
              "      Upload widget is only available when the cell has been executed in the\n",
              "      current browser session. Please rerun this cell to enable.\n",
              "      </output>\n",
              "      <script>// Copyright 2017 Google LLC\n",
              "//\n",
              "// Licensed under the Apache License, Version 2.0 (the \"License\");\n",
              "// you may not use this file except in compliance with the License.\n",
              "// You may obtain a copy of the License at\n",
              "//\n",
              "//      http://www.apache.org/licenses/LICENSE-2.0\n",
              "//\n",
              "// Unless required by applicable law or agreed to in writing, software\n",
              "// distributed under the License is distributed on an \"AS IS\" BASIS,\n",
              "// WITHOUT WARRANTIES OR CONDITIONS OF ANY KIND, either express or implied.\n",
              "// See the License for the specific language governing permissions and\n",
              "// limitations under the License.\n",
              "\n",
              "/**\n",
              " * @fileoverview Helpers for google.colab Python module.\n",
              " */\n",
              "(function(scope) {\n",
              "function span(text, styleAttributes = {}) {\n",
              "  const element = document.createElement('span');\n",
              "  element.textContent = text;\n",
              "  for (const key of Object.keys(styleAttributes)) {\n",
              "    element.style[key] = styleAttributes[key];\n",
              "  }\n",
              "  return element;\n",
              "}\n",
              "\n",
              "// Max number of bytes which will be uploaded at a time.\n",
              "const MAX_PAYLOAD_SIZE = 100 * 1024;\n",
              "\n",
              "function _uploadFiles(inputId, outputId) {\n",
              "  const steps = uploadFilesStep(inputId, outputId);\n",
              "  const outputElement = document.getElementById(outputId);\n",
              "  // Cache steps on the outputElement to make it available for the next call\n",
              "  // to uploadFilesContinue from Python.\n",
              "  outputElement.steps = steps;\n",
              "\n",
              "  return _uploadFilesContinue(outputId);\n",
              "}\n",
              "\n",
              "// This is roughly an async generator (not supported in the browser yet),\n",
              "// where there are multiple asynchronous steps and the Python side is going\n",
              "// to poll for completion of each step.\n",
              "// This uses a Promise to block the python side on completion of each step,\n",
              "// then passes the result of the previous step as the input to the next step.\n",
              "function _uploadFilesContinue(outputId) {\n",
              "  const outputElement = document.getElementById(outputId);\n",
              "  const steps = outputElement.steps;\n",
              "\n",
              "  const next = steps.next(outputElement.lastPromiseValue);\n",
              "  return Promise.resolve(next.value.promise).then((value) => {\n",
              "    // Cache the last promise value to make it available to the next\n",
              "    // step of the generator.\n",
              "    outputElement.lastPromiseValue = value;\n",
              "    return next.value.response;\n",
              "  });\n",
              "}\n",
              "\n",
              "/**\n",
              " * Generator function which is called between each async step of the upload\n",
              " * process.\n",
              " * @param {string} inputId Element ID of the input file picker element.\n",
              " * @param {string} outputId Element ID of the output display.\n",
              " * @return {!Iterable<!Object>} Iterable of next steps.\n",
              " */\n",
              "function* uploadFilesStep(inputId, outputId) {\n",
              "  const inputElement = document.getElementById(inputId);\n",
              "  inputElement.disabled = false;\n",
              "\n",
              "  const outputElement = document.getElementById(outputId);\n",
              "  outputElement.innerHTML = '';\n",
              "\n",
              "  const pickedPromise = new Promise((resolve) => {\n",
              "    inputElement.addEventListener('change', (e) => {\n",
              "      resolve(e.target.files);\n",
              "    });\n",
              "  });\n",
              "\n",
              "  const cancel = document.createElement('button');\n",
              "  inputElement.parentElement.appendChild(cancel);\n",
              "  cancel.textContent = 'Cancel upload';\n",
              "  const cancelPromise = new Promise((resolve) => {\n",
              "    cancel.onclick = () => {\n",
              "      resolve(null);\n",
              "    };\n",
              "  });\n",
              "\n",
              "  // Wait for the user to pick the files.\n",
              "  const files = yield {\n",
              "    promise: Promise.race([pickedPromise, cancelPromise]),\n",
              "    response: {\n",
              "      action: 'starting',\n",
              "    }\n",
              "  };\n",
              "\n",
              "  cancel.remove();\n",
              "\n",
              "  // Disable the input element since further picks are not allowed.\n",
              "  inputElement.disabled = true;\n",
              "\n",
              "  if (!files) {\n",
              "    return {\n",
              "      response: {\n",
              "        action: 'complete',\n",
              "      }\n",
              "    };\n",
              "  }\n",
              "\n",
              "  for (const file of files) {\n",
              "    const li = document.createElement('li');\n",
              "    li.append(span(file.name, {fontWeight: 'bold'}));\n",
              "    li.append(span(\n",
              "        `(${file.type || 'n/a'}) - ${file.size} bytes, ` +\n",
              "        `last modified: ${\n",
              "            file.lastModifiedDate ? file.lastModifiedDate.toLocaleDateString() :\n",
              "                                    'n/a'} - `));\n",
              "    const percent = span('0% done');\n",
              "    li.appendChild(percent);\n",
              "\n",
              "    outputElement.appendChild(li);\n",
              "\n",
              "    const fileDataPromise = new Promise((resolve) => {\n",
              "      const reader = new FileReader();\n",
              "      reader.onload = (e) => {\n",
              "        resolve(e.target.result);\n",
              "      };\n",
              "      reader.readAsArrayBuffer(file);\n",
              "    });\n",
              "    // Wait for the data to be ready.\n",
              "    let fileData = yield {\n",
              "      promise: fileDataPromise,\n",
              "      response: {\n",
              "        action: 'continue',\n",
              "      }\n",
              "    };\n",
              "\n",
              "    // Use a chunked sending to avoid message size limits. See b/62115660.\n",
              "    let position = 0;\n",
              "    do {\n",
              "      const length = Math.min(fileData.byteLength - position, MAX_PAYLOAD_SIZE);\n",
              "      const chunk = new Uint8Array(fileData, position, length);\n",
              "      position += length;\n",
              "\n",
              "      const base64 = btoa(String.fromCharCode.apply(null, chunk));\n",
              "      yield {\n",
              "        response: {\n",
              "          action: 'append',\n",
              "          file: file.name,\n",
              "          data: base64,\n",
              "        },\n",
              "      };\n",
              "\n",
              "      let percentDone = fileData.byteLength === 0 ?\n",
              "          100 :\n",
              "          Math.round((position / fileData.byteLength) * 100);\n",
              "      percent.textContent = `${percentDone}% done`;\n",
              "\n",
              "    } while (position < fileData.byteLength);\n",
              "  }\n",
              "\n",
              "  // All done.\n",
              "  yield {\n",
              "    response: {\n",
              "      action: 'complete',\n",
              "    }\n",
              "  };\n",
              "}\n",
              "\n",
              "scope.google = scope.google || {};\n",
              "scope.google.colab = scope.google.colab || {};\n",
              "scope.google.colab._files = {\n",
              "  _uploadFiles,\n",
              "  _uploadFilesContinue,\n",
              "};\n",
              "})(self);\n",
              "</script> "
            ]
          },
          "metadata": {}
        },
        {
          "output_type": "stream",
          "name": "stdout",
          "text": [
            "Saving kaggle.json to kaggle.json\n"
          ]
        },
        {
          "output_type": "execute_result",
          "data": {
            "text/plain": [
              "{'kaggle.json': b'{\"username\":\"smjayyy\",\"key\":\"8eb172e224d83c7b56b4a2ef349b7c0d\"}'}"
            ]
          },
          "metadata": {},
          "execution_count": 3
        }
      ],
      "source": [
        "from google.colab import files\n",
        "files.upload()"
      ]
    },
    {
      "cell_type": "code",
      "source": [
        "!mkdir -p ~/.kaggle\n",
        "!cp kaggle.json ~/.kaggle/\n",
        "!chmod 600 ~/.kaggle/kaggle.json"
      ],
      "metadata": {
        "id": "Y9Kia11G_5Si"
      },
      "execution_count": 4,
      "outputs": []
    },
    {
      "cell_type": "code",
      "source": [
        "##link dataset in Kaggle.com\n",
        "!kaggle datasets download -d smaranjitghose/corn-or-maize-leaf-disease-dataset"
      ],
      "metadata": {
        "colab": {
          "base_uri": "https://localhost:8080/"
        },
        "id": "apfKVlxj_8FJ",
        "outputId": "d1ee38e6-32dc-4e6c-ec45-d9a9293eb4ef"
      },
      "execution_count": 5,
      "outputs": [
        {
          "output_type": "stream",
          "name": "stdout",
          "text": [
            "Dataset URL: https://www.kaggle.com/datasets/smaranjitghose/corn-or-maize-leaf-disease-dataset\n",
            "License(s): copyright-authors\n",
            "Downloading corn-or-maize-leaf-disease-dataset.zip to /content\n",
            " 86% 138M/161M [00:00<00:00, 197MB/s]\n",
            "100% 161M/161M [00:00<00:00, 207MB/s]\n"
          ]
        }
      ]
    },
    {
      "cell_type": "code",
      "source": [
        "!unzip -q corn-or-maize-leaf-disease-dataset.zip -d /content"
      ],
      "metadata": {
        "id": "ixMUoB2rAAd3"
      },
      "execution_count": 6,
      "outputs": []
    },
    {
      "cell_type": "code",
      "source": [
        "dataset_dir = '/content/data'"
      ],
      "metadata": {
        "id": "pZ8IerIQAGFO"
      },
      "execution_count": 7,
      "outputs": []
    },
    {
      "cell_type": "code",
      "source": [
        "print(os.listdir(dataset_dir))"
      ],
      "metadata": {
        "colab": {
          "base_uri": "https://localhost:8080/"
        },
        "id": "9wwka8QaAIcj",
        "outputId": "7258d52d-ac2d-4af0-baa0-c21f981b070a"
      },
      "execution_count": 8,
      "outputs": [
        {
          "output_type": "stream",
          "name": "stdout",
          "text": [
            "['Gray_Leaf_Spot', 'Healthy', 'Blight', 'Common_Rust']\n"
          ]
        }
      ]
    },
    {
      "cell_type": "code",
      "source": [
        "IMAGE_SIZE_vgg16 = 224"
      ],
      "metadata": {
        "id": "_UCEuA-hAPSa"
      },
      "execution_count": 9,
      "outputs": []
    },
    {
      "cell_type": "code",
      "source": [
        "def make_data(label, DIR, img_list, label_list):\n",
        "    for img in tqdm(os.listdir(DIR)):\n",
        "        path = os.path.join(DIR, img)\n",
        "        img = cv2.imread(path, cv2.IMREAD_COLOR)\n",
        "        img = cv2.resize(img, (IMAGE_SIZE_vgg16, IMAGE_SIZE_vgg16))\n",
        "        img_list.append(np.array(img))\n",
        "        label_list.append(str(label))"
      ],
      "metadata": {
        "id": "B3menIgvARk5"
      },
      "execution_count": 10,
      "outputs": []
    },
    {
      "cell_type": "code",
      "source": [
        "X = []\n",
        "Z = []"
      ],
      "metadata": {
        "id": "Jn6gWefxATyU"
      },
      "execution_count": 11,
      "outputs": []
    },
    {
      "cell_type": "code",
      "source": [
        "for i, class_name in enumerate(['Common_Rust', 'Healthy', 'Gray_Leaf_Spot', 'Blight']):\n",
        "    class_dir = os.path.join(dataset_dir, class_name)\n",
        "    make_data(class_name, class_dir, X, Z)"
      ],
      "metadata": {
        "colab": {
          "base_uri": "https://localhost:8080/"
        },
        "id": "S9-RQTGJAWCk",
        "outputId": "b6b36675-0932-4b5b-ba0d-da7f9aaf8c79"
      },
      "execution_count": 12,
      "outputs": [
        {
          "output_type": "stream",
          "name": "stderr",
          "text": [
            "100%|██████████| 1306/1306 [00:04<00:00, 307.72it/s]\n",
            "100%|██████████| 1162/1162 [00:01<00:00, 898.50it/s]\n",
            "100%|██████████| 574/574 [00:01<00:00, 347.05it/s]\n",
            "100%|██████████| 1146/1146 [00:05<00:00, 197.58it/s]\n"
          ]
        }
      ]
    },
    {
      "cell_type": "code",
      "source": [
        "import matplotlib.pyplot as plt\n",
        "\n",
        "# Menghitung jumlah data untuk setiap kelas\n",
        "class_counts = {class_name: Z.count(class_name) for class_name in set(Z)}\n",
        "\n",
        "# Menampilkan visualisasi jumlah data\n",
        "plt.figure(figsize=(8, 6))\n",
        "plt.bar(class_counts.keys(), class_counts.values())\n",
        "plt.xlabel('Class')\n",
        "plt.ylabel('Count')\n",
        "plt.title('Number of Data Samples for Each Class')\n",
        "plt.show()"
      ],
      "metadata": {
        "colab": {
          "base_uri": "https://localhost:8080/",
          "height": 564
        },
        "id": "-IcXHIM8Akcw",
        "outputId": "2c9aa98e-20c0-446c-d574-1d7d1ffe18eb"
      },
      "execution_count": 13,
      "outputs": [
        {
          "output_type": "display_data",
          "data": {
            "text/plain": [
              "<Figure size 800x600 with 1 Axes>"
            ],
            "image/png": "[encoded data removed]"
          },
          "metadata": {}
        }
      ]
    },
    {
      "cell_type": "code",
      "source": [
        "le = LabelEncoder()\n",
        "Y = le.fit_transform(Z)\n",
        "Y = to_categorical(Y, num_classes=len(le.classes_))\n",
        "\n",
        "# Konversi ke array numpy\n",
        "X = np.array(X)\n",
        "\n",
        "# Memisahkan data menjadi data latih dan data uji\n",
        "X_train, X_test, Y_train, Y_test = train_test_split(X, Y, test_size=0.2, random_state=42)\n",
        "\n",
        "print(\"Jumlah Data Train adalah :\", len(X_train))\n",
        "print(\"Jumlah Data Test adalah :\", len(X_test))"
      ],
      "metadata": {
        "colab": {
          "base_uri": "https://localhost:8080/"
        },
        "id": "OI7kvVbXAqko",
        "outputId": "b014fc1e-344c-4c5b-91bf-5469ee01231b"
      },
      "execution_count": 14,
      "outputs": [
        {
          "output_type": "stream",
          "name": "stdout",
          "text": [
            "Jumlah Data Train adalah : 3350\n",
            "Jumlah Data Test adalah : 838\n"
          ]
        }
      ]
    },
    {
      "cell_type": "code",
      "source": [
        "datagen = ImageDataGenerator(\n",
        "    rotation_range=20,  # Rotasi gambar hingga 40 derajat\n",
        "    zoom_range=0.2,  # Zoom-in/Zoom-out gambar\n",
        "    horizontal_flip=True,  # Flipping horizontal gambar\n",
        "    vertical_flip=True\n",
        ")\n",
        "\n",
        "datagen.fit(X_train)"
      ],
      "metadata": {
        "id": "ue5XLCIlA2ld"
      },
      "execution_count": 15,
      "outputs": []
    },
    {
      "cell_type": "code",
      "source": [
        "vgg16 = VGG16(weights='imagenet', include_top=False, input_shape=(IMAGE_SIZE_vgg16, IMAGE_SIZE_vgg16, 3))\n",
        "\n",
        "# Membuat model Sequential\n",
        "model_vgg16 = Sequential()\n",
        "model_vgg16.add(vgg16)\n",
        "model_vgg16.add(GlobalAveragePooling2D())\n",
        "model_vgg16.add(Dense(4, activation='softmax'))\n",
        "\n",
        "for layer in vgg16.layers:\n",
        "    layer.trainable = False\n",
        "\n",
        "model_vgg16.compile(optimizer=Adam(learning_rate=1e-4), loss='categorical_crossentropy', metrics=['accuracy'])\n",
        "\n",
        "model_vgg16.summary()\n",
        "\n",
        "history_resnet50ver2 = model_vgg16.fit(datagen.flow(X_train, Y_train), epochs=100, validation_data=(X_test, Y_test))"
      ],
      "metadata": {
        "id": "qg6h8yY_A62R",
        "colab": {
          "base_uri": "https://localhost:8080/"
        },
        "outputId": "18821ca8-0ad0-4a1d-ba16-3cd5519d9206"
      },
      "execution_count": 16,
      "outputs": [
        {
          "output_type": "stream",
          "name": "stdout",
          "text": [
            "Downloading data from https://storage.googleapis.com/tensorflow/keras-applications/vgg16/vgg16_weights_tf_dim_ordering_tf_kernels_notop.h5\n",
            "58889256/58889256 [==============================] - 0s 0us/step\n",
            "Model: \"sequential\"\n",
            "_________________________________________________________________\n",
            " Layer (type)                Output Shape              Param #   \n",
            "=================================================================\n",
            " vgg16 (Functional)          (None, 7, 7, 512)         14714688  \n",
            "                                                                 \n",
            " global_average_pooling2d (  (None, 512)               0         \n",
            " GlobalAveragePooling2D)                                         \n",
            "                                                                 \n",
            " dense (Dense)               (None, 4)                 2052      \n",
            "                                                                 \n",
            "=================================================================\n",
            "Total params: 14716740 (56.14 MB)\n",
            "Trainable params: 2052 (8.02 KB)\n",
            "Non-trainable params: 14714688 (56.13 MB)\n",
            "_________________________________________________________________\n",
            "Epoch 1/100\n",
            "105/105 [==============================] - 68s 544ms/step - loss: 2.3721 - accuracy: 0.4346 - val_loss: 1.8832 - val_accuracy: 0.5597\n",
            "Epoch 2/100\n",
            "105/105 [==============================] - 44s 423ms/step - loss: 1.3986 - accuracy: 0.5997 - val_loss: 1.2705 - val_accuracy: 0.6742\n",
            "Epoch 3/100\n",
            "105/105 [==============================] - 42s 402ms/step - loss: 1.0582 - accuracy: 0.6788 - val_loss: 0.9929 - val_accuracy: 0.7446\n",
            "Epoch 4/100\n",
            "105/105 [==============================] - 45s 428ms/step - loss: 0.8714 - accuracy: 0.7400 - val_loss: 0.8143 - val_accuracy: 0.7900\n",
            "Epoch 5/100\n",
            "105/105 [==============================] - 43s 406ms/step - loss: 0.7342 - accuracy: 0.7696 - val_loss: 0.7047 - val_accuracy: 0.8115\n",
            "Epoch 6/100\n",
            "105/105 [==============================] - 42s 404ms/step - loss: 0.6961 - accuracy: 0.7884 - val_loss: 0.6195 - val_accuracy: 0.8162\n",
            "Epoch 7/100\n",
            "105/105 [==============================] - 42s 398ms/step - loss: 0.5830 - accuracy: 0.8176 - val_loss: 0.5981 - val_accuracy: 0.8305\n",
            "Epoch 8/100\n",
            "105/105 [==============================] - 42s 401ms/step - loss: 0.5381 - accuracy: 0.8230 - val_loss: 0.5546 - val_accuracy: 0.8484\n",
            "Epoch 9/100\n",
            "105/105 [==============================] - 44s 418ms/step - loss: 0.5348 - accuracy: 0.8296 - val_loss: 0.5103 - val_accuracy: 0.8544\n",
            "Epoch 10/100\n",
            "105/105 [==============================] - 42s 398ms/step - loss: 0.5054 - accuracy: 0.8385 - val_loss: 0.4848 - val_accuracy: 0.8616\n",
            "Epoch 11/100\n",
            "105/105 [==============================] - 42s 402ms/step - loss: 0.4643 - accuracy: 0.8555 - val_loss: 0.4442 - val_accuracy: 0.8616\n",
            "Epoch 12/100\n",
            "105/105 [==============================] - 44s 412ms/step - loss: 0.4487 - accuracy: 0.8507 - val_loss: 0.4383 - val_accuracy: 0.8747\n",
            "Epoch 13/100\n",
            "105/105 [==============================] - 42s 401ms/step - loss: 0.4286 - accuracy: 0.8597 - val_loss: 0.4289 - val_accuracy: 0.8735\n",
            "Epoch 14/100\n",
            "105/105 [==============================] - 45s 428ms/step - loss: 0.4102 - accuracy: 0.8642 - val_loss: 0.4041 - val_accuracy: 0.8819\n",
            "Epoch 15/100\n",
            "105/105 [==============================] - 42s 403ms/step - loss: 0.4091 - accuracy: 0.8633 - val_loss: 0.3882 - val_accuracy: 0.8819\n",
            "Epoch 16/100\n",
            "105/105 [==============================] - 43s 404ms/step - loss: 0.3803 - accuracy: 0.8719 - val_loss: 0.4214 - val_accuracy: 0.8759\n",
            "Epoch 17/100\n",
            "105/105 [==============================] - 43s 410ms/step - loss: 0.3899 - accuracy: 0.8713 - val_loss: 0.3759 - val_accuracy: 0.8878\n",
            "Epoch 18/100\n",
            "105/105 [==============================] - 45s 424ms/step - loss: 0.3685 - accuracy: 0.8791 - val_loss: 0.3536 - val_accuracy: 0.8914\n",
            "Epoch 19/100\n",
            "105/105 [==============================] - 44s 420ms/step - loss: 0.3698 - accuracy: 0.8740 - val_loss: 0.3478 - val_accuracy: 0.8974\n",
            "Epoch 20/100\n",
            "105/105 [==============================] - 44s 423ms/step - loss: 0.3700 - accuracy: 0.8782 - val_loss: 0.3426 - val_accuracy: 0.8950\n",
            "Epoch 21/100\n",
            "105/105 [==============================] - 43s 405ms/step - loss: 0.3380 - accuracy: 0.8875 - val_loss: 0.3599 - val_accuracy: 0.8950\n",
            "Epoch 22/100\n",
            "105/105 [==============================] - 44s 417ms/step - loss: 0.3440 - accuracy: 0.8881 - val_loss: 0.3374 - val_accuracy: 0.8962\n",
            "Epoch 23/100\n",
            "105/105 [==============================] - 43s 405ms/step - loss: 0.3221 - accuracy: 0.8961 - val_loss: 0.3458 - val_accuracy: 0.8974\n",
            "Epoch 24/100\n",
            "105/105 [==============================] - 44s 417ms/step - loss: 0.3337 - accuracy: 0.8821 - val_loss: 0.3230 - val_accuracy: 0.8962\n",
            "Epoch 25/100\n",
            "105/105 [==============================] - 44s 423ms/step - loss: 0.3344 - accuracy: 0.8863 - val_loss: 0.3244 - val_accuracy: 0.8962\n",
            "Epoch 26/100\n",
            "105/105 [==============================] - 43s 405ms/step - loss: 0.2947 - accuracy: 0.8994 - val_loss: 0.3273 - val_accuracy: 0.8986\n",
            "Epoch 27/100\n",
            "105/105 [==============================] - 42s 402ms/step - loss: 0.3158 - accuracy: 0.8934 - val_loss: 0.3149 - val_accuracy: 0.8998\n",
            "Epoch 28/100\n",
            "105/105 [==============================] - 44s 422ms/step - loss: 0.2858 - accuracy: 0.8961 - val_loss: 0.3135 - val_accuracy: 0.8986\n",
            "Epoch 29/100\n",
            "105/105 [==============================] - 43s 408ms/step - loss: 0.2982 - accuracy: 0.8952 - val_loss: 0.3152 - val_accuracy: 0.8986\n",
            "Epoch 30/100\n",
            "105/105 [==============================] - 43s 405ms/step - loss: 0.2949 - accuracy: 0.8928 - val_loss: 0.2992 - val_accuracy: 0.9010\n",
            "Epoch 31/100\n",
            "105/105 [==============================] - 43s 405ms/step - loss: 0.2819 - accuracy: 0.9000 - val_loss: 0.3042 - val_accuracy: 0.9010\n",
            "Epoch 32/100\n",
            "105/105 [==============================] - 42s 402ms/step - loss: 0.2880 - accuracy: 0.8913 - val_loss: 0.2901 - val_accuracy: 0.9033\n",
            "Epoch 33/100\n",
            "105/105 [==============================] - 44s 421ms/step - loss: 0.2655 - accuracy: 0.9042 - val_loss: 0.2853 - val_accuracy: 0.9057\n",
            "Epoch 34/100\n",
            "105/105 [==============================] - 42s 402ms/step - loss: 0.2735 - accuracy: 0.9000 - val_loss: 0.2859 - val_accuracy: 0.9021\n",
            "Epoch 35/100\n",
            "105/105 [==============================] - 48s 456ms/step - loss: 0.2595 - accuracy: 0.9072 - val_loss: 0.2821 - val_accuracy: 0.9069\n",
            "Epoch 36/100\n",
            "105/105 [==============================] - 45s 425ms/step - loss: 0.2562 - accuracy: 0.9054 - val_loss: 0.2915 - val_accuracy: 0.9093\n",
            "Epoch 37/100\n",
            "105/105 [==============================] - 42s 400ms/step - loss: 0.2542 - accuracy: 0.9110 - val_loss: 0.2866 - val_accuracy: 0.9105\n",
            "Epoch 38/100\n",
            "105/105 [==============================] - 45s 432ms/step - loss: 0.2464 - accuracy: 0.9104 - val_loss: 0.2892 - val_accuracy: 0.9105\n",
            "Epoch 39/100\n",
            "105/105 [==============================] - 42s 400ms/step - loss: 0.2467 - accuracy: 0.9113 - val_loss: 0.2781 - val_accuracy: 0.9093\n",
            "Epoch 40/100\n",
            "105/105 [==============================] - 43s 405ms/step - loss: 0.2522 - accuracy: 0.9099 - val_loss: 0.2826 - val_accuracy: 0.9093\n",
            "Epoch 41/100\n",
            "105/105 [==============================] - 45s 432ms/step - loss: 0.2608 - accuracy: 0.9039 - val_loss: 0.2855 - val_accuracy: 0.9093\n",
            "Epoch 42/100\n",
            "105/105 [==============================] - 42s 398ms/step - loss: 0.2471 - accuracy: 0.9137 - val_loss: 0.2842 - val_accuracy: 0.9081\n",
            "Epoch 43/100\n",
            "105/105 [==============================] - 44s 419ms/step - loss: 0.2425 - accuracy: 0.9104 - val_loss: 0.2720 - val_accuracy: 0.9069\n",
            "Epoch 44/100\n",
            "105/105 [==============================] - 42s 398ms/step - loss: 0.2419 - accuracy: 0.9096 - val_loss: 0.2772 - val_accuracy: 0.9069\n",
            "Epoch 45/100\n",
            "105/105 [==============================] - 44s 418ms/step - loss: 0.2496 - accuracy: 0.9078 - val_loss: 0.2687 - val_accuracy: 0.9093\n",
            "Epoch 46/100\n",
            "105/105 [==============================] - 45s 427ms/step - loss: 0.2358 - accuracy: 0.9110 - val_loss: 0.2745 - val_accuracy: 0.9093\n",
            "Epoch 47/100\n",
            "105/105 [==============================] - 45s 424ms/step - loss: 0.2228 - accuracy: 0.9164 - val_loss: 0.2704 - val_accuracy: 0.9093\n",
            "Epoch 48/100\n",
            "105/105 [==============================] - 46s 435ms/step - loss: 0.2296 - accuracy: 0.9122 - val_loss: 0.2742 - val_accuracy: 0.9081\n",
            "Epoch 49/100\n",
            "105/105 [==============================] - 52s 496ms/step - loss: 0.2299 - accuracy: 0.9167 - val_loss: 0.2647 - val_accuracy: 0.9117\n",
            "Epoch 50/100\n",
            "105/105 [==============================] - 46s 435ms/step - loss: 0.2146 - accuracy: 0.9158 - val_loss: 0.2632 - val_accuracy: 0.9105\n",
            "Epoch 51/100\n",
            "105/105 [==============================] - 45s 426ms/step - loss: 0.2240 - accuracy: 0.9173 - val_loss: 0.2611 - val_accuracy: 0.9129\n",
            "Epoch 52/100\n",
            "105/105 [==============================] - 43s 408ms/step - loss: 0.2188 - accuracy: 0.9194 - val_loss: 0.2585 - val_accuracy: 0.9153\n",
            "Epoch 53/100\n",
            "105/105 [==============================] - 42s 398ms/step - loss: 0.2166 - accuracy: 0.9176 - val_loss: 0.2585 - val_accuracy: 0.9141\n",
            "Epoch 54/100\n",
            "105/105 [==============================] - 43s 411ms/step - loss: 0.2221 - accuracy: 0.9194 - val_loss: 0.2497 - val_accuracy: 0.9165\n",
            "Epoch 55/100\n",
            "105/105 [==============================] - 46s 442ms/step - loss: 0.2244 - accuracy: 0.9090 - val_loss: 0.2554 - val_accuracy: 0.9177\n",
            "Epoch 56/100\n",
            "105/105 [==============================] - 45s 430ms/step - loss: 0.2190 - accuracy: 0.9188 - val_loss: 0.2559 - val_accuracy: 0.9129\n",
            "Epoch 57/100\n",
            "105/105 [==============================] - 45s 428ms/step - loss: 0.2243 - accuracy: 0.9161 - val_loss: 0.2541 - val_accuracy: 0.9165\n",
            "Epoch 58/100\n",
            "105/105 [==============================] - 45s 428ms/step - loss: 0.2226 - accuracy: 0.9167 - val_loss: 0.2489 - val_accuracy: 0.9177\n",
            "Epoch 59/100\n",
            "105/105 [==============================] - 46s 441ms/step - loss: 0.2091 - accuracy: 0.9218 - val_loss: 0.2559 - val_accuracy: 0.9117\n",
            "Epoch 60/100\n",
            "105/105 [==============================] - 44s 421ms/step - loss: 0.1967 - accuracy: 0.9248 - val_loss: 0.2527 - val_accuracy: 0.9105\n",
            "Epoch 61/100\n",
            "105/105 [==============================] - 45s 424ms/step - loss: 0.1899 - accuracy: 0.9296 - val_loss: 0.2503 - val_accuracy: 0.9153\n",
            "Epoch 62/100\n",
            "105/105 [==============================] - 43s 413ms/step - loss: 0.2006 - accuracy: 0.9245 - val_loss: 0.2428 - val_accuracy: 0.9177\n",
            "Epoch 63/100\n",
            "105/105 [==============================] - 42s 404ms/step - loss: 0.2028 - accuracy: 0.9221 - val_loss: 0.2430 - val_accuracy: 0.9189\n",
            "Epoch 64/100\n",
            "105/105 [==============================] - 43s 406ms/step - loss: 0.1974 - accuracy: 0.9212 - val_loss: 0.2469 - val_accuracy: 0.9165\n",
            "Epoch 65/100\n",
            "105/105 [==============================] - 42s 400ms/step - loss: 0.1959 - accuracy: 0.9290 - val_loss: 0.2428 - val_accuracy: 0.9165\n",
            "Epoch 66/100\n",
            "105/105 [==============================] - 44s 418ms/step - loss: 0.2046 - accuracy: 0.9221 - val_loss: 0.2395 - val_accuracy: 0.9224\n",
            "Epoch 67/100\n",
            "105/105 [==============================] - 45s 429ms/step - loss: 0.1883 - accuracy: 0.9248 - val_loss: 0.2424 - val_accuracy: 0.9153\n",
            "Epoch 68/100\n",
            "105/105 [==============================] - 43s 409ms/step - loss: 0.2077 - accuracy: 0.9203 - val_loss: 0.2412 - val_accuracy: 0.9177\n",
            "Epoch 69/100\n",
            "105/105 [==============================] - 44s 422ms/step - loss: 0.2050 - accuracy: 0.9212 - val_loss: 0.2400 - val_accuracy: 0.9177\n",
            "Epoch 70/100\n",
            "105/105 [==============================] - 44s 418ms/step - loss: 0.2040 - accuracy: 0.9203 - val_loss: 0.2366 - val_accuracy: 0.9189\n",
            "Epoch 71/100\n",
            "105/105 [==============================] - 43s 407ms/step - loss: 0.1905 - accuracy: 0.9281 - val_loss: 0.2323 - val_accuracy: 0.9200\n",
            "Epoch 72/100\n",
            "105/105 [==============================] - 42s 398ms/step - loss: 0.1785 - accuracy: 0.9301 - val_loss: 0.2377 - val_accuracy: 0.9153\n",
            "Epoch 73/100\n",
            "105/105 [==============================] - 43s 406ms/step - loss: 0.1860 - accuracy: 0.9257 - val_loss: 0.2358 - val_accuracy: 0.9189\n",
            "Epoch 74/100\n",
            "105/105 [==============================] - 42s 400ms/step - loss: 0.1958 - accuracy: 0.9251 - val_loss: 0.2352 - val_accuracy: 0.9189\n",
            "Epoch 75/100\n",
            "105/105 [==============================] - 43s 409ms/step - loss: 0.1962 - accuracy: 0.9203 - val_loss: 0.2341 - val_accuracy: 0.9212\n",
            "Epoch 76/100\n",
            "105/105 [==============================] - 42s 400ms/step - loss: 0.1923 - accuracy: 0.9248 - val_loss: 0.2379 - val_accuracy: 0.9200\n",
            "Epoch 77/100\n",
            "105/105 [==============================] - 42s 397ms/step - loss: 0.1757 - accuracy: 0.9337 - val_loss: 0.2332 - val_accuracy: 0.9236\n",
            "Epoch 78/100\n",
            "105/105 [==============================] - 46s 432ms/step - loss: 0.1873 - accuracy: 0.9281 - val_loss: 0.2328 - val_accuracy: 0.9177\n",
            "Epoch 79/100\n",
            "105/105 [==============================] - 42s 397ms/step - loss: 0.1880 - accuracy: 0.9227 - val_loss: 0.2320 - val_accuracy: 0.9224\n",
            "Epoch 80/100\n",
            "105/105 [==============================] - 42s 397ms/step - loss: 0.1923 - accuracy: 0.9257 - val_loss: 0.2380 - val_accuracy: 0.9200\n",
            "Epoch 81/100\n",
            "105/105 [==============================] - 42s 398ms/step - loss: 0.1816 - accuracy: 0.9301 - val_loss: 0.2330 - val_accuracy: 0.9212\n",
            "Epoch 82/100\n",
            "105/105 [==============================] - 45s 429ms/step - loss: 0.1975 - accuracy: 0.9239 - val_loss: 0.2277 - val_accuracy: 0.9224\n",
            "Epoch 83/100\n",
            "105/105 [==============================] - 46s 436ms/step - loss: 0.1732 - accuracy: 0.9328 - val_loss: 0.2323 - val_accuracy: 0.9212\n",
            "Epoch 84/100\n",
            "105/105 [==============================] - 42s 403ms/step - loss: 0.1724 - accuracy: 0.9296 - val_loss: 0.2278 - val_accuracy: 0.9224\n",
            "Epoch 85/100\n",
            "105/105 [==============================] - 45s 425ms/step - loss: 0.1748 - accuracy: 0.9337 - val_loss: 0.2257 - val_accuracy: 0.9236\n",
            "Epoch 86/100\n",
            "105/105 [==============================] - 46s 437ms/step - loss: 0.1694 - accuracy: 0.9382 - val_loss: 0.2230 - val_accuracy: 0.9224\n",
            "Epoch 87/100\n",
            "105/105 [==============================] - 44s 417ms/step - loss: 0.1710 - accuracy: 0.9364 - val_loss: 0.2243 - val_accuracy: 0.9224\n",
            "Epoch 88/100\n",
            "105/105 [==============================] - 44s 423ms/step - loss: 0.1795 - accuracy: 0.9325 - val_loss: 0.2316 - val_accuracy: 0.9200\n",
            "Epoch 89/100\n",
            "105/105 [==============================] - 42s 399ms/step - loss: 0.1743 - accuracy: 0.9337 - val_loss: 0.2311 - val_accuracy: 0.9189\n",
            "Epoch 90/100\n",
            "105/105 [==============================] - 44s 419ms/step - loss: 0.1753 - accuracy: 0.9325 - val_loss: 0.2239 - val_accuracy: 0.9236\n",
            "Epoch 91/100\n",
            "105/105 [==============================] - 45s 428ms/step - loss: 0.1780 - accuracy: 0.9319 - val_loss: 0.2209 - val_accuracy: 0.9260\n",
            "Epoch 92/100\n",
            "105/105 [==============================] - 42s 403ms/step - loss: 0.1767 - accuracy: 0.9284 - val_loss: 0.2227 - val_accuracy: 0.9224\n",
            "Epoch 93/100\n",
            "105/105 [==============================] - 43s 411ms/step - loss: 0.1787 - accuracy: 0.9313 - val_loss: 0.2228 - val_accuracy: 0.9200\n",
            "Epoch 94/100\n",
            "105/105 [==============================] - 45s 429ms/step - loss: 0.1721 - accuracy: 0.9325 - val_loss: 0.2245 - val_accuracy: 0.9224\n",
            "Epoch 95/100\n",
            "105/105 [==============================] - 43s 407ms/step - loss: 0.1655 - accuracy: 0.9322 - val_loss: 0.2279 - val_accuracy: 0.9224\n",
            "Epoch 96/100\n",
            "105/105 [==============================] - 44s 418ms/step - loss: 0.1675 - accuracy: 0.9367 - val_loss: 0.2310 - val_accuracy: 0.9236\n",
            "Epoch 97/100\n",
            "105/105 [==============================] - 43s 406ms/step - loss: 0.1666 - accuracy: 0.9355 - val_loss: 0.2224 - val_accuracy: 0.9224\n",
            "Epoch 98/100\n",
            "105/105 [==============================] - 43s 412ms/step - loss: 0.1776 - accuracy: 0.9301 - val_loss: 0.2238 - val_accuracy: 0.9236\n",
            "Epoch 99/100\n",
            "105/105 [==============================] - 44s 416ms/step - loss: 0.1620 - accuracy: 0.9337 - val_loss: 0.2233 - val_accuracy: 0.9200\n",
            "Epoch 100/100\n",
            "105/105 [==============================] - 44s 421ms/step - loss: 0.1699 - accuracy: 0.9349 - val_loss: 0.2375 - val_accuracy: 0.9224\n"
          ]
        }
      ]
    },
    {
      "cell_type": "code",
      "source": [
        "Y_pred = model_vgg16.predict(X_test)\n",
        "Y_pred_classes = np.argmax(Y_pred, axis=1)\n",
        "Y_true = np.argmax(Y_test, axis=1)\n",
        "\n",
        "conf_matrix = confusion_matrix(Y_true, Y_pred_classes)\n",
        "\n",
        "plt.figure(figsize=(8, 6))\n",
        "sns.heatmap(conf_matrix, annot=True, fmt=\"d\", cmap=\"Blues\", xticklabels=['Common_Rust', 'Healthy', 'Gray_Leaf_Spot', 'Blight'], yticklabels=['Common_Rust', 'Healthy', 'Gray_Leaf_Spot', 'Blight'])\n",
        "plt.xlabel('Predicted labels')\n",
        "plt.ylabel('True labels')\n",
        "plt.title('Confusion Matrix')\n",
        "plt.show()\n",
        "\n",
        "class_report = classification_report(Y_true, Y_pred_classes)\n",
        "\n",
        "print(\"\\nClassification Report:\")\n",
        "print(class_report)"
      ],
      "metadata": {
        "id": "W2svXyjyTjeo",
        "colab": {
          "base_uri": "https://localhost:8080/",
          "height": 807
        },
        "outputId": "3bbb0a3c-f116-4495-8e31-54c5883a9472"
      },
      "execution_count": 17,
      "outputs": [
        {
          "output_type": "stream",
          "name": "stdout",
          "text": [
            "27/27 [==============================] - 3s 116ms/step\n"
          ]
        },
        {
          "output_type": "display_data",
          "data": {
            "text/plain": [
              "<Figure size 800x600 with 2 Axes>"
            ],
            "image/png": "[encoded data removed]"
          },
          "metadata": {}
        },
        {
          "output_type": "stream",
          "name": "stdout",
          "text": [
            "\n",
            "Classification Report:\n",
            "              precision    recall  f1-score   support\n",
            "\n",
            "           0       0.82      0.93      0.87       218\n",
            "           1       0.97      0.97      0.97       289\n",
            "           2       0.84      0.68      0.75       104\n",
            "           3       1.00      0.97      0.98       227\n",
            "\n",
            "    accuracy                           0.92       838\n",
            "   macro avg       0.91      0.89      0.89       838\n",
            "weighted avg       0.92      0.92      0.92       838\n",
            "\n"
          ]
        }
      ]
    },
    {
      "cell_type": "code",
      "source": [
        "model = models.vgg16()\n",
        "\n",
        "input = torch.randn(1, 3, 224, 224)\n",
        "\n",
        "flops, params = profile(model, inputs=(input, ))\n",
        "print(f\"Estimasi FLOPS: {flops}\")"
      ],
      "metadata": {
        "colab": {
          "base_uri": "https://localhost:8080/"
        },
        "id": "Wh5Kms7I8aFi",
        "outputId": "3752444c-9272-4794-cbc5-6aef476e99e6"
      },
      "execution_count": 18,
      "outputs": [
        {
          "output_type": "stream",
          "name": "stdout",
          "text": [
            "[INFO] Register count_convNd() for <class 'torch.nn.modules.conv.Conv2d'>.\n",
            "[INFO] Register zero_ops() for <class 'torch.nn.modules.activation.ReLU'>.\n",
            "[INFO] Register zero_ops() for <class 'torch.nn.modules.pooling.MaxPool2d'>.\n",
            "[INFO] Register zero_ops() for <class 'torch.nn.modules.container.Sequential'>.\n",
            "[INFO] Register count_adap_avgpool() for <class 'torch.nn.modules.pooling.AdaptiveAvgPool2d'>.\n",
            "[INFO] Register count_linear() for <class 'torch.nn.modules.linear.Linear'>.\n",
            "[INFO] Register zero_ops() for <class 'torch.nn.modules.dropout.Dropout'>.\n",
            "Estimasi FLOPS: 15470314496.0\n"
          ]
        }
      ]
    }
  ]
}
