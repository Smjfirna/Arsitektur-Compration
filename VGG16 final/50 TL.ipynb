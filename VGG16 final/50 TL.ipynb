{
  "nbformat": 4,
  "nbformat_minor": 0,
  "metadata": {
    "colab": {
      "provenance": [],
      "gpuType": "T4",
      "authorship_tag": "ABX9TyMTsG4Ll11uvJxXHGCuUjxX",
      "include_colab_link": true
    },
    "kernelspec": {
      "name": "python3",
      "display_name": "Python 3"
    },
    "language_info": {
      "name": "python"
    },
    "accelerator": "GPU"
  },
  "cells": [
    {
      "cell_type": "markdown",
      "metadata": {
        "id": "view-in-github",
        "colab_type": "text"
      },
      "source": [
        "<a href=\"https://colab.research.google.com/github/Smjfirna/Arsitektur-Compration/blob/main/VGG16%20final/50.ipynb\" target=\"_parent\"><img src=\"https://colab.research.google.com/assets/colab-badge.svg\" alt=\"Open In Colab\"/></a>"
      ]
    },
    {
      "cell_type": "code",
      "source": [
        "#Preprocessing\n",
        "import os\n",
        "import cv2\n",
        "import numpy as np\n",
        "from tqdm import tqdm\n",
        "from sklearn.model_selection import train_test_split\n",
        "from sklearn.preprocessing import LabelEncoder\n",
        "from keras.utils import to_categorical\n",
        "\n",
        "#Model dan Augmentasi\n",
        "import tensorflow as tf\n",
        "from tensorflow.keras.preprocessing.image import ImageDataGenerator\n",
        "from tensorflow.keras.models import Sequential\n",
        "from tensorflow.keras import layers, Model, regularizers\n",
        "from tensorflow.keras.callbacks import EarlyStopping\n",
        "from tensorflow.keras.layers import Conv2D, MaxPooling2D, Flatten, Dense, GlobalAveragePooling2D, Dropout\n",
        "import os\n",
        "from tensorflow.keras.optimizers import Adam\n",
        "from tensorflow.keras.optimizers import RMSprop\n",
        "from tensorflow.keras.applications import VGG16\n",
        "\n",
        "# Evaluasi\n",
        "import torch\n",
        "import torchvision.models as models\n",
        "from thop import profile\n",
        "from sklearn.metrics import confusion_matrix, classification_report\n",
        "\n",
        "#Visualisasi\n",
        "import matplotlib.pyplot as plt\n",
        "import seaborn as sns\n",
        "import os\n",
        "import cv2\n",
        "import numpy as np\n",
        "from tqdm import tqdm\n",
        "from sklearn.model_selection import train_test_split\n",
        "from sklearn.preprocessing import LabelEncoder\n",
        "from keras.utils import to_categorical"
      ],
      "metadata": {
        "id": "NMN3beIVALVJ"
      },
      "execution_count": 5,
      "outputs": []
    },
    {
      "cell_type": "code",
      "execution_count": 6,
      "metadata": {
        "colab": {
          "base_uri": "https://localhost:8080/",
          "height": 90
        },
        "id": "GK3MPeDN_Ofu",
        "outputId": "06b83290-915b-4189-9e58-890d0b4d31cb"
      },
      "outputs": [
        {
          "output_type": "display_data",
          "data": {
            "text/plain": [
              "<IPython.core.display.HTML object>"
            ],
            "text/html": [
              "\n",
              "     <input type=\"file\" id=\"files-fa515da0-36d7-47d1-a1bb-b871c1f2fa91\" name=\"files[]\" multiple disabled\n",
              "        style=\"border:none\" />\n",
              "     <output id=\"result-fa515da0-36d7-47d1-a1bb-b871c1f2fa91\">\n",
              "      Upload widget is only available when the cell has been executed in the\n",
              "      current browser session. Please rerun this cell to enable.\n",
              "      </output>\n",
              "      <script>// Copyright 2017 Google LLC\n",
              "//\n",
              "// Licensed under the Apache License, Version 2.0 (the \"License\");\n",
              "// you may not use this file except in compliance with the License.\n",
              "// You may obtain a copy of the License at\n",
              "//\n",
              "//      http://www.apache.org/licenses/LICENSE-2.0\n",
              "//\n",
              "// Unless required by applicable law or agreed to in writing, software\n",
              "// distributed under the License is distributed on an \"AS IS\" BASIS,\n",
              "// WITHOUT WARRANTIES OR CONDITIONS OF ANY KIND, either express or implied.\n",
              "// See the License for the specific language governing permissions and\n",
              "// limitations under the License.\n",
              "\n",
              "/**\n",
              " * @fileoverview Helpers for google.colab Python module.\n",
              " */\n",
              "(function(scope) {\n",
              "function span(text, styleAttributes = {}) {\n",
              "  const element = document.createElement('span');\n",
              "  element.textContent = text;\n",
              "  for (const key of Object.keys(styleAttributes)) {\n",
              "    element.style[key] = styleAttributes[key];\n",
              "  }\n",
              "  return element;\n",
              "}\n",
              "\n",
              "// Max number of bytes which will be uploaded at a time.\n",
              "const MAX_PAYLOAD_SIZE = 100 * 1024;\n",
              "\n",
              "function _uploadFiles(inputId, outputId) {\n",
              "  const steps = uploadFilesStep(inputId, outputId);\n",
              "  const outputElement = document.getElementById(outputId);\n",
              "  // Cache steps on the outputElement to make it available for the next call\n",
              "  // to uploadFilesContinue from Python.\n",
              "  outputElement.steps = steps;\n",
              "\n",
              "  return _uploadFilesContinue(outputId);\n",
              "}\n",
              "\n",
              "// This is roughly an async generator (not supported in the browser yet),\n",
              "// where there are multiple asynchronous steps and the Python side is going\n",
              "// to poll for completion of each step.\n",
              "// This uses a Promise to block the python side on completion of each step,\n",
              "// then passes the result of the previous step as the input to the next step.\n",
              "function _uploadFilesContinue(outputId) {\n",
              "  const outputElement = document.getElementById(outputId);\n",
              "  const steps = outputElement.steps;\n",
              "\n",
              "  const next = steps.next(outputElement.lastPromiseValue);\n",
              "  return Promise.resolve(next.value.promise).then((value) => {\n",
              "    // Cache the last promise value to make it available to the next\n",
              "    // step of the generator.\n",
              "    outputElement.lastPromiseValue = value;\n",
              "    return next.value.response;\n",
              "  });\n",
              "}\n",
              "\n",
              "/**\n",
              " * Generator function which is called between each async step of the upload\n",
              " * process.\n",
              " * @param {string} inputId Element ID of the input file picker element.\n",
              " * @param {string} outputId Element ID of the output display.\n",
              " * @return {!Iterable<!Object>} Iterable of next steps.\n",
              " */\n",
              "function* uploadFilesStep(inputId, outputId) {\n",
              "  const inputElement = document.getElementById(inputId);\n",
              "  inputElement.disabled = false;\n",
              "\n",
              "  const outputElement = document.getElementById(outputId);\n",
              "  outputElement.innerHTML = '';\n",
              "\n",
              "  const pickedPromise = new Promise((resolve) => {\n",
              "    inputElement.addEventListener('change', (e) => {\n",
              "      resolve(e.target.files);\n",
              "    });\n",
              "  });\n",
              "\n",
              "  const cancel = document.createElement('button');\n",
              "  inputElement.parentElement.appendChild(cancel);\n",
              "  cancel.textContent = 'Cancel upload';\n",
              "  const cancelPromise = new Promise((resolve) => {\n",
              "    cancel.onclick = () => {\n",
              "      resolve(null);\n",
              "    };\n",
              "  });\n",
              "\n",
              "  // Wait for the user to pick the files.\n",
              "  const files = yield {\n",
              "    promise: Promise.race([pickedPromise, cancelPromise]),\n",
              "    response: {\n",
              "      action: 'starting',\n",
              "    }\n",
              "  };\n",
              "\n",
              "  cancel.remove();\n",
              "\n",
              "  // Disable the input element since further picks are not allowed.\n",
              "  inputElement.disabled = true;\n",
              "\n",
              "  if (!files) {\n",
              "    return {\n",
              "      response: {\n",
              "        action: 'complete',\n",
              "      }\n",
              "    };\n",
              "  }\n",
              "\n",
              "  for (const file of files) {\n",
              "    const li = document.createElement('li');\n",
              "    li.append(span(file.name, {fontWeight: 'bold'}));\n",
              "    li.append(span(\n",
              "        `(${file.type || 'n/a'}) - ${file.size} bytes, ` +\n",
              "        `last modified: ${\n",
              "            file.lastModifiedDate ? file.lastModifiedDate.toLocaleDateString() :\n",
              "                                    'n/a'} - `));\n",
              "    const percent = span('0% done');\n",
              "    li.appendChild(percent);\n",
              "\n",
              "    outputElement.appendChild(li);\n",
              "\n",
              "    const fileDataPromise = new Promise((resolve) => {\n",
              "      const reader = new FileReader();\n",
              "      reader.onload = (e) => {\n",
              "        resolve(e.target.result);\n",
              "      };\n",
              "      reader.readAsArrayBuffer(file);\n",
              "    });\n",
              "    // Wait for the data to be ready.\n",
              "    let fileData = yield {\n",
              "      promise: fileDataPromise,\n",
              "      response: {\n",
              "        action: 'continue',\n",
              "      }\n",
              "    };\n",
              "\n",
              "    // Use a chunked sending to avoid message size limits. See b/62115660.\n",
              "    let position = 0;\n",
              "    do {\n",
              "      const length = Math.min(fileData.byteLength - position, MAX_PAYLOAD_SIZE);\n",
              "      const chunk = new Uint8Array(fileData, position, length);\n",
              "      position += length;\n",
              "\n",
              "      const base64 = btoa(String.fromCharCode.apply(null, chunk));\n",
              "      yield {\n",
              "        response: {\n",
              "          action: 'append',\n",
              "          file: file.name,\n",
              "          data: base64,\n",
              "        },\n",
              "      };\n",
              "\n",
              "      let percentDone = fileData.byteLength === 0 ?\n",
              "          100 :\n",
              "          Math.round((position / fileData.byteLength) * 100);\n",
              "      percent.textContent = `${percentDone}% done`;\n",
              "\n",
              "    } while (position < fileData.byteLength);\n",
              "  }\n",
              "\n",
              "  // All done.\n",
              "  yield {\n",
              "    response: {\n",
              "      action: 'complete',\n",
              "    }\n",
              "  };\n",
              "}\n",
              "\n",
              "scope.google = scope.google || {};\n",
              "scope.google.colab = scope.google.colab || {};\n",
              "scope.google.colab._files = {\n",
              "  _uploadFiles,\n",
              "  _uploadFilesContinue,\n",
              "};\n",
              "})(self);\n",
              "</script> "
            ]
          },
          "metadata": {}
        },
        {
          "output_type": "stream",
          "name": "stdout",
          "text": [
            "Saving kaggle.json to kaggle.json\n"
          ]
        },
        {
          "output_type": "execute_result",
          "data": {
            "text/plain": [
              "{'kaggle.json': b'{\"username\":\"smjayyy\",\"key\":\"8eb172e224d83c7b56b4a2ef349b7c0d\"}'}"
            ]
          },
          "metadata": {},
          "execution_count": 6
        }
      ],
      "source": [
        "from google.colab import files\n",
        "files.upload()"
      ]
    },
    {
      "cell_type": "code",
      "source": [
        "!mkdir -p ~/.kaggle\n",
        "!cp kaggle.json ~/.kaggle/\n",
        "!chmod 600 ~/.kaggle/kaggle.json"
      ],
      "metadata": {
        "id": "Y9Kia11G_5Si"
      },
      "execution_count": 7,
      "outputs": []
    },
    {
      "cell_type": "code",
      "source": [
        "##link dataset in Kaggle.com\n",
        "!kaggle datasets download -d smaranjitghose/corn-or-maize-leaf-disease-dataset"
      ],
      "metadata": {
        "colab": {
          "base_uri": "https://localhost:8080/"
        },
        "id": "apfKVlxj_8FJ",
        "outputId": "f374ac25-74cc-4fef-b3af-960e8949e62e"
      },
      "execution_count": 8,
      "outputs": [
        {
          "output_type": "stream",
          "name": "stdout",
          "text": [
            "Downloading corn-or-maize-leaf-disease-dataset.zip to /content\n",
            " 88% 141M/161M [00:01<00:00, 93.3MB/s]\n",
            "100% 161M/161M [00:01<00:00, 134MB/s] \n"
          ]
        }
      ]
    },
    {
      "cell_type": "code",
      "source": [
        "!unzip -q corn-or-maize-leaf-disease-dataset.zip -d /content"
      ],
      "metadata": {
        "id": "ixMUoB2rAAd3"
      },
      "execution_count": 9,
      "outputs": []
    },
    {
      "cell_type": "code",
      "source": [
        "dataset_dir = '/content/data'"
      ],
      "metadata": {
        "id": "pZ8IerIQAGFO"
      },
      "execution_count": 10,
      "outputs": []
    },
    {
      "cell_type": "code",
      "source": [
        "print(os.listdir(dataset_dir))"
      ],
      "metadata": {
        "colab": {
          "base_uri": "https://localhost:8080/"
        },
        "id": "9wwka8QaAIcj",
        "outputId": "49c213a5-b4b4-4e57-f8a4-8a270e24ab44"
      },
      "execution_count": 11,
      "outputs": [
        {
          "output_type": "stream",
          "name": "stdout",
          "text": [
            "['Blight', 'Healthy', 'Gray_Leaf_Spot', 'Common_Rust']\n"
          ]
        }
      ]
    },
    {
      "cell_type": "code",
      "source": [
        "IMAGE_SIZE_vgg16 = 224"
      ],
      "metadata": {
        "id": "_UCEuA-hAPSa"
      },
      "execution_count": 12,
      "outputs": []
    },
    {
      "cell_type": "code",
      "source": [
        "def make_data(label, DIR, img_list, label_list):\n",
        "    for img in tqdm(os.listdir(DIR)):\n",
        "        path = os.path.join(DIR, img)\n",
        "        img = cv2.imread(path, cv2.IMREAD_COLOR)\n",
        "        img = cv2.resize(img, (IMAGE_SIZE_vgg16, IMAGE_SIZE_vgg16))\n",
        "        img_list.append(np.array(img))\n",
        "        label_list.append(str(label))"
      ],
      "metadata": {
        "id": "B3menIgvARk5"
      },
      "execution_count": 13,
      "outputs": []
    },
    {
      "cell_type": "code",
      "source": [
        "X = []\n",
        "Z = []"
      ],
      "metadata": {
        "id": "Jn6gWefxATyU"
      },
      "execution_count": 14,
      "outputs": []
    },
    {
      "cell_type": "code",
      "source": [
        "for i, class_name in enumerate(['Common_Rust', 'Healthy', 'Gray_Leaf_Spot', 'Blight']):\n",
        "    class_dir = os.path.join(dataset_dir, class_name)\n",
        "    make_data(class_name, class_dir, X, Z)"
      ],
      "metadata": {
        "colab": {
          "base_uri": "https://localhost:8080/"
        },
        "id": "S9-RQTGJAWCk",
        "outputId": "f6ce3e27-53da-4c80-8906-66345c832889"
      },
      "execution_count": 15,
      "outputs": [
        {
          "output_type": "stream",
          "name": "stderr",
          "text": [
            "100%|██████████| 1306/1306 [00:08<00:00, 147.17it/s]\n",
            "100%|██████████| 1162/1162 [00:02<00:00, 390.88it/s]\n",
            "100%|██████████| 574/574 [00:03<00:00, 162.37it/s]\n",
            "100%|██████████| 1146/1146 [00:11<00:00, 101.03it/s]\n"
          ]
        }
      ]
    },
    {
      "cell_type": "code",
      "source": [
        "import matplotlib.pyplot as plt\n",
        "\n",
        "# Menghitung jumlah data untuk setiap kelas\n",
        "class_counts = {class_name: Z.count(class_name) for class_name in set(Z)}\n",
        "\n",
        "# Menampilkan visualisasi jumlah data\n",
        "plt.figure(figsize=(8, 6))\n",
        "plt.bar(class_counts.keys(), class_counts.values())\n",
        "plt.xlabel('Class')\n",
        "plt.ylabel('Count')\n",
        "plt.title('Number of Data Samples for Each Class')\n",
        "plt.show()"
      ],
      "metadata": {
        "colab": {
          "base_uri": "https://localhost:8080/",
          "height": 564
        },
        "id": "-IcXHIM8Akcw",
        "outputId": "386f415f-a5d6-463c-9c28-8aab6d75b70d"
      },
      "execution_count": 16,
      "outputs": [
        {
          "output_type": "display_data",
          "data": {
            "text/plain": [
              "<Figure size 800x600 with 1 Axes>"
            ],
            "image/png": "[encoded data removed]"
          },
          "metadata": {}
        }
      ]
    },
    {
      "cell_type": "code",
      "source": [
        "le = LabelEncoder()\n",
        "Y = le.fit_transform(Z)\n",
        "Y = to_categorical(Y, num_classes=len(le.classes_))\n",
        "\n",
        "# Konversi ke array numpy\n",
        "X = np.array(X)\n",
        "\n",
        "# Memisahkan data menjadi data latih dan data uji\n",
        "X_train, X_test, Y_train, Y_test = train_test_split(X, Y, test_size=0.2, random_state=42)\n",
        "\n",
        "print(\"Jumlah Data Train adalah :\", len(X_train))\n",
        "print(\"Jumlah Data Test adalah :\", len(X_test))"
      ],
      "metadata": {
        "colab": {
          "base_uri": "https://localhost:8080/"
        },
        "id": "OI7kvVbXAqko",
        "outputId": "a65577ad-0d5f-4f10-d7cf-6baa1af6330a"
      },
      "execution_count": 17,
      "outputs": [
        {
          "output_type": "stream",
          "name": "stdout",
          "text": [
            "Jumlah Data Train adalah : 3350\n",
            "Jumlah Data Test adalah : 838\n"
          ]
        }
      ]
    },
    {
      "cell_type": "code",
      "source": [
        "datagen = ImageDataGenerator(\n",
        "    rotation_range=20,  # Rotasi gambar hingga 40 derajat\n",
        "    zoom_range=0.2,  # Zoom-in/Zoom-out gambar\n",
        "    horizontal_flip=True,  # Flipping horizontal gambar\n",
        "    vertical_flip=True\n",
        ")\n",
        "\n",
        "datagen.fit(X_train)"
      ],
      "metadata": {
        "id": "ue5XLCIlA2ld"
      },
      "execution_count": 18,
      "outputs": []
    },
    {
      "cell_type": "code",
      "source": [
        "vgg16 = VGG16(weights='imagenet', include_top=False, input_shape=(IMAGE_SIZE_vgg16, IMAGE_SIZE_vgg16, 3))\n",
        "\n",
        "# Membuat model Sequential\n",
        "model_vgg16 = Sequential()\n",
        "model_vgg16.add(vgg16)\n",
        "model_vgg16.add(GlobalAveragePooling2D())\n",
        "model_vgg16.add(Dense(4, activation='softmax'))\n",
        "\n",
        "for layer in vgg16.layers:\n",
        "    layer.trainable = False\n",
        "\n",
        "model_vgg16.compile(optimizer=Adam(learning_rate=1e-4), loss='categorical_crossentropy', metrics=['accuracy'])\n",
        "\n",
        "model_vgg16.summary()\n",
        "\n",
        "history_resnet50ver2 = model_vgg16.fit(datagen.flow(X_train, Y_train), epochs=50, validation_data=(X_test, Y_test))"
      ],
      "metadata": {
        "id": "qg6h8yY_A62R",
        "colab": {
          "base_uri": "https://localhost:8080/"
        },
        "outputId": "e7a1622b-14be-448d-c131-fec34bc3fb96"
      },
      "execution_count": 23,
      "outputs": [
        {
          "output_type": "stream",
          "name": "stdout",
          "text": [
            "Model: \"sequential_1\"\n",
            "_________________________________________________________________\n",
            " Layer (type)                Output Shape              Param #   \n",
            "=================================================================\n",
            " vgg16 (Functional)          (None, 7, 7, 512)         14714688  \n",
            "                                                                 \n",
            " global_average_pooling2d_1  (None, 512)               0         \n",
            "  (GlobalAveragePooling2D)                                       \n",
            "                                                                 \n",
            " dense_1 (Dense)             (None, 4)                 2052      \n",
            "                                                                 \n",
            "=================================================================\n",
            "Total params: 14716740 (56.14 MB)\n",
            "Trainable params: 2052 (8.02 KB)\n",
            "Non-trainable params: 14714688 (56.13 MB)\n",
            "_________________________________________________________________\n",
            "Epoch 1/50\n",
            "105/105 [==============================] - 45s 422ms/step - loss: 3.0623 - accuracy: 0.3845 - val_loss: 1.7009 - val_accuracy: 0.5525\n",
            "Epoch 2/50\n",
            "105/105 [==============================] - 45s 424ms/step - loss: 1.5568 - accuracy: 0.5812 - val_loss: 1.0970 - val_accuracy: 0.6671\n",
            "Epoch 3/50\n",
            "105/105 [==============================] - 43s 411ms/step - loss: 1.1336 - accuracy: 0.6672 - val_loss: 0.7866 - val_accuracy: 0.7399\n",
            "Epoch 4/50\n",
            "105/105 [==============================] - 44s 414ms/step - loss: 0.9158 - accuracy: 0.7236 - val_loss: 0.6707 - val_accuracy: 0.7780\n",
            "Epoch 5/50\n",
            "105/105 [==============================] - 44s 423ms/step - loss: 0.8190 - accuracy: 0.7454 - val_loss: 0.5599 - val_accuracy: 0.8115\n",
            "Epoch 6/50\n",
            "105/105 [==============================] - 44s 414ms/step - loss: 0.6964 - accuracy: 0.7836 - val_loss: 0.4932 - val_accuracy: 0.8341\n",
            "Epoch 7/50\n",
            "105/105 [==============================] - 42s 405ms/step - loss: 0.6415 - accuracy: 0.7925 - val_loss: 0.4428 - val_accuracy: 0.8544\n",
            "Epoch 8/50\n",
            "105/105 [==============================] - 44s 424ms/step - loss: 0.5980 - accuracy: 0.8119 - val_loss: 0.4236 - val_accuracy: 0.8556\n",
            "Epoch 9/50\n",
            "105/105 [==============================] - 43s 408ms/step - loss: 0.5643 - accuracy: 0.8233 - val_loss: 0.3858 - val_accuracy: 0.8735\n",
            "Epoch 10/50\n",
            "105/105 [==============================] - 44s 421ms/step - loss: 0.5368 - accuracy: 0.8266 - val_loss: 0.3599 - val_accuracy: 0.8866\n",
            "Epoch 11/50\n",
            "105/105 [==============================] - 44s 414ms/step - loss: 0.5098 - accuracy: 0.8382 - val_loss: 0.3510 - val_accuracy: 0.8890\n",
            "Epoch 12/50\n",
            "105/105 [==============================] - 44s 418ms/step - loss: 0.4533 - accuracy: 0.8496 - val_loss: 0.3286 - val_accuracy: 0.8950\n",
            "Epoch 13/50\n",
            "105/105 [==============================] - 44s 414ms/step - loss: 0.4901 - accuracy: 0.8427 - val_loss: 0.3156 - val_accuracy: 0.9021\n",
            "Epoch 14/50\n",
            "105/105 [==============================] - 45s 424ms/step - loss: 0.4395 - accuracy: 0.8499 - val_loss: 0.3071 - val_accuracy: 0.9069\n",
            "Epoch 15/50\n",
            "105/105 [==============================] - 44s 421ms/step - loss: 0.4260 - accuracy: 0.8501 - val_loss: 0.2988 - val_accuracy: 0.9081\n",
            "Epoch 16/50\n",
            "105/105 [==============================] - 43s 405ms/step - loss: 0.4085 - accuracy: 0.8582 - val_loss: 0.2996 - val_accuracy: 0.9081\n",
            "Epoch 17/50\n",
            "105/105 [==============================] - 44s 423ms/step - loss: 0.3952 - accuracy: 0.8699 - val_loss: 0.2935 - val_accuracy: 0.9081\n",
            "Epoch 18/50\n",
            "105/105 [==============================] - 46s 435ms/step - loss: 0.4067 - accuracy: 0.8678 - val_loss: 0.2852 - val_accuracy: 0.9105\n",
            "Epoch 19/50\n",
            "105/105 [==============================] - 46s 431ms/step - loss: 0.3756 - accuracy: 0.8731 - val_loss: 0.2748 - val_accuracy: 0.9165\n",
            "Epoch 20/50\n",
            "105/105 [==============================] - 43s 407ms/step - loss: 0.3653 - accuracy: 0.8764 - val_loss: 0.2709 - val_accuracy: 0.9177\n",
            "Epoch 21/50\n",
            "105/105 [==============================] - 43s 410ms/step - loss: 0.3686 - accuracy: 0.8761 - val_loss: 0.2652 - val_accuracy: 0.9200\n",
            "Epoch 22/50\n",
            "105/105 [==============================] - 43s 410ms/step - loss: 0.3605 - accuracy: 0.8821 - val_loss: 0.2656 - val_accuracy: 0.9189\n",
            "Epoch 23/50\n",
            "105/105 [==============================] - 43s 411ms/step - loss: 0.3440 - accuracy: 0.8818 - val_loss: 0.2644 - val_accuracy: 0.9189\n",
            "Epoch 24/50\n",
            "105/105 [==============================] - 45s 427ms/step - loss: 0.3366 - accuracy: 0.8851 - val_loss: 0.2623 - val_accuracy: 0.9212\n",
            "Epoch 25/50\n",
            "105/105 [==============================] - 44s 416ms/step - loss: 0.3210 - accuracy: 0.8925 - val_loss: 0.2596 - val_accuracy: 0.9200\n",
            "Epoch 26/50\n",
            "105/105 [==============================] - 42s 404ms/step - loss: 0.3217 - accuracy: 0.8922 - val_loss: 0.2505 - val_accuracy: 0.9236\n",
            "Epoch 27/50\n",
            "105/105 [==============================] - 44s 421ms/step - loss: 0.3165 - accuracy: 0.8928 - val_loss: 0.2479 - val_accuracy: 0.9248\n",
            "Epoch 28/50\n",
            "105/105 [==============================] - 44s 418ms/step - loss: 0.3149 - accuracy: 0.8884 - val_loss: 0.2506 - val_accuracy: 0.9224\n",
            "Epoch 29/50\n",
            "105/105 [==============================] - 45s 424ms/step - loss: 0.2875 - accuracy: 0.8967 - val_loss: 0.2492 - val_accuracy: 0.9212\n",
            "Epoch 30/50\n",
            "105/105 [==============================] - 43s 408ms/step - loss: 0.3012 - accuracy: 0.8973 - val_loss: 0.2435 - val_accuracy: 0.9212\n",
            "Epoch 31/50\n",
            "105/105 [==============================] - 43s 406ms/step - loss: 0.2901 - accuracy: 0.8946 - val_loss: 0.2415 - val_accuracy: 0.9260\n",
            "Epoch 32/50\n",
            "105/105 [==============================] - 45s 433ms/step - loss: 0.2773 - accuracy: 0.8970 - val_loss: 0.2430 - val_accuracy: 0.9272\n",
            "Epoch 33/50\n",
            "105/105 [==============================] - 45s 433ms/step - loss: 0.2994 - accuracy: 0.8916 - val_loss: 0.2356 - val_accuracy: 0.9260\n",
            "Epoch 34/50\n",
            "105/105 [==============================] - 44s 422ms/step - loss: 0.2831 - accuracy: 0.9015 - val_loss: 0.2372 - val_accuracy: 0.9248\n",
            "Epoch 35/50\n",
            "105/105 [==============================] - 43s 406ms/step - loss: 0.2748 - accuracy: 0.9003 - val_loss: 0.2323 - val_accuracy: 0.9272\n",
            "Epoch 36/50\n",
            "105/105 [==============================] - 45s 426ms/step - loss: 0.2806 - accuracy: 0.9003 - val_loss: 0.2364 - val_accuracy: 0.9224\n",
            "Epoch 37/50\n",
            "105/105 [==============================] - 45s 433ms/step - loss: 0.2712 - accuracy: 0.8958 - val_loss: 0.2328 - val_accuracy: 0.9248\n",
            "Epoch 38/50\n",
            "105/105 [==============================] - 45s 424ms/step - loss: 0.2794 - accuracy: 0.9003 - val_loss: 0.2308 - val_accuracy: 0.9236\n",
            "Epoch 39/50\n",
            "105/105 [==============================] - 43s 404ms/step - loss: 0.2664 - accuracy: 0.9051 - val_loss: 0.2354 - val_accuracy: 0.9248\n",
            "Epoch 40/50\n",
            "105/105 [==============================] - 44s 423ms/step - loss: 0.2728 - accuracy: 0.9021 - val_loss: 0.2297 - val_accuracy: 0.9260\n",
            "Epoch 41/50\n",
            "105/105 [==============================] - 45s 425ms/step - loss: 0.2460 - accuracy: 0.9099 - val_loss: 0.2272 - val_accuracy: 0.9272\n",
            "Epoch 42/50\n",
            "105/105 [==============================] - 43s 408ms/step - loss: 0.2516 - accuracy: 0.9116 - val_loss: 0.2307 - val_accuracy: 0.9248\n",
            "Epoch 43/50\n",
            "105/105 [==============================] - 45s 424ms/step - loss: 0.2678 - accuracy: 0.9060 - val_loss: 0.2313 - val_accuracy: 0.9212\n",
            "Epoch 44/50\n",
            "105/105 [==============================] - 43s 406ms/step - loss: 0.2404 - accuracy: 0.9057 - val_loss: 0.2247 - val_accuracy: 0.9248\n",
            "Epoch 45/50\n",
            "105/105 [==============================] - 46s 433ms/step - loss: 0.2430 - accuracy: 0.9084 - val_loss: 0.2318 - val_accuracy: 0.9224\n",
            "Epoch 46/50\n",
            "105/105 [==============================] - 43s 409ms/step - loss: 0.2465 - accuracy: 0.9075 - val_loss: 0.2254 - val_accuracy: 0.9260\n",
            "Epoch 47/50\n",
            "105/105 [==============================] - 44s 424ms/step - loss: 0.2399 - accuracy: 0.9122 - val_loss: 0.2251 - val_accuracy: 0.9284\n",
            "Epoch 48/50\n",
            "105/105 [==============================] - 44s 423ms/step - loss: 0.2481 - accuracy: 0.9072 - val_loss: 0.2297 - val_accuracy: 0.9236\n",
            "Epoch 49/50\n",
            "105/105 [==============================] - 43s 405ms/step - loss: 0.2398 - accuracy: 0.9143 - val_loss: 0.2244 - val_accuracy: 0.9260\n",
            "Epoch 50/50\n",
            "105/105 [==============================] - 43s 406ms/step - loss: 0.2225 - accuracy: 0.9170 - val_loss: 0.2376 - val_accuracy: 0.9189\n"
          ]
        }
      ]
    },
    {
      "cell_type": "code",
      "source": [
        "Y_pred = model_vgg16.predict(X_test)\n",
        "Y_pred_classes = np.argmax(Y_pred, axis=1)\n",
        "Y_true = np.argmax(Y_test, axis=1)\n",
        "\n",
        "conf_matrix = confusion_matrix(Y_true, Y_pred_classes)\n",
        "\n",
        "plt.figure(figsize=(8, 6))\n",
        "sns.heatmap(conf_matrix, annot=True, fmt=\"d\", cmap=\"Blues\", xticklabels=['Common_Rust', 'Healthy', 'Gray_Leaf_Spot', 'Blight'], yticklabels=['Common_Rust', 'Healthy', 'Gray_Leaf_Spot', 'Blight'])\n",
        "plt.xlabel('Predicted labels')\n",
        "plt.ylabel('True labels')\n",
        "plt.title('Confusion Matrix')\n",
        "plt.show()\n",
        "\n",
        "class_report = classification_report(Y_true, Y_pred_classes)\n",
        "\n",
        "print(\"\\nClassification Report:\")\n",
        "print(class_report)"
      ],
      "metadata": {
        "id": "W2svXyjyTjeo",
        "colab": {
          "base_uri": "https://localhost:8080/",
          "height": 807
        },
        "outputId": "31574d29-f8db-4c3e-ede1-ab26eeddc4fd"
      },
      "execution_count": 24,
      "outputs": [
        {
          "output_type": "stream",
          "name": "stdout",
          "text": [
            "27/27 [==============================] - 3s 125ms/step\n"
          ]
        },
        {
          "output_type": "display_data",
          "data": {
            "text/plain": [
              "<Figure size 800x600 with 2 Axes>"
            ],
            "image/png": "[encoded data removed]"
          },
          "metadata": {}
        },
        {
          "output_type": "stream",
          "name": "stdout",
          "text": [
            "\n",
            "Classification Report:\n",
            "              precision    recall  f1-score   support\n",
            "\n",
            "           0       0.90      0.83      0.86       218\n",
            "           1       0.97      0.98      0.97       289\n",
            "           2       0.69      0.81      0.74       104\n",
            "           3       1.00      0.98      0.99       227\n",
            "\n",
            "    accuracy                           0.92       838\n",
            "   macro avg       0.89      0.90      0.89       838\n",
            "weighted avg       0.92      0.92      0.92       838\n",
            "\n"
          ]
        }
      ]
    },
    {
      "cell_type": "code",
      "source": [
        "model = models.vgg16()\n",
        "\n",
        "input = torch.randn(1, 3, 224, 224)\n",
        "\n",
        "flops, params = profile(model, inputs=(input, ))\n",
        "print(f\"Estimasi FLOPS: {flops}\")"
      ],
      "metadata": {
        "colab": {
          "base_uri": "https://localhost:8080/"
        },
        "id": "Wh5Kms7I8aFi",
        "outputId": "17c42537-c4a4-47ca-ad3b-b583a2c76011"
      },
      "execution_count": 21,
      "outputs": [
        {
          "output_type": "stream",
          "name": "stdout",
          "text": [
            "[INFO] Register count_convNd() for <class 'torch.nn.modules.conv.Conv2d'>.\n",
            "[INFO] Register zero_ops() for <class 'torch.nn.modules.activation.ReLU'>.\n",
            "[INFO] Register zero_ops() for <class 'torch.nn.modules.pooling.MaxPool2d'>.\n",
            "[INFO] Register zero_ops() for <class 'torch.nn.modules.container.Sequential'>.\n",
            "[INFO] Register count_adap_avgpool() for <class 'torch.nn.modules.pooling.AdaptiveAvgPool2d'>.\n",
            "[INFO] Register count_linear() for <class 'torch.nn.modules.linear.Linear'>.\n",
            "[INFO] Register zero_ops() for <class 'torch.nn.modules.dropout.Dropout'>.\n",
            "Estimasi FLOPS: 15470314496.0\n"
          ]
        }
      ]
    }
  ]
}
