{
  "nbformat": 4,
  "nbformat_minor": 0,
  "metadata": {
    "colab": {
      "provenance": [],
      "gpuType": "T4",
      "include_colab_link": true
    },
    "kernelspec": {
      "name": "python3",
      "display_name": "Python 3"
    },
    "language_info": {
      "name": "python"
    },
    "accelerator": "GPU"
  },
  "cells": [
    {
      "cell_type": "markdown",
      "metadata": {
        "id": "view-in-github",
        "colab_type": "text"
      },
      "source": [
        "<a href=\"https://colab.research.google.com/github/Smjfirna/Arsitektur-Compration/blob/main/VGG16%20final/100_(3).ipynb\" target=\"_parent\"><img src=\"https://colab.research.google.com/assets/colab-badge.svg\" alt=\"Open In Colab\"/></a>"
      ]
    },
    {
      "cell_type": "code",
      "source": [
        "#Preprocessing\n",
        "import os\n",
        "import cv2\n",
        "import numpy as np\n",
        "from tqdm import tqdm\n",
        "from sklearn.model_selection import train_test_split\n",
        "from sklearn.preprocessing import LabelEncoder\n",
        "from keras.utils import to_categorical\n",
        "\n",
        "#Model dan Augmentasi\n",
        "import tensorflow as tf\n",
        "from tensorflow.keras.preprocessing.image import ImageDataGenerator\n",
        "from tensorflow.keras.models import Sequential\n",
        "from tensorflow.keras import layers, Model, regularizers\n",
        "from tensorflow.keras.callbacks import EarlyStopping\n",
        "from tensorflow.keras.layers import Conv2D, MaxPooling2D, Flatten, Dense, GlobalAveragePooling2D, Dropout\n",
        "from tensorflow.keras import layers, models, optimizers\n",
        "import os\n",
        "from tensorflow.keras.optimizers import Adam\n",
        "from tensorflow.keras.optimizers import RMSprop\n",
        "from tensorflow.keras.applications import VGG16\n",
        "\n",
        "# Evaluasi\n",
        "#import torch\n",
        "#import torchvision.models as models\n",
        "#from thop import profile\n",
        "from sklearn.metrics import confusion_matrix, classification_report\n",
        "\n",
        "#Visualisasi\n",
        "import matplotlib.pyplot as plt\n",
        "import seaborn as sns\n",
        "import os\n",
        "import cv2\n",
        "import numpy as np\n",
        "from tqdm import tqdm\n",
        "from sklearn.model_selection import train_test_split\n",
        "from sklearn.preprocessing import LabelEncoder\n",
        "from keras.utils import to_categorical"
      ],
      "metadata": {
        "id": "NMN3beIVALVJ"
      },
      "execution_count": null,
      "outputs": []
    },
    {
      "cell_type": "code",
      "execution_count": null,
      "metadata": {
        "colab": {
          "base_uri": "https://localhost:8080/",
          "height": 90
        },
        "id": "GK3MPeDN_Ofu",
        "outputId": "cab242b2-0142-4582-a06f-b0378b069e15"
      },
      "outputs": [
        {
          "output_type": "display_data",
          "data": {
            "text/plain": [
              "<IPython.core.display.HTML object>"
            ],
            "text/html": [
              "\n",
              "     <input type=\"file\" id=\"files-94752963-ff69-44e0-974a-5003706a3bf1\" name=\"files[]\" multiple disabled\n",
              "        style=\"border:none\" />\n",
              "     <output id=\"result-94752963-ff69-44e0-974a-5003706a3bf1\">\n",
              "      Upload widget is only available when the cell has been executed in the\n",
              "      current browser session. Please rerun this cell to enable.\n",
              "      </output>\n",
              "      <script>// Copyright 2017 Google LLC\n",
              "//\n",
              "// Licensed under the Apache License, Version 2.0 (the \"License\");\n",
              "// you may not use this file except in compliance with the License.\n",
              "// You may obtain a copy of the License at\n",
              "//\n",
              "//      http://www.apache.org/licenses/LICENSE-2.0\n",
              "//\n",
              "// Unless required by applicable law or agreed to in writing, software\n",
              "// distributed under the License is distributed on an \"AS IS\" BASIS,\n",
              "// WITHOUT WARRANTIES OR CONDITIONS OF ANY KIND, either express or implied.\n",
              "// See the License for the specific language governing permissions and\n",
              "// limitations under the License.\n",
              "\n",
              "/**\n",
              " * @fileoverview Helpers for google.colab Python module.\n",
              " */\n",
              "(function(scope) {\n",
              "function span(text, styleAttributes = {}) {\n",
              "  const element = document.createElement('span');\n",
              "  element.textContent = text;\n",
              "  for (const key of Object.keys(styleAttributes)) {\n",
              "    element.style[key] = styleAttributes[key];\n",
              "  }\n",
              "  return element;\n",
              "}\n",
              "\n",
              "// Max number of bytes which will be uploaded at a time.\n",
              "const MAX_PAYLOAD_SIZE = 100 * 1024;\n",
              "\n",
              "function _uploadFiles(inputId, outputId) {\n",
              "  const steps = uploadFilesStep(inputId, outputId);\n",
              "  const outputElement = document.getElementById(outputId);\n",
              "  // Cache steps on the outputElement to make it available for the next call\n",
              "  // to uploadFilesContinue from Python.\n",
              "  outputElement.steps = steps;\n",
              "\n",
              "  return _uploadFilesContinue(outputId);\n",
              "}\n",
              "\n",
              "// This is roughly an async generator (not supported in the browser yet),\n",
              "// where there are multiple asynchronous steps and the Python side is going\n",
              "// to poll for completion of each step.\n",
              "// This uses a Promise to block the python side on completion of each step,\n",
              "// then passes the result of the previous step as the input to the next step.\n",
              "function _uploadFilesContinue(outputId) {\n",
              "  const outputElement = document.getElementById(outputId);\n",
              "  const steps = outputElement.steps;\n",
              "\n",
              "  const next = steps.next(outputElement.lastPromiseValue);\n",
              "  return Promise.resolve(next.value.promise).then((value) => {\n",
              "    // Cache the last promise value to make it available to the next\n",
              "    // step of the generator.\n",
              "    outputElement.lastPromiseValue = value;\n",
              "    return next.value.response;\n",
              "  });\n",
              "}\n",
              "\n",
              "/**\n",
              " * Generator function which is called between each async step of the upload\n",
              " * process.\n",
              " * @param {string} inputId Element ID of the input file picker element.\n",
              " * @param {string} outputId Element ID of the output display.\n",
              " * @return {!Iterable<!Object>} Iterable of next steps.\n",
              " */\n",
              "function* uploadFilesStep(inputId, outputId) {\n",
              "  const inputElement = document.getElementById(inputId);\n",
              "  inputElement.disabled = false;\n",
              "\n",
              "  const outputElement = document.getElementById(outputId);\n",
              "  outputElement.innerHTML = '';\n",
              "\n",
              "  const pickedPromise = new Promise((resolve) => {\n",
              "    inputElement.addEventListener('change', (e) => {\n",
              "      resolve(e.target.files);\n",
              "    });\n",
              "  });\n",
              "\n",
              "  const cancel = document.createElement('button');\n",
              "  inputElement.parentElement.appendChild(cancel);\n",
              "  cancel.textContent = 'Cancel upload';\n",
              "  const cancelPromise = new Promise((resolve) => {\n",
              "    cancel.onclick = () => {\n",
              "      resolve(null);\n",
              "    };\n",
              "  });\n",
              "\n",
              "  // Wait for the user to pick the files.\n",
              "  const files = yield {\n",
              "    promise: Promise.race([pickedPromise, cancelPromise]),\n",
              "    response: {\n",
              "      action: 'starting',\n",
              "    }\n",
              "  };\n",
              "\n",
              "  cancel.remove();\n",
              "\n",
              "  // Disable the input element since further picks are not allowed.\n",
              "  inputElement.disabled = true;\n",
              "\n",
              "  if (!files) {\n",
              "    return {\n",
              "      response: {\n",
              "        action: 'complete',\n",
              "      }\n",
              "    };\n",
              "  }\n",
              "\n",
              "  for (const file of files) {\n",
              "    const li = document.createElement('li');\n",
              "    li.append(span(file.name, {fontWeight: 'bold'}));\n",
              "    li.append(span(\n",
              "        `(${file.type || 'n/a'}) - ${file.size} bytes, ` +\n",
              "        `last modified: ${\n",
              "            file.lastModifiedDate ? file.lastModifiedDate.toLocaleDateString() :\n",
              "                                    'n/a'} - `));\n",
              "    const percent = span('0% done');\n",
              "    li.appendChild(percent);\n",
              "\n",
              "    outputElement.appendChild(li);\n",
              "\n",
              "    const fileDataPromise = new Promise((resolve) => {\n",
              "      const reader = new FileReader();\n",
              "      reader.onload = (e) => {\n",
              "        resolve(e.target.result);\n",
              "      };\n",
              "      reader.readAsArrayBuffer(file);\n",
              "    });\n",
              "    // Wait for the data to be ready.\n",
              "    let fileData = yield {\n",
              "      promise: fileDataPromise,\n",
              "      response: {\n",
              "        action: 'continue',\n",
              "      }\n",
              "    };\n",
              "\n",
              "    // Use a chunked sending to avoid message size limits. See b/62115660.\n",
              "    let position = 0;\n",
              "    do {\n",
              "      const length = Math.min(fileData.byteLength - position, MAX_PAYLOAD_SIZE);\n",
              "      const chunk = new Uint8Array(fileData, position, length);\n",
              "      position += length;\n",
              "\n",
              "      const base64 = btoa(String.fromCharCode.apply(null, chunk));\n",
              "      yield {\n",
              "        response: {\n",
              "          action: 'append',\n",
              "          file: file.name,\n",
              "          data: base64,\n",
              "        },\n",
              "      };\n",
              "\n",
              "      let percentDone = fileData.byteLength === 0 ?\n",
              "          100 :\n",
              "          Math.round((position / fileData.byteLength) * 100);\n",
              "      percent.textContent = `${percentDone}% done`;\n",
              "\n",
              "    } while (position < fileData.byteLength);\n",
              "  }\n",
              "\n",
              "  // All done.\n",
              "  yield {\n",
              "    response: {\n",
              "      action: 'complete',\n",
              "    }\n",
              "  };\n",
              "}\n",
              "\n",
              "scope.google = scope.google || {};\n",
              "scope.google.colab = scope.google.colab || {};\n",
              "scope.google.colab._files = {\n",
              "  _uploadFiles,\n",
              "  _uploadFilesContinue,\n",
              "};\n",
              "})(self);\n",
              "</script> "
            ]
          },
          "metadata": {}
        },
        {
          "output_type": "stream",
          "name": "stdout",
          "text": [
            "Saving kaggle.json to kaggle.json\n"
          ]
        },
        {
          "output_type": "execute_result",
          "data": {
            "text/plain": [
              "{'kaggle.json': b'{\"username\":\"smjayyy\",\"key\":\"07729aa6a210c0f9baaeed1cf96a6a3b\"}'}"
            ]
          },
          "metadata": {},
          "execution_count": 2
        }
      ],
      "source": [
        "from google.colab import files\n",
        "files.upload()"
      ]
    },
    {
      "cell_type": "code",
      "source": [
        "!mkdir -p ~/.kaggle\n",
        "!cp kaggle.json ~/.kaggle/\n",
        "!chmod 600 ~/.kaggle/kaggle.json"
      ],
      "metadata": {
        "id": "Y9Kia11G_5Si"
      },
      "execution_count": null,
      "outputs": []
    },
    {
      "cell_type": "code",
      "source": [
        "##link dataset in Kaggle.com\n",
        "!kaggle datasets download -d smaranjitghose/corn-or-maize-leaf-disease-dataset"
      ],
      "metadata": {
        "colab": {
          "base_uri": "https://localhost:8080/"
        },
        "id": "apfKVlxj_8FJ",
        "outputId": "8aab750f-24a4-4743-f2b2-7adadd6132aa"
      },
      "execution_count": null,
      "outputs": [
        {
          "output_type": "stream",
          "name": "stdout",
          "text": [
            "Dataset URL: https://www.kaggle.com/datasets/smaranjitghose/corn-or-maize-leaf-disease-dataset\n",
            "License(s): copyright-authors\n",
            "Downloading corn-or-maize-leaf-disease-dataset.zip to /content\n",
            "100% 160M/161M [00:05<00:00, 34.2MB/s]\n",
            "100% 161M/161M [00:05<00:00, 31.7MB/s]\n"
          ]
        }
      ]
    },
    {
      "cell_type": "code",
      "source": [
        "!unzip -q corn-or-maize-leaf-disease-dataset.zip -d /content"
      ],
      "metadata": {
        "id": "ixMUoB2rAAd3"
      },
      "execution_count": null,
      "outputs": []
    },
    {
      "cell_type": "code",
      "source": [
        "dataset_dir = '/content/data'"
      ],
      "metadata": {
        "id": "pZ8IerIQAGFO"
      },
      "execution_count": null,
      "outputs": []
    },
    {
      "cell_type": "code",
      "source": [
        "print(os.listdir(dataset_dir))"
      ],
      "metadata": {
        "colab": {
          "base_uri": "https://localhost:8080/"
        },
        "id": "9wwka8QaAIcj",
        "outputId": "7d3d8b06-7dac-45bc-e381-12abd3c2482a"
      },
      "execution_count": null,
      "outputs": [
        {
          "output_type": "stream",
          "name": "stdout",
          "text": [
            "['Gray_Leaf_Spot', 'Blight', 'Healthy', 'Common_Rust']\n"
          ]
        }
      ]
    },
    {
      "cell_type": "code",
      "source": [
        "IMAGE_SIZE_vgg16 = 224"
      ],
      "metadata": {
        "id": "_UCEuA-hAPSa"
      },
      "execution_count": null,
      "outputs": []
    },
    {
      "cell_type": "code",
      "source": [
        "def make_data(label, DIR, img_list, label_list):\n",
        "    for img in tqdm(os.listdir(DIR)):\n",
        "        path = os.path.join(DIR, img)\n",
        "        img = cv2.imread(path, cv2.IMREAD_COLOR)\n",
        "        img = cv2.resize(img, (IMAGE_SIZE_vgg16, IMAGE_SIZE_vgg16))\n",
        "        img_list.append(np.array(img))\n",
        "        label_list.append(str(label))"
      ],
      "metadata": {
        "id": "B3menIgvARk5"
      },
      "execution_count": null,
      "outputs": []
    },
    {
      "cell_type": "code",
      "source": [
        "X = []\n",
        "Z = []"
      ],
      "metadata": {
        "id": "Jn6gWefxATyU"
      },
      "execution_count": null,
      "outputs": []
    },
    {
      "cell_type": "code",
      "source": [
        "for i, class_name in enumerate(['Common_Rust', 'Healthy', 'Gray_Leaf_Spot', 'Blight']):\n",
        "    class_dir = os.path.join(dataset_dir, class_name)\n",
        "    make_data(class_name, class_dir, X, Z)"
      ],
      "metadata": {
        "colab": {
          "base_uri": "https://localhost:8080/"
        },
        "id": "S9-RQTGJAWCk",
        "outputId": "1bee7930-e231-4e71-9d74-c0dcd394796d"
      },
      "execution_count": null,
      "outputs": [
        {
          "output_type": "stream",
          "name": "stderr",
          "text": [
            "100%|██████████| 1306/1306 [00:04<00:00, 295.41it/s]\n",
            "100%|██████████| 1162/1162 [00:01<00:00, 886.61it/s]\n",
            "100%|██████████| 574/574 [00:01<00:00, 351.28it/s]\n",
            "100%|██████████| 1146/1146 [00:05<00:00, 192.93it/s]\n"
          ]
        }
      ]
    },
    {
      "cell_type": "code",
      "source": [
        "import matplotlib.pyplot as plt\n",
        "\n",
        "# Menghitung jumlah data untuk setiap kelas\n",
        "class_counts = {class_name: Z.count(class_name) for class_name in set(Z)}\n",
        "\n",
        "# Menampilkan visualisasi jumlah data\n",
        "plt.figure(figsize=(8, 6))\n",
        "plt.bar(class_counts.keys(), class_counts.values())\n",
        "plt.xlabel('Class')\n",
        "plt.ylabel('Count')\n",
        "plt.title('Number of Data Samples for Each Class')\n",
        "plt.show()"
      ],
      "metadata": {
        "colab": {
          "base_uri": "https://localhost:8080/",
          "height": 564
        },
        "id": "-IcXHIM8Akcw",
        "outputId": "cc53b8cd-8465-466f-d7a1-4191acbb852c"
      },
      "execution_count": null,
      "outputs": [
        {
          "output_type": "display_data",
          "data": {
            "text/plain": [
              "<Figure size 800x600 with 1 Axes>"
            ],
            "image/png": "[encoded data removed]"
          },
          "metadata": {}
        }
      ]
    },
    {
      "cell_type": "code",
      "source": [
        "le = LabelEncoder()\n",
        "Y = le.fit_transform(Z)\n",
        "Y = to_categorical(Y, num_classes=len(le.classes_))\n",
        "\n",
        "# Konversi ke array numpy\n",
        "X = np.array(X)\n",
        "\n",
        "# Memisahkan data menjadi data latih dan data uji\n",
        "X_train, X_test, Y_train, Y_test = train_test_split(X, Y, test_size=0.2, random_state=42)\n",
        "\n",
        "print(\"Jumlah Data Train adalah :\", len(X_train))\n",
        "print(\"Jumlah Data Test adalah :\", len(X_test))"
      ],
      "metadata": {
        "colab": {
          "base_uri": "https://localhost:8080/"
        },
        "id": "OI7kvVbXAqko",
        "outputId": "f73a7a0d-b7b4-4716-b4ac-f7374c3662c4"
      },
      "execution_count": null,
      "outputs": [
        {
          "output_type": "stream",
          "name": "stdout",
          "text": [
            "Jumlah Data Train adalah : 3350\n",
            "Jumlah Data Test adalah : 838\n"
          ]
        }
      ]
    },
    {
      "cell_type": "code",
      "source": [
        "datagen = ImageDataGenerator(\n",
        "    rotation_range=20,  # Rotasi gambar hingga 40 derajat\n",
        "    zoom_range=0.2,  # Zoom-in/Zoom-out gambar\n",
        "    horizontal_flip=True,  # Flipping horizontal gambar\n",
        "    vertical_flip=True\n",
        ")\n",
        "\n",
        "datagen.fit(X_train)"
      ],
      "metadata": {
        "id": "ue5XLCIlA2ld"
      },
      "execution_count": null,
      "outputs": []
    },
    {
      "cell_type": "code",
      "source": [
        "NUM_CLASSES = 4\n",
        "LEARNING_RATE = 1e-4\n",
        "\n",
        "# Fungsi untuk membuat arsitektur VGG16\n",
        "def build_vgg16(input_shape, num_classes):\n",
        "    model = models.Sequential()\n",
        "\n",
        "    # Block 1\n",
        "    model.add(layers.Conv2D(64, (3, 3), padding='same', activation='relu', input_shape=input_shape))\n",
        "    model.add(layers.Conv2D(64, (3, 3), padding='same', activation='relu'))\n",
        "    model.add(layers.MaxPooling2D((2, 2), strides=(2, 2)))\n",
        "\n",
        "    # Block 2\n",
        "    model.add(layers.Conv2D(128, (3, 3), padding='same', activation='relu'))\n",
        "    model.add(layers.Conv2D(128, (3, 3), padding='same', activation='relu'))\n",
        "    model.add(layers.MaxPooling2D((2, 2), strides=(2, 2)))\n",
        "\n",
        "    # Block 3\n",
        "    model.add(layers.Conv2D(256, (3, 3), padding='same', activation='relu'))\n",
        "    model.add(layers.Conv2D(256, (3, 3), padding='same', activation='relu'))\n",
        "    model.add(layers.Conv2D(256, (3, 3), padding='same', activation='relu'))\n",
        "    model.add(layers.MaxPooling2D((2, 2), strides=(2, 2)))\n",
        "\n",
        "    # Block 4\n",
        "    model.add(layers.Conv2D(512, (3, 3), padding='same', activation='relu'))\n",
        "    model.add(layers.Conv2D(512, (3, 3), padding='same', activation='relu'))\n",
        "    model.add(layers.Conv2D(512, (3, 3), padding='same', activation='relu'))\n",
        "    model.add(layers.MaxPooling2D((2, 2), strides=(2, 2)))\n",
        "\n",
        "    # Block 5\n",
        "    model.add(layers.Conv2D(512, (3, 3), padding='same', activation='relu'))\n",
        "    model.add(layers.Conv2D(512, (3, 3), padding='same', activation='relu'))\n",
        "    model.add(layers.Conv2D(512, (3, 3), padding='same', activation='relu'))\n",
        "    model.add(layers.MaxPooling2D((2, 2), strides=(2, 2)))\n",
        "\n",
        "    # Fully connected layers\n",
        "    model.add(layers.Flatten())\n",
        "    model.add(layers.Dense(4096, activation='relu'))\n",
        "    model.add(layers.Dropout(0.5))\n",
        "    model.add(layers.Dense(4096, activation='relu'))\n",
        "    model.add(layers.Dropout(0.5))\n",
        "    model.add(layers.Dense(num_classes, activation='softmax'))\n",
        "\n",
        "    return model\n",
        "\n",
        "# Buat model VGG16 tanpa transfer learning\n",
        "model_vgg16 = build_vgg16(input_shape=(IMAGE_SIZE_vgg16, IMAGE_SIZE_vgg16, 3), num_classes=NUM_CLASSES)\n",
        "\n",
        "# Kompilasi model\n",
        "model_vgg16.compile(optimizer=optimizers.Adam(learning_rate=LEARNING_RATE), loss='categorical_crossentropy', metrics=['accuracy'])\n",
        "\n",
        "# Ringkasan model\n",
        "model_vgg16.summary()\n",
        "\n",
        "history = model_vgg16.fit(X_train, Y_train, epochs=100, validation_data=(X_test, Y_test))"
      ],
      "metadata": {
        "id": "qg6h8yY_A62R",
        "colab": {
          "base_uri": "https://localhost:8080/"
        },
        "outputId": "78a86907-c7c9-4879-8d26-a539e485da40"
      },
      "execution_count": null,
      "outputs": [
        {
          "output_type": "stream",
          "name": "stdout",
          "text": [
            "Model: \"sequential\"\n",
            "_________________________________________________________________\n",
            " Layer (type)                Output Shape              Param #   \n",
            "=================================================================\n",
            " conv2d (Conv2D)             (None, 224, 224, 64)      1792      \n",
            "                                                                 \n",
            " conv2d_1 (Conv2D)           (None, 224, 224, 64)      36928     \n",
            "                                                                 \n",
            " max_pooling2d (MaxPooling2  (None, 112, 112, 64)      0         \n",
            " D)                                                              \n",
            "                                                                 \n",
            " conv2d_2 (Conv2D)           (None, 112, 112, 128)     73856     \n",
            "                                                                 \n",
            " conv2d_3 (Conv2D)           (None, 112, 112, 128)     147584    \n",
            "                                                                 \n",
            " max_pooling2d_1 (MaxPoolin  (None, 56, 56, 128)       0         \n",
            " g2D)                                                            \n",
            "                                                                 \n",
            " conv2d_4 (Conv2D)           (None, 56, 56, 256)       295168    \n",
            "                                                                 \n",
            " conv2d_5 (Conv2D)           (None, 56, 56, 256)       590080    \n",
            "                                                                 \n",
            " conv2d_6 (Conv2D)           (None, 56, 56, 256)       590080    \n",
            "                                                                 \n",
            " max_pooling2d_2 (MaxPoolin  (None, 28, 28, 256)       0         \n",
            " g2D)                                                            \n",
            "                                                                 \n",
            " conv2d_7 (Conv2D)           (None, 28, 28, 512)       1180160   \n",
            "                                                                 \n",
            " conv2d_8 (Conv2D)           (None, 28, 28, 512)       2359808   \n",
            "                                                                 \n",
            " conv2d_9 (Conv2D)           (None, 28, 28, 512)       2359808   \n",
            "                                                                 \n",
            " max_pooling2d_3 (MaxPoolin  (None, 14, 14, 512)       0         \n",
            " g2D)                                                            \n",
            "                                                                 \n",
            " conv2d_10 (Conv2D)          (None, 14, 14, 512)       2359808   \n",
            "                                                                 \n",
            " conv2d_11 (Conv2D)          (None, 14, 14, 512)       2359808   \n",
            "                                                                 \n",
            " conv2d_12 (Conv2D)          (None, 14, 14, 512)       2359808   \n",
            "                                                                 \n",
            " max_pooling2d_4 (MaxPoolin  (None, 7, 7, 512)         0         \n",
            " g2D)                                                            \n",
            "                                                                 \n",
            " flatten (Flatten)           (None, 25088)             0         \n",
            "                                                                 \n",
            " dense (Dense)               (None, 4096)              102764544 \n",
            "                                                                 \n",
            " dropout (Dropout)           (None, 4096)              0         \n",
            "                                                                 \n",
            " dense_1 (Dense)             (None, 4096)              16781312  \n",
            "                                                                 \n",
            " dropout_1 (Dropout)         (None, 4096)              0         \n",
            "                                                                 \n",
            " dense_2 (Dense)             (None, 4)                 16388     \n",
            "                                                                 \n",
            "=================================================================\n",
            "Total params: 134276932 (512.23 MB)\n",
            "Trainable params: 134276932 (512.23 MB)\n",
            "Non-trainable params: 0 (0.00 Byte)\n",
            "_________________________________________________________________\n",
            "Epoch 1/100\n",
            "105/105 [==============================] - 88s 588ms/step - loss: 1.0285 - accuracy: 0.5149 - val_loss: 0.8101 - val_accuracy: 0.5847\n",
            "Epoch 2/100\n",
            "105/105 [==============================] - 47s 447ms/step - loss: 0.6627 - accuracy: 0.7033 - val_loss: 0.4297 - val_accuracy: 0.8115\n",
            "Epoch 3/100\n",
            "105/105 [==============================] - 48s 455ms/step - loss: 0.3891 - accuracy: 0.8433 - val_loss: 0.3646 - val_accuracy: 0.8568\n",
            "Epoch 4/100\n",
            "105/105 [==============================] - 50s 473ms/step - loss: 0.3500 - accuracy: 0.8600 - val_loss: 0.3088 - val_accuracy: 0.8783\n",
            "Epoch 5/100\n",
            "105/105 [==============================] - 48s 455ms/step - loss: 0.2952 - accuracy: 0.8731 - val_loss: 0.2598 - val_accuracy: 0.8783\n",
            "Epoch 6/100\n",
            "105/105 [==============================] - 48s 455ms/step - loss: 0.2704 - accuracy: 0.8910 - val_loss: 0.4187 - val_accuracy: 0.8711\n",
            "Epoch 7/100\n",
            "105/105 [==============================] - 50s 474ms/step - loss: 0.2635 - accuracy: 0.8934 - val_loss: 0.3851 - val_accuracy: 0.8759\n",
            "Epoch 8/100\n",
            "105/105 [==============================] - 48s 455ms/step - loss: 0.2429 - accuracy: 0.8970 - val_loss: 0.2513 - val_accuracy: 0.8711\n",
            "Epoch 9/100\n",
            "105/105 [==============================] - 48s 455ms/step - loss: 0.2009 - accuracy: 0.9161 - val_loss: 0.2356 - val_accuracy: 0.8962\n",
            "Epoch 10/100\n",
            "105/105 [==============================] - 50s 473ms/step - loss: 0.1795 - accuracy: 0.9266 - val_loss: 0.2458 - val_accuracy: 0.8998\n",
            "Epoch 11/100\n",
            "105/105 [==============================] - 48s 455ms/step - loss: 0.1555 - accuracy: 0.9415 - val_loss: 0.3648 - val_accuracy: 0.8866\n",
            "Epoch 12/100\n",
            "105/105 [==============================] - 48s 454ms/step - loss: 0.1335 - accuracy: 0.9496 - val_loss: 0.3564 - val_accuracy: 0.8640\n",
            "Epoch 13/100\n",
            "105/105 [==============================] - 50s 472ms/step - loss: 0.1223 - accuracy: 0.9567 - val_loss: 0.2952 - val_accuracy: 0.9021\n",
            "Epoch 14/100\n",
            "105/105 [==============================] - 50s 473ms/step - loss: 0.1002 - accuracy: 0.9645 - val_loss: 0.2668 - val_accuracy: 0.9045\n",
            "Epoch 15/100\n",
            "105/105 [==============================] - 48s 454ms/step - loss: 0.0570 - accuracy: 0.9800 - val_loss: 0.4346 - val_accuracy: 0.8735\n",
            "Epoch 16/100\n",
            "105/105 [==============================] - 48s 454ms/step - loss: 0.0899 - accuracy: 0.9788 - val_loss: 0.4384 - val_accuracy: 0.8819\n",
            "Epoch 17/100\n",
            "105/105 [==============================] - 47s 452ms/step - loss: 0.0946 - accuracy: 0.9693 - val_loss: 0.3948 - val_accuracy: 0.8854\n",
            "Epoch 18/100\n",
            "105/105 [==============================] - 49s 471ms/step - loss: 0.0495 - accuracy: 0.9848 - val_loss: 0.4464 - val_accuracy: 0.8819\n",
            "Epoch 19/100\n",
            "105/105 [==============================] - 49s 468ms/step - loss: 0.0301 - accuracy: 0.9925 - val_loss: 0.5858 - val_accuracy: 0.8962\n",
            "Epoch 20/100\n",
            "105/105 [==============================] - 49s 469ms/step - loss: 0.0512 - accuracy: 0.9872 - val_loss: 0.4737 - val_accuracy: 0.8723\n",
            "Epoch 21/100\n",
            "105/105 [==============================] - 47s 452ms/step - loss: 0.0176 - accuracy: 0.9964 - val_loss: 0.7174 - val_accuracy: 0.8914\n",
            "Epoch 22/100\n",
            "105/105 [==============================] - 49s 469ms/step - loss: 0.0235 - accuracy: 0.9919 - val_loss: 0.5113 - val_accuracy: 0.8795\n",
            "Epoch 23/100\n",
            "105/105 [==============================] - 49s 469ms/step - loss: 0.0308 - accuracy: 0.9904 - val_loss: 0.6124 - val_accuracy: 0.8854\n",
            "Epoch 24/100\n",
            "105/105 [==============================] - 49s 470ms/step - loss: 0.0220 - accuracy: 0.9916 - val_loss: 0.5163 - val_accuracy: 0.8890\n",
            "Epoch 25/100\n",
            "105/105 [==============================] - 47s 449ms/step - loss: 0.0244 - accuracy: 0.9934 - val_loss: 0.5331 - val_accuracy: 0.8783\n",
            "Epoch 26/100\n",
            "105/105 [==============================] - 49s 468ms/step - loss: 0.0185 - accuracy: 0.9946 - val_loss: 0.8226 - val_accuracy: 0.8878\n",
            "Epoch 27/100\n",
            "105/105 [==============================] - 49s 468ms/step - loss: 0.0147 - accuracy: 0.9967 - val_loss: 0.5713 - val_accuracy: 0.8938\n",
            "Epoch 28/100\n",
            "105/105 [==============================] - 47s 450ms/step - loss: 0.0066 - accuracy: 0.9988 - val_loss: 0.4672 - val_accuracy: 0.8986\n",
            "Epoch 29/100\n",
            "105/105 [==============================] - 49s 469ms/step - loss: 0.0064 - accuracy: 0.9979 - val_loss: 0.5728 - val_accuracy: 0.8902\n",
            "Epoch 30/100\n",
            "105/105 [==============================] - 49s 467ms/step - loss: 0.0047 - accuracy: 0.9991 - val_loss: 0.5446 - val_accuracy: 0.8878\n",
            "Epoch 31/100\n",
            "105/105 [==============================] - 47s 450ms/step - loss: 0.0045 - accuracy: 0.9991 - val_loss: 0.5329 - val_accuracy: 0.8950\n",
            "Epoch 32/100\n",
            "105/105 [==============================] - 47s 450ms/step - loss: 0.0032 - accuracy: 0.9988 - val_loss: 0.5427 - val_accuracy: 0.8926\n",
            "Epoch 33/100\n",
            "105/105 [==============================] - 49s 468ms/step - loss: 0.0026 - accuracy: 0.9988 - val_loss: 0.6666 - val_accuracy: 0.8962\n",
            "Epoch 34/100\n",
            "105/105 [==============================] - 47s 449ms/step - loss: 0.0032 - accuracy: 0.9994 - val_loss: 0.5617 - val_accuracy: 0.8938\n",
            "Epoch 35/100\n",
            "105/105 [==============================] - 47s 449ms/step - loss: 0.0020 - accuracy: 0.9988 - val_loss: 0.5869 - val_accuracy: 0.8962\n",
            "Epoch 36/100\n",
            "105/105 [==============================] - 49s 467ms/step - loss: 0.0034 - accuracy: 0.9982 - val_loss: 0.6010 - val_accuracy: 0.9033\n",
            "Epoch 37/100\n",
            "105/105 [==============================] - 49s 468ms/step - loss: 0.0016 - accuracy: 0.9988 - val_loss: 0.6882 - val_accuracy: 0.8926\n",
            "Epoch 38/100\n",
            "105/105 [==============================] - 49s 468ms/step - loss: 0.0022 - accuracy: 0.9988 - val_loss: 0.6801 - val_accuracy: 0.8962\n",
            "Epoch 39/100\n",
            "105/105 [==============================] - 47s 450ms/step - loss: 0.0022 - accuracy: 0.9991 - val_loss: 0.6163 - val_accuracy: 0.8902\n",
            "Epoch 40/100\n",
            "105/105 [==============================] - 47s 449ms/step - loss: 0.0027 - accuracy: 0.9991 - val_loss: 0.7126 - val_accuracy: 0.8974\n",
            "Epoch 41/100\n",
            "105/105 [==============================] - 47s 449ms/step - loss: 0.0022 - accuracy: 0.9994 - val_loss: 0.5625 - val_accuracy: 0.9021\n",
            "Epoch 42/100\n",
            "105/105 [==============================] - 49s 469ms/step - loss: 0.0018 - accuracy: 0.9985 - val_loss: 0.6417 - val_accuracy: 0.8986\n",
            "Epoch 43/100\n",
            "105/105 [==============================] - 47s 450ms/step - loss: 0.0016 - accuracy: 0.9991 - val_loss: 0.6517 - val_accuracy: 0.8974\n",
            "Epoch 44/100\n",
            "105/105 [==============================] - 49s 469ms/step - loss: 0.0022 - accuracy: 0.9988 - val_loss: 0.4761 - val_accuracy: 0.8962\n",
            "Epoch 45/100\n",
            "105/105 [==============================] - 49s 467ms/step - loss: 0.0029 - accuracy: 0.9985 - val_loss: 0.8089 - val_accuracy: 0.8854\n",
            "Epoch 46/100\n",
            "105/105 [==============================] - 47s 449ms/step - loss: 0.1785 - accuracy: 0.9519 - val_loss: 0.3177 - val_accuracy: 0.8890\n",
            "Epoch 47/100\n",
            "105/105 [==============================] - 47s 448ms/step - loss: 0.0545 - accuracy: 0.9815 - val_loss: 0.5703 - val_accuracy: 0.8807\n",
            "Epoch 48/100\n",
            "105/105 [==============================] - 49s 465ms/step - loss: 0.0622 - accuracy: 0.9806 - val_loss: 0.6229 - val_accuracy: 0.8759\n",
            "Epoch 49/100\n",
            "105/105 [==============================] - 49s 466ms/step - loss: 0.0806 - accuracy: 0.9833 - val_loss: 0.4962 - val_accuracy: 0.8819\n",
            "Epoch 50/100\n",
            "105/105 [==============================] - 47s 446ms/step - loss: 0.0286 - accuracy: 0.9907 - val_loss: 0.4976 - val_accuracy: 0.8842\n",
            "Epoch 51/100\n",
            "105/105 [==============================] - 47s 445ms/step - loss: 0.0170 - accuracy: 0.9952 - val_loss: 0.5574 - val_accuracy: 0.8878\n",
            "Epoch 52/100\n",
            "105/105 [==============================] - 47s 445ms/step - loss: 0.0035 - accuracy: 0.9991 - val_loss: 0.6319 - val_accuracy: 0.8974\n",
            "Epoch 53/100\n",
            "105/105 [==============================] - 49s 465ms/step - loss: 0.0053 - accuracy: 0.9991 - val_loss: 0.5203 - val_accuracy: 0.8938\n",
            "Epoch 54/100\n",
            "105/105 [==============================] - 49s 464ms/step - loss: 0.0020 - accuracy: 0.9988 - val_loss: 0.6451 - val_accuracy: 0.8974\n",
            "Epoch 55/100\n",
            "105/105 [==============================] - 49s 464ms/step - loss: 0.0020 - accuracy: 0.9991 - val_loss: 0.5890 - val_accuracy: 0.8974\n",
            "Epoch 56/100\n",
            "105/105 [==============================] - 49s 464ms/step - loss: 0.0026 - accuracy: 0.9988 - val_loss: 0.5656 - val_accuracy: 0.8950\n",
            "Epoch 57/100\n",
            "105/105 [==============================] - 49s 464ms/step - loss: 0.0017 - accuracy: 0.9994 - val_loss: 0.5770 - val_accuracy: 0.8926\n",
            "Epoch 58/100\n",
            "105/105 [==============================] - 49s 464ms/step - loss: 0.0022 - accuracy: 0.9988 - val_loss: 0.6323 - val_accuracy: 0.8938\n",
            "Epoch 59/100\n",
            "105/105 [==============================] - 49s 464ms/step - loss: 0.0013 - accuracy: 0.9994 - val_loss: 0.6870 - val_accuracy: 0.8950\n",
            "Epoch 60/100\n",
            "105/105 [==============================] - 47s 446ms/step - loss: 0.0019 - accuracy: 0.9988 - val_loss: 0.6712 - val_accuracy: 0.8926\n",
            "Epoch 61/100\n",
            "105/105 [==============================] - 47s 445ms/step - loss: 0.0011 - accuracy: 0.9994 - val_loss: 0.7104 - val_accuracy: 0.8962\n",
            "Epoch 62/100\n",
            "105/105 [==============================] - 47s 445ms/step - loss: 0.0024 - accuracy: 0.9988 - val_loss: 0.6551 - val_accuracy: 0.8902\n",
            "Epoch 63/100\n",
            "105/105 [==============================] - 49s 465ms/step - loss: 0.0019 - accuracy: 0.9988 - val_loss: 0.6228 - val_accuracy: 0.8938\n",
            "Epoch 64/100\n",
            "105/105 [==============================] - 49s 464ms/step - loss: 0.0020 - accuracy: 0.9985 - val_loss: 0.5786 - val_accuracy: 0.8950\n",
            "Epoch 65/100\n",
            "105/105 [==============================] - 49s 464ms/step - loss: 0.0012 - accuracy: 0.9994 - val_loss: 0.6726 - val_accuracy: 0.8938\n",
            "Epoch 66/100\n",
            "105/105 [==============================] - 49s 465ms/step - loss: 0.0016 - accuracy: 0.9991 - val_loss: 0.6269 - val_accuracy: 0.8938\n",
            "Epoch 67/100\n",
            "105/105 [==============================] - 49s 464ms/step - loss: 0.0012 - accuracy: 0.9991 - val_loss: 0.6738 - val_accuracy: 0.8914\n",
            "Epoch 68/100\n",
            "105/105 [==============================] - 47s 446ms/step - loss: 8.1729e-04 - accuracy: 0.9994 - val_loss: 0.7665 - val_accuracy: 0.8950\n",
            "Epoch 69/100\n",
            "105/105 [==============================] - 49s 465ms/step - loss: 0.0019 - accuracy: 0.9991 - val_loss: 0.6334 - val_accuracy: 0.8926\n",
            "Epoch 70/100\n",
            "105/105 [==============================] - 47s 446ms/step - loss: 0.0017 - accuracy: 0.9991 - val_loss: 0.6827 - val_accuracy: 0.8950\n",
            "Epoch 71/100\n",
            "105/105 [==============================] - 47s 446ms/step - loss: 0.0012 - accuracy: 0.9994 - val_loss: 0.7812 - val_accuracy: 0.8962\n",
            "Epoch 72/100\n",
            "105/105 [==============================] - 47s 446ms/step - loss: 0.0013 - accuracy: 0.9991 - val_loss: 0.6583 - val_accuracy: 0.8866\n",
            "Epoch 73/100\n",
            "105/105 [==============================] - 47s 446ms/step - loss: 0.0018 - accuracy: 0.9985 - val_loss: 0.6614 - val_accuracy: 0.8938\n",
            "Epoch 74/100\n",
            "105/105 [==============================] - 47s 446ms/step - loss: 0.0022 - accuracy: 0.9991 - val_loss: 0.5540 - val_accuracy: 0.8854\n",
            "Epoch 75/100\n",
            "105/105 [==============================] - 47s 446ms/step - loss: 0.1251 - accuracy: 0.9561 - val_loss: 0.4120 - val_accuracy: 0.8771\n",
            "Epoch 76/100\n",
            "105/105 [==============================] - 47s 445ms/step - loss: 0.0429 - accuracy: 0.9884 - val_loss: 0.6840 - val_accuracy: 0.8795\n",
            "Epoch 77/100\n",
            "105/105 [==============================] - 47s 445ms/step - loss: 0.0893 - accuracy: 0.9779 - val_loss: 0.8248 - val_accuracy: 0.8866\n",
            "Epoch 78/100\n",
            "105/105 [==============================] - 47s 446ms/step - loss: 0.0670 - accuracy: 0.9869 - val_loss: 1.0681 - val_accuracy: 0.8771\n",
            "Epoch 79/100\n",
            "105/105 [==============================] - 49s 465ms/step - loss: 0.0248 - accuracy: 0.9955 - val_loss: 0.6729 - val_accuracy: 0.8854\n",
            "Epoch 80/100\n",
            "105/105 [==============================] - 47s 445ms/step - loss: 0.0053 - accuracy: 0.9985 - val_loss: 0.5352 - val_accuracy: 0.8902\n",
            "Epoch 81/100\n",
            "105/105 [==============================] - 47s 445ms/step - loss: 0.0034 - accuracy: 0.9991 - val_loss: 0.5576 - val_accuracy: 0.8878\n",
            "Epoch 82/100\n",
            "105/105 [==============================] - 49s 464ms/step - loss: 0.0029 - accuracy: 0.9988 - val_loss: 0.5716 - val_accuracy: 0.8962\n",
            "Epoch 83/100\n",
            "105/105 [==============================] - 47s 445ms/step - loss: 0.0021 - accuracy: 0.9988 - val_loss: 0.6214 - val_accuracy: 0.8962\n",
            "Epoch 84/100\n",
            "105/105 [==============================] - 49s 464ms/step - loss: 0.0014 - accuracy: 0.9994 - val_loss: 0.6657 - val_accuracy: 0.8938\n",
            "Epoch 85/100\n",
            "105/105 [==============================] - 47s 445ms/step - loss: 0.0020 - accuracy: 0.9991 - val_loss: 0.6073 - val_accuracy: 0.8950\n",
            "Epoch 86/100\n",
            "105/105 [==============================] - 47s 445ms/step - loss: 0.0017 - accuracy: 0.9988 - val_loss: 0.6281 - val_accuracy: 0.8914\n",
            "Epoch 87/100\n",
            "105/105 [==============================] - 49s 464ms/step - loss: 0.0022 - accuracy: 0.9988 - val_loss: 0.6105 - val_accuracy: 0.8938\n",
            "Epoch 88/100\n",
            "105/105 [==============================] - 47s 445ms/step - loss: 0.0014 - accuracy: 0.9991 - val_loss: 0.6809 - val_accuracy: 0.8938\n",
            "Epoch 89/100\n",
            "105/105 [==============================] - 47s 445ms/step - loss: 0.0017 - accuracy: 0.9988 - val_loss: 0.6502 - val_accuracy: 0.8938\n",
            "Epoch 90/100\n",
            "105/105 [==============================] - 49s 464ms/step - loss: 0.0020 - accuracy: 0.9994 - val_loss: 0.6106 - val_accuracy: 0.8938\n",
            "Epoch 91/100\n",
            "105/105 [==============================] - 47s 445ms/step - loss: 0.0017 - accuracy: 0.9991 - val_loss: 0.6169 - val_accuracy: 0.8926\n",
            "Epoch 92/100\n",
            "105/105 [==============================] - 49s 463ms/step - loss: 0.0011 - accuracy: 0.9994 - val_loss: 0.6964 - val_accuracy: 0.8950\n",
            "Epoch 93/100\n",
            "105/105 [==============================] - 49s 464ms/step - loss: 0.0013 - accuracy: 0.9991 - val_loss: 0.7041 - val_accuracy: 0.8962\n",
            "Epoch 94/100\n",
            "105/105 [==============================] - 49s 464ms/step - loss: 0.0017 - accuracy: 0.9988 - val_loss: 0.6945 - val_accuracy: 0.8974\n",
            "Epoch 95/100\n",
            "105/105 [==============================] - 47s 446ms/step - loss: 0.0015 - accuracy: 0.9988 - val_loss: 0.6935 - val_accuracy: 0.8926\n",
            "Epoch 96/100\n",
            "105/105 [==============================] - 47s 445ms/step - loss: 0.0013 - accuracy: 0.9988 - val_loss: 0.7040 - val_accuracy: 0.8962\n",
            "Epoch 97/100\n",
            "105/105 [==============================] - 47s 445ms/step - loss: 0.0010 - accuracy: 0.9991 - val_loss: 0.7546 - val_accuracy: 0.8950\n",
            "Epoch 98/100\n",
            "105/105 [==============================] - 47s 445ms/step - loss: 0.0012 - accuracy: 0.9994 - val_loss: 0.6636 - val_accuracy: 0.8914\n",
            "Epoch 99/100\n",
            "105/105 [==============================] - 47s 445ms/step - loss: 0.0011 - accuracy: 0.9994 - val_loss: 0.7403 - val_accuracy: 0.8938\n",
            "Epoch 100/100\n",
            "105/105 [==============================] - 49s 464ms/step - loss: 0.0020 - accuracy: 0.9991 - val_loss: 0.5507 - val_accuracy: 0.8890\n"
          ]
        }
      ]
    },
    {
      "cell_type": "code",
      "source": [
        "from sklearn.metrics import confusion_matrix, classification_report\n",
        "import numpy as np\n",
        "import matplotlib.pyplot as plt\n",
        "import seaborn as sns\n",
        "\n",
        "Y_pred = model_vgg16.predict(X_test)\n",
        "Y_pred_classes = np.argmax(Y_pred, axis=1)\n",
        "Y_true = np.argmax(Y_test, axis=1)\n",
        "\n",
        "conf_matrix = confusion_matrix(Y_true, Y_pred_classes)\n",
        "\n",
        "plt.figure(figsize=(8, 6))\n",
        "sns.heatmap(conf_matrix, annot=True, fmt=\"d\", cmap=\"Blues\", xticklabels=['Common_Rust', 'Healthy', 'Gray_Leaf_Spot', 'Blight'], yticklabels=['Common_Rust', 'Healthy', 'Gray_Leaf_Spot', 'Blight'])\n",
        "plt.xlabel('Predicted labels')\n",
        "plt.ylabel('True labels')\n",
        "plt.title('Confusion Matrix')\n",
        "plt.show()\n",
        "\n",
        "class_report = classification_report(Y_true, Y_pred_classes)\n",
        "\n",
        "print(\"\\nClassification Report:\")\n",
        "print(class_report)"
      ],
      "metadata": {
        "id": "W2svXyjyTjeo",
        "colab": {
          "base_uri": "https://localhost:8080/",
          "height": 807
        },
        "outputId": "66f68577-41b1-4b9e-f0d9-ce9a1af585a1"
      },
      "execution_count": null,
      "outputs": [
        {
          "output_type": "stream",
          "name": "stdout",
          "text": [
            "27/27 [==============================] - 3s 119ms/step\n"
          ]
        },
        {
          "output_type": "display_data",
          "data": {
            "text/plain": [
              "<Figure size 800x600 with 2 Axes>"
            ],
            "image/png": "[encoded data removed]"
          },
          "metadata": {}
        },
        {
          "output_type": "stream",
          "name": "stdout",
          "text": [
            "\n",
            "Classification Report:\n",
            "              precision    recall  f1-score   support\n",
            "\n",
            "           0       0.82      0.83      0.82       218\n",
            "           1       0.96      0.94      0.95       289\n",
            "           2       0.65      0.64      0.65       104\n",
            "           3       0.98      1.00      0.99       227\n",
            "\n",
            "    accuracy                           0.89       838\n",
            "   macro avg       0.85      0.85      0.85       838\n",
            "weighted avg       0.89      0.89      0.89       838\n",
            "\n"
          ]
        }
      ]
    }
  ]
}
