{
  "nbformat": 4,
  "nbformat_minor": 0,
  "metadata": {
    "colab": {
      "provenance": [],
      "gpuType": "T4",
      "include_colab_link": true
    },
    "kernelspec": {
      "name": "python3",
      "display_name": "Python 3"
    },
    "language_info": {
      "name": "python"
    },
    "accelerator": "GPU"
  },
  "cells": [
    {
      "cell_type": "markdown",
      "metadata": {
        "id": "view-in-github",
        "colab_type": "text"
      },
      "source": [
        "<a href=\"https://colab.research.google.com/github/Smjfirna/Arsitektur-Compration/blob/main/VGG16%20final/WOTL%2050.ipynb\" target=\"_parent\"><img src=\"https://colab.research.google.com/assets/colab-badge.svg\" alt=\"Open In Colab\"/></a>"
      ]
    },
    {
      "cell_type": "code",
      "source": [
        "#Preprocessing\n",
        "import os\n",
        "import cv2\n",
        "import numpy as np\n",
        "from tqdm import tqdm\n",
        "from sklearn.model_selection import train_test_split\n",
        "from sklearn.preprocessing import LabelEncoder\n",
        "from keras.utils import to_categorical\n",
        "\n",
        "#Model dan Augmentasi\n",
        "import tensorflow as tf\n",
        "from tensorflow.keras.preprocessing.image import ImageDataGenerator\n",
        "from tensorflow.keras.models import Sequential\n",
        "from tensorflow.keras import layers, Model, regularizers\n",
        "from tensorflow.keras.callbacks import EarlyStopping\n",
        "from tensorflow.keras.layers import Conv2D, MaxPooling2D, Flatten, Dense, GlobalAveragePooling2D, Dropout\n",
        "from tensorflow.keras import layers, models, optimizers\n",
        "import os\n",
        "from tensorflow.keras.optimizers import Adam\n",
        "from tensorflow.keras.optimizers import RMSprop\n",
        "from tensorflow.keras.applications import VGG16\n",
        "\n",
        "# Evaluasi\n",
        "#import torch\n",
        "#import torchvision.models as models\n",
        "#from thop import profile\n",
        "from sklearn.metrics import confusion_matrix, classification_report\n",
        "\n",
        "#Visualisasi\n",
        "import matplotlib.pyplot as plt\n",
        "import seaborn as sns\n",
        "import os\n",
        "import cv2\n",
        "import numpy as np\n",
        "from tqdm import tqdm\n",
        "from sklearn.model_selection import train_test_split\n",
        "from sklearn.preprocessing import LabelEncoder\n",
        "from keras.utils import to_categorical"
      ],
      "metadata": {
        "id": "NMN3beIVALVJ"
      },
      "execution_count": 1,
      "outputs": []
    },
    {
      "cell_type": "code",
      "execution_count": 2,
      "metadata": {
        "colab": {
          "base_uri": "https://localhost:8080/",
          "height": 90
        },
        "id": "GK3MPeDN_Ofu",
        "outputId": "45b26ca2-6b7e-49af-897e-ee7d01e022ee"
      },
      "outputs": [
        {
          "output_type": "display_data",
          "data": {
            "text/plain": [
              "<IPython.core.display.HTML object>"
            ],
            "text/html": [
              "\n",
              "     <input type=\"file\" id=\"files-1ca1d698-c5cc-4fc6-9bcd-cbe2ab3f9bec\" name=\"files[]\" multiple disabled\n",
              "        style=\"border:none\" />\n",
              "     <output id=\"result-1ca1d698-c5cc-4fc6-9bcd-cbe2ab3f9bec\">\n",
              "      Upload widget is only available when the cell has been executed in the\n",
              "      current browser session. Please rerun this cell to enable.\n",
              "      </output>\n",
              "      <script>// Copyright 2017 Google LLC\n",
              "//\n",
              "// Licensed under the Apache License, Version 2.0 (the \"License\");\n",
              "// you may not use this file except in compliance with the License.\n",
              "// You may obtain a copy of the License at\n",
              "//\n",
              "//      http://www.apache.org/licenses/LICENSE-2.0\n",
              "//\n",
              "// Unless required by applicable law or agreed to in writing, software\n",
              "// distributed under the License is distributed on an \"AS IS\" BASIS,\n",
              "// WITHOUT WARRANTIES OR CONDITIONS OF ANY KIND, either express or implied.\n",
              "// See the License for the specific language governing permissions and\n",
              "// limitations under the License.\n",
              "\n",
              "/**\n",
              " * @fileoverview Helpers for google.colab Python module.\n",
              " */\n",
              "(function(scope) {\n",
              "function span(text, styleAttributes = {}) {\n",
              "  const element = document.createElement('span');\n",
              "  element.textContent = text;\n",
              "  for (const key of Object.keys(styleAttributes)) {\n",
              "    element.style[key] = styleAttributes[key];\n",
              "  }\n",
              "  return element;\n",
              "}\n",
              "\n",
              "// Max number of bytes which will be uploaded at a time.\n",
              "const MAX_PAYLOAD_SIZE = 100 * 1024;\n",
              "\n",
              "function _uploadFiles(inputId, outputId) {\n",
              "  const steps = uploadFilesStep(inputId, outputId);\n",
              "  const outputElement = document.getElementById(outputId);\n",
              "  // Cache steps on the outputElement to make it available for the next call\n",
              "  // to uploadFilesContinue from Python.\n",
              "  outputElement.steps = steps;\n",
              "\n",
              "  return _uploadFilesContinue(outputId);\n",
              "}\n",
              "\n",
              "// This is roughly an async generator (not supported in the browser yet),\n",
              "// where there are multiple asynchronous steps and the Python side is going\n",
              "// to poll for completion of each step.\n",
              "// This uses a Promise to block the python side on completion of each step,\n",
              "// then passes the result of the previous step as the input to the next step.\n",
              "function _uploadFilesContinue(outputId) {\n",
              "  const outputElement = document.getElementById(outputId);\n",
              "  const steps = outputElement.steps;\n",
              "\n",
              "  const next = steps.next(outputElement.lastPromiseValue);\n",
              "  return Promise.resolve(next.value.promise).then((value) => {\n",
              "    // Cache the last promise value to make it available to the next\n",
              "    // step of the generator.\n",
              "    outputElement.lastPromiseValue = value;\n",
              "    return next.value.response;\n",
              "  });\n",
              "}\n",
              "\n",
              "/**\n",
              " * Generator function which is called between each async step of the upload\n",
              " * process.\n",
              " * @param {string} inputId Element ID of the input file picker element.\n",
              " * @param {string} outputId Element ID of the output display.\n",
              " * @return {!Iterable<!Object>} Iterable of next steps.\n",
              " */\n",
              "function* uploadFilesStep(inputId, outputId) {\n",
              "  const inputElement = document.getElementById(inputId);\n",
              "  inputElement.disabled = false;\n",
              "\n",
              "  const outputElement = document.getElementById(outputId);\n",
              "  outputElement.innerHTML = '';\n",
              "\n",
              "  const pickedPromise = new Promise((resolve) => {\n",
              "    inputElement.addEventListener('change', (e) => {\n",
              "      resolve(e.target.files);\n",
              "    });\n",
              "  });\n",
              "\n",
              "  const cancel = document.createElement('button');\n",
              "  inputElement.parentElement.appendChild(cancel);\n",
              "  cancel.textContent = 'Cancel upload';\n",
              "  const cancelPromise = new Promise((resolve) => {\n",
              "    cancel.onclick = () => {\n",
              "      resolve(null);\n",
              "    };\n",
              "  });\n",
              "\n",
              "  // Wait for the user to pick the files.\n",
              "  const files = yield {\n",
              "    promise: Promise.race([pickedPromise, cancelPromise]),\n",
              "    response: {\n",
              "      action: 'starting',\n",
              "    }\n",
              "  };\n",
              "\n",
              "  cancel.remove();\n",
              "\n",
              "  // Disable the input element since further picks are not allowed.\n",
              "  inputElement.disabled = true;\n",
              "\n",
              "  if (!files) {\n",
              "    return {\n",
              "      response: {\n",
              "        action: 'complete',\n",
              "      }\n",
              "    };\n",
              "  }\n",
              "\n",
              "  for (const file of files) {\n",
              "    const li = document.createElement('li');\n",
              "    li.append(span(file.name, {fontWeight: 'bold'}));\n",
              "    li.append(span(\n",
              "        `(${file.type || 'n/a'}) - ${file.size} bytes, ` +\n",
              "        `last modified: ${\n",
              "            file.lastModifiedDate ? file.lastModifiedDate.toLocaleDateString() :\n",
              "                                    'n/a'} - `));\n",
              "    const percent = span('0% done');\n",
              "    li.appendChild(percent);\n",
              "\n",
              "    outputElement.appendChild(li);\n",
              "\n",
              "    const fileDataPromise = new Promise((resolve) => {\n",
              "      const reader = new FileReader();\n",
              "      reader.onload = (e) => {\n",
              "        resolve(e.target.result);\n",
              "      };\n",
              "      reader.readAsArrayBuffer(file);\n",
              "    });\n",
              "    // Wait for the data to be ready.\n",
              "    let fileData = yield {\n",
              "      promise: fileDataPromise,\n",
              "      response: {\n",
              "        action: 'continue',\n",
              "      }\n",
              "    };\n",
              "\n",
              "    // Use a chunked sending to avoid message size limits. See b/62115660.\n",
              "    let position = 0;\n",
              "    do {\n",
              "      const length = Math.min(fileData.byteLength - position, MAX_PAYLOAD_SIZE);\n",
              "      const chunk = new Uint8Array(fileData, position, length);\n",
              "      position += length;\n",
              "\n",
              "      const base64 = btoa(String.fromCharCode.apply(null, chunk));\n",
              "      yield {\n",
              "        response: {\n",
              "          action: 'append',\n",
              "          file: file.name,\n",
              "          data: base64,\n",
              "        },\n",
              "      };\n",
              "\n",
              "      let percentDone = fileData.byteLength === 0 ?\n",
              "          100 :\n",
              "          Math.round((position / fileData.byteLength) * 100);\n",
              "      percent.textContent = `${percentDone}% done`;\n",
              "\n",
              "    } while (position < fileData.byteLength);\n",
              "  }\n",
              "\n",
              "  // All done.\n",
              "  yield {\n",
              "    response: {\n",
              "      action: 'complete',\n",
              "    }\n",
              "  };\n",
              "}\n",
              "\n",
              "scope.google = scope.google || {};\n",
              "scope.google.colab = scope.google.colab || {};\n",
              "scope.google.colab._files = {\n",
              "  _uploadFiles,\n",
              "  _uploadFilesContinue,\n",
              "};\n",
              "})(self);\n",
              "</script> "
            ]
          },
          "metadata": {}
        },
        {
          "output_type": "stream",
          "name": "stdout",
          "text": [
            "Saving kaggle.json to kaggle.json\n"
          ]
        },
        {
          "output_type": "execute_result",
          "data": {
            "text/plain": [
              "{'kaggle.json': b'{\"username\":\"smjayyy\",\"key\":\"8eb172e224d83c7b56b4a2ef349b7c0d\"}'}"
            ]
          },
          "metadata": {},
          "execution_count": 2
        }
      ],
      "source": [
        "from google.colab import files\n",
        "files.upload()"
      ]
    },
    {
      "cell_type": "code",
      "source": [
        "!mkdir -p ~/.kaggle\n",
        "!cp kaggle.json ~/.kaggle/\n",
        "!chmod 600 ~/.kaggle/kaggle.json"
      ],
      "metadata": {
        "id": "Y9Kia11G_5Si"
      },
      "execution_count": 3,
      "outputs": []
    },
    {
      "cell_type": "code",
      "source": [
        "##link dataset in Kaggle.com\n",
        "!kaggle datasets download -d smaranjitghose/corn-or-maize-leaf-disease-dataset"
      ],
      "metadata": {
        "colab": {
          "base_uri": "https://localhost:8080/"
        },
        "id": "apfKVlxj_8FJ",
        "outputId": "0563ebcb-1a80-4d48-8404-9375868ea27c"
      },
      "execution_count": 4,
      "outputs": [
        {
          "output_type": "stream",
          "name": "stdout",
          "text": [
            "Dataset URL: https://www.kaggle.com/datasets/smaranjitghose/corn-or-maize-leaf-disease-dataset\n",
            "License(s): copyright-authors\n",
            "Downloading corn-or-maize-leaf-disease-dataset.zip to /content\n",
            " 99% 159M/161M [00:09<00:00, 23.0MB/s]\n",
            "100% 161M/161M [00:09<00:00, 17.5MB/s]\n"
          ]
        }
      ]
    },
    {
      "cell_type": "code",
      "source": [
        "!unzip -q corn-or-maize-leaf-disease-dataset.zip -d /content"
      ],
      "metadata": {
        "id": "ixMUoB2rAAd3"
      },
      "execution_count": 5,
      "outputs": []
    },
    {
      "cell_type": "code",
      "source": [
        "dataset_dir = '/content/data'"
      ],
      "metadata": {
        "id": "pZ8IerIQAGFO"
      },
      "execution_count": 6,
      "outputs": []
    },
    {
      "cell_type": "code",
      "source": [
        "print(os.listdir(dataset_dir))"
      ],
      "metadata": {
        "colab": {
          "base_uri": "https://localhost:8080/"
        },
        "id": "9wwka8QaAIcj",
        "outputId": "4ed402cd-22d0-42da-d72c-bce498fbb03b"
      },
      "execution_count": 7,
      "outputs": [
        {
          "output_type": "stream",
          "name": "stdout",
          "text": [
            "['Healthy', 'Gray_Leaf_Spot', 'Common_Rust', 'Blight']\n"
          ]
        }
      ]
    },
    {
      "cell_type": "code",
      "source": [
        "IMAGE_SIZE_vgg16 = 224"
      ],
      "metadata": {
        "id": "_UCEuA-hAPSa"
      },
      "execution_count": 8,
      "outputs": []
    },
    {
      "cell_type": "code",
      "source": [
        "def make_data(label, DIR, img_list, label_list):\n",
        "    for img in tqdm(os.listdir(DIR)):\n",
        "        path = os.path.join(DIR, img)\n",
        "        img = cv2.imread(path, cv2.IMREAD_COLOR)\n",
        "        img = cv2.resize(img, (IMAGE_SIZE_vgg16, IMAGE_SIZE_vgg16))\n",
        "        img_list.append(np.array(img))\n",
        "        label_list.append(str(label))"
      ],
      "metadata": {
        "id": "B3menIgvARk5"
      },
      "execution_count": 9,
      "outputs": []
    },
    {
      "cell_type": "code",
      "source": [
        "X = []\n",
        "Z = []"
      ],
      "metadata": {
        "id": "Jn6gWefxATyU"
      },
      "execution_count": 10,
      "outputs": []
    },
    {
      "cell_type": "code",
      "source": [
        "for i, class_name in enumerate(['Common_Rust', 'Healthy', 'Gray_Leaf_Spot', 'Blight']):\n",
        "    class_dir = os.path.join(dataset_dir, class_name)\n",
        "    make_data(class_name, class_dir, X, Z)"
      ],
      "metadata": {
        "colab": {
          "base_uri": "https://localhost:8080/"
        },
        "id": "S9-RQTGJAWCk",
        "outputId": "467fa569-2fc1-4499-ce20-606e82e8e485"
      },
      "execution_count": 11,
      "outputs": [
        {
          "output_type": "stream",
          "name": "stderr",
          "text": [
            "100%|██████████| 1306/1306 [00:05<00:00, 245.38it/s]\n",
            "100%|██████████| 1162/1162 [00:01<00:00, 918.62it/s]\n",
            "100%|██████████| 574/574 [00:01<00:00, 371.31it/s]\n",
            "100%|██████████| 1146/1146 [00:04<00:00, 246.09it/s]\n"
          ]
        }
      ]
    },
    {
      "cell_type": "code",
      "source": [
        "import matplotlib.pyplot as plt\n",
        "\n",
        "# Menghitung jumlah data untuk setiap kelas\n",
        "class_counts = {class_name: Z.count(class_name) for class_name in set(Z)}\n",
        "\n",
        "# Menampilkan visualisasi jumlah data\n",
        "plt.figure(figsize=(8, 6))\n",
        "plt.bar(class_counts.keys(), class_counts.values())\n",
        "plt.xlabel('Class')\n",
        "plt.ylabel('Count')\n",
        "plt.title('Number of Data Samples for Each Class')\n",
        "plt.show()"
      ],
      "metadata": {
        "colab": {
          "base_uri": "https://localhost:8080/",
          "height": 564
        },
        "id": "-IcXHIM8Akcw",
        "outputId": "0dd6ed55-0867-4fe5-b07e-22fc59997ac2"
      },
      "execution_count": 12,
      "outputs": [
        {
          "output_type": "display_data",
          "data": {
            "text/plain": [
              "<Figure size 800x600 with 1 Axes>"
            ],
            "image/png": "[encoded data removed]"
          },
          "metadata": {}
        }
      ]
    },
    {
      "cell_type": "code",
      "source": [
        "le = LabelEncoder()\n",
        "Y = le.fit_transform(Z)\n",
        "Y = to_categorical(Y, num_classes=len(le.classes_))\n",
        "\n",
        "# Konversi ke array numpy\n",
        "X = np.array(X)\n",
        "\n",
        "# Memisahkan data menjadi data latih dan data uji\n",
        "X_train, X_test, Y_train, Y_test = train_test_split(X, Y, test_size=0.2, random_state=42)\n",
        "\n",
        "print(\"Jumlah Data Train adalah :\", len(X_train))\n",
        "print(\"Jumlah Data Test adalah :\", len(X_test))"
      ],
      "metadata": {
        "colab": {
          "base_uri": "https://localhost:8080/"
        },
        "id": "OI7kvVbXAqko",
        "outputId": "b81a64d1-5403-44b0-991f-0a7dc2c997f5"
      },
      "execution_count": 13,
      "outputs": [
        {
          "output_type": "stream",
          "name": "stdout",
          "text": [
            "Jumlah Data Train adalah : 3350\n",
            "Jumlah Data Test adalah : 838\n"
          ]
        }
      ]
    },
    {
      "cell_type": "code",
      "source": [
        "datagen = ImageDataGenerator(\n",
        "    rotation_range=20,  # Rotasi gambar hingga 40 derajat\n",
        "    zoom_range=0.2,  # Zoom-in/Zoom-out gambar\n",
        "    horizontal_flip=True,  # Flipping horizontal gambar\n",
        "    vertical_flip=True\n",
        ")\n",
        "\n",
        "datagen.fit(X_train)"
      ],
      "metadata": {
        "id": "ue5XLCIlA2ld"
      },
      "execution_count": 14,
      "outputs": []
    },
    {
      "cell_type": "code",
      "source": [
        "NUM_CLASSES = 4\n",
        "LEARNING_RATE = 1e-4\n",
        "\n",
        "# Fungsi untuk membuat arsitektur VGG16\n",
        "def build_vgg16(input_shape, num_classes):\n",
        "    model = models.Sequential()\n",
        "\n",
        "    # Block 1\n",
        "    model.add(layers.Conv2D(64, (3, 3), padding='same', activation='relu', input_shape=input_shape))\n",
        "    model.add(layers.Conv2D(64, (3, 3), padding='same', activation='relu'))\n",
        "    model.add(layers.MaxPooling2D((2, 2), strides=(2, 2)))\n",
        "\n",
        "    # Block 2\n",
        "    model.add(layers.Conv2D(128, (3, 3), padding='same', activation='relu'))\n",
        "    model.add(layers.Conv2D(128, (3, 3), padding='same', activation='relu'))\n",
        "    model.add(layers.MaxPooling2D((2, 2), strides=(2, 2)))\n",
        "\n",
        "    # Block 3\n",
        "    model.add(layers.Conv2D(256, (3, 3), padding='same', activation='relu'))\n",
        "    model.add(layers.Conv2D(256, (3, 3), padding='same', activation='relu'))\n",
        "    model.add(layers.Conv2D(256, (3, 3), padding='same', activation='relu'))\n",
        "    model.add(layers.MaxPooling2D((2, 2), strides=(2, 2)))\n",
        "\n",
        "    # Block 4\n",
        "    model.add(layers.Conv2D(512, (3, 3), padding='same', activation='relu'))\n",
        "    model.add(layers.Conv2D(512, (3, 3), padding='same', activation='relu'))\n",
        "    model.add(layers.Conv2D(512, (3, 3), padding='same', activation='relu'))\n",
        "    model.add(layers.MaxPooling2D((2, 2), strides=(2, 2)))\n",
        "\n",
        "    # Block 5\n",
        "    model.add(layers.Conv2D(512, (3, 3), padding='same', activation='relu'))\n",
        "    model.add(layers.Conv2D(512, (3, 3), padding='same', activation='relu'))\n",
        "    model.add(layers.Conv2D(512, (3, 3), padding='same', activation='relu'))\n",
        "    model.add(layers.MaxPooling2D((2, 2), strides=(2, 2)))\n",
        "\n",
        "    # Fully connected layers\n",
        "    model.add(layers.Flatten())\n",
        "    model.add(layers.Dense(4096, activation='relu'))\n",
        "    model.add(layers.Dropout(0.5))\n",
        "    model.add(layers.Dense(4096, activation='relu'))\n",
        "    model.add(layers.Dropout(0.5))\n",
        "    model.add(layers.Dense(num_classes, activation='softmax'))\n",
        "\n",
        "    return model\n",
        "\n",
        "# Buat model VGG16 tanpa transfer learning\n",
        "model_vgg16 = build_vgg16(input_shape=(IMAGE_SIZE_vgg16, IMAGE_SIZE_vgg16, 3), num_classes=NUM_CLASSES)\n",
        "\n",
        "# Kompilasi model\n",
        "model_vgg16.compile(optimizer=optimizers.Adam(learning_rate=LEARNING_RATE), loss='categorical_crossentropy', metrics=['accuracy'])\n",
        "\n",
        "# Ringkasan model\n",
        "model_vgg16.summary()\n",
        "\n",
        "history = model_vgg16.fit(X_train, Y_train, epochs=50, batch_size=32, validation_data=(X_test, Y_test))"
      ],
      "metadata": {
        "id": "qg6h8yY_A62R",
        "colab": {
          "base_uri": "https://localhost:8080/"
        },
        "outputId": "edb875f5-5b62-48be-93aa-b83090815625"
      },
      "execution_count": 15,
      "outputs": [
        {
          "output_type": "stream",
          "name": "stdout",
          "text": [
            "Model: \"sequential\"\n",
            "_________________________________________________________________\n",
            " Layer (type)                Output Shape              Param #   \n",
            "=================================================================\n",
            " conv2d (Conv2D)             (None, 224, 224, 64)      1792      \n",
            "                                                                 \n",
            " conv2d_1 (Conv2D)           (None, 224, 224, 64)      36928     \n",
            "                                                                 \n",
            " max_pooling2d (MaxPooling2  (None, 112, 112, 64)      0         \n",
            " D)                                                              \n",
            "                                                                 \n",
            " conv2d_2 (Conv2D)           (None, 112, 112, 128)     73856     \n",
            "                                                                 \n",
            " conv2d_3 (Conv2D)           (None, 112, 112, 128)     147584    \n",
            "                                                                 \n",
            " max_pooling2d_1 (MaxPoolin  (None, 56, 56, 128)       0         \n",
            " g2D)                                                            \n",
            "                                                                 \n",
            " conv2d_4 (Conv2D)           (None, 56, 56, 256)       295168    \n",
            "                                                                 \n",
            " conv2d_5 (Conv2D)           (None, 56, 56, 256)       590080    \n",
            "                                                                 \n",
            " conv2d_6 (Conv2D)           (None, 56, 56, 256)       590080    \n",
            "                                                                 \n",
            " max_pooling2d_2 (MaxPoolin  (None, 28, 28, 256)       0         \n",
            " g2D)                                                            \n",
            "                                                                 \n",
            " conv2d_7 (Conv2D)           (None, 28, 28, 512)       1180160   \n",
            "                                                                 \n",
            " conv2d_8 (Conv2D)           (None, 28, 28, 512)       2359808   \n",
            "                                                                 \n",
            " conv2d_9 (Conv2D)           (None, 28, 28, 512)       2359808   \n",
            "                                                                 \n",
            " max_pooling2d_3 (MaxPoolin  (None, 14, 14, 512)       0         \n",
            " g2D)                                                            \n",
            "                                                                 \n",
            " conv2d_10 (Conv2D)          (None, 14, 14, 512)       2359808   \n",
            "                                                                 \n",
            " conv2d_11 (Conv2D)          (None, 14, 14, 512)       2359808   \n",
            "                                                                 \n",
            " conv2d_12 (Conv2D)          (None, 14, 14, 512)       2359808   \n",
            "                                                                 \n",
            " max_pooling2d_4 (MaxPoolin  (None, 7, 7, 512)         0         \n",
            " g2D)                                                            \n",
            "                                                                 \n",
            " flatten (Flatten)           (None, 25088)             0         \n",
            "                                                                 \n",
            " dense (Dense)               (None, 4096)              102764544 \n",
            "                                                                 \n",
            " dropout (Dropout)           (None, 4096)              0         \n",
            "                                                                 \n",
            " dense_1 (Dense)             (None, 4096)              16781312  \n",
            "                                                                 \n",
            " dropout_1 (Dropout)         (None, 4096)              0         \n",
            "                                                                 \n",
            " dense_2 (Dense)             (None, 4)                 16388     \n",
            "                                                                 \n",
            "=================================================================\n",
            "Total params: 134276932 (512.23 MB)\n",
            "Trainable params: 134276932 (512.23 MB)\n",
            "Non-trainable params: 0 (0.00 Byte)\n",
            "_________________________________________________________________\n",
            "Epoch 1/50\n",
            "105/105 [==============================] - 90s 597ms/step - loss: 0.8200 - accuracy: 0.6472 - val_loss: 0.5241 - val_accuracy: 0.7924\n",
            "Epoch 2/50\n",
            "105/105 [==============================] - 47s 453ms/step - loss: 0.3862 - accuracy: 0.8325 - val_loss: 0.6515 - val_accuracy: 0.8091\n",
            "Epoch 3/50\n",
            "105/105 [==============================] - 50s 479ms/step - loss: 0.4460 - accuracy: 0.8221 - val_loss: 0.4537 - val_accuracy: 0.7983\n",
            "Epoch 4/50\n",
            "105/105 [==============================] - 51s 483ms/step - loss: 0.3021 - accuracy: 0.8690 - val_loss: 0.3561 - val_accuracy: 0.8914\n",
            "Epoch 5/50\n",
            "105/105 [==============================] - 49s 470ms/step - loss: 0.2693 - accuracy: 0.8800 - val_loss: 0.6479 - val_accuracy: 0.8126\n",
            "Epoch 6/50\n",
            "105/105 [==============================] - 49s 468ms/step - loss: 0.3221 - accuracy: 0.8740 - val_loss: 0.2869 - val_accuracy: 0.8878\n",
            "Epoch 7/50\n",
            "105/105 [==============================] - 51s 484ms/step - loss: 0.2524 - accuracy: 0.8955 - val_loss: 0.2659 - val_accuracy: 0.8998\n",
            "Epoch 8/50\n",
            "105/105 [==============================] - 50s 472ms/step - loss: 0.2124 - accuracy: 0.9093 - val_loss: 0.2153 - val_accuracy: 0.9069\n",
            "Epoch 9/50\n",
            "105/105 [==============================] - 51s 489ms/step - loss: 0.1956 - accuracy: 0.9170 - val_loss: 0.2188 - val_accuracy: 0.9212\n",
            "Epoch 10/50\n",
            "105/105 [==============================] - 49s 470ms/step - loss: 0.1580 - accuracy: 0.9370 - val_loss: 0.2567 - val_accuracy: 0.9081\n",
            "Epoch 11/50\n",
            "105/105 [==============================] - 51s 484ms/step - loss: 0.1474 - accuracy: 0.9451 - val_loss: 0.3112 - val_accuracy: 0.8962\n",
            "Epoch 12/50\n",
            "105/105 [==============================] - 49s 468ms/step - loss: 0.1192 - accuracy: 0.9552 - val_loss: 0.2699 - val_accuracy: 0.9033\n",
            "Epoch 13/50\n",
            "105/105 [==============================] - 51s 484ms/step - loss: 0.1358 - accuracy: 0.9510 - val_loss: 0.3015 - val_accuracy: 0.9069\n",
            "Epoch 14/50\n",
            "105/105 [==============================] - 49s 467ms/step - loss: 0.1209 - accuracy: 0.9564 - val_loss: 0.3165 - val_accuracy: 0.8831\n",
            "Epoch 15/50\n",
            "105/105 [==============================] - 49s 468ms/step - loss: 0.1062 - accuracy: 0.9615 - val_loss: 0.2786 - val_accuracy: 0.9093\n",
            "Epoch 16/50\n",
            "105/105 [==============================] - 49s 468ms/step - loss: 0.0846 - accuracy: 0.9660 - val_loss: 0.3375 - val_accuracy: 0.9189\n",
            "Epoch 17/50\n",
            "105/105 [==============================] - 51s 483ms/step - loss: 0.0493 - accuracy: 0.9830 - val_loss: 0.3718 - val_accuracy: 0.9021\n",
            "Epoch 18/50\n",
            "105/105 [==============================] - 51s 483ms/step - loss: 0.0570 - accuracy: 0.9815 - val_loss: 0.5521 - val_accuracy: 0.9033\n",
            "Epoch 19/50\n",
            "105/105 [==============================] - 49s 466ms/step - loss: 0.0424 - accuracy: 0.9857 - val_loss: 0.3929 - val_accuracy: 0.9177\n",
            "Epoch 20/50\n",
            "105/105 [==============================] - 51s 482ms/step - loss: 0.0280 - accuracy: 0.9913 - val_loss: 0.6460 - val_accuracy: 0.9129\n",
            "Epoch 21/50\n",
            "105/105 [==============================] - 49s 466ms/step - loss: 0.0488 - accuracy: 0.9833 - val_loss: 0.5565 - val_accuracy: 0.9105\n",
            "Epoch 22/50\n",
            "105/105 [==============================] - 49s 466ms/step - loss: 0.0475 - accuracy: 0.9848 - val_loss: 0.4785 - val_accuracy: 0.8950\n",
            "Epoch 23/50\n",
            "105/105 [==============================] - 49s 465ms/step - loss: 0.0448 - accuracy: 0.9887 - val_loss: 0.3697 - val_accuracy: 0.9141\n",
            "Epoch 24/50\n",
            "105/105 [==============================] - 49s 465ms/step - loss: 0.0195 - accuracy: 0.9946 - val_loss: 0.5625 - val_accuracy: 0.9141\n",
            "Epoch 25/50\n",
            "105/105 [==============================] - 49s 466ms/step - loss: 0.0050 - accuracy: 0.9988 - val_loss: 0.5534 - val_accuracy: 0.9069\n",
            "Epoch 26/50\n",
            "105/105 [==============================] - 51s 482ms/step - loss: 0.0243 - accuracy: 0.9940 - val_loss: 0.5779 - val_accuracy: 0.8938\n",
            "Epoch 27/50\n",
            "105/105 [==============================] - 50s 481ms/step - loss: 0.0535 - accuracy: 0.9818 - val_loss: 0.4334 - val_accuracy: 0.9057\n",
            "Epoch 28/50\n",
            "105/105 [==============================] - 50s 481ms/step - loss: 0.0225 - accuracy: 0.9931 - val_loss: 0.6534 - val_accuracy: 0.9081\n",
            "Epoch 29/50\n",
            "105/105 [==============================] - 49s 465ms/step - loss: 0.0097 - accuracy: 0.9961 - val_loss: 0.7146 - val_accuracy: 0.9165\n",
            "Epoch 30/50\n",
            "105/105 [==============================] - 49s 463ms/step - loss: 0.1199 - accuracy: 0.9681 - val_loss: 0.8154 - val_accuracy: 0.8998\n",
            "Epoch 31/50\n",
            "105/105 [==============================] - 48s 462ms/step - loss: 0.0576 - accuracy: 0.9815 - val_loss: 0.4667 - val_accuracy: 0.9069\n",
            "Epoch 32/50\n",
            "105/105 [==============================] - 48s 461ms/step - loss: 0.0648 - accuracy: 0.9836 - val_loss: 0.6878 - val_accuracy: 0.9021\n",
            "Epoch 33/50\n",
            "105/105 [==============================] - 48s 460ms/step - loss: 0.0281 - accuracy: 0.9922 - val_loss: 1.9965 - val_accuracy: 0.8986\n",
            "Epoch 34/50\n",
            "105/105 [==============================] - 48s 460ms/step - loss: 0.0069 - accuracy: 0.9991 - val_loss: 1.9988 - val_accuracy: 0.9033\n",
            "Epoch 35/50\n",
            "105/105 [==============================] - 50s 477ms/step - loss: 0.0046 - accuracy: 0.9988 - val_loss: 1.9445 - val_accuracy: 0.9129\n",
            "Epoch 36/50\n",
            "105/105 [==============================] - 48s 461ms/step - loss: 0.0023 - accuracy: 0.9991 - val_loss: 1.9621 - val_accuracy: 0.9165\n",
            "Epoch 37/50\n",
            "105/105 [==============================] - 50s 478ms/step - loss: 0.0024 - accuracy: 0.9991 - val_loss: 1.9758 - val_accuracy: 0.9141\n",
            "Epoch 38/50\n",
            "105/105 [==============================] - 48s 461ms/step - loss: 0.0014 - accuracy: 0.9994 - val_loss: 2.0688 - val_accuracy: 0.9093\n",
            "Epoch 39/50\n",
            "105/105 [==============================] - 50s 477ms/step - loss: 7.6850e-04 - accuracy: 0.9997 - val_loss: 2.0823 - val_accuracy: 0.9117\n",
            "Epoch 40/50\n",
            "105/105 [==============================] - 48s 460ms/step - loss: 0.0029 - accuracy: 0.9991 - val_loss: 1.9842 - val_accuracy: 0.9117\n",
            "Epoch 41/50\n",
            "105/105 [==============================] - 48s 461ms/step - loss: 9.0608e-04 - accuracy: 0.9994 - val_loss: 2.0270 - val_accuracy: 0.9117\n",
            "Epoch 42/50\n",
            "105/105 [==============================] - 50s 477ms/step - loss: 0.0015 - accuracy: 0.9994 - val_loss: 1.9968 - val_accuracy: 0.9105\n",
            "Epoch 43/50\n",
            "105/105 [==============================] - 48s 461ms/step - loss: 9.1092e-04 - accuracy: 0.9994 - val_loss: 2.1482 - val_accuracy: 0.9093\n",
            "Epoch 44/50\n",
            "105/105 [==============================] - 48s 461ms/step - loss: 0.0014 - accuracy: 0.9991 - val_loss: 2.1157 - val_accuracy: 0.9105\n",
            "Epoch 45/50\n",
            "105/105 [==============================] - 48s 460ms/step - loss: 0.0012 - accuracy: 0.9991 - val_loss: 2.1082 - val_accuracy: 0.9093\n",
            "Epoch 46/50\n",
            "105/105 [==============================] - 50s 475ms/step - loss: 9.6067e-04 - accuracy: 0.9997 - val_loss: 2.0915 - val_accuracy: 0.9117\n",
            "Epoch 47/50\n",
            "105/105 [==============================] - 48s 460ms/step - loss: 8.6818e-04 - accuracy: 0.9997 - val_loss: 2.1669 - val_accuracy: 0.9093\n",
            "Epoch 48/50\n",
            "105/105 [==============================] - 48s 460ms/step - loss: 0.0595 - accuracy: 0.9836 - val_loss: 4.0716 - val_accuracy: 0.8902\n",
            "Epoch 49/50\n",
            "105/105 [==============================] - 50s 475ms/step - loss: 0.4515 - accuracy: 0.8940 - val_loss: 0.5357 - val_accuracy: 0.8711\n",
            "Epoch 50/50\n",
            "105/105 [==============================] - 48s 456ms/step - loss: 0.0965 - accuracy: 0.9704 - val_loss: 2.1658 - val_accuracy: 0.8950\n"
          ]
        }
      ]
    },
    {
      "cell_type": "code",
      "source": [
        "from sklearn.metrics import confusion_matrix, classification_report\n",
        "import numpy as np\n",
        "import matplotlib.pyplot as plt\n",
        "import seaborn as sns\n",
        "\n",
        "Y_pred = model_vgg16.predict(X_test)\n",
        "Y_pred_classes = np.argmax(Y_pred, axis=1)\n",
        "Y_true = np.argmax(Y_test, axis=1)\n",
        "\n",
        "conf_matrix = confusion_matrix(Y_true, Y_pred_classes)\n",
        "\n",
        "plt.figure(figsize=(8, 6))\n",
        "sns.heatmap(conf_matrix, annot=True, fmt=\"d\", cmap=\"Blues\", xticklabels=['Common_Rust', 'Healthy', 'Gray_Leaf_Spot', 'Blight'], yticklabels=['Common_Rust', 'Healthy', 'Gray_Leaf_Spot', 'Blight'])\n",
        "plt.xlabel('Predicted labels')\n",
        "plt.ylabel('True labels')\n",
        "plt.title('Confusion Matrix')\n",
        "plt.show()\n",
        "\n",
        "class_report = classification_report(Y_true, Y_pred_classes)\n",
        "\n",
        "print(\"\\nClassification Report:\")\n",
        "print(class_report)"
      ],
      "metadata": {
        "id": "W2svXyjyTjeo",
        "colab": {
          "base_uri": "https://localhost:8080/",
          "height": 807
        },
        "outputId": "bb03e8b3-3d4e-4dcf-934d-e02c1cd44354"
      },
      "execution_count": 16,
      "outputs": [
        {
          "output_type": "stream",
          "name": "stdout",
          "text": [
            "27/27 [==============================] - 3s 126ms/step\n"
          ]
        },
        {
          "output_type": "display_data",
          "data": {
            "text/plain": [
              "<Figure size 800x600 with 2 Axes>"
            ],
            "image/png": "[encoded data removed]"
          },
          "metadata": {}
        },
        {
          "output_type": "stream",
          "name": "stdout",
          "text": [
            "\n",
            "Classification Report:\n",
            "              precision    recall  f1-score   support\n",
            "\n",
            "           0       0.82      0.88      0.85       218\n",
            "           1       0.98      0.90      0.94       289\n",
            "           2       0.66      0.71      0.69       104\n",
            "           3       1.00      0.99      0.99       227\n",
            "\n",
            "    accuracy                           0.89       838\n",
            "   macro avg       0.86      0.87      0.87       838\n",
            "weighted avg       0.90      0.89      0.90       838\n",
            "\n"
          ]
        }
      ]
    },
    {
      "cell_type": "code",
      "source": [
        "from tensorflow.python.framework.convert_to_constants import convert_variables_to_constants_v2_as_graph\n",
        "\n",
        "def get_flops(model, batch_size=1):\n",
        "    concrete_func = tf.function(model).get_concrete_function(\n",
        "        tf.TensorSpec([batch_size] + [dim for dim in model.input.shape[1:]], model.input.dtype))\n",
        "\n",
        "    frozen_func, graph_def = convert_variables_to_constants_v2_as_graph(concrete_func)\n",
        "\n",
        "    run_meta = tf.compat.v1.RunMetadata()\n",
        "    opts = tf.compat.v1.profiler.ProfileOptionBuilder.float_operation()\n",
        "\n",
        "    flops = tf.compat.v1.profiler.profile(graph=frozen_func.graph,\n",
        "                                          run_meta=run_meta, cmd='op', options=opts)\n",
        "\n",
        "    return flops.total_float_ops\n",
        "\n",
        "# Calculate FLOPs\n",
        "flops = get_flops(model_vgg16)\n",
        "print(f\"FLOPs: {flops}\")"
      ],
      "metadata": {
        "colab": {
          "base_uri": "https://localhost:8080/"
        },
        "id": "TjxHxWZHSsXK",
        "outputId": "19eed71e-0aaf-446d-80b1-0f36198e0342"
      },
      "execution_count": 17,
      "outputs": [
        {
          "output_type": "stream",
          "name": "stderr",
          "text": [
            "WARNING:tensorflow:From /usr/local/lib/python3.10/dist-packages/tensorflow/python/ops/nn_ops.py:5256: tensor_shape_from_node_def_name (from tensorflow.python.framework.graph_util_impl) is deprecated and will be removed in a future version.\n",
            "Instructions for updating:\n",
            "This API was designed for TensorFlow v1. See https://www.tensorflow.org/guide/migrate for instructions on how to migrate your code to TensorFlow v2.\n"
          ]
        },
        {
          "output_type": "stream",
          "name": "stdout",
          "text": [
            "FLOPs: 30952046616\n"
          ]
        }
      ]
    }
  ]
}
