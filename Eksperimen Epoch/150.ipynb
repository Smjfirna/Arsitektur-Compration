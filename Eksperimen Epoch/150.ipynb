{
  "nbformat": 4,
  "nbformat_minor": 0,
  "metadata": {
    "colab": {
      "provenance": [],
      "gpuType": "T4",
      "authorship_tag": "ABX9TyN8Q5KWQYR5u1W21nbLgVmT",
      "include_colab_link": true
    },
    "kernelspec": {
      "name": "python3",
      "display_name": "Python 3"
    },
    "language_info": {
      "name": "python"
    },
    "accelerator": "GPU"
  },
  "cells": [
    {
      "cell_type": "markdown",
      "metadata": {
        "id": "view-in-github",
        "colab_type": "text"
      },
      "source": [
        "<a href=\"https://colab.research.google.com/github/Smjfirna/Arsitektur-Compration/blob/main/Eksperimen%20Epoch/150.ipynb\" target=\"_parent\"><img src=\"https://colab.research.google.com/assets/colab-badge.svg\" alt=\"Open In Colab\"/></a>"
      ]
    },
    {
      "cell_type": "code",
      "source": [
        "import os\n",
        "import cv2\n",
        "import numpy as np\n",
        "from tqdm import tqdm\n",
        "from sklearn.model_selection import train_test_split\n",
        "from sklearn.preprocessing import LabelEncoder\n",
        "from keras.utils import to_categorical\n",
        "\n",
        "import tensorflow as tf\n",
        "from tensorflow.keras.preprocessing.image import ImageDataGenerator\n",
        "from tensorflow.keras.models import Sequential\n",
        "from tensorflow.keras import layers, Model, regularizers\n",
        "from tensorflow.keras.callbacks import EarlyStopping\n",
        "from tensorflow.keras.layers import Conv2D, MaxPooling2D, Flatten, Dense, GlobalAveragePooling2D, Dropout\n",
        "import os\n",
        "from tensorflow.keras.optimizers import Adam\n",
        "from tensorflow.keras.optimizers import RMSprop\n",
        "\n",
        "from keras.applications import ResNet50"
      ],
      "metadata": {
        "id": "LaloGmhuhwP-"
      },
      "execution_count": 1,
      "outputs": []
    },
    {
      "cell_type": "code",
      "execution_count": 2,
      "metadata": {
        "colab": {
          "base_uri": "https://localhost:8080/"
        },
        "id": "d_i5Zy9kdLGU",
        "outputId": "e6d87198-d7b8-4fb0-9af1-1b96a2f18e50"
      },
      "outputs": [
        {
          "output_type": "stream",
          "name": "stdout",
          "text": [
            "Mounted at /content/drive\n"
          ]
        }
      ],
      "source": [
        "from google.colab import drive\n",
        "drive.mount('/content/drive')"
      ]
    },
    {
      "cell_type": "code",
      "source": [
        "dataset_dir = \"/content/drive/MyDrive/Skripsi Syafirna/Program/Data Sample 10\"\n",
        "\n",
        "print(os.listdir(dataset_dir))"
      ],
      "metadata": {
        "colab": {
          "base_uri": "https://localhost:8080/"
        },
        "id": "c60kX1_DjBPd",
        "outputId": "d0c1d0c5-cbc3-4d26-8553-8b01b2095ac1"
      },
      "execution_count": 3,
      "outputs": [
        {
          "output_type": "stream",
          "name": "stdout",
          "text": [
            "['Blight', 'Healthy', 'Common_Rust', 'Gray_Leaf_Spot']\n"
          ]
        }
      ]
    },
    {
      "cell_type": "code",
      "source": [
        "size_resnet50 = 224"
      ],
      "metadata": {
        "id": "Mjg6pdK1DO1a"
      },
      "execution_count": 4,
      "outputs": []
    },
    {
      "cell_type": "code",
      "source": [
        "def make_data(label, DIR, img_list, label_list):\n",
        "    for img in tqdm(os.listdir(DIR)):\n",
        "        path = os.path.join(DIR, img)\n",
        "        img = cv2.imread(path, cv2.IMREAD_COLOR)\n",
        "        img = cv2.resize(img, (size_resnet50, size_resnet50))\n",
        "        img_list.append(np.array(img))\n",
        "        label_list.append(str(label))"
      ],
      "metadata": {
        "id": "XgNY4FGvD-BF"
      },
      "execution_count": 5,
      "outputs": []
    },
    {
      "cell_type": "code",
      "source": [
        "X = []\n",
        "Z = []"
      ],
      "metadata": {
        "id": "HPv9tP13DXm6"
      },
      "execution_count": 21,
      "outputs": []
    },
    {
      "cell_type": "code",
      "source": [
        "for i, class_name in enumerate(['Common_Rust', 'Healthy', 'Gray_Leaf_Spot', 'Blight']):\n",
        "    class_dir = os.path.join(dataset_dir, class_name)\n",
        "    make_data(class_name, class_dir, X, Z)"
      ],
      "metadata": {
        "colab": {
          "base_uri": "https://localhost:8080/"
        },
        "id": "L7CgU46UDc6d",
        "outputId": "28c28797-bd6b-4e47-93d2-409b68733a89"
      },
      "execution_count": 23,
      "outputs": [
        {
          "output_type": "stream",
          "name": "stderr",
          "text": [
            "100%|██████████| 130/130 [00:04<00:00, 31.22it/s]\n",
            "100%|██████████| 116/116 [00:00<00:00, 141.62it/s]\n",
            "100%|██████████| 57/57 [00:00<00:00, 61.92it/s]\n",
            "100%|██████████| 114/114 [00:03<00:00, 37.74it/s]\n"
          ]
        }
      ]
    },
    {
      "cell_type": "code",
      "source": [
        "import matplotlib.pyplot as plt\n",
        "\n",
        "# Menghitung jumlah data untuk setiap kelas\n",
        "class_counts = {class_name: Z.count(class_name) for class_name in set(Z)}\n",
        "\n",
        "# Menampilkan visualisasi jumlah data\n",
        "plt.figure(figsize=(4, 4))\n",
        "plt.bar(class_counts.keys(), class_counts.values())\n",
        "plt.xlabel('Class')\n",
        "plt.ylabel('Count')\n",
        "plt.title('Number of Data Samples for Each Class')\n",
        "plt.show()"
      ],
      "metadata": {
        "colab": {
          "base_uri": "https://localhost:8080/",
          "height": 410
        },
        "id": "jWbdII-8E9kW",
        "outputId": "083a2cf0-247c-4d09-f622-635051b72403"
      },
      "execution_count": 8,
      "outputs": [
        {
          "output_type": "display_data",
          "data": {
            "text/plain": [
              "<Figure size 400x400 with 1 Axes>"
            ],
            "image/png": "[encoded data removed]"
          },
          "metadata": {}
        }
      ]
    },
    {
      "cell_type": "code",
      "source": [
        "le = LabelEncoder()\n",
        "Y = le.fit_transform(Z)\n",
        "Y = to_categorical(Y, num_classes=len(le.classes_))\n",
        "\n",
        "# Konversi ke array numpy\n",
        "X = np.array(X)\n",
        "\n",
        "# Memisahkan data menjadi data latih dan data uji\n",
        "X_train, X_test, Y_train, Y_test = train_test_split(X, Y, test_size=0.2, random_state=42)\n",
        "\n",
        "print(\"Jumlah Data Train adalah :\", len(X_train))\n",
        "print(\"Jumlah Data Test adalah :\", len(X_test))"
      ],
      "metadata": {
        "colab": {
          "base_uri": "https://localhost:8080/"
        },
        "id": "LFG1SJ3OFPWV",
        "outputId": "d7a81432-d81c-4c32-e7a9-fe86b20b8f14"
      },
      "execution_count": 9,
      "outputs": [
        {
          "output_type": "stream",
          "name": "stdout",
          "text": [
            "Jumlah Data Train adalah : 333\n",
            "Jumlah Data Test adalah : 84\n"
          ]
        }
      ]
    },
    {
      "cell_type": "code",
      "source": [
        "datagen = ImageDataGenerator(\n",
        "    rotation_range=20,  # Rotasi gambar hingga 40 derajat\n",
        "    zoom_range=0.2,  # Zoom-in/Zoom-out gambar\n",
        "    horizontal_flip=True,  # Flipping horizontal gambar\n",
        ")\n",
        "\n",
        "datagen.fit(X_train)"
      ],
      "metadata": {
        "id": "l_s_dW_k2OKD"
      },
      "execution_count": 10,
      "outputs": []
    },
    {
      "cell_type": "code",
      "source": [
        "resnet50 = ResNet50(include_top=False, weights='imagenet', input_shape=(size_resnet50, size_resnet50, 3))\n",
        "\n",
        "# Membuat model Sequential\n",
        "model_resnet50ver2 = Sequential()\n",
        "model_resnet50ver2.add(resnet50)\n",
        "model_resnet50ver2.add(GlobalAveragePooling2D())\n",
        "model_resnet50ver2.add(Dense(4, activation='softmax'))\n",
        "\n",
        "# Membekukan layer-layer ResNet50 yang telah dilatih\n",
        "for layer in resnet50.layers:\n",
        "    layer.trainable = False\n",
        "\n",
        "# Mengompilasi model dengan optimizer Adam dan loss function categorical crossentropy\n",
        "model_resnet50ver2.compile(optimizer=Adam(learning_rate=1e-5), loss='categorical_crossentropy', metrics=['accuracy'])\n",
        "\n",
        "# Menampilkan summary dari model\n",
        "model_resnet50ver2.summary()\n",
        "\n",
        "# Melatih model dengan data latih dan validasi\n",
        "history_resnet50ver2 = model_resnet50ver2.fit(datagen.flow(X_train, Y_train), epochs=150, validation_data=(X_test, Y_test))"
      ],
      "metadata": {
        "colab": {
          "base_uri": "https://localhost:8080/"
        },
        "id": "L4NJLS5-FT93",
        "outputId": "59919c33-edc0-4e89-f975-9963e7e994cd"
      },
      "execution_count": 18,
      "outputs": [
        {
          "output_type": "stream",
          "name": "stdout",
          "text": [
            "Model: \"sequential_4\"\n",
            "_________________________________________________________________\n",
            " Layer (type)                Output Shape              Param #   \n",
            "=================================================================\n",
            " resnet50 (Functional)       (None, 7, 7, 2048)        23587712  \n",
            "                                                                 \n",
            " global_average_pooling2d_4  (None, 2048)              0         \n",
            "  (GlobalAveragePooling2D)                                       \n",
            "                                                                 \n",
            " dense_4 (Dense)             (None, 4)                 8196      \n",
            "                                                                 \n",
            "=================================================================\n",
            "Total params: 23595908 (90.01 MB)\n",
            "Trainable params: 8196 (32.02 KB)\n",
            "Non-trainable params: 23587712 (89.98 MB)\n",
            "_________________________________________________________________\n",
            "Epoch 1/150\n",
            "11/11 [==============================] - 8s 443ms/step - loss: 2.3048 - accuracy: 0.3093 - val_loss: 1.9995 - val_accuracy: 0.3571\n",
            "Epoch 2/150\n",
            "11/11 [==============================] - 5s 475ms/step - loss: 2.3077 - accuracy: 0.3093 - val_loss: 1.9642 - val_accuracy: 0.3571\n",
            "Epoch 3/150\n",
            "11/11 [==============================] - 4s 359ms/step - loss: 2.2624 - accuracy: 0.3123 - val_loss: 1.9304 - val_accuracy: 0.3571\n",
            "Epoch 4/150\n",
            "11/11 [==============================] - 5s 499ms/step - loss: 2.2104 - accuracy: 0.3093 - val_loss: 1.8994 - val_accuracy: 0.3810\n",
            "Epoch 5/150\n",
            "11/11 [==============================] - 4s 355ms/step - loss: 2.1557 - accuracy: 0.3363 - val_loss: 1.8698 - val_accuracy: 0.3810\n",
            "Epoch 6/150\n",
            "11/11 [==============================] - 4s 349ms/step - loss: 2.1262 - accuracy: 0.3243 - val_loss: 1.8411 - val_accuracy: 0.3690\n",
            "Epoch 7/150\n",
            "11/11 [==============================] - 6s 511ms/step - loss: 2.0668 - accuracy: 0.3243 - val_loss: 1.8139 - val_accuracy: 0.3690\n",
            "Epoch 8/150\n",
            "11/11 [==============================] - 4s 359ms/step - loss: 2.0062 - accuracy: 0.3273 - val_loss: 1.7879 - val_accuracy: 0.3810\n",
            "Epoch 9/150\n",
            "11/11 [==============================] - 5s 407ms/step - loss: 2.0322 - accuracy: 0.3393 - val_loss: 1.7627 - val_accuracy: 0.3810\n",
            "Epoch 10/150\n",
            "11/11 [==============================] - 4s 357ms/step - loss: 2.0252 - accuracy: 0.3093 - val_loss: 1.7384 - val_accuracy: 0.3810\n",
            "Epoch 11/150\n",
            "11/11 [==============================] - 4s 379ms/step - loss: 1.9408 - accuracy: 0.3063 - val_loss: 1.7171 - val_accuracy: 0.3810\n",
            "Epoch 12/150\n",
            "11/11 [==============================] - 5s 422ms/step - loss: 1.8952 - accuracy: 0.3363 - val_loss: 1.6966 - val_accuracy: 0.3690\n",
            "Epoch 13/150\n",
            "11/11 [==============================] - 4s 358ms/step - loss: 1.8929 - accuracy: 0.2853 - val_loss: 1.6754 - val_accuracy: 0.3571\n",
            "Epoch 14/150\n",
            "11/11 [==============================] - 4s 371ms/step - loss: 1.8638 - accuracy: 0.3123 - val_loss: 1.6560 - val_accuracy: 0.3571\n",
            "Epoch 15/150\n",
            "11/11 [==============================] - 5s 435ms/step - loss: 1.8549 - accuracy: 0.3243 - val_loss: 1.6387 - val_accuracy: 0.3571\n",
            "Epoch 16/150\n",
            "11/11 [==============================] - 4s 351ms/step - loss: 1.7869 - accuracy: 0.3363 - val_loss: 1.6223 - val_accuracy: 0.3571\n",
            "Epoch 17/150\n",
            "11/11 [==============================] - 4s 379ms/step - loss: 1.7677 - accuracy: 0.3123 - val_loss: 1.6047 - val_accuracy: 0.3690\n",
            "Epoch 18/150\n",
            "11/11 [==============================] - 4s 356ms/step - loss: 1.7888 - accuracy: 0.3273 - val_loss: 1.5885 - val_accuracy: 0.3690\n",
            "Epoch 19/150\n",
            "11/11 [==============================] - 4s 351ms/step - loss: 1.7094 - accuracy: 0.3303 - val_loss: 1.5719 - val_accuracy: 0.3690\n",
            "Epoch 20/150\n",
            "11/11 [==============================] - 6s 506ms/step - loss: 1.7065 - accuracy: 0.3423 - val_loss: 1.5544 - val_accuracy: 0.3690\n",
            "Epoch 21/150\n",
            "11/11 [==============================] - 4s 355ms/step - loss: 1.6772 - accuracy: 0.3423 - val_loss: 1.5375 - val_accuracy: 0.3810\n",
            "Epoch 22/150\n",
            "11/11 [==============================] - 4s 354ms/step - loss: 1.7000 - accuracy: 0.3243 - val_loss: 1.5220 - val_accuracy: 0.4048\n",
            "Epoch 23/150\n",
            "11/11 [==============================] - 5s 435ms/step - loss: 1.6412 - accuracy: 0.3514 - val_loss: 1.5075 - val_accuracy: 0.4048\n",
            "Epoch 24/150\n",
            "11/11 [==============================] - 4s 359ms/step - loss: 1.5637 - accuracy: 0.3664 - val_loss: 1.4937 - val_accuracy: 0.4048\n",
            "Epoch 25/150\n",
            "11/11 [==============================] - 4s 374ms/step - loss: 1.6055 - accuracy: 0.3604 - val_loss: 1.4774 - val_accuracy: 0.4048\n",
            "Epoch 26/150\n",
            "11/11 [==============================] - 4s 370ms/step - loss: 1.5971 - accuracy: 0.3273 - val_loss: 1.4624 - val_accuracy: 0.4048\n",
            "Epoch 27/150\n",
            "11/11 [==============================] - 4s 356ms/step - loss: 1.5426 - accuracy: 0.3483 - val_loss: 1.4476 - val_accuracy: 0.4286\n",
            "Epoch 28/150\n",
            "11/11 [==============================] - 5s 502ms/step - loss: 1.5602 - accuracy: 0.3544 - val_loss: 1.4343 - val_accuracy: 0.4286\n",
            "Epoch 29/150\n",
            "11/11 [==============================] - 4s 352ms/step - loss: 1.5486 - accuracy: 0.3243 - val_loss: 1.4199 - val_accuracy: 0.4286\n",
            "Epoch 30/150\n",
            "11/11 [==============================] - 4s 351ms/step - loss: 1.5195 - accuracy: 0.3664 - val_loss: 1.4059 - val_accuracy: 0.4286\n",
            "Epoch 31/150\n",
            "11/11 [==============================] - 5s 396ms/step - loss: 1.5043 - accuracy: 0.3664 - val_loss: 1.3945 - val_accuracy: 0.4286\n",
            "Epoch 32/150\n",
            "11/11 [==============================] - 4s 359ms/step - loss: 1.4611 - accuracy: 0.3754 - val_loss: 1.3840 - val_accuracy: 0.4405\n",
            "Epoch 33/150\n",
            "11/11 [==============================] - 4s 398ms/step - loss: 1.3817 - accuracy: 0.3904 - val_loss: 1.3737 - val_accuracy: 0.4405\n",
            "Epoch 34/150\n",
            "11/11 [==============================] - 5s 417ms/step - loss: 1.4195 - accuracy: 0.3664 - val_loss: 1.3608 - val_accuracy: 0.4524\n",
            "Epoch 35/150\n",
            "11/11 [==============================] - 4s 356ms/step - loss: 1.4713 - accuracy: 0.3724 - val_loss: 1.3487 - val_accuracy: 0.4524\n",
            "Epoch 36/150\n",
            "11/11 [==============================] - 5s 474ms/step - loss: 1.3767 - accuracy: 0.3694 - val_loss: 1.3361 - val_accuracy: 0.4524\n",
            "Epoch 37/150\n",
            "11/11 [==============================] - 4s 352ms/step - loss: 1.3661 - accuracy: 0.3634 - val_loss: 1.3253 - val_accuracy: 0.4762\n",
            "Epoch 38/150\n",
            "11/11 [==============================] - 5s 453ms/step - loss: 1.3479 - accuracy: 0.3964 - val_loss: 1.3138 - val_accuracy: 0.4762\n",
            "Epoch 39/150\n",
            "11/11 [==============================] - 4s 346ms/step - loss: 1.3547 - accuracy: 0.3934 - val_loss: 1.3019 - val_accuracy: 0.4762\n",
            "Epoch 40/150\n",
            "11/11 [==============================] - 4s 351ms/step - loss: 1.3790 - accuracy: 0.3874 - val_loss: 1.2908 - val_accuracy: 0.4762\n",
            "Epoch 41/150\n",
            "11/11 [==============================] - 5s 519ms/step - loss: 1.2769 - accuracy: 0.4144 - val_loss: 1.2807 - val_accuracy: 0.4881\n",
            "Epoch 42/150\n",
            "11/11 [==============================] - 4s 350ms/step - loss: 1.3191 - accuracy: 0.4144 - val_loss: 1.2704 - val_accuracy: 0.4881\n",
            "Epoch 43/150\n",
            "11/11 [==============================] - 4s 354ms/step - loss: 1.3230 - accuracy: 0.4024 - val_loss: 1.2593 - val_accuracy: 0.5119\n",
            "Epoch 44/150\n",
            "11/11 [==============================] - 5s 397ms/step - loss: 1.2977 - accuracy: 0.4144 - val_loss: 1.2490 - val_accuracy: 0.5119\n",
            "Epoch 45/150\n",
            "11/11 [==============================] - 4s 358ms/step - loss: 1.2840 - accuracy: 0.4264 - val_loss: 1.2387 - val_accuracy: 0.5119\n",
            "Epoch 46/150\n",
            "11/11 [==============================] - 5s 415ms/step - loss: 1.2473 - accuracy: 0.4595 - val_loss: 1.2280 - val_accuracy: 0.5238\n",
            "Epoch 47/150\n",
            "11/11 [==============================] - 4s 365ms/step - loss: 1.2562 - accuracy: 0.4324 - val_loss: 1.2182 - val_accuracy: 0.5238\n",
            "Epoch 48/150\n",
            "11/11 [==============================] - 4s 363ms/step - loss: 1.2491 - accuracy: 0.4655 - val_loss: 1.2076 - val_accuracy: 0.5238\n",
            "Epoch 49/150\n",
            "11/11 [==============================] - 5s 490ms/step - loss: 1.2794 - accuracy: 0.4354 - val_loss: 1.1978 - val_accuracy: 0.5238\n",
            "Epoch 50/150\n",
            "11/11 [==============================] - 4s 379ms/step - loss: 1.1925 - accuracy: 0.4805 - val_loss: 1.1885 - val_accuracy: 0.5238\n",
            "Epoch 51/150\n",
            "11/11 [==============================] - 4s 348ms/step - loss: 1.1840 - accuracy: 0.4625 - val_loss: 1.1796 - val_accuracy: 0.5238\n",
            "Epoch 52/150\n",
            "11/11 [==============================] - 5s 519ms/step - loss: 1.1694 - accuracy: 0.4685 - val_loss: 1.1706 - val_accuracy: 0.5238\n",
            "Epoch 53/150\n",
            "11/11 [==============================] - 4s 361ms/step - loss: 1.1638 - accuracy: 0.4985 - val_loss: 1.1618 - val_accuracy: 0.5238\n",
            "Epoch 54/150\n",
            "11/11 [==============================] - 4s 373ms/step - loss: 1.1560 - accuracy: 0.4955 - val_loss: 1.1530 - val_accuracy: 0.5238\n",
            "Epoch 55/150\n",
            "11/11 [==============================] - 4s 366ms/step - loss: 1.1166 - accuracy: 0.5045 - val_loss: 1.1461 - val_accuracy: 0.5238\n",
            "Epoch 56/150\n",
            "11/11 [==============================] - 4s 380ms/step - loss: 1.1519 - accuracy: 0.5045 - val_loss: 1.1361 - val_accuracy: 0.5238\n",
            "Epoch 57/150\n",
            "11/11 [==============================] - 5s 430ms/step - loss: 1.1116 - accuracy: 0.5105 - val_loss: 1.1277 - val_accuracy: 0.5238\n",
            "Epoch 58/150\n",
            "11/11 [==============================] - 4s 391ms/step - loss: 1.1301 - accuracy: 0.4925 - val_loss: 1.1204 - val_accuracy: 0.5238\n",
            "Epoch 59/150\n",
            "11/11 [==============================] - 4s 351ms/step - loss: 1.1062 - accuracy: 0.5105 - val_loss: 1.1117 - val_accuracy: 0.5238\n",
            "Epoch 60/150\n",
            "11/11 [==============================] - 5s 498ms/step - loss: 1.1125 - accuracy: 0.5225 - val_loss: 1.1045 - val_accuracy: 0.5238\n",
            "Epoch 61/150\n",
            "11/11 [==============================] - 4s 353ms/step - loss: 1.0717 - accuracy: 0.5255 - val_loss: 1.0960 - val_accuracy: 0.5476\n",
            "Epoch 62/150\n",
            "11/11 [==============================] - 4s 360ms/step - loss: 1.0783 - accuracy: 0.5465 - val_loss: 1.0887 - val_accuracy: 0.5476\n",
            "Epoch 63/150\n",
            "11/11 [==============================] - 5s 509ms/step - loss: 1.0915 - accuracy: 0.5255 - val_loss: 1.0814 - val_accuracy: 0.5476\n",
            "Epoch 64/150\n",
            "11/11 [==============================] - 4s 360ms/step - loss: 1.0656 - accuracy: 0.5405 - val_loss: 1.0736 - val_accuracy: 0.5476\n",
            "Epoch 65/150\n",
            "11/11 [==============================] - 5s 523ms/step - loss: 1.0276 - accuracy: 0.5766 - val_loss: 1.0658 - val_accuracy: 0.5476\n",
            "Epoch 66/150\n",
            "11/11 [==============================] - 4s 384ms/step - loss: 1.0281 - accuracy: 0.5796 - val_loss: 1.0589 - val_accuracy: 0.5595\n",
            "Epoch 67/150\n",
            "11/11 [==============================] - 4s 349ms/step - loss: 1.0468 - accuracy: 0.5616 - val_loss: 1.0515 - val_accuracy: 0.5595\n",
            "Epoch 68/150\n",
            "11/11 [==============================] - 5s 503ms/step - loss: 1.0365 - accuracy: 0.5465 - val_loss: 1.0446 - val_accuracy: 0.5595\n",
            "Epoch 69/150\n",
            "11/11 [==============================] - 4s 354ms/step - loss: 1.0121 - accuracy: 0.5556 - val_loss: 1.0385 - val_accuracy: 0.5833\n",
            "Epoch 70/150\n",
            "11/11 [==============================] - 4s 364ms/step - loss: 1.0410 - accuracy: 0.5736 - val_loss: 1.0309 - val_accuracy: 0.5833\n",
            "Epoch 71/150\n",
            "11/11 [==============================] - 5s 476ms/step - loss: 1.0023 - accuracy: 0.5736 - val_loss: 1.0224 - val_accuracy: 0.5833\n",
            "Epoch 72/150\n",
            "11/11 [==============================] - 4s 351ms/step - loss: 1.0015 - accuracy: 0.5706 - val_loss: 1.0159 - val_accuracy: 0.5952\n",
            "Epoch 73/150\n",
            "11/11 [==============================] - 4s 361ms/step - loss: 0.9919 - accuracy: 0.6126 - val_loss: 1.0096 - val_accuracy: 0.5952\n",
            "Epoch 74/150\n",
            "11/11 [==============================] - 5s 477ms/step - loss: 1.0119 - accuracy: 0.5616 - val_loss: 1.0039 - val_accuracy: 0.6071\n",
            "Epoch 75/150\n",
            "11/11 [==============================] - 4s 366ms/step - loss: 0.9643 - accuracy: 0.6276 - val_loss: 0.9992 - val_accuracy: 0.6071\n",
            "Epoch 76/150\n",
            "11/11 [==============================] - 5s 439ms/step - loss: 0.9647 - accuracy: 0.6126 - val_loss: 0.9943 - val_accuracy: 0.6071\n",
            "Epoch 77/150\n",
            "11/11 [==============================] - 5s 405ms/step - loss: 0.9296 - accuracy: 0.6336 - val_loss: 0.9887 - val_accuracy: 0.6071\n",
            "Epoch 78/150\n",
            "11/11 [==============================] - 4s 353ms/step - loss: 0.9528 - accuracy: 0.6396 - val_loss: 0.9830 - val_accuracy: 0.6190\n",
            "Epoch 79/150\n",
            "11/11 [==============================] - 4s 402ms/step - loss: 0.9339 - accuracy: 0.6276 - val_loss: 0.9770 - val_accuracy: 0.6190\n",
            "Epoch 80/150\n",
            "11/11 [==============================] - 5s 407ms/step - loss: 0.9157 - accuracy: 0.6276 - val_loss: 0.9724 - val_accuracy: 0.6190\n",
            "Epoch 81/150\n",
            "11/11 [==============================] - 4s 359ms/step - loss: 0.9689 - accuracy: 0.6126 - val_loss: 0.9678 - val_accuracy: 0.6190\n",
            "Epoch 82/150\n",
            "11/11 [==============================] - 5s 412ms/step - loss: 0.9021 - accuracy: 0.6637 - val_loss: 0.9637 - val_accuracy: 0.6190\n",
            "Epoch 83/150\n",
            "11/11 [==============================] - 4s 388ms/step - loss: 0.9189 - accuracy: 0.6186 - val_loss: 0.9599 - val_accuracy: 0.6190\n",
            "Epoch 84/150\n",
            "11/11 [==============================] - 4s 344ms/step - loss: 0.9109 - accuracy: 0.6396 - val_loss: 0.9546 - val_accuracy: 0.6190\n",
            "Epoch 85/150\n",
            "11/11 [==============================] - 5s 499ms/step - loss: 0.8937 - accuracy: 0.6306 - val_loss: 0.9482 - val_accuracy: 0.6310\n",
            "Epoch 86/150\n",
            "11/11 [==============================] - 4s 354ms/step - loss: 0.8980 - accuracy: 0.6366 - val_loss: 0.9431 - val_accuracy: 0.6429\n",
            "Epoch 87/150\n",
            "11/11 [==============================] - 5s 508ms/step - loss: 0.8906 - accuracy: 0.6336 - val_loss: 0.9377 - val_accuracy: 0.6429\n",
            "Epoch 88/150\n",
            "11/11 [==============================] - 4s 349ms/step - loss: 0.8600 - accuracy: 0.6547 - val_loss: 0.9327 - val_accuracy: 0.6429\n",
            "Epoch 89/150\n",
            "11/11 [==============================] - 4s 362ms/step - loss: 0.8572 - accuracy: 0.6517 - val_loss: 0.9275 - val_accuracy: 0.6429\n",
            "Epoch 90/150\n",
            "11/11 [==============================] - 5s 497ms/step - loss: 0.8886 - accuracy: 0.6637 - val_loss: 0.9211 - val_accuracy: 0.6429\n",
            "Epoch 91/150\n",
            "11/11 [==============================] - 4s 352ms/step - loss: 0.8611 - accuracy: 0.6306 - val_loss: 0.9165 - val_accuracy: 0.6429\n",
            "Epoch 92/150\n",
            "11/11 [==============================] - 4s 361ms/step - loss: 0.8517 - accuracy: 0.6847 - val_loss: 0.9134 - val_accuracy: 0.6429\n",
            "Epoch 93/150\n",
            "11/11 [==============================] - 4s 352ms/step - loss: 0.8639 - accuracy: 0.6637 - val_loss: 0.9087 - val_accuracy: 0.6429\n",
            "Epoch 94/150\n",
            "11/11 [==============================] - 4s 352ms/step - loss: 0.8305 - accuracy: 0.6757 - val_loss: 0.9042 - val_accuracy: 0.6429\n",
            "Epoch 95/150\n",
            "11/11 [==============================] - 5s 439ms/step - loss: 0.8178 - accuracy: 0.6667 - val_loss: 0.9004 - val_accuracy: 0.6429\n",
            "Epoch 96/150\n",
            "11/11 [==============================] - 4s 358ms/step - loss: 0.8454 - accuracy: 0.6757 - val_loss: 0.8968 - val_accuracy: 0.6429\n",
            "Epoch 97/150\n",
            "11/11 [==============================] - 4s 382ms/step - loss: 0.8251 - accuracy: 0.6667 - val_loss: 0.8931 - val_accuracy: 0.6429\n",
            "Epoch 98/150\n",
            "11/11 [==============================] - 5s 487ms/step - loss: 0.8030 - accuracy: 0.6817 - val_loss: 0.8890 - val_accuracy: 0.6429\n",
            "Epoch 99/150\n",
            "11/11 [==============================] - 4s 350ms/step - loss: 0.7924 - accuracy: 0.6967 - val_loss: 0.8853 - val_accuracy: 0.6429\n",
            "Epoch 100/150\n",
            "11/11 [==============================] - 4s 363ms/step - loss: 0.7971 - accuracy: 0.6997 - val_loss: 0.8819 - val_accuracy: 0.6429\n",
            "Epoch 101/150\n",
            "11/11 [==============================] - 5s 484ms/step - loss: 0.8308 - accuracy: 0.6697 - val_loss: 0.8779 - val_accuracy: 0.6429\n",
            "Epoch 102/150\n",
            "11/11 [==============================] - 4s 347ms/step - loss: 0.8108 - accuracy: 0.6937 - val_loss: 0.8739 - val_accuracy: 0.6429\n",
            "Epoch 103/150\n",
            "11/11 [==============================] - 4s 379ms/step - loss: 0.7754 - accuracy: 0.7147 - val_loss: 0.8704 - val_accuracy: 0.6667\n",
            "Epoch 104/150\n",
            "11/11 [==============================] - 4s 385ms/step - loss: 0.8005 - accuracy: 0.7147 - val_loss: 0.8672 - val_accuracy: 0.6667\n",
            "Epoch 105/150\n",
            "11/11 [==============================] - 4s 360ms/step - loss: 0.7642 - accuracy: 0.6937 - val_loss: 0.8639 - val_accuracy: 0.6667\n",
            "Epoch 106/150\n",
            "11/11 [==============================] - 5s 498ms/step - loss: 0.7642 - accuracy: 0.7087 - val_loss: 0.8607 - val_accuracy: 0.6667\n",
            "Epoch 107/150\n",
            "11/11 [==============================] - 4s 360ms/step - loss: 0.7739 - accuracy: 0.7027 - val_loss: 0.8572 - val_accuracy: 0.6667\n",
            "Epoch 108/150\n",
            "11/11 [==============================] - 4s 352ms/step - loss: 0.7904 - accuracy: 0.6937 - val_loss: 0.8541 - val_accuracy: 0.6667\n",
            "Epoch 109/150\n",
            "11/11 [==============================] - 5s 488ms/step - loss: 0.7827 - accuracy: 0.6877 - val_loss: 0.8511 - val_accuracy: 0.6667\n",
            "Epoch 110/150\n",
            "11/11 [==============================] - 4s 362ms/step - loss: 0.7620 - accuracy: 0.7027 - val_loss: 0.8494 - val_accuracy: 0.6667\n",
            "Epoch 111/150\n",
            "11/11 [==============================] - 4s 354ms/step - loss: 0.7524 - accuracy: 0.7267 - val_loss: 0.8464 - val_accuracy: 0.6667\n",
            "Epoch 112/150\n",
            "11/11 [==============================] - 5s 443ms/step - loss: 0.7630 - accuracy: 0.7117 - val_loss: 0.8423 - val_accuracy: 0.6667\n",
            "Epoch 113/150\n",
            "11/11 [==============================] - 4s 353ms/step - loss: 0.7377 - accuracy: 0.7237 - val_loss: 0.8388 - val_accuracy: 0.6667\n",
            "Epoch 114/150\n",
            "11/11 [==============================] - 4s 355ms/step - loss: 0.7512 - accuracy: 0.7087 - val_loss: 0.8350 - val_accuracy: 0.6667\n",
            "Epoch 115/150\n",
            "11/11 [==============================] - 4s 397ms/step - loss: 0.7434 - accuracy: 0.7207 - val_loss: 0.8318 - val_accuracy: 0.6667\n",
            "Epoch 116/150\n",
            "11/11 [==============================] - 4s 361ms/step - loss: 0.7111 - accuracy: 0.7538 - val_loss: 0.8289 - val_accuracy: 0.6667\n",
            "Epoch 117/150\n",
            "11/11 [==============================] - 5s 440ms/step - loss: 0.7559 - accuracy: 0.7117 - val_loss: 0.8261 - val_accuracy: 0.6667\n",
            "Epoch 118/150\n",
            "11/11 [==============================] - 4s 365ms/step - loss: 0.7373 - accuracy: 0.7237 - val_loss: 0.8245 - val_accuracy: 0.6667\n",
            "Epoch 119/150\n",
            "11/11 [==============================] - 4s 357ms/step - loss: 0.7266 - accuracy: 0.7267 - val_loss: 0.8215 - val_accuracy: 0.6667\n",
            "Epoch 120/150\n",
            "11/11 [==============================] - 5s 470ms/step - loss: 0.7464 - accuracy: 0.7297 - val_loss: 0.8180 - val_accuracy: 0.6667\n",
            "Epoch 121/150\n",
            "11/11 [==============================] - 4s 360ms/step - loss: 0.7108 - accuracy: 0.7477 - val_loss: 0.8145 - val_accuracy: 0.6667\n",
            "Epoch 122/150\n",
            "11/11 [==============================] - 5s 490ms/step - loss: 0.7151 - accuracy: 0.7267 - val_loss: 0.8127 - val_accuracy: 0.6667\n",
            "Epoch 123/150\n",
            "11/11 [==============================] - 4s 355ms/step - loss: 0.7042 - accuracy: 0.7237 - val_loss: 0.8106 - val_accuracy: 0.6667\n",
            "Epoch 124/150\n",
            "11/11 [==============================] - 4s 357ms/step - loss: 0.7232 - accuracy: 0.7207 - val_loss: 0.8081 - val_accuracy: 0.6667\n",
            "Epoch 125/150\n",
            "11/11 [==============================] - 5s 523ms/step - loss: 0.7114 - accuracy: 0.7207 - val_loss: 0.8052 - val_accuracy: 0.6667\n",
            "Epoch 126/150\n",
            "11/11 [==============================] - 4s 382ms/step - loss: 0.7068 - accuracy: 0.7357 - val_loss: 0.8025 - val_accuracy: 0.6667\n",
            "Epoch 127/150\n",
            "11/11 [==============================] - 5s 470ms/step - loss: 0.7027 - accuracy: 0.7087 - val_loss: 0.8000 - val_accuracy: 0.6667\n",
            "Epoch 128/150\n",
            "11/11 [==============================] - 4s 361ms/step - loss: 0.7515 - accuracy: 0.7087 - val_loss: 0.7971 - val_accuracy: 0.6786\n",
            "Epoch 129/150\n",
            "11/11 [==============================] - 4s 401ms/step - loss: 0.7067 - accuracy: 0.7538 - val_loss: 0.7943 - val_accuracy: 0.6786\n",
            "Epoch 130/150\n",
            "11/11 [==============================] - 5s 411ms/step - loss: 0.6799 - accuracy: 0.7628 - val_loss: 0.7930 - val_accuracy: 0.6786\n",
            "Epoch 131/150\n",
            "11/11 [==============================] - 4s 359ms/step - loss: 0.6824 - accuracy: 0.7327 - val_loss: 0.7907 - val_accuracy: 0.6786\n",
            "Epoch 132/150\n",
            "11/11 [==============================] - 5s 496ms/step - loss: 0.7122 - accuracy: 0.7297 - val_loss: 0.7880 - val_accuracy: 0.6786\n",
            "Epoch 133/150\n",
            "11/11 [==============================] - 4s 359ms/step - loss: 0.6934 - accuracy: 0.7357 - val_loss: 0.7858 - val_accuracy: 0.6786\n",
            "Epoch 134/150\n",
            "11/11 [==============================] - 4s 359ms/step - loss: 0.6487 - accuracy: 0.7477 - val_loss: 0.7835 - val_accuracy: 0.6786\n",
            "Epoch 135/150\n",
            "11/11 [==============================] - 5s 486ms/step - loss: 0.6674 - accuracy: 0.7297 - val_loss: 0.7805 - val_accuracy: 0.6667\n",
            "Epoch 136/150\n",
            "11/11 [==============================] - 4s 353ms/step - loss: 0.6992 - accuracy: 0.7207 - val_loss: 0.7781 - val_accuracy: 0.6667\n",
            "Epoch 137/150\n",
            "11/11 [==============================] - 4s 352ms/step - loss: 0.6861 - accuracy: 0.7357 - val_loss: 0.7772 - val_accuracy: 0.6667\n",
            "Epoch 138/150\n",
            "11/11 [==============================] - 5s 484ms/step - loss: 0.6680 - accuracy: 0.7568 - val_loss: 0.7751 - val_accuracy: 0.6786\n",
            "Epoch 139/150\n",
            "11/11 [==============================] - 4s 351ms/step - loss: 0.6475 - accuracy: 0.7688 - val_loss: 0.7722 - val_accuracy: 0.6786\n",
            "Epoch 140/150\n",
            "11/11 [==============================] - 4s 384ms/step - loss: 0.6808 - accuracy: 0.7477 - val_loss: 0.7708 - val_accuracy: 0.6786\n",
            "Epoch 141/150\n",
            "11/11 [==============================] - 4s 377ms/step - loss: 0.6566 - accuracy: 0.7568 - val_loss: 0.7703 - val_accuracy: 0.6786\n",
            "Epoch 142/150\n",
            "11/11 [==============================] - 4s 382ms/step - loss: 0.6565 - accuracy: 0.7658 - val_loss: 0.7681 - val_accuracy: 0.6786\n",
            "Epoch 143/150\n",
            "11/11 [==============================] - 5s 494ms/step - loss: 0.6486 - accuracy: 0.7718 - val_loss: 0.7657 - val_accuracy: 0.6786\n",
            "Epoch 144/150\n",
            "11/11 [==============================] - 4s 384ms/step - loss: 0.6760 - accuracy: 0.7447 - val_loss: 0.7640 - val_accuracy: 0.6786\n",
            "Epoch 145/150\n",
            "11/11 [==============================] - 4s 355ms/step - loss: 0.6603 - accuracy: 0.7357 - val_loss: 0.7612 - val_accuracy: 0.6786\n",
            "Epoch 146/150\n",
            "11/11 [==============================] - 5s 493ms/step - loss: 0.6292 - accuracy: 0.7628 - val_loss: 0.7586 - val_accuracy: 0.6905\n",
            "Epoch 147/150\n",
            "11/11 [==============================] - 4s 362ms/step - loss: 0.6250 - accuracy: 0.7898 - val_loss: 0.7566 - val_accuracy: 0.6905\n",
            "Epoch 148/150\n",
            "11/11 [==============================] - 4s 355ms/step - loss: 0.6543 - accuracy: 0.7508 - val_loss: 0.7568 - val_accuracy: 0.6905\n",
            "Epoch 149/150\n",
            "11/11 [==============================] - 5s 440ms/step - loss: 0.6228 - accuracy: 0.7538 - val_loss: 0.7553 - val_accuracy: 0.6905\n",
            "Epoch 150/150\n",
            "11/11 [==============================] - 4s 357ms/step - loss: 0.6319 - accuracy: 0.7598 - val_loss: 0.7516 - val_accuracy: 0.6905\n"
          ]
        }
      ]
    },
    {
      "cell_type": "code",
      "source": [
        "from sklearn.metrics import confusion_matrix, classification_report\n",
        "import numpy as np\n",
        "import matplotlib.pyplot as plt\n",
        "import seaborn as sns\n",
        "\n",
        "# Menggunakan model_resnet50ver2 untuk membuat prediksi pada data uji\n",
        "Y_pred = model_resnet50ver2.predict(X_test)\n",
        "# Mengambil indeks kelas dengan probabilitas tertinggi sebagai prediksi\n",
        "Y_pred_classes = np.argmax(Y_pred, axis=1)\n",
        "# Mengambil indeks kelas dengan probabilitas tertinggi sebagai label sebenarnya\n",
        "Y_true = np.argmax(Y_test, axis=1)\n",
        "\n",
        "# Membuat confusion matrix\n",
        "conf_matrix = confusion_matrix(Y_true, Y_pred_classes)\n",
        "\n",
        "# Menampilkan confusion matrix dalam bentuk visualisasi\n",
        "plt.figure(figsize=(8, 6))\n",
        "sns.heatmap(conf_matrix, annot=True, fmt=\"d\", cmap=\"Blues\", xticklabels=['Common_Rust', 'Healthy', 'Gray_Leaf_Spot', 'Blight'], yticklabels=['Common_Rust', 'Healthy', 'Gray_Leaf_Spot', 'Blight'])\n",
        "plt.xlabel('Predicted labels')\n",
        "plt.ylabel('True labels')\n",
        "plt.title('Confusion Matrix')\n",
        "plt.show()\n",
        "\n",
        "# Membuat classification report\n",
        "class_report = classification_report(Y_true, Y_pred_classes)\n",
        "\n",
        "# Menampilkan classification report\n",
        "print(\"\\nClassification Report:\")\n",
        "print(class_report)\n"
      ],
      "metadata": {
        "colab": {
          "base_uri": "https://localhost:8080/",
          "height": 807
        },
        "id": "YWvBAbaMInI-",
        "outputId": "e2cb5ce6-af2a-456f-9704-237b8208e99e"
      },
      "execution_count": 19,
      "outputs": [
        {
          "output_type": "stream",
          "name": "stdout",
          "text": [
            "3/3 [==============================] - 2s 117ms/step\n"
          ]
        },
        {
          "output_type": "display_data",
          "data": {
            "text/plain": [
              "<Figure size 800x600 with 2 Axes>"
            ],
            "image/png": "[encoded data removed]"
          },
          "metadata": {}
        },
        {
          "output_type": "stream",
          "name": "stdout",
          "text": [
            "\n",
            "Classification Report:\n",
            "              precision    recall  f1-score   support\n",
            "\n",
            "           0       0.64      0.54      0.58        26\n",
            "           1       0.68      0.88      0.77        34\n",
            "           2       0.25      0.10      0.14        10\n",
            "           3       0.93      0.93      0.93        14\n",
            "\n",
            "    accuracy                           0.69        84\n",
            "   macro avg       0.62      0.61      0.61        84\n",
            "weighted avg       0.66      0.69      0.66        84\n",
            "\n"
          ]
        }
      ]
    }
  ]
}