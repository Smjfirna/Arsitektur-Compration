{
  "nbformat": 4,
  "nbformat_minor": 0,
  "metadata": {
    "colab": {
      "provenance": [],
      "gpuType": "T4",
      "authorship_tag": "ABX9TyMchD+Gu7pyW1g+zN+Orouh",
      "include_colab_link": true
    },
    "kernelspec": {
      "name": "python3",
      "display_name": "Python 3"
    },
    "language_info": {
      "name": "python"
    },
    "accelerator": "GPU"
  },
  "cells": [
    {
      "cell_type": "markdown",
      "metadata": {
        "id": "view-in-github",
        "colab_type": "text"
      },
      "source": [
        "<a href=\"https://colab.research.google.com/github/Smjfirna/Arsitektur-Compration/blob/main/Eksperimen%20Epoch/50.ipynb\" target=\"_parent\"><img src=\"https://colab.research.google.com/assets/colab-badge.svg\" alt=\"Open In Colab\"/></a>"
      ]
    },
    {
      "cell_type": "code",
      "source": [
        "import os\n",
        "import cv2\n",
        "import numpy as np\n",
        "from tqdm import tqdm\n",
        "from sklearn.model_selection import train_test_split\n",
        "from sklearn.preprocessing import LabelEncoder\n",
        "from keras.utils import to_categorical\n",
        "\n",
        "import tensorflow as tf\n",
        "from tensorflow.keras.preprocessing.image import ImageDataGenerator\n",
        "from tensorflow.keras.models import Sequential\n",
        "from tensorflow.keras import layers, Model, regularizers\n",
        "from tensorflow.keras.callbacks import EarlyStopping\n",
        "from tensorflow.keras.layers import Conv2D, MaxPooling2D, Flatten, Dense, GlobalAveragePooling2D, Dropout\n",
        "import os\n",
        "from tensorflow.keras.optimizers import Adam\n",
        "from tensorflow.keras.optimizers import RMSprop\n",
        "\n",
        "from keras.applications import ResNet50"
      ],
      "metadata": {
        "id": "LaloGmhuhwP-"
      },
      "execution_count": 1,
      "outputs": []
    },
    {
      "cell_type": "code",
      "execution_count": 2,
      "metadata": {
        "colab": {
          "base_uri": "https://localhost:8080/"
        },
        "id": "d_i5Zy9kdLGU",
        "outputId": "9967a8e1-ded3-495d-cf7b-b9ef750f6fba"
      },
      "outputs": [
        {
          "output_type": "stream",
          "name": "stdout",
          "text": [
            "Mounted at /content/drive\n"
          ]
        }
      ],
      "source": [
        "from google.colab import drive\n",
        "drive.mount('/content/drive')"
      ]
    },
    {
      "cell_type": "code",
      "source": [
        "dataset_dir = \"/content/drive/MyDrive/Skripsi Syafirna/Program/Data Sample 10\"\n",
        "\n",
        "print(os.listdir(dataset_dir))"
      ],
      "metadata": {
        "colab": {
          "base_uri": "https://localhost:8080/"
        },
        "id": "c60kX1_DjBPd",
        "outputId": "4ac97c1b-9558-4f8e-e36b-0db9effbe965"
      },
      "execution_count": 3,
      "outputs": [
        {
          "output_type": "stream",
          "name": "stdout",
          "text": [
            "['Blight', 'Healthy', 'Common_Rust', 'Gray_Leaf_Spot']\n"
          ]
        }
      ]
    },
    {
      "cell_type": "code",
      "source": [
        "size_resnet50 = 224"
      ],
      "metadata": {
        "id": "Mjg6pdK1DO1a"
      },
      "execution_count": 4,
      "outputs": []
    },
    {
      "cell_type": "code",
      "source": [
        "def make_data(label, DIR, img_list, label_list):\n",
        "    for img in tqdm(os.listdir(DIR)):\n",
        "        path = os.path.join(DIR, img)\n",
        "        img = cv2.imread(path, cv2.IMREAD_COLOR)\n",
        "        img = cv2.resize(img, (size_resnet50, size_resnet50))\n",
        "        img_list.append(np.array(img))\n",
        "        label_list.append(str(label))"
      ],
      "metadata": {
        "id": "XgNY4FGvD-BF"
      },
      "execution_count": 5,
      "outputs": []
    },
    {
      "cell_type": "code",
      "source": [
        "X = []\n",
        "Z = []"
      ],
      "metadata": {
        "id": "HPv9tP13DXm6"
      },
      "execution_count": 6,
      "outputs": []
    },
    {
      "cell_type": "code",
      "source": [
        "for i, class_name in enumerate(['Common_Rust', 'Healthy', 'Gray_Leaf_Spot', 'Blight']):\n",
        "    class_dir = os.path.join(dataset_dir, class_name)\n",
        "    make_data(class_name, class_dir, X, Z)"
      ],
      "metadata": {
        "colab": {
          "base_uri": "https://localhost:8080/"
        },
        "id": "L7CgU46UDc6d",
        "outputId": "c54b8d67-0815-48ed-b641-8405f57eea83"
      },
      "execution_count": 7,
      "outputs": [
        {
          "output_type": "stream",
          "name": "stderr",
          "text": [
            "100%|██████████| 130/130 [00:05<00:00, 23.71it/s]\n",
            "100%|██████████| 116/116 [00:02<00:00, 44.20it/s]\n",
            "100%|██████████| 57/57 [00:23<00:00,  2.47it/s]\n",
            "100%|██████████| 114/114 [00:08<00:00, 13.53it/s]\n"
          ]
        }
      ]
    },
    {
      "cell_type": "code",
      "source": [
        "import matplotlib.pyplot as plt\n",
        "\n",
        "# Menghitung jumlah data untuk setiap kelas\n",
        "class_counts = {class_name: Z.count(class_name) for class_name in set(Z)}\n",
        "\n",
        "# Menampilkan visualisasi jumlah data\n",
        "plt.figure(figsize=(4, 4))\n",
        "plt.bar(class_counts.keys(), class_counts.values())\n",
        "plt.xlabel('Class')\n",
        "plt.ylabel('Count')\n",
        "plt.title('Number of Data Samples for Each Class')\n",
        "plt.show()"
      ],
      "metadata": {
        "colab": {
          "base_uri": "https://localhost:8080/",
          "height": 410
        },
        "id": "jWbdII-8E9kW",
        "outputId": "a5d331f7-c7f6-4600-ceb2-90ef074397a3"
      },
      "execution_count": 8,
      "outputs": [
        {
          "output_type": "display_data",
          "data": {
            "text/plain": [
              "<Figure size 400x400 with 1 Axes>"
            ],
            "image/png": "[encoded data removed]"
          },
          "metadata": {}
        }
      ]
    },
    {
      "cell_type": "code",
      "source": [
        "le = LabelEncoder()\n",
        "Y = le.fit_transform(Z)\n",
        "Y = to_categorical(Y, num_classes=len(le.classes_))\n",
        "\n",
        "# Konversi ke array numpy\n",
        "X = np.array(X)\n",
        "\n",
        "# Memisahkan data menjadi data latih dan data uji\n",
        "X_train, X_test, Y_train, Y_test = train_test_split(X, Y, test_size=0.2, random_state=42)\n",
        "\n",
        "print(\"Jumlah Data Train adalah :\", len(X_train))\n",
        "print(\"Jumlah Data Test adalah :\", len(X_test))"
      ],
      "metadata": {
        "colab": {
          "base_uri": "https://localhost:8080/"
        },
        "id": "LFG1SJ3OFPWV",
        "outputId": "81425ad8-1d5c-4260-a651-10b144432b45"
      },
      "execution_count": 9,
      "outputs": [
        {
          "output_type": "stream",
          "name": "stdout",
          "text": [
            "Jumlah Data Train adalah : 333\n",
            "Jumlah Data Test adalah : 84\n"
          ]
        }
      ]
    },
    {
      "cell_type": "code",
      "source": [
        "datagen = ImageDataGenerator(\n",
        "    rotation_range=20,  # Rotasi gambar hingga 40 derajat\n",
        "    zoom_range=0.2,  # Zoom-in/Zoom-out gambar\n",
        "    horizontal_flip=True,  # Flipping horizontal gambar\n",
        ")\n",
        "\n",
        "datagen.fit(X_train)"
      ],
      "metadata": {
        "id": "l_s_dW_k2OKD"
      },
      "execution_count": 10,
      "outputs": []
    },
    {
      "cell_type": "code",
      "source": [
        "resnet50 = ResNet50(include_top=False, weights='imagenet', input_shape=(size_resnet50, size_resnet50, 3))\n",
        "\n",
        "# Membuat model Sequential\n",
        "model_resnet50ver2 = Sequential()\n",
        "model_resnet50ver2.add(resnet50)\n",
        "model_resnet50ver2.add(GlobalAveragePooling2D())\n",
        "model_resnet50ver2.add(Dense(4, activation='softmax'))\n",
        "\n",
        "# Membekukan layer-layer ResNet50 yang telah dilatih\n",
        "for layer in resnet50.layers:\n",
        "    layer.trainable = False\n",
        "\n",
        "# Mengompilasi model dengan optimizer Adam dan loss function categorical crossentropy\n",
        "model_resnet50ver2.compile(optimizer=Adam(learning_rate=1e-5), loss='categorical_crossentropy', metrics=['accuracy'])\n",
        "\n",
        "# Menampilkan summary dari model\n",
        "model_resnet50ver2.summary()\n",
        "\n",
        "# Melatih model dengan data latih dan validasi\n",
        "history_resnet50ver2 = model_resnet50ver2.fit(datagen.flow(X_train, Y_train), epochs=50, validation_data=(X_test, Y_test))"
      ],
      "metadata": {
        "colab": {
          "base_uri": "https://localhost:8080/"
        },
        "id": "L4NJLS5-FT93",
        "outputId": "6517da3a-815f-462a-bddc-2eb6f2b7e3c7"
      },
      "execution_count": 13,
      "outputs": [
        {
          "output_type": "stream",
          "name": "stdout",
          "text": [
            "Model: \"sequential_1\"\n",
            "_________________________________________________________________\n",
            " Layer (type)                Output Shape              Param #   \n",
            "=================================================================\n",
            " resnet50 (Functional)       (None, 7, 7, 2048)        23587712  \n",
            "                                                                 \n",
            " global_average_pooling2d_1  (None, 2048)              0         \n",
            "  (GlobalAveragePooling2D)                                       \n",
            "                                                                 \n",
            " dense_1 (Dense)             (None, 4)                 8196      \n",
            "                                                                 \n",
            "=================================================================\n",
            "Total params: 23595908 (90.01 MB)\n",
            "Trainable params: 8196 (32.02 KB)\n",
            "Non-trainable params: 23587712 (89.98 MB)\n",
            "_________________________________________________________________\n",
            "Epoch 1/50\n",
            "11/11 [==============================] - 8s 447ms/step - loss: 1.6980 - accuracy: 0.3123 - val_loss: 1.8878 - val_accuracy: 0.3214\n",
            "Epoch 2/50\n",
            "11/11 [==============================] - 4s 361ms/step - loss: 1.6430 - accuracy: 0.3363 - val_loss: 1.8319 - val_accuracy: 0.3214\n",
            "Epoch 3/50\n",
            "11/11 [==============================] - 4s 357ms/step - loss: 1.5775 - accuracy: 0.3093 - val_loss: 1.7809 - val_accuracy: 0.3214\n",
            "Epoch 4/50\n",
            "11/11 [==============================] - 6s 506ms/step - loss: 1.5785 - accuracy: 0.3183 - val_loss: 1.7299 - val_accuracy: 0.3095\n",
            "Epoch 5/50\n",
            "11/11 [==============================] - 4s 364ms/step - loss: 1.5601 - accuracy: 0.3363 - val_loss: 1.6846 - val_accuracy: 0.3214\n",
            "Epoch 6/50\n",
            "11/11 [==============================] - 4s 360ms/step - loss: 1.4872 - accuracy: 0.3514 - val_loss: 1.6421 - val_accuracy: 0.3333\n",
            "Epoch 7/50\n",
            "11/11 [==============================] - 5s 477ms/step - loss: 1.4423 - accuracy: 0.3694 - val_loss: 1.6043 - val_accuracy: 0.3452\n",
            "Epoch 8/50\n",
            "11/11 [==============================] - 4s 364ms/step - loss: 1.4482 - accuracy: 0.3874 - val_loss: 1.5687 - val_accuracy: 0.3452\n",
            "Epoch 9/50\n",
            "11/11 [==============================] - 4s 393ms/step - loss: 1.4214 - accuracy: 0.3904 - val_loss: 1.5323 - val_accuracy: 0.3690\n",
            "Epoch 10/50\n",
            "11/11 [==============================] - 5s 418ms/step - loss: 1.3883 - accuracy: 0.4144 - val_loss: 1.5025 - val_accuracy: 0.3690\n",
            "Epoch 11/50\n",
            "11/11 [==============================] - 4s 358ms/step - loss: 1.3438 - accuracy: 0.4114 - val_loss: 1.4712 - val_accuracy: 0.3571\n",
            "Epoch 12/50\n",
            "11/11 [==============================] - 4s 394ms/step - loss: 1.3685 - accuracy: 0.4114 - val_loss: 1.4451 - val_accuracy: 0.3690\n",
            "Epoch 13/50\n",
            "11/11 [==============================] - 4s 360ms/step - loss: 1.3342 - accuracy: 0.4174 - val_loss: 1.4173 - val_accuracy: 0.3810\n",
            "Epoch 14/50\n",
            "11/11 [==============================] - 4s 354ms/step - loss: 1.2795 - accuracy: 0.4354 - val_loss: 1.3918 - val_accuracy: 0.3929\n",
            "Epoch 15/50\n",
            "11/11 [==============================] - 5s 463ms/step - loss: 1.2489 - accuracy: 0.4685 - val_loss: 1.3685 - val_accuracy: 0.3929\n",
            "Epoch 16/50\n",
            "11/11 [==============================] - 4s 379ms/step - loss: 1.2499 - accuracy: 0.4895 - val_loss: 1.3460 - val_accuracy: 0.3929\n",
            "Epoch 17/50\n",
            "11/11 [==============================] - 4s 362ms/step - loss: 1.2395 - accuracy: 0.4745 - val_loss: 1.3272 - val_accuracy: 0.3929\n",
            "Epoch 18/50\n",
            "11/11 [==============================] - 5s 446ms/step - loss: 1.2631 - accuracy: 0.4595 - val_loss: 1.3092 - val_accuracy: 0.4048\n",
            "Epoch 19/50\n",
            "11/11 [==============================] - 4s 374ms/step - loss: 1.2258 - accuracy: 0.4745 - val_loss: 1.2892 - val_accuracy: 0.4048\n",
            "Epoch 20/50\n",
            "11/11 [==============================] - 4s 359ms/step - loss: 1.1904 - accuracy: 0.5165 - val_loss: 1.2707 - val_accuracy: 0.4405\n",
            "Epoch 21/50\n",
            "11/11 [==============================] - 5s 464ms/step - loss: 1.2146 - accuracy: 0.4925 - val_loss: 1.2544 - val_accuracy: 0.4286\n",
            "Epoch 22/50\n",
            "11/11 [==============================] - 5s 376ms/step - loss: 1.1758 - accuracy: 0.4985 - val_loss: 1.2393 - val_accuracy: 0.4167\n",
            "Epoch 23/50\n",
            "11/11 [==============================] - 4s 359ms/step - loss: 1.1717 - accuracy: 0.5285 - val_loss: 1.2258 - val_accuracy: 0.4167\n",
            "Epoch 24/50\n",
            "11/11 [==============================] - 5s 469ms/step - loss: 1.1439 - accuracy: 0.5345 - val_loss: 1.2114 - val_accuracy: 0.4167\n",
            "Epoch 25/50\n",
            "11/11 [==============================] - 4s 359ms/step - loss: 1.1266 - accuracy: 0.5495 - val_loss: 1.1976 - val_accuracy: 0.4286\n",
            "Epoch 26/50\n",
            "11/11 [==============================] - 4s 360ms/step - loss: 1.0869 - accuracy: 0.5526 - val_loss: 1.1873 - val_accuracy: 0.4286\n",
            "Epoch 27/50\n",
            "11/11 [==============================] - 5s 474ms/step - loss: 1.1294 - accuracy: 0.5375 - val_loss: 1.1764 - val_accuracy: 0.4643\n",
            "Epoch 28/50\n",
            "11/11 [==============================] - 4s 351ms/step - loss: 1.0825 - accuracy: 0.5676 - val_loss: 1.1637 - val_accuracy: 0.4762\n",
            "Epoch 29/50\n",
            "11/11 [==============================] - 4s 361ms/step - loss: 1.0736 - accuracy: 0.5586 - val_loss: 1.1519 - val_accuracy: 0.5000\n",
            "Epoch 30/50\n",
            "11/11 [==============================] - 5s 480ms/step - loss: 1.0488 - accuracy: 0.6036 - val_loss: 1.1407 - val_accuracy: 0.5000\n",
            "Epoch 31/50\n",
            "11/11 [==============================] - 4s 358ms/step - loss: 1.0917 - accuracy: 0.5586 - val_loss: 1.1296 - val_accuracy: 0.5000\n",
            "Epoch 32/50\n",
            "11/11 [==============================] - 4s 361ms/step - loss: 1.0743 - accuracy: 0.5676 - val_loss: 1.1179 - val_accuracy: 0.5000\n",
            "Epoch 33/50\n",
            "11/11 [==============================] - 5s 478ms/step - loss: 1.0450 - accuracy: 0.5676 - val_loss: 1.1074 - val_accuracy: 0.5119\n",
            "Epoch 34/50\n",
            "11/11 [==============================] - 4s 357ms/step - loss: 1.0449 - accuracy: 0.5886 - val_loss: 1.0976 - val_accuracy: 0.5238\n",
            "Epoch 35/50\n",
            "11/11 [==============================] - 4s 357ms/step - loss: 1.0087 - accuracy: 0.6096 - val_loss: 1.0887 - val_accuracy: 0.5238\n",
            "Epoch 36/50\n",
            "11/11 [==============================] - 5s 508ms/step - loss: 1.0579 - accuracy: 0.5736 - val_loss: 1.0791 - val_accuracy: 0.5357\n",
            "Epoch 37/50\n",
            "11/11 [==============================] - 4s 346ms/step - loss: 1.0078 - accuracy: 0.5916 - val_loss: 1.0703 - val_accuracy: 0.5357\n",
            "Epoch 38/50\n",
            "11/11 [==============================] - 4s 387ms/step - loss: 1.0040 - accuracy: 0.6186 - val_loss: 1.0630 - val_accuracy: 0.5357\n",
            "Epoch 39/50\n",
            "11/11 [==============================] - 5s 384ms/step - loss: 1.0027 - accuracy: 0.6066 - val_loss: 1.0551 - val_accuracy: 0.5357\n",
            "Epoch 40/50\n",
            "11/11 [==============================] - 4s 368ms/step - loss: 1.0315 - accuracy: 0.5976 - val_loss: 1.0454 - val_accuracy: 0.5714\n",
            "Epoch 41/50\n",
            "11/11 [==============================] - 5s 448ms/step - loss: 0.9987 - accuracy: 0.6366 - val_loss: 1.0364 - val_accuracy: 0.5833\n",
            "Epoch 42/50\n",
            "11/11 [==============================] - 4s 367ms/step - loss: 0.9941 - accuracy: 0.6006 - val_loss: 1.0286 - val_accuracy: 0.5833\n",
            "Epoch 43/50\n",
            "11/11 [==============================] - 4s 371ms/step - loss: 0.9686 - accuracy: 0.6517 - val_loss: 1.0203 - val_accuracy: 0.5833\n",
            "Epoch 44/50\n",
            "11/11 [==============================] - 5s 475ms/step - loss: 0.9766 - accuracy: 0.6366 - val_loss: 1.0137 - val_accuracy: 0.6071\n",
            "Epoch 45/50\n",
            "11/11 [==============================] - 5s 412ms/step - loss: 0.9669 - accuracy: 0.6216 - val_loss: 1.0065 - val_accuracy: 0.6071\n",
            "Epoch 46/50\n",
            "11/11 [==============================] - 4s 356ms/step - loss: 0.9630 - accuracy: 0.6547 - val_loss: 0.9994 - val_accuracy: 0.6071\n",
            "Epoch 47/50\n",
            "11/11 [==============================] - 5s 496ms/step - loss: 0.9216 - accuracy: 0.6186 - val_loss: 0.9929 - val_accuracy: 0.6190\n",
            "Epoch 48/50\n",
            "11/11 [==============================] - 4s 374ms/step - loss: 0.9140 - accuracy: 0.6727 - val_loss: 0.9865 - val_accuracy: 0.6310\n",
            "Epoch 49/50\n",
            "11/11 [==============================] - 4s 366ms/step - loss: 0.9264 - accuracy: 0.6697 - val_loss: 0.9789 - val_accuracy: 0.6190\n",
            "Epoch 50/50\n",
            "11/11 [==============================] - 5s 500ms/step - loss: 0.9104 - accuracy: 0.6486 - val_loss: 0.9727 - val_accuracy: 0.6190\n"
          ]
        }
      ]
    },
    {
      "cell_type": "code",
      "source": [
        "from sklearn.metrics import confusion_matrix, classification_report\n",
        "import numpy as np\n",
        "import matplotlib.pyplot as plt\n",
        "import seaborn as sns\n",
        "\n",
        "# Menggunakan model_resnet50ver2 untuk membuat prediksi pada data uji\n",
        "Y_pred = model_resnet50ver2.predict(X_test)\n",
        "# Mengambil indeks kelas dengan probabilitas tertinggi sebagai prediksi\n",
        "Y_pred_classes = np.argmax(Y_pred, axis=1)\n",
        "# Mengambil indeks kelas dengan probabilitas tertinggi sebagai label sebenarnya\n",
        "Y_true = np.argmax(Y_test, axis=1)\n",
        "\n",
        "# Membuat confusion matrix\n",
        "conf_matrix = confusion_matrix(Y_true, Y_pred_classes)\n",
        "\n",
        "# Menampilkan confusion matrix dalam bentuk visualisasi\n",
        "plt.figure(figsize=(8, 6))\n",
        "sns.heatmap(conf_matrix, annot=True, fmt=\"d\", cmap=\"Blues\", xticklabels=['Common_Rust', 'Healthy', 'Gray_Leaf_Spot', 'Blight'], yticklabels=['Common_Rust', 'Healthy', 'Gray_Leaf_Spot', 'Blight'])\n",
        "plt.xlabel('Predicted labels')\n",
        "plt.ylabel('True labels')\n",
        "plt.title('Confusion Matrix')\n",
        "plt.show()\n",
        "\n",
        "# Membuat classification report\n",
        "class_report = classification_report(Y_true, Y_pred_classes)\n",
        "\n",
        "# Menampilkan classification report\n",
        "print(\"\\nClassification Report:\")\n",
        "print(class_report)"
      ],
      "metadata": {
        "colab": {
          "base_uri": "https://localhost:8080/",
          "height": 807
        },
        "id": "YWvBAbaMInI-",
        "outputId": "95625584-d019-40f0-e0ff-9c581860b13c"
      },
      "execution_count": 14,
      "outputs": [
        {
          "output_type": "stream",
          "name": "stdout",
          "text": [
            "3/3 [==============================] - 1s 114ms/step\n"
          ]
        },
        {
          "output_type": "display_data",
          "data": {
            "text/plain": [
              "<Figure size 800x600 with 2 Axes>"
            ],
            "image/png": "[encoded data removed]"
          },
          "metadata": {}
        },
        {
          "output_type": "stream",
          "name": "stdout",
          "text": [
            "\n",
            "Classification Report:\n",
            "              precision    recall  f1-score   support\n",
            "\n",
            "           0       0.50      0.65      0.57        26\n",
            "           1       0.66      0.62      0.64        34\n",
            "           2       0.00      0.00      0.00        10\n",
            "           3       0.93      1.00      0.97        14\n",
            "\n",
            "    accuracy                           0.62        84\n",
            "   macro avg       0.52      0.57      0.54        84\n",
            "weighted avg       0.58      0.62      0.59        84\n",
            "\n"
          ]
        }
      ]
    }
  ]
}