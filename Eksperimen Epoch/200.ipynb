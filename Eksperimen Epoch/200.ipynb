{
  "nbformat": 4,
  "nbformat_minor": 0,
  "metadata": {
    "colab": {
      "provenance": [],
      "gpuType": "T4",
      "authorship_tag": "ABX9TyPtcA28hvY2KlF4nQ20le2m",
      "include_colab_link": true
    },
    "kernelspec": {
      "name": "python3",
      "display_name": "Python 3"
    },
    "language_info": {
      "name": "python"
    },
    "accelerator": "GPU"
  },
  "cells": [
    {
      "cell_type": "markdown",
      "metadata": {
        "id": "view-in-github",
        "colab_type": "text"
      },
      "source": [
        "<a href=\"https://colab.research.google.com/github/Smjfirna/Arsitektur-Compration/blob/main/Eksperimen%20Epoch/200.ipynb\" target=\"_parent\"><img src=\"https://colab.research.google.com/assets/colab-badge.svg\" alt=\"Open In Colab\"/></a>"
      ]
    },
    {
      "cell_type": "code",
      "source": [
        "import os\n",
        "import cv2\n",
        "import numpy as np\n",
        "from tqdm import tqdm\n",
        "from sklearn.model_selection import train_test_split\n",
        "from sklearn.preprocessing import LabelEncoder\n",
        "from keras.utils import to_categorical\n",
        "\n",
        "import tensorflow as tf\n",
        "from tensorflow.keras.preprocessing.image import ImageDataGenerator\n",
        "from tensorflow.keras.models import Sequential\n",
        "from tensorflow.keras import layers, Model, regularizers\n",
        "from tensorflow.keras.callbacks import EarlyStopping\n",
        "from tensorflow.keras.layers import Conv2D, MaxPooling2D, Flatten, Dense, GlobalAveragePooling2D, Dropout\n",
        "import os\n",
        "from tensorflow.keras.optimizers import Adam\n",
        "from tensorflow.keras.optimizers import RMSprop\n",
        "\n",
        "from keras.applications import ResNet50"
      ],
      "metadata": {
        "id": "LaloGmhuhwP-"
      },
      "execution_count": 1,
      "outputs": []
    },
    {
      "cell_type": "code",
      "execution_count": 2,
      "metadata": {
        "colab": {
          "base_uri": "https://localhost:8080/"
        },
        "id": "d_i5Zy9kdLGU",
        "outputId": "e6d87198-d7b8-4fb0-9af1-1b96a2f18e50"
      },
      "outputs": [
        {
          "output_type": "stream",
          "name": "stdout",
          "text": [
            "Mounted at /content/drive\n"
          ]
        }
      ],
      "source": [
        "from google.colab import drive\n",
        "drive.mount('/content/drive')"
      ]
    },
    {
      "cell_type": "code",
      "source": [
        "dataset_dir = \"/content/drive/MyDrive/Skripsi Syafirna/Program/Data Sample 10\"\n",
        "\n",
        "print(os.listdir(dataset_dir))"
      ],
      "metadata": {
        "colab": {
          "base_uri": "https://localhost:8080/"
        },
        "id": "c60kX1_DjBPd",
        "outputId": "d0c1d0c5-cbc3-4d26-8553-8b01b2095ac1"
      },
      "execution_count": 3,
      "outputs": [
        {
          "output_type": "stream",
          "name": "stdout",
          "text": [
            "['Blight', 'Healthy', 'Common_Rust', 'Gray_Leaf_Spot']\n"
          ]
        }
      ]
    },
    {
      "cell_type": "code",
      "source": [
        "size_resnet50 = 224"
      ],
      "metadata": {
        "id": "Mjg6pdK1DO1a"
      },
      "execution_count": 4,
      "outputs": []
    },
    {
      "cell_type": "code",
      "source": [
        "def make_data(label, DIR, img_list, label_list):\n",
        "    for img in tqdm(os.listdir(DIR)):\n",
        "        path = os.path.join(DIR, img)\n",
        "        img = cv2.imread(path, cv2.IMREAD_COLOR)\n",
        "        img = cv2.resize(img, (size_resnet50, size_resnet50))\n",
        "        img_list.append(np.array(img))\n",
        "        label_list.append(str(label))"
      ],
      "metadata": {
        "id": "XgNY4FGvD-BF"
      },
      "execution_count": 5,
      "outputs": []
    },
    {
      "cell_type": "code",
      "source": [
        "X = []\n",
        "Z = []"
      ],
      "metadata": {
        "id": "HPv9tP13DXm6"
      },
      "execution_count": 21,
      "outputs": []
    },
    {
      "cell_type": "code",
      "source": [
        "for i, class_name in enumerate(['Common_Rust', 'Healthy', 'Gray_Leaf_Spot', 'Blight']):\n",
        "    class_dir = os.path.join(dataset_dir, class_name)\n",
        "    make_data(class_name, class_dir, X, Z)"
      ],
      "metadata": {
        "colab": {
          "base_uri": "https://localhost:8080/"
        },
        "id": "L7CgU46UDc6d",
        "outputId": "28c28797-bd6b-4e47-93d2-409b68733a89"
      },
      "execution_count": 23,
      "outputs": [
        {
          "output_type": "stream",
          "name": "stderr",
          "text": [
            "100%|██████████| 130/130 [00:04<00:00, 31.22it/s]\n",
            "100%|██████████| 116/116 [00:00<00:00, 141.62it/s]\n",
            "100%|██████████| 57/57 [00:00<00:00, 61.92it/s]\n",
            "100%|██████████| 114/114 [00:03<00:00, 37.74it/s]\n"
          ]
        }
      ]
    },
    {
      "cell_type": "code",
      "source": [
        "import matplotlib.pyplot as plt\n",
        "\n",
        "# Menghitung jumlah data untuk setiap kelas\n",
        "class_counts = {class_name: Z.count(class_name) for class_name in set(Z)}\n",
        "\n",
        "# Menampilkan visualisasi jumlah data\n",
        "plt.figure(figsize=(4, 4))\n",
        "plt.bar(class_counts.keys(), class_counts.values())\n",
        "plt.xlabel('Class')\n",
        "plt.ylabel('Count')\n",
        "plt.title('Number of Data Samples for Each Class')\n",
        "plt.show()"
      ],
      "metadata": {
        "colab": {
          "base_uri": "https://localhost:8080/",
          "height": 410
        },
        "id": "jWbdII-8E9kW",
        "outputId": "1a7c3303-997c-4238-ba80-677a795743a5"
      },
      "execution_count": 24,
      "outputs": [
        {
          "output_type": "display_data",
          "data": {
            "text/plain": [
              "<Figure size 400x400 with 1 Axes>"
            ],
            "image/png": "[encoded data removed]"
          },
          "metadata": {}
        }
      ]
    },
    {
      "cell_type": "code",
      "source": [
        "le = LabelEncoder()\n",
        "Y = le.fit_transform(Z)\n",
        "Y = to_categorical(Y, num_classes=len(le.classes_))\n",
        "\n",
        "# Konversi ke array numpy\n",
        "X = np.array(X)\n",
        "\n",
        "# Memisahkan data menjadi data latih dan data uji\n",
        "X_train, X_test, Y_train, Y_test = train_test_split(X, Y, test_size=0.2, random_state=42)\n",
        "\n",
        "print(\"Jumlah Data Train adalah :\", len(X_train))\n",
        "print(\"Jumlah Data Test adalah :\", len(X_test))"
      ],
      "metadata": {
        "colab": {
          "base_uri": "https://localhost:8080/"
        },
        "id": "LFG1SJ3OFPWV",
        "outputId": "7f93a759-e220-4767-d4d5-df230c6ae4ee"
      },
      "execution_count": 25,
      "outputs": [
        {
          "output_type": "stream",
          "name": "stdout",
          "text": [
            "Jumlah Data Train adalah : 667\n",
            "Jumlah Data Test adalah : 167\n"
          ]
        }
      ]
    },
    {
      "cell_type": "code",
      "source": [
        "datagen = ImageDataGenerator(\n",
        "    rotation_range=20,  # Rotasi gambar hingga 40 derajat\n",
        "    zoom_range=0.2,  # Zoom-in/Zoom-out gambar\n",
        "    horizontal_flip=True,  # Flipping horizontal gambar\n",
        ")\n",
        "\n",
        "datagen.fit(X_train)"
      ],
      "metadata": {
        "id": "l_s_dW_k2OKD"
      },
      "execution_count": 26,
      "outputs": []
    },
    {
      "cell_type": "code",
      "source": [
        "resnet50 = ResNet50(include_top=False, weights='imagenet', input_shape=(size_resnet50, size_resnet50, 3))\n",
        "\n",
        "# Membuat model Sequential\n",
        "model_resnet50ver2 = Sequential()\n",
        "model_resnet50ver2.add(resnet50)\n",
        "model_resnet50ver2.add(GlobalAveragePooling2D())\n",
        "model_resnet50ver2.add(Dense(4, activation='softmax'))\n",
        "\n",
        "# Membekukan layer-layer ResNet50 yang telah dilatih\n",
        "for layer in resnet50.layers:\n",
        "    layer.trainable = False\n",
        "\n",
        "# Mengompilasi model dengan optimizer Adam dan loss function categorical crossentropy\n",
        "model_resnet50ver2.compile(optimizer=Adam(learning_rate=1e-5), loss='categorical_crossentropy', metrics=['accuracy'])\n",
        "\n",
        "# Menampilkan summary dari model\n",
        "model_resnet50ver2.summary()\n",
        "\n",
        "# Melatih model dengan data latih dan validasi\n",
        "history_resnet50ver2 = model_resnet50ver2.fit(datagen.flow(X_train, Y_train), epochs=200, validation_data=(X_test, Y_test))"
      ],
      "metadata": {
        "colab": {
          "base_uri": "https://localhost:8080/"
        },
        "id": "L4NJLS5-FT93",
        "outputId": "d5b76ed0-cc42-46b1-8c4a-77da08ebb7fc"
      },
      "execution_count": 27,
      "outputs": [
        {
          "output_type": "stream",
          "name": "stdout",
          "text": [
            "Model: \"sequential_5\"\n",
            "_________________________________________________________________\n",
            " Layer (type)                Output Shape              Param #   \n",
            "=================================================================\n",
            " resnet50 (Functional)       (None, 7, 7, 2048)        23587712  \n",
            "                                                                 \n",
            " global_average_pooling2d_5  (None, 2048)              0         \n",
            "  (GlobalAveragePooling2D)                                       \n",
            "                                                                 \n",
            " dense_5 (Dense)             (None, 4)                 8196      \n",
            "                                                                 \n",
            "=================================================================\n",
            "Total params: 23595908 (90.01 MB)\n",
            "Trainable params: 8196 (32.02 KB)\n",
            "Non-trainable params: 23587712 (89.98 MB)\n",
            "_________________________________________________________________\n",
            "Epoch 1/200\n",
            "21/21 [==============================] - 16s 552ms/step - loss: 2.1633 - accuracy: 0.2894 - val_loss: 2.1914 - val_accuracy: 0.2754\n",
            "Epoch 2/200\n",
            "21/21 [==============================] - 9s 448ms/step - loss: 2.0389 - accuracy: 0.2999 - val_loss: 2.0596 - val_accuracy: 0.2814\n",
            "Epoch 3/200\n",
            "21/21 [==============================] - 8s 397ms/step - loss: 1.9007 - accuracy: 0.3013 - val_loss: 1.9526 - val_accuracy: 0.2934\n",
            "Epoch 4/200\n",
            "21/21 [==============================] - 9s 399ms/step - loss: 1.8061 - accuracy: 0.3073 - val_loss: 1.8555 - val_accuracy: 0.3473\n",
            "Epoch 5/200\n",
            "21/21 [==============================] - 9s 443ms/step - loss: 1.7435 - accuracy: 0.3253 - val_loss: 1.7753 - val_accuracy: 0.3653\n",
            "Epoch 6/200\n",
            "21/21 [==============================] - 8s 378ms/step - loss: 1.6694 - accuracy: 0.3403 - val_loss: 1.7068 - val_accuracy: 0.3593\n",
            "Epoch 7/200\n",
            "21/21 [==============================] - 8s 370ms/step - loss: 1.5939 - accuracy: 0.3463 - val_loss: 1.6474 - val_accuracy: 0.3593\n",
            "Epoch 8/200\n",
            "21/21 [==============================] - 8s 376ms/step - loss: 1.5680 - accuracy: 0.3553 - val_loss: 1.5963 - val_accuracy: 0.4072\n",
            "Epoch 9/200\n",
            "21/21 [==============================] - 10s 443ms/step - loss: 1.5426 - accuracy: 0.3583 - val_loss: 1.5505 - val_accuracy: 0.4192\n",
            "Epoch 10/200\n",
            "21/21 [==============================] - 9s 416ms/step - loss: 1.4727 - accuracy: 0.3913 - val_loss: 1.5105 - val_accuracy: 0.4251\n",
            "Epoch 11/200\n",
            "21/21 [==============================] - 8s 375ms/step - loss: 1.4313 - accuracy: 0.3973 - val_loss: 1.4743 - val_accuracy: 0.4311\n",
            "Epoch 12/200\n",
            "21/21 [==============================] - 9s 448ms/step - loss: 1.4127 - accuracy: 0.4033 - val_loss: 1.4409 - val_accuracy: 0.4311\n",
            "Epoch 13/200\n",
            "21/21 [==============================] - 8s 403ms/step - loss: 1.3759 - accuracy: 0.4273 - val_loss: 1.4099 - val_accuracy: 0.4192\n",
            "Epoch 14/200\n",
            "21/21 [==============================] - 8s 379ms/step - loss: 1.3353 - accuracy: 0.4093 - val_loss: 1.3816 - val_accuracy: 0.4192\n",
            "Epoch 15/200\n",
            "21/21 [==============================] - 9s 456ms/step - loss: 1.3320 - accuracy: 0.4243 - val_loss: 1.3536 - val_accuracy: 0.4311\n",
            "Epoch 16/200\n",
            "21/21 [==============================] - 9s 452ms/step - loss: 1.2878 - accuracy: 0.4153 - val_loss: 1.3279 - val_accuracy: 0.4551\n",
            "Epoch 17/200\n",
            "21/21 [==============================] - 8s 374ms/step - loss: 1.2889 - accuracy: 0.4348 - val_loss: 1.3013 - val_accuracy: 0.4671\n",
            "Epoch 18/200\n",
            "21/21 [==============================] - 8s 368ms/step - loss: 1.2473 - accuracy: 0.4588 - val_loss: 1.2777 - val_accuracy: 0.4671\n",
            "Epoch 19/200\n",
            "21/21 [==============================] - 9s 441ms/step - loss: 1.1970 - accuracy: 0.4693 - val_loss: 1.2541 - val_accuracy: 0.4731\n",
            "Epoch 20/200\n",
            "21/21 [==============================] - 9s 408ms/step - loss: 1.1990 - accuracy: 0.4648 - val_loss: 1.2320 - val_accuracy: 0.5030\n",
            "Epoch 21/200\n",
            "21/21 [==============================] - 8s 377ms/step - loss: 1.1679 - accuracy: 0.4873 - val_loss: 1.2107 - val_accuracy: 0.5090\n",
            "Epoch 22/200\n",
            "21/21 [==============================] - 9s 440ms/step - loss: 1.1455 - accuracy: 0.5052 - val_loss: 1.1900 - val_accuracy: 0.5269\n",
            "Epoch 23/200\n",
            "21/21 [==============================] - 9s 437ms/step - loss: 1.1376 - accuracy: 0.5067 - val_loss: 1.1691 - val_accuracy: 0.5389\n",
            "Epoch 24/200\n",
            "21/21 [==============================] - 8s 377ms/step - loss: 1.0952 - accuracy: 0.5427 - val_loss: 1.1490 - val_accuracy: 0.5509\n",
            "Epoch 25/200\n",
            "21/21 [==============================] - 8s 374ms/step - loss: 1.0840 - accuracy: 0.5397 - val_loss: 1.1299 - val_accuracy: 0.5509\n",
            "Epoch 26/200\n",
            "21/21 [==============================] - 9s 413ms/step - loss: 1.0655 - accuracy: 0.5487 - val_loss: 1.1121 - val_accuracy: 0.5749\n",
            "Epoch 27/200\n",
            "21/21 [==============================] - 9s 449ms/step - loss: 1.0549 - accuracy: 0.5547 - val_loss: 1.0952 - val_accuracy: 0.5868\n",
            "Epoch 28/200\n",
            "21/21 [==============================] - 8s 368ms/step - loss: 1.0104 - accuracy: 0.5697 - val_loss: 1.0783 - val_accuracy: 0.5868\n",
            "Epoch 29/200\n",
            "21/21 [==============================] - 10s 456ms/step - loss: 1.0143 - accuracy: 0.5727 - val_loss: 1.0626 - val_accuracy: 0.5868\n",
            "Epoch 30/200\n",
            "21/21 [==============================] - 10s 458ms/step - loss: 0.9971 - accuracy: 0.6012 - val_loss: 1.0464 - val_accuracy: 0.5868\n",
            "Epoch 31/200\n",
            "21/21 [==============================] - 8s 375ms/step - loss: 0.9927 - accuracy: 0.5877 - val_loss: 1.0311 - val_accuracy: 0.6048\n",
            "Epoch 32/200\n",
            "21/21 [==============================] - 9s 422ms/step - loss: 0.9716 - accuracy: 0.6147 - val_loss: 1.0167 - val_accuracy: 0.6048\n",
            "Epoch 33/200\n",
            "21/21 [==============================] - 9s 450ms/step - loss: 0.9620 - accuracy: 0.6042 - val_loss: 1.0023 - val_accuracy: 0.6108\n",
            "Epoch 34/200\n",
            "21/21 [==============================] - 8s 380ms/step - loss: 0.9468 - accuracy: 0.6132 - val_loss: 0.9886 - val_accuracy: 0.6048\n",
            "Epoch 35/200\n",
            "21/21 [==============================] - 9s 400ms/step - loss: 0.9383 - accuracy: 0.6192 - val_loss: 0.9753 - val_accuracy: 0.6168\n",
            "Epoch 36/200\n",
            "21/21 [==============================] - 9s 446ms/step - loss: 0.9171 - accuracy: 0.6267 - val_loss: 0.9623 - val_accuracy: 0.6228\n",
            "Epoch 37/200\n",
            "21/21 [==============================] - 8s 378ms/step - loss: 0.9346 - accuracy: 0.6327 - val_loss: 0.9495 - val_accuracy: 0.6228\n",
            "Epoch 38/200\n",
            "21/21 [==============================] - 9s 429ms/step - loss: 0.9034 - accuracy: 0.6477 - val_loss: 0.9369 - val_accuracy: 0.6347\n",
            "Epoch 39/200\n",
            "21/21 [==============================] - 9s 441ms/step - loss: 0.8721 - accuracy: 0.6432 - val_loss: 0.9254 - val_accuracy: 0.6347\n",
            "Epoch 40/200\n",
            "21/21 [==============================] - 8s 384ms/step - loss: 0.8865 - accuracy: 0.6297 - val_loss: 0.9146 - val_accuracy: 0.6407\n",
            "Epoch 41/200\n",
            "21/21 [==============================] - 8s 370ms/step - loss: 0.8483 - accuracy: 0.6522 - val_loss: 0.9038 - val_accuracy: 0.6407\n",
            "Epoch 42/200\n",
            "21/21 [==============================] - 9s 447ms/step - loss: 0.8653 - accuracy: 0.6387 - val_loss: 0.8934 - val_accuracy: 0.6587\n",
            "Epoch 43/200\n",
            "21/21 [==============================] - 9s 450ms/step - loss: 0.8483 - accuracy: 0.6717 - val_loss: 0.8829 - val_accuracy: 0.6587\n",
            "Epoch 44/200\n",
            "21/21 [==============================] - 8s 375ms/step - loss: 0.8392 - accuracy: 0.6807 - val_loss: 0.8724 - val_accuracy: 0.6587\n",
            "Epoch 45/200\n",
            "21/21 [==============================] - 9s 449ms/step - loss: 0.8116 - accuracy: 0.7046 - val_loss: 0.8624 - val_accuracy: 0.6707\n",
            "Epoch 46/200\n",
            "21/21 [==============================] - 9s 447ms/step - loss: 0.8231 - accuracy: 0.6702 - val_loss: 0.8535 - val_accuracy: 0.6886\n",
            "Epoch 47/200\n",
            "21/21 [==============================] - 8s 367ms/step - loss: 0.7859 - accuracy: 0.7001 - val_loss: 0.8451 - val_accuracy: 0.6946\n",
            "Epoch 48/200\n",
            "21/21 [==============================] - 9s 449ms/step - loss: 0.7902 - accuracy: 0.6927 - val_loss: 0.8357 - val_accuracy: 0.7066\n",
            "Epoch 49/200\n",
            "21/21 [==============================] - 9s 445ms/step - loss: 0.7926 - accuracy: 0.6942 - val_loss: 0.8277 - val_accuracy: 0.7066\n",
            "Epoch 50/200\n",
            "21/21 [==============================] - 8s 379ms/step - loss: 0.7956 - accuracy: 0.6852 - val_loss: 0.8182 - val_accuracy: 0.7066\n",
            "Epoch 51/200\n",
            "21/21 [==============================] - 9s 417ms/step - loss: 0.7880 - accuracy: 0.7046 - val_loss: 0.8097 - val_accuracy: 0.7126\n",
            "Epoch 52/200\n",
            "21/21 [==============================] - 9s 443ms/step - loss: 0.7657 - accuracy: 0.7091 - val_loss: 0.8031 - val_accuracy: 0.7246\n",
            "Epoch 53/200\n",
            "21/21 [==============================] - 8s 386ms/step - loss: 0.7786 - accuracy: 0.7061 - val_loss: 0.7951 - val_accuracy: 0.7305\n",
            "Epoch 54/200\n",
            "21/21 [==============================] - 9s 397ms/step - loss: 0.7418 - accuracy: 0.7256 - val_loss: 0.7886 - val_accuracy: 0.7305\n",
            "Epoch 55/200\n",
            "21/21 [==============================] - 9s 440ms/step - loss: 0.7594 - accuracy: 0.6972 - val_loss: 0.7814 - val_accuracy: 0.7365\n",
            "Epoch 56/200\n",
            "21/21 [==============================] - 8s 375ms/step - loss: 0.7352 - accuracy: 0.7121 - val_loss: 0.7743 - val_accuracy: 0.7425\n",
            "Epoch 57/200\n",
            "21/21 [==============================] - 9s 426ms/step - loss: 0.7316 - accuracy: 0.7406 - val_loss: 0.7673 - val_accuracy: 0.7425\n",
            "Epoch 58/200\n",
            "21/21 [==============================] - 9s 452ms/step - loss: 0.7282 - accuracy: 0.7346 - val_loss: 0.7602 - val_accuracy: 0.7425\n",
            "Epoch 59/200\n",
            "21/21 [==============================] - 8s 382ms/step - loss: 0.6869 - accuracy: 0.7406 - val_loss: 0.7543 - val_accuracy: 0.7425\n",
            "Epoch 60/200\n",
            "21/21 [==============================] - 8s 373ms/step - loss: 0.7195 - accuracy: 0.7391 - val_loss: 0.7475 - val_accuracy: 0.7485\n",
            "Epoch 61/200\n",
            "21/21 [==============================] - 9s 452ms/step - loss: 0.6976 - accuracy: 0.7421 - val_loss: 0.7406 - val_accuracy: 0.7605\n",
            "Epoch 62/200\n",
            "21/21 [==============================] - 9s 445ms/step - loss: 0.6707 - accuracy: 0.7496 - val_loss: 0.7349 - val_accuracy: 0.7605\n",
            "Epoch 63/200\n",
            "21/21 [==============================] - 8s 370ms/step - loss: 0.6961 - accuracy: 0.7376 - val_loss: 0.7288 - val_accuracy: 0.7605\n",
            "Epoch 64/200\n",
            "21/21 [==============================] - 9s 392ms/step - loss: 0.6916 - accuracy: 0.7436 - val_loss: 0.7241 - val_accuracy: 0.7665\n",
            "Epoch 65/200\n",
            "21/21 [==============================] - 9s 448ms/step - loss: 0.6626 - accuracy: 0.7616 - val_loss: 0.7177 - val_accuracy: 0.7665\n",
            "Epoch 66/200\n",
            "21/21 [==============================] - 8s 388ms/step - loss: 0.6674 - accuracy: 0.7556 - val_loss: 0.7132 - val_accuracy: 0.7665\n",
            "Epoch 67/200\n",
            "21/21 [==============================] - 8s 379ms/step - loss: 0.6663 - accuracy: 0.7586 - val_loss: 0.7070 - val_accuracy: 0.7665\n",
            "Epoch 68/200\n",
            "21/21 [==============================] - 9s 398ms/step - loss: 0.6599 - accuracy: 0.7691 - val_loss: 0.7016 - val_accuracy: 0.7725\n",
            "Epoch 69/200\n",
            "21/21 [==============================] - 9s 455ms/step - loss: 0.6444 - accuracy: 0.7676 - val_loss: 0.6972 - val_accuracy: 0.7665\n",
            "Epoch 70/200\n",
            "21/21 [==============================] - 9s 408ms/step - loss: 0.6686 - accuracy: 0.7331 - val_loss: 0.6916 - val_accuracy: 0.7665\n",
            "Epoch 71/200\n",
            "21/21 [==============================] - 8s 374ms/step - loss: 0.6437 - accuracy: 0.7616 - val_loss: 0.6868 - val_accuracy: 0.7725\n",
            "Epoch 72/200\n",
            "21/21 [==============================] - 9s 446ms/step - loss: 0.6406 - accuracy: 0.7691 - val_loss: 0.6813 - val_accuracy: 0.7665\n",
            "Epoch 73/200\n",
            "21/21 [==============================] - 9s 442ms/step - loss: 0.6420 - accuracy: 0.7661 - val_loss: 0.6781 - val_accuracy: 0.7665\n",
            "Epoch 74/200\n",
            "21/21 [==============================] - 8s 371ms/step - loss: 0.6310 - accuracy: 0.7781 - val_loss: 0.6743 - val_accuracy: 0.7665\n",
            "Epoch 75/200\n",
            "21/21 [==============================] - 9s 440ms/step - loss: 0.6391 - accuracy: 0.7541 - val_loss: 0.6706 - val_accuracy: 0.7725\n",
            "Epoch 76/200\n",
            "21/21 [==============================] - 9s 454ms/step - loss: 0.6114 - accuracy: 0.7796 - val_loss: 0.6653 - val_accuracy: 0.7725\n",
            "Epoch 77/200\n",
            "21/21 [==============================] - 8s 379ms/step - loss: 0.6132 - accuracy: 0.7901 - val_loss: 0.6596 - val_accuracy: 0.7665\n",
            "Epoch 78/200\n",
            "21/21 [==============================] - 8s 377ms/step - loss: 0.6204 - accuracy: 0.7691 - val_loss: 0.6551 - val_accuracy: 0.7665\n",
            "Epoch 79/200\n",
            "21/21 [==============================] - 10s 457ms/step - loss: 0.6159 - accuracy: 0.7766 - val_loss: 0.6515 - val_accuracy: 0.7665\n",
            "Epoch 80/200\n",
            "21/21 [==============================] - 9s 429ms/step - loss: 0.6083 - accuracy: 0.7871 - val_loss: 0.6489 - val_accuracy: 0.7665\n",
            "Epoch 81/200\n",
            "21/21 [==============================] - 8s 380ms/step - loss: 0.5899 - accuracy: 0.7841 - val_loss: 0.6450 - val_accuracy: 0.7665\n",
            "Epoch 82/200\n",
            "21/21 [==============================] - 9s 443ms/step - loss: 0.5929 - accuracy: 0.7721 - val_loss: 0.6405 - val_accuracy: 0.7665\n",
            "Epoch 83/200\n",
            "21/21 [==============================] - 9s 452ms/step - loss: 0.5785 - accuracy: 0.7856 - val_loss: 0.6365 - val_accuracy: 0.7725\n",
            "Epoch 84/200\n",
            "21/21 [==============================] - 8s 371ms/step - loss: 0.5923 - accuracy: 0.7811 - val_loss: 0.6331 - val_accuracy: 0.7725\n",
            "Epoch 85/200\n",
            "21/21 [==============================] - 8s 369ms/step - loss: 0.5908 - accuracy: 0.7796 - val_loss: 0.6285 - val_accuracy: 0.7725\n",
            "Epoch 86/200\n",
            "21/21 [==============================] - 9s 449ms/step - loss: 0.5828 - accuracy: 0.7721 - val_loss: 0.6245 - val_accuracy: 0.7725\n",
            "Epoch 87/200\n",
            "21/21 [==============================] - 9s 415ms/step - loss: 0.5890 - accuracy: 0.7811 - val_loss: 0.6224 - val_accuracy: 0.7725\n",
            "Epoch 88/200\n",
            "21/21 [==============================] - 8s 376ms/step - loss: 0.5823 - accuracy: 0.7706 - val_loss: 0.6193 - val_accuracy: 0.7725\n",
            "Epoch 89/200\n",
            "21/21 [==============================] - 9s 441ms/step - loss: 0.5877 - accuracy: 0.7901 - val_loss: 0.6151 - val_accuracy: 0.7725\n",
            "Epoch 90/200\n",
            "21/21 [==============================] - 9s 430ms/step - loss: 0.5639 - accuracy: 0.7841 - val_loss: 0.6128 - val_accuracy: 0.7725\n",
            "Epoch 91/200\n",
            "21/21 [==============================] - 8s 368ms/step - loss: 0.5587 - accuracy: 0.7901 - val_loss: 0.6086 - val_accuracy: 0.7725\n",
            "Epoch 92/200\n",
            "21/21 [==============================] - 9s 445ms/step - loss: 0.5644 - accuracy: 0.7886 - val_loss: 0.6055 - val_accuracy: 0.7725\n",
            "Epoch 93/200\n",
            "21/21 [==============================] - 9s 431ms/step - loss: 0.5572 - accuracy: 0.7916 - val_loss: 0.6032 - val_accuracy: 0.7725\n",
            "Epoch 94/200\n",
            "21/21 [==============================] - 8s 372ms/step - loss: 0.5474 - accuracy: 0.7931 - val_loss: 0.6007 - val_accuracy: 0.7725\n",
            "Epoch 95/200\n",
            "21/21 [==============================] - 9s 445ms/step - loss: 0.5351 - accuracy: 0.8036 - val_loss: 0.5978 - val_accuracy: 0.7725\n",
            "Epoch 96/200\n",
            "21/21 [==============================] - 9s 438ms/step - loss: 0.5419 - accuracy: 0.8021 - val_loss: 0.5959 - val_accuracy: 0.7725\n",
            "Epoch 97/200\n",
            "21/21 [==============================] - 8s 377ms/step - loss: 0.5487 - accuracy: 0.7916 - val_loss: 0.5915 - val_accuracy: 0.7725\n",
            "Epoch 98/200\n",
            "21/21 [==============================] - 9s 448ms/step - loss: 0.5358 - accuracy: 0.8021 - val_loss: 0.5889 - val_accuracy: 0.7784\n",
            "Epoch 99/200\n",
            "21/21 [==============================] - 9s 446ms/step - loss: 0.5500 - accuracy: 0.7916 - val_loss: 0.5870 - val_accuracy: 0.7784\n",
            "Epoch 100/200\n",
            "21/21 [==============================] - 8s 369ms/step - loss: 0.5368 - accuracy: 0.8021 - val_loss: 0.5839 - val_accuracy: 0.7784\n",
            "Epoch 101/200\n",
            "21/21 [==============================] - 9s 438ms/step - loss: 0.5347 - accuracy: 0.7991 - val_loss: 0.5808 - val_accuracy: 0.7784\n",
            "Epoch 102/200\n",
            "21/21 [==============================] - 9s 427ms/step - loss: 0.5184 - accuracy: 0.8201 - val_loss: 0.5780 - val_accuracy: 0.7784\n",
            "Epoch 103/200\n",
            "21/21 [==============================] - 8s 378ms/step - loss: 0.5423 - accuracy: 0.7931 - val_loss: 0.5761 - val_accuracy: 0.7784\n",
            "Epoch 104/200\n",
            "21/21 [==============================] - 9s 430ms/step - loss: 0.5408 - accuracy: 0.7991 - val_loss: 0.5731 - val_accuracy: 0.7784\n",
            "Epoch 105/200\n",
            "21/21 [==============================] - 9s 451ms/step - loss: 0.5318 - accuracy: 0.8021 - val_loss: 0.5713 - val_accuracy: 0.7784\n",
            "Epoch 106/200\n",
            "21/21 [==============================] - 8s 382ms/step - loss: 0.5089 - accuracy: 0.8186 - val_loss: 0.5679 - val_accuracy: 0.7784\n",
            "Epoch 107/200\n",
            "21/21 [==============================] - 8s 372ms/step - loss: 0.5223 - accuracy: 0.7961 - val_loss: 0.5652 - val_accuracy: 0.7784\n",
            "Epoch 108/200\n",
            "21/21 [==============================] - 8s 383ms/step - loss: 0.5161 - accuracy: 0.7871 - val_loss: 0.5628 - val_accuracy: 0.7784\n",
            "Epoch 109/200\n",
            "21/21 [==============================] - 9s 444ms/step - loss: 0.5332 - accuracy: 0.8081 - val_loss: 0.5614 - val_accuracy: 0.7784\n",
            "Epoch 110/200\n",
            "21/21 [==============================] - 9s 424ms/step - loss: 0.5266 - accuracy: 0.7871 - val_loss: 0.5584 - val_accuracy: 0.7784\n",
            "Epoch 111/200\n",
            "21/21 [==============================] - 8s 374ms/step - loss: 0.5205 - accuracy: 0.7961 - val_loss: 0.5551 - val_accuracy: 0.7844\n",
            "Epoch 112/200\n",
            "21/21 [==============================] - 9s 448ms/step - loss: 0.5089 - accuracy: 0.8111 - val_loss: 0.5540 - val_accuracy: 0.7904\n",
            "Epoch 113/200\n",
            "21/21 [==============================] - 9s 452ms/step - loss: 0.5256 - accuracy: 0.7916 - val_loss: 0.5513 - val_accuracy: 0.7904\n",
            "Epoch 114/200\n",
            "21/21 [==============================] - 8s 372ms/step - loss: 0.5069 - accuracy: 0.8066 - val_loss: 0.5500 - val_accuracy: 0.7904\n",
            "Epoch 115/200\n",
            "21/21 [==============================] - 9s 451ms/step - loss: 0.5081 - accuracy: 0.8081 - val_loss: 0.5476 - val_accuracy: 0.7904\n",
            "Epoch 116/200\n",
            "21/21 [==============================] - 9s 436ms/step - loss: 0.5083 - accuracy: 0.8126 - val_loss: 0.5467 - val_accuracy: 0.8024\n",
            "Epoch 117/200\n",
            "21/21 [==============================] - 8s 380ms/step - loss: 0.5015 - accuracy: 0.8276 - val_loss: 0.5442 - val_accuracy: 0.8024\n",
            "Epoch 118/200\n",
            "21/21 [==============================] - 9s 451ms/step - loss: 0.5123 - accuracy: 0.8141 - val_loss: 0.5416 - val_accuracy: 0.8024\n",
            "Epoch 119/200\n",
            "21/21 [==============================] - 9s 440ms/step - loss: 0.5005 - accuracy: 0.8081 - val_loss: 0.5388 - val_accuracy: 0.8024\n",
            "Epoch 120/200\n",
            "21/21 [==============================] - 8s 392ms/step - loss: 0.4927 - accuracy: 0.8246 - val_loss: 0.5373 - val_accuracy: 0.8024\n",
            "Epoch 121/200\n",
            "21/21 [==============================] - 10s 485ms/step - loss: 0.4951 - accuracy: 0.8096 - val_loss: 0.5343 - val_accuracy: 0.8084\n",
            "Epoch 122/200\n",
            "21/21 [==============================] - 10s 490ms/step - loss: 0.5028 - accuracy: 0.8021 - val_loss: 0.5303 - val_accuracy: 0.8024\n",
            "Epoch 123/200\n",
            "21/21 [==============================] - 9s 406ms/step - loss: 0.4800 - accuracy: 0.8186 - val_loss: 0.5301 - val_accuracy: 0.8084\n",
            "Epoch 124/200\n",
            "21/21 [==============================] - 10s 446ms/step - loss: 0.4745 - accuracy: 0.8246 - val_loss: 0.5292 - val_accuracy: 0.8084\n",
            "Epoch 125/200\n",
            "21/21 [==============================] - 10s 473ms/step - loss: 0.4845 - accuracy: 0.8216 - val_loss: 0.5268 - val_accuracy: 0.8084\n",
            "Epoch 126/200\n",
            "21/21 [==============================] - 8s 379ms/step - loss: 0.4819 - accuracy: 0.8156 - val_loss: 0.5262 - val_accuracy: 0.8084\n",
            "Epoch 127/200\n",
            "21/21 [==============================] - 10s 450ms/step - loss: 0.4897 - accuracy: 0.7976 - val_loss: 0.5228 - val_accuracy: 0.8084\n",
            "Epoch 128/200\n",
            "21/21 [==============================] - 10s 464ms/step - loss: 0.4718 - accuracy: 0.8246 - val_loss: 0.5204 - val_accuracy: 0.8084\n",
            "Epoch 129/200\n",
            "21/21 [==============================] - 9s 424ms/step - loss: 0.4687 - accuracy: 0.8201 - val_loss: 0.5173 - val_accuracy: 0.8144\n",
            "Epoch 130/200\n",
            "21/21 [==============================] - 8s 385ms/step - loss: 0.4691 - accuracy: 0.8246 - val_loss: 0.5169 - val_accuracy: 0.8204\n",
            "Epoch 131/200\n",
            "21/21 [==============================] - 10s 457ms/step - loss: 0.4834 - accuracy: 0.8186 - val_loss: 0.5147 - val_accuracy: 0.8204\n",
            "Epoch 132/200\n",
            "21/21 [==============================] - 10s 463ms/step - loss: 0.4770 - accuracy: 0.8171 - val_loss: 0.5131 - val_accuracy: 0.8204\n",
            "Epoch 133/200\n",
            "21/21 [==============================] - 8s 381ms/step - loss: 0.4548 - accuracy: 0.8336 - val_loss: 0.5119 - val_accuracy: 0.8204\n",
            "Epoch 134/200\n",
            "21/21 [==============================] - 10s 462ms/step - loss: 0.4687 - accuracy: 0.8051 - val_loss: 0.5101 - val_accuracy: 0.8204\n",
            "Epoch 135/200\n",
            "21/21 [==============================] - 9s 445ms/step - loss: 0.4777 - accuracy: 0.8291 - val_loss: 0.5084 - val_accuracy: 0.8204\n",
            "Epoch 136/200\n",
            "21/21 [==============================] - 8s 392ms/step - loss: 0.4640 - accuracy: 0.8231 - val_loss: 0.5064 - val_accuracy: 0.8263\n",
            "Epoch 137/200\n",
            "21/21 [==============================] - 10s 466ms/step - loss: 0.4527 - accuracy: 0.8396 - val_loss: 0.5034 - val_accuracy: 0.8204\n",
            "Epoch 138/200\n",
            "21/21 [==============================] - 9s 447ms/step - loss: 0.4439 - accuracy: 0.8366 - val_loss: 0.5019 - val_accuracy: 0.8204\n",
            "Epoch 139/200\n",
            "21/21 [==============================] - 8s 386ms/step - loss: 0.4506 - accuracy: 0.8231 - val_loss: 0.5004 - val_accuracy: 0.8323\n",
            "Epoch 140/200\n",
            "21/21 [==============================] - 8s 389ms/step - loss: 0.4616 - accuracy: 0.8261 - val_loss: 0.4991 - val_accuracy: 0.8323\n",
            "Epoch 141/200\n",
            "21/21 [==============================] - 10s 467ms/step - loss: 0.4442 - accuracy: 0.8261 - val_loss: 0.4981 - val_accuracy: 0.8323\n",
            "Epoch 142/200\n",
            "21/21 [==============================] - 10s 471ms/step - loss: 0.4576 - accuracy: 0.8141 - val_loss: 0.4966 - val_accuracy: 0.8323\n",
            "Epoch 143/200\n",
            "21/21 [==============================] - 9s 428ms/step - loss: 0.4425 - accuracy: 0.8231 - val_loss: 0.4957 - val_accuracy: 0.8323\n",
            "Epoch 144/200\n",
            "21/21 [==============================] - 9s 433ms/step - loss: 0.4491 - accuracy: 0.8306 - val_loss: 0.4941 - val_accuracy: 0.8323\n",
            "Epoch 145/200\n",
            "21/21 [==============================] - 10s 484ms/step - loss: 0.4506 - accuracy: 0.8306 - val_loss: 0.4933 - val_accuracy: 0.8323\n",
            "Epoch 146/200\n",
            "21/21 [==============================] - 9s 429ms/step - loss: 0.4448 - accuracy: 0.8366 - val_loss: 0.4917 - val_accuracy: 0.8323\n",
            "Epoch 147/200\n",
            "21/21 [==============================] - 8s 382ms/step - loss: 0.4452 - accuracy: 0.8351 - val_loss: 0.4906 - val_accuracy: 0.8323\n",
            "Epoch 148/200\n",
            "21/21 [==============================] - 10s 496ms/step - loss: 0.4528 - accuracy: 0.8216 - val_loss: 0.4880 - val_accuracy: 0.8323\n",
            "Epoch 149/200\n",
            "21/21 [==============================] - 10s 480ms/step - loss: 0.4418 - accuracy: 0.8321 - val_loss: 0.4861 - val_accuracy: 0.8323\n",
            "Epoch 150/200\n",
            "21/21 [==============================] - 8s 397ms/step - loss: 0.4464 - accuracy: 0.8231 - val_loss: 0.4839 - val_accuracy: 0.8323\n",
            "Epoch 151/200\n",
            "21/21 [==============================] - 9s 401ms/step - loss: 0.4427 - accuracy: 0.8276 - val_loss: 0.4826 - val_accuracy: 0.8323\n",
            "Epoch 152/200\n",
            "21/21 [==============================] - 10s 495ms/step - loss: 0.4358 - accuracy: 0.8351 - val_loss: 0.4821 - val_accuracy: 0.8323\n",
            "Epoch 153/200\n",
            "21/21 [==============================] - 11s 502ms/step - loss: 0.4404 - accuracy: 0.8366 - val_loss: 0.4819 - val_accuracy: 0.8383\n",
            "Epoch 154/200\n",
            "21/21 [==============================] - 9s 413ms/step - loss: 0.4316 - accuracy: 0.8366 - val_loss: 0.4804 - val_accuracy: 0.8383\n",
            "Epoch 155/200\n",
            "21/21 [==============================] - 10s 499ms/step - loss: 0.4411 - accuracy: 0.8321 - val_loss: 0.4803 - val_accuracy: 0.8383\n",
            "Epoch 156/200\n",
            "21/21 [==============================] - 10s 493ms/step - loss: 0.4222 - accuracy: 0.8306 - val_loss: 0.4782 - val_accuracy: 0.8383\n",
            "Epoch 157/200\n",
            "21/21 [==============================] - 8s 385ms/step - loss: 0.4376 - accuracy: 0.8366 - val_loss: 0.4761 - val_accuracy: 0.8383\n",
            "Epoch 158/200\n",
            "21/21 [==============================] - 11s 513ms/step - loss: 0.4229 - accuracy: 0.8291 - val_loss: 0.4741 - val_accuracy: 0.8383\n",
            "Epoch 159/200\n",
            "21/21 [==============================] - 9s 415ms/step - loss: 0.4250 - accuracy: 0.8456 - val_loss: 0.4734 - val_accuracy: 0.8383\n",
            "Epoch 160/200\n",
            "21/21 [==============================] - 8s 388ms/step - loss: 0.4321 - accuracy: 0.8441 - val_loss: 0.4730 - val_accuracy: 0.8383\n",
            "Epoch 161/200\n",
            "21/21 [==============================] - 10s 456ms/step - loss: 0.4329 - accuracy: 0.8261 - val_loss: 0.4715 - val_accuracy: 0.8383\n",
            "Epoch 162/200\n",
            "21/21 [==============================] - 10s 454ms/step - loss: 0.4309 - accuracy: 0.8336 - val_loss: 0.4695 - val_accuracy: 0.8383\n",
            "Epoch 163/200\n",
            "21/21 [==============================] - 8s 390ms/step - loss: 0.4379 - accuracy: 0.8306 - val_loss: 0.4674 - val_accuracy: 0.8383\n",
            "Epoch 164/200\n",
            "21/21 [==============================] - 8s 385ms/step - loss: 0.4196 - accuracy: 0.8291 - val_loss: 0.4650 - val_accuracy: 0.8383\n",
            "Epoch 165/200\n",
            "21/21 [==============================] - 10s 471ms/step - loss: 0.4146 - accuracy: 0.8501 - val_loss: 0.4653 - val_accuracy: 0.8383\n",
            "Epoch 166/200\n",
            "21/21 [==============================] - 10s 457ms/step - loss: 0.4197 - accuracy: 0.8576 - val_loss: 0.4615 - val_accuracy: 0.8383\n",
            "Epoch 167/200\n",
            "21/21 [==============================] - 8s 381ms/step - loss: 0.4229 - accuracy: 0.8336 - val_loss: 0.4618 - val_accuracy: 0.8383\n",
            "Epoch 168/200\n",
            "21/21 [==============================] - 8s 382ms/step - loss: 0.4064 - accuracy: 0.8426 - val_loss: 0.4598 - val_accuracy: 0.8383\n",
            "Epoch 169/200\n",
            "21/21 [==============================] - 10s 462ms/step - loss: 0.4067 - accuracy: 0.8471 - val_loss: 0.4594 - val_accuracy: 0.8383\n",
            "Epoch 170/200\n",
            "21/21 [==============================] - 10s 471ms/step - loss: 0.4226 - accuracy: 0.8426 - val_loss: 0.4585 - val_accuracy: 0.8383\n",
            "Epoch 171/200\n",
            "21/21 [==============================] - 8s 389ms/step - loss: 0.3968 - accuracy: 0.8531 - val_loss: 0.4576 - val_accuracy: 0.8383\n",
            "Epoch 172/200\n",
            "21/21 [==============================] - 10s 490ms/step - loss: 0.4133 - accuracy: 0.8441 - val_loss: 0.4561 - val_accuracy: 0.8383\n",
            "Epoch 173/200\n",
            "21/21 [==============================] - 10s 472ms/step - loss: 0.4214 - accuracy: 0.8396 - val_loss: 0.4551 - val_accuracy: 0.8383\n",
            "Epoch 174/200\n",
            "21/21 [==============================] - 8s 382ms/step - loss: 0.4087 - accuracy: 0.8396 - val_loss: 0.4528 - val_accuracy: 0.8383\n",
            "Epoch 175/200\n",
            "21/21 [==============================] - 9s 413ms/step - loss: 0.3995 - accuracy: 0.8501 - val_loss: 0.4529 - val_accuracy: 0.8443\n",
            "Epoch 176/200\n",
            "21/21 [==============================] - 10s 446ms/step - loss: 0.3889 - accuracy: 0.8561 - val_loss: 0.4518 - val_accuracy: 0.8443\n",
            "Epoch 177/200\n",
            "21/21 [==============================] - 13s 650ms/step - loss: 0.3936 - accuracy: 0.8546 - val_loss: 0.4491 - val_accuracy: 0.8443\n",
            "Epoch 178/200\n",
            "21/21 [==============================] - 8s 393ms/step - loss: 0.3916 - accuracy: 0.8651 - val_loss: 0.4501 - val_accuracy: 0.8443\n",
            "Epoch 179/200\n",
            "21/21 [==============================] - 10s 446ms/step - loss: 0.3983 - accuracy: 0.8576 - val_loss: 0.4497 - val_accuracy: 0.8443\n",
            "Epoch 180/200\n",
            "21/21 [==============================] - 9s 453ms/step - loss: 0.3989 - accuracy: 0.8456 - val_loss: 0.4481 - val_accuracy: 0.8443\n",
            "Epoch 181/200\n",
            "21/21 [==============================] - 8s 382ms/step - loss: 0.4033 - accuracy: 0.8576 - val_loss: 0.4462 - val_accuracy: 0.8503\n",
            "Epoch 182/200\n",
            "21/21 [==============================] - 9s 442ms/step - loss: 0.3953 - accuracy: 0.8516 - val_loss: 0.4467 - val_accuracy: 0.8443\n",
            "Epoch 183/200\n",
            "21/21 [==============================] - 10s 461ms/step - loss: 0.4028 - accuracy: 0.8471 - val_loss: 0.4445 - val_accuracy: 0.8503\n",
            "Epoch 184/200\n",
            "21/21 [==============================] - 8s 391ms/step - loss: 0.4023 - accuracy: 0.8471 - val_loss: 0.4440 - val_accuracy: 0.8503\n",
            "Epoch 185/200\n",
            "21/21 [==============================] - 8s 380ms/step - loss: 0.4047 - accuracy: 0.8396 - val_loss: 0.4420 - val_accuracy: 0.8503\n",
            "Epoch 186/200\n",
            "21/21 [==============================] - 9s 444ms/step - loss: 0.3928 - accuracy: 0.8531 - val_loss: 0.4433 - val_accuracy: 0.8503\n",
            "Epoch 187/200\n",
            "21/21 [==============================] - 9s 435ms/step - loss: 0.3862 - accuracy: 0.8681 - val_loss: 0.4388 - val_accuracy: 0.8503\n",
            "Epoch 188/200\n",
            "21/21 [==============================] - 10s 462ms/step - loss: 0.3871 - accuracy: 0.8666 - val_loss: 0.4387 - val_accuracy: 0.8503\n",
            "Epoch 189/200\n",
            "21/21 [==============================] - 8s 393ms/step - loss: 0.3972 - accuracy: 0.8546 - val_loss: 0.4401 - val_accuracy: 0.8563\n",
            "Epoch 190/200\n",
            "21/21 [==============================] - 9s 451ms/step - loss: 0.3862 - accuracy: 0.8606 - val_loss: 0.4375 - val_accuracy: 0.8503\n",
            "Epoch 191/200\n",
            "21/21 [==============================] - 8s 394ms/step - loss: 0.3932 - accuracy: 0.8456 - val_loss: 0.4350 - val_accuracy: 0.8503\n",
            "Epoch 192/200\n",
            "21/21 [==============================] - 9s 399ms/step - loss: 0.3825 - accuracy: 0.8606 - val_loss: 0.4361 - val_accuracy: 0.8563\n",
            "Epoch 193/200\n",
            "21/21 [==============================] - 9s 450ms/step - loss: 0.3792 - accuracy: 0.8726 - val_loss: 0.4352 - val_accuracy: 0.8563\n",
            "Epoch 194/200\n",
            "21/21 [==============================] - 8s 382ms/step - loss: 0.3871 - accuracy: 0.8681 - val_loss: 0.4339 - val_accuracy: 0.8623\n",
            "Epoch 195/200\n",
            "21/21 [==============================] - 8s 375ms/step - loss: 0.3908 - accuracy: 0.8396 - val_loss: 0.4332 - val_accuracy: 0.8563\n",
            "Epoch 196/200\n",
            "21/21 [==============================] - 10s 497ms/step - loss: 0.3834 - accuracy: 0.8576 - val_loss: 0.4311 - val_accuracy: 0.8563\n",
            "Epoch 197/200\n",
            "21/21 [==============================] - 9s 409ms/step - loss: 0.3897 - accuracy: 0.8501 - val_loss: 0.4299 - val_accuracy: 0.8563\n",
            "Epoch 198/200\n",
            "21/21 [==============================] - 8s 376ms/step - loss: 0.3891 - accuracy: 0.8576 - val_loss: 0.4298 - val_accuracy: 0.8563\n",
            "Epoch 199/200\n",
            "21/21 [==============================] - 9s 445ms/step - loss: 0.3826 - accuracy: 0.8651 - val_loss: 0.4300 - val_accuracy: 0.8563\n",
            "Epoch 200/200\n",
            "21/21 [==============================] - 9s 426ms/step - loss: 0.3758 - accuracy: 0.8636 - val_loss: 0.4292 - val_accuracy: 0.8563\n"
          ]
        }
      ]
    },
    {
      "cell_type": "code",
      "source": [
        "from sklearn.metrics import confusion_matrix, classification_report\n",
        "import numpy as np\n",
        "import matplotlib.pyplot as plt\n",
        "import seaborn as sns\n",
        "\n",
        "# Menggunakan model_resnet50ver2 untuk membuat prediksi pada data uji\n",
        "Y_pred = model_resnet50ver2.predict(X_test)\n",
        "# Mengambil indeks kelas dengan probabilitas tertinggi sebagai prediksi\n",
        "Y_pred_classes = np.argmax(Y_pred, axis=1)\n",
        "# Mengambil indeks kelas dengan probabilitas tertinggi sebagai label sebenarnya\n",
        "Y_true = np.argmax(Y_test, axis=1)\n",
        "\n",
        "# Membuat confusion matrix\n",
        "conf_matrix = confusion_matrix(Y_true, Y_pred_classes)\n",
        "\n",
        "# Menampilkan confusion matrix dalam bentuk visualisasi\n",
        "plt.figure(figsize=(8, 6))\n",
        "sns.heatmap(conf_matrix, annot=True, fmt=\"d\", cmap=\"Blues\", xticklabels=['Common_Rust', 'Healthy', 'Gray_Leaf_Spot', 'Blight'], yticklabels=['Common_Rust', 'Healthy', 'Gray_Leaf_Spot', 'Blight'])\n",
        "plt.xlabel('Predicted labels')\n",
        "plt.ylabel('True labels')\n",
        "plt.title('Confusion Matrix')\n",
        "plt.show()\n",
        "\n",
        "# Membuat classification report\n",
        "class_report = classification_report(Y_true, Y_pred_classes)\n",
        "\n",
        "# Menampilkan classification report\n",
        "print(\"\\nClassification Report:\")\n",
        "print(class_report)"
      ],
      "metadata": {
        "colab": {
          "base_uri": "https://localhost:8080/",
          "height": 844
        },
        "id": "YWvBAbaMInI-",
        "outputId": "5d894a77-fdd6-4a93-fab1-7070c35215f6"
      },
      "execution_count": 28,
      "outputs": [
        {
          "output_type": "stream",
          "name": "stderr",
          "text": [
            "WARNING:tensorflow:5 out of the last 13 calls to <function Model.make_predict_function.<locals>.predict_function at 0x7ace4fd63490> triggered tf.function retracing. Tracing is expensive and the excessive number of tracings could be due to (1) creating @tf.function repeatedly in a loop, (2) passing tensors with different shapes, (3) passing Python objects instead of tensors. For (1), please define your @tf.function outside of the loop. For (2), @tf.function has reduce_retracing=True option that can avoid unnecessary retracing. For (3), please refer to https://www.tensorflow.org/guide/function#controlling_retracing and https://www.tensorflow.org/api_docs/python/tf/function for  more details.\n"
          ]
        },
        {
          "output_type": "stream",
          "name": "stdout",
          "text": [
            "6/6 [==============================] - 1s 100ms/step\n"
          ]
        },
        {
          "output_type": "display_data",
          "data": {
            "text/plain": [
              "<Figure size 800x600 with 2 Axes>"
            ],
            "image/png": "[encoded data removed]"
          },
          "metadata": {}
        },
        {
          "output_type": "stream",
          "name": "stdout",
          "text": [
            "\n",
            "Classification Report:\n",
            "              precision    recall  f1-score   support\n",
            "\n",
            "           0       0.69      0.98      0.81        44\n",
            "           1       0.96      0.92      0.94        60\n",
            "           2       0.78      0.28      0.41        25\n",
            "           3       0.97      1.00      0.99        38\n",
            "\n",
            "    accuracy                           0.86       167\n",
            "   macro avg       0.85      0.79      0.79       167\n",
            "weighted avg       0.87      0.86      0.84       167\n",
            "\n"
          ]
        }
      ]
    }
  ]
}