{
  "nbformat": 4,
  "nbformat_minor": 0,
  "metadata": {
    "colab": {
      "provenance": [],
      "gpuType": "T4",
      "authorship_tag": "ABX9TyPA9fwo6LsXobmjWhKgFVEp",
      "include_colab_link": true
    },
    "kernelspec": {
      "name": "python3",
      "display_name": "Python 3"
    },
    "language_info": {
      "name": "python"
    },
    "accelerator": "GPU"
  },
  "cells": [
    {
      "cell_type": "markdown",
      "metadata": {
        "id": "view-in-github",
        "colab_type": "text"
      },
      "source": [
        "<a href=\"https://colab.research.google.com/github/Smjfirna/Arsitektur-Compration/blob/main/Eksperimen%20Epoch/100.ipynb\" target=\"_parent\"><img src=\"https://colab.research.google.com/assets/colab-badge.svg\" alt=\"Open In Colab\"/></a>"
      ]
    },
    {
      "cell_type": "code",
      "source": [
        "import os\n",
        "import cv2\n",
        "import numpy as np\n",
        "from tqdm import tqdm\n",
        "from sklearn.model_selection import train_test_split\n",
        "from sklearn.preprocessing import LabelEncoder\n",
        "from keras.utils import to_categorical\n",
        "\n",
        "import tensorflow as tf\n",
        "from tensorflow.keras.preprocessing.image import ImageDataGenerator\n",
        "from tensorflow.keras.models import Sequential\n",
        "from tensorflow.keras import layers, Model, regularizers\n",
        "from tensorflow.keras.callbacks import EarlyStopping\n",
        "from tensorflow.keras.layers import Conv2D, MaxPooling2D, Flatten, Dense, GlobalAveragePooling2D, Dropout\n",
        "import os\n",
        "from tensorflow.keras.optimizers import Adam\n",
        "from tensorflow.keras.optimizers import RMSprop\n",
        "\n",
        "from keras.applications import ResNet50"
      ],
      "metadata": {
        "id": "LaloGmhuhwP-"
      },
      "execution_count": 1,
      "outputs": []
    },
    {
      "cell_type": "code",
      "execution_count": 2,
      "metadata": {
        "colab": {
          "base_uri": "https://localhost:8080/"
        },
        "id": "d_i5Zy9kdLGU",
        "outputId": "e6d87198-d7b8-4fb0-9af1-1b96a2f18e50"
      },
      "outputs": [
        {
          "output_type": "stream",
          "name": "stdout",
          "text": [
            "Mounted at /content/drive\n"
          ]
        }
      ],
      "source": [
        "from google.colab import drive\n",
        "drive.mount('/content/drive')"
      ]
    },
    {
      "cell_type": "code",
      "source": [
        "dataset_dir = \"/content/drive/MyDrive/Skripsi Syafirna/Program/Data Sample 10\"\n",
        "\n",
        "print(os.listdir(dataset_dir))"
      ],
      "metadata": {
        "colab": {
          "base_uri": "https://localhost:8080/"
        },
        "id": "c60kX1_DjBPd",
        "outputId": "d0c1d0c5-cbc3-4d26-8553-8b01b2095ac1"
      },
      "execution_count": 3,
      "outputs": [
        {
          "output_type": "stream",
          "name": "stdout",
          "text": [
            "['Blight', 'Healthy', 'Common_Rust', 'Gray_Leaf_Spot']\n"
          ]
        }
      ]
    },
    {
      "cell_type": "code",
      "source": [
        "size_resnet50 = 224"
      ],
      "metadata": {
        "id": "Mjg6pdK1DO1a"
      },
      "execution_count": 4,
      "outputs": []
    },
    {
      "cell_type": "code",
      "source": [
        "def make_data(label, DIR, img_list, label_list):\n",
        "    for img in tqdm(os.listdir(DIR)):\n",
        "        path = os.path.join(DIR, img)\n",
        "        img = cv2.imread(path, cv2.IMREAD_COLOR)\n",
        "        img = cv2.resize(img, (size_resnet50, size_resnet50))\n",
        "        img_list.append(np.array(img))\n",
        "        label_list.append(str(label))"
      ],
      "metadata": {
        "id": "XgNY4FGvD-BF"
      },
      "execution_count": 5,
      "outputs": []
    },
    {
      "cell_type": "code",
      "source": [
        "X = []\n",
        "Z = []"
      ],
      "metadata": {
        "id": "HPv9tP13DXm6"
      },
      "execution_count": 6,
      "outputs": []
    },
    {
      "cell_type": "code",
      "source": [
        "for i, class_name in enumerate(['Common_Rust', 'Healthy', 'Gray_Leaf_Spot', 'Blight']):\n",
        "    class_dir = os.path.join(dataset_dir, class_name)\n",
        "    make_data(class_name, class_dir, X, Z)"
      ],
      "metadata": {
        "colab": {
          "base_uri": "https://localhost:8080/"
        },
        "id": "L7CgU46UDc6d",
        "outputId": "1347160c-65f0-4a0a-fc78-cd2cbc6d2dee"
      },
      "execution_count": 7,
      "outputs": [
        {
          "output_type": "stream",
          "name": "stderr",
          "text": [
            "100%|██████████| 130/130 [00:17<00:00,  7.53it/s]\n",
            "100%|██████████| 116/116 [00:03<00:00, 34.20it/s]\n",
            "100%|██████████| 57/57 [00:34<00:00,  1.65it/s]\n",
            "100%|██████████| 114/114 [00:15<00:00,  7.45it/s]\n"
          ]
        }
      ]
    },
    {
      "cell_type": "code",
      "source": [
        "import matplotlib.pyplot as plt\n",
        "\n",
        "# Menghitung jumlah data untuk setiap kelas\n",
        "class_counts = {class_name: Z.count(class_name) for class_name in set(Z)}\n",
        "\n",
        "# Menampilkan visualisasi jumlah data\n",
        "plt.figure(figsize=(4, 4))\n",
        "plt.bar(class_counts.keys(), class_counts.values())\n",
        "plt.xlabel('Class')\n",
        "plt.ylabel('Count')\n",
        "plt.title('Number of Data Samples for Each Class')\n",
        "plt.show()"
      ],
      "metadata": {
        "colab": {
          "base_uri": "https://localhost:8080/",
          "height": 410
        },
        "id": "jWbdII-8E9kW",
        "outputId": "083a2cf0-247c-4d09-f622-635051b72403"
      },
      "execution_count": 8,
      "outputs": [
        {
          "output_type": "display_data",
          "data": {
            "text/plain": [
              "<Figure size 400x400 with 1 Axes>"
            ],
            "image/png": "[encoded data removed]"
          },
          "metadata": {}
        }
      ]
    },
    {
      "cell_type": "code",
      "source": [
        "le = LabelEncoder()\n",
        "Y = le.fit_transform(Z)\n",
        "Y = to_categorical(Y, num_classes=len(le.classes_))\n",
        "\n",
        "# Konversi ke array numpy\n",
        "X = np.array(X)\n",
        "\n",
        "# Memisahkan data menjadi data latih dan data uji\n",
        "X_train, X_test, Y_train, Y_test = train_test_split(X, Y, test_size=0.2, random_state=42)\n",
        "\n",
        "print(\"Jumlah Data Train adalah :\", len(X_train))\n",
        "print(\"Jumlah Data Test adalah :\", len(X_test))"
      ],
      "metadata": {
        "colab": {
          "base_uri": "https://localhost:8080/"
        },
        "id": "LFG1SJ3OFPWV",
        "outputId": "d7a81432-d81c-4c32-e7a9-fe86b20b8f14"
      },
      "execution_count": 9,
      "outputs": [
        {
          "output_type": "stream",
          "name": "stdout",
          "text": [
            "Jumlah Data Train adalah : 333\n",
            "Jumlah Data Test adalah : 84\n"
          ]
        }
      ]
    },
    {
      "cell_type": "code",
      "source": [
        "datagen = ImageDataGenerator(\n",
        "    rotation_range=20,  # Rotasi gambar hingga 40 derajat\n",
        "    zoom_range=0.2,  # Zoom-in/Zoom-out gambar\n",
        "    horizontal_flip=True,  # Flipping horizontal gambar\n",
        ")\n",
        "\n",
        "datagen.fit(X_train)"
      ],
      "metadata": {
        "id": "l_s_dW_k2OKD"
      },
      "execution_count": 10,
      "outputs": []
    },
    {
      "cell_type": "code",
      "source": [
        "resnet50 = ResNet50(include_top=False, weights='imagenet', input_shape=(size_resnet50, size_resnet50, 3))\n",
        "\n",
        "# Membuat model Sequential\n",
        "model_resnet50ver2 = Sequential()\n",
        "model_resnet50ver2.add(resnet50)\n",
        "model_resnet50ver2.add(GlobalAveragePooling2D())\n",
        "model_resnet50ver2.add(Dense(4, activation='softmax'))\n",
        "\n",
        "# Membekukan layer-layer ResNet50 yang telah dilatih\n",
        "for layer in resnet50.layers:\n",
        "    layer.trainable = False\n",
        "\n",
        "# Mengompilasi model dengan optimizer Adam dan loss function categorical crossentropy\n",
        "model_resnet50ver2.compile(optimizer=Adam(learning_rate=1e-5), loss='categorical_crossentropy', metrics=['accuracy'])\n",
        "\n",
        "# Menampilkan summary dari model\n",
        "model_resnet50ver2.summary()\n",
        "\n",
        "# Melatih model dengan data latih dan validasi\n",
        "history_resnet50ver2 = model_resnet50ver2.fit(datagen.flow(X_train, Y_train), epochs=100, validation_data=(X_test, Y_test))"
      ],
      "metadata": {
        "colab": {
          "base_uri": "https://localhost:8080/"
        },
        "id": "L4NJLS5-FT93",
        "outputId": "1d93016a-c78b-400a-aee9-cb9bff916f2a"
      },
      "execution_count": 16,
      "outputs": [
        {
          "output_type": "stream",
          "name": "stdout",
          "text": [
            "Model: \"sequential_3\"\n",
            "_________________________________________________________________\n",
            " Layer (type)                Output Shape              Param #   \n",
            "=================================================================\n",
            " resnet50 (Functional)       (None, 7, 7, 2048)        23587712  \n",
            "                                                                 \n",
            " global_average_pooling2d_3  (None, 2048)              0         \n",
            "  (GlobalAveragePooling2D)                                       \n",
            "                                                                 \n",
            " dense_3 (Dense)             (None, 4)                 8196      \n",
            "                                                                 \n",
            "=================================================================\n",
            "Total params: 23595908 (90.01 MB)\n",
            "Trainable params: 8196 (32.02 KB)\n",
            "Non-trainable params: 23587712 (89.98 MB)\n",
            "_________________________________________________________________\n",
            "Epoch 1/100\n",
            "11/11 [==============================] - 10s 564ms/step - loss: 1.4905 - accuracy: 0.3634 - val_loss: 1.4114 - val_accuracy: 0.4405\n",
            "Epoch 2/100\n",
            "11/11 [==============================] - 4s 357ms/step - loss: 1.3569 - accuracy: 0.3874 - val_loss: 1.3818 - val_accuracy: 0.4524\n",
            "Epoch 3/100\n",
            "11/11 [==============================] - 5s 505ms/step - loss: 1.4163 - accuracy: 0.3814 - val_loss: 1.3559 - val_accuracy: 0.4524\n",
            "Epoch 4/100\n",
            "11/11 [==============================] - 4s 358ms/step - loss: 1.3998 - accuracy: 0.3844 - val_loss: 1.3308 - val_accuracy: 0.4643\n",
            "Epoch 5/100\n",
            "11/11 [==============================] - 4s 363ms/step - loss: 1.3580 - accuracy: 0.3724 - val_loss: 1.3088 - val_accuracy: 0.4762\n",
            "Epoch 6/100\n",
            "11/11 [==============================] - 5s 412ms/step - loss: 1.3081 - accuracy: 0.4234 - val_loss: 1.2883 - val_accuracy: 0.4881\n",
            "Epoch 7/100\n",
            "11/11 [==============================] - 4s 353ms/step - loss: 1.2875 - accuracy: 0.4354 - val_loss: 1.2695 - val_accuracy: 0.4881\n",
            "Epoch 8/100\n",
            "11/11 [==============================] - 5s 482ms/step - loss: 1.2951 - accuracy: 0.4264 - val_loss: 1.2536 - val_accuracy: 0.5000\n",
            "Epoch 9/100\n",
            "11/11 [==============================] - 4s 354ms/step - loss: 1.3038 - accuracy: 0.4354 - val_loss: 1.2382 - val_accuracy: 0.5357\n",
            "Epoch 10/100\n",
            "11/11 [==============================] - 4s 354ms/step - loss: 1.2564 - accuracy: 0.4505 - val_loss: 1.2227 - val_accuracy: 0.5357\n",
            "Epoch 11/100\n",
            "11/11 [==============================] - 5s 470ms/step - loss: 1.2088 - accuracy: 0.4895 - val_loss: 1.2095 - val_accuracy: 0.5357\n",
            "Epoch 12/100\n",
            "11/11 [==============================] - 4s 356ms/step - loss: 1.1834 - accuracy: 0.4955 - val_loss: 1.1957 - val_accuracy: 0.5357\n",
            "Epoch 13/100\n",
            "11/11 [==============================] - 4s 361ms/step - loss: 1.2202 - accuracy: 0.4895 - val_loss: 1.1828 - val_accuracy: 0.5476\n",
            "Epoch 14/100\n",
            "11/11 [==============================] - 5s 453ms/step - loss: 1.1568 - accuracy: 0.4835 - val_loss: 1.1709 - val_accuracy: 0.5476\n",
            "Epoch 15/100\n",
            "11/11 [==============================] - 4s 347ms/step - loss: 1.1735 - accuracy: 0.5135 - val_loss: 1.1602 - val_accuracy: 0.5476\n",
            "Epoch 16/100\n",
            "11/11 [==============================] - 4s 354ms/step - loss: 1.1054 - accuracy: 0.5495 - val_loss: 1.1495 - val_accuracy: 0.5595\n",
            "Epoch 17/100\n",
            "11/11 [==============================] - 5s 494ms/step - loss: 1.1365 - accuracy: 0.5556 - val_loss: 1.1398 - val_accuracy: 0.5595\n",
            "Epoch 18/100\n",
            "11/11 [==============================] - 4s 355ms/step - loss: 1.1440 - accuracy: 0.4955 - val_loss: 1.1282 - val_accuracy: 0.5595\n",
            "Epoch 19/100\n",
            "11/11 [==============================] - 4s 364ms/step - loss: 1.0671 - accuracy: 0.5556 - val_loss: 1.1183 - val_accuracy: 0.5476\n",
            "Epoch 20/100\n",
            "11/11 [==============================] - 5s 493ms/step - loss: 1.1124 - accuracy: 0.5435 - val_loss: 1.1080 - val_accuracy: 0.5595\n",
            "Epoch 21/100\n",
            "11/11 [==============================] - 4s 353ms/step - loss: 1.1106 - accuracy: 0.5225 - val_loss: 1.0970 - val_accuracy: 0.5714\n",
            "Epoch 22/100\n",
            "11/11 [==============================] - 5s 502ms/step - loss: 1.0556 - accuracy: 0.5586 - val_loss: 1.0882 - val_accuracy: 0.5833\n",
            "Epoch 23/100\n",
            "11/11 [==============================] - 4s 364ms/step - loss: 1.0822 - accuracy: 0.5526 - val_loss: 1.0810 - val_accuracy: 0.5952\n",
            "Epoch 24/100\n",
            "11/11 [==============================] - 4s 353ms/step - loss: 1.0758 - accuracy: 0.5736 - val_loss: 1.0706 - val_accuracy: 0.5952\n",
            "Epoch 25/100\n",
            "11/11 [==============================] - 5s 458ms/step - loss: 1.0401 - accuracy: 0.5706 - val_loss: 1.0627 - val_accuracy: 0.5952\n",
            "Epoch 26/100\n",
            "11/11 [==============================] - 4s 357ms/step - loss: 1.0425 - accuracy: 0.6036 - val_loss: 1.0554 - val_accuracy: 0.6071\n",
            "Epoch 27/100\n",
            "11/11 [==============================] - 4s 350ms/step - loss: 1.0173 - accuracy: 0.5796 - val_loss: 1.0466 - val_accuracy: 0.6071\n",
            "Epoch 28/100\n",
            "11/11 [==============================] - 5s 486ms/step - loss: 1.0293 - accuracy: 0.5796 - val_loss: 1.0401 - val_accuracy: 0.6071\n",
            "Epoch 29/100\n",
            "11/11 [==============================] - 4s 355ms/step - loss: 1.0018 - accuracy: 0.6126 - val_loss: 1.0327 - val_accuracy: 0.6190\n",
            "Epoch 30/100\n",
            "11/11 [==============================] - 4s 349ms/step - loss: 1.0075 - accuracy: 0.6126 - val_loss: 1.0249 - val_accuracy: 0.6190\n",
            "Epoch 31/100\n",
            "11/11 [==============================] - 5s 497ms/step - loss: 0.9944 - accuracy: 0.6036 - val_loss: 1.0173 - val_accuracy: 0.6190\n",
            "Epoch 32/100\n",
            "11/11 [==============================] - 4s 355ms/step - loss: 0.9777 - accuracy: 0.6066 - val_loss: 1.0094 - val_accuracy: 0.6310\n",
            "Epoch 33/100\n",
            "11/11 [==============================] - 4s 359ms/step - loss: 0.9861 - accuracy: 0.5976 - val_loss: 1.0035 - val_accuracy: 0.6310\n",
            "Epoch 34/100\n",
            "11/11 [==============================] - 5s 509ms/step - loss: 0.9534 - accuracy: 0.6246 - val_loss: 0.9952 - val_accuracy: 0.6310\n",
            "Epoch 35/100\n",
            "11/11 [==============================] - 4s 358ms/step - loss: 0.9545 - accuracy: 0.6306 - val_loss: 0.9887 - val_accuracy: 0.6310\n",
            "Epoch 36/100\n",
            "11/11 [==============================] - 4s 351ms/step - loss: 0.9263 - accuracy: 0.6366 - val_loss: 0.9824 - val_accuracy: 0.6310\n",
            "Epoch 37/100\n",
            "11/11 [==============================] - 4s 347ms/step - loss: 0.9202 - accuracy: 0.6486 - val_loss: 0.9753 - val_accuracy: 0.6310\n",
            "Epoch 38/100\n",
            "11/11 [==============================] - 5s 434ms/step - loss: 0.9534 - accuracy: 0.6276 - val_loss: 0.9686 - val_accuracy: 0.6310\n",
            "Epoch 39/100\n",
            "11/11 [==============================] - 5s 383ms/step - loss: 0.9505 - accuracy: 0.6246 - val_loss: 0.9618 - val_accuracy: 0.6310\n",
            "Epoch 40/100\n",
            "11/11 [==============================] - 4s 379ms/step - loss: 0.9163 - accuracy: 0.6366 - val_loss: 0.9561 - val_accuracy: 0.6310\n",
            "Epoch 41/100\n",
            "11/11 [==============================] - 5s 414ms/step - loss: 0.9095 - accuracy: 0.6306 - val_loss: 0.9502 - val_accuracy: 0.6310\n",
            "Epoch 42/100\n",
            "11/11 [==============================] - 5s 392ms/step - loss: 0.9019 - accuracy: 0.6697 - val_loss: 0.9446 - val_accuracy: 0.6310\n",
            "Epoch 43/100\n",
            "11/11 [==============================] - 4s 360ms/step - loss: 0.9154 - accuracy: 0.6517 - val_loss: 0.9377 - val_accuracy: 0.6310\n",
            "Epoch 44/100\n",
            "11/11 [==============================] - 4s 404ms/step - loss: 0.9176 - accuracy: 0.6306 - val_loss: 0.9301 - val_accuracy: 0.6310\n",
            "Epoch 45/100\n",
            "11/11 [==============================] - 4s 350ms/step - loss: 0.9131 - accuracy: 0.6306 - val_loss: 0.9238 - val_accuracy: 0.6310\n",
            "Epoch 46/100\n",
            "11/11 [==============================] - 4s 354ms/step - loss: 0.8905 - accuracy: 0.6547 - val_loss: 0.9192 - val_accuracy: 0.6310\n",
            "Epoch 47/100\n",
            "11/11 [==============================] - 5s 437ms/step - loss: 0.8929 - accuracy: 0.6637 - val_loss: 0.9140 - val_accuracy: 0.6310\n",
            "Epoch 48/100\n",
            "11/11 [==============================] - 4s 356ms/step - loss: 0.8661 - accuracy: 0.6697 - val_loss: 0.9101 - val_accuracy: 0.6310\n",
            "Epoch 49/100\n",
            "11/11 [==============================] - 4s 376ms/step - loss: 0.8912 - accuracy: 0.6727 - val_loss: 0.9038 - val_accuracy: 0.6310\n",
            "Epoch 50/100\n",
            "11/11 [==============================] - 5s 506ms/step - loss: 0.8841 - accuracy: 0.6426 - val_loss: 0.8984 - val_accuracy: 0.6310\n",
            "Epoch 51/100\n",
            "11/11 [==============================] - 4s 359ms/step - loss: 0.8661 - accuracy: 0.6577 - val_loss: 0.8935 - val_accuracy: 0.6310\n",
            "Epoch 52/100\n",
            "11/11 [==============================] - 4s 366ms/step - loss: 0.8396 - accuracy: 0.6967 - val_loss: 0.8887 - val_accuracy: 0.6310\n",
            "Epoch 53/100\n",
            "11/11 [==============================] - 6s 486ms/step - loss: 0.8266 - accuracy: 0.6937 - val_loss: 0.8829 - val_accuracy: 0.6310\n",
            "Epoch 54/100\n",
            "11/11 [==============================] - 4s 358ms/step - loss: 0.8446 - accuracy: 0.6607 - val_loss: 0.8780 - val_accuracy: 0.6310\n",
            "Epoch 55/100\n",
            "11/11 [==============================] - 4s 360ms/step - loss: 0.8302 - accuracy: 0.6907 - val_loss: 0.8729 - val_accuracy: 0.6190\n",
            "Epoch 56/100\n",
            "11/11 [==============================] - 5s 432ms/step - loss: 0.8237 - accuracy: 0.7027 - val_loss: 0.8685 - val_accuracy: 0.6190\n",
            "Epoch 57/100\n",
            "11/11 [==============================] - 4s 359ms/step - loss: 0.8293 - accuracy: 0.6757 - val_loss: 0.8650 - val_accuracy: 0.6190\n",
            "Epoch 58/100\n",
            "11/11 [==============================] - 5s 494ms/step - loss: 0.8349 - accuracy: 0.6697 - val_loss: 0.8601 - val_accuracy: 0.6190\n",
            "Epoch 59/100\n",
            "11/11 [==============================] - 4s 362ms/step - loss: 0.8246 - accuracy: 0.6757 - val_loss: 0.8558 - val_accuracy: 0.6190\n",
            "Epoch 60/100\n",
            "11/11 [==============================] - 4s 349ms/step - loss: 0.8108 - accuracy: 0.6907 - val_loss: 0.8518 - val_accuracy: 0.6190\n",
            "Epoch 61/100\n",
            "11/11 [==============================] - 5s 507ms/step - loss: 0.7780 - accuracy: 0.6967 - val_loss: 0.8457 - val_accuracy: 0.6190\n",
            "Epoch 62/100\n",
            "11/11 [==============================] - 4s 355ms/step - loss: 0.7883 - accuracy: 0.6937 - val_loss: 0.8416 - val_accuracy: 0.6190\n",
            "Epoch 63/100\n",
            "11/11 [==============================] - 4s 358ms/step - loss: 0.7885 - accuracy: 0.7087 - val_loss: 0.8376 - val_accuracy: 0.6190\n",
            "Epoch 64/100\n",
            "11/11 [==============================] - 4s 400ms/step - loss: 0.7737 - accuracy: 0.6907 - val_loss: 0.8332 - val_accuracy: 0.6190\n",
            "Epoch 65/100\n",
            "11/11 [==============================] - 4s 357ms/step - loss: 0.8057 - accuracy: 0.6877 - val_loss: 0.8293 - val_accuracy: 0.6190\n",
            "Epoch 66/100\n",
            "11/11 [==============================] - 5s 497ms/step - loss: 0.7639 - accuracy: 0.7147 - val_loss: 0.8258 - val_accuracy: 0.6190\n",
            "Epoch 67/100\n",
            "11/11 [==============================] - 4s 358ms/step - loss: 0.7758 - accuracy: 0.6877 - val_loss: 0.8230 - val_accuracy: 0.6190\n",
            "Epoch 68/100\n",
            "11/11 [==============================] - 4s 356ms/step - loss: 0.7943 - accuracy: 0.6907 - val_loss: 0.8189 - val_accuracy: 0.6190\n",
            "Epoch 69/100\n",
            "11/11 [==============================] - 5s 505ms/step - loss: 0.7520 - accuracy: 0.7117 - val_loss: 0.8154 - val_accuracy: 0.6190\n",
            "Epoch 70/100\n",
            "11/11 [==============================] - 4s 388ms/step - loss: 0.8017 - accuracy: 0.6997 - val_loss: 0.8104 - val_accuracy: 0.6310\n",
            "Epoch 71/100\n",
            "11/11 [==============================] - 5s 508ms/step - loss: 0.7919 - accuracy: 0.6817 - val_loss: 0.8057 - val_accuracy: 0.6310\n",
            "Epoch 72/100\n",
            "11/11 [==============================] - 4s 359ms/step - loss: 0.7388 - accuracy: 0.7177 - val_loss: 0.8016 - val_accuracy: 0.6310\n",
            "Epoch 73/100\n",
            "11/11 [==============================] - 4s 350ms/step - loss: 0.7734 - accuracy: 0.7087 - val_loss: 0.7986 - val_accuracy: 0.6310\n",
            "Epoch 74/100\n",
            "11/11 [==============================] - 5s 420ms/step - loss: 0.7416 - accuracy: 0.7087 - val_loss: 0.7954 - val_accuracy: 0.6310\n",
            "Epoch 75/100\n",
            "11/11 [==============================] - 4s 353ms/step - loss: 0.7512 - accuracy: 0.7267 - val_loss: 0.7933 - val_accuracy: 0.6310\n",
            "Epoch 76/100\n",
            "11/11 [==============================] - 4s 382ms/step - loss: 0.7432 - accuracy: 0.7057 - val_loss: 0.7898 - val_accuracy: 0.6310\n",
            "Epoch 77/100\n",
            "11/11 [==============================] - 5s 419ms/step - loss: 0.7071 - accuracy: 0.7357 - val_loss: 0.7859 - val_accuracy: 0.6310\n",
            "Epoch 78/100\n",
            "11/11 [==============================] - 4s 359ms/step - loss: 0.7244 - accuracy: 0.7147 - val_loss: 0.7828 - val_accuracy: 0.6310\n",
            "Epoch 79/100\n",
            "11/11 [==============================] - 4s 391ms/step - loss: 0.7335 - accuracy: 0.7177 - val_loss: 0.7789 - val_accuracy: 0.6310\n",
            "Epoch 80/100\n",
            "11/11 [==============================] - 4s 368ms/step - loss: 0.7146 - accuracy: 0.7327 - val_loss: 0.7752 - val_accuracy: 0.6310\n",
            "Epoch 81/100\n",
            "11/11 [==============================] - 4s 370ms/step - loss: 0.7215 - accuracy: 0.7357 - val_loss: 0.7735 - val_accuracy: 0.6310\n",
            "Epoch 82/100\n",
            "11/11 [==============================] - 5s 507ms/step - loss: 0.7272 - accuracy: 0.7057 - val_loss: 0.7708 - val_accuracy: 0.6310\n",
            "Epoch 83/100\n",
            "11/11 [==============================] - 4s 345ms/step - loss: 0.6766 - accuracy: 0.7447 - val_loss: 0.7672 - val_accuracy: 0.6429\n",
            "Epoch 84/100\n",
            "11/11 [==============================] - 4s 367ms/step - loss: 0.7219 - accuracy: 0.7237 - val_loss: 0.7637 - val_accuracy: 0.6429\n",
            "Epoch 85/100\n",
            "11/11 [==============================] - 5s 500ms/step - loss: 0.7121 - accuracy: 0.6907 - val_loss: 0.7627 - val_accuracy: 0.6429\n",
            "Epoch 86/100\n",
            "11/11 [==============================] - 4s 363ms/step - loss: 0.7045 - accuracy: 0.7177 - val_loss: 0.7586 - val_accuracy: 0.6429\n",
            "Epoch 87/100\n",
            "11/11 [==============================] - 6s 544ms/step - loss: 0.7045 - accuracy: 0.7177 - val_loss: 0.7551 - val_accuracy: 0.6429\n",
            "Epoch 88/100\n",
            "11/11 [==============================] - 4s 368ms/step - loss: 0.7113 - accuracy: 0.7237 - val_loss: 0.7531 - val_accuracy: 0.6429\n",
            "Epoch 89/100\n",
            "11/11 [==============================] - 4s 370ms/step - loss: 0.6836 - accuracy: 0.7327 - val_loss: 0.7507 - val_accuracy: 0.6429\n",
            "Epoch 90/100\n",
            "11/11 [==============================] - 6s 513ms/step - loss: 0.7037 - accuracy: 0.7387 - val_loss: 0.7477 - val_accuracy: 0.6429\n",
            "Epoch 91/100\n",
            "11/11 [==============================] - 4s 360ms/step - loss: 0.6886 - accuracy: 0.7508 - val_loss: 0.7450 - val_accuracy: 0.6429\n",
            "Epoch 92/100\n",
            "11/11 [==============================] - 5s 391ms/step - loss: 0.6838 - accuracy: 0.7297 - val_loss: 0.7423 - val_accuracy: 0.6429\n",
            "Epoch 93/100\n",
            "11/11 [==============================] - 4s 367ms/step - loss: 0.7117 - accuracy: 0.7357 - val_loss: 0.7399 - val_accuracy: 0.6429\n",
            "Epoch 94/100\n",
            "11/11 [==============================] - 5s 473ms/step - loss: 0.6911 - accuracy: 0.7327 - val_loss: 0.7381 - val_accuracy: 0.6429\n",
            "Epoch 95/100\n",
            "11/11 [==============================] - 4s 376ms/step - loss: 0.6707 - accuracy: 0.7267 - val_loss: 0.7362 - val_accuracy: 0.6429\n",
            "Epoch 96/100\n",
            "11/11 [==============================] - 4s 376ms/step - loss: 0.6758 - accuracy: 0.7508 - val_loss: 0.7341 - val_accuracy: 0.6429\n",
            "Epoch 97/100\n",
            "11/11 [==============================] - 5s 477ms/step - loss: 0.6804 - accuracy: 0.7327 - val_loss: 0.7316 - val_accuracy: 0.6429\n",
            "Epoch 98/100\n",
            "11/11 [==============================] - 4s 363ms/step - loss: 0.6525 - accuracy: 0.7598 - val_loss: 0.7294 - val_accuracy: 0.6548\n",
            "Epoch 99/100\n",
            "11/11 [==============================] - 5s 506ms/step - loss: 0.6871 - accuracy: 0.7267 - val_loss: 0.7274 - val_accuracy: 0.6548\n",
            "Epoch 100/100\n",
            "11/11 [==============================] - 4s 361ms/step - loss: 0.6802 - accuracy: 0.7327 - val_loss: 0.7242 - val_accuracy: 0.6548\n"
          ]
        }
      ]
    },
    {
      "cell_type": "code",
      "source": [
        "from sklearn.metrics import confusion_matrix, classification_report\n",
        "import numpy as np\n",
        "import matplotlib.pyplot as plt\n",
        "import seaborn as sns\n",
        "\n",
        "# Menggunakan model_resnet50ver2 untuk membuat prediksi pada data uji\n",
        "Y_pred = model_resnet50ver2.predict(X_test)\n",
        "# Mengambil indeks kelas dengan probabilitas tertinggi sebagai prediksi\n",
        "Y_pred_classes = np.argmax(Y_pred, axis=1)\n",
        "# Mengambil indeks kelas dengan probabilitas tertinggi sebagai label sebenarnya\n",
        "Y_true = np.argmax(Y_test, axis=1)\n",
        "\n",
        "# Membuat confusion matrix\n",
        "conf_matrix = confusion_matrix(Y_true, Y_pred_classes)\n",
        "\n",
        "# Menampilkan confusion matrix dalam bentuk visualisasi\n",
        "plt.figure(figsize=(8, 6))\n",
        "sns.heatmap(conf_matrix, annot=True, fmt=\"d\", cmap=\"Blues\", xticklabels=['Common_Rust', 'Healthy', 'Gray_Leaf_Spot', 'Blight'], yticklabels=['Common_Rust', 'Healthy', 'Gray_Leaf_Spot', 'Blight'])\n",
        "plt.xlabel('Predicted labels')\n",
        "plt.ylabel('True labels')\n",
        "plt.title('Confusion Matrix')\n",
        "plt.show()\n",
        "\n",
        "# Membuat classification report\n",
        "class_report = classification_report(Y_true, Y_pred_classes)\n",
        "\n",
        "# Menampilkan classification report\n",
        "print(\"\\nClassification Report:\")\n",
        "print(class_report)\n"
      ],
      "metadata": {
        "colab": {
          "base_uri": "https://localhost:8080/",
          "height": 807
        },
        "id": "YWvBAbaMInI-",
        "outputId": "db42849e-2e0d-46ff-fdfe-29cd5d82df3f"
      },
      "execution_count": 17,
      "outputs": [
        {
          "output_type": "stream",
          "name": "stdout",
          "text": [
            "3/3 [==============================] - 1s 113ms/step\n"
          ]
        },
        {
          "output_type": "display_data",
          "data": {
            "text/plain": [
              "<Figure size 800x600 with 2 Axes>"
            ],
            "image/png": "[encoded data removed]"
          },
          "metadata": {}
        },
        {
          "output_type": "stream",
          "name": "stdout",
          "text": [
            "\n",
            "Classification Report:\n",
            "              precision    recall  f1-score   support\n",
            "\n",
            "           0       0.52      0.50      0.51        26\n",
            "           1       0.65      0.82      0.73        34\n",
            "           2       0.00      0.00      0.00        10\n",
            "           3       1.00      1.00      1.00        14\n",
            "\n",
            "    accuracy                           0.65        84\n",
            "   macro avg       0.54      0.58      0.56        84\n",
            "weighted avg       0.59      0.65      0.62        84\n",
            "\n"
          ]
        }
      ]
    }
  ]
}