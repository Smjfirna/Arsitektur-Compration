{
  "nbformat": 4,
  "nbformat_minor": 0,
  "metadata": {
    "colab": {
      "provenance": [],
      "gpuType": "T4",
      "include_colab_link": true
    },
    "kernelspec": {
      "name": "python3",
      "display_name": "Python 3"
    },
    "language_info": {
      "name": "python"
    },
    "accelerator": "GPU"
  },
  "cells": [
    {
      "cell_type": "markdown",
      "metadata": {
        "id": "view-in-github",
        "colab_type": "text"
      },
      "source": [
        "<a href=\"https://colab.research.google.com/github/Smjfirna/Arsitektur-Compration/blob/main/MobileNet%20final/50.ipynb\" target=\"_parent\"><img src=\"https://colab.research.google.com/assets/colab-badge.svg\" alt=\"Open In Colab\"/></a>"
      ]
    },
    {
      "cell_type": "code",
      "source": [
        "#Preprocessing\n",
        "import os\n",
        "import cv2\n",
        "import numpy as np\n",
        "from tqdm import tqdm\n",
        "from sklearn.model_selection import train_test_split\n",
        "from sklearn.preprocessing import LabelEncoder\n",
        "from keras.utils import to_categorical\n",
        "\n",
        "#Model dan Augmentasi\n",
        "import tensorflow as tf\n",
        "from tensorflow.keras.preprocessing.image import ImageDataGenerator\n",
        "from tensorflow.keras.models import Sequential\n",
        "from tensorflow.keras import layers, Model, regularizers\n",
        "from tensorflow.keras.callbacks import EarlyStopping\n",
        "from tensorflow.keras.layers import Conv2D, MaxPooling2D, Flatten, Dense, GlobalAveragePooling2D, Dropout\n",
        "import os\n",
        "from tensorflow.keras.optimizers import Adam\n",
        "from tensorflow.keras.optimizers import RMSprop\n",
        "from tensorflow.keras.applications import MobileNet\n",
        "\n",
        "# Evaluasi\n",
        "import torch\n",
        "import torchvision.models as models\n",
        "from thop import profile\n",
        "from sklearn.metrics import confusion_matrix, classification_report\n",
        "\n",
        "#Visualisasi\n",
        "import matplotlib.pyplot as plt\n",
        "import seaborn as sns\n",
        "import os\n",
        "import cv2\n",
        "import numpy as np\n",
        "from tqdm import tqdm\n",
        "from sklearn.model_selection import train_test_split\n",
        "from sklearn.preprocessing import LabelEncoder\n",
        "from keras.utils import to_categorical"
      ],
      "metadata": {
        "id": "NMN3beIVALVJ"
      },
      "execution_count": 3,
      "outputs": []
    },
    {
      "cell_type": "code",
      "execution_count": 4,
      "metadata": {
        "colab": {
          "base_uri": "https://localhost:8080/",
          "height": 90
        },
        "id": "GK3MPeDN_Ofu",
        "outputId": "9a1d4846-facc-4eba-9629-65b25fb8b0ca"
      },
      "outputs": [
        {
          "output_type": "display_data",
          "data": {
            "text/plain": [
              "<IPython.core.display.HTML object>"
            ],
            "text/html": [
              "\n",
              "     <input type=\"file\" id=\"files-f4ca7e2f-c9b8-4785-afc2-4bea1d188c01\" name=\"files[]\" multiple disabled\n",
              "        style=\"border:none\" />\n",
              "     <output id=\"result-f4ca7e2f-c9b8-4785-afc2-4bea1d188c01\">\n",
              "      Upload widget is only available when the cell has been executed in the\n",
              "      current browser session. Please rerun this cell to enable.\n",
              "      </output>\n",
              "      <script>// Copyright 2017 Google LLC\n",
              "//\n",
              "// Licensed under the Apache License, Version 2.0 (the \"License\");\n",
              "// you may not use this file except in compliance with the License.\n",
              "// You may obtain a copy of the License at\n",
              "//\n",
              "//      http://www.apache.org/licenses/LICENSE-2.0\n",
              "//\n",
              "// Unless required by applicable law or agreed to in writing, software\n",
              "// distributed under the License is distributed on an \"AS IS\" BASIS,\n",
              "// WITHOUT WARRANTIES OR CONDITIONS OF ANY KIND, either express or implied.\n",
              "// See the License for the specific language governing permissions and\n",
              "// limitations under the License.\n",
              "\n",
              "/**\n",
              " * @fileoverview Helpers for google.colab Python module.\n",
              " */\n",
              "(function(scope) {\n",
              "function span(text, styleAttributes = {}) {\n",
              "  const element = document.createElement('span');\n",
              "  element.textContent = text;\n",
              "  for (const key of Object.keys(styleAttributes)) {\n",
              "    element.style[key] = styleAttributes[key];\n",
              "  }\n",
              "  return element;\n",
              "}\n",
              "\n",
              "// Max number of bytes which will be uploaded at a time.\n",
              "const MAX_PAYLOAD_SIZE = 100 * 1024;\n",
              "\n",
              "function _uploadFiles(inputId, outputId) {\n",
              "  const steps = uploadFilesStep(inputId, outputId);\n",
              "  const outputElement = document.getElementById(outputId);\n",
              "  // Cache steps on the outputElement to make it available for the next call\n",
              "  // to uploadFilesContinue from Python.\n",
              "  outputElement.steps = steps;\n",
              "\n",
              "  return _uploadFilesContinue(outputId);\n",
              "}\n",
              "\n",
              "// This is roughly an async generator (not supported in the browser yet),\n",
              "// where there are multiple asynchronous steps and the Python side is going\n",
              "// to poll for completion of each step.\n",
              "// This uses a Promise to block the python side on completion of each step,\n",
              "// then passes the result of the previous step as the input to the next step.\n",
              "function _uploadFilesContinue(outputId) {\n",
              "  const outputElement = document.getElementById(outputId);\n",
              "  const steps = outputElement.steps;\n",
              "\n",
              "  const next = steps.next(outputElement.lastPromiseValue);\n",
              "  return Promise.resolve(next.value.promise).then((value) => {\n",
              "    // Cache the last promise value to make it available to the next\n",
              "    // step of the generator.\n",
              "    outputElement.lastPromiseValue = value;\n",
              "    return next.value.response;\n",
              "  });\n",
              "}\n",
              "\n",
              "/**\n",
              " * Generator function which is called between each async step of the upload\n",
              " * process.\n",
              " * @param {string} inputId Element ID of the input file picker element.\n",
              " * @param {string} outputId Element ID of the output display.\n",
              " * @return {!Iterable<!Object>} Iterable of next steps.\n",
              " */\n",
              "function* uploadFilesStep(inputId, outputId) {\n",
              "  const inputElement = document.getElementById(inputId);\n",
              "  inputElement.disabled = false;\n",
              "\n",
              "  const outputElement = document.getElementById(outputId);\n",
              "  outputElement.innerHTML = '';\n",
              "\n",
              "  const pickedPromise = new Promise((resolve) => {\n",
              "    inputElement.addEventListener('change', (e) => {\n",
              "      resolve(e.target.files);\n",
              "    });\n",
              "  });\n",
              "\n",
              "  const cancel = document.createElement('button');\n",
              "  inputElement.parentElement.appendChild(cancel);\n",
              "  cancel.textContent = 'Cancel upload';\n",
              "  const cancelPromise = new Promise((resolve) => {\n",
              "    cancel.onclick = () => {\n",
              "      resolve(null);\n",
              "    };\n",
              "  });\n",
              "\n",
              "  // Wait for the user to pick the files.\n",
              "  const files = yield {\n",
              "    promise: Promise.race([pickedPromise, cancelPromise]),\n",
              "    response: {\n",
              "      action: 'starting',\n",
              "    }\n",
              "  };\n",
              "\n",
              "  cancel.remove();\n",
              "\n",
              "  // Disable the input element since further picks are not allowed.\n",
              "  inputElement.disabled = true;\n",
              "\n",
              "  if (!files) {\n",
              "    return {\n",
              "      response: {\n",
              "        action: 'complete',\n",
              "      }\n",
              "    };\n",
              "  }\n",
              "\n",
              "  for (const file of files) {\n",
              "    const li = document.createElement('li');\n",
              "    li.append(span(file.name, {fontWeight: 'bold'}));\n",
              "    li.append(span(\n",
              "        `(${file.type || 'n/a'}) - ${file.size} bytes, ` +\n",
              "        `last modified: ${\n",
              "            file.lastModifiedDate ? file.lastModifiedDate.toLocaleDateString() :\n",
              "                                    'n/a'} - `));\n",
              "    const percent = span('0% done');\n",
              "    li.appendChild(percent);\n",
              "\n",
              "    outputElement.appendChild(li);\n",
              "\n",
              "    const fileDataPromise = new Promise((resolve) => {\n",
              "      const reader = new FileReader();\n",
              "      reader.onload = (e) => {\n",
              "        resolve(e.target.result);\n",
              "      };\n",
              "      reader.readAsArrayBuffer(file);\n",
              "    });\n",
              "    // Wait for the data to be ready.\n",
              "    let fileData = yield {\n",
              "      promise: fileDataPromise,\n",
              "      response: {\n",
              "        action: 'continue',\n",
              "      }\n",
              "    };\n",
              "\n",
              "    // Use a chunked sending to avoid message size limits. See b/62115660.\n",
              "    let position = 0;\n",
              "    do {\n",
              "      const length = Math.min(fileData.byteLength - position, MAX_PAYLOAD_SIZE);\n",
              "      const chunk = new Uint8Array(fileData, position, length);\n",
              "      position += length;\n",
              "\n",
              "      const base64 = btoa(String.fromCharCode.apply(null, chunk));\n",
              "      yield {\n",
              "        response: {\n",
              "          action: 'append',\n",
              "          file: file.name,\n",
              "          data: base64,\n",
              "        },\n",
              "      };\n",
              "\n",
              "      let percentDone = fileData.byteLength === 0 ?\n",
              "          100 :\n",
              "          Math.round((position / fileData.byteLength) * 100);\n",
              "      percent.textContent = `${percentDone}% done`;\n",
              "\n",
              "    } while (position < fileData.byteLength);\n",
              "  }\n",
              "\n",
              "  // All done.\n",
              "  yield {\n",
              "    response: {\n",
              "      action: 'complete',\n",
              "    }\n",
              "  };\n",
              "}\n",
              "\n",
              "scope.google = scope.google || {};\n",
              "scope.google.colab = scope.google.colab || {};\n",
              "scope.google.colab._files = {\n",
              "  _uploadFiles,\n",
              "  _uploadFilesContinue,\n",
              "};\n",
              "})(self);\n",
              "</script> "
            ]
          },
          "metadata": {}
        },
        {
          "output_type": "stream",
          "name": "stdout",
          "text": [
            "Saving kaggle.json to kaggle.json\n"
          ]
        },
        {
          "output_type": "execute_result",
          "data": {
            "text/plain": [
              "{'kaggle.json': b'{\"username\":\"smjayyy\",\"key\":\"8eb172e224d83c7b56b4a2ef349b7c0d\"}'}"
            ]
          },
          "metadata": {},
          "execution_count": 4
        }
      ],
      "source": [
        "from google.colab import files\n",
        "files.upload()"
      ]
    },
    {
      "cell_type": "code",
      "source": [
        "!mkdir -p ~/.kaggle\n",
        "!cp kaggle.json ~/.kaggle/\n",
        "!chmod 600 ~/.kaggle/kaggle.json"
      ],
      "metadata": {
        "id": "Y9Kia11G_5Si"
      },
      "execution_count": 5,
      "outputs": []
    },
    {
      "cell_type": "code",
      "source": [
        "!kaggle datasets download -d smaranjitghose/corn-or-maize-leaf-disease-dataset"
      ],
      "metadata": {
        "colab": {
          "base_uri": "https://localhost:8080/"
        },
        "id": "apfKVlxj_8FJ",
        "outputId": "41c1a68b-3cf1-449b-8dfd-b9332cabf233"
      },
      "execution_count": 6,
      "outputs": [
        {
          "output_type": "stream",
          "name": "stdout",
          "text": [
            "Dataset URL: https://www.kaggle.com/datasets/smaranjitghose/corn-or-maize-leaf-disease-dataset\n",
            "License(s): copyright-authors\n",
            "Downloading corn-or-maize-leaf-disease-dataset.zip to /content\n",
            "100% 161M/161M [00:06<00:00, 14.5MB/s]\n",
            "100% 161M/161M [00:06<00:00, 26.5MB/s]\n"
          ]
        }
      ]
    },
    {
      "cell_type": "code",
      "source": [
        "!unzip -q corn-or-maize-leaf-disease-dataset.zip -d /content"
      ],
      "metadata": {
        "id": "ixMUoB2rAAd3"
      },
      "execution_count": 7,
      "outputs": []
    },
    {
      "cell_type": "code",
      "source": [
        "dataset_dir = '/content/data'"
      ],
      "metadata": {
        "id": "pZ8IerIQAGFO"
      },
      "execution_count": 8,
      "outputs": []
    },
    {
      "cell_type": "code",
      "source": [
        "print(os.listdir(dataset_dir))"
      ],
      "metadata": {
        "colab": {
          "base_uri": "https://localhost:8080/"
        },
        "id": "9wwka8QaAIcj",
        "outputId": "8d2befc8-b4e6-4562-ffc9-ec6c1c979f3d"
      },
      "execution_count": 9,
      "outputs": [
        {
          "output_type": "stream",
          "name": "stdout",
          "text": [
            "['Blight', 'Gray_Leaf_Spot', 'Healthy', 'Common_Rust']\n"
          ]
        }
      ]
    },
    {
      "cell_type": "code",
      "source": [
        "IMAGE_SIZE_mobilenet = 224"
      ],
      "metadata": {
        "id": "_UCEuA-hAPSa"
      },
      "execution_count": 10,
      "outputs": []
    },
    {
      "cell_type": "code",
      "source": [
        "def make_data(label, DIR, img_list, label_list):\n",
        "    for img in tqdm(os.listdir(DIR)):\n",
        "        path = os.path.join(DIR, img)\n",
        "        img = cv2.imread(path, cv2.IMREAD_COLOR)\n",
        "        img = cv2.resize(img, (IMAGE_SIZE_mobilenet, IMAGE_SIZE_mobilenet))\n",
        "        img_list.append(np.array(img))\n",
        "        label_list.append(str(label))"
      ],
      "metadata": {
        "id": "B3menIgvARk5"
      },
      "execution_count": 11,
      "outputs": []
    },
    {
      "cell_type": "code",
      "source": [
        "X = []\n",
        "Z = []"
      ],
      "metadata": {
        "id": "Jn6gWefxATyU"
      },
      "execution_count": 12,
      "outputs": []
    },
    {
      "cell_type": "code",
      "source": [
        "for i, class_name in enumerate(['Common_Rust', 'Healthy', 'Gray_Leaf_Spot', 'Blight']):\n",
        "    class_dir = os.path.join(dataset_dir, class_name)\n",
        "    make_data(class_name, class_dir, X, Z)"
      ],
      "metadata": {
        "colab": {
          "base_uri": "https://localhost:8080/"
        },
        "id": "S9-RQTGJAWCk",
        "outputId": "2e6a38df-620b-4f59-d65d-342dc6a0c831"
      },
      "execution_count": 13,
      "outputs": [
        {
          "output_type": "stream",
          "name": "stderr",
          "text": [
            "100%|██████████| 1306/1306 [00:04<00:00, 307.33it/s]\n",
            "100%|██████████| 1162/1162 [00:02<00:00, 517.96it/s]\n",
            "100%|██████████| 574/574 [00:02<00:00, 204.53it/s]\n",
            "100%|██████████| 1146/1146 [00:04<00:00, 235.07it/s]\n"
          ]
        }
      ]
    },
    {
      "cell_type": "code",
      "source": [
        "import matplotlib.pyplot as plt\n",
        "\n",
        "# Menghitung jumlah data untuk setiap kelas\n",
        "class_counts = {class_name: Z.count(class_name) for class_name in set(Z)}\n",
        "\n",
        "# Menampilkan visualisasi jumlah data\n",
        "plt.figure(figsize=(8, 6))\n",
        "plt.bar(class_counts.keys(), class_counts.values())\n",
        "plt.xlabel('Class')\n",
        "plt.ylabel('Count')\n",
        "plt.title('Number of Data Samples for Each Class')\n",
        "plt.show()"
      ],
      "metadata": {
        "colab": {
          "base_uri": "https://localhost:8080/",
          "height": 564
        },
        "id": "-IcXHIM8Akcw",
        "outputId": "dbe65ff6-1a82-4da8-d77a-d6ebe0cf52a3"
      },
      "execution_count": 14,
      "outputs": [
        {
          "output_type": "display_data",
          "data": {
            "text/plain": [
              "<Figure size 800x600 with 1 Axes>"
            ],
            "image/png": "[encoded data removed]"
          },
          "metadata": {}
        }
      ]
    },
    {
      "cell_type": "code",
      "source": [
        "le = LabelEncoder()\n",
        "Y = le.fit_transform(Z)\n",
        "Y = to_categorical(Y, num_classes=len(le.classes_))\n",
        "\n",
        "X = np.array(X)\n",
        "\n",
        "X_train, X_test, Y_train, Y_test = train_test_split(X, Y, test_size=0.2, random_state=42)\n",
        "\n",
        "print(\"Jumlah Data Train adalah :\", len(X_train))\n",
        "print(\"Jumlah Data Test adalah :\", len(X_test))"
      ],
      "metadata": {
        "colab": {
          "base_uri": "https://localhost:8080/"
        },
        "id": "OI7kvVbXAqko",
        "outputId": "e2c8699f-6605-46e6-9f4c-845055d535b7"
      },
      "execution_count": 15,
      "outputs": [
        {
          "output_type": "stream",
          "name": "stdout",
          "text": [
            "Jumlah Data Train adalah : 3350\n",
            "Jumlah Data Test adalah : 838\n"
          ]
        }
      ]
    },
    {
      "cell_type": "code",
      "source": [
        "datagen = ImageDataGenerator(\n",
        "    rotation_range=20,\n",
        "    zoom_range=0.2,\n",
        "    horizontal_flip=True,\n",
        "    vertical_flip=True\n",
        ")\n",
        "\n",
        "datagen.fit(X_train)"
      ],
      "metadata": {
        "id": "ue5XLCIlA2ld"
      },
      "execution_count": 16,
      "outputs": []
    },
    {
      "cell_type": "code",
      "source": [
        "base_model = MobileNet(weights='imagenet', include_top=False, input_shape=(IMAGE_SIZE_mobilenet, IMAGE_SIZE_mobilenet, 3))\n",
        "\n",
        "for layer in base_model.layers:\n",
        "    layer.trainable = False\n",
        "\n",
        "x = base_model.output\n",
        "x = GlobalAveragePooling2D()(x)\n",
        "x = Dense(1024, activation='relu')(x)\n",
        "predictions = Dense(4, activation='softmax')(x)\n",
        "\n",
        "# Create the new model\n",
        "model_mobilenet = Model(inputs=base_model.input, outputs=predictions)\n",
        "\n",
        "model_mobilenet.compile(optimizer=Adam(learning_rate=1e-4), loss='categorical_crossentropy', metrics=['accuracy'])\n",
        "\n",
        "# Menampilkan summary dari model\n",
        "model_mobilenet.summary()\n",
        "\n",
        "# Melatih model dengan data latih dan validasi\n",
        "history_mobilenet = model_mobilenet.fit(datagen.flow(X_train, Y_train), epochs=50, validation_data=(X_test, Y_test))"
      ],
      "metadata": {
        "id": "qg6h8yY_A62R",
        "colab": {
          "base_uri": "https://localhost:8080/"
        },
        "outputId": "8139bc74-f7e0-4e05-9293-7a9354eefaf9"
      },
      "execution_count": 17,
      "outputs": [
        {
          "output_type": "stream",
          "name": "stdout",
          "text": [
            "Downloading data from https://storage.googleapis.com/tensorflow/keras-applications/mobilenet/mobilenet_1_0_224_tf_no_top.h5\n",
            "17225924/17225924 [==============================] - 1s 0us/step\n",
            "Model: \"model\"\n",
            "_________________________________________________________________\n",
            " Layer (type)                Output Shape              Param #   \n",
            "=================================================================\n",
            " input_1 (InputLayer)        [(None, 224, 224, 3)]     0         \n",
            "                                                                 \n",
            " conv1 (Conv2D)              (None, 112, 112, 32)      864       \n",
            "                                                                 \n",
            " conv1_bn (BatchNormalizati  (None, 112, 112, 32)      128       \n",
            " on)                                                             \n",
            "                                                                 \n",
            " conv1_relu (ReLU)           (None, 112, 112, 32)      0         \n",
            "                                                                 \n",
            " conv_dw_1 (DepthwiseConv2D  (None, 112, 112, 32)      288       \n",
            " )                                                               \n",
            "                                                                 \n",
            " conv_dw_1_bn (BatchNormali  (None, 112, 112, 32)      128       \n",
            " zation)                                                         \n",
            "                                                                 \n",
            " conv_dw_1_relu (ReLU)       (None, 112, 112, 32)      0         \n",
            "                                                                 \n",
            " conv_pw_1 (Conv2D)          (None, 112, 112, 64)      2048      \n",
            "                                                                 \n",
            " conv_pw_1_bn (BatchNormali  (None, 112, 112, 64)      256       \n",
            " zation)                                                         \n",
            "                                                                 \n",
            " conv_pw_1_relu (ReLU)       (None, 112, 112, 64)      0         \n",
            "                                                                 \n",
            " conv_pad_2 (ZeroPadding2D)  (None, 113, 113, 64)      0         \n",
            "                                                                 \n",
            " conv_dw_2 (DepthwiseConv2D  (None, 56, 56, 64)        576       \n",
            " )                                                               \n",
            "                                                                 \n",
            " conv_dw_2_bn (BatchNormali  (None, 56, 56, 64)        256       \n",
            " zation)                                                         \n",
            "                                                                 \n",
            " conv_dw_2_relu (ReLU)       (None, 56, 56, 64)        0         \n",
            "                                                                 \n",
            " conv_pw_2 (Conv2D)          (None, 56, 56, 128)       8192      \n",
            "                                                                 \n",
            " conv_pw_2_bn (BatchNormali  (None, 56, 56, 128)       512       \n",
            " zation)                                                         \n",
            "                                                                 \n",
            " conv_pw_2_relu (ReLU)       (None, 56, 56, 128)       0         \n",
            "                                                                 \n",
            " conv_dw_3 (DepthwiseConv2D  (None, 56, 56, 128)       1152      \n",
            " )                                                               \n",
            "                                                                 \n",
            " conv_dw_3_bn (BatchNormali  (None, 56, 56, 128)       512       \n",
            " zation)                                                         \n",
            "                                                                 \n",
            " conv_dw_3_relu (ReLU)       (None, 56, 56, 128)       0         \n",
            "                                                                 \n",
            " conv_pw_3 (Conv2D)          (None, 56, 56, 128)       16384     \n",
            "                                                                 \n",
            " conv_pw_3_bn (BatchNormali  (None, 56, 56, 128)       512       \n",
            " zation)                                                         \n",
            "                                                                 \n",
            " conv_pw_3_relu (ReLU)       (None, 56, 56, 128)       0         \n",
            "                                                                 \n",
            " conv_pad_4 (ZeroPadding2D)  (None, 57, 57, 128)       0         \n",
            "                                                                 \n",
            " conv_dw_4 (DepthwiseConv2D  (None, 28, 28, 128)       1152      \n",
            " )                                                               \n",
            "                                                                 \n",
            " conv_dw_4_bn (BatchNormali  (None, 28, 28, 128)       512       \n",
            " zation)                                                         \n",
            "                                                                 \n",
            " conv_dw_4_relu (ReLU)       (None, 28, 28, 128)       0         \n",
            "                                                                 \n",
            " conv_pw_4 (Conv2D)          (None, 28, 28, 256)       32768     \n",
            "                                                                 \n",
            " conv_pw_4_bn (BatchNormali  (None, 28, 28, 256)       1024      \n",
            " zation)                                                         \n",
            "                                                                 \n",
            " conv_pw_4_relu (ReLU)       (None, 28, 28, 256)       0         \n",
            "                                                                 \n",
            " conv_dw_5 (DepthwiseConv2D  (None, 28, 28, 256)       2304      \n",
            " )                                                               \n",
            "                                                                 \n",
            " conv_dw_5_bn (BatchNormali  (None, 28, 28, 256)       1024      \n",
            " zation)                                                         \n",
            "                                                                 \n",
            " conv_dw_5_relu (ReLU)       (None, 28, 28, 256)       0         \n",
            "                                                                 \n",
            " conv_pw_5 (Conv2D)          (None, 28, 28, 256)       65536     \n",
            "                                                                 \n",
            " conv_pw_5_bn (BatchNormali  (None, 28, 28, 256)       1024      \n",
            " zation)                                                         \n",
            "                                                                 \n",
            " conv_pw_5_relu (ReLU)       (None, 28, 28, 256)       0         \n",
            "                                                                 \n",
            " conv_pad_6 (ZeroPadding2D)  (None, 29, 29, 256)       0         \n",
            "                                                                 \n",
            " conv_dw_6 (DepthwiseConv2D  (None, 14, 14, 256)       2304      \n",
            " )                                                               \n",
            "                                                                 \n",
            " conv_dw_6_bn (BatchNormali  (None, 14, 14, 256)       1024      \n",
            " zation)                                                         \n",
            "                                                                 \n",
            " conv_dw_6_relu (ReLU)       (None, 14, 14, 256)       0         \n",
            "                                                                 \n",
            " conv_pw_6 (Conv2D)          (None, 14, 14, 512)       131072    \n",
            "                                                                 \n",
            " conv_pw_6_bn (BatchNormali  (None, 14, 14, 512)       2048      \n",
            " zation)                                                         \n",
            "                                                                 \n",
            " conv_pw_6_relu (ReLU)       (None, 14, 14, 512)       0         \n",
            "                                                                 \n",
            " conv_dw_7 (DepthwiseConv2D  (None, 14, 14, 512)       4608      \n",
            " )                                                               \n",
            "                                                                 \n",
            " conv_dw_7_bn (BatchNormali  (None, 14, 14, 512)       2048      \n",
            " zation)                                                         \n",
            "                                                                 \n",
            " conv_dw_7_relu (ReLU)       (None, 14, 14, 512)       0         \n",
            "                                                                 \n",
            " conv_pw_7 (Conv2D)          (None, 14, 14, 512)       262144    \n",
            "                                                                 \n",
            " conv_pw_7_bn (BatchNormali  (None, 14, 14, 512)       2048      \n",
            " zation)                                                         \n",
            "                                                                 \n",
            " conv_pw_7_relu (ReLU)       (None, 14, 14, 512)       0         \n",
            "                                                                 \n",
            " conv_dw_8 (DepthwiseConv2D  (None, 14, 14, 512)       4608      \n",
            " )                                                               \n",
            "                                                                 \n",
            " conv_dw_8_bn (BatchNormali  (None, 14, 14, 512)       2048      \n",
            " zation)                                                         \n",
            "                                                                 \n",
            " conv_dw_8_relu (ReLU)       (None, 14, 14, 512)       0         \n",
            "                                                                 \n",
            " conv_pw_8 (Conv2D)          (None, 14, 14, 512)       262144    \n",
            "                                                                 \n",
            " conv_pw_8_bn (BatchNormali  (None, 14, 14, 512)       2048      \n",
            " zation)                                                         \n",
            "                                                                 \n",
            " conv_pw_8_relu (ReLU)       (None, 14, 14, 512)       0         \n",
            "                                                                 \n",
            " conv_dw_9 (DepthwiseConv2D  (None, 14, 14, 512)       4608      \n",
            " )                                                               \n",
            "                                                                 \n",
            " conv_dw_9_bn (BatchNormali  (None, 14, 14, 512)       2048      \n",
            " zation)                                                         \n",
            "                                                                 \n",
            " conv_dw_9_relu (ReLU)       (None, 14, 14, 512)       0         \n",
            "                                                                 \n",
            " conv_pw_9 (Conv2D)          (None, 14, 14, 512)       262144    \n",
            "                                                                 \n",
            " conv_pw_9_bn (BatchNormali  (None, 14, 14, 512)       2048      \n",
            " zation)                                                         \n",
            "                                                                 \n",
            " conv_pw_9_relu (ReLU)       (None, 14, 14, 512)       0         \n",
            "                                                                 \n",
            " conv_dw_10 (DepthwiseConv2  (None, 14, 14, 512)       4608      \n",
            " D)                                                              \n",
            "                                                                 \n",
            " conv_dw_10_bn (BatchNormal  (None, 14, 14, 512)       2048      \n",
            " ization)                                                        \n",
            "                                                                 \n",
            " conv_dw_10_relu (ReLU)      (None, 14, 14, 512)       0         \n",
            "                                                                 \n",
            " conv_pw_10 (Conv2D)         (None, 14, 14, 512)       262144    \n",
            "                                                                 \n",
            " conv_pw_10_bn (BatchNormal  (None, 14, 14, 512)       2048      \n",
            " ization)                                                        \n",
            "                                                                 \n",
            " conv_pw_10_relu (ReLU)      (None, 14, 14, 512)       0         \n",
            "                                                                 \n",
            " conv_dw_11 (DepthwiseConv2  (None, 14, 14, 512)       4608      \n",
            " D)                                                              \n",
            "                                                                 \n",
            " conv_dw_11_bn (BatchNormal  (None, 14, 14, 512)       2048      \n",
            " ization)                                                        \n",
            "                                                                 \n",
            " conv_dw_11_relu (ReLU)      (None, 14, 14, 512)       0         \n",
            "                                                                 \n",
            " conv_pw_11 (Conv2D)         (None, 14, 14, 512)       262144    \n",
            "                                                                 \n",
            " conv_pw_11_bn (BatchNormal  (None, 14, 14, 512)       2048      \n",
            " ization)                                                        \n",
            "                                                                 \n",
            " conv_pw_11_relu (ReLU)      (None, 14, 14, 512)       0         \n",
            "                                                                 \n",
            " conv_pad_12 (ZeroPadding2D  (None, 15, 15, 512)       0         \n",
            " )                                                               \n",
            "                                                                 \n",
            " conv_dw_12 (DepthwiseConv2  (None, 7, 7, 512)         4608      \n",
            " D)                                                              \n",
            "                                                                 \n",
            " conv_dw_12_bn (BatchNormal  (None, 7, 7, 512)         2048      \n",
            " ization)                                                        \n",
            "                                                                 \n",
            " conv_dw_12_relu (ReLU)      (None, 7, 7, 512)         0         \n",
            "                                                                 \n",
            " conv_pw_12 (Conv2D)         (None, 7, 7, 1024)        524288    \n",
            "                                                                 \n",
            " conv_pw_12_bn (BatchNormal  (None, 7, 7, 1024)        4096      \n",
            " ization)                                                        \n",
            "                                                                 \n",
            " conv_pw_12_relu (ReLU)      (None, 7, 7, 1024)        0         \n",
            "                                                                 \n",
            " conv_dw_13 (DepthwiseConv2  (None, 7, 7, 1024)        9216      \n",
            " D)                                                              \n",
            "                                                                 \n",
            " conv_dw_13_bn (BatchNormal  (None, 7, 7, 1024)        4096      \n",
            " ization)                                                        \n",
            "                                                                 \n",
            " conv_dw_13_relu (ReLU)      (None, 7, 7, 1024)        0         \n",
            "                                                                 \n",
            " conv_pw_13 (Conv2D)         (None, 7, 7, 1024)        1048576   \n",
            "                                                                 \n",
            " conv_pw_13_bn (BatchNormal  (None, 7, 7, 1024)        4096      \n",
            " ization)                                                        \n",
            "                                                                 \n",
            " conv_pw_13_relu (ReLU)      (None, 7, 7, 1024)        0         \n",
            "                                                                 \n",
            " global_average_pooling2d (  (None, 1024)              0         \n",
            " GlobalAveragePooling2D)                                         \n",
            "                                                                 \n",
            " dense (Dense)               (None, 1024)              1049600   \n",
            "                                                                 \n",
            " dense_1 (Dense)             (None, 4)                 4100      \n",
            "                                                                 \n",
            "=================================================================\n",
            "Total params: 4282564 (16.34 MB)\n",
            "Trainable params: 1053700 (4.02 MB)\n",
            "Non-trainable params: 3228864 (12.32 MB)\n",
            "_________________________________________________________________\n",
            "Epoch 1/50\n",
            "105/105 [==============================] - 60s 522ms/step - loss: 0.4436 - accuracy: 0.8215 - val_loss: 0.2898 - val_accuracy: 0.8819\n",
            "Epoch 2/50\n",
            "105/105 [==============================] - 40s 383ms/step - loss: 0.3193 - accuracy: 0.8651 - val_loss: 0.2618 - val_accuracy: 0.8926\n",
            "Epoch 3/50\n",
            "105/105 [==============================] - 41s 388ms/step - loss: 0.2892 - accuracy: 0.8824 - val_loss: 0.2549 - val_accuracy: 0.8926\n",
            "Epoch 4/50\n",
            "105/105 [==============================] - 40s 385ms/step - loss: 0.2736 - accuracy: 0.8836 - val_loss: 0.2729 - val_accuracy: 0.8819\n",
            "Epoch 5/50\n",
            "105/105 [==============================] - 40s 382ms/step - loss: 0.2716 - accuracy: 0.8842 - val_loss: 0.2335 - val_accuracy: 0.9045\n",
            "Epoch 6/50\n",
            "105/105 [==============================] - 43s 413ms/step - loss: 0.2611 - accuracy: 0.8916 - val_loss: 0.2367 - val_accuracy: 0.8974\n",
            "Epoch 7/50\n",
            "105/105 [==============================] - 40s 384ms/step - loss: 0.2469 - accuracy: 0.8979 - val_loss: 0.2230 - val_accuracy: 0.9069\n",
            "Epoch 8/50\n",
            "105/105 [==============================] - 39s 376ms/step - loss: 0.2386 - accuracy: 0.9009 - val_loss: 0.2187 - val_accuracy: 0.9105\n",
            "Epoch 9/50\n",
            "105/105 [==============================] - 40s 381ms/step - loss: 0.2423 - accuracy: 0.8964 - val_loss: 0.2306 - val_accuracy: 0.8938\n",
            "Epoch 10/50\n",
            "105/105 [==============================] - 40s 383ms/step - loss: 0.2269 - accuracy: 0.9045 - val_loss: 0.2132 - val_accuracy: 0.9165\n",
            "Epoch 11/50\n",
            "105/105 [==============================] - 41s 389ms/step - loss: 0.2226 - accuracy: 0.9078 - val_loss: 0.2352 - val_accuracy: 0.9010\n",
            "Epoch 12/50\n",
            "105/105 [==============================] - 43s 406ms/step - loss: 0.2190 - accuracy: 0.9063 - val_loss: 0.2874 - val_accuracy: 0.8687\n",
            "Epoch 13/50\n",
            "105/105 [==============================] - 40s 384ms/step - loss: 0.2241 - accuracy: 0.9042 - val_loss: 0.2283 - val_accuracy: 0.8986\n",
            "Epoch 14/50\n",
            "105/105 [==============================] - 40s 379ms/step - loss: 0.2208 - accuracy: 0.9096 - val_loss: 0.2133 - val_accuracy: 0.9141\n",
            "Epoch 15/50\n",
            "105/105 [==============================] - 40s 379ms/step - loss: 0.2126 - accuracy: 0.9119 - val_loss: 0.2489 - val_accuracy: 0.8878\n",
            "Epoch 16/50\n",
            "105/105 [==============================] - 40s 381ms/step - loss: 0.2042 - accuracy: 0.9140 - val_loss: 0.2165 - val_accuracy: 0.9069\n",
            "Epoch 17/50\n",
            "105/105 [==============================] - 40s 381ms/step - loss: 0.2074 - accuracy: 0.9101 - val_loss: 0.2168 - val_accuracy: 0.9057\n",
            "Epoch 18/50\n",
            "105/105 [==============================] - 42s 403ms/step - loss: 0.2065 - accuracy: 0.9104 - val_loss: 0.2154 - val_accuracy: 0.9033\n",
            "Epoch 19/50\n",
            "105/105 [==============================] - 40s 383ms/step - loss: 0.2084 - accuracy: 0.9101 - val_loss: 0.2373 - val_accuracy: 0.8986\n",
            "Epoch 20/50\n",
            "105/105 [==============================] - 40s 384ms/step - loss: 0.2070 - accuracy: 0.9093 - val_loss: 0.2449 - val_accuracy: 0.8962\n",
            "Epoch 21/50\n",
            "105/105 [==============================] - 40s 381ms/step - loss: 0.2066 - accuracy: 0.9087 - val_loss: 0.2047 - val_accuracy: 0.9045\n",
            "Epoch 22/50\n",
            "105/105 [==============================] - 41s 387ms/step - loss: 0.2048 - accuracy: 0.9101 - val_loss: 0.2118 - val_accuracy: 0.9105\n",
            "Epoch 23/50\n",
            "105/105 [==============================] - 40s 384ms/step - loss: 0.1987 - accuracy: 0.9152 - val_loss: 0.2024 - val_accuracy: 0.9177\n",
            "Epoch 24/50\n",
            "105/105 [==============================] - 40s 385ms/step - loss: 0.1882 - accuracy: 0.9218 - val_loss: 0.2084 - val_accuracy: 0.9069\n",
            "Epoch 25/50\n",
            "105/105 [==============================] - 43s 404ms/step - loss: 0.1917 - accuracy: 0.9212 - val_loss: 0.2247 - val_accuracy: 0.9033\n",
            "Epoch 26/50\n",
            "105/105 [==============================] - 41s 391ms/step - loss: 0.1894 - accuracy: 0.9245 - val_loss: 0.2109 - val_accuracy: 0.9200\n",
            "Epoch 27/50\n",
            "105/105 [==============================] - 41s 386ms/step - loss: 0.1828 - accuracy: 0.9227 - val_loss: 0.2082 - val_accuracy: 0.9248\n",
            "Epoch 28/50\n",
            "105/105 [==============================] - 40s 386ms/step - loss: 0.1814 - accuracy: 0.9254 - val_loss: 0.2022 - val_accuracy: 0.9189\n",
            "Epoch 29/50\n",
            "105/105 [==============================] - 40s 382ms/step - loss: 0.1877 - accuracy: 0.9260 - val_loss: 0.2072 - val_accuracy: 0.9069\n",
            "Epoch 30/50\n",
            "105/105 [==============================] - 40s 386ms/step - loss: 0.1797 - accuracy: 0.9254 - val_loss: 0.2079 - val_accuracy: 0.9117\n",
            "Epoch 31/50\n",
            "105/105 [==============================] - 42s 396ms/step - loss: 0.1769 - accuracy: 0.9284 - val_loss: 0.2052 - val_accuracy: 0.9165\n",
            "Epoch 32/50\n",
            "105/105 [==============================] - 40s 379ms/step - loss: 0.1811 - accuracy: 0.9233 - val_loss: 0.2007 - val_accuracy: 0.9212\n",
            "Epoch 33/50\n",
            "105/105 [==============================] - 40s 382ms/step - loss: 0.1794 - accuracy: 0.9275 - val_loss: 0.2131 - val_accuracy: 0.9200\n",
            "Epoch 34/50\n",
            "105/105 [==============================] - 41s 386ms/step - loss: 0.1770 - accuracy: 0.9230 - val_loss: 0.2265 - val_accuracy: 0.9045\n",
            "Epoch 35/50\n",
            "105/105 [==============================] - 41s 387ms/step - loss: 0.1766 - accuracy: 0.9290 - val_loss: 0.2071 - val_accuracy: 0.9141\n",
            "Epoch 36/50\n",
            "105/105 [==============================] - 41s 386ms/step - loss: 0.1759 - accuracy: 0.9296 - val_loss: 0.2131 - val_accuracy: 0.9165\n",
            "Epoch 37/50\n",
            "105/105 [==============================] - 42s 399ms/step - loss: 0.1785 - accuracy: 0.9257 - val_loss: 0.2496 - val_accuracy: 0.8842\n",
            "Epoch 38/50\n",
            "105/105 [==============================] - 39s 375ms/step - loss: 0.1844 - accuracy: 0.9230 - val_loss: 0.2071 - val_accuracy: 0.9141\n",
            "Epoch 39/50\n",
            "105/105 [==============================] - 39s 368ms/step - loss: 0.1724 - accuracy: 0.9316 - val_loss: 0.1995 - val_accuracy: 0.9200\n",
            "Epoch 40/50\n",
            "105/105 [==============================] - 38s 361ms/step - loss: 0.1700 - accuracy: 0.9307 - val_loss: 0.2098 - val_accuracy: 0.9189\n",
            "Epoch 41/50\n",
            "105/105 [==============================] - 40s 379ms/step - loss: 0.1720 - accuracy: 0.9310 - val_loss: 0.2286 - val_accuracy: 0.9010\n",
            "Epoch 42/50\n",
            "105/105 [==============================] - 39s 376ms/step - loss: 0.1680 - accuracy: 0.9331 - val_loss: 0.2155 - val_accuracy: 0.9141\n",
            "Epoch 43/50\n",
            "105/105 [==============================] - 41s 388ms/step - loss: 0.1645 - accuracy: 0.9340 - val_loss: 0.2298 - val_accuracy: 0.8998\n",
            "Epoch 44/50\n",
            "105/105 [==============================] - 39s 368ms/step - loss: 0.1669 - accuracy: 0.9322 - val_loss: 0.2284 - val_accuracy: 0.9021\n",
            "Epoch 45/50\n",
            "105/105 [==============================] - 40s 385ms/step - loss: 0.1623 - accuracy: 0.9343 - val_loss: 0.2023 - val_accuracy: 0.9153\n",
            "Epoch 46/50\n",
            "105/105 [==============================] - 39s 373ms/step - loss: 0.1669 - accuracy: 0.9313 - val_loss: 0.1983 - val_accuracy: 0.9177\n",
            "Epoch 47/50\n",
            "105/105 [==============================] - 40s 383ms/step - loss: 0.1688 - accuracy: 0.9343 - val_loss: 0.2093 - val_accuracy: 0.9248\n",
            "Epoch 48/50\n",
            "105/105 [==============================] - 40s 379ms/step - loss: 0.1509 - accuracy: 0.9385 - val_loss: 0.2010 - val_accuracy: 0.9165\n",
            "Epoch 49/50\n",
            "105/105 [==============================] - 40s 377ms/step - loss: 0.1554 - accuracy: 0.9388 - val_loss: 0.2075 - val_accuracy: 0.9177\n",
            "Epoch 50/50\n",
            "105/105 [==============================] - 42s 401ms/step - loss: 0.1561 - accuracy: 0.9382 - val_loss: 0.2118 - val_accuracy: 0.9081\n"
          ]
        }
      ]
    },
    {
      "cell_type": "code",
      "source": [
        "Y_pred = model_mobilenet.predict(X_test)\n",
        "Y_pred_classes = np.argmax(Y_pred, axis=1)\n",
        "Y_true = np.argmax(Y_test, axis=1)\n",
        "\n",
        "conf_matrix = confusion_matrix(Y_true, Y_pred_classes)\n",
        "\n",
        "plt.figure(figsize=(8, 6))\n",
        "sns.heatmap(conf_matrix, annot=True, fmt=\"d\", cmap=\"Blues\", xticklabels=['Common Rust', 'Healthy', 'Gray Leaf Spot', 'Blight'], yticklabels=['Common Rust', 'Healthy', 'Gray Leaf Spot', 'Blight'])\n",
        "plt.xlabel('Predicted labels')\n",
        "plt.ylabel('True labels')\n",
        "plt.title('Confusion Matrix')\n",
        "plt.show()\n",
        "\n",
        "class_report = classification_report(Y_true, Y_pred_classes)\n",
        "\n",
        "print(\"\\nClassification Report:\")\n",
        "print(class_report)"
      ],
      "metadata": {
        "id": "W2svXyjyTjeo",
        "colab": {
          "base_uri": "https://localhost:8080/",
          "height": 807
        },
        "outputId": "c90b8845-0d80-43ad-800f-816840285584"
      },
      "execution_count": 18,
      "outputs": [
        {
          "output_type": "stream",
          "name": "stdout",
          "text": [
            "27/27 [==============================] - 1s 31ms/step\n"
          ]
        },
        {
          "output_type": "display_data",
          "data": {
            "text/plain": [
              "<Figure size 800x600 with 2 Axes>"
            ],
            "image/png": "[encoded data removed]"
          },
          "metadata": {}
        },
        {
          "output_type": "stream",
          "name": "stdout",
          "text": [
            "\n",
            "Classification Report:\n",
            "              precision    recall  f1-score   support\n",
            "\n",
            "           0       0.89      0.83      0.86       218\n",
            "           1       0.98      0.95      0.96       289\n",
            "           2       0.64      0.81      0.71       104\n",
            "           3       1.00      0.98      0.99       227\n",
            "\n",
            "    accuracy                           0.91       838\n",
            "   macro avg       0.88      0.89      0.88       838\n",
            "weighted avg       0.92      0.91      0.91       838\n",
            "\n"
          ]
        }
      ]
    },
    {
      "cell_type": "code",
      "source": [
        "tf.compat.v1.disable_v2_behavior()\n",
        "\n",
        "# Define the model\n",
        "model = tf.keras.applications.MobileNet(include_top=False, weights='imagenet', input_shape=(224, 224, 3))\n",
        "# Ensure the model is built and weights are loaded\n",
        "model.build((None, 224, 224, 3))\n",
        "\n",
        "# Run the function after the model is defined\n",
        "def get_flops_params():\n",
        "    sess_aha = tf.compat.v1.Session()\n",
        "    with sess_aha.as_default():\n",
        "        tf.compat.v1.keras.backend.set_session(sess_aha)\n",
        "        model = tf.keras.applications.MobileNet(include_top=False, weights='imagenet', input_shape=(224, 224, 3))\n",
        "        graph = sess_aha.graph\n",
        "        flops = tf.compat.v1.profiler.profile(graph, options=tf.compat.v1.profiler.ProfileOptionBuilder.float_operation())\n",
        "        params = tf.compat.v1.profiler.profile(graph, options=tf.compat.v1.profiler.ProfileOptionBuilder.trainable_variables_parameter())\n",
        "        if flops is not None and params is not None:\n",
        "            print('FLOPs: {};    Trainable params: {}'.format(flops.total_float_ops, params.total_parameters))\n",
        "\n",
        "get_flops_params()"
      ],
      "metadata": {
        "colab": {
          "base_uri": "https://localhost:8080/"
        },
        "id": "0Pxn3G_rTc9y",
        "outputId": "8ffbcc3b-c767-472b-89cb-00b763f088bd"
      },
      "execution_count": 19,
      "outputs": [
        {
          "output_type": "stream",
          "name": "stderr",
          "text": [
            "WARNING:tensorflow:From /usr/local/lib/python3.10/dist-packages/tensorflow/python/compat/v2_compat.py:108: disable_resource_variables (from tensorflow.python.ops.variable_scope) is deprecated and will be removed in a future version.\n",
            "Instructions for updating:\n",
            "non-resource variables are not supported in the long term\n",
            "WARNING:tensorflow:From /usr/local/lib/python3.10/dist-packages/keras/src/layers/normalization/batch_normalization.py:883: _colocate_with (from tensorflow.python.framework.ops) is deprecated and will be removed in a future version.\n",
            "Instructions for updating:\n",
            "Colocations handled automatically by placer.\n",
            "WARNING:tensorflow:From /usr/local/lib/python3.10/dist-packages/tensorflow/python/profiler/internal/flops_registry.py:140: tensor_shape_from_node_def_name (from tensorflow.python.framework.graph_util_impl) is deprecated and will be removed in a future version.\n",
            "Instructions for updating:\n",
            "This API was designed for TensorFlow v1. See https://www.tensorflow.org/guide/migrate for instructions on how to migrate your code to TensorFlow v2.\n",
            "54 ops no flops stats due to incomplete shapes.\n",
            "54 ops no flops stats due to incomplete shapes.\n"
          ]
        },
        {
          "output_type": "stream",
          "name": "stdout",
          "text": [
            "FLOPs: 12828066;    Trainable params: 6413952\n"
          ]
        }
      ]
    }
  ]
}