{
  "nbformat": 4,
  "nbformat_minor": 0,
  "metadata": {
    "colab": {
      "provenance": [],
      "gpuType": "T4",
      "include_colab_link": true
    },
    "kernelspec": {
      "name": "python3",
      "display_name": "Python 3"
    },
    "language_info": {
      "name": "python"
    },
    "accelerator": "GPU"
  },
  "cells": [
    {
      "cell_type": "markdown",
      "metadata": {
        "id": "view-in-github",
        "colab_type": "text"
      },
      "source": [
        "<a href=\"https://colab.research.google.com/github/Smjfirna/Arsitektur-Compration/blob/main/MobileNet%20final/WOTL%2010.ipynb\" target=\"_parent\"><img src=\"https://colab.research.google.com/assets/colab-badge.svg\" alt=\"Open In Colab\"/></a>"
      ]
    },
    {
      "cell_type": "code",
      "source": [
        "#Preprocessing\n",
        "import os\n",
        "import cv2\n",
        "import numpy as np\n",
        "from tqdm import tqdm\n",
        "from sklearn.model_selection import train_test_split\n",
        "from sklearn.preprocessing import LabelEncoder\n",
        "from keras.utils import to_categorical\n",
        "\n",
        "#Model dan Augmentasi\n",
        "import tensorflow as tf\n",
        "from tensorflow.keras.preprocessing.image import ImageDataGenerator\n",
        "from tensorflow.keras.models import Sequential\n",
        "from tensorflow.keras import layers, Model, regularizers\n",
        "from tensorflow.keras.callbacks import EarlyStopping\n",
        "from tensorflow.keras.layers import Conv2D, MaxPooling2D, Flatten, Dense, GlobalAveragePooling2D, Dropout\n",
        "from tensorflow.keras import layers, models, optimizers\n",
        "import os\n",
        "from tensorflow.keras.optimizers import Adam\n",
        "from tensorflow.keras.optimizers import RMSprop\n",
        "from tensorflow.keras.applications import MobileNet\n",
        "\n",
        "# Evaluasi\n",
        "#import torch\n",
        "#import torchvision.models as models\n",
        "#from thop import profile\n",
        "from sklearn.metrics import confusion_matrix, classification_report\n",
        "\n",
        "#Visualisasi\n",
        "import matplotlib.pyplot as plt\n",
        "import seaborn as sns\n",
        "import os\n",
        "import cv2\n",
        "import numpy as np\n",
        "from tqdm import tqdm\n",
        "from sklearn.model_selection import train_test_split\n",
        "from sklearn.preprocessing import LabelEncoder\n",
        "from keras.utils import to_categorical"
      ],
      "metadata": {
        "id": "NMN3beIVALVJ"
      },
      "execution_count": null,
      "outputs": []
    },
    {
      "cell_type": "code",
      "execution_count": null,
      "metadata": {
        "colab": {
          "base_uri": "https://localhost:8080/",
          "height": 90
        },
        "id": "GK3MPeDN_Ofu",
        "outputId": "73fd2ab9-a63c-454d-a220-16bc8d348dfa"
      },
      "outputs": [
        {
          "output_type": "display_data",
          "data": {
            "text/plain": [
              "<IPython.core.display.HTML object>"
            ],
            "text/html": [
              "\n",
              "     <input type=\"file\" id=\"files-b655c53b-9e28-483e-ba0f-628b71c008d0\" name=\"files[]\" multiple disabled\n",
              "        style=\"border:none\" />\n",
              "     <output id=\"result-b655c53b-9e28-483e-ba0f-628b71c008d0\">\n",
              "      Upload widget is only available when the cell has been executed in the\n",
              "      current browser session. Please rerun this cell to enable.\n",
              "      </output>\n",
              "      <script>// Copyright 2017 Google LLC\n",
              "//\n",
              "// Licensed under the Apache License, Version 2.0 (the \"License\");\n",
              "// you may not use this file except in compliance with the License.\n",
              "// You may obtain a copy of the License at\n",
              "//\n",
              "//      http://www.apache.org/licenses/LICENSE-2.0\n",
              "//\n",
              "// Unless required by applicable law or agreed to in writing, software\n",
              "// distributed under the License is distributed on an \"AS IS\" BASIS,\n",
              "// WITHOUT WARRANTIES OR CONDITIONS OF ANY KIND, either express or implied.\n",
              "// See the License for the specific language governing permissions and\n",
              "// limitations under the License.\n",
              "\n",
              "/**\n",
              " * @fileoverview Helpers for google.colab Python module.\n",
              " */\n",
              "(function(scope) {\n",
              "function span(text, styleAttributes = {}) {\n",
              "  const element = document.createElement('span');\n",
              "  element.textContent = text;\n",
              "  for (const key of Object.keys(styleAttributes)) {\n",
              "    element.style[key] = styleAttributes[key];\n",
              "  }\n",
              "  return element;\n",
              "}\n",
              "\n",
              "// Max number of bytes which will be uploaded at a time.\n",
              "const MAX_PAYLOAD_SIZE = 100 * 1024;\n",
              "\n",
              "function _uploadFiles(inputId, outputId) {\n",
              "  const steps = uploadFilesStep(inputId, outputId);\n",
              "  const outputElement = document.getElementById(outputId);\n",
              "  // Cache steps on the outputElement to make it available for the next call\n",
              "  // to uploadFilesContinue from Python.\n",
              "  outputElement.steps = steps;\n",
              "\n",
              "  return _uploadFilesContinue(outputId);\n",
              "}\n",
              "\n",
              "// This is roughly an async generator (not supported in the browser yet),\n",
              "// where there are multiple asynchronous steps and the Python side is going\n",
              "// to poll for completion of each step.\n",
              "// This uses a Promise to block the python side on completion of each step,\n",
              "// then passes the result of the previous step as the input to the next step.\n",
              "function _uploadFilesContinue(outputId) {\n",
              "  const outputElement = document.getElementById(outputId);\n",
              "  const steps = outputElement.steps;\n",
              "\n",
              "  const next = steps.next(outputElement.lastPromiseValue);\n",
              "  return Promise.resolve(next.value.promise).then((value) => {\n",
              "    // Cache the last promise value to make it available to the next\n",
              "    // step of the generator.\n",
              "    outputElement.lastPromiseValue = value;\n",
              "    return next.value.response;\n",
              "  });\n",
              "}\n",
              "\n",
              "/**\n",
              " * Generator function which is called between each async step of the upload\n",
              " * process.\n",
              " * @param {string} inputId Element ID of the input file picker element.\n",
              " * @param {string} outputId Element ID of the output display.\n",
              " * @return {!Iterable<!Object>} Iterable of next steps.\n",
              " */\n",
              "function* uploadFilesStep(inputId, outputId) {\n",
              "  const inputElement = document.getElementById(inputId);\n",
              "  inputElement.disabled = false;\n",
              "\n",
              "  const outputElement = document.getElementById(outputId);\n",
              "  outputElement.innerHTML = '';\n",
              "\n",
              "  const pickedPromise = new Promise((resolve) => {\n",
              "    inputElement.addEventListener('change', (e) => {\n",
              "      resolve(e.target.files);\n",
              "    });\n",
              "  });\n",
              "\n",
              "  const cancel = document.createElement('button');\n",
              "  inputElement.parentElement.appendChild(cancel);\n",
              "  cancel.textContent = 'Cancel upload';\n",
              "  const cancelPromise = new Promise((resolve) => {\n",
              "    cancel.onclick = () => {\n",
              "      resolve(null);\n",
              "    };\n",
              "  });\n",
              "\n",
              "  // Wait for the user to pick the files.\n",
              "  const files = yield {\n",
              "    promise: Promise.race([pickedPromise, cancelPromise]),\n",
              "    response: {\n",
              "      action: 'starting',\n",
              "    }\n",
              "  };\n",
              "\n",
              "  cancel.remove();\n",
              "\n",
              "  // Disable the input element since further picks are not allowed.\n",
              "  inputElement.disabled = true;\n",
              "\n",
              "  if (!files) {\n",
              "    return {\n",
              "      response: {\n",
              "        action: 'complete',\n",
              "      }\n",
              "    };\n",
              "  }\n",
              "\n",
              "  for (const file of files) {\n",
              "    const li = document.createElement('li');\n",
              "    li.append(span(file.name, {fontWeight: 'bold'}));\n",
              "    li.append(span(\n",
              "        `(${file.type || 'n/a'}) - ${file.size} bytes, ` +\n",
              "        `last modified: ${\n",
              "            file.lastModifiedDate ? file.lastModifiedDate.toLocaleDateString() :\n",
              "                                    'n/a'} - `));\n",
              "    const percent = span('0% done');\n",
              "    li.appendChild(percent);\n",
              "\n",
              "    outputElement.appendChild(li);\n",
              "\n",
              "    const fileDataPromise = new Promise((resolve) => {\n",
              "      const reader = new FileReader();\n",
              "      reader.onload = (e) => {\n",
              "        resolve(e.target.result);\n",
              "      };\n",
              "      reader.readAsArrayBuffer(file);\n",
              "    });\n",
              "    // Wait for the data to be ready.\n",
              "    let fileData = yield {\n",
              "      promise: fileDataPromise,\n",
              "      response: {\n",
              "        action: 'continue',\n",
              "      }\n",
              "    };\n",
              "\n",
              "    // Use a chunked sending to avoid message size limits. See b/62115660.\n",
              "    let position = 0;\n",
              "    do {\n",
              "      const length = Math.min(fileData.byteLength - position, MAX_PAYLOAD_SIZE);\n",
              "      const chunk = new Uint8Array(fileData, position, length);\n",
              "      position += length;\n",
              "\n",
              "      const base64 = btoa(String.fromCharCode.apply(null, chunk));\n",
              "      yield {\n",
              "        response: {\n",
              "          action: 'append',\n",
              "          file: file.name,\n",
              "          data: base64,\n",
              "        },\n",
              "      };\n",
              "\n",
              "      let percentDone = fileData.byteLength === 0 ?\n",
              "          100 :\n",
              "          Math.round((position / fileData.byteLength) * 100);\n",
              "      percent.textContent = `${percentDone}% done`;\n",
              "\n",
              "    } while (position < fileData.byteLength);\n",
              "  }\n",
              "\n",
              "  // All done.\n",
              "  yield {\n",
              "    response: {\n",
              "      action: 'complete',\n",
              "    }\n",
              "  };\n",
              "}\n",
              "\n",
              "scope.google = scope.google || {};\n",
              "scope.google.colab = scope.google.colab || {};\n",
              "scope.google.colab._files = {\n",
              "  _uploadFiles,\n",
              "  _uploadFilesContinue,\n",
              "};\n",
              "})(self);\n",
              "</script> "
            ]
          },
          "metadata": {}
        },
        {
          "output_type": "stream",
          "name": "stdout",
          "text": [
            "Saving kaggle.json to kaggle.json\n"
          ]
        },
        {
          "output_type": "execute_result",
          "data": {
            "text/plain": [
              "{'kaggle.json': b'{\"username\":\"smjayyy\",\"key\":\"8eb172e224d83c7b56b4a2ef349b7c0d\"}'}"
            ]
          },
          "metadata": {},
          "execution_count": 2
        }
      ],
      "source": [
        "from google.colab import files\n",
        "files.upload()"
      ]
    },
    {
      "cell_type": "code",
      "source": [
        "!mkdir -p ~/.kaggle\n",
        "!cp kaggle.json ~/.kaggle/\n",
        "!chmod 600 ~/.kaggle/kaggle.json"
      ],
      "metadata": {
        "id": "Y9Kia11G_5Si"
      },
      "execution_count": null,
      "outputs": []
    },
    {
      "cell_type": "code",
      "source": [
        "!kaggle datasets download -d smaranjitghose/corn-or-maize-leaf-disease-dataset"
      ],
      "metadata": {
        "colab": {
          "base_uri": "https://localhost:8080/"
        },
        "id": "apfKVlxj_8FJ",
        "outputId": "0f53549f-d1cf-419c-cc2f-eaf1241bce81"
      },
      "execution_count": null,
      "outputs": [
        {
          "output_type": "stream",
          "name": "stdout",
          "text": [
            "Dataset URL: https://www.kaggle.com/datasets/smaranjitghose/corn-or-maize-leaf-disease-dataset\n",
            "License(s): copyright-authors\n",
            "Downloading corn-or-maize-leaf-disease-dataset.zip to /content\n",
            " 97% 156M/161M [00:01<00:00, 106MB/s]\n",
            "100% 161M/161M [00:01<00:00, 113MB/s]\n"
          ]
        }
      ]
    },
    {
      "cell_type": "code",
      "source": [
        "!unzip -q corn-or-maize-leaf-disease-dataset.zip -d /content"
      ],
      "metadata": {
        "id": "ixMUoB2rAAd3"
      },
      "execution_count": null,
      "outputs": []
    },
    {
      "cell_type": "code",
      "source": [
        "dataset_dir = '/content/data'"
      ],
      "metadata": {
        "id": "pZ8IerIQAGFO"
      },
      "execution_count": null,
      "outputs": []
    },
    {
      "cell_type": "code",
      "source": [
        "print(os.listdir(dataset_dir))"
      ],
      "metadata": {
        "colab": {
          "base_uri": "https://localhost:8080/"
        },
        "id": "9wwka8QaAIcj",
        "outputId": "a61a89e6-573c-43d1-ca4c-e21b4181dd28"
      },
      "execution_count": null,
      "outputs": [
        {
          "output_type": "stream",
          "name": "stdout",
          "text": [
            "['Blight', 'Healthy', 'Gray_Leaf_Spot', 'Common_Rust']\n"
          ]
        }
      ]
    },
    {
      "cell_type": "code",
      "source": [
        "IMAGE_SIZE_mobilenet = 224"
      ],
      "metadata": {
        "id": "_UCEuA-hAPSa"
      },
      "execution_count": null,
      "outputs": []
    },
    {
      "cell_type": "code",
      "source": [
        "def make_data(label, DIR, img_list, label_list):\n",
        "    for img in tqdm(os.listdir(DIR)):\n",
        "        path = os.path.join(DIR, img)\n",
        "        img = cv2.imread(path, cv2.IMREAD_COLOR)\n",
        "        img = cv2.resize(img, (IMAGE_SIZE_mobilenet, IMAGE_SIZE_mobilenet))\n",
        "        img_list.append(np.array(img))\n",
        "        label_list.append(str(label))"
      ],
      "metadata": {
        "id": "B3menIgvARk5"
      },
      "execution_count": null,
      "outputs": []
    },
    {
      "cell_type": "code",
      "source": [
        "X = []\n",
        "Z = []"
      ],
      "metadata": {
        "id": "Jn6gWefxATyU"
      },
      "execution_count": null,
      "outputs": []
    },
    {
      "cell_type": "code",
      "source": [
        "for i, class_name in enumerate(['Common_Rust', 'Healthy', 'Gray_Leaf_Spot', 'Blight']):\n",
        "    class_dir = os.path.join(dataset_dir, class_name)\n",
        "    make_data(class_name, class_dir, X, Z)"
      ],
      "metadata": {
        "colab": {
          "base_uri": "https://localhost:8080/"
        },
        "id": "S9-RQTGJAWCk",
        "outputId": "15183cb2-ba31-418f-db1a-94e569cbfe8a"
      },
      "execution_count": null,
      "outputs": [
        {
          "output_type": "stream",
          "name": "stderr",
          "text": [
            "100%|██████████| 1306/1306 [00:04<00:00, 312.89it/s]\n",
            "100%|██████████| 1162/1162 [00:01<00:00, 932.16it/s]\n",
            "100%|██████████| 574/574 [00:01<00:00, 376.13it/s]\n",
            "100%|██████████| 1146/1146 [00:05<00:00, 200.01it/s]\n"
          ]
        }
      ]
    },
    {
      "cell_type": "code",
      "source": [
        "import matplotlib.pyplot as plt\n",
        "\n",
        "# Menghitung jumlah data untuk setiap kelas\n",
        "class_counts = {class_name: Z.count(class_name) for class_name in set(Z)}\n",
        "\n",
        "# Menampilkan visualisasi jumlah data\n",
        "plt.figure(figsize=(8, 6))\n",
        "plt.bar(class_counts.keys(), class_counts.values())\n",
        "plt.xlabel('Class')\n",
        "plt.ylabel('Count')\n",
        "plt.title('Number of Data Samples for Each Class')\n",
        "plt.show()"
      ],
      "metadata": {
        "colab": {
          "base_uri": "https://localhost:8080/",
          "height": 564
        },
        "id": "-IcXHIM8Akcw",
        "outputId": "54b1210b-7e45-45f9-a248-5b8b4a5bb7ec"
      },
      "execution_count": null,
      "outputs": [
        {
          "output_type": "display_data",
          "data": {
            "text/plain": [
              "<Figure size 800x600 with 1 Axes>"
            ],
            "image/png": "[encoded data removed]"
          },
          "metadata": {}
        }
      ]
    },
    {
      "cell_type": "code",
      "source": [
        "le = LabelEncoder()\n",
        "Y = le.fit_transform(Z)\n",
        "Y = to_categorical(Y, num_classes=len(le.classes_))\n",
        "\n",
        "X = np.array(X)\n",
        "\n",
        "X_train, X_test, Y_train, Y_test = train_test_split(X, Y, test_size=0.2, random_state=42)\n",
        "\n",
        "print(\"Jumlah Data Train adalah :\", len(X_train))\n",
        "print(\"Jumlah Data Test adalah :\", len(X_test))"
      ],
      "metadata": {
        "colab": {
          "base_uri": "https://localhost:8080/"
        },
        "id": "OI7kvVbXAqko",
        "outputId": "313cbc04-77bd-4501-d782-28dc90c06811"
      },
      "execution_count": null,
      "outputs": [
        {
          "output_type": "stream",
          "name": "stdout",
          "text": [
            "Jumlah Data Train adalah : 3350\n",
            "Jumlah Data Test adalah : 838\n"
          ]
        }
      ]
    },
    {
      "cell_type": "code",
      "source": [
        "datagen = ImageDataGenerator(\n",
        "    rotation_range=20,\n",
        "    zoom_range=0.2,\n",
        "    horizontal_flip=True,\n",
        "    vertical_flip=True\n",
        ")\n",
        "\n",
        "datagen.fit(X_train)"
      ],
      "metadata": {
        "id": "ue5XLCIlA2ld"
      },
      "execution_count": null,
      "outputs": []
    },
    {
      "cell_type": "code",
      "source": [
        "NUM_CLASSES = 4\n",
        "LEARNING_RATE = 1e-4\n",
        "\n",
        "# Fungsi untuk membuat arsitektur MobileNet\n",
        "def build_mobilenet(input_shape, num_classes):\n",
        "    model = models.Sequential()\n",
        "\n",
        "    # Conv block 1\n",
        "    model.add(layers.Conv2D(32, (3, 3), padding='same', use_bias=False, input_shape=input_shape))\n",
        "    model.add(layers.BatchNormalization())\n",
        "    model.add(layers.ReLU(6.))\n",
        "\n",
        "    # Depthwise Separable Convolution blocks\n",
        "    def depthwise_separable_conv(filters, strides):\n",
        "        model.add(layers.DepthwiseConv2D((3, 3), padding='same', strides=strides, use_bias=False))\n",
        "        model.add(layers.BatchNormalization())\n",
        "        model.add(layers.ReLU(6.))\n",
        "        model.add(layers.Conv2D(filters, (1, 1), padding='same', use_bias=False))\n",
        "        model.add(layers.BatchNormalization())\n",
        "        model.add(layers.ReLU(6.))\n",
        "\n",
        "    depthwise_separable_conv(64, (1, 1))\n",
        "    depthwise_separable_conv(128, (2, 2))\n",
        "    depthwise_separable_conv(128, (1, 1))\n",
        "    depthwise_separable_conv(256, (2, 2))\n",
        "    depthwise_separable_conv(256, (1, 1))\n",
        "    depthwise_separable_conv(512, (2, 2))\n",
        "    for _ in range(5):\n",
        "        depthwise_separable_conv(512, (1, 1))\n",
        "    depthwise_separable_conv(1024, (2, 2))\n",
        "    depthwise_separable_conv(1024, (1, 1))\n",
        "\n",
        "    # Fully connected layers\n",
        "    model.add(layers.GlobalAveragePooling2D())\n",
        "    model.add(layers.Dense(num_classes, activation='softmax'))\n",
        "\n",
        "    return model\n",
        "\n",
        "# Buat model MobileNet tanpa transfer learning\n",
        "model_mobilenet = build_mobilenet(input_shape=(IMAGE_SIZE_mobilenet, IMAGE_SIZE_mobilenet, 3), num_classes=NUM_CLASSES)\n",
        "\n",
        "# Kompilasi model\n",
        "model_mobilenet.compile(optimizer=optimizers.Adam(learning_rate=LEARNING_RATE), loss='categorical_crossentropy', metrics=['accuracy'])\n",
        "\n",
        "# Ringkasan model\n",
        "model_mobilenet.summary()\n",
        "\n",
        "history = model_mobilenet.fit(X_train, Y_train, epochs=10, batch_size=32, validation_data=(X_test, Y_test))"
      ],
      "metadata": {
        "id": "qg6h8yY_A62R",
        "colab": {
          "base_uri": "https://localhost:8080/"
        },
        "outputId": "5344de8b-46b5-4420-f759-7284e52e5961"
      },
      "execution_count": null,
      "outputs": [
        {
          "output_type": "stream",
          "name": "stdout",
          "text": [
            "Model: \"sequential\"\n",
            "_________________________________________________________________\n",
            " Layer (type)                Output Shape              Param #   \n",
            "=================================================================\n",
            " conv2d (Conv2D)             (None, 224, 224, 32)      864       \n",
            "                                                                 \n",
            " batch_normalization (Batch  (None, 224, 224, 32)      128       \n",
            " Normalization)                                                  \n",
            "                                                                 \n",
            " re_lu (ReLU)                (None, 224, 224, 32)      0         \n",
            "                                                                 \n",
            " depthwise_conv2d (Depthwis  (None, 224, 224, 32)      288       \n",
            " eConv2D)                                                        \n",
            "                                                                 \n",
            " batch_normalization_1 (Bat  (None, 224, 224, 32)      128       \n",
            " chNormalization)                                                \n",
            "                                                                 \n",
            " re_lu_1 (ReLU)              (None, 224, 224, 32)      0         \n",
            "                                                                 \n",
            " conv2d_1 (Conv2D)           (None, 224, 224, 64)      2048      \n",
            "                                                                 \n",
            " batch_normalization_2 (Bat  (None, 224, 224, 64)      256       \n",
            " chNormalization)                                                \n",
            "                                                                 \n",
            " re_lu_2 (ReLU)              (None, 224, 224, 64)      0         \n",
            "                                                                 \n",
            " depthwise_conv2d_1 (Depthw  (None, 112, 112, 64)      576       \n",
            " iseConv2D)                                                      \n",
            "                                                                 \n",
            " batch_normalization_3 (Bat  (None, 112, 112, 64)      256       \n",
            " chNormalization)                                                \n",
            "                                                                 \n",
            " re_lu_3 (ReLU)              (None, 112, 112, 64)      0         \n",
            "                                                                 \n",
            " conv2d_2 (Conv2D)           (None, 112, 112, 128)     8192      \n",
            "                                                                 \n",
            " batch_normalization_4 (Bat  (None, 112, 112, 128)     512       \n",
            " chNormalization)                                                \n",
            "                                                                 \n",
            " re_lu_4 (ReLU)              (None, 112, 112, 128)     0         \n",
            "                                                                 \n",
            " depthwise_conv2d_2 (Depthw  (None, 112, 112, 128)     1152      \n",
            " iseConv2D)                                                      \n",
            "                                                                 \n",
            " batch_normalization_5 (Bat  (None, 112, 112, 128)     512       \n",
            " chNormalization)                                                \n",
            "                                                                 \n",
            " re_lu_5 (ReLU)              (None, 112, 112, 128)     0         \n",
            "                                                                 \n",
            " conv2d_3 (Conv2D)           (None, 112, 112, 128)     16384     \n",
            "                                                                 \n",
            " batch_normalization_6 (Bat  (None, 112, 112, 128)     512       \n",
            " chNormalization)                                                \n",
            "                                                                 \n",
            " re_lu_6 (ReLU)              (None, 112, 112, 128)     0         \n",
            "                                                                 \n",
            " depthwise_conv2d_3 (Depthw  (None, 56, 56, 128)       1152      \n",
            " iseConv2D)                                                      \n",
            "                                                                 \n",
            " batch_normalization_7 (Bat  (None, 56, 56, 128)       512       \n",
            " chNormalization)                                                \n",
            "                                                                 \n",
            " re_lu_7 (ReLU)              (None, 56, 56, 128)       0         \n",
            "                                                                 \n",
            " conv2d_4 (Conv2D)           (None, 56, 56, 256)       32768     \n",
            "                                                                 \n",
            " batch_normalization_8 (Bat  (None, 56, 56, 256)       1024      \n",
            " chNormalization)                                                \n",
            "                                                                 \n",
            " re_lu_8 (ReLU)              (None, 56, 56, 256)       0         \n",
            "                                                                 \n",
            " depthwise_conv2d_4 (Depthw  (None, 56, 56, 256)       2304      \n",
            " iseConv2D)                                                      \n",
            "                                                                 \n",
            " batch_normalization_9 (Bat  (None, 56, 56, 256)       1024      \n",
            " chNormalization)                                                \n",
            "                                                                 \n",
            " re_lu_9 (ReLU)              (None, 56, 56, 256)       0         \n",
            "                                                                 \n",
            " conv2d_5 (Conv2D)           (None, 56, 56, 256)       65536     \n",
            "                                                                 \n",
            " batch_normalization_10 (Ba  (None, 56, 56, 256)       1024      \n",
            " tchNormalization)                                               \n",
            "                                                                 \n",
            " re_lu_10 (ReLU)             (None, 56, 56, 256)       0         \n",
            "                                                                 \n",
            " depthwise_conv2d_5 (Depthw  (None, 28, 28, 256)       2304      \n",
            " iseConv2D)                                                      \n",
            "                                                                 \n",
            " batch_normalization_11 (Ba  (None, 28, 28, 256)       1024      \n",
            " tchNormalization)                                               \n",
            "                                                                 \n",
            " re_lu_11 (ReLU)             (None, 28, 28, 256)       0         \n",
            "                                                                 \n",
            " conv2d_6 (Conv2D)           (None, 28, 28, 512)       131072    \n",
            "                                                                 \n",
            " batch_normalization_12 (Ba  (None, 28, 28, 512)       2048      \n",
            " tchNormalization)                                               \n",
            "                                                                 \n",
            " re_lu_12 (ReLU)             (None, 28, 28, 512)       0         \n",
            "                                                                 \n",
            " depthwise_conv2d_6 (Depthw  (None, 28, 28, 512)       4608      \n",
            " iseConv2D)                                                      \n",
            "                                                                 \n",
            " batch_normalization_13 (Ba  (None, 28, 28, 512)       2048      \n",
            " tchNormalization)                                               \n",
            "                                                                 \n",
            " re_lu_13 (ReLU)             (None, 28, 28, 512)       0         \n",
            "                                                                 \n",
            " conv2d_7 (Conv2D)           (None, 28, 28, 512)       262144    \n",
            "                                                                 \n",
            " batch_normalization_14 (Ba  (None, 28, 28, 512)       2048      \n",
            " tchNormalization)                                               \n",
            "                                                                 \n",
            " re_lu_14 (ReLU)             (None, 28, 28, 512)       0         \n",
            "                                                                 \n",
            " depthwise_conv2d_7 (Depthw  (None, 28, 28, 512)       4608      \n",
            " iseConv2D)                                                      \n",
            "                                                                 \n",
            " batch_normalization_15 (Ba  (None, 28, 28, 512)       2048      \n",
            " tchNormalization)                                               \n",
            "                                                                 \n",
            " re_lu_15 (ReLU)             (None, 28, 28, 512)       0         \n",
            "                                                                 \n",
            " conv2d_8 (Conv2D)           (None, 28, 28, 512)       262144    \n",
            "                                                                 \n",
            " batch_normalization_16 (Ba  (None, 28, 28, 512)       2048      \n",
            " tchNormalization)                                               \n",
            "                                                                 \n",
            " re_lu_16 (ReLU)             (None, 28, 28, 512)       0         \n",
            "                                                                 \n",
            " depthwise_conv2d_8 (Depthw  (None, 28, 28, 512)       4608      \n",
            " iseConv2D)                                                      \n",
            "                                                                 \n",
            " batch_normalization_17 (Ba  (None, 28, 28, 512)       2048      \n",
            " tchNormalization)                                               \n",
            "                                                                 \n",
            " re_lu_17 (ReLU)             (None, 28, 28, 512)       0         \n",
            "                                                                 \n",
            " conv2d_9 (Conv2D)           (None, 28, 28, 512)       262144    \n",
            "                                                                 \n",
            " batch_normalization_18 (Ba  (None, 28, 28, 512)       2048      \n",
            " tchNormalization)                                               \n",
            "                                                                 \n",
            " re_lu_18 (ReLU)             (None, 28, 28, 512)       0         \n",
            "                                                                 \n",
            " depthwise_conv2d_9 (Depthw  (None, 28, 28, 512)       4608      \n",
            " iseConv2D)                                                      \n",
            "                                                                 \n",
            " batch_normalization_19 (Ba  (None, 28, 28, 512)       2048      \n",
            " tchNormalization)                                               \n",
            "                                                                 \n",
            " re_lu_19 (ReLU)             (None, 28, 28, 512)       0         \n",
            "                                                                 \n",
            " conv2d_10 (Conv2D)          (None, 28, 28, 512)       262144    \n",
            "                                                                 \n",
            " batch_normalization_20 (Ba  (None, 28, 28, 512)       2048      \n",
            " tchNormalization)                                               \n",
            "                                                                 \n",
            " re_lu_20 (ReLU)             (None, 28, 28, 512)       0         \n",
            "                                                                 \n",
            " depthwise_conv2d_10 (Depth  (None, 28, 28, 512)       4608      \n",
            " wiseConv2D)                                                     \n",
            "                                                                 \n",
            " batch_normalization_21 (Ba  (None, 28, 28, 512)       2048      \n",
            " tchNormalization)                                               \n",
            "                                                                 \n",
            " re_lu_21 (ReLU)             (None, 28, 28, 512)       0         \n",
            "                                                                 \n",
            " conv2d_11 (Conv2D)          (None, 28, 28, 512)       262144    \n",
            "                                                                 \n",
            " batch_normalization_22 (Ba  (None, 28, 28, 512)       2048      \n",
            " tchNormalization)                                               \n",
            "                                                                 \n",
            " re_lu_22 (ReLU)             (None, 28, 28, 512)       0         \n",
            "                                                                 \n",
            " depthwise_conv2d_11 (Depth  (None, 14, 14, 512)       4608      \n",
            " wiseConv2D)                                                     \n",
            "                                                                 \n",
            " batch_normalization_23 (Ba  (None, 14, 14, 512)       2048      \n",
            " tchNormalization)                                               \n",
            "                                                                 \n",
            " re_lu_23 (ReLU)             (None, 14, 14, 512)       0         \n",
            "                                                                 \n",
            " conv2d_12 (Conv2D)          (None, 14, 14, 1024)      524288    \n",
            "                                                                 \n",
            " batch_normalization_24 (Ba  (None, 14, 14, 1024)      4096      \n",
            " tchNormalization)                                               \n",
            "                                                                 \n",
            " re_lu_24 (ReLU)             (None, 14, 14, 1024)      0         \n",
            "                                                                 \n",
            " depthwise_conv2d_12 (Depth  (None, 14, 14, 1024)      9216      \n",
            " wiseConv2D)                                                     \n",
            "                                                                 \n",
            " batch_normalization_25 (Ba  (None, 14, 14, 1024)      4096      \n",
            " tchNormalization)                                               \n",
            "                                                                 \n",
            " re_lu_25 (ReLU)             (None, 14, 14, 1024)      0         \n",
            "                                                                 \n",
            " conv2d_13 (Conv2D)          (None, 14, 14, 1024)      1048576   \n",
            "                                                                 \n",
            " batch_normalization_26 (Ba  (None, 14, 14, 1024)      4096      \n",
            " tchNormalization)                                               \n",
            "                                                                 \n",
            " re_lu_26 (ReLU)             (None, 14, 14, 1024)      0         \n",
            "                                                                 \n",
            " global_average_pooling2d (  (None, 1024)              0         \n",
            " GlobalAveragePooling2D)                                         \n",
            "                                                                 \n",
            " dense (Dense)               (None, 4)                 4100      \n",
            "                                                                 \n",
            "=================================================================\n",
            "Total params: 3232964 (12.33 MB)\n",
            "Trainable params: 3211076 (12.25 MB)\n",
            "Non-trainable params: 21888 (85.50 KB)\n",
            "_________________________________________________________________\n",
            "Epoch 1/10\n",
            "105/105 [==============================] - 69s 461ms/step - loss: 0.7155 - accuracy: 0.7003 - val_loss: 1.8523 - val_accuracy: 0.2709\n",
            "Epoch 2/10\n",
            "105/105 [==============================] - 44s 423ms/step - loss: 0.3952 - accuracy: 0.8373 - val_loss: 2.6916 - val_accuracy: 0.2709\n",
            "Epoch 3/10\n",
            "105/105 [==============================] - 44s 415ms/step - loss: 0.3415 - accuracy: 0.8457 - val_loss: 3.4593 - val_accuracy: 0.2709\n",
            "Epoch 4/10\n",
            "105/105 [==============================] - 44s 419ms/step - loss: 0.3189 - accuracy: 0.8684 - val_loss: 4.6183 - val_accuracy: 0.2709\n",
            "Epoch 5/10\n",
            "105/105 [==============================] - 44s 417ms/step - loss: 0.2887 - accuracy: 0.8803 - val_loss: 7.0316 - val_accuracy: 0.2709\n",
            "Epoch 6/10\n",
            "105/105 [==============================] - 44s 418ms/step - loss: 0.2570 - accuracy: 0.8931 - val_loss: 9.1516 - val_accuracy: 0.2709\n",
            "Epoch 7/10\n",
            "105/105 [==============================] - 46s 442ms/step - loss: 0.2262 - accuracy: 0.9051 - val_loss: 6.9314 - val_accuracy: 0.2816\n",
            "Epoch 8/10\n",
            "105/105 [==============================] - 44s 419ms/step - loss: 0.2089 - accuracy: 0.9185 - val_loss: 1.2171 - val_accuracy: 0.6480\n",
            "Epoch 9/10\n",
            "105/105 [==============================] - 46s 441ms/step - loss: 0.1924 - accuracy: 0.9200 - val_loss: 0.3308 - val_accuracy: 0.8723\n",
            "Epoch 10/10\n",
            "105/105 [==============================] - 44s 418ms/step - loss: 0.1549 - accuracy: 0.9343 - val_loss: 0.5433 - val_accuracy: 0.8520\n"
          ]
        }
      ]
    },
    {
      "cell_type": "code",
      "source": [
        "Y_pred = model_mobilenet.predict(X_test)\n",
        "Y_pred_classes = np.argmax(Y_pred, axis=1)\n",
        "Y_true = np.argmax(Y_test, axis=1)\n",
        "\n",
        "conf_matrix = confusion_matrix(Y_true, Y_pred_classes)\n",
        "\n",
        "plt.figure(figsize=(8, 6))\n",
        "sns.heatmap(conf_matrix, annot=True, fmt=\"d\", cmap=\"Blues\", xticklabels=['Common Rust', 'Healthy', 'Gray Leaf Spot', 'Blight'], yticklabels=['Common Rust', 'Healthy', 'Gray Leaf Spot', 'Blight'])\n",
        "plt.xlabel('Predicted labels')\n",
        "plt.ylabel('True labels')\n",
        "plt.title('Confusion Matrix')\n",
        "plt.show()\n",
        "\n",
        "class_report = classification_report(Y_true, Y_pred_classes)\n",
        "\n",
        "print(\"\\nClassification Report:\")\n",
        "print(class_report)"
      ],
      "metadata": {
        "id": "W2svXyjyTjeo",
        "colab": {
          "base_uri": "https://localhost:8080/",
          "height": 807
        },
        "outputId": "20a61046-1016-4c56-c9d8-e08afa069cbd"
      },
      "execution_count": null,
      "outputs": [
        {
          "output_type": "stream",
          "name": "stdout",
          "text": [
            "27/27 [==============================] - 3s 106ms/step\n"
          ]
        },
        {
          "output_type": "display_data",
          "data": {
            "text/plain": [
              "<Figure size 800x600 with 2 Axes>"
            ],
            "image/png": "[encoded data removed]"
          },
          "metadata": {}
        },
        {
          "output_type": "stream",
          "name": "stdout",
          "text": [
            "\n",
            "Classification Report:\n",
            "              precision    recall  f1-score   support\n",
            "\n",
            "           0       0.65      0.97      0.78       218\n",
            "           1       0.97      0.94      0.96       289\n",
            "           2       0.85      0.11      0.19       104\n",
            "           3       1.00      0.97      0.98       227\n",
            "\n",
            "    accuracy                           0.85       838\n",
            "   macro avg       0.87      0.75      0.73       838\n",
            "weighted avg       0.88      0.85      0.82       838\n",
            "\n"
          ]
        }
      ]
    },
    {
      "cell_type": "code",
      "source": [
        "from tensorflow.python.framework.convert_to_constants import convert_variables_to_constants_v2_as_graph\n",
        "\n",
        "def get_flops(model, batch_size=1):\n",
        "    concrete_func = tf.function(model).get_concrete_function(\n",
        "        tf.TensorSpec([batch_size] + [dim for dim in model.input.shape[1:]], model.input.dtype))\n",
        "\n",
        "    frozen_func, graph_def = convert_variables_to_constants_v2_as_graph(concrete_func)\n",
        "\n",
        "    run_meta = tf.compat.v1.RunMetadata()\n",
        "    opts = tf.compat.v1.profiler.ProfileOptionBuilder.float_operation()\n",
        "\n",
        "    flops = tf.compat.v1.profiler.profile(graph=frozen_func.graph,\n",
        "                                          run_meta=run_meta, cmd='op', options=opts)\n",
        "\n",
        "    return flops.total_float_ops\n",
        "\n",
        "# Calculate FLOPs\n",
        "flops = get_flops(model_mobilenet)\n",
        "print(f\"FLOPs: {flops}\")"
      ],
      "metadata": {
        "colab": {
          "base_uri": "https://localhost:8080/"
        },
        "id": "CZ28zHhIU9_c",
        "outputId": "f2986810-3f7b-4416-99de-bb141b2ce024"
      },
      "execution_count": null,
      "outputs": [
        {
          "output_type": "stream",
          "name": "stderr",
          "text": [
            "WARNING:tensorflow:From /usr/local/lib/python3.10/dist-packages/tensorflow/python/ops/nn_ops.py:5256: tensor_shape_from_node_def_name (from tensorflow.python.framework.graph_util_impl) is deprecated and will be removed in a future version.\n",
            "Instructions for updating:\n",
            "This API was designed for TensorFlow v1. See https://www.tensorflow.org/guide/migrate for instructions on how to migrate your code to TensorFlow v2.\n"
          ]
        },
        {
          "output_type": "stream",
          "name": "stdout",
          "text": [
            "FLOPs: 4541939736\n"
          ]
        }
      ]
    }
  ]
}