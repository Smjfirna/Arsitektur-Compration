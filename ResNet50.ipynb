{
  "nbformat": 4,
  "nbformat_minor": 0,
  "metadata": {
    "colab": {
      "provenance": [],
      "gpuType": "T4",
      "authorship_tag": "ABX9TyNDbEb4HYlAMGs04xkmeagF",
      "include_colab_link": true
    },
    "kernelspec": {
      "name": "python3",
      "display_name": "Python 3"
    },
    "language_info": {
      "name": "python"
    },
    "accelerator": "GPU"
  },
  "cells": [
    {
      "cell_type": "markdown",
      "metadata": {
        "id": "view-in-github",
        "colab_type": "text"
      },
      "source": [
        "<a href=\"https://colab.research.google.com/github/Smjfirna/Arsitektur-Compration/blob/main/ResNet50.ipynb\" target=\"_parent\"><img src=\"https://colab.research.google.com/assets/colab-badge.svg\" alt=\"Open In Colab\"/></a>"
      ]
    },
    {
      "cell_type": "code",
      "execution_count": 1,
      "metadata": {
        "colab": {
          "base_uri": "https://localhost:8080/",
          "height": 90
        },
        "id": "U2ZjeqDY_jzs",
        "outputId": "34266a59-0404-40a7-8193-2c940f9e7ef9"
      },
      "outputs": [
        {
          "output_type": "display_data",
          "data": {
            "text/plain": [
              "<IPython.core.display.HTML object>"
            ],
            "text/html": [
              "\n",
              "     <input type=\"file\" id=\"files-92bb3f89-91d1-4b0c-88e5-db77848c1b0a\" name=\"files[]\" multiple disabled\n",
              "        style=\"border:none\" />\n",
              "     <output id=\"result-92bb3f89-91d1-4b0c-88e5-db77848c1b0a\">\n",
              "      Upload widget is only available when the cell has been executed in the\n",
              "      current browser session. Please rerun this cell to enable.\n",
              "      </output>\n",
              "      <script>// Copyright 2017 Google LLC\n",
              "//\n",
              "// Licensed under the Apache License, Version 2.0 (the \"License\");\n",
              "// you may not use this file except in compliance with the License.\n",
              "// You may obtain a copy of the License at\n",
              "//\n",
              "//      http://www.apache.org/licenses/LICENSE-2.0\n",
              "//\n",
              "// Unless required by applicable law or agreed to in writing, software\n",
              "// distributed under the License is distributed on an \"AS IS\" BASIS,\n",
              "// WITHOUT WARRANTIES OR CONDITIONS OF ANY KIND, either express or implied.\n",
              "// See the License for the specific language governing permissions and\n",
              "// limitations under the License.\n",
              "\n",
              "/**\n",
              " * @fileoverview Helpers for google.colab Python module.\n",
              " */\n",
              "(function(scope) {\n",
              "function span(text, styleAttributes = {}) {\n",
              "  const element = document.createElement('span');\n",
              "  element.textContent = text;\n",
              "  for (const key of Object.keys(styleAttributes)) {\n",
              "    element.style[key] = styleAttributes[key];\n",
              "  }\n",
              "  return element;\n",
              "}\n",
              "\n",
              "// Max number of bytes which will be uploaded at a time.\n",
              "const MAX_PAYLOAD_SIZE = 100 * 1024;\n",
              "\n",
              "function _uploadFiles(inputId, outputId) {\n",
              "  const steps = uploadFilesStep(inputId, outputId);\n",
              "  const outputElement = document.getElementById(outputId);\n",
              "  // Cache steps on the outputElement to make it available for the next call\n",
              "  // to uploadFilesContinue from Python.\n",
              "  outputElement.steps = steps;\n",
              "\n",
              "  return _uploadFilesContinue(outputId);\n",
              "}\n",
              "\n",
              "// This is roughly an async generator (not supported in the browser yet),\n",
              "// where there are multiple asynchronous steps and the Python side is going\n",
              "// to poll for completion of each step.\n",
              "// This uses a Promise to block the python side on completion of each step,\n",
              "// then passes the result of the previous step as the input to the next step.\n",
              "function _uploadFilesContinue(outputId) {\n",
              "  const outputElement = document.getElementById(outputId);\n",
              "  const steps = outputElement.steps;\n",
              "\n",
              "  const next = steps.next(outputElement.lastPromiseValue);\n",
              "  return Promise.resolve(next.value.promise).then((value) => {\n",
              "    // Cache the last promise value to make it available to the next\n",
              "    // step of the generator.\n",
              "    outputElement.lastPromiseValue = value;\n",
              "    return next.value.response;\n",
              "  });\n",
              "}\n",
              "\n",
              "/**\n",
              " * Generator function which is called between each async step of the upload\n",
              " * process.\n",
              " * @param {string} inputId Element ID of the input file picker element.\n",
              " * @param {string} outputId Element ID of the output display.\n",
              " * @return {!Iterable<!Object>} Iterable of next steps.\n",
              " */\n",
              "function* uploadFilesStep(inputId, outputId) {\n",
              "  const inputElement = document.getElementById(inputId);\n",
              "  inputElement.disabled = false;\n",
              "\n",
              "  const outputElement = document.getElementById(outputId);\n",
              "  outputElement.innerHTML = '';\n",
              "\n",
              "  const pickedPromise = new Promise((resolve) => {\n",
              "    inputElement.addEventListener('change', (e) => {\n",
              "      resolve(e.target.files);\n",
              "    });\n",
              "  });\n",
              "\n",
              "  const cancel = document.createElement('button');\n",
              "  inputElement.parentElement.appendChild(cancel);\n",
              "  cancel.textContent = 'Cancel upload';\n",
              "  const cancelPromise = new Promise((resolve) => {\n",
              "    cancel.onclick = () => {\n",
              "      resolve(null);\n",
              "    };\n",
              "  });\n",
              "\n",
              "  // Wait for the user to pick the files.\n",
              "  const files = yield {\n",
              "    promise: Promise.race([pickedPromise, cancelPromise]),\n",
              "    response: {\n",
              "      action: 'starting',\n",
              "    }\n",
              "  };\n",
              "\n",
              "  cancel.remove();\n",
              "\n",
              "  // Disable the input element since further picks are not allowed.\n",
              "  inputElement.disabled = true;\n",
              "\n",
              "  if (!files) {\n",
              "    return {\n",
              "      response: {\n",
              "        action: 'complete',\n",
              "      }\n",
              "    };\n",
              "  }\n",
              "\n",
              "  for (const file of files) {\n",
              "    const li = document.createElement('li');\n",
              "    li.append(span(file.name, {fontWeight: 'bold'}));\n",
              "    li.append(span(\n",
              "        `(${file.type || 'n/a'}) - ${file.size} bytes, ` +\n",
              "        `last modified: ${\n",
              "            file.lastModifiedDate ? file.lastModifiedDate.toLocaleDateString() :\n",
              "                                    'n/a'} - `));\n",
              "    const percent = span('0% done');\n",
              "    li.appendChild(percent);\n",
              "\n",
              "    outputElement.appendChild(li);\n",
              "\n",
              "    const fileDataPromise = new Promise((resolve) => {\n",
              "      const reader = new FileReader();\n",
              "      reader.onload = (e) => {\n",
              "        resolve(e.target.result);\n",
              "      };\n",
              "      reader.readAsArrayBuffer(file);\n",
              "    });\n",
              "    // Wait for the data to be ready.\n",
              "    let fileData = yield {\n",
              "      promise: fileDataPromise,\n",
              "      response: {\n",
              "        action: 'continue',\n",
              "      }\n",
              "    };\n",
              "\n",
              "    // Use a chunked sending to avoid message size limits. See b/62115660.\n",
              "    let position = 0;\n",
              "    do {\n",
              "      const length = Math.min(fileData.byteLength - position, MAX_PAYLOAD_SIZE);\n",
              "      const chunk = new Uint8Array(fileData, position, length);\n",
              "      position += length;\n",
              "\n",
              "      const base64 = btoa(String.fromCharCode.apply(null, chunk));\n",
              "      yield {\n",
              "        response: {\n",
              "          action: 'append',\n",
              "          file: file.name,\n",
              "          data: base64,\n",
              "        },\n",
              "      };\n",
              "\n",
              "      let percentDone = fileData.byteLength === 0 ?\n",
              "          100 :\n",
              "          Math.round((position / fileData.byteLength) * 100);\n",
              "      percent.textContent = `${percentDone}% done`;\n",
              "\n",
              "    } while (position < fileData.byteLength);\n",
              "  }\n",
              "\n",
              "  // All done.\n",
              "  yield {\n",
              "    response: {\n",
              "      action: 'complete',\n",
              "    }\n",
              "  };\n",
              "}\n",
              "\n",
              "scope.google = scope.google || {};\n",
              "scope.google.colab = scope.google.colab || {};\n",
              "scope.google.colab._files = {\n",
              "  _uploadFiles,\n",
              "  _uploadFilesContinue,\n",
              "};\n",
              "})(self);\n",
              "</script> "
            ]
          },
          "metadata": {}
        },
        {
          "output_type": "stream",
          "name": "stdout",
          "text": [
            "Saving kaggle.json to kaggle.json\n"
          ]
        },
        {
          "output_type": "execute_result",
          "data": {
            "text/plain": [
              "{'kaggle.json': b'{\"username\":\"smjayyy\",\"key\":\"8eb172e224d83c7b56b4a2ef349b7c0d\"}'}"
            ]
          },
          "metadata": {},
          "execution_count": 1
        }
      ],
      "source": [
        "from google.colab import files\n",
        "files.upload()"
      ]
    },
    {
      "cell_type": "code",
      "source": [
        "!mkdir -p ~/.kaggle\n",
        "!cp kaggle.json ~/.kaggle/\n",
        "!chmod 600 ~/.kaggle/kaggle.json"
      ],
      "metadata": {
        "id": "nyIEiXI9_yYQ"
      },
      "execution_count": 2,
      "outputs": []
    },
    {
      "cell_type": "code",
      "source": [
        "##link dataset in Kaggle.com\n",
        "!kaggle datasets download -d smaranjitghose/corn-or-maize-leaf-disease-dataset"
      ],
      "metadata": {
        "colab": {
          "base_uri": "https://localhost:8080/"
        },
        "id": "My5XmKSS_4Mo",
        "outputId": "c6b8b6eb-275a-4605-d083-cd37aae14557"
      },
      "execution_count": 3,
      "outputs": [
        {
          "output_type": "stream",
          "name": "stdout",
          "text": [
            "Downloading corn-or-maize-leaf-disease-dataset.zip to /content\n",
            " 99% 159M/161M [00:08<00:00, 24.6MB/s]\n",
            "100% 161M/161M [00:08<00:00, 19.4MB/s]\n"
          ]
        }
      ]
    },
    {
      "cell_type": "code",
      "source": [
        "!unzip -q corn-or-maize-leaf-disease-dataset.zip -d /content"
      ],
      "metadata": {
        "id": "ioQU-42__92U"
      },
      "execution_count": 4,
      "outputs": []
    },
    {
      "cell_type": "code",
      "source": [
        "dataset_dir = '/content/data'"
      ],
      "metadata": {
        "id": "9_D0LxeEAPim"
      },
      "execution_count": 5,
      "outputs": []
    },
    {
      "cell_type": "code",
      "source": [
        "import os\n",
        "import cv2\n",
        "import numpy as np\n",
        "from tqdm import tqdm\n",
        "from sklearn.model_selection import train_test_split\n",
        "from sklearn.preprocessing import LabelEncoder\n",
        "from keras.utils import to_categorical\n",
        "\n",
        "import tensorflow as tf\n",
        "from tensorflow.keras.preprocessing.image import ImageDataGenerator\n",
        "from tensorflow.keras.models import Sequential\n",
        "from tensorflow.keras import layers, Model, regularizers\n",
        "from tensorflow.keras.callbacks import EarlyStopping\n",
        "from tensorflow.keras.layers import Conv2D, MaxPooling2D, Flatten, Dense, GlobalAveragePooling2D, Dropout\n",
        "import os\n",
        "from tensorflow.keras.optimizers import Adam\n",
        "from tensorflow.keras.optimizers import RMSprop\n",
        "\n",
        "from keras.applications import ResNet50"
      ],
      "metadata": {
        "id": "2aJ-cxNbAdeh"
      },
      "execution_count": 6,
      "outputs": []
    },
    {
      "cell_type": "code",
      "source": [
        "IMAGE_SIZE_resnet50 = 224"
      ],
      "metadata": {
        "id": "bqHXNHmvAZQ9"
      },
      "execution_count": 7,
      "outputs": []
    },
    {
      "cell_type": "code",
      "source": [
        "def make_data(label, DIR, img_list, label_list):\n",
        "    for img in tqdm(os.listdir(DIR)):\n",
        "        path = os.path.join(DIR, img)\n",
        "        img = cv2.imread(path, cv2.IMREAD_COLOR)\n",
        "        img = cv2.resize(img, (IMAGE_SIZE_resnet50, IMAGE_SIZE_resnet50))\n",
        "        img_list.append(np.array(img))\n",
        "        label_list.append(str(label))"
      ],
      "metadata": {
        "id": "9xUcFT_VAix2"
      },
      "execution_count": 8,
      "outputs": []
    },
    {
      "cell_type": "code",
      "source": [
        "X = []\n",
        "Z = []"
      ],
      "metadata": {
        "id": "lFOsqR0YAp-P"
      },
      "execution_count": 9,
      "outputs": []
    },
    {
      "cell_type": "code",
      "source": [
        "for i, class_name in enumerate(['Common_Rust', 'Healthy', 'Gray_Leaf_Spot', 'Blight']):\n",
        "    class_dir = os.path.join(dataset_dir, class_name)\n",
        "    make_data(class_name, class_dir, X, Z)"
      ],
      "metadata": {
        "colab": {
          "base_uri": "https://localhost:8080/"
        },
        "id": "HNctJXzEA0Vp",
        "outputId": "1b2ae9b0-206a-494d-edf4-5e45785b0f44"
      },
      "execution_count": 10,
      "outputs": [
        {
          "output_type": "stream",
          "name": "stderr",
          "text": [
            "100%|██████████| 1306/1306 [00:04<00:00, 307.63it/s]\n",
            "100%|██████████| 1162/1162 [00:01<00:00, 910.31it/s]\n",
            "100%|██████████| 574/574 [00:02<00:00, 252.63it/s]\n",
            "100%|██████████| 1146/1146 [00:05<00:00, 229.15it/s]\n"
          ]
        }
      ]
    },
    {
      "cell_type": "code",
      "source": [
        "le = LabelEncoder()\n",
        "Y = le.fit_transform(Z)\n",
        "Y = to_categorical(Y, num_classes=len(le.classes_))\n",
        "\n",
        "# Konversi ke array numpy\n",
        "X = np.array(X)\n",
        "\n",
        "# Memisahkan data menjadi data latih dan data uji\n",
        "X_train, X_test, Y_train, Y_test = train_test_split(X, Y, test_size=0.2, random_state=42)"
      ],
      "metadata": {
        "id": "89ypubM7Bjq2"
      },
      "execution_count": 11,
      "outputs": []
    },
    {
      "cell_type": "code",
      "source": [
        "resnet50 = ResNet50(include_top=False, weights='imagenet', input_shape=(IMAGE_SIZE_resnet50, IMAGE_SIZE_resnet50, 3))\n",
        "\n",
        "# Membuat model Sequential\n",
        "model_resnet50ver2 = Sequential()\n",
        "model_resnet50ver2.add(resnet50)\n",
        "model_resnet50ver2.add(GlobalAveragePooling2D())\n",
        "model_resnet50ver2.add(Dense(4, activation='softmax'))\n",
        "\n",
        "# Membekukan layer-layer ResNet50 yang telah dilatih\n",
        "for layer in resnet50.layers:\n",
        "    layer.trainable = False\n",
        "\n",
        "# Mengompilasi model dengan optimizer Adam dan loss function categorical crossentropy\n",
        "model_resnet50ver2.compile(optimizer=Adam(lr=1e-5), loss='categorical_crossentropy', metrics=['accuracy'])\n",
        "\n",
        "# Menampilkan summary dari model\n",
        "model_resnet50ver2.summary()\n",
        "\n",
        "# Melatih model dengan data latih dan validasi\n",
        "history_resnet50ver2 = model_resnet50ver2.fit(X_train, Y_train, epochs=70, validation_data=(X_test, Y_test))"
      ],
      "metadata": {
        "colab": {
          "base_uri": "https://localhost:8080/"
        },
        "id": "c074Tfm3BlbX",
        "outputId": "f270f826-c77a-4fc6-9896-64509ae8174a"
      },
      "execution_count": 12,
      "outputs": [
        {
          "output_type": "stream",
          "name": "stdout",
          "text": [
            "Downloading data from https://storage.googleapis.com/tensorflow/keras-applications/resnet/resnet50_weights_tf_dim_ordering_tf_kernels_notop.h5\n",
            "94765736/94765736 [==============================] - 5s 0us/step\n"
          ]
        },
        {
          "output_type": "stream",
          "name": "stderr",
          "text": [
            "WARNING:absl:`lr` is deprecated in Keras optimizer, please use `learning_rate` or use the legacy optimizer, e.g.,tf.keras.optimizers.legacy.Adam.\n"
          ]
        },
        {
          "output_type": "stream",
          "name": "stdout",
          "text": [
            "Model: \"sequential\"\n",
            "_________________________________________________________________\n",
            " Layer (type)                Output Shape              Param #   \n",
            "=================================================================\n",
            " resnet50 (Functional)       (None, 7, 7, 2048)        23587712  \n",
            "                                                                 \n",
            " global_average_pooling2d (  (None, 2048)              0         \n",
            " GlobalAveragePooling2D)                                         \n",
            "                                                                 \n",
            " dense (Dense)               (None, 4)                 8196      \n",
            "                                                                 \n",
            "=================================================================\n",
            "Total params: 23595908 (90.01 MB)\n",
            "Trainable params: 8196 (32.02 KB)\n",
            "Non-trainable params: 23587712 (89.98 MB)\n",
            "_________________________________________________________________\n",
            "Epoch 1/70\n",
            "105/105 [==============================] - 22s 141ms/step - loss: 0.3694 - accuracy: 0.8558 - val_loss: 0.2145 - val_accuracy: 0.9177\n",
            "Epoch 2/70\n",
            "105/105 [==============================] - 11s 108ms/step - loss: 0.1847 - accuracy: 0.9352 - val_loss: 0.1572 - val_accuracy: 0.9439\n",
            "Epoch 3/70\n",
            "105/105 [==============================] - 12s 112ms/step - loss: 0.1459 - accuracy: 0.9427 - val_loss: 0.1513 - val_accuracy: 0.9415\n",
            "Epoch 4/70\n",
            "105/105 [==============================] - 12s 113ms/step - loss: 0.1267 - accuracy: 0.9528 - val_loss: 0.1776 - val_accuracy: 0.9272\n",
            "Epoch 5/70\n",
            "105/105 [==============================] - 12s 114ms/step - loss: 0.1105 - accuracy: 0.9615 - val_loss: 0.1450 - val_accuracy: 0.9427\n",
            "Epoch 6/70\n",
            "105/105 [==============================] - 12s 112ms/step - loss: 0.0932 - accuracy: 0.9699 - val_loss: 0.1451 - val_accuracy: 0.9487\n",
            "Epoch 7/70\n",
            "105/105 [==============================] - 12s 114ms/step - loss: 0.0853 - accuracy: 0.9728 - val_loss: 0.1385 - val_accuracy: 0.9511\n",
            "Epoch 8/70\n",
            "105/105 [==============================] - 12s 117ms/step - loss: 0.0806 - accuracy: 0.9731 - val_loss: 0.1617 - val_accuracy: 0.9236\n",
            "Epoch 9/70\n",
            "105/105 [==============================] - 12s 116ms/step - loss: 0.0719 - accuracy: 0.9758 - val_loss: 0.1347 - val_accuracy: 0.9487\n",
            "Epoch 10/70\n",
            "105/105 [==============================] - 12s 116ms/step - loss: 0.0670 - accuracy: 0.9791 - val_loss: 0.1371 - val_accuracy: 0.9535\n",
            "Epoch 11/70\n",
            "105/105 [==============================] - 12s 117ms/step - loss: 0.0588 - accuracy: 0.9851 - val_loss: 0.1354 - val_accuracy: 0.9499\n",
            "Epoch 12/70\n",
            "105/105 [==============================] - 12s 117ms/step - loss: 0.0553 - accuracy: 0.9863 - val_loss: 0.1258 - val_accuracy: 0.9523\n",
            "Epoch 13/70\n",
            "105/105 [==============================] - 12s 116ms/step - loss: 0.0532 - accuracy: 0.9860 - val_loss: 0.1245 - val_accuracy: 0.9594\n",
            "Epoch 14/70\n",
            "105/105 [==============================] - 12s 115ms/step - loss: 0.0476 - accuracy: 0.9875 - val_loss: 0.1296 - val_accuracy: 0.9487\n",
            "Epoch 15/70\n",
            "105/105 [==============================] - 12s 117ms/step - loss: 0.0446 - accuracy: 0.9887 - val_loss: 0.1253 - val_accuracy: 0.9547\n",
            "Epoch 16/70\n",
            "105/105 [==============================] - 12s 118ms/step - loss: 0.0414 - accuracy: 0.9896 - val_loss: 0.1239 - val_accuracy: 0.9582\n",
            "Epoch 17/70\n",
            "105/105 [==============================] - 12s 119ms/step - loss: 0.0374 - accuracy: 0.9919 - val_loss: 0.1396 - val_accuracy: 0.9511\n",
            "Epoch 18/70\n",
            "105/105 [==============================] - 13s 122ms/step - loss: 0.0381 - accuracy: 0.9919 - val_loss: 0.1278 - val_accuracy: 0.9570\n",
            "Epoch 19/70\n",
            "105/105 [==============================] - 12s 117ms/step - loss: 0.0433 - accuracy: 0.9857 - val_loss: 0.1329 - val_accuracy: 0.9535\n",
            "Epoch 20/70\n",
            "105/105 [==============================] - 12s 115ms/step - loss: 0.0316 - accuracy: 0.9931 - val_loss: 0.1269 - val_accuracy: 0.9523\n",
            "Epoch 21/70\n",
            "105/105 [==============================] - 12s 117ms/step - loss: 0.0301 - accuracy: 0.9925 - val_loss: 0.1324 - val_accuracy: 0.9463\n",
            "Epoch 22/70\n",
            "105/105 [==============================] - 12s 115ms/step - loss: 0.0284 - accuracy: 0.9946 - val_loss: 0.1441 - val_accuracy: 0.9427\n",
            "Epoch 23/70\n",
            "105/105 [==============================] - 12s 117ms/step - loss: 0.0269 - accuracy: 0.9946 - val_loss: 0.1329 - val_accuracy: 0.9642\n",
            "Epoch 24/70\n",
            "105/105 [==============================] - 12s 115ms/step - loss: 0.0242 - accuracy: 0.9967 - val_loss: 0.1296 - val_accuracy: 0.9535\n",
            "Epoch 25/70\n",
            "105/105 [==============================] - 12s 115ms/step - loss: 0.0227 - accuracy: 0.9967 - val_loss: 0.1285 - val_accuracy: 0.9618\n",
            "Epoch 26/70\n",
            "105/105 [==============================] - 12s 115ms/step - loss: 0.0209 - accuracy: 0.9970 - val_loss: 0.1316 - val_accuracy: 0.9582\n",
            "Epoch 27/70\n",
            "105/105 [==============================] - 12s 115ms/step - loss: 0.0207 - accuracy: 0.9973 - val_loss: 0.1323 - val_accuracy: 0.9535\n",
            "Epoch 28/70\n",
            "105/105 [==============================] - 12s 115ms/step - loss: 0.0200 - accuracy: 0.9970 - val_loss: 0.1372 - val_accuracy: 0.9594\n",
            "Epoch 29/70\n",
            "105/105 [==============================] - 12s 117ms/step - loss: 0.0189 - accuracy: 0.9979 - val_loss: 0.1306 - val_accuracy: 0.9570\n",
            "Epoch 30/70\n",
            "105/105 [==============================] - 12s 118ms/step - loss: 0.0198 - accuracy: 0.9970 - val_loss: 0.1344 - val_accuracy: 0.9582\n",
            "Epoch 31/70\n",
            "105/105 [==============================] - 12s 117ms/step - loss: 0.0182 - accuracy: 0.9973 - val_loss: 0.1352 - val_accuracy: 0.9547\n",
            "Epoch 32/70\n",
            "105/105 [==============================] - 12s 118ms/step - loss: 0.0154 - accuracy: 0.9985 - val_loss: 0.1277 - val_accuracy: 0.9606\n",
            "Epoch 33/70\n",
            "105/105 [==============================] - 12s 115ms/step - loss: 0.0148 - accuracy: 0.9994 - val_loss: 0.1354 - val_accuracy: 0.9547\n",
            "Epoch 34/70\n",
            "105/105 [==============================] - 12s 115ms/step - loss: 0.0152 - accuracy: 0.9982 - val_loss: 0.1362 - val_accuracy: 0.9535\n",
            "Epoch 35/70\n",
            "105/105 [==============================] - 12s 117ms/step - loss: 0.0146 - accuracy: 0.9985 - val_loss: 0.1400 - val_accuracy: 0.9511\n",
            "Epoch 36/70\n",
            "105/105 [==============================] - 12s 115ms/step - loss: 0.0135 - accuracy: 0.9985 - val_loss: 0.1394 - val_accuracy: 0.9606\n",
            "Epoch 37/70\n",
            "105/105 [==============================] - 12s 117ms/step - loss: 0.0134 - accuracy: 0.9982 - val_loss: 0.1355 - val_accuracy: 0.9547\n",
            "Epoch 38/70\n",
            "105/105 [==============================] - 12s 117ms/step - loss: 0.0127 - accuracy: 0.9991 - val_loss: 0.1415 - val_accuracy: 0.9523\n",
            "Epoch 39/70\n",
            "105/105 [==============================] - 12s 115ms/step - loss: 0.0141 - accuracy: 0.9979 - val_loss: 0.1406 - val_accuracy: 0.9547\n",
            "Epoch 40/70\n",
            "105/105 [==============================] - 12s 115ms/step - loss: 0.0118 - accuracy: 0.9988 - val_loss: 0.1487 - val_accuracy: 0.9499\n",
            "Epoch 41/70\n",
            "105/105 [==============================] - 12s 115ms/step - loss: 0.0110 - accuracy: 0.9988 - val_loss: 0.1362 - val_accuracy: 0.9582\n",
            "Epoch 42/70\n",
            "105/105 [==============================] - 12s 117ms/step - loss: 0.0097 - accuracy: 0.9991 - val_loss: 0.1386 - val_accuracy: 0.9535\n",
            "Epoch 43/70\n",
            "105/105 [==============================] - 12s 116ms/step - loss: 0.0092 - accuracy: 0.9994 - val_loss: 0.1452 - val_accuracy: 0.9630\n",
            "Epoch 44/70\n",
            "105/105 [==============================] - 12s 116ms/step - loss: 0.0094 - accuracy: 0.9994 - val_loss: 0.1399 - val_accuracy: 0.9570\n",
            "Epoch 45/70\n",
            "105/105 [==============================] - 12s 116ms/step - loss: 0.0088 - accuracy: 0.9991 - val_loss: 0.1408 - val_accuracy: 0.9594\n",
            "Epoch 46/70\n",
            "105/105 [==============================] - 12s 117ms/step - loss: 0.0104 - accuracy: 0.9988 - val_loss: 0.1400 - val_accuracy: 0.9582\n",
            "Epoch 47/70\n",
            "105/105 [==============================] - 12s 117ms/step - loss: 0.0091 - accuracy: 0.9988 - val_loss: 0.1451 - val_accuracy: 0.9582\n",
            "Epoch 48/70\n",
            "105/105 [==============================] - 12s 115ms/step - loss: 0.0085 - accuracy: 0.9988 - val_loss: 0.1428 - val_accuracy: 0.9558\n",
            "Epoch 49/70\n",
            "105/105 [==============================] - 12s 117ms/step - loss: 0.0079 - accuracy: 0.9991 - val_loss: 0.1463 - val_accuracy: 0.9523\n",
            "Epoch 50/70\n",
            "105/105 [==============================] - 12s 115ms/step - loss: 0.0070 - accuracy: 0.9994 - val_loss: 0.1452 - val_accuracy: 0.9582\n",
            "Epoch 51/70\n",
            "105/105 [==============================] - 12s 117ms/step - loss: 0.0074 - accuracy: 0.9994 - val_loss: 0.1543 - val_accuracy: 0.9606\n",
            "Epoch 52/70\n",
            "105/105 [==============================] - 12s 117ms/step - loss: 0.0065 - accuracy: 0.9997 - val_loss: 0.1472 - val_accuracy: 0.9535\n",
            "Epoch 53/70\n",
            "105/105 [==============================] - 12s 115ms/step - loss: 0.0068 - accuracy: 0.9994 - val_loss: 0.1456 - val_accuracy: 0.9558\n",
            "Epoch 54/70\n",
            "105/105 [==============================] - 12s 117ms/step - loss: 0.0066 - accuracy: 0.9997 - val_loss: 0.1495 - val_accuracy: 0.9606\n",
            "Epoch 55/70\n",
            "105/105 [==============================] - 12s 117ms/step - loss: 0.0062 - accuracy: 0.9994 - val_loss: 0.1561 - val_accuracy: 0.9630\n",
            "Epoch 56/70\n",
            "105/105 [==============================] - 12s 117ms/step - loss: 0.0060 - accuracy: 0.9994 - val_loss: 0.1478 - val_accuracy: 0.9523\n",
            "Epoch 57/70\n",
            "105/105 [==============================] - 12s 115ms/step - loss: 0.0056 - accuracy: 0.9994 - val_loss: 0.1515 - val_accuracy: 0.9523\n",
            "Epoch 58/70\n",
            "105/105 [==============================] - 12s 117ms/step - loss: 0.0051 - accuracy: 0.9991 - val_loss: 0.1531 - val_accuracy: 0.9618\n",
            "Epoch 59/70\n",
            "105/105 [==============================] - 12s 115ms/step - loss: 0.0056 - accuracy: 0.9997 - val_loss: 0.1585 - val_accuracy: 0.9618\n",
            "Epoch 60/70\n",
            "105/105 [==============================] - 12s 117ms/step - loss: 0.0058 - accuracy: 0.9991 - val_loss: 0.1531 - val_accuracy: 0.9558\n",
            "Epoch 61/70\n",
            "105/105 [==============================] - 12s 115ms/step - loss: 0.0059 - accuracy: 0.9988 - val_loss: 0.1531 - val_accuracy: 0.9582\n",
            "Epoch 62/70\n",
            "105/105 [==============================] - 12s 115ms/step - loss: 0.0056 - accuracy: 0.9994 - val_loss: 0.1560 - val_accuracy: 0.9570\n",
            "Epoch 63/70\n",
            "105/105 [==============================] - 12s 117ms/step - loss: 0.0046 - accuracy: 0.9997 - val_loss: 0.1683 - val_accuracy: 0.9475\n",
            "Epoch 64/70\n",
            "105/105 [==============================] - 12s 115ms/step - loss: 0.0052 - accuracy: 0.9994 - val_loss: 0.1594 - val_accuracy: 0.9618\n",
            "Epoch 65/70\n",
            "105/105 [==============================] - 12s 118ms/step - loss: 0.0046 - accuracy: 0.9994 - val_loss: 0.1609 - val_accuracy: 0.9630\n",
            "Epoch 66/70\n",
            "105/105 [==============================] - 12s 117ms/step - loss: 0.0045 - accuracy: 0.9997 - val_loss: 0.1611 - val_accuracy: 0.9618\n",
            "Epoch 67/70\n",
            "105/105 [==============================] - 12s 117ms/step - loss: 0.0044 - accuracy: 0.9997 - val_loss: 0.1605 - val_accuracy: 0.9523\n",
            "Epoch 68/70\n",
            "105/105 [==============================] - 12s 117ms/step - loss: 0.0043 - accuracy: 0.9994 - val_loss: 0.1615 - val_accuracy: 0.9582\n",
            "Epoch 69/70\n",
            "105/105 [==============================] - 12s 115ms/step - loss: 0.0049 - accuracy: 0.9994 - val_loss: 0.1738 - val_accuracy: 0.9523\n",
            "Epoch 70/70\n",
            "105/105 [==============================] - 12s 117ms/step - loss: 0.0054 - accuracy: 0.9988 - val_loss: 0.1702 - val_accuracy: 0.9582\n"
          ]
        }
      ]
    },
    {
      "cell_type": "code",
      "source": [
        "from sklearn.metrics import confusion_matrix, classification_report\n",
        "\n",
        "# Menggunakan model_resnet50ver2 untuk membuat prediksi pada data uji\n",
        "Y_pred = model_resnet50ver2.predict(X_test)\n",
        "# Mengambil indeks kelas dengan probabilitas tertinggi sebagai prediksi\n",
        "Y_pred_classes = np.argmax(Y_pred, axis=1)\n",
        "# Mengambil indeks kelas dengan probabilitas tertinggi sebagai label sebenarnya\n",
        "Y_true = np.argmax(Y_test, axis=1)\n",
        "\n",
        "# Membuat confusion matrix\n",
        "conf_matrix = confusion_matrix(Y_true, Y_pred_classes)\n",
        "\n",
        "# Menampilkan confusion matrix\n",
        "print(\"Confusion Matrix:\")\n",
        "print(conf_matrix)\n",
        "\n",
        "# Membuat classification report\n",
        "class_report = classification_report(Y_true, Y_pred_classes)\n",
        "\n",
        "# Menampilkan classification report\n",
        "print(\"\\nClassification Report:\")\n",
        "print(class_report)"
      ],
      "metadata": {
        "colab": {
          "base_uri": "https://localhost:8080/"
        },
        "id": "CvxN3skaDJ6S",
        "outputId": "7a346dbd-a14a-4510-ebc7-577c82d2d307"
      },
      "execution_count": 13,
      "outputs": [
        {
          "output_type": "stream",
          "name": "stdout",
          "text": [
            "27/27 [==============================] - 3s 89ms/step\n",
            "Confusion Matrix:\n",
            "[[203   2  12   1]\n",
            " [  3 285   1   0]\n",
            " [ 13   3  88   0]\n",
            " [  0   0   0 227]]\n",
            "\n",
            "Classification Report:\n",
            "              precision    recall  f1-score   support\n",
            "\n",
            "           0       0.93      0.93      0.93       218\n",
            "           1       0.98      0.99      0.98       289\n",
            "           2       0.87      0.85      0.86       104\n",
            "           3       1.00      1.00      1.00       227\n",
            "\n",
            "    accuracy                           0.96       838\n",
            "   macro avg       0.94      0.94      0.94       838\n",
            "weighted avg       0.96      0.96      0.96       838\n",
            "\n"
          ]
        }
      ]
    }
  ]
}