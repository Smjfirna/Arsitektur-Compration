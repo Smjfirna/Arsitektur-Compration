{
  "nbformat": 4,
  "nbformat_minor": 0,
  "metadata": {
    "colab": {
      "provenance": [],
      "gpuType": "T4",
      "authorship_tag": "ABX9TyM7B2OeaR10940XGFyJ7JDO",
      "include_colab_link": true
    },
    "kernelspec": {
      "name": "python3",
      "display_name": "Python 3"
    },
    "language_info": {
      "name": "python"
    },
    "accelerator": "GPU"
  },
  "cells": [
    {
      "cell_type": "markdown",
      "metadata": {
        "id": "view-in-github",
        "colab_type": "text"
      },
      "source": [
        "<a href=\"https://colab.research.google.com/github/Smjfirna/Arsitektur-Compration/blob/main/ResNet50/50.ipynb\" target=\"_parent\"><img src=\"https://colab.research.google.com/assets/colab-badge.svg\" alt=\"Open In Colab\"/></a>"
      ]
    },
    {
      "cell_type": "code",
      "source": [
        "import os\n",
        "import cv2\n",
        "import numpy as np\n",
        "from tqdm import tqdm\n",
        "from sklearn.model_selection import train_test_split\n",
        "from sklearn.preprocessing import LabelEncoder\n",
        "from keras.utils import to_categorical\n",
        "\n",
        "import tensorflow as tf\n",
        "from tensorflow.keras.preprocessing.image import ImageDataGenerator\n",
        "from tensorflow.keras.models import Sequential\n",
        "from tensorflow.keras import layers, Model, regularizers\n",
        "from tensorflow.keras.callbacks import EarlyStopping\n",
        "from tensorflow.keras.layers import Conv2D, MaxPooling2D, Flatten, Dense, GlobalAveragePooling2D, Dropout\n",
        "import os\n",
        "from tensorflow.keras.optimizers import Adam\n",
        "from tensorflow.keras.optimizers import RMSprop\n",
        "\n",
        "from keras.applications import ResNet50"
      ],
      "metadata": {
        "id": "NMN3beIVALVJ"
      },
      "execution_count": 1,
      "outputs": []
    },
    {
      "cell_type": "code",
      "execution_count": 2,
      "metadata": {
        "colab": {
          "base_uri": "https://localhost:8080/",
          "height": 90
        },
        "id": "GK3MPeDN_Ofu",
        "outputId": "7d0148a1-bdde-45f9-d29b-4b9673768127"
      },
      "outputs": [
        {
          "output_type": "display_data",
          "data": {
            "text/plain": [
              "<IPython.core.display.HTML object>"
            ],
            "text/html": [
              "\n",
              "     <input type=\"file\" id=\"files-318b9edd-e7c0-4b28-94f6-e4f3ce842ba4\" name=\"files[]\" multiple disabled\n",
              "        style=\"border:none\" />\n",
              "     <output id=\"result-318b9edd-e7c0-4b28-94f6-e4f3ce842ba4\">\n",
              "      Upload widget is only available when the cell has been executed in the\n",
              "      current browser session. Please rerun this cell to enable.\n",
              "      </output>\n",
              "      <script>// Copyright 2017 Google LLC\n",
              "//\n",
              "// Licensed under the Apache License, Version 2.0 (the \"License\");\n",
              "// you may not use this file except in compliance with the License.\n",
              "// You may obtain a copy of the License at\n",
              "//\n",
              "//      http://www.apache.org/licenses/LICENSE-2.0\n",
              "//\n",
              "// Unless required by applicable law or agreed to in writing, software\n",
              "// distributed under the License is distributed on an \"AS IS\" BASIS,\n",
              "// WITHOUT WARRANTIES OR CONDITIONS OF ANY KIND, either express or implied.\n",
              "// See the License for the specific language governing permissions and\n",
              "// limitations under the License.\n",
              "\n",
              "/**\n",
              " * @fileoverview Helpers for google.colab Python module.\n",
              " */\n",
              "(function(scope) {\n",
              "function span(text, styleAttributes = {}) {\n",
              "  const element = document.createElement('span');\n",
              "  element.textContent = text;\n",
              "  for (const key of Object.keys(styleAttributes)) {\n",
              "    element.style[key] = styleAttributes[key];\n",
              "  }\n",
              "  return element;\n",
              "}\n",
              "\n",
              "// Max number of bytes which will be uploaded at a time.\n",
              "const MAX_PAYLOAD_SIZE = 100 * 1024;\n",
              "\n",
              "function _uploadFiles(inputId, outputId) {\n",
              "  const steps = uploadFilesStep(inputId, outputId);\n",
              "  const outputElement = document.getElementById(outputId);\n",
              "  // Cache steps on the outputElement to make it available for the next call\n",
              "  // to uploadFilesContinue from Python.\n",
              "  outputElement.steps = steps;\n",
              "\n",
              "  return _uploadFilesContinue(outputId);\n",
              "}\n",
              "\n",
              "// This is roughly an async generator (not supported in the browser yet),\n",
              "// where there are multiple asynchronous steps and the Python side is going\n",
              "// to poll for completion of each step.\n",
              "// This uses a Promise to block the python side on completion of each step,\n",
              "// then passes the result of the previous step as the input to the next step.\n",
              "function _uploadFilesContinue(outputId) {\n",
              "  const outputElement = document.getElementById(outputId);\n",
              "  const steps = outputElement.steps;\n",
              "\n",
              "  const next = steps.next(outputElement.lastPromiseValue);\n",
              "  return Promise.resolve(next.value.promise).then((value) => {\n",
              "    // Cache the last promise value to make it available to the next\n",
              "    // step of the generator.\n",
              "    outputElement.lastPromiseValue = value;\n",
              "    return next.value.response;\n",
              "  });\n",
              "}\n",
              "\n",
              "/**\n",
              " * Generator function which is called between each async step of the upload\n",
              " * process.\n",
              " * @param {string} inputId Element ID of the input file picker element.\n",
              " * @param {string} outputId Element ID of the output display.\n",
              " * @return {!Iterable<!Object>} Iterable of next steps.\n",
              " */\n",
              "function* uploadFilesStep(inputId, outputId) {\n",
              "  const inputElement = document.getElementById(inputId);\n",
              "  inputElement.disabled = false;\n",
              "\n",
              "  const outputElement = document.getElementById(outputId);\n",
              "  outputElement.innerHTML = '';\n",
              "\n",
              "  const pickedPromise = new Promise((resolve) => {\n",
              "    inputElement.addEventListener('change', (e) => {\n",
              "      resolve(e.target.files);\n",
              "    });\n",
              "  });\n",
              "\n",
              "  const cancel = document.createElement('button');\n",
              "  inputElement.parentElement.appendChild(cancel);\n",
              "  cancel.textContent = 'Cancel upload';\n",
              "  const cancelPromise = new Promise((resolve) => {\n",
              "    cancel.onclick = () => {\n",
              "      resolve(null);\n",
              "    };\n",
              "  });\n",
              "\n",
              "  // Wait for the user to pick the files.\n",
              "  const files = yield {\n",
              "    promise: Promise.race([pickedPromise, cancelPromise]),\n",
              "    response: {\n",
              "      action: 'starting',\n",
              "    }\n",
              "  };\n",
              "\n",
              "  cancel.remove();\n",
              "\n",
              "  // Disable the input element since further picks are not allowed.\n",
              "  inputElement.disabled = true;\n",
              "\n",
              "  if (!files) {\n",
              "    return {\n",
              "      response: {\n",
              "        action: 'complete',\n",
              "      }\n",
              "    };\n",
              "  }\n",
              "\n",
              "  for (const file of files) {\n",
              "    const li = document.createElement('li');\n",
              "    li.append(span(file.name, {fontWeight: 'bold'}));\n",
              "    li.append(span(\n",
              "        `(${file.type || 'n/a'}) - ${file.size} bytes, ` +\n",
              "        `last modified: ${\n",
              "            file.lastModifiedDate ? file.lastModifiedDate.toLocaleDateString() :\n",
              "                                    'n/a'} - `));\n",
              "    const percent = span('0% done');\n",
              "    li.appendChild(percent);\n",
              "\n",
              "    outputElement.appendChild(li);\n",
              "\n",
              "    const fileDataPromise = new Promise((resolve) => {\n",
              "      const reader = new FileReader();\n",
              "      reader.onload = (e) => {\n",
              "        resolve(e.target.result);\n",
              "      };\n",
              "      reader.readAsArrayBuffer(file);\n",
              "    });\n",
              "    // Wait for the data to be ready.\n",
              "    let fileData = yield {\n",
              "      promise: fileDataPromise,\n",
              "      response: {\n",
              "        action: 'continue',\n",
              "      }\n",
              "    };\n",
              "\n",
              "    // Use a chunked sending to avoid message size limits. See b/62115660.\n",
              "    let position = 0;\n",
              "    do {\n",
              "      const length = Math.min(fileData.byteLength - position, MAX_PAYLOAD_SIZE);\n",
              "      const chunk = new Uint8Array(fileData, position, length);\n",
              "      position += length;\n",
              "\n",
              "      const base64 = btoa(String.fromCharCode.apply(null, chunk));\n",
              "      yield {\n",
              "        response: {\n",
              "          action: 'append',\n",
              "          file: file.name,\n",
              "          data: base64,\n",
              "        },\n",
              "      };\n",
              "\n",
              "      let percentDone = fileData.byteLength === 0 ?\n",
              "          100 :\n",
              "          Math.round((position / fileData.byteLength) * 100);\n",
              "      percent.textContent = `${percentDone}% done`;\n",
              "\n",
              "    } while (position < fileData.byteLength);\n",
              "  }\n",
              "\n",
              "  // All done.\n",
              "  yield {\n",
              "    response: {\n",
              "      action: 'complete',\n",
              "    }\n",
              "  };\n",
              "}\n",
              "\n",
              "scope.google = scope.google || {};\n",
              "scope.google.colab = scope.google.colab || {};\n",
              "scope.google.colab._files = {\n",
              "  _uploadFiles,\n",
              "  _uploadFilesContinue,\n",
              "};\n",
              "})(self);\n",
              "</script> "
            ]
          },
          "metadata": {}
        },
        {
          "output_type": "stream",
          "name": "stdout",
          "text": [
            "Saving kaggle.json to kaggle.json\n"
          ]
        },
        {
          "output_type": "execute_result",
          "data": {
            "text/plain": [
              "{'kaggle.json': b'{\"username\":\"smjayyy\",\"key\":\"8eb172e224d83c7b56b4a2ef349b7c0d\"}'}"
            ]
          },
          "metadata": {},
          "execution_count": 2
        }
      ],
      "source": [
        "from google.colab import files\n",
        "files.upload()"
      ]
    },
    {
      "cell_type": "code",
      "source": [
        "!mkdir -p ~/.kaggle\n",
        "!cp kaggle.json ~/.kaggle/\n",
        "!chmod 600 ~/.kaggle/kaggle.json"
      ],
      "metadata": {
        "id": "Y9Kia11G_5Si"
      },
      "execution_count": 3,
      "outputs": []
    },
    {
      "cell_type": "code",
      "source": [
        "##link dataset in Kaggle.com\n",
        "!kaggle datasets download -d smaranjitghose/corn-or-maize-leaf-disease-dataset"
      ],
      "metadata": {
        "colab": {
          "base_uri": "https://localhost:8080/"
        },
        "id": "apfKVlxj_8FJ",
        "outputId": "f9622b42-b548-4f0a-8d5e-dd6db25c2a3b"
      },
      "execution_count": 4,
      "outputs": [
        {
          "output_type": "stream",
          "name": "stdout",
          "text": [
            "Downloading corn-or-maize-leaf-disease-dataset.zip to /content\n",
            "100% 161M/161M [00:08<00:00, 23.1MB/s]\n",
            "100% 161M/161M [00:08<00:00, 20.8MB/s]\n"
          ]
        }
      ]
    },
    {
      "cell_type": "code",
      "source": [
        "!unzip -q corn-or-maize-leaf-disease-dataset.zip -d /content"
      ],
      "metadata": {
        "id": "ixMUoB2rAAd3"
      },
      "execution_count": 5,
      "outputs": []
    },
    {
      "cell_type": "code",
      "source": [
        "dataset_dir = '/content/data'"
      ],
      "metadata": {
        "id": "pZ8IerIQAGFO"
      },
      "execution_count": 6,
      "outputs": []
    },
    {
      "cell_type": "code",
      "source": [
        "print(os.listdir(dataset_dir))"
      ],
      "metadata": {
        "colab": {
          "base_uri": "https://localhost:8080/"
        },
        "id": "9wwka8QaAIcj",
        "outputId": "d920a5c3-ef62-4613-e216-090aab93d7d9"
      },
      "execution_count": 7,
      "outputs": [
        {
          "output_type": "stream",
          "name": "stdout",
          "text": [
            "['Healthy', 'Blight', 'Common_Rust', 'Gray_Leaf_Spot']\n"
          ]
        }
      ]
    },
    {
      "cell_type": "code",
      "source": [
        "IMAGE_SIZE_resnet50 = 224"
      ],
      "metadata": {
        "id": "_UCEuA-hAPSa"
      },
      "execution_count": 8,
      "outputs": []
    },
    {
      "cell_type": "code",
      "source": [
        "def make_data(label, DIR, img_list, label_list):\n",
        "    for img in tqdm(os.listdir(DIR)):\n",
        "        path = os.path.join(DIR, img)\n",
        "        img = cv2.imread(path, cv2.IMREAD_COLOR)\n",
        "        img = cv2.resize(img, (IMAGE_SIZE_resnet50, IMAGE_SIZE_resnet50))\n",
        "        img_list.append(np.array(img))\n",
        "        label_list.append(str(label))"
      ],
      "metadata": {
        "id": "B3menIgvARk5"
      },
      "execution_count": 9,
      "outputs": []
    },
    {
      "cell_type": "code",
      "source": [
        "X = []\n",
        "Z = []"
      ],
      "metadata": {
        "id": "Jn6gWefxATyU"
      },
      "execution_count": 10,
      "outputs": []
    },
    {
      "cell_type": "code",
      "source": [
        "for i, class_name in enumerate(['Common_Rust', 'Healthy', 'Gray_Leaf_Spot', 'Blight']):\n",
        "    class_dir = os.path.join(dataset_dir, class_name)\n",
        "    make_data(class_name, class_dir, X, Z)"
      ],
      "metadata": {
        "colab": {
          "base_uri": "https://localhost:8080/"
        },
        "id": "S9-RQTGJAWCk",
        "outputId": "5a79e550-2b79-4378-f7b3-0bf937bc7d84"
      },
      "execution_count": 11,
      "outputs": [
        {
          "output_type": "stream",
          "name": "stderr",
          "text": [
            "100%|██████████| 1306/1306 [00:04<00:00, 312.59it/s]\n",
            "100%|██████████| 1162/1162 [00:01<00:00, 913.62it/s]\n",
            "100%|██████████| 574/574 [00:01<00:00, 321.56it/s]\n",
            "100%|██████████| 1146/1146 [00:05<00:00, 196.86it/s]\n"
          ]
        }
      ]
    },
    {
      "cell_type": "code",
      "source": [
        "import matplotlib.pyplot as plt\n",
        "\n",
        "# Menghitung jumlah data untuk setiap kelas\n",
        "class_counts = {class_name: Z.count(class_name) for class_name in set(Z)}\n",
        "\n",
        "# Menampilkan visualisasi jumlah data\n",
        "plt.figure(figsize=(6, 4))\n",
        "plt.bar(class_counts.keys(), class_counts.values())\n",
        "plt.xlabel('Class')\n",
        "plt.ylabel('Count')\n",
        "plt.title('Jumlah Data Setiap Kelas')\n",
        "plt.show()"
      ],
      "metadata": {
        "colab": {
          "base_uri": "https://localhost:8080/",
          "height": 410
        },
        "id": "-IcXHIM8Akcw",
        "outputId": "068382ee-416c-4bef-f7e3-07de7683d37d"
      },
      "execution_count": 13,
      "outputs": [
        {
          "output_type": "display_data",
          "data": {
            "text/plain": [
              "<Figure size 600x400 with 1 Axes>"
            ],
            "image/png": "[encoded data removed]"
          },
          "metadata": {}
        }
      ]
    },
    {
      "cell_type": "code",
      "source": [
        "le = LabelEncoder()\n",
        "Y = le.fit_transform(Z)\n",
        "Y = to_categorical(Y, num_classes=len(le.classes_))\n",
        "\n",
        "# Konversi ke array numpy\n",
        "X = np.array(X)\n",
        "\n",
        "# Memisahkan data menjadi data latih dan data uji\n",
        "X_train, X_test, Y_train, Y_test = train_test_split(X, Y, test_size=0.2, random_state=42)\n",
        "\n",
        "print(\"Jumlah Data Train adalah :\", len(X_train))\n",
        "print(\"Jumlah Data Test adalah :\", len(X_test))"
      ],
      "metadata": {
        "colab": {
          "base_uri": "https://localhost:8080/"
        },
        "id": "OI7kvVbXAqko",
        "outputId": "ec427c6b-3ed9-40f6-abc1-6319fc8b3d86"
      },
      "execution_count": 14,
      "outputs": [
        {
          "output_type": "stream",
          "name": "stdout",
          "text": [
            "Jumlah Data Train adalah : 3350\n",
            "Jumlah Data Test adalah : 838\n"
          ]
        }
      ]
    },
    {
      "cell_type": "code",
      "source": [
        "datagen = ImageDataGenerator(\n",
        "    rotation_range=20,\n",
        "    zoom_range=0.2,\n",
        "    horizontal_flip=True,\n",
        ")\n",
        "\n",
        "datagen.fit(X_train)"
      ],
      "metadata": {
        "id": "ue5XLCIlA2ld"
      },
      "execution_count": 15,
      "outputs": []
    },
    {
      "cell_type": "code",
      "source": [
        "resnet50 = ResNet50(include_top=False, weights='imagenet', input_shape=(IMAGE_SIZE_resnet50, IMAGE_SIZE_resnet50, 3))\n",
        "\n",
        "# Membuat model Sequential\n",
        "model_resnet50ver2 = Sequential()\n",
        "model_resnet50ver2.add(resnet50)\n",
        "model_resnet50ver2.add(GlobalAveragePooling2D())\n",
        "model_resnet50ver2.add(Dense(4, activation='softmax'))\n",
        "\n",
        "# Membekukan layer-layer ResNet50 yang telah dilatih\n",
        "for layer in resnet50.layers:\n",
        "    layer.trainable = False\n",
        "\n",
        "model_resnet50ver2.compile(optimizer=Adam(learning_rate=0.001), loss='categorical_crossentropy', metrics=['accuracy'])\n",
        "\n",
        "# Menampilkan summary dari model\n",
        "model_resnet50ver2.summary()\n",
        "\n",
        "# Melatih model dengan data latih dan validasi\n",
        "history_resnet50ver2 = model_resnet50ver2.fit(datagen.flow(X_train, Y_train), epochs=50, validation_data=(X_test, Y_test))"
      ],
      "metadata": {
        "id": "qg6h8yY_A62R",
        "colab": {
          "base_uri": "https://localhost:8080/"
        },
        "outputId": "220afbc4-9f1a-49b9-97ba-4a183a464e99"
      },
      "execution_count": 16,
      "outputs": [
        {
          "output_type": "stream",
          "name": "stdout",
          "text": [
            "Downloading data from https://storage.googleapis.com/tensorflow/keras-applications/resnet/resnet50_weights_tf_dim_ordering_tf_kernels_notop.h5\n",
            "94765736/94765736 [==============================] - 5s 0us/step\n",
            "Model: \"sequential\"\n",
            "_________________________________________________________________\n",
            " Layer (type)                Output Shape              Param #   \n",
            "=================================================================\n",
            " resnet50 (Functional)       (None, 7, 7, 2048)        23587712  \n",
            "                                                                 \n",
            " global_average_pooling2d (  (None, 2048)              0         \n",
            " GlobalAveragePooling2D)                                         \n",
            "                                                                 \n",
            " dense (Dense)               (None, 4)                 8196      \n",
            "                                                                 \n",
            "=================================================================\n",
            "Total params: 23595908 (90.01 MB)\n",
            "Trainable params: 8196 (32.02 KB)\n",
            "Non-trainable params: 23587712 (89.98 MB)\n",
            "_________________________________________________________________\n",
            "Epoch 1/50\n",
            "105/105 [==============================] - 56s 460ms/step - loss: 0.3796 - accuracy: 0.8573 - val_loss: 0.2488 - val_accuracy: 0.9129\n",
            "Epoch 2/50\n",
            "105/105 [==============================] - 45s 424ms/step - loss: 0.2067 - accuracy: 0.9287 - val_loss: 0.2330 - val_accuracy: 0.9129\n",
            "Epoch 3/50\n",
            "105/105 [==============================] - 44s 416ms/step - loss: 0.1717 - accuracy: 0.9358 - val_loss: 0.2032 - val_accuracy: 0.9177\n",
            "Epoch 4/50\n",
            "105/105 [==============================] - 45s 431ms/step - loss: 0.1570 - accuracy: 0.9382 - val_loss: 0.1938 - val_accuracy: 0.9260\n",
            "Epoch 5/50\n",
            "105/105 [==============================] - 44s 416ms/step - loss: 0.1365 - accuracy: 0.9490 - val_loss: 0.1820 - val_accuracy: 0.9332\n",
            "Epoch 6/50\n",
            "105/105 [==============================] - 44s 413ms/step - loss: 0.1436 - accuracy: 0.9472 - val_loss: 0.1958 - val_accuracy: 0.9284\n",
            "Epoch 7/50\n",
            "105/105 [==============================] - 43s 409ms/step - loss: 0.1249 - accuracy: 0.9543 - val_loss: 0.1832 - val_accuracy: 0.9391\n",
            "Epoch 8/50\n",
            "105/105 [==============================] - 43s 410ms/step - loss: 0.1161 - accuracy: 0.9561 - val_loss: 0.1939 - val_accuracy: 0.9332\n",
            "Epoch 9/50\n",
            "105/105 [==============================] - 42s 403ms/step - loss: 0.1138 - accuracy: 0.9561 - val_loss: 0.1828 - val_accuracy: 0.9356\n",
            "Epoch 10/50\n",
            "105/105 [==============================] - 44s 420ms/step - loss: 0.1093 - accuracy: 0.9576 - val_loss: 0.1764 - val_accuracy: 0.9391\n",
            "Epoch 11/50\n",
            "105/105 [==============================] - 42s 403ms/step - loss: 0.1126 - accuracy: 0.9546 - val_loss: 0.2255 - val_accuracy: 0.9296\n",
            "Epoch 12/50\n",
            "105/105 [==============================] - 44s 422ms/step - loss: 0.1037 - accuracy: 0.9612 - val_loss: 0.1874 - val_accuracy: 0.9344\n",
            "Epoch 13/50\n",
            "105/105 [==============================] - 42s 403ms/step - loss: 0.0996 - accuracy: 0.9615 - val_loss: 0.2192 - val_accuracy: 0.9296\n",
            "Epoch 14/50\n",
            "105/105 [==============================] - 44s 411ms/step - loss: 0.0955 - accuracy: 0.9660 - val_loss: 0.1725 - val_accuracy: 0.9415\n",
            "Epoch 15/50\n",
            "105/105 [==============================] - 45s 421ms/step - loss: 0.0962 - accuracy: 0.9615 - val_loss: 0.1839 - val_accuracy: 0.9415\n",
            "Epoch 16/50\n",
            "105/105 [==============================] - 44s 418ms/step - loss: 0.0885 - accuracy: 0.9699 - val_loss: 0.1762 - val_accuracy: 0.9439\n",
            "Epoch 17/50\n",
            "105/105 [==============================] - 43s 411ms/step - loss: 0.0838 - accuracy: 0.9701 - val_loss: 0.1773 - val_accuracy: 0.9368\n",
            "Epoch 18/50\n",
            "105/105 [==============================] - 43s 408ms/step - loss: 0.0926 - accuracy: 0.9639 - val_loss: 0.1657 - val_accuracy: 0.9403\n",
            "Epoch 19/50\n",
            "105/105 [==============================] - 44s 414ms/step - loss: 0.0896 - accuracy: 0.9642 - val_loss: 0.1807 - val_accuracy: 0.9415\n",
            "Epoch 20/50\n",
            "105/105 [==============================] - 43s 409ms/step - loss: 0.0900 - accuracy: 0.9693 - val_loss: 0.2007 - val_accuracy: 0.9356\n",
            "Epoch 21/50\n",
            "105/105 [==============================] - 44s 414ms/step - loss: 0.0813 - accuracy: 0.9701 - val_loss: 0.1830 - val_accuracy: 0.9379\n",
            "Epoch 22/50\n",
            "105/105 [==============================] - 44s 419ms/step - loss: 0.0770 - accuracy: 0.9684 - val_loss: 0.1751 - val_accuracy: 0.9379\n",
            "Epoch 23/50\n",
            "105/105 [==============================] - 43s 406ms/step - loss: 0.0785 - accuracy: 0.9719 - val_loss: 0.2114 - val_accuracy: 0.9320\n",
            "Epoch 24/50\n",
            "105/105 [==============================] - 43s 409ms/step - loss: 0.0764 - accuracy: 0.9716 - val_loss: 0.1887 - val_accuracy: 0.9427\n",
            "Epoch 25/50\n",
            "105/105 [==============================] - 43s 408ms/step - loss: 0.0793 - accuracy: 0.9669 - val_loss: 0.1847 - val_accuracy: 0.9403\n",
            "Epoch 26/50\n",
            "105/105 [==============================] - 43s 405ms/step - loss: 0.0776 - accuracy: 0.9678 - val_loss: 0.1762 - val_accuracy: 0.9403\n",
            "Epoch 27/50\n",
            "105/105 [==============================] - 44s 415ms/step - loss: 0.0849 - accuracy: 0.9663 - val_loss: 0.1986 - val_accuracy: 0.9368\n",
            "Epoch 28/50\n",
            "105/105 [==============================] - 43s 407ms/step - loss: 0.0795 - accuracy: 0.9684 - val_loss: 0.2070 - val_accuracy: 0.9368\n",
            "Epoch 29/50\n",
            "105/105 [==============================] - 45s 431ms/step - loss: 0.0674 - accuracy: 0.9707 - val_loss: 0.1881 - val_accuracy: 0.9391\n",
            "Epoch 30/50\n",
            "105/105 [==============================] - 42s 400ms/step - loss: 0.0711 - accuracy: 0.9687 - val_loss: 0.1874 - val_accuracy: 0.9415\n",
            "Epoch 31/50\n",
            "105/105 [==============================] - 42s 404ms/step - loss: 0.0711 - accuracy: 0.9737 - val_loss: 0.2221 - val_accuracy: 0.9344\n",
            "Epoch 32/50\n",
            "105/105 [==============================] - 42s 404ms/step - loss: 0.0725 - accuracy: 0.9734 - val_loss: 0.1889 - val_accuracy: 0.9439\n",
            "Epoch 33/50\n",
            "105/105 [==============================] - 43s 406ms/step - loss: 0.0622 - accuracy: 0.9809 - val_loss: 0.1924 - val_accuracy: 0.9427\n",
            "Epoch 34/50\n",
            "105/105 [==============================] - 44s 417ms/step - loss: 0.0626 - accuracy: 0.9770 - val_loss: 0.1925 - val_accuracy: 0.9439\n",
            "Epoch 35/50\n",
            "105/105 [==============================] - 43s 404ms/step - loss: 0.0643 - accuracy: 0.9746 - val_loss: 0.1824 - val_accuracy: 0.9391\n",
            "Epoch 36/50\n",
            "105/105 [==============================] - 43s 408ms/step - loss: 0.0562 - accuracy: 0.9806 - val_loss: 0.1974 - val_accuracy: 0.9379\n",
            "Epoch 37/50\n",
            "105/105 [==============================] - 43s 413ms/step - loss: 0.0560 - accuracy: 0.9821 - val_loss: 0.2054 - val_accuracy: 0.9415\n",
            "Epoch 38/50\n",
            "105/105 [==============================] - 44s 416ms/step - loss: 0.0594 - accuracy: 0.9767 - val_loss: 0.1976 - val_accuracy: 0.9391\n",
            "Epoch 39/50\n",
            "105/105 [==============================] - 42s 401ms/step - loss: 0.0555 - accuracy: 0.9818 - val_loss: 0.1862 - val_accuracy: 0.9439\n",
            "Epoch 40/50\n",
            "105/105 [==============================] - 44s 415ms/step - loss: 0.0611 - accuracy: 0.9773 - val_loss: 0.1961 - val_accuracy: 0.9368\n",
            "Epoch 41/50\n",
            "105/105 [==============================] - 43s 408ms/step - loss: 0.0583 - accuracy: 0.9797 - val_loss: 0.2189 - val_accuracy: 0.9320\n",
            "Epoch 42/50\n",
            "105/105 [==============================] - 45s 424ms/step - loss: 0.0638 - accuracy: 0.9758 - val_loss: 0.2073 - val_accuracy: 0.9391\n",
            "Epoch 43/50\n",
            "105/105 [==============================] - 42s 402ms/step - loss: 0.0623 - accuracy: 0.9764 - val_loss: 0.1962 - val_accuracy: 0.9379\n",
            "Epoch 44/50\n",
            "105/105 [==============================] - 43s 407ms/step - loss: 0.0549 - accuracy: 0.9791 - val_loss: 0.2117 - val_accuracy: 0.9403\n",
            "Epoch 45/50\n",
            "105/105 [==============================] - 42s 402ms/step - loss: 0.0605 - accuracy: 0.9779 - val_loss: 0.1976 - val_accuracy: 0.9403\n",
            "Epoch 46/50\n",
            "105/105 [==============================] - 44s 418ms/step - loss: 0.0543 - accuracy: 0.9791 - val_loss: 0.2248 - val_accuracy: 0.9308\n",
            "Epoch 47/50\n",
            "105/105 [==============================] - 42s 402ms/step - loss: 0.0542 - accuracy: 0.9800 - val_loss: 0.2119 - val_accuracy: 0.9415\n",
            "Epoch 48/50\n",
            "105/105 [==============================] - 43s 405ms/step - loss: 0.0596 - accuracy: 0.9794 - val_loss: 0.2193 - val_accuracy: 0.9391\n",
            "Epoch 49/50\n",
            "105/105 [==============================] - 42s 401ms/step - loss: 0.0647 - accuracy: 0.9728 - val_loss: 0.2380 - val_accuracy: 0.9379\n",
            "Epoch 50/50\n",
            "105/105 [==============================] - 43s 405ms/step - loss: 0.0593 - accuracy: 0.9749 - val_loss: 0.2025 - val_accuracy: 0.9415\n"
          ]
        }
      ]
    },
    {
      "cell_type": "code",
      "source": [
        "from sklearn.metrics import confusion_matrix, classification_report\n",
        "import numpy as np\n",
        "import matplotlib.pyplot as plt\n",
        "import seaborn as sns\n",
        "\n",
        "# Menggunakan model_resnet50ver2 untuk membuat prediksi pada data uji\n",
        "Y_pred = model_resnet50ver2.predict(X_test)\n",
        "# Mengambil indeks kelas dengan probabilitas tertinggi sebagai prediksi\n",
        "Y_pred_classes = np.argmax(Y_pred, axis=1)\n",
        "# Mengambil indeks kelas dengan probabilitas tertinggi sebagai label sebenarnya\n",
        "Y_true = np.argmax(Y_test, axis=1)\n",
        "\n",
        "# Membuat confusion matrix\n",
        "conf_matrix = confusion_matrix(Y_true, Y_pred_classes)\n",
        "\n",
        "# Menampilkan confusion matrix dalam bentuk visualisasi\n",
        "plt.figure(figsize=(8, 6))\n",
        "sns.heatmap(conf_matrix, annot=True, fmt=\"d\", cmap=\"Blues\", xticklabels=['Common_Rust', 'Healthy', 'Gray_Leaf_Spot', 'Blight'], yticklabels=['Common_Rust', 'Healthy', 'Gray_Leaf_Spot', 'Blight'])\n",
        "plt.xlabel('Predicted labels')\n",
        "plt.ylabel('True labels')\n",
        "plt.title('Confusion Matrix')\n",
        "plt.show()\n",
        "\n",
        "# Membuat classification report\n",
        "class_report = classification_report(Y_true, Y_pred_classes)\n",
        "\n",
        "# Menampilkan classification report\n",
        "print(\"\\nClassification Report:\")\n",
        "print(class_report)"
      ],
      "metadata": {
        "id": "W2svXyjyTjeo",
        "colab": {
          "base_uri": "https://localhost:8080/",
          "height": 807
        },
        "outputId": "b955a3e0-ffbf-46da-d1c7-658c446c32e1"
      },
      "execution_count": 17,
      "outputs": [
        {
          "output_type": "stream",
          "name": "stdout",
          "text": [
            "27/27 [==============================] - 3s 93ms/step\n"
          ]
        },
        {
          "output_type": "display_data",
          "data": {
            "text/plain": [
              "<Figure size 800x600 with 2 Axes>"
            ],
            "image/png": "[encoded data removed]"
          },
          "metadata": {}
        },
        {
          "output_type": "stream",
          "name": "stdout",
          "text": [
            "\n",
            "Classification Report:\n",
            "              precision    recall  f1-score   support\n",
            "\n",
            "           0       0.88      0.91      0.90       218\n",
            "           1       0.96      0.98      0.97       289\n",
            "           2       0.88      0.76      0.81       104\n",
            "           3       1.00      1.00      1.00       227\n",
            "\n",
            "    accuracy                           0.94       838\n",
            "   macro avg       0.93      0.91      0.92       838\n",
            "weighted avg       0.94      0.94      0.94       838\n",
            "\n"
          ]
        }
      ]
    }
  ]
}