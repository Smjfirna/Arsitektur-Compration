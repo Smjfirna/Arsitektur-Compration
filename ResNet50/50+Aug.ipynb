{
  "nbformat": 4,
  "nbformat_minor": 0,
  "metadata": {
    "colab": {
      "provenance": [],
      "gpuType": "T4",
      "authorship_tag": "ABX9TyO/jfVu0frqZvF/dwklyaqY",
      "include_colab_link": true
    },
    "kernelspec": {
      "name": "python3",
      "display_name": "Python 3"
    },
    "language_info": {
      "name": "python"
    },
    "accelerator": "GPU"
  },
  "cells": [
    {
      "cell_type": "markdown",
      "metadata": {
        "id": "view-in-github",
        "colab_type": "text"
      },
      "source": [
        "<a href=\"https://colab.research.google.com/github/Smjfirna/Arsitektur-Compration/blob/main/ResNet50/50%2BAug.ipynb\" target=\"_parent\"><img src=\"https://colab.research.google.com/assets/colab-badge.svg\" alt=\"Open In Colab\"/></a>"
      ]
    },
    {
      "cell_type": "code",
      "source": [
        "import os\n",
        "import cv2\n",
        "import numpy as np\n",
        "from tqdm import tqdm\n",
        "from sklearn.model_selection import train_test_split\n",
        "from sklearn.preprocessing import LabelEncoder\n",
        "from keras.utils import to_categorical\n",
        "\n",
        "import tensorflow as tf\n",
        "from tensorflow.keras.preprocessing.image import ImageDataGenerator\n",
        "from tensorflow.keras.models import Sequential\n",
        "from tensorflow.keras import layers, Model, regularizers\n",
        "from tensorflow.keras.callbacks import EarlyStopping\n",
        "from tensorflow.keras.layers import Conv2D, MaxPooling2D, Flatten, Dense, GlobalAveragePooling2D, Dropout\n",
        "import os\n",
        "from tensorflow.keras.optimizers import Adam\n",
        "from tensorflow.keras.optimizers import RMSprop\n",
        "\n",
        "from keras.applications import ResNet50"
      ],
      "metadata": {
        "id": "NMN3beIVALVJ"
      },
      "execution_count": 1,
      "outputs": []
    },
    {
      "cell_type": "code",
      "execution_count": 2,
      "metadata": {
        "colab": {
          "base_uri": "https://localhost:8080/",
          "height": 90
        },
        "id": "GK3MPeDN_Ofu",
        "outputId": "f7b8c1b5-1f3d-4d3a-f594-7e22ac029cae"
      },
      "outputs": [
        {
          "output_type": "display_data",
          "data": {
            "text/plain": [
              "<IPython.core.display.HTML object>"
            ],
            "text/html": [
              "\n",
              "     <input type=\"file\" id=\"files-7e04bfe8-8d0b-4b02-9d10-5425fba29bc5\" name=\"files[]\" multiple disabled\n",
              "        style=\"border:none\" />\n",
              "     <output id=\"result-7e04bfe8-8d0b-4b02-9d10-5425fba29bc5\">\n",
              "      Upload widget is only available when the cell has been executed in the\n",
              "      current browser session. Please rerun this cell to enable.\n",
              "      </output>\n",
              "      <script>// Copyright 2017 Google LLC\n",
              "//\n",
              "// Licensed under the Apache License, Version 2.0 (the \"License\");\n",
              "// you may not use this file except in compliance with the License.\n",
              "// You may obtain a copy of the License at\n",
              "//\n",
              "//      http://www.apache.org/licenses/LICENSE-2.0\n",
              "//\n",
              "// Unless required by applicable law or agreed to in writing, software\n",
              "// distributed under the License is distributed on an \"AS IS\" BASIS,\n",
              "// WITHOUT WARRANTIES OR CONDITIONS OF ANY KIND, either express or implied.\n",
              "// See the License for the specific language governing permissions and\n",
              "// limitations under the License.\n",
              "\n",
              "/**\n",
              " * @fileoverview Helpers for google.colab Python module.\n",
              " */\n",
              "(function(scope) {\n",
              "function span(text, styleAttributes = {}) {\n",
              "  const element = document.createElement('span');\n",
              "  element.textContent = text;\n",
              "  for (const key of Object.keys(styleAttributes)) {\n",
              "    element.style[key] = styleAttributes[key];\n",
              "  }\n",
              "  return element;\n",
              "}\n",
              "\n",
              "// Max number of bytes which will be uploaded at a time.\n",
              "const MAX_PAYLOAD_SIZE = 100 * 1024;\n",
              "\n",
              "function _uploadFiles(inputId, outputId) {\n",
              "  const steps = uploadFilesStep(inputId, outputId);\n",
              "  const outputElement = document.getElementById(outputId);\n",
              "  // Cache steps on the outputElement to make it available for the next call\n",
              "  // to uploadFilesContinue from Python.\n",
              "  outputElement.steps = steps;\n",
              "\n",
              "  return _uploadFilesContinue(outputId);\n",
              "}\n",
              "\n",
              "// This is roughly an async generator (not supported in the browser yet),\n",
              "// where there are multiple asynchronous steps and the Python side is going\n",
              "// to poll for completion of each step.\n",
              "// This uses a Promise to block the python side on completion of each step,\n",
              "// then passes the result of the previous step as the input to the next step.\n",
              "function _uploadFilesContinue(outputId) {\n",
              "  const outputElement = document.getElementById(outputId);\n",
              "  const steps = outputElement.steps;\n",
              "\n",
              "  const next = steps.next(outputElement.lastPromiseValue);\n",
              "  return Promise.resolve(next.value.promise).then((value) => {\n",
              "    // Cache the last promise value to make it available to the next\n",
              "    // step of the generator.\n",
              "    outputElement.lastPromiseValue = value;\n",
              "    return next.value.response;\n",
              "  });\n",
              "}\n",
              "\n",
              "/**\n",
              " * Generator function which is called between each async step of the upload\n",
              " * process.\n",
              " * @param {string} inputId Element ID of the input file picker element.\n",
              " * @param {string} outputId Element ID of the output display.\n",
              " * @return {!Iterable<!Object>} Iterable of next steps.\n",
              " */\n",
              "function* uploadFilesStep(inputId, outputId) {\n",
              "  const inputElement = document.getElementById(inputId);\n",
              "  inputElement.disabled = false;\n",
              "\n",
              "  const outputElement = document.getElementById(outputId);\n",
              "  outputElement.innerHTML = '';\n",
              "\n",
              "  const pickedPromise = new Promise((resolve) => {\n",
              "    inputElement.addEventListener('change', (e) => {\n",
              "      resolve(e.target.files);\n",
              "    });\n",
              "  });\n",
              "\n",
              "  const cancel = document.createElement('button');\n",
              "  inputElement.parentElement.appendChild(cancel);\n",
              "  cancel.textContent = 'Cancel upload';\n",
              "  const cancelPromise = new Promise((resolve) => {\n",
              "    cancel.onclick = () => {\n",
              "      resolve(null);\n",
              "    };\n",
              "  });\n",
              "\n",
              "  // Wait for the user to pick the files.\n",
              "  const files = yield {\n",
              "    promise: Promise.race([pickedPromise, cancelPromise]),\n",
              "    response: {\n",
              "      action: 'starting',\n",
              "    }\n",
              "  };\n",
              "\n",
              "  cancel.remove();\n",
              "\n",
              "  // Disable the input element since further picks are not allowed.\n",
              "  inputElement.disabled = true;\n",
              "\n",
              "  if (!files) {\n",
              "    return {\n",
              "      response: {\n",
              "        action: 'complete',\n",
              "      }\n",
              "    };\n",
              "  }\n",
              "\n",
              "  for (const file of files) {\n",
              "    const li = document.createElement('li');\n",
              "    li.append(span(file.name, {fontWeight: 'bold'}));\n",
              "    li.append(span(\n",
              "        `(${file.type || 'n/a'}) - ${file.size} bytes, ` +\n",
              "        `last modified: ${\n",
              "            file.lastModifiedDate ? file.lastModifiedDate.toLocaleDateString() :\n",
              "                                    'n/a'} - `));\n",
              "    const percent = span('0% done');\n",
              "    li.appendChild(percent);\n",
              "\n",
              "    outputElement.appendChild(li);\n",
              "\n",
              "    const fileDataPromise = new Promise((resolve) => {\n",
              "      const reader = new FileReader();\n",
              "      reader.onload = (e) => {\n",
              "        resolve(e.target.result);\n",
              "      };\n",
              "      reader.readAsArrayBuffer(file);\n",
              "    });\n",
              "    // Wait for the data to be ready.\n",
              "    let fileData = yield {\n",
              "      promise: fileDataPromise,\n",
              "      response: {\n",
              "        action: 'continue',\n",
              "      }\n",
              "    };\n",
              "\n",
              "    // Use a chunked sending to avoid message size limits. See b/62115660.\n",
              "    let position = 0;\n",
              "    do {\n",
              "      const length = Math.min(fileData.byteLength - position, MAX_PAYLOAD_SIZE);\n",
              "      const chunk = new Uint8Array(fileData, position, length);\n",
              "      position += length;\n",
              "\n",
              "      const base64 = btoa(String.fromCharCode.apply(null, chunk));\n",
              "      yield {\n",
              "        response: {\n",
              "          action: 'append',\n",
              "          file: file.name,\n",
              "          data: base64,\n",
              "        },\n",
              "      };\n",
              "\n",
              "      let percentDone = fileData.byteLength === 0 ?\n",
              "          100 :\n",
              "          Math.round((position / fileData.byteLength) * 100);\n",
              "      percent.textContent = `${percentDone}% done`;\n",
              "\n",
              "    } while (position < fileData.byteLength);\n",
              "  }\n",
              "\n",
              "  // All done.\n",
              "  yield {\n",
              "    response: {\n",
              "      action: 'complete',\n",
              "    }\n",
              "  };\n",
              "}\n",
              "\n",
              "scope.google = scope.google || {};\n",
              "scope.google.colab = scope.google.colab || {};\n",
              "scope.google.colab._files = {\n",
              "  _uploadFiles,\n",
              "  _uploadFilesContinue,\n",
              "};\n",
              "})(self);\n",
              "</script> "
            ]
          },
          "metadata": {}
        },
        {
          "output_type": "stream",
          "name": "stdout",
          "text": [
            "Saving kaggle.json to kaggle.json\n"
          ]
        },
        {
          "output_type": "execute_result",
          "data": {
            "text/plain": [
              "{'kaggle.json': b'{\"username\":\"smjayyy\",\"key\":\"8eb172e224d83c7b56b4a2ef349b7c0d\"}'}"
            ]
          },
          "metadata": {},
          "execution_count": 2
        }
      ],
      "source": [
        "from google.colab import files\n",
        "files.upload()"
      ]
    },
    {
      "cell_type": "code",
      "source": [
        "!mkdir -p ~/.kaggle\n",
        "!cp kaggle.json ~/.kaggle/\n",
        "!chmod 600 ~/.kaggle/kaggle.json"
      ],
      "metadata": {
        "id": "Y9Kia11G_5Si"
      },
      "execution_count": 3,
      "outputs": []
    },
    {
      "cell_type": "code",
      "source": [
        "##link dataset in Kaggle.com\n",
        "!kaggle datasets download -d smaranjitghose/corn-or-maize-leaf-disease-dataset"
      ],
      "metadata": {
        "colab": {
          "base_uri": "https://localhost:8080/"
        },
        "id": "apfKVlxj_8FJ",
        "outputId": "45a4ffbc-78e3-43e0-e142-96860108ba43"
      },
      "execution_count": 4,
      "outputs": [
        {
          "output_type": "stream",
          "name": "stdout",
          "text": [
            "Downloading corn-or-maize-leaf-disease-dataset.zip to /content\n",
            " 93% 149M/161M [00:02<00:00, 91.6MB/s]\n",
            "100% 161M/161M [00:02<00:00, 68.6MB/s]\n"
          ]
        }
      ]
    },
    {
      "cell_type": "code",
      "source": [
        "!unzip -q corn-or-maize-leaf-disease-dataset.zip -d /content"
      ],
      "metadata": {
        "id": "ixMUoB2rAAd3"
      },
      "execution_count": 5,
      "outputs": []
    },
    {
      "cell_type": "code",
      "source": [
        "dataset_dir = '/content/data'"
      ],
      "metadata": {
        "id": "pZ8IerIQAGFO"
      },
      "execution_count": 6,
      "outputs": []
    },
    {
      "cell_type": "code",
      "source": [
        "print(os.listdir(dataset_dir))"
      ],
      "metadata": {
        "colab": {
          "base_uri": "https://localhost:8080/"
        },
        "id": "9wwka8QaAIcj",
        "outputId": "86ef6bff-b29f-41b1-ccdb-be87b2f4b3e6"
      },
      "execution_count": 7,
      "outputs": [
        {
          "output_type": "stream",
          "name": "stdout",
          "text": [
            "['Blight', 'Gray_Leaf_Spot', 'Common_Rust', 'Healthy']\n"
          ]
        }
      ]
    },
    {
      "cell_type": "code",
      "source": [
        "IMAGE_SIZE_resnet50 = 224"
      ],
      "metadata": {
        "id": "_UCEuA-hAPSa"
      },
      "execution_count": 8,
      "outputs": []
    },
    {
      "cell_type": "code",
      "source": [
        "def make_data(label, DIR, img_list, label_list):\n",
        "    for img in tqdm(os.listdir(DIR)):\n",
        "        path = os.path.join(DIR, img)\n",
        "        img = cv2.imread(path, cv2.IMREAD_COLOR)\n",
        "        img = cv2.resize(img, (IMAGE_SIZE_resnet50, IMAGE_SIZE_resnet50))\n",
        "        img_list.append(np.array(img))\n",
        "        label_list.append(str(label))"
      ],
      "metadata": {
        "id": "B3menIgvARk5"
      },
      "execution_count": 9,
      "outputs": []
    },
    {
      "cell_type": "code",
      "source": [
        "X = []\n",
        "Z = []"
      ],
      "metadata": {
        "id": "Jn6gWefxATyU"
      },
      "execution_count": 10,
      "outputs": []
    },
    {
      "cell_type": "code",
      "source": [
        "for i, class_name in enumerate(['Common_Rust', 'Healthy', 'Gray_Leaf_Spot', 'Blight']):\n",
        "    class_dir = os.path.join(dataset_dir, class_name)\n",
        "    make_data(class_name, class_dir, X, Z)"
      ],
      "metadata": {
        "colab": {
          "base_uri": "https://localhost:8080/"
        },
        "id": "S9-RQTGJAWCk",
        "outputId": "8edb210d-62dc-4135-ca8f-ba91e6988054"
      },
      "execution_count": 11,
      "outputs": [
        {
          "output_type": "stream",
          "name": "stderr",
          "text": [
            "100%|██████████| 1306/1306 [00:07<00:00, 170.01it/s]\n",
            "100%|██████████| 1162/1162 [00:01<00:00, 903.28it/s]\n",
            "100%|██████████| 574/574 [00:01<00:00, 367.80it/s]\n",
            "100%|██████████| 1146/1146 [00:05<00:00, 215.02it/s]\n"
          ]
        }
      ]
    },
    {
      "cell_type": "code",
      "source": [
        "import matplotlib.pyplot as plt\n",
        "\n",
        "# Menghitung jumlah data untuk setiap kelas\n",
        "class_counts = {class_name: Z.count(class_name) for class_name in set(Z)}\n",
        "\n",
        "# Menampilkan visualisasi jumlah data\n",
        "plt.figure(figsize=(6, 4))\n",
        "plt.bar(class_counts.keys(), class_counts.values())\n",
        "plt.xlabel('Class')\n",
        "plt.ylabel('Count')\n",
        "plt.title('Jumlah Data Setiap Kelas')\n",
        "plt.show()"
      ],
      "metadata": {
        "colab": {
          "base_uri": "https://localhost:8080/",
          "height": 410
        },
        "id": "-IcXHIM8Akcw",
        "outputId": "2c8852a9-6845-4676-b0de-6ef40a30f2de"
      },
      "execution_count": 12,
      "outputs": [
        {
          "output_type": "display_data",
          "data": {
            "text/plain": [
              "<Figure size 600x400 with 1 Axes>"
            ],
            "image/png": "[encoded data removed]"
          },
          "metadata": {}
        }
      ]
    },
    {
      "cell_type": "code",
      "source": [
        "le = LabelEncoder()\n",
        "Y = le.fit_transform(Z)\n",
        "Y = to_categorical(Y, num_classes=len(le.classes_))\n",
        "\n",
        "# Konversi ke array numpy\n",
        "X = np.array(X)\n",
        "\n",
        "# Memisahkan data menjadi data latih dan data uji\n",
        "X_train, X_test, Y_train, Y_test = train_test_split(X, Y, test_size=0.2, random_state=42)\n",
        "\n",
        "print(\"Jumlah Data Train adalah :\", len(X_train))\n",
        "print(\"Jumlah Data Test adalah :\", len(X_test))"
      ],
      "metadata": {
        "colab": {
          "base_uri": "https://localhost:8080/"
        },
        "id": "OI7kvVbXAqko",
        "outputId": "c4cb9492-5d76-40a9-ee06-f7ba9f572453"
      },
      "execution_count": 13,
      "outputs": [
        {
          "output_type": "stream",
          "name": "stdout",
          "text": [
            "Jumlah Data Train adalah : 3350\n",
            "Jumlah Data Test adalah : 838\n"
          ]
        }
      ]
    },
    {
      "cell_type": "code",
      "source": [
        "datagen = ImageDataGenerator(\n",
        "    rotation_range=20,\n",
        "    zoom_range=0.2,\n",
        "    horizontal_flip=True,\n",
        "    vertical_flip=True\n",
        ")\n",
        "\n",
        "datagen.fit(X_train)"
      ],
      "metadata": {
        "id": "ue5XLCIlA2ld"
      },
      "execution_count": 14,
      "outputs": []
    },
    {
      "cell_type": "code",
      "source": [
        "resnet50 = ResNet50(include_top=False, weights='imagenet', input_shape=(IMAGE_SIZE_resnet50, IMAGE_SIZE_resnet50, 3))\n",
        "\n",
        "# Membuat model Sequential\n",
        "model_resnet50ver2 = Sequential()\n",
        "model_resnet50ver2.add(resnet50)\n",
        "model_resnet50ver2.add(GlobalAveragePooling2D())\n",
        "model_resnet50ver2.add(Dense(4, activation='softmax'))\n",
        "\n",
        "# Membekukan layer-layer ResNet50 yang telah dilatih\n",
        "for layer in resnet50.layers:\n",
        "    layer.trainable = False\n",
        "\n",
        "model_resnet50ver2.compile(optimizer=Adam(learning_rate=0.001), loss='categorical_crossentropy', metrics=['accuracy'])\n",
        "\n",
        "# Menampilkan summary dari model\n",
        "model_resnet50ver2.summary()\n",
        "\n",
        "# Melatih model dengan data latih dan validasi\n",
        "history_resnet50ver2 = model_resnet50ver2.fit(datagen.flow(X_train, Y_train), epochs=50, validation_data=(X_test, Y_test))"
      ],
      "metadata": {
        "id": "qg6h8yY_A62R",
        "colab": {
          "base_uri": "https://localhost:8080/"
        },
        "outputId": "536c064d-cbae-44bc-98af-5f90750a7563"
      },
      "execution_count": 19,
      "outputs": [
        {
          "output_type": "stream",
          "name": "stdout",
          "text": [
            "Model: \"sequential_3\"\n",
            "_________________________________________________________________\n",
            " Layer (type)                Output Shape              Param #   \n",
            "=================================================================\n",
            " resnet50 (Functional)       (None, 7, 7, 2048)        23587712  \n",
            "                                                                 \n",
            " global_average_pooling2d_3  (None, 2048)              0         \n",
            "  (GlobalAveragePooling2D)                                       \n",
            "                                                                 \n",
            " dense_3 (Dense)             (None, 4)                 8196      \n",
            "                                                                 \n",
            "=================================================================\n",
            "Total params: 23595908 (90.01 MB)\n",
            "Trainable params: 8196 (32.02 KB)\n",
            "Non-trainable params: 23587712 (89.98 MB)\n",
            "_________________________________________________________________\n",
            "Epoch 1/50\n",
            "105/105 [==============================] - 47s 409ms/step - loss: 0.4006 - accuracy: 0.8400 - val_loss: 0.2262 - val_accuracy: 0.9141\n",
            "Epoch 2/50\n",
            "105/105 [==============================] - 41s 386ms/step - loss: 0.2133 - accuracy: 0.9167 - val_loss: 0.1907 - val_accuracy: 0.9236\n",
            "Epoch 3/50\n",
            "105/105 [==============================] - 40s 385ms/step - loss: 0.1890 - accuracy: 0.9269 - val_loss: 0.2094 - val_accuracy: 0.9248\n",
            "Epoch 4/50\n",
            "105/105 [==============================] - 41s 392ms/step - loss: 0.1710 - accuracy: 0.9376 - val_loss: 0.1866 - val_accuracy: 0.9344\n",
            "Epoch 5/50\n",
            "105/105 [==============================] - 41s 391ms/step - loss: 0.1681 - accuracy: 0.9349 - val_loss: 0.1697 - val_accuracy: 0.9368\n",
            "Epoch 6/50\n",
            "105/105 [==============================] - 41s 388ms/step - loss: 0.1483 - accuracy: 0.9412 - val_loss: 0.1619 - val_accuracy: 0.9415\n",
            "Epoch 7/50\n",
            "105/105 [==============================] - 41s 389ms/step - loss: 0.1543 - accuracy: 0.9355 - val_loss: 0.1425 - val_accuracy: 0.9511\n",
            "Epoch 8/50\n",
            "105/105 [==============================] - 41s 389ms/step - loss: 0.1374 - accuracy: 0.9454 - val_loss: 0.1688 - val_accuracy: 0.9332\n",
            "Epoch 9/50\n",
            "105/105 [==============================] - 41s 388ms/step - loss: 0.1256 - accuracy: 0.9522 - val_loss: 0.1526 - val_accuracy: 0.9475\n",
            "Epoch 10/50\n",
            "105/105 [==============================] - 41s 386ms/step - loss: 0.1232 - accuracy: 0.9513 - val_loss: 0.1700 - val_accuracy: 0.9368\n",
            "Epoch 11/50\n",
            "105/105 [==============================] - 42s 400ms/step - loss: 0.1214 - accuracy: 0.9525 - val_loss: 0.1836 - val_accuracy: 0.9356\n",
            "Epoch 12/50\n",
            "105/105 [==============================] - 43s 406ms/step - loss: 0.1170 - accuracy: 0.9537 - val_loss: 0.1681 - val_accuracy: 0.9379\n",
            "Epoch 13/50\n",
            "105/105 [==============================] - 42s 395ms/step - loss: 0.1066 - accuracy: 0.9579 - val_loss: 0.1624 - val_accuracy: 0.9308\n",
            "Epoch 14/50\n",
            "105/105 [==============================] - 41s 387ms/step - loss: 0.0994 - accuracy: 0.9612 - val_loss: 0.1518 - val_accuracy: 0.9427\n",
            "Epoch 15/50\n",
            "105/105 [==============================] - 41s 391ms/step - loss: 0.1121 - accuracy: 0.9561 - val_loss: 0.1497 - val_accuracy: 0.9439\n",
            "Epoch 16/50\n",
            "105/105 [==============================] - 42s 396ms/step - loss: 0.1088 - accuracy: 0.9567 - val_loss: 0.1519 - val_accuracy: 0.9499\n",
            "Epoch 17/50\n",
            "105/105 [==============================] - 41s 389ms/step - loss: 0.1039 - accuracy: 0.9612 - val_loss: 0.1685 - val_accuracy: 0.9403\n",
            "Epoch 18/50\n",
            "105/105 [==============================] - 42s 400ms/step - loss: 0.1011 - accuracy: 0.9597 - val_loss: 0.1600 - val_accuracy: 0.9415\n",
            "Epoch 19/50\n",
            "105/105 [==============================] - 42s 398ms/step - loss: 0.1022 - accuracy: 0.9585 - val_loss: 0.1351 - val_accuracy: 0.9570\n",
            "Epoch 20/50\n",
            "105/105 [==============================] - 42s 396ms/step - loss: 0.0976 - accuracy: 0.9618 - val_loss: 0.1547 - val_accuracy: 0.9463\n",
            "Epoch 21/50\n",
            "105/105 [==============================] - 41s 388ms/step - loss: 0.1009 - accuracy: 0.9591 - val_loss: 0.1917 - val_accuracy: 0.9320\n",
            "Epoch 22/50\n",
            "105/105 [==============================] - 40s 385ms/step - loss: 0.1062 - accuracy: 0.9591 - val_loss: 0.1886 - val_accuracy: 0.9391\n",
            "Epoch 23/50\n",
            "105/105 [==============================] - 41s 387ms/step - loss: 0.0967 - accuracy: 0.9639 - val_loss: 0.1356 - val_accuracy: 0.9523\n",
            "Epoch 24/50\n",
            "105/105 [==============================] - 41s 390ms/step - loss: 0.0948 - accuracy: 0.9609 - val_loss: 0.1326 - val_accuracy: 0.9535\n",
            "Epoch 25/50\n",
            "105/105 [==============================] - 43s 408ms/step - loss: 0.0905 - accuracy: 0.9657 - val_loss: 0.1332 - val_accuracy: 0.9475\n",
            "Epoch 26/50\n",
            "105/105 [==============================] - 41s 390ms/step - loss: 0.0917 - accuracy: 0.9663 - val_loss: 0.1343 - val_accuracy: 0.9511\n",
            "Epoch 27/50\n",
            "105/105 [==============================] - 41s 387ms/step - loss: 0.0844 - accuracy: 0.9690 - val_loss: 0.1447 - val_accuracy: 0.9558\n",
            "Epoch 28/50\n",
            "105/105 [==============================] - 41s 390ms/step - loss: 0.0877 - accuracy: 0.9657 - val_loss: 0.1501 - val_accuracy: 0.9547\n",
            "Epoch 29/50\n",
            "105/105 [==============================] - 41s 391ms/step - loss: 0.0799 - accuracy: 0.9696 - val_loss: 0.1389 - val_accuracy: 0.9558\n",
            "Epoch 30/50\n",
            "105/105 [==============================] - 42s 403ms/step - loss: 0.0867 - accuracy: 0.9636 - val_loss: 0.1467 - val_accuracy: 0.9523\n",
            "Epoch 31/50\n",
            "105/105 [==============================] - 42s 400ms/step - loss: 0.0756 - accuracy: 0.9699 - val_loss: 0.1410 - val_accuracy: 0.9487\n",
            "Epoch 32/50\n",
            "105/105 [==============================] - 41s 392ms/step - loss: 0.0811 - accuracy: 0.9696 - val_loss: 0.1504 - val_accuracy: 0.9558\n",
            "Epoch 33/50\n",
            "105/105 [==============================] - 41s 387ms/step - loss: 0.0913 - accuracy: 0.9636 - val_loss: 0.1415 - val_accuracy: 0.9535\n",
            "Epoch 34/50\n",
            "105/105 [==============================] - 42s 400ms/step - loss: 0.0852 - accuracy: 0.9645 - val_loss: 0.1529 - val_accuracy: 0.9558\n",
            "Epoch 35/50\n",
            "105/105 [==============================] - 41s 393ms/step - loss: 0.0774 - accuracy: 0.9693 - val_loss: 0.1532 - val_accuracy: 0.9570\n",
            "Epoch 36/50\n",
            "105/105 [==============================] - 41s 388ms/step - loss: 0.0861 - accuracy: 0.9642 - val_loss: 0.1504 - val_accuracy: 0.9523\n",
            "Epoch 37/50\n",
            "105/105 [==============================] - 41s 389ms/step - loss: 0.0730 - accuracy: 0.9690 - val_loss: 0.1618 - val_accuracy: 0.9523\n",
            "Epoch 38/50\n",
            "105/105 [==============================] - 41s 394ms/step - loss: 0.0781 - accuracy: 0.9687 - val_loss: 0.1522 - val_accuracy: 0.9523\n",
            "Epoch 39/50\n",
            "105/105 [==============================] - 41s 389ms/step - loss: 0.0787 - accuracy: 0.9690 - val_loss: 0.1557 - val_accuracy: 0.9511\n",
            "Epoch 40/50\n",
            "105/105 [==============================] - 41s 387ms/step - loss: 0.0794 - accuracy: 0.9669 - val_loss: 0.1454 - val_accuracy: 0.9511\n",
            "Epoch 41/50\n",
            "105/105 [==============================] - 40s 384ms/step - loss: 0.0731 - accuracy: 0.9716 - val_loss: 0.1606 - val_accuracy: 0.9499\n",
            "Epoch 42/50\n",
            "105/105 [==============================] - 41s 394ms/step - loss: 0.0841 - accuracy: 0.9630 - val_loss: 0.1936 - val_accuracy: 0.9403\n",
            "Epoch 43/50\n",
            "105/105 [==============================] - 41s 393ms/step - loss: 0.0847 - accuracy: 0.9660 - val_loss: 0.1523 - val_accuracy: 0.9523\n",
            "Epoch 44/50\n",
            "105/105 [==============================] - 41s 388ms/step - loss: 0.0735 - accuracy: 0.9701 - val_loss: 0.1474 - val_accuracy: 0.9535\n",
            "Epoch 45/50\n",
            "105/105 [==============================] - 41s 386ms/step - loss: 0.0752 - accuracy: 0.9690 - val_loss: 0.1615 - val_accuracy: 0.9570\n",
            "Epoch 46/50\n",
            "105/105 [==============================] - 41s 386ms/step - loss: 0.0739 - accuracy: 0.9719 - val_loss: 0.1479 - val_accuracy: 0.9511\n",
            "Epoch 47/50\n",
            "105/105 [==============================] - 41s 394ms/step - loss: 0.0659 - accuracy: 0.9752 - val_loss: 0.1491 - val_accuracy: 0.9570\n",
            "Epoch 48/50\n",
            "105/105 [==============================] - 42s 398ms/step - loss: 0.0713 - accuracy: 0.9704 - val_loss: 0.1580 - val_accuracy: 0.9499\n",
            "Epoch 49/50\n",
            "105/105 [==============================] - 41s 387ms/step - loss: 0.0757 - accuracy: 0.9725 - val_loss: 0.1541 - val_accuracy: 0.9558\n",
            "Epoch 50/50\n",
            "105/105 [==============================] - 41s 389ms/step - loss: 0.0730 - accuracy: 0.9719 - val_loss: 0.1486 - val_accuracy: 0.9499\n"
          ]
        }
      ]
    },
    {
      "cell_type": "code",
      "source": [
        "from sklearn.metrics import confusion_matrix, classification_report\n",
        "import numpy as np\n",
        "import matplotlib.pyplot as plt\n",
        "import seaborn as sns\n",
        "\n",
        "# Menggunakan model_resnet50ver2 untuk membuat prediksi pada data uji\n",
        "Y_pred = model_resnet50ver2.predict(X_test)\n",
        "# Mengambil indeks kelas dengan probabilitas tertinggi sebagai prediksi\n",
        "Y_pred_classes = np.argmax(Y_pred, axis=1)\n",
        "# Mengambil indeks kelas dengan probabilitas tertinggi sebagai label sebenarnya\n",
        "Y_true = np.argmax(Y_test, axis=1)\n",
        "\n",
        "# Membuat confusion matrix\n",
        "conf_matrix = confusion_matrix(Y_true, Y_pred_classes)\n",
        "\n",
        "# Menampilkan confusion matrix dalam bentuk visualisasi\n",
        "plt.figure(figsize=(8, 6))\n",
        "sns.heatmap(conf_matrix, annot=True, fmt=\"d\", cmap=\"Blues\", xticklabels=['Common_Rust', 'Healthy', 'Gray_Leaf_Spot', 'Blight'], yticklabels=['Common_Rust', 'Healthy', 'Gray_Leaf_Spot', 'Blight'])\n",
        "plt.xlabel('Predicted labels')\n",
        "plt.ylabel('True labels')\n",
        "plt.title('Confusion Matrix')\n",
        "plt.show()\n",
        "\n",
        "# Membuat classification report\n",
        "class_report = classification_report(Y_true, Y_pred_classes)\n",
        "\n",
        "# Menampilkan classification report\n",
        "print(\"\\nClassification Report:\")\n",
        "print(class_report)"
      ],
      "metadata": {
        "id": "W2svXyjyTjeo",
        "colab": {
          "base_uri": "https://localhost:8080/",
          "height": 807
        },
        "outputId": "47bb017d-9f74-4860-e892-7241385c9a17"
      },
      "execution_count": 20,
      "outputs": [
        {
          "output_type": "stream",
          "name": "stdout",
          "text": [
            "27/27 [==============================] - 3s 89ms/step\n"
          ]
        },
        {
          "output_type": "display_data",
          "data": {
            "text/plain": [
              "<Figure size 800x600 with 2 Axes>"
            ],
            "image/png": "[encoded data removed]"
          },
          "metadata": {}
        },
        {
          "output_type": "stream",
          "name": "stdout",
          "text": [
            "\n",
            "Classification Report:\n",
            "              precision    recall  f1-score   support\n",
            "\n",
            "           0       0.93      0.90      0.91       218\n",
            "           1       0.99      0.99      0.99       289\n",
            "           2       0.81      0.86      0.83       104\n",
            "           3       0.99      1.00      0.99       227\n",
            "\n",
            "    accuracy                           0.95       838\n",
            "   macro avg       0.93      0.93      0.93       838\n",
            "weighted avg       0.95      0.95      0.95       838\n",
            "\n"
          ]
        }
      ]
    }
  ]
}