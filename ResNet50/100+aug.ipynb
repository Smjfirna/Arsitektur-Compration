{
  "nbformat": 4,
  "nbformat_minor": 0,
  "metadata": {
    "colab": {
      "provenance": [],
      "gpuType": "T4",
      "authorship_tag": "ABX9TyNDhmqG7oe/ZPDLDX1/IY9Y",
      "include_colab_link": true
    },
    "kernelspec": {
      "name": "python3",
      "display_name": "Python 3"
    },
    "language_info": {
      "name": "python"
    },
    "accelerator": "GPU"
  },
  "cells": [
    {
      "cell_type": "markdown",
      "metadata": {
        "id": "view-in-github",
        "colab_type": "text"
      },
      "source": [
        "<a href=\"https://colab.research.google.com/github/Smjfirna/Arsitektur-Compration/blob/main/ResNet50/100%2Baug.ipynb\" target=\"_parent\"><img src=\"https://colab.research.google.com/assets/colab-badge.svg\" alt=\"Open In Colab\"/></a>"
      ]
    },
    {
      "cell_type": "code",
      "source": [
        "import os\n",
        "import cv2\n",
        "import numpy as np\n",
        "from tqdm import tqdm\n",
        "from sklearn.model_selection import train_test_split\n",
        "from sklearn.preprocessing import LabelEncoder\n",
        "from keras.utils import to_categorical\n",
        "\n",
        "import tensorflow as tf\n",
        "from tensorflow.keras.preprocessing.image import ImageDataGenerator\n",
        "from tensorflow.keras.models import Sequential\n",
        "from tensorflow.keras import layers, Model, regularizers\n",
        "from tensorflow.keras.callbacks import EarlyStopping\n",
        "from tensorflow.keras.layers import Conv2D, MaxPooling2D, Flatten, Dense, GlobalAveragePooling2D, Dropout\n",
        "import os\n",
        "from tensorflow.keras.optimizers import Adam\n",
        "from tensorflow.keras.optimizers import RMSprop\n",
        "\n",
        "from keras.applications import ResNet50"
      ],
      "metadata": {
        "id": "NMN3beIVALVJ"
      },
      "execution_count": 1,
      "outputs": []
    },
    {
      "cell_type": "code",
      "execution_count": 2,
      "metadata": {
        "colab": {
          "base_uri": "https://localhost:8080/",
          "height": 90
        },
        "id": "GK3MPeDN_Ofu",
        "outputId": "94e9df8f-c91d-4757-fa0b-bb6f21a3bbc8"
      },
      "outputs": [
        {
          "output_type": "display_data",
          "data": {
            "text/plain": [
              "<IPython.core.display.HTML object>"
            ],
            "text/html": [
              "\n",
              "     <input type=\"file\" id=\"files-a8930826-7fed-4d66-ae57-28351dbd941f\" name=\"files[]\" multiple disabled\n",
              "        style=\"border:none\" />\n",
              "     <output id=\"result-a8930826-7fed-4d66-ae57-28351dbd941f\">\n",
              "      Upload widget is only available when the cell has been executed in the\n",
              "      current browser session. Please rerun this cell to enable.\n",
              "      </output>\n",
              "      <script>// Copyright 2017 Google LLC\n",
              "//\n",
              "// Licensed under the Apache License, Version 2.0 (the \"License\");\n",
              "// you may not use this file except in compliance with the License.\n",
              "// You may obtain a copy of the License at\n",
              "//\n",
              "//      http://www.apache.org/licenses/LICENSE-2.0\n",
              "//\n",
              "// Unless required by applicable law or agreed to in writing, software\n",
              "// distributed under the License is distributed on an \"AS IS\" BASIS,\n",
              "// WITHOUT WARRANTIES OR CONDITIONS OF ANY KIND, either express or implied.\n",
              "// See the License for the specific language governing permissions and\n",
              "// limitations under the License.\n",
              "\n",
              "/**\n",
              " * @fileoverview Helpers for google.colab Python module.\n",
              " */\n",
              "(function(scope) {\n",
              "function span(text, styleAttributes = {}) {\n",
              "  const element = document.createElement('span');\n",
              "  element.textContent = text;\n",
              "  for (const key of Object.keys(styleAttributes)) {\n",
              "    element.style[key] = styleAttributes[key];\n",
              "  }\n",
              "  return element;\n",
              "}\n",
              "\n",
              "// Max number of bytes which will be uploaded at a time.\n",
              "const MAX_PAYLOAD_SIZE = 100 * 1024;\n",
              "\n",
              "function _uploadFiles(inputId, outputId) {\n",
              "  const steps = uploadFilesStep(inputId, outputId);\n",
              "  const outputElement = document.getElementById(outputId);\n",
              "  // Cache steps on the outputElement to make it available for the next call\n",
              "  // to uploadFilesContinue from Python.\n",
              "  outputElement.steps = steps;\n",
              "\n",
              "  return _uploadFilesContinue(outputId);\n",
              "}\n",
              "\n",
              "// This is roughly an async generator (not supported in the browser yet),\n",
              "// where there are multiple asynchronous steps and the Python side is going\n",
              "// to poll for completion of each step.\n",
              "// This uses a Promise to block the python side on completion of each step,\n",
              "// then passes the result of the previous step as the input to the next step.\n",
              "function _uploadFilesContinue(outputId) {\n",
              "  const outputElement = document.getElementById(outputId);\n",
              "  const steps = outputElement.steps;\n",
              "\n",
              "  const next = steps.next(outputElement.lastPromiseValue);\n",
              "  return Promise.resolve(next.value.promise).then((value) => {\n",
              "    // Cache the last promise value to make it available to the next\n",
              "    // step of the generator.\n",
              "    outputElement.lastPromiseValue = value;\n",
              "    return next.value.response;\n",
              "  });\n",
              "}\n",
              "\n",
              "/**\n",
              " * Generator function which is called between each async step of the upload\n",
              " * process.\n",
              " * @param {string} inputId Element ID of the input file picker element.\n",
              " * @param {string} outputId Element ID of the output display.\n",
              " * @return {!Iterable<!Object>} Iterable of next steps.\n",
              " */\n",
              "function* uploadFilesStep(inputId, outputId) {\n",
              "  const inputElement = document.getElementById(inputId);\n",
              "  inputElement.disabled = false;\n",
              "\n",
              "  const outputElement = document.getElementById(outputId);\n",
              "  outputElement.innerHTML = '';\n",
              "\n",
              "  const pickedPromise = new Promise((resolve) => {\n",
              "    inputElement.addEventListener('change', (e) => {\n",
              "      resolve(e.target.files);\n",
              "    });\n",
              "  });\n",
              "\n",
              "  const cancel = document.createElement('button');\n",
              "  inputElement.parentElement.appendChild(cancel);\n",
              "  cancel.textContent = 'Cancel upload';\n",
              "  const cancelPromise = new Promise((resolve) => {\n",
              "    cancel.onclick = () => {\n",
              "      resolve(null);\n",
              "    };\n",
              "  });\n",
              "\n",
              "  // Wait for the user to pick the files.\n",
              "  const files = yield {\n",
              "    promise: Promise.race([pickedPromise, cancelPromise]),\n",
              "    response: {\n",
              "      action: 'starting',\n",
              "    }\n",
              "  };\n",
              "\n",
              "  cancel.remove();\n",
              "\n",
              "  // Disable the input element since further picks are not allowed.\n",
              "  inputElement.disabled = true;\n",
              "\n",
              "  if (!files) {\n",
              "    return {\n",
              "      response: {\n",
              "        action: 'complete',\n",
              "      }\n",
              "    };\n",
              "  }\n",
              "\n",
              "  for (const file of files) {\n",
              "    const li = document.createElement('li');\n",
              "    li.append(span(file.name, {fontWeight: 'bold'}));\n",
              "    li.append(span(\n",
              "        `(${file.type || 'n/a'}) - ${file.size} bytes, ` +\n",
              "        `last modified: ${\n",
              "            file.lastModifiedDate ? file.lastModifiedDate.toLocaleDateString() :\n",
              "                                    'n/a'} - `));\n",
              "    const percent = span('0% done');\n",
              "    li.appendChild(percent);\n",
              "\n",
              "    outputElement.appendChild(li);\n",
              "\n",
              "    const fileDataPromise = new Promise((resolve) => {\n",
              "      const reader = new FileReader();\n",
              "      reader.onload = (e) => {\n",
              "        resolve(e.target.result);\n",
              "      };\n",
              "      reader.readAsArrayBuffer(file);\n",
              "    });\n",
              "    // Wait for the data to be ready.\n",
              "    let fileData = yield {\n",
              "      promise: fileDataPromise,\n",
              "      response: {\n",
              "        action: 'continue',\n",
              "      }\n",
              "    };\n",
              "\n",
              "    // Use a chunked sending to avoid message size limits. See b/62115660.\n",
              "    let position = 0;\n",
              "    do {\n",
              "      const length = Math.min(fileData.byteLength - position, MAX_PAYLOAD_SIZE);\n",
              "      const chunk = new Uint8Array(fileData, position, length);\n",
              "      position += length;\n",
              "\n",
              "      const base64 = btoa(String.fromCharCode.apply(null, chunk));\n",
              "      yield {\n",
              "        response: {\n",
              "          action: 'append',\n",
              "          file: file.name,\n",
              "          data: base64,\n",
              "        },\n",
              "      };\n",
              "\n",
              "      let percentDone = fileData.byteLength === 0 ?\n",
              "          100 :\n",
              "          Math.round((position / fileData.byteLength) * 100);\n",
              "      percent.textContent = `${percentDone}% done`;\n",
              "\n",
              "    } while (position < fileData.byteLength);\n",
              "  }\n",
              "\n",
              "  // All done.\n",
              "  yield {\n",
              "    response: {\n",
              "      action: 'complete',\n",
              "    }\n",
              "  };\n",
              "}\n",
              "\n",
              "scope.google = scope.google || {};\n",
              "scope.google.colab = scope.google.colab || {};\n",
              "scope.google.colab._files = {\n",
              "  _uploadFiles,\n",
              "  _uploadFilesContinue,\n",
              "};\n",
              "})(self);\n",
              "</script> "
            ]
          },
          "metadata": {}
        },
        {
          "output_type": "stream",
          "name": "stdout",
          "text": [
            "Saving kaggle.json to kaggle (1).json\n"
          ]
        },
        {
          "output_type": "execute_result",
          "data": {
            "text/plain": [
              "{'kaggle (1).json': b'{\"username\":\"smjayyy\",\"key\":\"8eb172e224d83c7b56b4a2ef349b7c0d\"}'}"
            ]
          },
          "metadata": {},
          "execution_count": 2
        }
      ],
      "source": [
        "from google.colab import files\n",
        "files.upload()"
      ]
    },
    {
      "cell_type": "code",
      "source": [
        "!mkdir -p ~/.kaggle\n",
        "!cp kaggle.json ~/.kaggle/\n",
        "!chmod 600 ~/.kaggle/kaggle.json"
      ],
      "metadata": {
        "id": "Y9Kia11G_5Si"
      },
      "execution_count": 3,
      "outputs": []
    },
    {
      "cell_type": "code",
      "source": [
        "##link dataset in Kaggle.com\n",
        "!kaggle datasets download -d smaranjitghose/corn-or-maize-leaf-disease-dataset"
      ],
      "metadata": {
        "colab": {
          "base_uri": "https://localhost:8080/"
        },
        "id": "apfKVlxj_8FJ",
        "outputId": "8d143435-fdb4-41c9-e57c-cfa49ebf1890"
      },
      "execution_count": 4,
      "outputs": [
        {
          "output_type": "stream",
          "name": "stdout",
          "text": [
            "corn-or-maize-leaf-disease-dataset.zip: Skipping, found more recently modified local copy (use --force to force download)\n"
          ]
        }
      ]
    },
    {
      "cell_type": "code",
      "source": [
        "!unzip -q corn-or-maize-leaf-disease-dataset.zip -d /content"
      ],
      "metadata": {
        "id": "ixMUoB2rAAd3",
        "colab": {
          "base_uri": "https://localhost:8080/"
        },
        "outputId": "9de4eeb4-a010-4e1b-ed97-dae7b77235b2"
      },
      "execution_count": 5,
      "outputs": [
        {
          "output_type": "stream",
          "name": "stdout",
          "text": [
            "replace /content/data/Blight/Corn_Blight (1).jpeg? [y]es, [n]o, [A]ll, [N]one, [r]ename: "
          ]
        }
      ]
    },
    {
      "cell_type": "code",
      "source": [
        "dataset_dir = '/content/data'"
      ],
      "metadata": {
        "id": "pZ8IerIQAGFO"
      },
      "execution_count": 6,
      "outputs": []
    },
    {
      "cell_type": "code",
      "source": [
        "print(os.listdir(dataset_dir))"
      ],
      "metadata": {
        "colab": {
          "base_uri": "https://localhost:8080/"
        },
        "id": "9wwka8QaAIcj",
        "outputId": "686359db-8799-4890-d6e8-2f10dd6cd97b"
      },
      "execution_count": 7,
      "outputs": [
        {
          "output_type": "stream",
          "name": "stdout",
          "text": [
            "['Blight', 'Gray_Leaf_Spot', 'Common_Rust', 'Healthy']\n"
          ]
        }
      ]
    },
    {
      "cell_type": "code",
      "source": [
        "IMAGE_SIZE_resnet50 = 224"
      ],
      "metadata": {
        "id": "_UCEuA-hAPSa"
      },
      "execution_count": 8,
      "outputs": []
    },
    {
      "cell_type": "code",
      "source": [
        "def make_data(label, DIR, img_list, label_list):\n",
        "    for img in tqdm(os.listdir(DIR)):\n",
        "        path = os.path.join(DIR, img)\n",
        "        img = cv2.imread(path, cv2.IMREAD_COLOR)\n",
        "        img = cv2.resize(img, (IMAGE_SIZE_resnet50, IMAGE_SIZE_resnet50))\n",
        "        img_list.append(np.array(img))\n",
        "        label_list.append(str(label))"
      ],
      "metadata": {
        "id": "B3menIgvARk5"
      },
      "execution_count": 9,
      "outputs": []
    },
    {
      "cell_type": "code",
      "source": [
        "X = []\n",
        "Z = []"
      ],
      "metadata": {
        "id": "Jn6gWefxATyU"
      },
      "execution_count": 10,
      "outputs": []
    },
    {
      "cell_type": "code",
      "source": [
        "for i, class_name in enumerate(['Common_Rust', 'Healthy', 'Gray_Leaf_Spot', 'Blight']):\n",
        "    class_dir = os.path.join(dataset_dir, class_name)\n",
        "    make_data(class_name, class_dir, X, Z)"
      ],
      "metadata": {
        "colab": {
          "base_uri": "https://localhost:8080/"
        },
        "id": "S9-RQTGJAWCk",
        "outputId": "e0d214d1-c3bb-445c-8bec-0b331052aec1"
      },
      "execution_count": 11,
      "outputs": [
        {
          "output_type": "stream",
          "name": "stderr",
          "text": [
            "100%|██████████| 1306/1306 [00:05<00:00, 247.44it/s]\n",
            "100%|██████████| 1162/1162 [00:01<00:00, 636.81it/s]\n",
            "100%|██████████| 574/574 [00:02<00:00, 249.97it/s]\n",
            "100%|██████████| 1146/1146 [00:05<00:00, 206.42it/s]\n"
          ]
        }
      ]
    },
    {
      "cell_type": "code",
      "source": [
        "import matplotlib.pyplot as plt\n",
        "\n",
        "# Menghitung jumlah data untuk setiap kelas\n",
        "class_counts = {class_name: Z.count(class_name) for class_name in set(Z)}\n",
        "\n",
        "# Menampilkan visualisasi jumlah data\n",
        "plt.figure(figsize=(6, 4))\n",
        "plt.bar(class_counts.keys(), class_counts.values())\n",
        "plt.xlabel('Class')\n",
        "plt.ylabel('Count')\n",
        "plt.title('Jumlah Data Setiap Kelas')\n",
        "plt.show()"
      ],
      "metadata": {
        "colab": {
          "base_uri": "https://localhost:8080/",
          "height": 410
        },
        "id": "-IcXHIM8Akcw",
        "outputId": "728b6f2d-91db-4b01-ed59-2dbd1fb713ad"
      },
      "execution_count": 12,
      "outputs": [
        {
          "output_type": "display_data",
          "data": {
            "text/plain": [
              "<Figure size 600x400 with 1 Axes>"
            ],
            "image/png": "[encoded data removed]"
          },
          "metadata": {}
        }
      ]
    },
    {
      "cell_type": "code",
      "source": [
        "le = LabelEncoder()\n",
        "Y = le.fit_transform(Z)\n",
        "Y = to_categorical(Y, num_classes=len(le.classes_))\n",
        "\n",
        "# Konversi ke array numpy\n",
        "X = np.array(X)\n",
        "\n",
        "# Memisahkan data menjadi data latih dan data uji\n",
        "X_train, X_test, Y_train, Y_test = train_test_split(X, Y, test_size=0.2, random_state=42)\n",
        "\n",
        "print(\"Jumlah Data Train adalah :\", len(X_train))\n",
        "print(\"Jumlah Data Test adalah :\", len(X_test))"
      ],
      "metadata": {
        "colab": {
          "base_uri": "https://localhost:8080/"
        },
        "id": "OI7kvVbXAqko",
        "outputId": "ef36e4a6-559f-41b6-a991-54bde7b83c7d"
      },
      "execution_count": 13,
      "outputs": [
        {
          "output_type": "stream",
          "name": "stdout",
          "text": [
            "Jumlah Data Train adalah : 3350\n",
            "Jumlah Data Test adalah : 838\n"
          ]
        }
      ]
    },
    {
      "cell_type": "code",
      "source": [
        "datagen = ImageDataGenerator(\n",
        "    rotation_range=20,\n",
        "    zoom_range=0.2,\n",
        "    horizontal_flip=True,\n",
        "    vertical_flip=True\n",
        ")\n",
        "\n",
        "datagen.fit(X_train)"
      ],
      "metadata": {
        "id": "ue5XLCIlA2ld"
      },
      "execution_count": 14,
      "outputs": []
    },
    {
      "cell_type": "code",
      "source": [
        "resnet50 = ResNet50(include_top=False, weights='imagenet', input_shape=(IMAGE_SIZE_resnet50, IMAGE_SIZE_resnet50, 3))\n",
        "\n",
        "# Membuat model Sequential\n",
        "model_resnet50ver2 = Sequential()\n",
        "model_resnet50ver2.add(resnet50)\n",
        "model_resnet50ver2.add(GlobalAveragePooling2D())\n",
        "model_resnet50ver2.add(Dense(4, activation='softmax'))\n",
        "\n",
        "# Membekukan layer-layer ResNet50 yang telah dilatih\n",
        "for layer in resnet50.layers:\n",
        "    layer.trainable = False\n",
        "\n",
        "model_resnet50ver2.compile(optimizer=Adam(learning_rate=0.001), loss='categorical_crossentropy', metrics=['accuracy'])\n",
        "\n",
        "# Menampilkan summary dari model\n",
        "model_resnet50ver2.summary()\n",
        "\n",
        "# Melatih model dengan data latih dan validasi\n",
        "history_resnet50ver2 = model_resnet50ver2.fit(datagen.flow(X_train, Y_train), epochs=100, validation_data=(X_test, Y_test))"
      ],
      "metadata": {
        "id": "qg6h8yY_A62R",
        "colab": {
          "base_uri": "https://localhost:8080/"
        },
        "outputId": "38344a1b-4720-43cd-d283-baefd53305d3"
      },
      "execution_count": 15,
      "outputs": [
        {
          "output_type": "stream",
          "name": "stdout",
          "text": [
            "Model: \"sequential\"\n",
            "_________________________________________________________________\n",
            " Layer (type)                Output Shape              Param #   \n",
            "=================================================================\n",
            " resnet50 (Functional)       (None, 7, 7, 2048)        23587712  \n",
            "                                                                 \n",
            " global_average_pooling2d (  (None, 2048)              0         \n",
            " GlobalAveragePooling2D)                                         \n",
            "                                                                 \n",
            " dense (Dense)               (None, 4)                 8196      \n",
            "                                                                 \n",
            "=================================================================\n",
            "Total params: 23595908 (90.01 MB)\n",
            "Trainable params: 8196 (32.02 KB)\n",
            "Non-trainable params: 23587712 (89.98 MB)\n",
            "_________________________________________________________________\n",
            "Epoch 1/100\n",
            "105/105 [==============================] - 50s 409ms/step - loss: 0.4160 - accuracy: 0.8346 - val_loss: 0.2589 - val_accuracy: 0.9045\n",
            "Epoch 2/100\n",
            "105/105 [==============================] - 42s 402ms/step - loss: 0.2330 - accuracy: 0.9090 - val_loss: 0.2002 - val_accuracy: 0.9165\n",
            "Epoch 3/100\n",
            "105/105 [==============================] - 41s 388ms/step - loss: 0.1886 - accuracy: 0.9269 - val_loss: 0.1846 - val_accuracy: 0.9260\n",
            "Epoch 4/100\n",
            "105/105 [==============================] - 42s 395ms/step - loss: 0.1780 - accuracy: 0.9307 - val_loss: 0.1590 - val_accuracy: 0.9356\n",
            "Epoch 5/100\n",
            "105/105 [==============================] - 41s 387ms/step - loss: 0.1652 - accuracy: 0.9337 - val_loss: 0.1686 - val_accuracy: 0.9356\n",
            "Epoch 6/100\n",
            "105/105 [==============================] - 41s 388ms/step - loss: 0.1606 - accuracy: 0.9367 - val_loss: 0.1530 - val_accuracy: 0.9475\n",
            "Epoch 7/100\n",
            "105/105 [==============================] - 41s 389ms/step - loss: 0.1431 - accuracy: 0.9454 - val_loss: 0.1479 - val_accuracy: 0.9439\n",
            "Epoch 8/100\n",
            "105/105 [==============================] - 41s 390ms/step - loss: 0.1409 - accuracy: 0.9436 - val_loss: 0.1508 - val_accuracy: 0.9499\n",
            "Epoch 9/100\n",
            "105/105 [==============================] - 41s 389ms/step - loss: 0.1296 - accuracy: 0.9478 - val_loss: 0.1560 - val_accuracy: 0.9403\n",
            "Epoch 10/100\n",
            "105/105 [==============================] - 41s 388ms/step - loss: 0.1240 - accuracy: 0.9513 - val_loss: 0.1411 - val_accuracy: 0.9487\n",
            "Epoch 11/100\n",
            "105/105 [==============================] - 42s 396ms/step - loss: 0.1234 - accuracy: 0.9537 - val_loss: 0.1411 - val_accuracy: 0.9547\n",
            "Epoch 12/100\n",
            "105/105 [==============================] - 41s 389ms/step - loss: 0.1162 - accuracy: 0.9546 - val_loss: 0.1548 - val_accuracy: 0.9463\n",
            "Epoch 13/100\n",
            "105/105 [==============================] - 41s 386ms/step - loss: 0.1156 - accuracy: 0.9552 - val_loss: 0.1513 - val_accuracy: 0.9511\n",
            "Epoch 14/100\n",
            "105/105 [==============================] - 41s 389ms/step - loss: 0.1209 - accuracy: 0.9528 - val_loss: 0.1396 - val_accuracy: 0.9499\n",
            "Epoch 15/100\n",
            "105/105 [==============================] - 43s 411ms/step - loss: 0.1087 - accuracy: 0.9579 - val_loss: 0.1333 - val_accuracy: 0.9570\n",
            "Epoch 16/100\n",
            "105/105 [==============================] - 42s 400ms/step - loss: 0.1100 - accuracy: 0.9534 - val_loss: 0.1432 - val_accuracy: 0.9558\n",
            "Epoch 17/100\n",
            "105/105 [==============================] - 41s 389ms/step - loss: 0.1052 - accuracy: 0.9612 - val_loss: 0.1450 - val_accuracy: 0.9499\n",
            "Epoch 18/100\n",
            "105/105 [==============================] - 41s 386ms/step - loss: 0.1028 - accuracy: 0.9612 - val_loss: 0.1383 - val_accuracy: 0.9570\n",
            "Epoch 19/100\n",
            "105/105 [==============================] - 41s 388ms/step - loss: 0.1042 - accuracy: 0.9594 - val_loss: 0.1442 - val_accuracy: 0.9582\n",
            "Epoch 20/100\n",
            "105/105 [==============================] - 41s 388ms/step - loss: 0.1087 - accuracy: 0.9552 - val_loss: 0.1293 - val_accuracy: 0.9594\n",
            "Epoch 21/100\n",
            "105/105 [==============================] - 41s 393ms/step - loss: 0.0894 - accuracy: 0.9609 - val_loss: 0.1442 - val_accuracy: 0.9499\n",
            "Epoch 22/100\n",
            "105/105 [==============================] - 42s 396ms/step - loss: 0.1022 - accuracy: 0.9594 - val_loss: 0.1432 - val_accuracy: 0.9499\n",
            "Epoch 23/100\n",
            "105/105 [==============================] - 41s 392ms/step - loss: 0.0938 - accuracy: 0.9630 - val_loss: 0.1402 - val_accuracy: 0.9499\n",
            "Epoch 24/100\n",
            "105/105 [==============================] - 41s 390ms/step - loss: 0.0973 - accuracy: 0.9618 - val_loss: 0.1497 - val_accuracy: 0.9499\n",
            "Epoch 25/100\n",
            "105/105 [==============================] - 41s 388ms/step - loss: 0.0889 - accuracy: 0.9645 - val_loss: 0.1428 - val_accuracy: 0.9511\n",
            "Epoch 26/100\n",
            "105/105 [==============================] - 42s 397ms/step - loss: 0.0888 - accuracy: 0.9657 - val_loss: 0.1364 - val_accuracy: 0.9618\n",
            "Epoch 27/100\n",
            "105/105 [==============================] - 41s 393ms/step - loss: 0.0873 - accuracy: 0.9654 - val_loss: 0.1336 - val_accuracy: 0.9547\n",
            "Epoch 28/100\n",
            "105/105 [==============================] - 41s 388ms/step - loss: 0.0911 - accuracy: 0.9648 - val_loss: 0.1353 - val_accuracy: 0.9547\n",
            "Epoch 29/100\n",
            "105/105 [==============================] - 41s 387ms/step - loss: 0.0809 - accuracy: 0.9681 - val_loss: 0.1381 - val_accuracy: 0.9523\n",
            "Epoch 30/100\n",
            "105/105 [==============================] - 42s 397ms/step - loss: 0.0809 - accuracy: 0.9684 - val_loss: 0.1740 - val_accuracy: 0.9451\n",
            "Epoch 31/100\n",
            "105/105 [==============================] - 42s 397ms/step - loss: 0.0855 - accuracy: 0.9633 - val_loss: 0.1460 - val_accuracy: 0.9523\n",
            "Epoch 32/100\n",
            "105/105 [==============================] - 41s 393ms/step - loss: 0.0804 - accuracy: 0.9669 - val_loss: 0.1467 - val_accuracy: 0.9499\n",
            "Epoch 33/100\n",
            "105/105 [==============================] - 41s 392ms/step - loss: 0.0838 - accuracy: 0.9645 - val_loss: 0.1988 - val_accuracy: 0.9391\n",
            "Epoch 34/100\n",
            "105/105 [==============================] - 41s 387ms/step - loss: 0.0917 - accuracy: 0.9624 - val_loss: 0.1581 - val_accuracy: 0.9463\n",
            "Epoch 35/100\n",
            "105/105 [==============================] - 42s 395ms/step - loss: 0.0779 - accuracy: 0.9687 - val_loss: 0.1489 - val_accuracy: 0.9487\n",
            "Epoch 36/100\n",
            "105/105 [==============================] - 42s 404ms/step - loss: 0.0783 - accuracy: 0.9690 - val_loss: 0.1417 - val_accuracy: 0.9547\n",
            "Epoch 37/100\n",
            "105/105 [==============================] - 42s 395ms/step - loss: 0.0822 - accuracy: 0.9675 - val_loss: 0.1560 - val_accuracy: 0.9499\n",
            "Epoch 38/100\n",
            "105/105 [==============================] - 41s 392ms/step - loss: 0.0769 - accuracy: 0.9690 - val_loss: 0.1656 - val_accuracy: 0.9415\n",
            "Epoch 39/100\n",
            "105/105 [==============================] - 41s 386ms/step - loss: 0.0790 - accuracy: 0.9684 - val_loss: 0.1454 - val_accuracy: 0.9558\n",
            "Epoch 40/100\n",
            "105/105 [==============================] - 41s 390ms/step - loss: 0.0812 - accuracy: 0.9690 - val_loss: 0.1474 - val_accuracy: 0.9570\n",
            "Epoch 41/100\n",
            "105/105 [==============================] - 42s 399ms/step - loss: 0.0760 - accuracy: 0.9696 - val_loss: 0.1400 - val_accuracy: 0.9582\n",
            "Epoch 42/100\n",
            "105/105 [==============================] - 41s 391ms/step - loss: 0.0785 - accuracy: 0.9681 - val_loss: 0.1480 - val_accuracy: 0.9523\n",
            "Epoch 43/100\n",
            "105/105 [==============================] - 40s 385ms/step - loss: 0.0746 - accuracy: 0.9699 - val_loss: 0.1383 - val_accuracy: 0.9535\n",
            "Epoch 44/100\n",
            "105/105 [==============================] - 41s 387ms/step - loss: 0.0780 - accuracy: 0.9660 - val_loss: 0.1447 - val_accuracy: 0.9558\n",
            "Epoch 45/100\n",
            "105/105 [==============================] - 41s 392ms/step - loss: 0.0725 - accuracy: 0.9684 - val_loss: 0.1534 - val_accuracy: 0.9547\n",
            "Epoch 46/100\n",
            "105/105 [==============================] - 41s 393ms/step - loss: 0.0744 - accuracy: 0.9719 - val_loss: 0.1569 - val_accuracy: 0.9547\n",
            "Epoch 47/100\n",
            "105/105 [==============================] - 41s 395ms/step - loss: 0.0711 - accuracy: 0.9752 - val_loss: 0.1570 - val_accuracy: 0.9499\n",
            "Epoch 48/100\n",
            "105/105 [==============================] - 41s 388ms/step - loss: 0.0711 - accuracy: 0.9699 - val_loss: 0.1430 - val_accuracy: 0.9547\n",
            "Epoch 49/100\n",
            "105/105 [==============================] - 41s 391ms/step - loss: 0.0683 - accuracy: 0.9731 - val_loss: 0.1816 - val_accuracy: 0.9463\n",
            "Epoch 50/100\n",
            "105/105 [==============================] - 41s 390ms/step - loss: 0.0745 - accuracy: 0.9690 - val_loss: 0.1751 - val_accuracy: 0.9535\n",
            "Epoch 51/100\n",
            "105/105 [==============================] - 41s 393ms/step - loss: 0.0686 - accuracy: 0.9687 - val_loss: 0.1740 - val_accuracy: 0.9487\n",
            "Epoch 52/100\n",
            "105/105 [==============================] - 41s 389ms/step - loss: 0.0619 - accuracy: 0.9779 - val_loss: 0.1896 - val_accuracy: 0.9511\n",
            "Epoch 53/100\n",
            "105/105 [==============================] - 41s 389ms/step - loss: 0.0704 - accuracy: 0.9734 - val_loss: 0.1653 - val_accuracy: 0.9535\n",
            "Epoch 54/100\n",
            "105/105 [==============================] - 42s 396ms/step - loss: 0.0642 - accuracy: 0.9737 - val_loss: 0.1590 - val_accuracy: 0.9547\n",
            "Epoch 55/100\n",
            "105/105 [==============================] - 42s 396ms/step - loss: 0.0692 - accuracy: 0.9719 - val_loss: 0.1498 - val_accuracy: 0.9535\n",
            "Epoch 56/100\n",
            "105/105 [==============================] - 41s 388ms/step - loss: 0.0657 - accuracy: 0.9740 - val_loss: 0.1660 - val_accuracy: 0.9523\n",
            "Epoch 57/100\n",
            "105/105 [==============================] - 41s 392ms/step - loss: 0.0752 - accuracy: 0.9701 - val_loss: 0.1838 - val_accuracy: 0.9499\n",
            "Epoch 58/100\n",
            "105/105 [==============================] - 41s 392ms/step - loss: 0.0713 - accuracy: 0.9719 - val_loss: 0.1715 - val_accuracy: 0.9511\n",
            "Epoch 59/100\n",
            "105/105 [==============================] - 42s 398ms/step - loss: 0.0647 - accuracy: 0.9767 - val_loss: 0.1462 - val_accuracy: 0.9570\n",
            "Epoch 60/100\n",
            "105/105 [==============================] - 43s 412ms/step - loss: 0.0599 - accuracy: 0.9782 - val_loss: 0.1521 - val_accuracy: 0.9558\n",
            "Epoch 61/100\n",
            "105/105 [==============================] - 42s 403ms/step - loss: 0.0960 - accuracy: 0.9579 - val_loss: 0.1664 - val_accuracy: 0.9535\n",
            "Epoch 62/100\n",
            "105/105 [==============================] - 45s 425ms/step - loss: 0.0757 - accuracy: 0.9716 - val_loss: 0.1586 - val_accuracy: 0.9547\n",
            "Epoch 63/100\n",
            "105/105 [==============================] - 45s 430ms/step - loss: 0.0764 - accuracy: 0.9707 - val_loss: 0.1664 - val_accuracy: 0.9523\n",
            "Epoch 64/100\n",
            "105/105 [==============================] - 43s 413ms/step - loss: 0.0642 - accuracy: 0.9737 - val_loss: 0.1476 - val_accuracy: 0.9570\n",
            "Epoch 65/100\n",
            "105/105 [==============================] - 45s 425ms/step - loss: 0.0707 - accuracy: 0.9710 - val_loss: 0.1494 - val_accuracy: 0.9582\n",
            "Epoch 66/100\n",
            "105/105 [==============================] - 46s 443ms/step - loss: 0.0674 - accuracy: 0.9725 - val_loss: 0.1536 - val_accuracy: 0.9606\n",
            "Epoch 67/100\n",
            "105/105 [==============================] - 46s 440ms/step - loss: 0.0624 - accuracy: 0.9761 - val_loss: 0.1481 - val_accuracy: 0.9558\n",
            "Epoch 68/100\n",
            "105/105 [==============================] - 43s 413ms/step - loss: 0.0773 - accuracy: 0.9728 - val_loss: 0.1552 - val_accuracy: 0.9523\n",
            "Epoch 69/100\n",
            "105/105 [==============================] - 43s 406ms/step - loss: 0.0696 - accuracy: 0.9749 - val_loss: 0.1635 - val_accuracy: 0.9535\n",
            "Epoch 70/100\n",
            "105/105 [==============================] - 44s 417ms/step - loss: 0.0675 - accuracy: 0.9770 - val_loss: 0.1488 - val_accuracy: 0.9570\n",
            "Epoch 71/100\n",
            "105/105 [==============================] - 42s 396ms/step - loss: 0.0645 - accuracy: 0.9734 - val_loss: 0.1676 - val_accuracy: 0.9511\n",
            "Epoch 72/100\n",
            "105/105 [==============================] - 43s 410ms/step - loss: 0.0632 - accuracy: 0.9740 - val_loss: 0.1585 - val_accuracy: 0.9499\n",
            "Epoch 73/100\n",
            "105/105 [==============================] - 42s 401ms/step - loss: 0.0586 - accuracy: 0.9782 - val_loss: 0.1574 - val_accuracy: 0.9558\n",
            "Epoch 74/100\n",
            "105/105 [==============================] - 43s 407ms/step - loss: 0.0730 - accuracy: 0.9746 - val_loss: 0.1518 - val_accuracy: 0.9547\n",
            "Epoch 75/100\n",
            "105/105 [==============================] - 43s 412ms/step - loss: 0.0707 - accuracy: 0.9725 - val_loss: 0.1643 - val_accuracy: 0.9558\n",
            "Epoch 76/100\n",
            "105/105 [==============================] - 42s 398ms/step - loss: 0.0649 - accuracy: 0.9752 - val_loss: 0.1496 - val_accuracy: 0.9558\n",
            "Epoch 77/100\n",
            "105/105 [==============================] - 42s 404ms/step - loss: 0.0676 - accuracy: 0.9737 - val_loss: 0.1464 - val_accuracy: 0.9582\n",
            "Epoch 78/100\n",
            "105/105 [==============================] - 42s 400ms/step - loss: 0.0594 - accuracy: 0.9776 - val_loss: 0.1697 - val_accuracy: 0.9535\n",
            "Epoch 79/100\n",
            "105/105 [==============================] - 43s 410ms/step - loss: 0.0610 - accuracy: 0.9764 - val_loss: 0.1679 - val_accuracy: 0.9570\n",
            "Epoch 80/100\n",
            "105/105 [==============================] - 42s 401ms/step - loss: 0.0643 - accuracy: 0.9731 - val_loss: 0.1499 - val_accuracy: 0.9594\n",
            "Epoch 81/100\n",
            "105/105 [==============================] - 42s 400ms/step - loss: 0.0643 - accuracy: 0.9740 - val_loss: 0.1804 - val_accuracy: 0.9535\n",
            "Epoch 82/100\n",
            "105/105 [==============================] - 42s 400ms/step - loss: 0.0659 - accuracy: 0.9734 - val_loss: 0.1546 - val_accuracy: 0.9630\n",
            "Epoch 83/100\n",
            "105/105 [==============================] - 42s 399ms/step - loss: 0.0609 - accuracy: 0.9752 - val_loss: 0.1614 - val_accuracy: 0.9547\n",
            "Epoch 84/100\n",
            "105/105 [==============================] - 42s 398ms/step - loss: 0.0564 - accuracy: 0.9764 - val_loss: 0.1615 - val_accuracy: 0.9558\n",
            "Epoch 85/100\n",
            "105/105 [==============================] - 42s 396ms/step - loss: 0.0614 - accuracy: 0.9761 - val_loss: 0.1590 - val_accuracy: 0.9558\n",
            "Epoch 86/100\n",
            "105/105 [==============================] - 43s 405ms/step - loss: 0.0647 - accuracy: 0.9743 - val_loss: 0.2236 - val_accuracy: 0.9356\n",
            "Epoch 87/100\n",
            "105/105 [==============================] - 42s 402ms/step - loss: 0.0781 - accuracy: 0.9666 - val_loss: 0.1879 - val_accuracy: 0.9475\n",
            "Epoch 88/100\n",
            "105/105 [==============================] - 42s 398ms/step - loss: 0.0633 - accuracy: 0.9725 - val_loss: 0.1558 - val_accuracy: 0.9547\n",
            "Epoch 89/100\n",
            "105/105 [==============================] - 43s 407ms/step - loss: 0.0590 - accuracy: 0.9788 - val_loss: 0.1621 - val_accuracy: 0.9547\n",
            "Epoch 90/100\n",
            "105/105 [==============================] - 42s 396ms/step - loss: 0.0567 - accuracy: 0.9785 - val_loss: 0.1646 - val_accuracy: 0.9606\n",
            "Epoch 91/100\n",
            "105/105 [==============================] - 43s 406ms/step - loss: 0.0689 - accuracy: 0.9743 - val_loss: 0.1576 - val_accuracy: 0.9570\n",
            "Epoch 92/100\n",
            "105/105 [==============================] - 42s 398ms/step - loss: 0.0596 - accuracy: 0.9773 - val_loss: 0.1607 - val_accuracy: 0.9523\n",
            "Epoch 93/100\n",
            "105/105 [==============================] - 44s 420ms/step - loss: 0.0614 - accuracy: 0.9773 - val_loss: 0.1632 - val_accuracy: 0.9582\n",
            "Epoch 94/100\n",
            "105/105 [==============================] - 42s 400ms/step - loss: 0.0491 - accuracy: 0.9812 - val_loss: 0.1668 - val_accuracy: 0.9523\n",
            "Epoch 95/100\n",
            "105/105 [==============================] - 42s 402ms/step - loss: 0.0705 - accuracy: 0.9716 - val_loss: 0.1623 - val_accuracy: 0.9523\n",
            "Epoch 96/100\n",
            "105/105 [==============================] - 44s 415ms/step - loss: 0.0569 - accuracy: 0.9773 - val_loss: 0.1770 - val_accuracy: 0.9523\n",
            "Epoch 97/100\n",
            "105/105 [==============================] - 43s 414ms/step - loss: 0.0593 - accuracy: 0.9755 - val_loss: 0.1670 - val_accuracy: 0.9558\n",
            "Epoch 98/100\n",
            "105/105 [==============================] - 43s 404ms/step - loss: 0.0537 - accuracy: 0.9782 - val_loss: 0.1721 - val_accuracy: 0.9594\n",
            "Epoch 99/100\n",
            "105/105 [==============================] - 42s 398ms/step - loss: 0.0546 - accuracy: 0.9809 - val_loss: 0.2477 - val_accuracy: 0.9356\n",
            "Epoch 100/100\n",
            "105/105 [==============================] - 41s 394ms/step - loss: 0.0701 - accuracy: 0.9749 - val_loss: 0.1754 - val_accuracy: 0.9523\n"
          ]
        }
      ]
    },
    {
      "cell_type": "code",
      "source": [
        "from sklearn.metrics import confusion_matrix, classification_report\n",
        "import numpy as np\n",
        "import matplotlib.pyplot as plt\n",
        "import seaborn as sns\n",
        "\n",
        "# Menggunakan model_resnet50ver2 untuk membuat prediksi pada data uji\n",
        "Y_pred = model_resnet50ver2.predict(X_test)\n",
        "# Mengambil indeks kelas dengan probabilitas tertinggi sebagai prediksi\n",
        "Y_pred_classes = np.argmax(Y_pred, axis=1)\n",
        "# Mengambil indeks kelas dengan probabilitas tertinggi sebagai label sebenarnya\n",
        "Y_true = np.argmax(Y_test, axis=1)\n",
        "\n",
        "# Membuat confusion matrix\n",
        "conf_matrix = confusion_matrix(Y_true, Y_pred_classes)\n",
        "\n",
        "# Menampilkan confusion matrix dalam bentuk visualisasi\n",
        "plt.figure(figsize=(8, 6))\n",
        "sns.heatmap(conf_matrix, annot=True, fmt=\"d\", cmap=\"Blues\", xticklabels=['Common_Rust', 'Healthy', 'Gray_Leaf_Spot', 'Blight'], yticklabels=['Common_Rust', 'Healthy', 'Gray_Leaf_Spot', 'Blight'])\n",
        "plt.xlabel('Predicted labels')\n",
        "plt.ylabel('True labels')\n",
        "plt.title('Confusion Matrix')\n",
        "plt.show()\n",
        "\n",
        "# Membuat classification report\n",
        "class_report = classification_report(Y_true, Y_pred_classes)\n",
        "\n",
        "# Menampilkan classification report\n",
        "print(\"\\nClassification Report:\")\n",
        "print(class_report)"
      ],
      "metadata": {
        "id": "W2svXyjyTjeo",
        "colab": {
          "base_uri": "https://localhost:8080/",
          "height": 807
        },
        "outputId": "3830beb5-d6a5-44b2-8bd3-2afa0f357109"
      },
      "execution_count": 17,
      "outputs": [
        {
          "output_type": "stream",
          "name": "stdout",
          "text": [
            "27/27 [==============================] - 2s 89ms/step\n"
          ]
        },
        {
          "output_type": "display_data",
          "data": {
            "text/plain": [
              "<Figure size 800x600 with 2 Axes>"
            ],
            "image/png": "[encoded data removed]"
          },
          "metadata": {}
        },
        {
          "output_type": "stream",
          "name": "stdout",
          "text": [
            "\n",
            "Classification Report:\n",
            "              precision    recall  f1-score   support\n",
            "\n",
            "           0       0.91      0.92      0.92       218\n",
            "           1       0.99      0.99      0.99       289\n",
            "           2       0.83      0.85      0.84       104\n",
            "           3       1.00      0.99      0.99       227\n",
            "\n",
            "    accuracy                           0.95       838\n",
            "   macro avg       0.93      0.94      0.93       838\n",
            "weighted avg       0.95      0.95      0.95       838\n",
            "\n"
          ]
        }
      ]
    }
  ]
}