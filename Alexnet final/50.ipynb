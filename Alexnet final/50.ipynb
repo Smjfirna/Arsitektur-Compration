{
  "nbformat": 4,
  "nbformat_minor": 0,
  "metadata": {
    "colab": {
      "provenance": [],
      "gpuType": "T4",
      "include_colab_link": true
    },
    "kernelspec": {
      "name": "python3",
      "display_name": "Python 3"
    },
    "language_info": {
      "name": "python"
    },
    "accelerator": "GPU"
  },
  "cells": [
    {
      "cell_type": "markdown",
      "metadata": {
        "id": "view-in-github",
        "colab_type": "text"
      },
      "source": [
        "<a href=\"https://colab.research.google.com/github/Smjfirna/Arsitektur-Compration/blob/main/Alexnet%20final/50.ipynb\" target=\"_parent\"><img src=\"https://colab.research.google.com/assets/colab-badge.svg\" alt=\"Open In Colab\"/></a>"
      ]
    },
    {
      "cell_type": "code",
      "source": [
        "#Preprocessing\n",
        "import os\n",
        "import cv2\n",
        "import numpy as np\n",
        "from tqdm import tqdm\n",
        "from sklearn.model_selection import train_test_split\n",
        "from sklearn.preprocessing import LabelEncoder\n",
        "from keras.utils import to_categorical\n",
        "\n",
        "#Model dan Augmentasi\n",
        "import tensorflow as tf\n",
        "from tensorflow.keras.preprocessing.image import ImageDataGenerator\n",
        "from tensorflow.keras.models import Sequential\n",
        "from tensorflow.keras import layers, Model, regularizers\n",
        "from tensorflow.keras.callbacks import EarlyStopping\n",
        "from tensorflow.keras.layers import Conv2D, MaxPooling2D, Flatten, Dense, GlobalAveragePooling2D, Dropout,BatchNormalization\n",
        "import os\n",
        "from tensorflow.keras.optimizers import Adam\n",
        "from tensorflow.keras.optimizers import RMSprop\n",
        "\n",
        "# Evaluasi\n",
        "#import torch\n",
        "#import torchvision.models as models\n",
        "#from thop import profile\n",
        "from sklearn.metrics import confusion_matrix, classification_report\n",
        "\n",
        "#Visualisasi\n",
        "import matplotlib.pyplot as plt\n",
        "import seaborn as sns\n",
        "import os\n",
        "import cv2\n",
        "import numpy as np\n",
        "from tqdm import tqdm\n",
        "from sklearn.model_selection import train_test_split\n",
        "from sklearn.preprocessing import LabelEncoder\n",
        "from keras.utils import to_categorical"
      ],
      "metadata": {
        "id": "NMN3beIVALVJ"
      },
      "execution_count": 1,
      "outputs": []
    },
    {
      "cell_type": "code",
      "execution_count": 2,
      "metadata": {
        "colab": {
          "base_uri": "https://localhost:8080/",
          "height": 90
        },
        "id": "GK3MPeDN_Ofu",
        "outputId": "2196e57b-d0e1-4b22-bf83-4ac9750457ae"
      },
      "outputs": [
        {
          "output_type": "display_data",
          "data": {
            "text/plain": [
              "<IPython.core.display.HTML object>"
            ],
            "text/html": [
              "\n",
              "     <input type=\"file\" id=\"files-1531d80a-108e-4f4f-a384-5bfa818d4833\" name=\"files[]\" multiple disabled\n",
              "        style=\"border:none\" />\n",
              "     <output id=\"result-1531d80a-108e-4f4f-a384-5bfa818d4833\">\n",
              "      Upload widget is only available when the cell has been executed in the\n",
              "      current browser session. Please rerun this cell to enable.\n",
              "      </output>\n",
              "      <script>// Copyright 2017 Google LLC\n",
              "//\n",
              "// Licensed under the Apache License, Version 2.0 (the \"License\");\n",
              "// you may not use this file except in compliance with the License.\n",
              "// You may obtain a copy of the License at\n",
              "//\n",
              "//      http://www.apache.org/licenses/LICENSE-2.0\n",
              "//\n",
              "// Unless required by applicable law or agreed to in writing, software\n",
              "// distributed under the License is distributed on an \"AS IS\" BASIS,\n",
              "// WITHOUT WARRANTIES OR CONDITIONS OF ANY KIND, either express or implied.\n",
              "// See the License for the specific language governing permissions and\n",
              "// limitations under the License.\n",
              "\n",
              "/**\n",
              " * @fileoverview Helpers for google.colab Python module.\n",
              " */\n",
              "(function(scope) {\n",
              "function span(text, styleAttributes = {}) {\n",
              "  const element = document.createElement('span');\n",
              "  element.textContent = text;\n",
              "  for (const key of Object.keys(styleAttributes)) {\n",
              "    element.style[key] = styleAttributes[key];\n",
              "  }\n",
              "  return element;\n",
              "}\n",
              "\n",
              "// Max number of bytes which will be uploaded at a time.\n",
              "const MAX_PAYLOAD_SIZE = 100 * 1024;\n",
              "\n",
              "function _uploadFiles(inputId, outputId) {\n",
              "  const steps = uploadFilesStep(inputId, outputId);\n",
              "  const outputElement = document.getElementById(outputId);\n",
              "  // Cache steps on the outputElement to make it available for the next call\n",
              "  // to uploadFilesContinue from Python.\n",
              "  outputElement.steps = steps;\n",
              "\n",
              "  return _uploadFilesContinue(outputId);\n",
              "}\n",
              "\n",
              "// This is roughly an async generator (not supported in the browser yet),\n",
              "// where there are multiple asynchronous steps and the Python side is going\n",
              "// to poll for completion of each step.\n",
              "// This uses a Promise to block the python side on completion of each step,\n",
              "// then passes the result of the previous step as the input to the next step.\n",
              "function _uploadFilesContinue(outputId) {\n",
              "  const outputElement = document.getElementById(outputId);\n",
              "  const steps = outputElement.steps;\n",
              "\n",
              "  const next = steps.next(outputElement.lastPromiseValue);\n",
              "  return Promise.resolve(next.value.promise).then((value) => {\n",
              "    // Cache the last promise value to make it available to the next\n",
              "    // step of the generator.\n",
              "    outputElement.lastPromiseValue = value;\n",
              "    return next.value.response;\n",
              "  });\n",
              "}\n",
              "\n",
              "/**\n",
              " * Generator function which is called between each async step of the upload\n",
              " * process.\n",
              " * @param {string} inputId Element ID of the input file picker element.\n",
              " * @param {string} outputId Element ID of the output display.\n",
              " * @return {!Iterable<!Object>} Iterable of next steps.\n",
              " */\n",
              "function* uploadFilesStep(inputId, outputId) {\n",
              "  const inputElement = document.getElementById(inputId);\n",
              "  inputElement.disabled = false;\n",
              "\n",
              "  const outputElement = document.getElementById(outputId);\n",
              "  outputElement.innerHTML = '';\n",
              "\n",
              "  const pickedPromise = new Promise((resolve) => {\n",
              "    inputElement.addEventListener('change', (e) => {\n",
              "      resolve(e.target.files);\n",
              "    });\n",
              "  });\n",
              "\n",
              "  const cancel = document.createElement('button');\n",
              "  inputElement.parentElement.appendChild(cancel);\n",
              "  cancel.textContent = 'Cancel upload';\n",
              "  const cancelPromise = new Promise((resolve) => {\n",
              "    cancel.onclick = () => {\n",
              "      resolve(null);\n",
              "    };\n",
              "  });\n",
              "\n",
              "  // Wait for the user to pick the files.\n",
              "  const files = yield {\n",
              "    promise: Promise.race([pickedPromise, cancelPromise]),\n",
              "    response: {\n",
              "      action: 'starting',\n",
              "    }\n",
              "  };\n",
              "\n",
              "  cancel.remove();\n",
              "\n",
              "  // Disable the input element since further picks are not allowed.\n",
              "  inputElement.disabled = true;\n",
              "\n",
              "  if (!files) {\n",
              "    return {\n",
              "      response: {\n",
              "        action: 'complete',\n",
              "      }\n",
              "    };\n",
              "  }\n",
              "\n",
              "  for (const file of files) {\n",
              "    const li = document.createElement('li');\n",
              "    li.append(span(file.name, {fontWeight: 'bold'}));\n",
              "    li.append(span(\n",
              "        `(${file.type || 'n/a'}) - ${file.size} bytes, ` +\n",
              "        `last modified: ${\n",
              "            file.lastModifiedDate ? file.lastModifiedDate.toLocaleDateString() :\n",
              "                                    'n/a'} - `));\n",
              "    const percent = span('0% done');\n",
              "    li.appendChild(percent);\n",
              "\n",
              "    outputElement.appendChild(li);\n",
              "\n",
              "    const fileDataPromise = new Promise((resolve) => {\n",
              "      const reader = new FileReader();\n",
              "      reader.onload = (e) => {\n",
              "        resolve(e.target.result);\n",
              "      };\n",
              "      reader.readAsArrayBuffer(file);\n",
              "    });\n",
              "    // Wait for the data to be ready.\n",
              "    let fileData = yield {\n",
              "      promise: fileDataPromise,\n",
              "      response: {\n",
              "        action: 'continue',\n",
              "      }\n",
              "    };\n",
              "\n",
              "    // Use a chunked sending to avoid message size limits. See b/62115660.\n",
              "    let position = 0;\n",
              "    do {\n",
              "      const length = Math.min(fileData.byteLength - position, MAX_PAYLOAD_SIZE);\n",
              "      const chunk = new Uint8Array(fileData, position, length);\n",
              "      position += length;\n",
              "\n",
              "      const base64 = btoa(String.fromCharCode.apply(null, chunk));\n",
              "      yield {\n",
              "        response: {\n",
              "          action: 'append',\n",
              "          file: file.name,\n",
              "          data: base64,\n",
              "        },\n",
              "      };\n",
              "\n",
              "      let percentDone = fileData.byteLength === 0 ?\n",
              "          100 :\n",
              "          Math.round((position / fileData.byteLength) * 100);\n",
              "      percent.textContent = `${percentDone}% done`;\n",
              "\n",
              "    } while (position < fileData.byteLength);\n",
              "  }\n",
              "\n",
              "  // All done.\n",
              "  yield {\n",
              "    response: {\n",
              "      action: 'complete',\n",
              "    }\n",
              "  };\n",
              "}\n",
              "\n",
              "scope.google = scope.google || {};\n",
              "scope.google.colab = scope.google.colab || {};\n",
              "scope.google.colab._files = {\n",
              "  _uploadFiles,\n",
              "  _uploadFilesContinue,\n",
              "};\n",
              "})(self);\n",
              "</script> "
            ]
          },
          "metadata": {}
        },
        {
          "output_type": "stream",
          "name": "stdout",
          "text": [
            "Saving kaggle.json to kaggle.json\n"
          ]
        },
        {
          "output_type": "execute_result",
          "data": {
            "text/plain": [
              "{'kaggle.json': b'{\"username\":\"smjayyy\",\"key\":\"07729aa6a210c0f9baaeed1cf96a6a3b\"}'}"
            ]
          },
          "metadata": {},
          "execution_count": 2
        }
      ],
      "source": [
        "from google.colab import files\n",
        "files.upload()"
      ]
    },
    {
      "cell_type": "code",
      "source": [
        "!mkdir -p ~/.kaggle\n",
        "!cp kaggle.json ~/.kaggle/\n",
        "!chmod 600 ~/.kaggle/kaggle.json"
      ],
      "metadata": {
        "id": "Y9Kia11G_5Si"
      },
      "execution_count": 3,
      "outputs": []
    },
    {
      "cell_type": "code",
      "source": [
        "##link dataset in Kaggle.com\n",
        "!kaggle datasets download -d smaranjitghose/corn-or-maize-leaf-disease-dataset"
      ],
      "metadata": {
        "colab": {
          "base_uri": "https://localhost:8080/"
        },
        "id": "apfKVlxj_8FJ",
        "outputId": "99ca0227-1983-456d-f43e-8a3969e5dd2f"
      },
      "execution_count": 4,
      "outputs": [
        {
          "output_type": "stream",
          "name": "stdout",
          "text": [
            "Dataset URL: https://www.kaggle.com/datasets/smaranjitghose/corn-or-maize-leaf-disease-dataset\n",
            "License(s): copyright-authors\n",
            "Downloading corn-or-maize-leaf-disease-dataset.zip to /content\n",
            " 97% 156M/161M [00:01<00:00, 185MB/s]\n",
            "100% 161M/161M [00:01<00:00, 146MB/s]\n"
          ]
        }
      ]
    },
    {
      "cell_type": "code",
      "source": [
        "!unzip -q corn-or-maize-leaf-disease-dataset.zip -d /content"
      ],
      "metadata": {
        "id": "ixMUoB2rAAd3"
      },
      "execution_count": 5,
      "outputs": []
    },
    {
      "cell_type": "code",
      "source": [
        "dataset_dir = '/content/data'"
      ],
      "metadata": {
        "id": "pZ8IerIQAGFO"
      },
      "execution_count": 6,
      "outputs": []
    },
    {
      "cell_type": "code",
      "source": [
        "print(os.listdir(dataset_dir))"
      ],
      "metadata": {
        "colab": {
          "base_uri": "https://localhost:8080/"
        },
        "id": "9wwka8QaAIcj",
        "outputId": "b8f166f0-09d8-4fce-a76a-44940cf1efed"
      },
      "execution_count": 7,
      "outputs": [
        {
          "output_type": "stream",
          "name": "stdout",
          "text": [
            "['Blight', 'Healthy', 'Common_Rust', 'Gray_Leaf_Spot']\n"
          ]
        }
      ]
    },
    {
      "cell_type": "code",
      "source": [
        "IMAGE_SIZE_alexnet = 227"
      ],
      "metadata": {
        "id": "_UCEuA-hAPSa"
      },
      "execution_count": 8,
      "outputs": []
    },
    {
      "cell_type": "code",
      "source": [
        "def make_data(label, DIR, img_list, label_list):\n",
        "    for img in tqdm(os.listdir(DIR)):\n",
        "        path = os.path.join(DIR, img)\n",
        "        img = cv2.imread(path, cv2.IMREAD_COLOR)\n",
        "        img = cv2.resize(img, (IMAGE_SIZE_alexnet, IMAGE_SIZE_alexnet))\n",
        "        img_list.append(np.array(img))\n",
        "        label_list.append(str(label))"
      ],
      "metadata": {
        "id": "B3menIgvARk5"
      },
      "execution_count": 9,
      "outputs": []
    },
    {
      "cell_type": "code",
      "source": [
        "X = []\n",
        "Z = []"
      ],
      "metadata": {
        "id": "Jn6gWefxATyU"
      },
      "execution_count": 10,
      "outputs": []
    },
    {
      "cell_type": "code",
      "source": [
        "for i, class_name in enumerate(['Common_Rust', 'Healthy', 'Gray_Leaf_Spot', 'Blight']):\n",
        "    class_dir = os.path.join(dataset_dir, class_name)\n",
        "    make_data(class_name, class_dir, X, Z)"
      ],
      "metadata": {
        "colab": {
          "base_uri": "https://localhost:8080/"
        },
        "id": "S9-RQTGJAWCk",
        "outputId": "2627359c-9ac0-4a2d-de5f-79524ab68c8f"
      },
      "execution_count": 11,
      "outputs": [
        {
          "output_type": "stream",
          "name": "stderr",
          "text": [
            "100%|██████████| 1306/1306 [00:07<00:00, 186.04it/s]\n",
            "100%|██████████| 1162/1162 [00:02<00:00, 546.38it/s]\n",
            "100%|██████████| 574/574 [00:02<00:00, 228.33it/s]\n",
            "100%|██████████| 1146/1146 [00:05<00:00, 202.65it/s]\n"
          ]
        }
      ]
    },
    {
      "cell_type": "code",
      "source": [
        "import matplotlib.pyplot as plt\n",
        "\n",
        "# Menghitung jumlah data untuk setiap kelas\n",
        "class_counts = {class_name: Z.count(class_name) for class_name in set(Z)}\n",
        "\n",
        "# Menampilkan visualisasi jumlah data\n",
        "plt.figure(figsize=(8, 6))\n",
        "plt.bar(class_counts.keys(), class_counts.values())\n",
        "plt.xlabel('Class')\n",
        "plt.ylabel('Count')\n",
        "plt.title('Number of Data Samples for Each Class')\n",
        "plt.show()"
      ],
      "metadata": {
        "colab": {
          "base_uri": "https://localhost:8080/",
          "height": 564
        },
        "id": "-IcXHIM8Akcw",
        "outputId": "63b972df-9868-4e61-d580-56b40994b6b8"
      },
      "execution_count": 12,
      "outputs": [
        {
          "output_type": "display_data",
          "data": {
            "text/plain": [
              "<Figure size 800x600 with 1 Axes>"
            ],
            "image/png": "[encoded data removed]"
          },
          "metadata": {}
        }
      ]
    },
    {
      "cell_type": "code",
      "source": [
        "le = LabelEncoder()\n",
        "Y = le.fit_transform(Z)\n",
        "Y = to_categorical(Y, num_classes=len(le.classes_))\n",
        "\n",
        "# Konversi ke array numpy\n",
        "X = np.array(X)\n",
        "\n",
        "# Memisahkan data menjadi data latih dan data uji\n",
        "X_train, X_test, Y_train, Y_test = train_test_split(X, Y, test_size=0.2, random_state=42)\n",
        "\n",
        "print(\"Jumlah Data Train adalah :\", len(X_train))\n",
        "print(\"Jumlah Data Test adalah :\", len(X_test))"
      ],
      "metadata": {
        "colab": {
          "base_uri": "https://localhost:8080/"
        },
        "id": "OI7kvVbXAqko",
        "outputId": "cf39a58b-fd55-4f88-b2ab-18b043b58fe7"
      },
      "execution_count": 13,
      "outputs": [
        {
          "output_type": "stream",
          "name": "stdout",
          "text": [
            "Jumlah Data Train adalah : 3350\n",
            "Jumlah Data Test adalah : 838\n"
          ]
        }
      ]
    },
    {
      "cell_type": "code",
      "source": [
        "datagen = ImageDataGenerator(\n",
        "    rotation_range=20,\n",
        "    zoom_range=0.2,\n",
        "    horizontal_flip=True,\n",
        "    vertical_flip=True\n",
        ")\n",
        "\n",
        "datagen.fit(X_train)"
      ],
      "metadata": {
        "id": "ue5XLCIlA2ld"
      },
      "execution_count": 14,
      "outputs": []
    },
    {
      "cell_type": "code",
      "source": [
        "model_alexnet = tf.keras.models.Sequential([\n",
        "        # 1st conv\n",
        "        Conv2D(96, (11,11), strides=(4,4), activation='relu', input_shape=(IMAGE_SIZE_alexnet, IMAGE_SIZE_alexnet, 3)),\n",
        "        BatchNormalization(),\n",
        "        MaxPooling2D(2, strides=(2,2)),\n",
        "        # 2nd conv\n",
        "        Conv2D(256, (11,11), strides=(1,1), activation='relu', padding=\"same\"),\n",
        "        BatchNormalization(),\n",
        "        # 3rd conv\n",
        "        Conv2D(384, (3,3), strides=(1,1), activation='relu', padding=\"same\"),\n",
        "        BatchNormalization(),\n",
        "        # 4th conv\n",
        "        Conv2D(384, (3,3), strides=(1,1), activation='relu', padding=\"same\"),\n",
        "        BatchNormalization(),\n",
        "        # 5th Conv\n",
        "        Conv2D(256, (3, 3), strides=(1, 1), activation='relu', padding=\"same\"),\n",
        "        BatchNormalization(),\n",
        "        MaxPooling2D(2, strides=(2, 2)),\n",
        "        Flatten(),\n",
        "        Dense(4096, activation='relu'),\n",
        "        Dense(4096, activation='relu'),\n",
        "        Dense(4, activation='softmax')\n",
        "    ])\n",
        "\n",
        "model_alexnet.compile(optimizer=Adam(learning_rate=1e-4), loss='categorical_crossentropy', metrics=['accuracy'])\n",
        "\n",
        "model_alexnet.summary()\n",
        "\n",
        "history_alexnet = model_alexnet.fit(datagen.flow(X_train, Y_train), epochs=50, validation_data=(X_test, Y_test))"
      ],
      "metadata": {
        "id": "qg6h8yY_A62R",
        "colab": {
          "base_uri": "https://localhost:8080/"
        },
        "outputId": "fedeaf59-ce94-415c-c8cd-b51a50ee2e7c"
      },
      "execution_count": 15,
      "outputs": [
        {
          "output_type": "stream",
          "name": "stdout",
          "text": [
            "Model: \"sequential\"\n",
            "_________________________________________________________________\n",
            " Layer (type)                Output Shape              Param #   \n",
            "=================================================================\n",
            " conv2d (Conv2D)             (None, 55, 55, 96)        34944     \n",
            "                                                                 \n",
            " batch_normalization (Batch  (None, 55, 55, 96)        384       \n",
            " Normalization)                                                  \n",
            "                                                                 \n",
            " max_pooling2d (MaxPooling2  (None, 27, 27, 96)        0         \n",
            " D)                                                              \n",
            "                                                                 \n",
            " conv2d_1 (Conv2D)           (None, 27, 27, 256)       2973952   \n",
            "                                                                 \n",
            " batch_normalization_1 (Bat  (None, 27, 27, 256)       1024      \n",
            " chNormalization)                                                \n",
            "                                                                 \n",
            " conv2d_2 (Conv2D)           (None, 27, 27, 384)       885120    \n",
            "                                                                 \n",
            " batch_normalization_2 (Bat  (None, 27, 27, 384)       1536      \n",
            " chNormalization)                                                \n",
            "                                                                 \n",
            " conv2d_3 (Conv2D)           (None, 27, 27, 384)       1327488   \n",
            "                                                                 \n",
            " batch_normalization_3 (Bat  (None, 27, 27, 384)       1536      \n",
            " chNormalization)                                                \n",
            "                                                                 \n",
            " conv2d_4 (Conv2D)           (None, 27, 27, 256)       884992    \n",
            "                                                                 \n",
            " batch_normalization_4 (Bat  (None, 27, 27, 256)       1024      \n",
            " chNormalization)                                                \n",
            "                                                                 \n",
            " max_pooling2d_1 (MaxPoolin  (None, 13, 13, 256)       0         \n",
            " g2D)                                                            \n",
            "                                                                 \n",
            " flatten (Flatten)           (None, 43264)             0         \n",
            "                                                                 \n",
            " dense (Dense)               (None, 4096)              177213440 \n",
            "                                                                 \n",
            " dense_1 (Dense)             (None, 4096)              16781312  \n",
            "                                                                 \n",
            " dense_2 (Dense)             (None, 4)                 16388     \n",
            "                                                                 \n",
            "=================================================================\n",
            "Total params: 200123140 (763.41 MB)\n",
            "Trainable params: 200120388 (763.40 MB)\n",
            "Non-trainable params: 2752 (10.75 KB)\n",
            "_________________________________________________________________\n",
            "Epoch 1/50\n",
            "105/105 [==============================] - 60s 450ms/step - loss: 1.2174 - accuracy: 0.7579 - val_loss: 130.0465 - val_accuracy: 0.3520\n",
            "Epoch 2/50\n",
            "105/105 [==============================] - 44s 412ms/step - loss: 0.5582 - accuracy: 0.8194 - val_loss: 0.8931 - val_accuracy: 0.7422\n",
            "Epoch 3/50\n",
            "105/105 [==============================] - 43s 411ms/step - loss: 0.4351 - accuracy: 0.8260 - val_loss: 0.6260 - val_accuracy: 0.7959\n",
            "Epoch 4/50\n",
            "105/105 [==============================] - 44s 420ms/step - loss: 0.3884 - accuracy: 0.8493 - val_loss: 1.4011 - val_accuracy: 0.5871\n",
            "Epoch 5/50\n",
            "105/105 [==============================] - 46s 441ms/step - loss: 0.3668 - accuracy: 0.8678 - val_loss: 0.6697 - val_accuracy: 0.7852\n",
            "Epoch 6/50\n",
            "105/105 [==============================] - 46s 442ms/step - loss: 0.3605 - accuracy: 0.8743 - val_loss: 0.3157 - val_accuracy: 0.8616\n",
            "Epoch 7/50\n",
            "105/105 [==============================] - 45s 425ms/step - loss: 0.3899 - accuracy: 0.8651 - val_loss: 2.6642 - val_accuracy: 0.7554\n",
            "Epoch 8/50\n",
            "105/105 [==============================] - 47s 446ms/step - loss: 0.3252 - accuracy: 0.8752 - val_loss: 1.3401 - val_accuracy: 0.6766\n",
            "Epoch 9/50\n",
            "105/105 [==============================] - 45s 427ms/step - loss: 0.3999 - accuracy: 0.8797 - val_loss: 0.6106 - val_accuracy: 0.8294\n",
            "Epoch 10/50\n",
            "105/105 [==============================] - 48s 453ms/step - loss: 0.4082 - accuracy: 0.8946 - val_loss: 0.5823 - val_accuracy: 0.8377\n",
            "Epoch 11/50\n",
            "105/105 [==============================] - 45s 424ms/step - loss: 0.3904 - accuracy: 0.8663 - val_loss: 1.0458 - val_accuracy: 0.7076\n",
            "Epoch 12/50\n",
            "105/105 [==============================] - 46s 434ms/step - loss: 0.2874 - accuracy: 0.8884 - val_loss: 0.5484 - val_accuracy: 0.8031\n",
            "Epoch 13/50\n",
            "105/105 [==============================] - 43s 410ms/step - loss: 0.3323 - accuracy: 0.9024 - val_loss: 0.4843 - val_accuracy: 0.8294\n",
            "Epoch 14/50\n",
            "105/105 [==============================] - 44s 418ms/step - loss: 0.2438 - accuracy: 0.9009 - val_loss: 1.2049 - val_accuracy: 0.5800\n",
            "Epoch 15/50\n",
            "105/105 [==============================] - 43s 406ms/step - loss: 0.2380 - accuracy: 0.9084 - val_loss: 0.3117 - val_accuracy: 0.8914\n",
            "Epoch 16/50\n",
            "105/105 [==============================] - 44s 415ms/step - loss: 0.2198 - accuracy: 0.9104 - val_loss: 0.3482 - val_accuracy: 0.8711\n",
            "Epoch 17/50\n",
            "105/105 [==============================] - 43s 407ms/step - loss: 0.2201 - accuracy: 0.9182 - val_loss: 0.7775 - val_accuracy: 0.8305\n",
            "Epoch 18/50\n",
            "105/105 [==============================] - 43s 410ms/step - loss: 0.1959 - accuracy: 0.9215 - val_loss: 0.2913 - val_accuracy: 0.8854\n",
            "Epoch 19/50\n",
            "105/105 [==============================] - 44s 414ms/step - loss: 0.2418 - accuracy: 0.9233 - val_loss: 0.3527 - val_accuracy: 0.8723\n",
            "Epoch 20/50\n",
            "105/105 [==============================] - 43s 414ms/step - loss: 0.1883 - accuracy: 0.9275 - val_loss: 0.2798 - val_accuracy: 0.8771\n",
            "Epoch 21/50\n",
            "105/105 [==============================] - 44s 415ms/step - loss: 0.2184 - accuracy: 0.9269 - val_loss: 0.3515 - val_accuracy: 0.8580\n",
            "Epoch 22/50\n",
            "105/105 [==============================] - 43s 410ms/step - loss: 0.2170 - accuracy: 0.9206 - val_loss: 0.3072 - val_accuracy: 0.8831\n",
            "Epoch 23/50\n",
            "105/105 [==============================] - 43s 410ms/step - loss: 0.1751 - accuracy: 0.9367 - val_loss: 0.6224 - val_accuracy: 0.8234\n",
            "Epoch 24/50\n",
            "105/105 [==============================] - 43s 412ms/step - loss: 0.1769 - accuracy: 0.9325 - val_loss: 0.3476 - val_accuracy: 0.8795\n",
            "Epoch 25/50\n",
            "105/105 [==============================] - 44s 422ms/step - loss: 0.1566 - accuracy: 0.9367 - val_loss: 0.6463 - val_accuracy: 0.8437\n",
            "Epoch 26/50\n",
            "105/105 [==============================] - 46s 434ms/step - loss: 0.1816 - accuracy: 0.9301 - val_loss: 0.3235 - val_accuracy: 0.8902\n",
            "Epoch 27/50\n",
            "105/105 [==============================] - 43s 413ms/step - loss: 0.1561 - accuracy: 0.9394 - val_loss: 0.2475 - val_accuracy: 0.9081\n",
            "Epoch 28/50\n",
            "105/105 [==============================] - 44s 414ms/step - loss: 0.1508 - accuracy: 0.9415 - val_loss: 0.4301 - val_accuracy: 0.8592\n",
            "Epoch 29/50\n",
            "105/105 [==============================] - 44s 414ms/step - loss: 0.1449 - accuracy: 0.9445 - val_loss: 0.3315 - val_accuracy: 0.8962\n",
            "Epoch 30/50\n",
            "105/105 [==============================] - 44s 421ms/step - loss: 0.1682 - accuracy: 0.9463 - val_loss: 0.3082 - val_accuracy: 0.8950\n",
            "Epoch 31/50\n",
            "105/105 [==============================] - 44s 421ms/step - loss: 0.1262 - accuracy: 0.9513 - val_loss: 0.3336 - val_accuracy: 0.9033\n",
            "Epoch 32/50\n",
            "105/105 [==============================] - 43s 410ms/step - loss: 0.1244 - accuracy: 0.9493 - val_loss: 0.4757 - val_accuracy: 0.8437\n",
            "Epoch 33/50\n",
            "105/105 [==============================] - 43s 410ms/step - loss: 0.1283 - accuracy: 0.9481 - val_loss: 0.3184 - val_accuracy: 0.9010\n",
            "Epoch 34/50\n",
            "105/105 [==============================] - 43s 413ms/step - loss: 0.1516 - accuracy: 0.9516 - val_loss: 0.5879 - val_accuracy: 0.8138\n",
            "Epoch 35/50\n",
            "105/105 [==============================] - 44s 416ms/step - loss: 0.1178 - accuracy: 0.9588 - val_loss: 0.3299 - val_accuracy: 0.9129\n",
            "Epoch 36/50\n",
            "105/105 [==============================] - 43s 408ms/step - loss: 0.1272 - accuracy: 0.9534 - val_loss: 0.3833 - val_accuracy: 0.8771\n",
            "Epoch 37/50\n",
            "105/105 [==============================] - 45s 424ms/step - loss: 0.1720 - accuracy: 0.9519 - val_loss: 0.4175 - val_accuracy: 0.8675\n",
            "Epoch 38/50\n",
            "105/105 [==============================] - 43s 409ms/step - loss: 0.1174 - accuracy: 0.9513 - val_loss: 0.3779 - val_accuracy: 0.9010\n",
            "Epoch 39/50\n",
            "105/105 [==============================] - 44s 415ms/step - loss: 0.1193 - accuracy: 0.9528 - val_loss: 0.3273 - val_accuracy: 0.8878\n",
            "Epoch 40/50\n",
            "105/105 [==============================] - 43s 408ms/step - loss: 0.2024 - accuracy: 0.9537 - val_loss: 2.2693 - val_accuracy: 0.5573\n",
            "Epoch 41/50\n",
            "105/105 [==============================] - 43s 413ms/step - loss: 0.1126 - accuracy: 0.9621 - val_loss: 0.3508 - val_accuracy: 0.8962\n",
            "Epoch 42/50\n",
            "105/105 [==============================] - 44s 420ms/step - loss: 0.1053 - accuracy: 0.9672 - val_loss: 0.4458 - val_accuracy: 0.8723\n",
            "Epoch 43/50\n",
            "105/105 [==============================] - 44s 416ms/step - loss: 0.1031 - accuracy: 0.9672 - val_loss: 0.3200 - val_accuracy: 0.9093\n",
            "Epoch 44/50\n",
            "105/105 [==============================] - 43s 412ms/step - loss: 0.0832 - accuracy: 0.9678 - val_loss: 0.3430 - val_accuracy: 0.9105\n",
            "Epoch 45/50\n",
            "105/105 [==============================] - 43s 410ms/step - loss: 0.1116 - accuracy: 0.9558 - val_loss: 0.3955 - val_accuracy: 0.8819\n",
            "Epoch 46/50\n",
            "105/105 [==============================] - 43s 409ms/step - loss: 0.0852 - accuracy: 0.9690 - val_loss: 0.4035 - val_accuracy: 0.8878\n",
            "Epoch 47/50\n",
            "105/105 [==============================] - 45s 425ms/step - loss: 0.0965 - accuracy: 0.9663 - val_loss: 0.9060 - val_accuracy: 0.7876\n",
            "Epoch 48/50\n",
            "105/105 [==============================] - 43s 412ms/step - loss: 0.0781 - accuracy: 0.9707 - val_loss: 0.3748 - val_accuracy: 0.8974\n",
            "Epoch 49/50\n",
            "105/105 [==============================] - 44s 415ms/step - loss: 0.0903 - accuracy: 0.9699 - val_loss: 0.8456 - val_accuracy: 0.8329\n",
            "Epoch 50/50\n",
            "105/105 [==============================] - 43s 412ms/step - loss: 0.1145 - accuracy: 0.9633 - val_loss: 1.6866 - val_accuracy: 0.6695\n"
          ]
        }
      ]
    },
    {
      "cell_type": "code",
      "source": [
        "Y_pred = model_alexnet.predict(X_test)\n",
        "Y_pred_classes = np.argmax(Y_pred, axis=1)\n",
        "Y_true = np.argmax(Y_test, axis=1)\n",
        "\n",
        "conf_matrix = confusion_matrix(Y_true, Y_pred_classes)\n",
        "\n",
        "plt.figure(figsize=(8, 6))\n",
        "sns.heatmap(conf_matrix, annot=True, fmt=\"d\", cmap=\"Blues\", xticklabels=['Common_Rust', 'Healthy', 'Gray_Leaf_Spot', 'Blight'], yticklabels=['Common_Rust', 'Healthy', 'Gray_Leaf_Spot', 'Blight'])\n",
        "plt.xlabel('Predicted labels')\n",
        "plt.ylabel('True labels')\n",
        "plt.title('Confusion Matrix')\n",
        "plt.show()\n",
        "\n",
        "class_report = classification_report(Y_true, Y_pred_classes)\n",
        "\n",
        "print(\"\\nClassification Report:\")\n",
        "print(class_report)"
      ],
      "metadata": {
        "id": "W2svXyjyTjeo",
        "colab": {
          "base_uri": "https://localhost:8080/",
          "height": 807
        },
        "outputId": "44ad85ff-d348-42af-af98-e87ca65ab7fd"
      },
      "execution_count": 16,
      "outputs": [
        {
          "output_type": "stream",
          "name": "stdout",
          "text": [
            "27/27 [==============================] - 1s 32ms/step\n"
          ]
        },
        {
          "output_type": "display_data",
          "data": {
            "text/plain": [
              "<Figure size 800x600 with 2 Axes>"
            ],
            "image/png": "[encoded data removed]"
          },
          "metadata": {}
        },
        {
          "output_type": "stream",
          "name": "stdout",
          "text": [
            "\n",
            "Classification Report:\n",
            "              precision    recall  f1-score   support\n",
            "\n",
            "           0       0.65      0.72      0.68       218\n",
            "           1       0.75      0.96      0.84       289\n",
            "           2       0.40      0.64      0.50       104\n",
            "           3       1.00      0.27      0.43       227\n",
            "\n",
            "    accuracy                           0.67       838\n",
            "   macro avg       0.70      0.65      0.61       838\n",
            "weighted avg       0.75      0.67      0.64       838\n",
            "\n"
          ]
        }
      ]
    }
  ]
}