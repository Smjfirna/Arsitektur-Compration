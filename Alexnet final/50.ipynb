{
  "nbformat": 4,
  "nbformat_minor": 0,
  "metadata": {
    "colab": {
      "provenance": [],
      "gpuType": "T4",
      "authorship_tag": "ABX9TyM5Nz44d7iSfmgDE1EWHcU/",
      "include_colab_link": true
    },
    "kernelspec": {
      "name": "python3",
      "display_name": "Python 3"
    },
    "language_info": {
      "name": "python"
    },
    "accelerator": "GPU"
  },
  "cells": [
    {
      "cell_type": "markdown",
      "metadata": {
        "id": "view-in-github",
        "colab_type": "text"
      },
      "source": [
        "<a href=\"https://colab.research.google.com/github/Smjfirna/Arsitektur-Compration/blob/main/Alexnet%20final/50.ipynb\" target=\"_parent\"><img src=\"https://colab.research.google.com/assets/colab-badge.svg\" alt=\"Open In Colab\"/></a>"
      ]
    },
    {
      "cell_type": "code",
      "source": [
        "#Preprocessing\n",
        "import os\n",
        "import cv2\n",
        "import numpy as np\n",
        "from tqdm import tqdm\n",
        "from sklearn.model_selection import train_test_split\n",
        "from sklearn.preprocessing import LabelEncoder\n",
        "from keras.utils import to_categorical\n",
        "\n",
        "#Model dan Augmentasi\n",
        "import tensorflow as tf\n",
        "from tensorflow.keras.preprocessing.image import ImageDataGenerator\n",
        "from tensorflow.keras.models import Sequential\n",
        "from tensorflow.keras import layers, Model, regularizers\n",
        "from tensorflow.keras.callbacks import EarlyStopping\n",
        "from tensorflow.keras.layers import Conv2D, MaxPooling2D, Flatten, Dense, GlobalAveragePooling2D, Dropout,BatchNormalization\n",
        "import os\n",
        "from tensorflow.keras.optimizers import Adam\n",
        "from tensorflow.keras.optimizers import RMSprop\n",
        "\n",
        "# Evaluasi\n",
        "import torch\n",
        "import torchvision.models as models\n",
        "from thop import profile\n",
        "from sklearn.metrics import confusion_matrix, classification_report\n",
        "\n",
        "#Visualisasi\n",
        "import matplotlib.pyplot as plt\n",
        "import seaborn as sns\n",
        "import os\n",
        "import cv2\n",
        "import numpy as np\n",
        "from tqdm import tqdm\n",
        "from sklearn.model_selection import train_test_split\n",
        "from sklearn.preprocessing import LabelEncoder\n",
        "from keras.utils import to_categorical"
      ],
      "metadata": {
        "id": "NMN3beIVALVJ"
      },
      "execution_count": 2,
      "outputs": []
    },
    {
      "cell_type": "code",
      "execution_count": null,
      "metadata": {
        "id": "GK3MPeDN_Ofu"
      },
      "outputs": [],
      "source": [
        "from google.colab import files\n",
        "files.upload()"
      ]
    },
    {
      "cell_type": "code",
      "source": [
        "!mkdir -p ~/.kaggle\n",
        "!cp kaggle.json ~/.kaggle/\n",
        "!chmod 600 ~/.kaggle/kaggle.json"
      ],
      "metadata": {
        "id": "Y9Kia11G_5Si"
      },
      "execution_count": null,
      "outputs": []
    },
    {
      "cell_type": "code",
      "source": [
        "##link dataset in Kaggle.com\n",
        "!kaggle datasets download -d smaranjitghose/corn-or-maize-leaf-disease-dataset"
      ],
      "metadata": {
        "id": "apfKVlxj_8FJ"
      },
      "execution_count": null,
      "outputs": []
    },
    {
      "cell_type": "code",
      "source": [
        "!unzip -q corn-or-maize-leaf-disease-dataset.zip -d /content"
      ],
      "metadata": {
        "id": "ixMUoB2rAAd3"
      },
      "execution_count": null,
      "outputs": []
    },
    {
      "cell_type": "code",
      "source": [
        "dataset_dir = '/content/data'"
      ],
      "metadata": {
        "id": "pZ8IerIQAGFO"
      },
      "execution_count": 3,
      "outputs": []
    },
    {
      "cell_type": "code",
      "source": [
        "print(os.listdir(dataset_dir))"
      ],
      "metadata": {
        "colab": {
          "base_uri": "https://localhost:8080/"
        },
        "id": "9wwka8QaAIcj",
        "outputId": "4081bce6-be78-4cc9-f7db-44e1d592403e"
      },
      "execution_count": 4,
      "outputs": [
        {
          "output_type": "stream",
          "name": "stdout",
          "text": [
            "['Gray_Leaf_Spot', 'Healthy', 'Blight', 'Common_Rust']\n"
          ]
        }
      ]
    },
    {
      "cell_type": "code",
      "source": [
        "IMAGE_SIZE_alexnet = 227"
      ],
      "metadata": {
        "id": "_UCEuA-hAPSa"
      },
      "execution_count": 5,
      "outputs": []
    },
    {
      "cell_type": "code",
      "source": [
        "def make_data(label, DIR, img_list, label_list):\n",
        "    for img in tqdm(os.listdir(DIR)):\n",
        "        path = os.path.join(DIR, img)\n",
        "        img = cv2.imread(path, cv2.IMREAD_COLOR)\n",
        "        img = cv2.resize(img, (IMAGE_SIZE_alexnet, IMAGE_SIZE_alexnet))\n",
        "        img_list.append(np.array(img))\n",
        "        label_list.append(str(label))"
      ],
      "metadata": {
        "id": "B3menIgvARk5"
      },
      "execution_count": 6,
      "outputs": []
    },
    {
      "cell_type": "code",
      "source": [
        "X = []\n",
        "Z = []"
      ],
      "metadata": {
        "id": "Jn6gWefxATyU"
      },
      "execution_count": 7,
      "outputs": []
    },
    {
      "cell_type": "code",
      "source": [
        "for i, class_name in enumerate(['Common_Rust', 'Healthy', 'Gray_Leaf_Spot', 'Blight']):\n",
        "    class_dir = os.path.join(dataset_dir, class_name)\n",
        "    make_data(class_name, class_dir, X, Z)"
      ],
      "metadata": {
        "colab": {
          "base_uri": "https://localhost:8080/"
        },
        "id": "S9-RQTGJAWCk",
        "outputId": "79a79c63-d417-4c36-b284-4f8d13043ed7"
      },
      "execution_count": 8,
      "outputs": [
        {
          "output_type": "stream",
          "name": "stderr",
          "text": [
            "100%|██████████| 1306/1306 [00:04<00:00, 277.57it/s]\n",
            "100%|██████████| 1162/1162 [00:02<00:00, 540.38it/s]\n",
            "100%|██████████| 574/574 [00:02<00:00, 274.03it/s]\n",
            "100%|██████████| 1146/1146 [00:06<00:00, 173.35it/s]\n"
          ]
        }
      ]
    },
    {
      "cell_type": "code",
      "source": [
        "import matplotlib.pyplot as plt\n",
        "\n",
        "# Menghitung jumlah data untuk setiap kelas\n",
        "class_counts = {class_name: Z.count(class_name) for class_name in set(Z)}\n",
        "\n",
        "# Menampilkan visualisasi jumlah data\n",
        "plt.figure(figsize=(8, 6))\n",
        "plt.bar(class_counts.keys(), class_counts.values())\n",
        "plt.xlabel('Class')\n",
        "plt.ylabel('Count')\n",
        "plt.title('Number of Data Samples for Each Class')\n",
        "plt.show()"
      ],
      "metadata": {
        "colab": {
          "base_uri": "https://localhost:8080/",
          "height": 564
        },
        "id": "-IcXHIM8Akcw",
        "outputId": "7a6413cf-c3d7-4c42-cc31-5896d04d925c"
      },
      "execution_count": 9,
      "outputs": [
        {
          "output_type": "display_data",
          "data": {
            "text/plain": [
              "<Figure size 800x600 with 1 Axes>"
            ],
            "image/png": "[encoded data removed]"
          },
          "metadata": {}
        }
      ]
    },
    {
      "cell_type": "code",
      "source": [
        "le = LabelEncoder()\n",
        "Y = le.fit_transform(Z)\n",
        "Y = to_categorical(Y, num_classes=len(le.classes_))\n",
        "\n",
        "# Konversi ke array numpy\n",
        "X = np.array(X)\n",
        "\n",
        "# Memisahkan data menjadi data latih dan data uji\n",
        "X_train, X_test, Y_train, Y_test = train_test_split(X, Y, test_size=0.2, random_state=42)\n",
        "\n",
        "print(\"Jumlah Data Train adalah :\", len(X_train))\n",
        "print(\"Jumlah Data Test adalah :\", len(X_test))"
      ],
      "metadata": {
        "colab": {
          "base_uri": "https://localhost:8080/"
        },
        "id": "OI7kvVbXAqko",
        "outputId": "42225b6b-4325-40ee-f1e6-4e4bbf0c0e1e"
      },
      "execution_count": 10,
      "outputs": [
        {
          "output_type": "stream",
          "name": "stdout",
          "text": [
            "Jumlah Data Train adalah : 3350\n",
            "Jumlah Data Test adalah : 838\n"
          ]
        }
      ]
    },
    {
      "cell_type": "code",
      "source": [
        "datagen = ImageDataGenerator(\n",
        "    rotation_range=20,\n",
        "    zoom_range=0.2,\n",
        "    horizontal_flip=True,\n",
        "    vertical_flip=True\n",
        ")\n",
        "\n",
        "datagen.fit(X_train)"
      ],
      "metadata": {
        "id": "ue5XLCIlA2ld"
      },
      "execution_count": 11,
      "outputs": []
    },
    {
      "cell_type": "code",
      "source": [
        "model_alexnet = tf.keras.models.Sequential([\n",
        "        # 1st conv\n",
        "        Conv2D(96, (11,11), strides=(4,4), activation='relu', input_shape=(IMAGE_SIZE_alexnet, IMAGE_SIZE_alexnet, 3)),\n",
        "        BatchNormalization(),\n",
        "        MaxPooling2D(2, strides=(2,2)),\n",
        "        # 2nd conv\n",
        "        Conv2D(256, (11,11), strides=(1,1), activation='relu', padding=\"same\"),\n",
        "        BatchNormalization(),\n",
        "        # 3rd conv\n",
        "        Conv2D(384, (3,3), strides=(1,1), activation='relu', padding=\"same\"),\n",
        "        BatchNormalization(),\n",
        "        # 4th conv\n",
        "        Conv2D(384, (3,3), strides=(1,1), activation='relu', padding=\"same\"),\n",
        "        BatchNormalization(),\n",
        "        # 5th Conv\n",
        "        Conv2D(256, (3, 3), strides=(1, 1), activation='relu', padding=\"same\"),\n",
        "        BatchNormalization(),\n",
        "        MaxPooling2D(2, strides=(2, 2)),\n",
        "        # To Flatten layer\n",
        "        Flatten(),\n",
        "        # To FC layer 1\n",
        "        Dense(4096, activation='relu'),\n",
        "        # add dropout 0.5 ==> tf.keras.layers.Dropout(0.5),\n",
        "        # To FC layer 2\n",
        "        Dense(4096, activation='relu'),\n",
        "        # add dropout 0.5 ==> tf.keras.layers.Dropout(0.5),\n",
        "        Dense(4, activation='sigmoid')\n",
        "    ])\n",
        "\n",
        "model_alexnet.compile(optimizer=Adam(learning_rate=1e-4), loss='categorical_crossentropy', metrics=['accuracy'])\n",
        "\n",
        "model_alexnet.summary()\n",
        "\n",
        "history_alexnet = model_alexnet.fit(datagen.flow(X_train, Y_train), epochs=50, validation_data=(X_test, Y_test))"
      ],
      "metadata": {
        "id": "qg6h8yY_A62R",
        "colab": {
          "base_uri": "https://localhost:8080/"
        },
        "outputId": "26d0f908-1e4d-46ab-8712-c2ccb7a56004"
      },
      "execution_count": 12,
      "outputs": [
        {
          "output_type": "stream",
          "name": "stdout",
          "text": [
            "Model: \"sequential\"\n",
            "_________________________________________________________________\n",
            " Layer (type)                Output Shape              Param #   \n",
            "=================================================================\n",
            " conv2d (Conv2D)             (None, 55, 55, 96)        34944     \n",
            "                                                                 \n",
            " batch_normalization (Batch  (None, 55, 55, 96)        384       \n",
            " Normalization)                                                  \n",
            "                                                                 \n",
            " max_pooling2d (MaxPooling2  (None, 27, 27, 96)        0         \n",
            " D)                                                              \n",
            "                                                                 \n",
            " conv2d_1 (Conv2D)           (None, 27, 27, 256)       2973952   \n",
            "                                                                 \n",
            " batch_normalization_1 (Bat  (None, 27, 27, 256)       1024      \n",
            " chNormalization)                                                \n",
            "                                                                 \n",
            " conv2d_2 (Conv2D)           (None, 27, 27, 384)       885120    \n",
            "                                                                 \n",
            " batch_normalization_2 (Bat  (None, 27, 27, 384)       1536      \n",
            " chNormalization)                                                \n",
            "                                                                 \n",
            " conv2d_3 (Conv2D)           (None, 27, 27, 384)       1327488   \n",
            "                                                                 \n",
            " batch_normalization_3 (Bat  (None, 27, 27, 384)       1536      \n",
            " chNormalization)                                                \n",
            "                                                                 \n",
            " conv2d_4 (Conv2D)           (None, 27, 27, 256)       884992    \n",
            "                                                                 \n",
            " batch_normalization_4 (Bat  (None, 27, 27, 256)       1024      \n",
            " chNormalization)                                                \n",
            "                                                                 \n",
            " max_pooling2d_1 (MaxPoolin  (None, 13, 13, 256)       0         \n",
            " g2D)                                                            \n",
            "                                                                 \n",
            " flatten (Flatten)           (None, 43264)             0         \n",
            "                                                                 \n",
            " dense (Dense)               (None, 4096)              177213440 \n",
            "                                                                 \n",
            " dense_1 (Dense)             (None, 4096)              16781312  \n",
            "                                                                 \n",
            " dense_2 (Dense)             (None, 4)                 16388     \n",
            "                                                                 \n",
            "=================================================================\n",
            "Total params: 200123140 (763.41 MB)\n",
            "Trainable params: 200120388 (763.40 MB)\n",
            "Non-trainable params: 2752 (10.75 KB)\n",
            "_________________________________________________________________\n",
            "Epoch 1/50\n",
            "105/105 [==============================] - 63s 491ms/step - loss: 1.2129 - accuracy: 0.7663 - val_loss: 2.4848 - val_accuracy: 0.4928\n",
            "Epoch 2/50\n",
            "105/105 [==============================] - 42s 399ms/step - loss: 0.5042 - accuracy: 0.8254 - val_loss: 1.1249 - val_accuracy: 0.7315\n",
            "Epoch 3/50\n",
            "105/105 [==============================] - 42s 400ms/step - loss: 0.4705 - accuracy: 0.8424 - val_loss: 0.7134 - val_accuracy: 0.7709\n",
            "Epoch 4/50\n",
            "105/105 [==============================] - 41s 392ms/step - loss: 0.4044 - accuracy: 0.8436 - val_loss: 5.6348 - val_accuracy: 0.6277\n",
            "Epoch 5/50\n",
            "105/105 [==============================] - 42s 397ms/step - loss: 0.3297 - accuracy: 0.8681 - val_loss: 0.7152 - val_accuracy: 0.8449\n",
            "Epoch 6/50\n",
            "105/105 [==============================] - 42s 399ms/step - loss: 0.3280 - accuracy: 0.8728 - val_loss: 1.2055 - val_accuracy: 0.6492\n",
            "Epoch 7/50\n",
            "105/105 [==============================] - 42s 404ms/step - loss: 0.3039 - accuracy: 0.8866 - val_loss: 0.4635 - val_accuracy: 0.8353\n",
            "Epoch 8/50\n",
            "105/105 [==============================] - 42s 397ms/step - loss: 0.3240 - accuracy: 0.8875 - val_loss: 1.4111 - val_accuracy: 0.6289\n",
            "Epoch 9/50\n",
            "105/105 [==============================] - 43s 406ms/step - loss: 0.3283 - accuracy: 0.8922 - val_loss: 0.3151 - val_accuracy: 0.8771\n",
            "Epoch 10/50\n",
            "105/105 [==============================] - 42s 396ms/step - loss: 0.2509 - accuracy: 0.9054 - val_loss: 0.3139 - val_accuracy: 0.8807\n",
            "Epoch 11/50\n",
            "105/105 [==============================] - 43s 406ms/step - loss: 0.3296 - accuracy: 0.8910 - val_loss: 1.0190 - val_accuracy: 0.8341\n",
            "Epoch 12/50\n",
            "105/105 [==============================] - 41s 391ms/step - loss: 0.2522 - accuracy: 0.9048 - val_loss: 0.2997 - val_accuracy: 0.8974\n",
            "Epoch 13/50\n",
            "105/105 [==============================] - 41s 393ms/step - loss: 0.2560 - accuracy: 0.9107 - val_loss: 0.5948 - val_accuracy: 0.8246\n",
            "Epoch 14/50\n",
            "105/105 [==============================] - 43s 405ms/step - loss: 0.2237 - accuracy: 0.9122 - val_loss: 0.6359 - val_accuracy: 0.8413\n",
            "Epoch 15/50\n",
            "105/105 [==============================] - 41s 395ms/step - loss: 0.2510 - accuracy: 0.9140 - val_loss: 0.3446 - val_accuracy: 0.8580\n",
            "Epoch 16/50\n",
            "105/105 [==============================] - 42s 396ms/step - loss: 0.2467 - accuracy: 0.9137 - val_loss: 0.7089 - val_accuracy: 0.7637\n",
            "Epoch 17/50\n",
            "105/105 [==============================] - 42s 395ms/step - loss: 0.2340 - accuracy: 0.9107 - val_loss: 0.3481 - val_accuracy: 0.9069\n",
            "Epoch 18/50\n",
            "105/105 [==============================] - 41s 394ms/step - loss: 0.1914 - accuracy: 0.9334 - val_loss: 0.2782 - val_accuracy: 0.8866\n",
            "Epoch 19/50\n",
            "105/105 [==============================] - 42s 401ms/step - loss: 0.2059 - accuracy: 0.9278 - val_loss: 0.6130 - val_accuracy: 0.8162\n",
            "Epoch 20/50\n",
            "105/105 [==============================] - 42s 397ms/step - loss: 0.1869 - accuracy: 0.9257 - val_loss: 0.4017 - val_accuracy: 0.8162\n",
            "Epoch 21/50\n",
            "105/105 [==============================] - 43s 406ms/step - loss: 0.1777 - accuracy: 0.9397 - val_loss: 0.2566 - val_accuracy: 0.9057\n",
            "Epoch 22/50\n",
            "105/105 [==============================] - 42s 398ms/step - loss: 0.1773 - accuracy: 0.9352 - val_loss: 0.3357 - val_accuracy: 0.8962\n",
            "Epoch 23/50\n",
            "105/105 [==============================] - 41s 393ms/step - loss: 0.1736 - accuracy: 0.9349 - val_loss: 0.2800 - val_accuracy: 0.8902\n",
            "Epoch 24/50\n",
            "105/105 [==============================] - 42s 396ms/step - loss: 0.1757 - accuracy: 0.9328 - val_loss: 0.5248 - val_accuracy: 0.8329\n",
            "Epoch 25/50\n",
            "105/105 [==============================] - 42s 396ms/step - loss: 0.1511 - accuracy: 0.9415 - val_loss: 0.4025 - val_accuracy: 0.8771\n",
            "Epoch 26/50\n",
            "105/105 [==============================] - 43s 411ms/step - loss: 0.1517 - accuracy: 0.9436 - val_loss: 0.3017 - val_accuracy: 0.8842\n",
            "Epoch 27/50\n",
            "105/105 [==============================] - 42s 395ms/step - loss: 0.1605 - accuracy: 0.9436 - val_loss: 0.3152 - val_accuracy: 0.9010\n",
            "Epoch 28/50\n",
            "105/105 [==============================] - 41s 392ms/step - loss: 0.1384 - accuracy: 0.9457 - val_loss: 0.4909 - val_accuracy: 0.8795\n",
            "Epoch 29/50\n",
            "105/105 [==============================] - 42s 396ms/step - loss: 0.1392 - accuracy: 0.9493 - val_loss: 0.2936 - val_accuracy: 0.9093\n",
            "Epoch 30/50\n",
            "105/105 [==============================] - 42s 399ms/step - loss: 0.1492 - accuracy: 0.9457 - val_loss: 0.3012 - val_accuracy: 0.9200\n",
            "Epoch 31/50\n",
            "105/105 [==============================] - 42s 404ms/step - loss: 0.1244 - accuracy: 0.9513 - val_loss: 1.0096 - val_accuracy: 0.6874\n",
            "Epoch 32/50\n",
            "105/105 [==============================] - 48s 460ms/step - loss: 0.1182 - accuracy: 0.9585 - val_loss: 0.2797 - val_accuracy: 0.8998\n",
            "Epoch 33/50\n",
            "105/105 [==============================] - 41s 393ms/step - loss: 0.1112 - accuracy: 0.9573 - val_loss: 0.2624 - val_accuracy: 0.9105\n",
            "Epoch 34/50\n",
            "105/105 [==============================] - 42s 395ms/step - loss: 0.1143 - accuracy: 0.9612 - val_loss: 0.2754 - val_accuracy: 0.9129\n",
            "Epoch 35/50\n",
            "105/105 [==============================] - 41s 392ms/step - loss: 0.1163 - accuracy: 0.9558 - val_loss: 0.2285 - val_accuracy: 0.9189\n",
            "Epoch 36/50\n",
            "105/105 [==============================] - 43s 406ms/step - loss: 0.1048 - accuracy: 0.9600 - val_loss: 0.3836 - val_accuracy: 0.8663\n",
            "Epoch 37/50\n",
            "105/105 [==============================] - 42s 397ms/step - loss: 0.1327 - accuracy: 0.9600 - val_loss: 0.5831 - val_accuracy: 0.8735\n",
            "Epoch 38/50\n",
            "105/105 [==============================] - 42s 401ms/step - loss: 0.1522 - accuracy: 0.9501 - val_loss: 0.2810 - val_accuracy: 0.8974\n",
            "Epoch 39/50\n",
            "105/105 [==============================] - 42s 397ms/step - loss: 0.1099 - accuracy: 0.9585 - val_loss: 0.8618 - val_accuracy: 0.8031\n",
            "Epoch 40/50\n",
            "105/105 [==============================] - 43s 405ms/step - loss: 0.1008 - accuracy: 0.9612 - val_loss: 0.2572 - val_accuracy: 0.9165\n",
            "Epoch 41/50\n",
            "105/105 [==============================] - 42s 395ms/step - loss: 0.1027 - accuracy: 0.9627 - val_loss: 0.2809 - val_accuracy: 0.9320\n",
            "Epoch 42/50\n",
            "105/105 [==============================] - 41s 392ms/step - loss: 0.0983 - accuracy: 0.9636 - val_loss: 0.3912 - val_accuracy: 0.9021\n",
            "Epoch 43/50\n",
            "105/105 [==============================] - 43s 405ms/step - loss: 0.0916 - accuracy: 0.9669 - val_loss: 0.3188 - val_accuracy: 0.9224\n",
            "Epoch 44/50\n",
            "105/105 [==============================] - 42s 403ms/step - loss: 0.0847 - accuracy: 0.9713 - val_loss: 0.2951 - val_accuracy: 0.9224\n",
            "Epoch 45/50\n",
            "105/105 [==============================] - 43s 406ms/step - loss: 0.0955 - accuracy: 0.9654 - val_loss: 0.3228 - val_accuracy: 0.9105\n",
            "Epoch 46/50\n",
            "105/105 [==============================] - 42s 396ms/step - loss: 0.0887 - accuracy: 0.9669 - val_loss: 0.8509 - val_accuracy: 0.7733\n",
            "Epoch 47/50\n",
            "105/105 [==============================] - 41s 394ms/step - loss: 0.1056 - accuracy: 0.9654 - val_loss: 0.4189 - val_accuracy: 0.8616\n",
            "Epoch 48/50\n",
            "105/105 [==============================] - 42s 403ms/step - loss: 0.0850 - accuracy: 0.9696 - val_loss: 0.3463 - val_accuracy: 0.9129\n",
            "Epoch 49/50\n",
            "105/105 [==============================] - 42s 396ms/step - loss: 0.1081 - accuracy: 0.9678 - val_loss: 0.2814 - val_accuracy: 0.9248\n",
            "Epoch 50/50\n",
            "105/105 [==============================] - 43s 407ms/step - loss: 0.0783 - accuracy: 0.9707 - val_loss: 0.2801 - val_accuracy: 0.9284\n"
          ]
        }
      ]
    },
    {
      "cell_type": "code",
      "source": [
        "Y_pred = model_alexnet.predict(X_test)\n",
        "Y_pred_classes = np.argmax(Y_pred, axis=1)\n",
        "Y_true = np.argmax(Y_test, axis=1)\n",
        "\n",
        "conf_matrix = confusion_matrix(Y_true, Y_pred_classes)\n",
        "\n",
        "plt.figure(figsize=(8, 6))\n",
        "sns.heatmap(conf_matrix, annot=True, fmt=\"d\", cmap=\"Blues\", xticklabels=['Common_Rust', 'Healthy', 'Gray_Leaf_Spot', 'Blight'], yticklabels=['Common_Rust', 'Healthy', 'Gray_Leaf_Spot', 'Blight'])\n",
        "plt.xlabel('Predicted labels')\n",
        "plt.ylabel('True labels')\n",
        "plt.title('Confusion Matrix')\n",
        "plt.show()\n",
        "\n",
        "class_report = classification_report(Y_true, Y_pred_classes)\n",
        "\n",
        "print(\"\\nClassification Report:\")\n",
        "print(class_report)"
      ],
      "metadata": {
        "id": "W2svXyjyTjeo",
        "colab": {
          "base_uri": "https://localhost:8080/",
          "height": 807
        },
        "outputId": "4ff621db-57cd-4642-c9cf-4834bffde133"
      },
      "execution_count": 13,
      "outputs": [
        {
          "output_type": "stream",
          "name": "stdout",
          "text": [
            "27/27 [==============================] - 1s 29ms/step\n"
          ]
        },
        {
          "output_type": "display_data",
          "data": {
            "text/plain": [
              "<Figure size 800x600 with 2 Axes>"
            ],
            "image/png": "[encoded data removed]"
          },
          "metadata": {}
        },
        {
          "output_type": "stream",
          "name": "stdout",
          "text": [
            "\n",
            "Classification Report:\n",
            "              precision    recall  f1-score   support\n",
            "\n",
            "           0       0.87      0.88      0.88       218\n",
            "           1       0.97      0.96      0.96       289\n",
            "           2       0.80      0.79      0.79       104\n",
            "           3       1.00      1.00      1.00       227\n",
            "\n",
            "    accuracy                           0.93       838\n",
            "   macro avg       0.91      0.91      0.91       838\n",
            "weighted avg       0.93      0.93      0.93       838\n",
            "\n"
          ]
        }
      ]
    },
    {
      "cell_type": "code",
      "source": [
        "model = models.alexnet()\n",
        "\n",
        "input = torch.randn(1, 3, 227, 227)\n",
        "\n",
        "flops, params = profile(model, inputs=(input, ))\n",
        "print(f\"Estimasi FLOPS: {flops}\")"
      ],
      "metadata": {
        "colab": {
          "base_uri": "https://localhost:8080/"
        },
        "id": "QXQN3PxE7ZNa",
        "outputId": "2d9609e0-bacf-45fb-a24f-d7c439caab7c"
      },
      "execution_count": 14,
      "outputs": [
        {
          "output_type": "stream",
          "name": "stdout",
          "text": [
            "[INFO] Register count_convNd() for <class 'torch.nn.modules.conv.Conv2d'>.\n",
            "[INFO] Register zero_ops() for <class 'torch.nn.modules.activation.ReLU'>.\n",
            "[INFO] Register zero_ops() for <class 'torch.nn.modules.pooling.MaxPool2d'>.\n",
            "[INFO] Register zero_ops() for <class 'torch.nn.modules.container.Sequential'>.\n",
            "[INFO] Register count_adap_avgpool() for <class 'torch.nn.modules.pooling.AdaptiveAvgPool2d'>.\n",
            "[INFO] Register zero_ops() for <class 'torch.nn.modules.dropout.Dropout'>.\n",
            "[INFO] Register count_linear() for <class 'torch.nn.modules.linear.Linear'>.\n",
            "Estimasi FLOPS: 716785664.0\n"
          ]
        }
      ]
    }
  ]
}