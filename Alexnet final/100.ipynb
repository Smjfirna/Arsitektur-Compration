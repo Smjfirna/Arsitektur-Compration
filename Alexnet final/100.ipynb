{
  "nbformat": 4,
  "nbformat_minor": 0,
  "metadata": {
    "colab": {
      "provenance": [],
      "gpuType": "T4",
      "authorship_tag": "ABX9TyN37GWcwGfgJ7sR7i8+KnOA",
      "include_colab_link": true
    },
    "kernelspec": {
      "name": "python3",
      "display_name": "Python 3"
    },
    "language_info": {
      "name": "python"
    },
    "accelerator": "GPU"
  },
  "cells": [
    {
      "cell_type": "markdown",
      "metadata": {
        "id": "view-in-github",
        "colab_type": "text"
      },
      "source": [
        "<a href=\"https://colab.research.google.com/github/Smjfirna/Arsitektur-Compration/blob/main/Alexnet%20final/100.ipynb\" target=\"_parent\"><img src=\"https://colab.research.google.com/assets/colab-badge.svg\" alt=\"Open In Colab\"/></a>"
      ]
    },
    {
      "cell_type": "code",
      "source": [
        "#Preprocessing\n",
        "import os\n",
        "import cv2\n",
        "import numpy as np\n",
        "from tqdm import tqdm\n",
        "from sklearn.model_selection import train_test_split\n",
        "from sklearn.preprocessing import LabelEncoder\n",
        "from keras.utils import to_categorical\n",
        "\n",
        "#Model dan Augmentasi\n",
        "import tensorflow as tf\n",
        "from tensorflow.keras.preprocessing.image import ImageDataGenerator\n",
        "from tensorflow.keras.models import Sequential\n",
        "from tensorflow.keras import layers, Model, regularizers\n",
        "from tensorflow.keras.callbacks import EarlyStopping\n",
        "from tensorflow.keras.layers import Conv2D, MaxPooling2D, Flatten, Dense, GlobalAveragePooling2D, Dropout,BatchNormalization\n",
        "import os\n",
        "from tensorflow.keras.optimizers import Adam\n",
        "from tensorflow.keras.optimizers import RMSprop\n",
        "\n",
        "# Evaluasi\n",
        "import torch\n",
        "import torchvision.models as models\n",
        "from thop import profile\n",
        "from sklearn.metrics import confusion_matrix, classification_report\n",
        "\n",
        "#Visualisasi\n",
        "import matplotlib.pyplot as plt\n",
        "import seaborn as sns\n",
        "import os\n",
        "import cv2\n",
        "import numpy as np\n",
        "from tqdm import tqdm\n",
        "from sklearn.model_selection import train_test_split\n",
        "from sklearn.preprocessing import LabelEncoder\n",
        "from keras.utils import to_categorical"
      ],
      "metadata": {
        "id": "NMN3beIVALVJ"
      },
      "execution_count": 2,
      "outputs": []
    },
    {
      "cell_type": "code",
      "execution_count": 3,
      "metadata": {
        "id": "GK3MPeDN_Ofu",
        "colab": {
          "base_uri": "https://localhost:8080/",
          "height": 90
        },
        "outputId": "bb9a89aa-1ca9-44f3-8554-a9865494f0c9"
      },
      "outputs": [
        {
          "output_type": "display_data",
          "data": {
            "text/plain": [
              "<IPython.core.display.HTML object>"
            ],
            "text/html": [
              "\n",
              "     <input type=\"file\" id=\"files-0b7bb049-f936-43a6-a7da-467665215fab\" name=\"files[]\" multiple disabled\n",
              "        style=\"border:none\" />\n",
              "     <output id=\"result-0b7bb049-f936-43a6-a7da-467665215fab\">\n",
              "      Upload widget is only available when the cell has been executed in the\n",
              "      current browser session. Please rerun this cell to enable.\n",
              "      </output>\n",
              "      <script>// Copyright 2017 Google LLC\n",
              "//\n",
              "// Licensed under the Apache License, Version 2.0 (the \"License\");\n",
              "// you may not use this file except in compliance with the License.\n",
              "// You may obtain a copy of the License at\n",
              "//\n",
              "//      http://www.apache.org/licenses/LICENSE-2.0\n",
              "//\n",
              "// Unless required by applicable law or agreed to in writing, software\n",
              "// distributed under the License is distributed on an \"AS IS\" BASIS,\n",
              "// WITHOUT WARRANTIES OR CONDITIONS OF ANY KIND, either express or implied.\n",
              "// See the License for the specific language governing permissions and\n",
              "// limitations under the License.\n",
              "\n",
              "/**\n",
              " * @fileoverview Helpers for google.colab Python module.\n",
              " */\n",
              "(function(scope) {\n",
              "function span(text, styleAttributes = {}) {\n",
              "  const element = document.createElement('span');\n",
              "  element.textContent = text;\n",
              "  for (const key of Object.keys(styleAttributes)) {\n",
              "    element.style[key] = styleAttributes[key];\n",
              "  }\n",
              "  return element;\n",
              "}\n",
              "\n",
              "// Max number of bytes which will be uploaded at a time.\n",
              "const MAX_PAYLOAD_SIZE = 100 * 1024;\n",
              "\n",
              "function _uploadFiles(inputId, outputId) {\n",
              "  const steps = uploadFilesStep(inputId, outputId);\n",
              "  const outputElement = document.getElementById(outputId);\n",
              "  // Cache steps on the outputElement to make it available for the next call\n",
              "  // to uploadFilesContinue from Python.\n",
              "  outputElement.steps = steps;\n",
              "\n",
              "  return _uploadFilesContinue(outputId);\n",
              "}\n",
              "\n",
              "// This is roughly an async generator (not supported in the browser yet),\n",
              "// where there are multiple asynchronous steps and the Python side is going\n",
              "// to poll for completion of each step.\n",
              "// This uses a Promise to block the python side on completion of each step,\n",
              "// then passes the result of the previous step as the input to the next step.\n",
              "function _uploadFilesContinue(outputId) {\n",
              "  const outputElement = document.getElementById(outputId);\n",
              "  const steps = outputElement.steps;\n",
              "\n",
              "  const next = steps.next(outputElement.lastPromiseValue);\n",
              "  return Promise.resolve(next.value.promise).then((value) => {\n",
              "    // Cache the last promise value to make it available to the next\n",
              "    // step of the generator.\n",
              "    outputElement.lastPromiseValue = value;\n",
              "    return next.value.response;\n",
              "  });\n",
              "}\n",
              "\n",
              "/**\n",
              " * Generator function which is called between each async step of the upload\n",
              " * process.\n",
              " * @param {string} inputId Element ID of the input file picker element.\n",
              " * @param {string} outputId Element ID of the output display.\n",
              " * @return {!Iterable<!Object>} Iterable of next steps.\n",
              " */\n",
              "function* uploadFilesStep(inputId, outputId) {\n",
              "  const inputElement = document.getElementById(inputId);\n",
              "  inputElement.disabled = false;\n",
              "\n",
              "  const outputElement = document.getElementById(outputId);\n",
              "  outputElement.innerHTML = '';\n",
              "\n",
              "  const pickedPromise = new Promise((resolve) => {\n",
              "    inputElement.addEventListener('change', (e) => {\n",
              "      resolve(e.target.files);\n",
              "    });\n",
              "  });\n",
              "\n",
              "  const cancel = document.createElement('button');\n",
              "  inputElement.parentElement.appendChild(cancel);\n",
              "  cancel.textContent = 'Cancel upload';\n",
              "  const cancelPromise = new Promise((resolve) => {\n",
              "    cancel.onclick = () => {\n",
              "      resolve(null);\n",
              "    };\n",
              "  });\n",
              "\n",
              "  // Wait for the user to pick the files.\n",
              "  const files = yield {\n",
              "    promise: Promise.race([pickedPromise, cancelPromise]),\n",
              "    response: {\n",
              "      action: 'starting',\n",
              "    }\n",
              "  };\n",
              "\n",
              "  cancel.remove();\n",
              "\n",
              "  // Disable the input element since further picks are not allowed.\n",
              "  inputElement.disabled = true;\n",
              "\n",
              "  if (!files) {\n",
              "    return {\n",
              "      response: {\n",
              "        action: 'complete',\n",
              "      }\n",
              "    };\n",
              "  }\n",
              "\n",
              "  for (const file of files) {\n",
              "    const li = document.createElement('li');\n",
              "    li.append(span(file.name, {fontWeight: 'bold'}));\n",
              "    li.append(span(\n",
              "        `(${file.type || 'n/a'}) - ${file.size} bytes, ` +\n",
              "        `last modified: ${\n",
              "            file.lastModifiedDate ? file.lastModifiedDate.toLocaleDateString() :\n",
              "                                    'n/a'} - `));\n",
              "    const percent = span('0% done');\n",
              "    li.appendChild(percent);\n",
              "\n",
              "    outputElement.appendChild(li);\n",
              "\n",
              "    const fileDataPromise = new Promise((resolve) => {\n",
              "      const reader = new FileReader();\n",
              "      reader.onload = (e) => {\n",
              "        resolve(e.target.result);\n",
              "      };\n",
              "      reader.readAsArrayBuffer(file);\n",
              "    });\n",
              "    // Wait for the data to be ready.\n",
              "    let fileData = yield {\n",
              "      promise: fileDataPromise,\n",
              "      response: {\n",
              "        action: 'continue',\n",
              "      }\n",
              "    };\n",
              "\n",
              "    // Use a chunked sending to avoid message size limits. See b/62115660.\n",
              "    let position = 0;\n",
              "    do {\n",
              "      const length = Math.min(fileData.byteLength - position, MAX_PAYLOAD_SIZE);\n",
              "      const chunk = new Uint8Array(fileData, position, length);\n",
              "      position += length;\n",
              "\n",
              "      const base64 = btoa(String.fromCharCode.apply(null, chunk));\n",
              "      yield {\n",
              "        response: {\n",
              "          action: 'append',\n",
              "          file: file.name,\n",
              "          data: base64,\n",
              "        },\n",
              "      };\n",
              "\n",
              "      let percentDone = fileData.byteLength === 0 ?\n",
              "          100 :\n",
              "          Math.round((position / fileData.byteLength) * 100);\n",
              "      percent.textContent = `${percentDone}% done`;\n",
              "\n",
              "    } while (position < fileData.byteLength);\n",
              "  }\n",
              "\n",
              "  // All done.\n",
              "  yield {\n",
              "    response: {\n",
              "      action: 'complete',\n",
              "    }\n",
              "  };\n",
              "}\n",
              "\n",
              "scope.google = scope.google || {};\n",
              "scope.google.colab = scope.google.colab || {};\n",
              "scope.google.colab._files = {\n",
              "  _uploadFiles,\n",
              "  _uploadFilesContinue,\n",
              "};\n",
              "})(self);\n",
              "</script> "
            ]
          },
          "metadata": {}
        },
        {
          "output_type": "stream",
          "name": "stdout",
          "text": [
            "Saving kaggle.json to kaggle.json\n"
          ]
        },
        {
          "output_type": "execute_result",
          "data": {
            "text/plain": [
              "{'kaggle.json': b'{\"username\":\"smjayyy\",\"key\":\"8eb172e224d83c7b56b4a2ef349b7c0d\"}'}"
            ]
          },
          "metadata": {},
          "execution_count": 3
        }
      ],
      "source": [
        "from google.colab import files\n",
        "files.upload()"
      ]
    },
    {
      "cell_type": "code",
      "source": [
        "!mkdir -p ~/.kaggle\n",
        "!cp kaggle.json ~/.kaggle/\n",
        "!chmod 600 ~/.kaggle/kaggle.json"
      ],
      "metadata": {
        "id": "Y9Kia11G_5Si"
      },
      "execution_count": 4,
      "outputs": []
    },
    {
      "cell_type": "code",
      "source": [
        "##link dataset in Kaggle.com\n",
        "!kaggle datasets download -d smaranjitghose/corn-or-maize-leaf-disease-dataset"
      ],
      "metadata": {
        "id": "apfKVlxj_8FJ",
        "colab": {
          "base_uri": "https://localhost:8080/"
        },
        "outputId": "f610e925-6d38-4e4b-c148-b88a9f0f3e8c"
      },
      "execution_count": 5,
      "outputs": [
        {
          "output_type": "stream",
          "name": "stdout",
          "text": [
            "Dataset URL: https://www.kaggle.com/datasets/smaranjitghose/corn-or-maize-leaf-disease-dataset\n",
            "License(s): copyright-authors\n",
            "Downloading corn-or-maize-leaf-disease-dataset.zip to /content\n",
            "100% 161M/161M [00:08<00:00, 21.2MB/s]\n",
            "100% 161M/161M [00:08<00:00, 19.5MB/s]\n"
          ]
        }
      ]
    },
    {
      "cell_type": "code",
      "source": [
        "!unzip -q corn-or-maize-leaf-disease-dataset.zip -d /content"
      ],
      "metadata": {
        "id": "ixMUoB2rAAd3"
      },
      "execution_count": 6,
      "outputs": []
    },
    {
      "cell_type": "code",
      "source": [
        "dataset_dir = '/content/data'"
      ],
      "metadata": {
        "id": "pZ8IerIQAGFO"
      },
      "execution_count": 7,
      "outputs": []
    },
    {
      "cell_type": "code",
      "source": [
        "print(os.listdir(dataset_dir))"
      ],
      "metadata": {
        "colab": {
          "base_uri": "https://localhost:8080/"
        },
        "id": "9wwka8QaAIcj",
        "outputId": "1803411f-7f38-48e8-8cac-3c49d3fbd6a9"
      },
      "execution_count": 8,
      "outputs": [
        {
          "output_type": "stream",
          "name": "stdout",
          "text": [
            "['Blight', 'Healthy', 'Gray_Leaf_Spot', 'Common_Rust']\n"
          ]
        }
      ]
    },
    {
      "cell_type": "code",
      "source": [
        "IMAGE_SIZE_alexnet = 227"
      ],
      "metadata": {
        "id": "_UCEuA-hAPSa"
      },
      "execution_count": 9,
      "outputs": []
    },
    {
      "cell_type": "code",
      "source": [
        "def make_data(label, DIR, img_list, label_list):\n",
        "    for img in tqdm(os.listdir(DIR)):\n",
        "        path = os.path.join(DIR, img)\n",
        "        img = cv2.imread(path, cv2.IMREAD_COLOR)\n",
        "        img = cv2.resize(img, (IMAGE_SIZE_alexnet, IMAGE_SIZE_alexnet))\n",
        "        img_list.append(np.array(img))\n",
        "        label_list.append(str(label))"
      ],
      "metadata": {
        "id": "B3menIgvARk5"
      },
      "execution_count": 10,
      "outputs": []
    },
    {
      "cell_type": "code",
      "source": [
        "X = []\n",
        "Z = []"
      ],
      "metadata": {
        "id": "Jn6gWefxATyU"
      },
      "execution_count": 11,
      "outputs": []
    },
    {
      "cell_type": "code",
      "source": [
        "for i, class_name in enumerate(['Common_Rust', 'Healthy', 'Gray_Leaf_Spot', 'Blight']):\n",
        "    class_dir = os.path.join(dataset_dir, class_name)\n",
        "    make_data(class_name, class_dir, X, Z)"
      ],
      "metadata": {
        "colab": {
          "base_uri": "https://localhost:8080/"
        },
        "id": "S9-RQTGJAWCk",
        "outputId": "5d887ef4-a90f-4951-891f-c717bedff5b2"
      },
      "execution_count": 12,
      "outputs": [
        {
          "output_type": "stream",
          "name": "stderr",
          "text": [
            "100%|██████████| 1306/1306 [00:04<00:00, 265.65it/s]\n",
            "100%|██████████| 1162/1162 [00:01<00:00, 667.47it/s]\n",
            "100%|██████████| 574/574 [00:01<00:00, 363.78it/s]\n",
            "100%|██████████| 1146/1146 [00:04<00:00, 241.54it/s]\n"
          ]
        }
      ]
    },
    {
      "cell_type": "code",
      "source": [
        "import matplotlib.pyplot as plt\n",
        "\n",
        "# Menghitung jumlah data untuk setiap kelas\n",
        "class_counts = {class_name: Z.count(class_name) for class_name in set(Z)}\n",
        "\n",
        "# Menampilkan visualisasi jumlah data\n",
        "plt.figure(figsize=(8, 6))\n",
        "plt.bar(class_counts.keys(), class_counts.values())\n",
        "plt.xlabel('Class')\n",
        "plt.ylabel('Count')\n",
        "plt.title('Number of Data Samples for Each Class')\n",
        "plt.show()"
      ],
      "metadata": {
        "colab": {
          "base_uri": "https://localhost:8080/",
          "height": 564
        },
        "id": "-IcXHIM8Akcw",
        "outputId": "641c17bd-bdf3-4130-d249-499ed7697747"
      },
      "execution_count": 13,
      "outputs": [
        {
          "output_type": "display_data",
          "data": {
            "text/plain": [
              "<Figure size 800x600 with 1 Axes>"
            ],
            "image/png": "[encoded data removed]"
          },
          "metadata": {}
        }
      ]
    },
    {
      "cell_type": "code",
      "source": [
        "le = LabelEncoder()\n",
        "Y = le.fit_transform(Z)\n",
        "Y = to_categorical(Y, num_classes=len(le.classes_))\n",
        "\n",
        "# Konversi ke array numpy\n",
        "X = np.array(X)\n",
        "\n",
        "# Memisahkan data menjadi data latih dan data uji\n",
        "X_train, X_test, Y_train, Y_test = train_test_split(X, Y, test_size=0.2, random_state=42)\n",
        "\n",
        "print(\"Jumlah Data Train adalah :\", len(X_train))\n",
        "print(\"Jumlah Data Test adalah :\", len(X_test))"
      ],
      "metadata": {
        "colab": {
          "base_uri": "https://localhost:8080/"
        },
        "id": "OI7kvVbXAqko",
        "outputId": "9f45b1d0-659f-45d7-ff37-c9c2aa44b36e"
      },
      "execution_count": 14,
      "outputs": [
        {
          "output_type": "stream",
          "name": "stdout",
          "text": [
            "Jumlah Data Train adalah : 3350\n",
            "Jumlah Data Test adalah : 838\n"
          ]
        }
      ]
    },
    {
      "cell_type": "code",
      "source": [
        "datagen = ImageDataGenerator(\n",
        "    rotation_range=20,\n",
        "    zoom_range=0.2,\n",
        "    horizontal_flip=True,\n",
        "    vertical_flip=True\n",
        ")\n",
        "\n",
        "datagen.fit(X_train)"
      ],
      "metadata": {
        "id": "ue5XLCIlA2ld"
      },
      "execution_count": 15,
      "outputs": []
    },
    {
      "cell_type": "code",
      "source": [
        "model_alexnet = tf.keras.models.Sequential([\n",
        "        # 1st conv\n",
        "        Conv2D(96, (11,11), strides=(4,4), activation='relu', input_shape=(IMAGE_SIZE_alexnet, IMAGE_SIZE_alexnet, 3)),\n",
        "        BatchNormalization(),\n",
        "        MaxPooling2D(2, strides=(2,2)),\n",
        "        # 2nd conv\n",
        "        Conv2D(256, (11,11), strides=(1,1), activation='relu', padding=\"same\"),\n",
        "        BatchNormalization(),\n",
        "        # 3rd conv\n",
        "        Conv2D(384, (3,3), strides=(1,1), activation='relu', padding=\"same\"),\n",
        "        BatchNormalization(),\n",
        "        # 4th conv\n",
        "        Conv2D(384, (3,3), strides=(1,1), activation='relu', padding=\"same\"),\n",
        "        BatchNormalization(),\n",
        "        # 5th Conv\n",
        "        Conv2D(256, (3, 3), strides=(1, 1), activation='relu', padding=\"same\"),\n",
        "        BatchNormalization(),\n",
        "        MaxPooling2D(2, strides=(2, 2)),\n",
        "        # To Flatten layer\n",
        "        Flatten(),\n",
        "        # To FC layer 1\n",
        "        Dense(4096, activation='relu'),\n",
        "        # add dropout 0.5 ==> tf.keras.layers.Dropout(0.5),\n",
        "        # To FC layer 2\n",
        "        Dense(4096, activation='relu'),\n",
        "        # add dropout 0.5 ==> tf.keras.layers.Dropout(0.5),\n",
        "        Dense(4, activation='sigmoid')\n",
        "    ])\n",
        "\n",
        "model_alexnet.compile(optimizer=Adam(learning_rate=1e-4), loss='categorical_crossentropy', metrics=['accuracy'])\n",
        "\n",
        "model_alexnet.summary()\n",
        "\n",
        "history_alexnet = model_alexnet.fit(datagen.flow(X_train, Y_train), epochs=100, validation_data=(X_test, Y_test))"
      ],
      "metadata": {
        "id": "qg6h8yY_A62R",
        "colab": {
          "base_uri": "https://localhost:8080/"
        },
        "outputId": "0d05aec5-0b22-465a-aed1-88134066045f"
      },
      "execution_count": 17,
      "outputs": [
        {
          "output_type": "stream",
          "name": "stdout",
          "text": [
            "Model: \"sequential_1\"\n",
            "_________________________________________________________________\n",
            " Layer (type)                Output Shape              Param #   \n",
            "=================================================================\n",
            " conv2d_5 (Conv2D)           (None, 55, 55, 96)        34944     \n",
            "                                                                 \n",
            " batch_normalization_5 (Bat  (None, 55, 55, 96)        384       \n",
            " chNormalization)                                                \n",
            "                                                                 \n",
            " max_pooling2d_2 (MaxPoolin  (None, 27, 27, 96)        0         \n",
            " g2D)                                                            \n",
            "                                                                 \n",
            " conv2d_6 (Conv2D)           (None, 27, 27, 256)       2973952   \n",
            "                                                                 \n",
            " batch_normalization_6 (Bat  (None, 27, 27, 256)       1024      \n",
            " chNormalization)                                                \n",
            "                                                                 \n",
            " conv2d_7 (Conv2D)           (None, 27, 27, 384)       885120    \n",
            "                                                                 \n",
            " batch_normalization_7 (Bat  (None, 27, 27, 384)       1536      \n",
            " chNormalization)                                                \n",
            "                                                                 \n",
            " conv2d_8 (Conv2D)           (None, 27, 27, 384)       1327488   \n",
            "                                                                 \n",
            " batch_normalization_8 (Bat  (None, 27, 27, 384)       1536      \n",
            " chNormalization)                                                \n",
            "                                                                 \n",
            " conv2d_9 (Conv2D)           (None, 27, 27, 256)       884992    \n",
            "                                                                 \n",
            " batch_normalization_9 (Bat  (None, 27, 27, 256)       1024      \n",
            " chNormalization)                                                \n",
            "                                                                 \n",
            " max_pooling2d_3 (MaxPoolin  (None, 13, 13, 256)       0         \n",
            " g2D)                                                            \n",
            "                                                                 \n",
            " flatten_1 (Flatten)         (None, 43264)             0         \n",
            "                                                                 \n",
            " dense_3 (Dense)             (None, 4096)              177213440 \n",
            "                                                                 \n",
            " dense_4 (Dense)             (None, 4096)              16781312  \n",
            "                                                                 \n",
            " dense_5 (Dense)             (None, 4)                 16388     \n",
            "                                                                 \n",
            "=================================================================\n",
            "Total params: 200123140 (763.41 MB)\n",
            "Trainable params: 200120388 (763.40 MB)\n",
            "Non-trainable params: 2752 (10.75 KB)\n",
            "_________________________________________________________________\n",
            "Epoch 1/100\n",
            "105/105 [==============================] - 59s 505ms/step - loss: 1.1983 - accuracy: 0.7645 - val_loss: 10.1899 - val_accuracy: 0.3628\n",
            "Epoch 2/100\n",
            "105/105 [==============================] - 45s 426ms/step - loss: 0.4686 - accuracy: 0.8155 - val_loss: 0.6263 - val_accuracy: 0.7267\n",
            "Epoch 3/100\n",
            "105/105 [==============================] - 46s 441ms/step - loss: 0.3936 - accuracy: 0.8451 - val_loss: 1.4476 - val_accuracy: 0.7291\n",
            "Epoch 4/100\n",
            "105/105 [==============================] - 45s 425ms/step - loss: 0.3650 - accuracy: 0.8493 - val_loss: 4.8917 - val_accuracy: 0.5788\n",
            "Epoch 5/100\n",
            "105/105 [==============================] - 45s 426ms/step - loss: 0.3299 - accuracy: 0.8585 - val_loss: 0.5082 - val_accuracy: 0.8341\n",
            "Epoch 6/100\n",
            "105/105 [==============================] - 45s 427ms/step - loss: 0.2904 - accuracy: 0.8767 - val_loss: 2.2725 - val_accuracy: 0.6420\n",
            "Epoch 7/100\n",
            "105/105 [==============================] - 45s 432ms/step - loss: 0.2926 - accuracy: 0.8833 - val_loss: 0.4666 - val_accuracy: 0.8103\n",
            "Epoch 8/100\n",
            "105/105 [==============================] - 46s 436ms/step - loss: 0.3030 - accuracy: 0.8860 - val_loss: 0.9243 - val_accuracy: 0.8007\n",
            "Epoch 9/100\n",
            "105/105 [==============================] - 45s 424ms/step - loss: 0.2489 - accuracy: 0.9021 - val_loss: 0.5915 - val_accuracy: 0.8031\n",
            "Epoch 10/100\n",
            "105/105 [==============================] - 45s 433ms/step - loss: 0.2356 - accuracy: 0.9027 - val_loss: 1.2598 - val_accuracy: 0.6193\n",
            "Epoch 11/100\n",
            "105/105 [==============================] - 44s 420ms/step - loss: 0.2649 - accuracy: 0.8988 - val_loss: 1.6480 - val_accuracy: 0.6325\n",
            "Epoch 12/100\n",
            "105/105 [==============================] - 48s 454ms/step - loss: 0.2383 - accuracy: 0.9078 - val_loss: 0.5789 - val_accuracy: 0.7482\n",
            "Epoch 13/100\n",
            "105/105 [==============================] - 46s 441ms/step - loss: 0.3685 - accuracy: 0.8949 - val_loss: 1.1946 - val_accuracy: 0.7064\n",
            "Epoch 14/100\n",
            "105/105 [==============================] - 45s 428ms/step - loss: 0.3385 - accuracy: 0.8773 - val_loss: 0.6996 - val_accuracy: 0.6981\n",
            "Epoch 15/100\n",
            "105/105 [==============================] - 45s 428ms/step - loss: 0.2540 - accuracy: 0.9015 - val_loss: 0.6315 - val_accuracy: 0.8234\n",
            "Epoch 16/100\n",
            "105/105 [==============================] - 45s 427ms/step - loss: 0.2671 - accuracy: 0.9081 - val_loss: 0.7631 - val_accuracy: 0.8365\n",
            "Epoch 17/100\n",
            "105/105 [==============================] - 46s 438ms/step - loss: 0.2165 - accuracy: 0.9176 - val_loss: 0.4706 - val_accuracy: 0.8377\n",
            "Epoch 18/100\n",
            "105/105 [==============================] - 44s 420ms/step - loss: 0.2048 - accuracy: 0.9185 - val_loss: 0.3600 - val_accuracy: 0.8592\n",
            "Epoch 19/100\n",
            "105/105 [==============================] - 45s 429ms/step - loss: 0.2006 - accuracy: 0.9209 - val_loss: 0.7640 - val_accuracy: 0.8305\n",
            "Epoch 20/100\n",
            "105/105 [==============================] - 45s 426ms/step - loss: 0.2005 - accuracy: 0.9173 - val_loss: 0.2553 - val_accuracy: 0.9093\n",
            "Epoch 21/100\n",
            "105/105 [==============================] - 45s 428ms/step - loss: 0.1717 - accuracy: 0.9352 - val_loss: 0.3632 - val_accuracy: 0.8699\n",
            "Epoch 22/100\n",
            "105/105 [==============================] - 48s 455ms/step - loss: 0.1793 - accuracy: 0.9299 - val_loss: 0.2843 - val_accuracy: 0.9045\n",
            "Epoch 23/100\n",
            "105/105 [==============================] - 45s 425ms/step - loss: 0.1784 - accuracy: 0.9346 - val_loss: 0.6219 - val_accuracy: 0.7876\n",
            "Epoch 24/100\n",
            "105/105 [==============================] - 51s 483ms/step - loss: 0.1499 - accuracy: 0.9412 - val_loss: 0.3303 - val_accuracy: 0.8878\n",
            "Epoch 25/100\n",
            "105/105 [==============================] - 45s 432ms/step - loss: 0.1508 - accuracy: 0.9421 - val_loss: 0.3660 - val_accuracy: 0.8640\n",
            "Epoch 26/100\n",
            "105/105 [==============================] - 49s 462ms/step - loss: 0.1403 - accuracy: 0.9466 - val_loss: 0.3453 - val_accuracy: 0.8831\n",
            "Epoch 27/100\n",
            "105/105 [==============================] - 45s 427ms/step - loss: 0.1408 - accuracy: 0.9469 - val_loss: 0.6087 - val_accuracy: 0.8461\n",
            "Epoch 28/100\n",
            "105/105 [==============================] - 46s 442ms/step - loss: 0.3236 - accuracy: 0.9158 - val_loss: 2.9404 - val_accuracy: 0.5979\n",
            "Epoch 29/100\n",
            "105/105 [==============================] - 47s 441ms/step - loss: 0.2821 - accuracy: 0.9101 - val_loss: 0.6125 - val_accuracy: 0.8771\n",
            "Epoch 30/100\n",
            "105/105 [==============================] - 45s 424ms/step - loss: 0.1885 - accuracy: 0.9290 - val_loss: 0.3005 - val_accuracy: 0.9165\n",
            "Epoch 31/100\n",
            "105/105 [==============================] - 45s 428ms/step - loss: 0.1605 - accuracy: 0.9421 - val_loss: 0.7811 - val_accuracy: 0.8150\n",
            "Epoch 32/100\n",
            "105/105 [==============================] - 45s 433ms/step - loss: 0.1500 - accuracy: 0.9424 - val_loss: 0.2578 - val_accuracy: 0.9165\n",
            "Epoch 33/100\n",
            "105/105 [==============================] - 45s 430ms/step - loss: 0.1278 - accuracy: 0.9493 - val_loss: 0.2832 - val_accuracy: 0.9153\n",
            "Epoch 34/100\n",
            "105/105 [==============================] - 46s 439ms/step - loss: 0.1282 - accuracy: 0.9528 - val_loss: 0.3079 - val_accuracy: 0.8962\n",
            "Epoch 35/100\n",
            "105/105 [==============================] - 45s 424ms/step - loss: 0.1371 - accuracy: 0.9457 - val_loss: 0.3633 - val_accuracy: 0.8508\n",
            "Epoch 36/100\n",
            "105/105 [==============================] - 47s 445ms/step - loss: 0.1091 - accuracy: 0.9621 - val_loss: 0.4365 - val_accuracy: 0.8699\n",
            "Epoch 37/100\n",
            "105/105 [==============================] - 45s 427ms/step - loss: 0.1117 - accuracy: 0.9582 - val_loss: 0.3040 - val_accuracy: 0.9224\n",
            "Epoch 38/100\n",
            "105/105 [==============================] - 45s 429ms/step - loss: 0.1017 - accuracy: 0.9612 - val_loss: 0.4546 - val_accuracy: 0.8616\n",
            "Epoch 39/100\n",
            "105/105 [==============================] - 46s 436ms/step - loss: 0.0985 - accuracy: 0.9633 - val_loss: 0.3899 - val_accuracy: 0.9033\n",
            "Epoch 40/100\n",
            "105/105 [==============================] - 45s 427ms/step - loss: 0.1569 - accuracy: 0.9606 - val_loss: 0.4456 - val_accuracy: 0.8687\n",
            "Epoch 41/100\n",
            "105/105 [==============================] - 45s 424ms/step - loss: 0.1112 - accuracy: 0.9585 - val_loss: 0.3921 - val_accuracy: 0.8735\n",
            "Epoch 42/100\n",
            "105/105 [==============================] - 48s 453ms/step - loss: 0.1251 - accuracy: 0.9624 - val_loss: 0.3789 - val_accuracy: 0.8831\n",
            "Epoch 43/100\n",
            "105/105 [==============================] - 44s 422ms/step - loss: 0.1108 - accuracy: 0.9615 - val_loss: 0.4706 - val_accuracy: 0.8795\n",
            "Epoch 44/100\n",
            "105/105 [==============================] - 45s 427ms/step - loss: 0.0885 - accuracy: 0.9648 - val_loss: 0.3642 - val_accuracy: 0.9141\n",
            "Epoch 45/100\n",
            "105/105 [==============================] - 45s 427ms/step - loss: 0.0908 - accuracy: 0.9672 - val_loss: 0.9768 - val_accuracy: 0.6575\n",
            "Epoch 46/100\n",
            "105/105 [==============================] - 44s 419ms/step - loss: 0.0922 - accuracy: 0.9636 - val_loss: 0.2780 - val_accuracy: 0.9260\n",
            "Epoch 47/100\n",
            "105/105 [==============================] - 48s 460ms/step - loss: 0.0926 - accuracy: 0.9663 - val_loss: 0.3526 - val_accuracy: 0.9165\n",
            "Epoch 48/100\n",
            "105/105 [==============================] - 45s 426ms/step - loss: 0.1036 - accuracy: 0.9585 - val_loss: 0.8767 - val_accuracy: 0.8449\n",
            "Epoch 49/100\n",
            "105/105 [==============================] - 45s 424ms/step - loss: 0.1129 - accuracy: 0.9618 - val_loss: 1.6317 - val_accuracy: 0.6587\n",
            "Epoch 50/100\n",
            "105/105 [==============================] - 45s 428ms/step - loss: 0.0754 - accuracy: 0.9752 - val_loss: 0.2981 - val_accuracy: 0.9200\n",
            "Epoch 51/100\n",
            "105/105 [==============================] - 44s 419ms/step - loss: 0.0625 - accuracy: 0.9791 - val_loss: 0.7085 - val_accuracy: 0.8496\n",
            "Epoch 52/100\n",
            "105/105 [==============================] - 48s 453ms/step - loss: 0.0619 - accuracy: 0.9776 - val_loss: 0.6298 - val_accuracy: 0.8174\n",
            "Epoch 53/100\n",
            "105/105 [==============================] - 45s 424ms/step - loss: 0.1318 - accuracy: 0.9696 - val_loss: 0.9844 - val_accuracy: 0.8484\n",
            "Epoch 54/100\n",
            "105/105 [==============================] - 45s 426ms/step - loss: 0.0641 - accuracy: 0.9746 - val_loss: 0.4177 - val_accuracy: 0.9021\n",
            "Epoch 55/100\n",
            "105/105 [==============================] - 45s 429ms/step - loss: 0.0890 - accuracy: 0.9669 - val_loss: 0.3828 - val_accuracy: 0.8950\n",
            "Epoch 56/100\n",
            "105/105 [==============================] - 45s 425ms/step - loss: 0.0991 - accuracy: 0.9654 - val_loss: 0.9584 - val_accuracy: 0.8449\n",
            "Epoch 57/100\n",
            "105/105 [==============================] - 46s 440ms/step - loss: 0.0840 - accuracy: 0.9704 - val_loss: 0.8414 - val_accuracy: 0.8210\n",
            "Epoch 58/100\n",
            "105/105 [==============================] - 46s 432ms/step - loss: 0.0888 - accuracy: 0.9684 - val_loss: 0.3893 - val_accuracy: 0.9045\n",
            "Epoch 59/100\n",
            "105/105 [==============================] - 45s 427ms/step - loss: 0.0674 - accuracy: 0.9731 - val_loss: 0.6312 - val_accuracy: 0.8162\n",
            "Epoch 60/100\n",
            "105/105 [==============================] - 47s 444ms/step - loss: 0.0710 - accuracy: 0.9746 - val_loss: 0.3387 - val_accuracy: 0.9272\n",
            "Epoch 61/100\n",
            "105/105 [==============================] - 44s 422ms/step - loss: 0.0716 - accuracy: 0.9746 - val_loss: 0.6318 - val_accuracy: 0.8711\n",
            "Epoch 62/100\n",
            "105/105 [==============================] - 47s 451ms/step - loss: 0.0630 - accuracy: 0.9776 - val_loss: 0.3764 - val_accuracy: 0.9129\n",
            "Epoch 63/100\n",
            "105/105 [==============================] - 45s 424ms/step - loss: 0.0533 - accuracy: 0.9809 - val_loss: 0.3723 - val_accuracy: 0.8950\n",
            "Epoch 64/100\n",
            "105/105 [==============================] - 44s 423ms/step - loss: 0.0609 - accuracy: 0.9776 - val_loss: 0.5085 - val_accuracy: 0.8902\n",
            "Epoch 65/100\n",
            "105/105 [==============================] - 46s 435ms/step - loss: 0.0912 - accuracy: 0.9713 - val_loss: 0.3782 - val_accuracy: 0.8950\n",
            "Epoch 66/100\n",
            "105/105 [==============================] - 45s 430ms/step - loss: 0.0743 - accuracy: 0.9746 - val_loss: 0.4023 - val_accuracy: 0.9010\n",
            "Epoch 67/100\n",
            "105/105 [==============================] - 47s 441ms/step - loss: 0.0561 - accuracy: 0.9803 - val_loss: 0.2637 - val_accuracy: 0.9368\n",
            "Epoch 68/100\n",
            "105/105 [==============================] - 46s 432ms/step - loss: 0.0525 - accuracy: 0.9830 - val_loss: 0.3895 - val_accuracy: 0.9093\n",
            "Epoch 69/100\n",
            "105/105 [==============================] - 45s 424ms/step - loss: 0.0609 - accuracy: 0.9815 - val_loss: 0.3797 - val_accuracy: 0.9033\n",
            "Epoch 70/100\n",
            "105/105 [==============================] - 45s 429ms/step - loss: 0.0639 - accuracy: 0.9779 - val_loss: 0.6153 - val_accuracy: 0.8079\n",
            "Epoch 71/100\n",
            "105/105 [==============================] - 46s 437ms/step - loss: 0.0527 - accuracy: 0.9806 - val_loss: 0.4086 - val_accuracy: 0.8974\n",
            "Epoch 72/100\n",
            "105/105 [==============================] - 47s 448ms/step - loss: 0.0554 - accuracy: 0.9827 - val_loss: 0.3346 - val_accuracy: 0.9165\n",
            "Epoch 73/100\n",
            "105/105 [==============================] - 46s 437ms/step - loss: 0.0773 - accuracy: 0.9725 - val_loss: 0.7551 - val_accuracy: 0.7697\n",
            "Epoch 74/100\n",
            "105/105 [==============================] - 45s 428ms/step - loss: 0.0563 - accuracy: 0.9788 - val_loss: 0.4220 - val_accuracy: 0.8950\n",
            "Epoch 75/100\n",
            "105/105 [==============================] - 45s 431ms/step - loss: 0.0576 - accuracy: 0.9818 - val_loss: 0.2804 - val_accuracy: 0.9284\n",
            "Epoch 76/100\n",
            "105/105 [==============================] - 47s 447ms/step - loss: 0.0471 - accuracy: 0.9809 - val_loss: 0.2910 - val_accuracy: 0.9332\n",
            "Epoch 77/100\n",
            "105/105 [==============================] - 51s 482ms/step - loss: 0.0487 - accuracy: 0.9809 - val_loss: 0.6782 - val_accuracy: 0.8484\n",
            "Epoch 78/100\n",
            "105/105 [==============================] - 45s 429ms/step - loss: 0.0480 - accuracy: 0.9830 - val_loss: 1.1998 - val_accuracy: 0.7100\n",
            "Epoch 79/100\n",
            "105/105 [==============================] - 47s 448ms/step - loss: 0.0457 - accuracy: 0.9842 - val_loss: 0.4013 - val_accuracy: 0.9021\n",
            "Epoch 80/100\n",
            "105/105 [==============================] - 45s 431ms/step - loss: 0.0524 - accuracy: 0.9830 - val_loss: 0.3458 - val_accuracy: 0.9212\n",
            "Epoch 81/100\n",
            "105/105 [==============================] - 45s 432ms/step - loss: 0.0540 - accuracy: 0.9836 - val_loss: 0.6212 - val_accuracy: 0.8759\n",
            "Epoch 82/100\n",
            "105/105 [==============================] - 46s 434ms/step - loss: 0.0337 - accuracy: 0.9884 - val_loss: 0.3588 - val_accuracy: 0.9248\n",
            "Epoch 83/100\n",
            "105/105 [==============================] - 46s 434ms/step - loss: 0.0454 - accuracy: 0.9863 - val_loss: 0.4031 - val_accuracy: 0.9069\n",
            "Epoch 84/100\n",
            "105/105 [==============================] - 45s 429ms/step - loss: 0.0435 - accuracy: 0.9830 - val_loss: 0.3658 - val_accuracy: 0.9129\n",
            "Epoch 85/100\n",
            "105/105 [==============================] - 46s 438ms/step - loss: 0.0580 - accuracy: 0.9785 - val_loss: 1.2070 - val_accuracy: 0.7709\n",
            "Epoch 86/100\n",
            "105/105 [==============================] - 48s 450ms/step - loss: 0.0541 - accuracy: 0.9797 - val_loss: 0.4038 - val_accuracy: 0.9129\n",
            "Epoch 87/100\n",
            "105/105 [==============================] - 45s 428ms/step - loss: 0.0492 - accuracy: 0.9830 - val_loss: 0.4054 - val_accuracy: 0.9212\n",
            "Epoch 88/100\n",
            "105/105 [==============================] - 46s 432ms/step - loss: 0.0657 - accuracy: 0.9806 - val_loss: 0.3665 - val_accuracy: 0.9212\n",
            "Epoch 89/100\n",
            "105/105 [==============================] - 45s 433ms/step - loss: 0.0529 - accuracy: 0.9845 - val_loss: 0.6087 - val_accuracy: 0.8950\n",
            "Epoch 90/100\n",
            "105/105 [==============================] - 46s 442ms/step - loss: 0.0379 - accuracy: 0.9878 - val_loss: 0.5198 - val_accuracy: 0.9129\n",
            "Epoch 91/100\n",
            "105/105 [==============================] - 47s 449ms/step - loss: 0.0382 - accuracy: 0.9860 - val_loss: 0.3954 - val_accuracy: 0.9236\n",
            "Epoch 92/100\n",
            "105/105 [==============================] - 46s 439ms/step - loss: 0.0415 - accuracy: 0.9851 - val_loss: 0.6789 - val_accuracy: 0.8783\n",
            "Epoch 93/100\n",
            "105/105 [==============================] - 46s 437ms/step - loss: 0.0528 - accuracy: 0.9830 - val_loss: 0.4173 - val_accuracy: 0.9129\n",
            "Epoch 94/100\n",
            "105/105 [==============================] - 45s 424ms/step - loss: 0.0670 - accuracy: 0.9803 - val_loss: 0.6319 - val_accuracy: 0.8341\n",
            "Epoch 95/100\n",
            "105/105 [==============================] - 47s 449ms/step - loss: 0.0824 - accuracy: 0.9725 - val_loss: 0.4036 - val_accuracy: 0.8902\n",
            "Epoch 96/100\n",
            "105/105 [==============================] - 47s 452ms/step - loss: 0.0411 - accuracy: 0.9839 - val_loss: 0.3521 - val_accuracy: 0.9177\n",
            "Epoch 97/100\n",
            "105/105 [==============================] - 46s 438ms/step - loss: 0.0575 - accuracy: 0.9839 - val_loss: 0.4689 - val_accuracy: 0.8771\n",
            "Epoch 98/100\n",
            "105/105 [==============================] - 46s 436ms/step - loss: 0.1838 - accuracy: 0.9719 - val_loss: 0.2738 - val_accuracy: 0.9284\n",
            "Epoch 99/100\n",
            "105/105 [==============================] - 45s 430ms/step - loss: 0.0498 - accuracy: 0.9857 - val_loss: 0.6319 - val_accuracy: 0.8699\n",
            "Epoch 100/100\n",
            "105/105 [==============================] - 45s 426ms/step - loss: 0.0420 - accuracy: 0.9869 - val_loss: 0.3101 - val_accuracy: 0.9236\n"
          ]
        }
      ]
    },
    {
      "cell_type": "code",
      "source": [
        "Y_pred = model_alexnet.predict(X_test)\n",
        "Y_pred_classes = np.argmax(Y_pred, axis=1)\n",
        "Y_true = np.argmax(Y_test, axis=1)\n",
        "\n",
        "conf_matrix = confusion_matrix(Y_true, Y_pred_classes)\n",
        "\n",
        "plt.figure(figsize=(8, 6))\n",
        "sns.heatmap(conf_matrix, annot=True, fmt=\"d\", cmap=\"Blues\", xticklabels=['Common_Rust', 'Healthy', 'Gray_Leaf_Spot', 'Blight'], yticklabels=['Common_Rust', 'Healthy', 'Gray_Leaf_Spot', 'Blight'])\n",
        "plt.xlabel('Predicted labels')\n",
        "plt.ylabel('True labels')\n",
        "plt.title('Confusion Matrix')\n",
        "plt.show()\n",
        "\n",
        "class_report = classification_report(Y_true, Y_pred_classes)\n",
        "\n",
        "print(\"\\nClassification Report:\")\n",
        "print(class_report)"
      ],
      "metadata": {
        "id": "W2svXyjyTjeo",
        "colab": {
          "base_uri": "https://localhost:8080/",
          "height": 807
        },
        "outputId": "bde87a46-f67e-4266-c452-5e3896980161"
      },
      "execution_count": 20,
      "outputs": [
        {
          "output_type": "stream",
          "name": "stdout",
          "text": [
            "27/27 [==============================] - 1s 34ms/step\n"
          ]
        },
        {
          "output_type": "display_data",
          "data": {
            "text/plain": [
              "<Figure size 800x600 with 2 Axes>"
            ],
            "image/png": "[encoded data removed]"
          },
          "metadata": {}
        },
        {
          "output_type": "stream",
          "name": "stdout",
          "text": [
            "\n",
            "Classification Report:\n",
            "              precision    recall  f1-score   support\n",
            "\n",
            "           0       0.86      0.92      0.89       218\n",
            "           1       0.99      0.94      0.96       289\n",
            "           2       0.77      0.75      0.76       104\n",
            "           3       0.98      0.99      0.99       227\n",
            "\n",
            "    accuracy                           0.92       838\n",
            "   macro avg       0.90      0.90      0.90       838\n",
            "weighted avg       0.93      0.92      0.92       838\n",
            "\n"
          ]
        }
      ]
    },
    {
      "cell_type": "code",
      "source": [
        "model = models.alexnet()\n",
        "\n",
        "input = torch.randn(1, 3, 227, 227)\n",
        "\n",
        "flops, params = profile(model, inputs=(input, ))\n",
        "print(f\"Estimasi FLOPS: {flops}\")"
      ],
      "metadata": {
        "colab": {
          "base_uri": "https://localhost:8080/"
        },
        "id": "QXQN3PxE7ZNa",
        "outputId": "41a24910-a493-4346-c468-64c06a6de9a0"
      },
      "execution_count": 21,
      "outputs": [
        {
          "output_type": "stream",
          "name": "stdout",
          "text": [
            "[INFO] Register count_convNd() for <class 'torch.nn.modules.conv.Conv2d'>.\n",
            "[INFO] Register zero_ops() for <class 'torch.nn.modules.activation.ReLU'>.\n",
            "[INFO] Register zero_ops() for <class 'torch.nn.modules.pooling.MaxPool2d'>.\n",
            "[INFO] Register zero_ops() for <class 'torch.nn.modules.container.Sequential'>.\n",
            "[INFO] Register count_adap_avgpool() for <class 'torch.nn.modules.pooling.AdaptiveAvgPool2d'>.\n",
            "[INFO] Register zero_ops() for <class 'torch.nn.modules.dropout.Dropout'>.\n",
            "[INFO] Register count_linear() for <class 'torch.nn.modules.linear.Linear'>.\n",
            "Estimasi FLOPS: 716785664.0\n"
          ]
        }
      ]
    }
  ]
}