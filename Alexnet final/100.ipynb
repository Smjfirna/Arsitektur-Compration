{
  "nbformat": 4,
  "nbformat_minor": 0,
  "metadata": {
    "colab": {
      "provenance": [],
      "gpuType": "T4",
      "include_colab_link": true
    },
    "kernelspec": {
      "name": "python3",
      "display_name": "Python 3"
    },
    "language_info": {
      "name": "python"
    },
    "accelerator": "GPU"
  },
  "cells": [
    {
      "cell_type": "markdown",
      "metadata": {
        "id": "view-in-github",
        "colab_type": "text"
      },
      "source": [
        "<a href=\"https://colab.research.google.com/github/Smjfirna/Arsitektur-Compration/blob/main/Alexnet%20final/100.ipynb\" target=\"_parent\"><img src=\"https://colab.research.google.com/assets/colab-badge.svg\" alt=\"Open In Colab\"/></a>"
      ]
    },
    {
      "cell_type": "code",
      "source": [
        "#Preprocessing\n",
        "import os\n",
        "import cv2\n",
        "import numpy as np\n",
        "from tqdm import tqdm\n",
        "from sklearn.model_selection import train_test_split\n",
        "from sklearn.preprocessing import LabelEncoder\n",
        "from keras.utils import to_categorical\n",
        "\n",
        "#Model dan Augmentasi\n",
        "import tensorflow as tf\n",
        "from tensorflow.keras.preprocessing.image import ImageDataGenerator\n",
        "from tensorflow.keras.models import Sequential\n",
        "from tensorflow.keras import layers, Model, regularizers\n",
        "from tensorflow.keras.callbacks import EarlyStopping\n",
        "from tensorflow.keras.layers import Conv2D, MaxPooling2D, Flatten, Dense, GlobalAveragePooling2D, Dropout,BatchNormalization\n",
        "import os\n",
        "from tensorflow.keras.optimizers import Adam\n",
        "from tensorflow.keras.optimizers import RMSprop\n",
        "\n",
        "# Evaluasi\n",
        "#import torch\n",
        "#import torchvision.models as models\n",
        "#from thop import profile\n",
        "from sklearn.metrics import confusion_matrix, classification_report\n",
        "\n",
        "#Visualisasi\n",
        "import matplotlib.pyplot as plt\n",
        "import seaborn as sns\n",
        "import os\n",
        "import cv2\n",
        "import numpy as np\n",
        "from tqdm import tqdm\n",
        "from sklearn.model_selection import train_test_split\n",
        "from sklearn.preprocessing import LabelEncoder\n",
        "from keras.utils import to_categorical"
      ],
      "metadata": {
        "id": "NMN3beIVALVJ"
      },
      "execution_count": 1,
      "outputs": []
    },
    {
      "cell_type": "code",
      "execution_count": 2,
      "metadata": {
        "colab": {
          "base_uri": "https://localhost:8080/",
          "height": 90
        },
        "id": "GK3MPeDN_Ofu",
        "outputId": "de984c0b-783b-4815-b46d-6e67fcae82af"
      },
      "outputs": [
        {
          "output_type": "display_data",
          "data": {
            "text/plain": [
              "<IPython.core.display.HTML object>"
            ],
            "text/html": [
              "\n",
              "     <input type=\"file\" id=\"files-0ae19462-32bf-455c-a12d-396bf8112191\" name=\"files[]\" multiple disabled\n",
              "        style=\"border:none\" />\n",
              "     <output id=\"result-0ae19462-32bf-455c-a12d-396bf8112191\">\n",
              "      Upload widget is only available when the cell has been executed in the\n",
              "      current browser session. Please rerun this cell to enable.\n",
              "      </output>\n",
              "      <script>// Copyright 2017 Google LLC\n",
              "//\n",
              "// Licensed under the Apache License, Version 2.0 (the \"License\");\n",
              "// you may not use this file except in compliance with the License.\n",
              "// You may obtain a copy of the License at\n",
              "//\n",
              "//      http://www.apache.org/licenses/LICENSE-2.0\n",
              "//\n",
              "// Unless required by applicable law or agreed to in writing, software\n",
              "// distributed under the License is distributed on an \"AS IS\" BASIS,\n",
              "// WITHOUT WARRANTIES OR CONDITIONS OF ANY KIND, either express or implied.\n",
              "// See the License for the specific language governing permissions and\n",
              "// limitations under the License.\n",
              "\n",
              "/**\n",
              " * @fileoverview Helpers for google.colab Python module.\n",
              " */\n",
              "(function(scope) {\n",
              "function span(text, styleAttributes = {}) {\n",
              "  const element = document.createElement('span');\n",
              "  element.textContent = text;\n",
              "  for (const key of Object.keys(styleAttributes)) {\n",
              "    element.style[key] = styleAttributes[key];\n",
              "  }\n",
              "  return element;\n",
              "}\n",
              "\n",
              "// Max number of bytes which will be uploaded at a time.\n",
              "const MAX_PAYLOAD_SIZE = 100 * 1024;\n",
              "\n",
              "function _uploadFiles(inputId, outputId) {\n",
              "  const steps = uploadFilesStep(inputId, outputId);\n",
              "  const outputElement = document.getElementById(outputId);\n",
              "  // Cache steps on the outputElement to make it available for the next call\n",
              "  // to uploadFilesContinue from Python.\n",
              "  outputElement.steps = steps;\n",
              "\n",
              "  return _uploadFilesContinue(outputId);\n",
              "}\n",
              "\n",
              "// This is roughly an async generator (not supported in the browser yet),\n",
              "// where there are multiple asynchronous steps and the Python side is going\n",
              "// to poll for completion of each step.\n",
              "// This uses a Promise to block the python side on completion of each step,\n",
              "// then passes the result of the previous step as the input to the next step.\n",
              "function _uploadFilesContinue(outputId) {\n",
              "  const outputElement = document.getElementById(outputId);\n",
              "  const steps = outputElement.steps;\n",
              "\n",
              "  const next = steps.next(outputElement.lastPromiseValue);\n",
              "  return Promise.resolve(next.value.promise).then((value) => {\n",
              "    // Cache the last promise value to make it available to the next\n",
              "    // step of the generator.\n",
              "    outputElement.lastPromiseValue = value;\n",
              "    return next.value.response;\n",
              "  });\n",
              "}\n",
              "\n",
              "/**\n",
              " * Generator function which is called between each async step of the upload\n",
              " * process.\n",
              " * @param {string} inputId Element ID of the input file picker element.\n",
              " * @param {string} outputId Element ID of the output display.\n",
              " * @return {!Iterable<!Object>} Iterable of next steps.\n",
              " */\n",
              "function* uploadFilesStep(inputId, outputId) {\n",
              "  const inputElement = document.getElementById(inputId);\n",
              "  inputElement.disabled = false;\n",
              "\n",
              "  const outputElement = document.getElementById(outputId);\n",
              "  outputElement.innerHTML = '';\n",
              "\n",
              "  const pickedPromise = new Promise((resolve) => {\n",
              "    inputElement.addEventListener('change', (e) => {\n",
              "      resolve(e.target.files);\n",
              "    });\n",
              "  });\n",
              "\n",
              "  const cancel = document.createElement('button');\n",
              "  inputElement.parentElement.appendChild(cancel);\n",
              "  cancel.textContent = 'Cancel upload';\n",
              "  const cancelPromise = new Promise((resolve) => {\n",
              "    cancel.onclick = () => {\n",
              "      resolve(null);\n",
              "    };\n",
              "  });\n",
              "\n",
              "  // Wait for the user to pick the files.\n",
              "  const files = yield {\n",
              "    promise: Promise.race([pickedPromise, cancelPromise]),\n",
              "    response: {\n",
              "      action: 'starting',\n",
              "    }\n",
              "  };\n",
              "\n",
              "  cancel.remove();\n",
              "\n",
              "  // Disable the input element since further picks are not allowed.\n",
              "  inputElement.disabled = true;\n",
              "\n",
              "  if (!files) {\n",
              "    return {\n",
              "      response: {\n",
              "        action: 'complete',\n",
              "      }\n",
              "    };\n",
              "  }\n",
              "\n",
              "  for (const file of files) {\n",
              "    const li = document.createElement('li');\n",
              "    li.append(span(file.name, {fontWeight: 'bold'}));\n",
              "    li.append(span(\n",
              "        `(${file.type || 'n/a'}) - ${file.size} bytes, ` +\n",
              "        `last modified: ${\n",
              "            file.lastModifiedDate ? file.lastModifiedDate.toLocaleDateString() :\n",
              "                                    'n/a'} - `));\n",
              "    const percent = span('0% done');\n",
              "    li.appendChild(percent);\n",
              "\n",
              "    outputElement.appendChild(li);\n",
              "\n",
              "    const fileDataPromise = new Promise((resolve) => {\n",
              "      const reader = new FileReader();\n",
              "      reader.onload = (e) => {\n",
              "        resolve(e.target.result);\n",
              "      };\n",
              "      reader.readAsArrayBuffer(file);\n",
              "    });\n",
              "    // Wait for the data to be ready.\n",
              "    let fileData = yield {\n",
              "      promise: fileDataPromise,\n",
              "      response: {\n",
              "        action: 'continue',\n",
              "      }\n",
              "    };\n",
              "\n",
              "    // Use a chunked sending to avoid message size limits. See b/62115660.\n",
              "    let position = 0;\n",
              "    do {\n",
              "      const length = Math.min(fileData.byteLength - position, MAX_PAYLOAD_SIZE);\n",
              "      const chunk = new Uint8Array(fileData, position, length);\n",
              "      position += length;\n",
              "\n",
              "      const base64 = btoa(String.fromCharCode.apply(null, chunk));\n",
              "      yield {\n",
              "        response: {\n",
              "          action: 'append',\n",
              "          file: file.name,\n",
              "          data: base64,\n",
              "        },\n",
              "      };\n",
              "\n",
              "      let percentDone = fileData.byteLength === 0 ?\n",
              "          100 :\n",
              "          Math.round((position / fileData.byteLength) * 100);\n",
              "      percent.textContent = `${percentDone}% done`;\n",
              "\n",
              "    } while (position < fileData.byteLength);\n",
              "  }\n",
              "\n",
              "  // All done.\n",
              "  yield {\n",
              "    response: {\n",
              "      action: 'complete',\n",
              "    }\n",
              "  };\n",
              "}\n",
              "\n",
              "scope.google = scope.google || {};\n",
              "scope.google.colab = scope.google.colab || {};\n",
              "scope.google.colab._files = {\n",
              "  _uploadFiles,\n",
              "  _uploadFilesContinue,\n",
              "};\n",
              "})(self);\n",
              "</script> "
            ]
          },
          "metadata": {}
        },
        {
          "output_type": "stream",
          "name": "stdout",
          "text": [
            "Saving kaggle.json to kaggle.json\n"
          ]
        },
        {
          "output_type": "execute_result",
          "data": {
            "text/plain": [
              "{'kaggle.json': b'{\"username\":\"smjayyy\",\"key\":\"07729aa6a210c0f9baaeed1cf96a6a3b\"}'}"
            ]
          },
          "metadata": {},
          "execution_count": 2
        }
      ],
      "source": [
        "from google.colab import files\n",
        "files.upload()"
      ]
    },
    {
      "cell_type": "code",
      "source": [
        "!mkdir -p ~/.kaggle\n",
        "!cp kaggle.json ~/.kaggle/\n",
        "!chmod 600 ~/.kaggle/kaggle.json"
      ],
      "metadata": {
        "id": "Y9Kia11G_5Si"
      },
      "execution_count": 3,
      "outputs": []
    },
    {
      "cell_type": "code",
      "source": [
        "##link dataset in Kaggle.com\n",
        "!kaggle datasets download -d smaranjitghose/corn-or-maize-leaf-disease-dataset"
      ],
      "metadata": {
        "colab": {
          "base_uri": "https://localhost:8080/"
        },
        "id": "apfKVlxj_8FJ",
        "outputId": "e322e622-0855-4461-9287-83a43992de0d"
      },
      "execution_count": 4,
      "outputs": [
        {
          "output_type": "stream",
          "name": "stdout",
          "text": [
            "Dataset URL: https://www.kaggle.com/datasets/smaranjitghose/corn-or-maize-leaf-disease-dataset\n",
            "License(s): copyright-authors\n",
            "Downloading corn-or-maize-leaf-disease-dataset.zip to /content\n",
            " 98% 158M/161M [00:08<00:00, 23.3MB/s]\n",
            "100% 161M/161M [00:08<00:00, 20.5MB/s]\n"
          ]
        }
      ]
    },
    {
      "cell_type": "code",
      "source": [
        "!unzip -q corn-or-maize-leaf-disease-dataset.zip -d /content"
      ],
      "metadata": {
        "id": "ixMUoB2rAAd3"
      },
      "execution_count": 5,
      "outputs": []
    },
    {
      "cell_type": "code",
      "source": [
        "dataset_dir = '/content/data'"
      ],
      "metadata": {
        "id": "pZ8IerIQAGFO"
      },
      "execution_count": 6,
      "outputs": []
    },
    {
      "cell_type": "code",
      "source": [
        "print(os.listdir(dataset_dir))"
      ],
      "metadata": {
        "colab": {
          "base_uri": "https://localhost:8080/"
        },
        "id": "9wwka8QaAIcj",
        "outputId": "4cfedf63-26e2-4f11-fde3-cb252e4f7de7"
      },
      "execution_count": 7,
      "outputs": [
        {
          "output_type": "stream",
          "name": "stdout",
          "text": [
            "['Blight', 'Healthy', 'Common_Rust', 'Gray_Leaf_Spot']\n"
          ]
        }
      ]
    },
    {
      "cell_type": "code",
      "source": [
        "IMAGE_SIZE_alexnet = 227"
      ],
      "metadata": {
        "id": "_UCEuA-hAPSa"
      },
      "execution_count": 8,
      "outputs": []
    },
    {
      "cell_type": "code",
      "source": [
        "def make_data(label, DIR, img_list, label_list):\n",
        "    for img in tqdm(os.listdir(DIR)):\n",
        "        path = os.path.join(DIR, img)\n",
        "        img = cv2.imread(path, cv2.IMREAD_COLOR)\n",
        "        img = cv2.resize(img, (IMAGE_SIZE_alexnet, IMAGE_SIZE_alexnet))\n",
        "        img_list.append(np.array(img))\n",
        "        label_list.append(str(label))"
      ],
      "metadata": {
        "id": "B3menIgvARk5"
      },
      "execution_count": 9,
      "outputs": []
    },
    {
      "cell_type": "code",
      "source": [
        "X = []\n",
        "Z = []"
      ],
      "metadata": {
        "id": "Jn6gWefxATyU"
      },
      "execution_count": 10,
      "outputs": []
    },
    {
      "cell_type": "code",
      "source": [
        "for i, class_name in enumerate(['Common_Rust', 'Healthy', 'Gray_Leaf_Spot', 'Blight']):\n",
        "    class_dir = os.path.join(dataset_dir, class_name)\n",
        "    make_data(class_name, class_dir, X, Z)"
      ],
      "metadata": {
        "colab": {
          "base_uri": "https://localhost:8080/"
        },
        "id": "S9-RQTGJAWCk",
        "outputId": "115b61e0-b253-4e06-c070-dfb686647059"
      },
      "execution_count": 11,
      "outputs": [
        {
          "output_type": "stream",
          "name": "stderr",
          "text": [
            "100%|██████████| 1306/1306 [00:05<00:00, 248.48it/s]\n",
            "100%|██████████| 1162/1162 [00:01<00:00, 933.44it/s]\n",
            "100%|██████████| 574/574 [00:01<00:00, 372.11it/s]\n",
            "100%|██████████| 1146/1146 [00:04<00:00, 250.48it/s]\n"
          ]
        }
      ]
    },
    {
      "cell_type": "code",
      "source": [
        "import matplotlib.pyplot as plt\n",
        "\n",
        "# Menghitung jumlah data untuk setiap kelas\n",
        "class_counts = {class_name: Z.count(class_name) for class_name in set(Z)}\n",
        "\n",
        "# Menampilkan visualisasi jumlah data\n",
        "plt.figure(figsize=(8, 6))\n",
        "plt.bar(class_counts.keys(), class_counts.values())\n",
        "plt.xlabel('Class')\n",
        "plt.ylabel('Count')\n",
        "plt.title('Number of Data Samples for Each Class')\n",
        "plt.show()"
      ],
      "metadata": {
        "colab": {
          "base_uri": "https://localhost:8080/",
          "height": 564
        },
        "id": "-IcXHIM8Akcw",
        "outputId": "ff694538-db18-4452-b3dc-07123c6f4e95"
      },
      "execution_count": 12,
      "outputs": [
        {
          "output_type": "display_data",
          "data": {
            "text/plain": [
              "<Figure size 800x600 with 1 Axes>"
            ],
            "image/png": "[encoded data removed]"
          },
          "metadata": {}
        }
      ]
    },
    {
      "cell_type": "code",
      "source": [
        "le = LabelEncoder()\n",
        "Y = le.fit_transform(Z)\n",
        "Y = to_categorical(Y, num_classes=len(le.classes_))\n",
        "\n",
        "# Konversi ke array numpy\n",
        "X = np.array(X)\n",
        "\n",
        "# Memisahkan data menjadi data latih dan data uji\n",
        "X_train, X_test, Y_train, Y_test = train_test_split(X, Y, test_size=0.2, random_state=42)\n",
        "\n",
        "print(\"Jumlah Data Train adalah :\", len(X_train))\n",
        "print(\"Jumlah Data Test adalah :\", len(X_test))"
      ],
      "metadata": {
        "colab": {
          "base_uri": "https://localhost:8080/"
        },
        "id": "OI7kvVbXAqko",
        "outputId": "88d87acf-7e56-4bb2-d36a-2c1bcdc08a27"
      },
      "execution_count": 13,
      "outputs": [
        {
          "output_type": "stream",
          "name": "stdout",
          "text": [
            "Jumlah Data Train adalah : 3350\n",
            "Jumlah Data Test adalah : 838\n"
          ]
        }
      ]
    },
    {
      "cell_type": "code",
      "source": [
        "datagen = ImageDataGenerator(\n",
        "    rotation_range=20,\n",
        "    zoom_range=0.2,\n",
        "    horizontal_flip=True,\n",
        "    vertical_flip=True\n",
        ")\n",
        "\n",
        "datagen.fit(X_train)"
      ],
      "metadata": {
        "id": "ue5XLCIlA2ld"
      },
      "execution_count": 14,
      "outputs": []
    },
    {
      "cell_type": "code",
      "source": [
        "model_alexnet = tf.keras.models.Sequential([\n",
        "        # 1st conv\n",
        "        Conv2D(96, (11,11), strides=(4,4), activation='relu', input_shape=(IMAGE_SIZE_alexnet, IMAGE_SIZE_alexnet, 3)),\n",
        "        BatchNormalization(),\n",
        "        MaxPooling2D(2, strides=(2,2)),\n",
        "        # 2nd conv\n",
        "        Conv2D(256, (11,11), strides=(1,1), activation='relu', padding=\"same\"),\n",
        "        BatchNormalization(),\n",
        "        # 3rd conv\n",
        "        Conv2D(384, (3,3), strides=(1,1), activation='relu', padding=\"same\"),\n",
        "        BatchNormalization(),\n",
        "        # 4th conv\n",
        "        Conv2D(384, (3,3), strides=(1,1), activation='relu', padding=\"same\"),\n",
        "        BatchNormalization(),\n",
        "        # 5th Conv\n",
        "        Conv2D(256, (3, 3), strides=(1, 1), activation='relu', padding=\"same\"),\n",
        "        BatchNormalization(),\n",
        "        MaxPooling2D(2, strides=(2, 2)),\n",
        "        Flatten(),\n",
        "        Dense(4096, activation='relu'),\n",
        "        Dense(4096, activation='relu'),\n",
        "        Dense(4, activation='softmax')\n",
        "    ])\n",
        "\n",
        "model_alexnet.compile(optimizer=Adam(learning_rate=1e-4), loss='categorical_crossentropy', metrics=['accuracy'])\n",
        "\n",
        "model_alexnet.summary()\n",
        "\n",
        "history_alexnet = model_alexnet.fit(datagen.flow(X_train, Y_train), epochs=100, validation_data=(X_test, Y_test))"
      ],
      "metadata": {
        "id": "qg6h8yY_A62R",
        "colab": {
          "base_uri": "https://localhost:8080/"
        },
        "outputId": "66507754-90a7-41aa-ea69-1cc12b369bdb"
      },
      "execution_count": 15,
      "outputs": [
        {
          "output_type": "stream",
          "name": "stdout",
          "text": [
            "Model: \"sequential\"\n",
            "_________________________________________________________________\n",
            " Layer (type)                Output Shape              Param #   \n",
            "=================================================================\n",
            " conv2d (Conv2D)             (None, 55, 55, 96)        34944     \n",
            "                                                                 \n",
            " batch_normalization (Batch  (None, 55, 55, 96)        384       \n",
            " Normalization)                                                  \n",
            "                                                                 \n",
            " max_pooling2d (MaxPooling2  (None, 27, 27, 96)        0         \n",
            " D)                                                              \n",
            "                                                                 \n",
            " conv2d_1 (Conv2D)           (None, 27, 27, 256)       2973952   \n",
            "                                                                 \n",
            " batch_normalization_1 (Bat  (None, 27, 27, 256)       1024      \n",
            " chNormalization)                                                \n",
            "                                                                 \n",
            " conv2d_2 (Conv2D)           (None, 27, 27, 384)       885120    \n",
            "                                                                 \n",
            " batch_normalization_2 (Bat  (None, 27, 27, 384)       1536      \n",
            " chNormalization)                                                \n",
            "                                                                 \n",
            " conv2d_3 (Conv2D)           (None, 27, 27, 384)       1327488   \n",
            "                                                                 \n",
            " batch_normalization_3 (Bat  (None, 27, 27, 384)       1536      \n",
            " chNormalization)                                                \n",
            "                                                                 \n",
            " conv2d_4 (Conv2D)           (None, 27, 27, 256)       884992    \n",
            "                                                                 \n",
            " batch_normalization_4 (Bat  (None, 27, 27, 256)       1024      \n",
            " chNormalization)                                                \n",
            "                                                                 \n",
            " max_pooling2d_1 (MaxPoolin  (None, 13, 13, 256)       0         \n",
            " g2D)                                                            \n",
            "                                                                 \n",
            " flatten (Flatten)           (None, 43264)             0         \n",
            "                                                                 \n",
            " dense (Dense)               (None, 4096)              177213440 \n",
            "                                                                 \n",
            " dense_1 (Dense)             (None, 4096)              16781312  \n",
            "                                                                 \n",
            " dense_2 (Dense)             (None, 4)                 16388     \n",
            "                                                                 \n",
            "=================================================================\n",
            "Total params: 200123140 (763.41 MB)\n",
            "Trainable params: 200120388 (763.40 MB)\n",
            "Non-trainable params: 2752 (10.75 KB)\n",
            "_________________________________________________________________\n",
            "Epoch 1/100\n",
            "105/105 [==============================] - 61s 458ms/step - loss: 1.3497 - accuracy: 0.7472 - val_loss: 22.9792 - val_accuracy: 0.3580\n",
            "Epoch 2/100\n",
            "105/105 [==============================] - 45s 429ms/step - loss: 0.4386 - accuracy: 0.8230 - val_loss: 3.8680 - val_accuracy: 0.5048\n",
            "Epoch 3/100\n",
            "105/105 [==============================] - 44s 414ms/step - loss: 0.4519 - accuracy: 0.8442 - val_loss: 0.6837 - val_accuracy: 0.8103\n",
            "Epoch 4/100\n",
            "105/105 [==============================] - 45s 424ms/step - loss: 0.4160 - accuracy: 0.8469 - val_loss: 0.6130 - val_accuracy: 0.7303\n",
            "Epoch 5/100\n",
            "105/105 [==============================] - 44s 414ms/step - loss: 0.3552 - accuracy: 0.8654 - val_loss: 3.7134 - val_accuracy: 0.6038\n",
            "Epoch 6/100\n",
            "105/105 [==============================] - 44s 419ms/step - loss: 0.3809 - accuracy: 0.8740 - val_loss: 0.8226 - val_accuracy: 0.6062\n",
            "Epoch 7/100\n",
            "105/105 [==============================] - 44s 416ms/step - loss: 0.3167 - accuracy: 0.8776 - val_loss: 0.3718 - val_accuracy: 0.8628\n",
            "Epoch 8/100\n",
            "105/105 [==============================] - 44s 415ms/step - loss: 0.3046 - accuracy: 0.8872 - val_loss: 0.4472 - val_accuracy: 0.8067\n",
            "Epoch 9/100\n",
            "105/105 [==============================] - 43s 411ms/step - loss: 0.2782 - accuracy: 0.8979 - val_loss: 0.9512 - val_accuracy: 0.8282\n",
            "Epoch 10/100\n",
            "105/105 [==============================] - 43s 412ms/step - loss: 0.3055 - accuracy: 0.8922 - val_loss: 0.7387 - val_accuracy: 0.8079\n",
            "Epoch 11/100\n",
            "105/105 [==============================] - 43s 412ms/step - loss: 0.2531 - accuracy: 0.9003 - val_loss: 0.3382 - val_accuracy: 0.8640\n",
            "Epoch 12/100\n",
            "105/105 [==============================] - 44s 413ms/step - loss: 0.2518 - accuracy: 0.9093 - val_loss: 0.2608 - val_accuracy: 0.8962\n",
            "Epoch 13/100\n",
            "105/105 [==============================] - 43s 410ms/step - loss: 0.2968 - accuracy: 0.9107 - val_loss: 1.8869 - val_accuracy: 0.5525\n",
            "Epoch 14/100\n",
            "105/105 [==============================] - 44s 418ms/step - loss: 0.2288 - accuracy: 0.9164 - val_loss: 0.3973 - val_accuracy: 0.8759\n",
            "Epoch 15/100\n",
            "105/105 [==============================] - 43s 410ms/step - loss: 0.2222 - accuracy: 0.9173 - val_loss: 1.0753 - val_accuracy: 0.5752\n",
            "Epoch 16/100\n",
            "105/105 [==============================] - 43s 412ms/step - loss: 0.2192 - accuracy: 0.9158 - val_loss: 0.8603 - val_accuracy: 0.8055\n",
            "Epoch 17/100\n",
            "105/105 [==============================] - 44s 422ms/step - loss: 0.2129 - accuracy: 0.9179 - val_loss: 3.5097 - val_accuracy: 0.5668\n",
            "Epoch 18/100\n",
            "105/105 [==============================] - 44s 418ms/step - loss: 0.2024 - accuracy: 0.9236 - val_loss: 0.4935 - val_accuracy: 0.8437\n",
            "Epoch 19/100\n",
            "105/105 [==============================] - 43s 409ms/step - loss: 0.1854 - accuracy: 0.9287 - val_loss: 0.8102 - val_accuracy: 0.7446\n",
            "Epoch 20/100\n",
            "105/105 [==============================] - 45s 427ms/step - loss: 0.2050 - accuracy: 0.9269 - val_loss: 0.4828 - val_accuracy: 0.8616\n",
            "Epoch 21/100\n",
            "105/105 [==============================] - 44s 416ms/step - loss: 0.1745 - accuracy: 0.9334 - val_loss: 0.5388 - val_accuracy: 0.8294\n",
            "Epoch 22/100\n",
            "105/105 [==============================] - 45s 424ms/step - loss: 0.1886 - accuracy: 0.9328 - val_loss: 0.3689 - val_accuracy: 0.8592\n",
            "Epoch 23/100\n",
            "105/105 [==============================] - 43s 410ms/step - loss: 0.2358 - accuracy: 0.9343 - val_loss: 0.3622 - val_accuracy: 0.8687\n",
            "Epoch 24/100\n",
            "105/105 [==============================] - 44s 415ms/step - loss: 0.1479 - accuracy: 0.9436 - val_loss: 0.5362 - val_accuracy: 0.8508\n",
            "Epoch 25/100\n",
            "105/105 [==============================] - 44s 416ms/step - loss: 0.1588 - accuracy: 0.9364 - val_loss: 0.5305 - val_accuracy: 0.8353\n",
            "Epoch 26/100\n",
            "105/105 [==============================] - 44s 417ms/step - loss: 0.1405 - accuracy: 0.9469 - val_loss: 3.0625 - val_accuracy: 0.5704\n",
            "Epoch 27/100\n",
            "105/105 [==============================] - 43s 413ms/step - loss: 0.1462 - accuracy: 0.9501 - val_loss: 0.5318 - val_accuracy: 0.8532\n",
            "Epoch 28/100\n",
            "105/105 [==============================] - 44s 416ms/step - loss: 0.1453 - accuracy: 0.9490 - val_loss: 0.4621 - val_accuracy: 0.8711\n",
            "Epoch 29/100\n",
            "105/105 [==============================] - 44s 423ms/step - loss: 0.1616 - accuracy: 0.9466 - val_loss: 0.8600 - val_accuracy: 0.7983\n",
            "Epoch 30/100\n",
            "105/105 [==============================] - 43s 413ms/step - loss: 0.1258 - accuracy: 0.9513 - val_loss: 0.7167 - val_accuracy: 0.8138\n",
            "Epoch 31/100\n",
            "105/105 [==============================] - 44s 423ms/step - loss: 0.1367 - accuracy: 0.9534 - val_loss: 0.7296 - val_accuracy: 0.8091\n",
            "Epoch 32/100\n",
            "105/105 [==============================] - 43s 414ms/step - loss: 0.1255 - accuracy: 0.9525 - val_loss: 0.7169 - val_accuracy: 0.8115\n",
            "Epoch 33/100\n",
            "105/105 [==============================] - 45s 425ms/step - loss: 0.1227 - accuracy: 0.9585 - val_loss: 0.3739 - val_accuracy: 0.8890\n",
            "Epoch 34/100\n",
            "105/105 [==============================] - 43s 413ms/step - loss: 0.1477 - accuracy: 0.9501 - val_loss: 0.2568 - val_accuracy: 0.9236\n",
            "Epoch 35/100\n",
            "105/105 [==============================] - 43s 412ms/step - loss: 0.1868 - accuracy: 0.9564 - val_loss: 1.1082 - val_accuracy: 0.8019\n",
            "Epoch 36/100\n",
            "105/105 [==============================] - 46s 434ms/step - loss: 0.1700 - accuracy: 0.9525 - val_loss: 0.3054 - val_accuracy: 0.9069\n",
            "Epoch 37/100\n",
            "105/105 [==============================] - 44s 418ms/step - loss: 0.1256 - accuracy: 0.9522 - val_loss: 0.2549 - val_accuracy: 0.9069\n",
            "Epoch 38/100\n",
            "105/105 [==============================] - 44s 414ms/step - loss: 0.1116 - accuracy: 0.9612 - val_loss: 0.3247 - val_accuracy: 0.9069\n",
            "Epoch 39/100\n",
            "105/105 [==============================] - 44s 418ms/step - loss: 0.1175 - accuracy: 0.9591 - val_loss: 0.3052 - val_accuracy: 0.9081\n",
            "Epoch 40/100\n",
            "105/105 [==============================] - 44s 414ms/step - loss: 0.0942 - accuracy: 0.9651 - val_loss: 0.3480 - val_accuracy: 0.8890\n",
            "Epoch 41/100\n",
            "105/105 [==============================] - 44s 413ms/step - loss: 0.1121 - accuracy: 0.9657 - val_loss: 0.4951 - val_accuracy: 0.8759\n",
            "Epoch 42/100\n",
            "105/105 [==============================] - 44s 414ms/step - loss: 0.1085 - accuracy: 0.9606 - val_loss: 0.6416 - val_accuracy: 0.8568\n",
            "Epoch 43/100\n",
            "105/105 [==============================] - 43s 411ms/step - loss: 0.0984 - accuracy: 0.9693 - val_loss: 0.4278 - val_accuracy: 0.8974\n",
            "Epoch 44/100\n",
            "105/105 [==============================] - 43s 409ms/step - loss: 0.0726 - accuracy: 0.9737 - val_loss: 0.6778 - val_accuracy: 0.8115\n",
            "Epoch 45/100\n",
            "105/105 [==============================] - 44s 421ms/step - loss: 0.0846 - accuracy: 0.9690 - val_loss: 0.4251 - val_accuracy: 0.8998\n",
            "Epoch 46/100\n",
            "105/105 [==============================] - 43s 408ms/step - loss: 0.1059 - accuracy: 0.9633 - val_loss: 0.4789 - val_accuracy: 0.8735\n",
            "Epoch 47/100\n",
            "105/105 [==============================] - 44s 415ms/step - loss: 0.0780 - accuracy: 0.9719 - val_loss: 0.3304 - val_accuracy: 0.9021\n",
            "Epoch 48/100\n",
            "105/105 [==============================] - 43s 412ms/step - loss: 0.1104 - accuracy: 0.9660 - val_loss: 0.3237 - val_accuracy: 0.9129\n",
            "Epoch 49/100\n",
            "105/105 [==============================] - 44s 415ms/step - loss: 0.0970 - accuracy: 0.9663 - val_loss: 0.4982 - val_accuracy: 0.8902\n",
            "Epoch 50/100\n",
            "105/105 [==============================] - 44s 417ms/step - loss: 0.0683 - accuracy: 0.9728 - val_loss: 0.4050 - val_accuracy: 0.9141\n",
            "Epoch 51/100\n",
            "105/105 [==============================] - 44s 414ms/step - loss: 0.0815 - accuracy: 0.9728 - val_loss: 1.6744 - val_accuracy: 0.6313\n",
            "Epoch 52/100\n",
            "105/105 [==============================] - 43s 413ms/step - loss: 0.0920 - accuracy: 0.9722 - val_loss: 0.2739 - val_accuracy: 0.9153\n",
            "Epoch 53/100\n",
            "105/105 [==============================] - 43s 414ms/step - loss: 0.0681 - accuracy: 0.9755 - val_loss: 0.3261 - val_accuracy: 0.9081\n",
            "Epoch 54/100\n",
            "105/105 [==============================] - 43s 413ms/step - loss: 0.0638 - accuracy: 0.9755 - val_loss: 0.7293 - val_accuracy: 0.8174\n",
            "Epoch 55/100\n",
            "105/105 [==============================] - 43s 411ms/step - loss: 0.0807 - accuracy: 0.9716 - val_loss: 0.5675 - val_accuracy: 0.8842\n",
            "Epoch 56/100\n",
            "105/105 [==============================] - 45s 424ms/step - loss: 0.0863 - accuracy: 0.9770 - val_loss: 0.4049 - val_accuracy: 0.9033\n",
            "Epoch 57/100\n",
            "105/105 [==============================] - 43s 413ms/step - loss: 0.0682 - accuracy: 0.9806 - val_loss: 0.4738 - val_accuracy: 0.8866\n",
            "Epoch 58/100\n",
            "105/105 [==============================] - 45s 422ms/step - loss: 0.1018 - accuracy: 0.9657 - val_loss: 1.2728 - val_accuracy: 0.6993\n",
            "Epoch 59/100\n",
            "105/105 [==============================] - 43s 409ms/step - loss: 0.0899 - accuracy: 0.9675 - val_loss: 0.8803 - val_accuracy: 0.7649\n",
            "Epoch 60/100\n",
            "105/105 [==============================] - 43s 414ms/step - loss: 0.0733 - accuracy: 0.9713 - val_loss: 2.0477 - val_accuracy: 0.6384\n",
            "Epoch 61/100\n",
            "105/105 [==============================] - 43s 412ms/step - loss: 0.0805 - accuracy: 0.9770 - val_loss: 0.6230 - val_accuracy: 0.8508\n",
            "Epoch 62/100\n",
            "105/105 [==============================] - 43s 412ms/step - loss: 0.0551 - accuracy: 0.9821 - val_loss: 0.3808 - val_accuracy: 0.9189\n",
            "Epoch 63/100\n",
            "105/105 [==============================] - 44s 422ms/step - loss: 0.0608 - accuracy: 0.9773 - val_loss: 0.8219 - val_accuracy: 0.8198\n",
            "Epoch 64/100\n",
            "105/105 [==============================] - 43s 410ms/step - loss: 0.1913 - accuracy: 0.9487 - val_loss: 0.4234 - val_accuracy: 0.9057\n",
            "Epoch 65/100\n",
            "105/105 [==============================] - 44s 415ms/step - loss: 0.0776 - accuracy: 0.9725 - val_loss: 0.6252 - val_accuracy: 0.8317\n",
            "Epoch 66/100\n",
            "105/105 [==============================] - 43s 411ms/step - loss: 0.0758 - accuracy: 0.9719 - val_loss: 0.4568 - val_accuracy: 0.8854\n",
            "Epoch 67/100\n",
            "105/105 [==============================] - 43s 410ms/step - loss: 0.0704 - accuracy: 0.9782 - val_loss: 0.8325 - val_accuracy: 0.8461\n",
            "Epoch 68/100\n",
            "105/105 [==============================] - 43s 405ms/step - loss: 0.0565 - accuracy: 0.9803 - val_loss: 0.7199 - val_accuracy: 0.8508\n",
            "Epoch 69/100\n",
            "105/105 [==============================] - 45s 424ms/step - loss: 0.0478 - accuracy: 0.9842 - val_loss: 0.8553 - val_accuracy: 0.8508\n",
            "Epoch 70/100\n",
            "105/105 [==============================] - 43s 410ms/step - loss: 0.0365 - accuracy: 0.9872 - val_loss: 0.4229 - val_accuracy: 0.9200\n",
            "Epoch 71/100\n",
            "105/105 [==============================] - 44s 418ms/step - loss: 0.0434 - accuracy: 0.9839 - val_loss: 0.7743 - val_accuracy: 0.8329\n",
            "Epoch 72/100\n",
            "105/105 [==============================] - 43s 412ms/step - loss: 0.0565 - accuracy: 0.9812 - val_loss: 1.0139 - val_accuracy: 0.8437\n",
            "Epoch 73/100\n",
            "105/105 [==============================] - 44s 416ms/step - loss: 0.0563 - accuracy: 0.9824 - val_loss: 0.3356 - val_accuracy: 0.9284\n",
            "Epoch 74/100\n",
            "105/105 [==============================] - 43s 409ms/step - loss: 0.0542 - accuracy: 0.9818 - val_loss: 0.3661 - val_accuracy: 0.9129\n",
            "Epoch 75/100\n",
            "105/105 [==============================] - 44s 413ms/step - loss: 0.0523 - accuracy: 0.9785 - val_loss: 0.4906 - val_accuracy: 0.8962\n",
            "Epoch 76/100\n",
            "105/105 [==============================] - 43s 413ms/step - loss: 0.0438 - accuracy: 0.9854 - val_loss: 0.7435 - val_accuracy: 0.8616\n",
            "Epoch 77/100\n",
            "105/105 [==============================] - 43s 407ms/step - loss: 0.0570 - accuracy: 0.9791 - val_loss: 0.6328 - val_accuracy: 0.8604\n",
            "Epoch 78/100\n",
            "105/105 [==============================] - 44s 417ms/step - loss: 0.0567 - accuracy: 0.9788 - val_loss: 0.4670 - val_accuracy: 0.8890\n",
            "Epoch 79/100\n",
            "105/105 [==============================] - 43s 411ms/step - loss: 0.0651 - accuracy: 0.9746 - val_loss: 1.9740 - val_accuracy: 0.6122\n",
            "Epoch 80/100\n",
            "105/105 [==============================] - 46s 440ms/step - loss: 0.0377 - accuracy: 0.9860 - val_loss: 0.3202 - val_accuracy: 0.9344\n",
            "Epoch 81/100\n",
            "105/105 [==============================] - 43s 411ms/step - loss: 0.0579 - accuracy: 0.9797 - val_loss: 0.3585 - val_accuracy: 0.9153\n",
            "Epoch 82/100\n",
            "105/105 [==============================] - 43s 411ms/step - loss: 0.0594 - accuracy: 0.9794 - val_loss: 0.3860 - val_accuracy: 0.9033\n",
            "Epoch 83/100\n",
            "105/105 [==============================] - 43s 409ms/step - loss: 0.0517 - accuracy: 0.9824 - val_loss: 0.6727 - val_accuracy: 0.8699\n",
            "Epoch 84/100\n",
            "105/105 [==============================] - 44s 418ms/step - loss: 0.0529 - accuracy: 0.9809 - val_loss: 0.3756 - val_accuracy: 0.8986\n",
            "Epoch 85/100\n",
            "105/105 [==============================] - 43s 411ms/step - loss: 0.0358 - accuracy: 0.9869 - val_loss: 0.4955 - val_accuracy: 0.8962\n",
            "Epoch 86/100\n",
            "105/105 [==============================] - 44s 419ms/step - loss: 0.0294 - accuracy: 0.9899 - val_loss: 0.4203 - val_accuracy: 0.9141\n",
            "Epoch 87/100\n",
            "105/105 [==============================] - 44s 415ms/step - loss: 0.0392 - accuracy: 0.9866 - val_loss: 1.1112 - val_accuracy: 0.8126\n",
            "Epoch 88/100\n",
            "105/105 [==============================] - 44s 417ms/step - loss: 0.0399 - accuracy: 0.9845 - val_loss: 0.3927 - val_accuracy: 0.9189\n",
            "Epoch 89/100\n",
            "105/105 [==============================] - 44s 415ms/step - loss: 0.0395 - accuracy: 0.9887 - val_loss: 0.3414 - val_accuracy: 0.9260\n",
            "Epoch 90/100\n",
            "105/105 [==============================] - 43s 409ms/step - loss: 0.0449 - accuracy: 0.9815 - val_loss: 0.7336 - val_accuracy: 0.8580\n",
            "Epoch 91/100\n",
            "105/105 [==============================] - 44s 414ms/step - loss: 0.0283 - accuracy: 0.9916 - val_loss: 0.4056 - val_accuracy: 0.9189\n",
            "Epoch 92/100\n",
            "105/105 [==============================] - 43s 412ms/step - loss: 0.0322 - accuracy: 0.9904 - val_loss: 0.8222 - val_accuracy: 0.7983\n",
            "Epoch 93/100\n",
            "105/105 [==============================] - 44s 414ms/step - loss: 0.0502 - accuracy: 0.9836 - val_loss: 0.7715 - val_accuracy: 0.8807\n",
            "Epoch 94/100\n",
            "105/105 [==============================] - 45s 424ms/step - loss: 0.0551 - accuracy: 0.9824 - val_loss: 0.7288 - val_accuracy: 0.8890\n",
            "Epoch 95/100\n",
            "105/105 [==============================] - 43s 409ms/step - loss: 0.0530 - accuracy: 0.9842 - val_loss: 0.5106 - val_accuracy: 0.9069\n",
            "Epoch 96/100\n",
            "105/105 [==============================] - 44s 415ms/step - loss: 0.0480 - accuracy: 0.9824 - val_loss: 0.8572 - val_accuracy: 0.8819\n",
            "Epoch 97/100\n",
            "105/105 [==============================] - 44s 414ms/step - loss: 0.0367 - accuracy: 0.9884 - val_loss: 0.9397 - val_accuracy: 0.8174\n",
            "Epoch 98/100\n",
            "105/105 [==============================] - 44s 421ms/step - loss: 0.0362 - accuracy: 0.9872 - val_loss: 0.9526 - val_accuracy: 0.8473\n",
            "Epoch 99/100\n",
            "105/105 [==============================] - 43s 410ms/step - loss: 0.0481 - accuracy: 0.9842 - val_loss: 0.5936 - val_accuracy: 0.8950\n",
            "Epoch 100/100\n",
            "105/105 [==============================] - 44s 416ms/step - loss: 0.0518 - accuracy: 0.9830 - val_loss: 0.3531 - val_accuracy: 0.9236\n"
          ]
        }
      ]
    },
    {
      "cell_type": "code",
      "source": [
        "Y_pred = model_alexnet.predict(X_test)\n",
        "Y_pred_classes = np.argmax(Y_pred, axis=1)\n",
        "Y_true = np.argmax(Y_test, axis=1)\n",
        "\n",
        "conf_matrix = confusion_matrix(Y_true, Y_pred_classes)\n",
        "\n",
        "plt.figure(figsize=(8, 6))\n",
        "sns.heatmap(conf_matrix, annot=True, fmt=\"d\", cmap=\"Blues\", xticklabels=['Common_Rust', 'Healthy', 'Gray_Leaf_Spot', 'Blight'], yticklabels=['Common_Rust', 'Healthy', 'Gray_Leaf_Spot', 'Blight'])\n",
        "plt.xlabel('Predicted labels')\n",
        "plt.ylabel('True labels')\n",
        "plt.title('Confusion Matrix')\n",
        "plt.show()\n",
        "\n",
        "class_report = classification_report(Y_true, Y_pred_classes)\n",
        "\n",
        "print(\"\\nClassification Report:\")\n",
        "print(class_report)"
      ],
      "metadata": {
        "id": "W2svXyjyTjeo",
        "colab": {
          "base_uri": "https://localhost:8080/",
          "height": 807
        },
        "outputId": "f46e51ca-81bf-4fa2-e196-574822eba17c"
      },
      "execution_count": 16,
      "outputs": [
        {
          "output_type": "stream",
          "name": "stdout",
          "text": [
            "27/27 [==============================] - 1s 32ms/step\n"
          ]
        },
        {
          "output_type": "display_data",
          "data": {
            "text/plain": [
              "<Figure size 800x600 with 2 Axes>"
            ],
            "image/png": "[encoded data removed]"
          },
          "metadata": {}
        },
        {
          "output_type": "stream",
          "name": "stdout",
          "text": [
            "\n",
            "Classification Report:\n",
            "              precision    recall  f1-score   support\n",
            "\n",
            "           0       0.89      0.86      0.87       218\n",
            "           1       0.94      0.97      0.96       289\n",
            "           2       0.82      0.77      0.79       104\n",
            "           3       0.97      1.00      0.99       227\n",
            "\n",
            "    accuracy                           0.92       838\n",
            "   macro avg       0.91      0.90      0.90       838\n",
            "weighted avg       0.92      0.92      0.92       838\n",
            "\n"
          ]
        }
      ]
    }
  ]
}