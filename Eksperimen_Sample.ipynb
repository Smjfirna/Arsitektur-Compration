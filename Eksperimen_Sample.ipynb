{
  "nbformat": 4,
  "nbformat_minor": 0,
  "metadata": {
    "colab": {
      "provenance": [],
      "gpuType": "T4",
      "authorship_tag": "ABX9TyO92sgTwzZgygr4Y6A5sxk/",
      "include_colab_link": true
    },
    "kernelspec": {
      "name": "python3",
      "display_name": "Python 3"
    },
    "language_info": {
      "name": "python"
    },
    "accelerator": "GPU"
  },
  "cells": [
    {
      "cell_type": "markdown",
      "metadata": {
        "id": "view-in-github",
        "colab_type": "text"
      },
      "source": [
        "<a href=\"https://colab.research.google.com/github/Smjfirna/Arsitektur-Compration/blob/main/Eksperimen_Sample.ipynb\" target=\"_parent\"><img src=\"https://colab.research.google.com/assets/colab-badge.svg\" alt=\"Open In Colab\"/></a>"
      ]
    },
    {
      "cell_type": "code",
      "execution_count": 1,
      "metadata": {
        "id": "nytWI835wuV1",
        "colab": {
          "base_uri": "https://localhost:8080/"
        },
        "outputId": "4d5ca2a8-9715-40e8-a053-64e96316830f"
      },
      "outputs": [
        {
          "output_type": "stream",
          "name": "stdout",
          "text": [
            "Mounted at /content/drive\n"
          ]
        }
      ],
      "source": [
        "from google.colab import drive\n",
        "drive.mount('/content/drive')"
      ]
    },
    {
      "cell_type": "code",
      "source": [
        "import tensorflow as tf\n",
        "from tensorflow.keras.preprocessing.image import ImageDataGenerator\n",
        "from tensorflow.keras.models import Sequential\n",
        "from tensorflow.keras import layers, Model, regularizers\n",
        "from tensorflow.keras.callbacks import EarlyStopping\n",
        "from tensorflow.keras.layers import Conv2D, MaxPooling2D, Flatten, Dense, GlobalAveragePooling2D, Dropout\n",
        "import os\n",
        "from tensorflow.keras.optimizers import Adam\n",
        "from tensorflow.keras.optimizers import RMSprop"
      ],
      "metadata": {
        "id": "rAvfUOSs4cqW"
      },
      "execution_count": 2,
      "outputs": []
    },
    {
      "cell_type": "code",
      "source": [
        "base_dir = '/content/drive/MyDrive/Skripsi Syafirna/Propgram/Data Sample 10'\n",
        "\n",
        "print(\"Contents of base directory:\")\n",
        "print(os.listdir(base_dir))"
      ],
      "metadata": {
        "colab": {
          "base_uri": "https://localhost:8080/"
        },
        "id": "9U_GPT024goV",
        "outputId": "a07d77dc-f4f0-4900-cb08-3ac17ae02c5e"
      },
      "execution_count": 3,
      "outputs": [
        {
          "output_type": "stream",
          "name": "stdout",
          "text": [
            "Contents of base directory:\n",
            "['Common_rust', 'Blight', 'Healthy', 'Gray_leaf_spot']\n"
          ]
        }
      ]
    },
    {
      "cell_type": "code",
      "source": [
        "Common_rust_dir = os.path.join(base_dir, 'Common_rust')\n",
        "Blight_dir = os.path.join(base_dir, 'Blight')\n",
        "Healthy_dir = os.path.join(base_dir, 'Healthy')\n",
        "Gray_leaf_spot_dir = os.path.join(base_dir, 'Gray_leaf_spot')"
      ],
      "metadata": {
        "id": "br4PtZBn41xi"
      },
      "execution_count": 4,
      "outputs": []
    },
    {
      "cell_type": "code",
      "source": [
        "Common_rust_fnames = os.listdir(Common_rust_dir)\n",
        "Blight_fnames = os.listdir(Blight_dir)\n",
        "Healthy_fnames = os.listdir(Healthy_dir)\n",
        "Gray_leaf_spot_fnames = os.listdir(Gray_leaf_spot_dir)"
      ],
      "metadata": {
        "id": "3MjeW4CO5f0G"
      },
      "execution_count": 5,
      "outputs": []
    },
    {
      "cell_type": "code",
      "source": [
        "print('Total Gambar Common rust :', len(os.listdir(Common_rust_dir)))\n",
        "print('Total Gambar Blight :', len(os.listdir(Blight_dir)))\n",
        "print('Total Gambar Healty :', len(os.listdir(Healthy_dir)))\n",
        "print('Total Gambar Gray Leaf Spot :', len(os.listdir(Gray_leaf_spot_dir)))"
      ],
      "metadata": {
        "colab": {
          "base_uri": "https://localhost:8080/"
        },
        "id": "r3eLGlfb7Lsp",
        "outputId": "4e950def-1768-4477-9d9c-500a2ac87b63"
      },
      "execution_count": 6,
      "outputs": [
        {
          "output_type": "stream",
          "name": "stdout",
          "text": [
            "Total Gambar Common rust : 130\n",
            "Total Gambar Blight : 114\n",
            "Total Gambar Healty : 116\n",
            "Total Gambar Gray Leaf Spot : 57\n"
          ]
        }
      ]
    },
    {
      "cell_type": "code",
      "source": [
        "img_height = 224\n",
        "img_width = 224\n",
        "img_channels = 3\n",
        "num_epochs= 10\n",
        "\n",
        "datagen = ImageDataGenerator( rescale = 1.0/255.,\n",
        "                              #rotation_range=20,\n",
        "                              #horizontal_flip=True,\n",
        "                              vertical_flip=True,\n",
        "                              validation_split=0.2\n",
        "                            )\n",
        "\n",
        "train_generator = datagen.flow_from_directory(\n",
        "    base_dir,\n",
        "    target_size=(img_height, img_width),\n",
        "    class_mode='categorical',\n",
        "    subset='training'  # menggunakan subset 'training' untuk data pelatihan\n",
        ")\n",
        "\n",
        "validation_generator = datagen.flow_from_directory(\n",
        "    base_dir,\n",
        "    target_size=(img_height, img_width),\n",
        "    class_mode='categorical',\n",
        "    subset='validation'  # menggunakan subset 'validation' untuk data validasi\n",
        ")"
      ],
      "metadata": {
        "colab": {
          "base_uri": "https://localhost:8080/"
        },
        "id": "eNYwO2jB76bD",
        "outputId": "59fc1cb1-8cb3-4e54-9eba-2d96b5b703ec"
      },
      "execution_count": 16,
      "outputs": [
        {
          "output_type": "stream",
          "name": "stdout",
          "text": [
            "Found 335 images belonging to 4 classes.\n",
            "Found 82 images belonging to 4 classes.\n"
          ]
        }
      ]
    },
    {
      "cell_type": "code",
      "source": [
        "model = Sequential([\n",
        "    Conv2D(96, (11,11), strides=(4,4), activation='relu', input_shape=(img_height, img_width, img_channels)),\n",
        "    MaxPooling2D(pool_size=(3,3), strides=(2,2)),\n",
        "    Conv2D(256, (5,5), activation='relu', padding='same'),\n",
        "    MaxPooling2D(pool_size=(3,3), strides=(2,2)),\n",
        "    Conv2D(384, (3,3), activation='relu', padding='same'),\n",
        "    Conv2D(384, (3,3), activation='relu', padding='same'),\n",
        "    Conv2D(256, (3,3), activation='relu', padding='same'),\n",
        "    MaxPooling2D(pool_size=(3,3), strides=(2,2)),\n",
        "    Flatten(),\n",
        "    Dense(4096, activation='relu'),\n",
        "    Dropout(0.5),\n",
        "    Dense(4096, activation='relu'),\n",
        "    Dropout(0.5),\n",
        "    Dense(4, activation='softmax')\n",
        "])"
      ],
      "metadata": {
        "id": "v-NwBGNC_qwl"
      },
      "execution_count": 17,
      "outputs": []
    },
    {
      "cell_type": "code",
      "source": [
        "model.compile(optimizer=Adam(learning_rate=0.001), loss='categorical_crossentropy', metrics=['accuracy'])"
      ],
      "metadata": {
        "id": "pkTGNmAnA7SG"
      },
      "execution_count": 18,
      "outputs": []
    },
    {
      "cell_type": "code",
      "source": [
        "history = model.fit(train_generator, epochs=num_epochs, validation_data=validation_generator)"
      ],
      "metadata": {
        "colab": {
          "base_uri": "https://localhost:8080/"
        },
        "id": "dlZt3jK2BWzy",
        "outputId": "7d5a563f-d165-4739-f4ad-34e21d094f01"
      },
      "execution_count": 19,
      "outputs": [
        {
          "output_type": "stream",
          "name": "stdout",
          "text": [
            "Epoch 1/10\n",
            "11/11 [==============================] - 8s 467ms/step - loss: 1.5749 - accuracy: 0.2985 - val_loss: 1.3425 - val_accuracy: 0.3171\n",
            "Epoch 2/10\n",
            "11/11 [==============================] - 4s 411ms/step - loss: 1.3491 - accuracy: 0.3104 - val_loss: 1.3093 - val_accuracy: 0.3049\n",
            "Epoch 3/10\n",
            "11/11 [==============================] - 5s 443ms/step - loss: 1.2786 - accuracy: 0.3612 - val_loss: 1.0393 - val_accuracy: 0.6829\n",
            "Epoch 4/10\n",
            "11/11 [==============================] - 5s 375ms/step - loss: 1.2210 - accuracy: 0.4209 - val_loss: 1.0310 - val_accuracy: 0.5732\n",
            "Epoch 5/10\n",
            "11/11 [==============================] - 5s 431ms/step - loss: 1.2091 - accuracy: 0.4090 - val_loss: 1.0869 - val_accuracy: 0.5244\n",
            "Epoch 6/10\n",
            "11/11 [==============================] - 6s 521ms/step - loss: 1.1962 - accuracy: 0.3881 - val_loss: 1.0096 - val_accuracy: 0.5244\n",
            "Epoch 7/10\n",
            "11/11 [==============================] - 4s 421ms/step - loss: 1.1881 - accuracy: 0.4179 - val_loss: 1.1427 - val_accuracy: 0.6463\n",
            "Epoch 8/10\n",
            "11/11 [==============================] - 5s 432ms/step - loss: 1.2720 - accuracy: 0.4418 - val_loss: 1.0018 - val_accuracy: 0.5488\n",
            "Epoch 9/10\n",
            "11/11 [==============================] - 5s 407ms/step - loss: 1.2025 - accuracy: 0.4060 - val_loss: 0.9772 - val_accuracy: 0.5610\n",
            "Epoch 10/10\n",
            "11/11 [==============================] - 4s 421ms/step - loss: 1.1926 - accuracy: 0.4418 - val_loss: 1.0347 - val_accuracy: 0.6220\n"
          ]
        }
      ]
    },
    {
      "cell_type": "code",
      "source": [
        "import numpy as np\n",
        "from sklearn.metrics import confusion_matrix, classification_report\n",
        "import matplotlib.pyplot as plt\n",
        "import seaborn as sns\n",
        "# ...\n",
        "\n",
        "# Setelah Anda melatih model, lakukan prediksi pada data uji\n",
        "Y_pred = model.predict(validation_generator)\n",
        "y_pred = np.argmax(Y_pred, axis=1)\n",
        "\n",
        "# Dapatkan label yang benar\n",
        "y_true = validation_generator.classes\n",
        "\n",
        "# Buat confusion matrix\n",
        "conf_matrix = confusion_matrix(y_true, y_pred)\n",
        "\n",
        "# Tampilkan confusion matrix menggunakan seaborn heatmap\n",
        "plt.figure(figsize=(4, 4))\n",
        "sns.heatmap(conf_matrix, annot=True, fmt='d', cmap='Blues', xticklabels=validation_generator.class_indices.keys(), yticklabels=validation_generator.class_indices.keys())\n",
        "plt.xlabel('Predicted')\n",
        "plt.ylabel('True')\n",
        "plt.title('Confusion Matrix')\n",
        "plt.show()\n",
        "\n",
        "# Tampilkan laporan klasifikasi\n",
        "print('\\nClassification Report:\\n', classification_report(y_true, y_pred, target_names=validation_generator.class_indices.keys()))"
      ],
      "metadata": {
        "colab": {
          "base_uri": "https://localhost:8080/",
          "height": 866
        },
        "id": "VUA9DXzmEHGb",
        "outputId": "af708ca0-1584-4e0d-ada7-be501031997d"
      },
      "execution_count": 20,
      "outputs": [
        {
          "output_type": "stream",
          "name": "stdout",
          "text": [
            "3/3 [==============================] - 1s 144ms/step\n"
          ]
        },
        {
          "output_type": "display_data",
          "data": {
            "text/plain": [
              "<Figure size 400x400 with 2 Axes>"
            ],
            "image/png": "[encoded data removed]"
          },
          "metadata": {}
        },
        {
          "output_type": "stream",
          "name": "stdout",
          "text": [
            "\n",
            "Classification Report:\n",
            "                 precision    recall  f1-score   support\n",
            "\n",
            "        Blight       0.22      0.09      0.13        22\n",
            "   Common_rust       0.38      0.35      0.36        26\n",
            "Gray_leaf_spot       0.00      0.00      0.00        11\n",
            "       Healthy       0.29      0.61      0.39        23\n",
            "\n",
            "      accuracy                           0.30        82\n",
            "     macro avg       0.22      0.26      0.22        82\n",
            "  weighted avg       0.26      0.30      0.26        82\n",
            "\n"
          ]
        },
        {
          "output_type": "stream",
          "name": "stderr",
          "text": [
            "/usr/local/lib/python3.10/dist-packages/sklearn/metrics/_classification.py:1344: UndefinedMetricWarning: Precision and F-score are ill-defined and being set to 0.0 in labels with no predicted samples. Use `zero_division` parameter to control this behavior.\n",
            "  _warn_prf(average, modifier, msg_start, len(result))\n",
            "/usr/local/lib/python3.10/dist-packages/sklearn/metrics/_classification.py:1344: UndefinedMetricWarning: Precision and F-score are ill-defined and being set to 0.0 in labels with no predicted samples. Use `zero_division` parameter to control this behavior.\n",
            "  _warn_prf(average, modifier, msg_start, len(result))\n",
            "/usr/local/lib/python3.10/dist-packages/sklearn/metrics/_classification.py:1344: UndefinedMetricWarning: Precision and F-score are ill-defined and being set to 0.0 in labels with no predicted samples. Use `zero_division` parameter to control this behavior.\n",
            "  _warn_prf(average, modifier, msg_start, len(result))\n"
          ]
        }
      ]
    }
  ]
}