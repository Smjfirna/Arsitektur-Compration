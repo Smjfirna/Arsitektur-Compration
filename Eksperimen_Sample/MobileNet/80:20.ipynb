{
  "nbformat": 4,
  "nbformat_minor": 0,
  "metadata": {
    "colab": {
      "provenance": [],
      "gpuType": "T4",
      "authorship_tag": "ABX9TyM5yn3x23bTZSVy0I8wcte0",
      "include_colab_link": true
    },
    "kernelspec": {
      "name": "python3",
      "display_name": "Python 3"
    },
    "language_info": {
      "name": "python"
    },
    "accelerator": "GPU"
  },
  "cells": [
    {
      "cell_type": "markdown",
      "metadata": {
        "id": "view-in-github",
        "colab_type": "text"
      },
      "source": [
        "<a href=\"https://colab.research.google.com/github/Smjfirna/Arsitektur-Compration/blob/main/Eksperimen_Sample/MobileNet/80%3A20.ipynb\" target=\"_parent\"><img src=\"https://colab.research.google.com/assets/colab-badge.svg\" alt=\"Open In Colab\"/></a>"
      ]
    },
    {
      "cell_type": "code",
      "execution_count": 1,
      "metadata": {
        "id": "nytWI835wuV1",
        "colab": {
          "base_uri": "https://localhost:8080/"
        },
        "outputId": "4afd8c6b-d247-42b8-9ca5-de950753275a"
      },
      "outputs": [
        {
          "output_type": "stream",
          "name": "stdout",
          "text": [
            "Mounted at /content/drive\n"
          ]
        }
      ],
      "source": [
        "from google.colab import drive\n",
        "drive.mount('/content/drive')"
      ]
    },
    {
      "cell_type": "code",
      "source": [
        "import tensorflow as tf\n",
        "from tensorflow.keras.preprocessing.image import ImageDataGenerator\n",
        "from tensorflow.keras.models import Sequential\n",
        "from tensorflow.keras import layers, Model, regularizers\n",
        "from tensorflow.keras.callbacks import EarlyStopping\n",
        "from tensorflow.keras.layers import Conv2D, MaxPooling2D, Flatten, Dense, GlobalAveragePooling2D, Dropout\n",
        "import os\n",
        "from tensorflow.keras.optimizers import Adam\n",
        "from tensorflow.keras.optimizers import RMSprop\n",
        "\n",
        "from keras.applications import ResNet50"
      ],
      "metadata": {
        "id": "rAvfUOSs4cqW"
      },
      "execution_count": 11,
      "outputs": []
    },
    {
      "cell_type": "code",
      "source": [
        "base_dir = '/content/drive/MyDrive/Skripsi Syafirna/Program/Data Sample 10'\n",
        "\n",
        "print(\"Contents of base directory:\")\n",
        "print(os.listdir(base_dir))"
      ],
      "metadata": {
        "colab": {
          "base_uri": "https://localhost:8080/"
        },
        "id": "9U_GPT024goV",
        "outputId": "dbc97940-e107-472c-fb96-6fca5f56e358"
      },
      "execution_count": 6,
      "outputs": [
        {
          "output_type": "stream",
          "name": "stdout",
          "text": [
            "Contents of base directory:\n",
            "['Common_rust', 'Blight', 'Healthy', 'Gray_leaf_spot']\n"
          ]
        }
      ]
    },
    {
      "cell_type": "code",
      "source": [
        "Common_rust_dir = os.path.join(base_dir, 'Common_rust')\n",
        "Blight_dir = os.path.join(base_dir, 'Blight')\n",
        "Healthy_dir = os.path.join(base_dir, 'Healthy')\n",
        "Gray_leaf_spot_dir = os.path.join(base_dir, 'Gray_leaf_spot')"
      ],
      "metadata": {
        "id": "br4PtZBn41xi"
      },
      "execution_count": 7,
      "outputs": []
    },
    {
      "cell_type": "code",
      "source": [
        "Common_rust_fnames = os.listdir(Common_rust_dir)\n",
        "Blight_fnames = os.listdir(Blight_dir)\n",
        "Healthy_fnames = os.listdir(Healthy_dir)\n",
        "Gray_leaf_spot_fnames = os.listdir(Gray_leaf_spot_dir)"
      ],
      "metadata": {
        "id": "3MjeW4CO5f0G"
      },
      "execution_count": 8,
      "outputs": []
    },
    {
      "cell_type": "code",
      "source": [
        "print('Total Gambar Common rust :', len(os.listdir(Common_rust_dir)))\n",
        "print('Total Gambar Blight :', len(os.listdir(Blight_dir)))\n",
        "print('Total Gambar Healty :', len(os.listdir(Healthy_dir)))\n",
        "print('Total Gambar Gray Leaf Spot :', len(os.listdir(Gray_leaf_spot_dir)))"
      ],
      "metadata": {
        "colab": {
          "base_uri": "https://localhost:8080/"
        },
        "id": "r3eLGlfb7Lsp",
        "outputId": "ff343b69-d78b-43ce-e1d0-7ce15ec405b1"
      },
      "execution_count": 9,
      "outputs": [
        {
          "output_type": "stream",
          "name": "stdout",
          "text": [
            "Total Gambar Common rust : 130\n",
            "Total Gambar Blight : 114\n",
            "Total Gambar Healty : 116\n",
            "Total Gambar Gray Leaf Spot : 57\n"
          ]
        }
      ]
    },
    {
      "cell_type": "code",
      "source": [
        "img_height = 224\n",
        "img_width = 224\n",
        "img_channels = 3\n",
        "num_epochs= 10\n",
        "\n",
        "datagen = ImageDataGenerator( rescale = 1.0/255.,\n",
        "                             validation_split=0.2\n",
        "                            )\n",
        "\n",
        "train_generator = datagen.flow_from_directory(\n",
        "    base_dir,\n",
        "    target_size=(img_height, img_width),\n",
        "    class_mode='categorical',\n",
        "    subset='training'\n",
        ")\n",
        "\n",
        "validation_generator = datagen.flow_from_directory(\n",
        "    base_dir,\n",
        "    target_size=(img_height, img_width),\n",
        "    class_mode='categorical',\n",
        "    subset='validation'\n",
        ")"
      ],
      "metadata": {
        "colab": {
          "base_uri": "https://localhost:8080/"
        },
        "id": "eNYwO2jB76bD",
        "outputId": "a1f45938-fa55-40db-d29b-5bf6176c499b"
      },
      "execution_count": 28,
      "outputs": [
        {
          "output_type": "stream",
          "name": "stdout",
          "text": [
            "Found 335 images belonging to 4 classes.\n",
            "Found 82 images belonging to 4 classes.\n"
          ]
        }
      ]
    },
    {
      "cell_type": "code",
      "source": [
        "# Initialize ResNet50 base model\n",
        "resnet50_base = ResNet50(weights='imagenet', include_top=False, input_shape=(img_height, img_width, img_channels))\n",
        "\n",
        "# Freeze the convolutional base\n",
        "for layer in resnet50_base.layers:\n",
        "    layer.trainable = False\n",
        "\n",
        "# Create a new model\n",
        "model = Sequential()\n",
        "model.add(resnet50_base)\n",
        "model.add(Flatten())\n",
        "model.add(Dense(256, activation='relu'))\n",
        "model.add(Dense(4, activation='sigmoid'))"
      ],
      "metadata": {
        "id": "v-NwBGNC_qwl"
      },
      "execution_count": 24,
      "outputs": []
    },
    {
      "cell_type": "code",
      "source": [
        "model.compile(optimizer='Adam', loss='categorical_crossentropy', metrics=['accuracy'])"
      ],
      "metadata": {
        "id": "pkTGNmAnA7SG"
      },
      "execution_count": 25,
      "outputs": []
    },
    {
      "cell_type": "code",
      "source": [
        "history = model.fit(train_generator, epochs=num_epochs, validation_data=validation_generator)"
      ],
      "metadata": {
        "colab": {
          "base_uri": "https://localhost:8080/"
        },
        "id": "dlZt3jK2BWzy",
        "outputId": "f8231083-a187-45d0-fbe1-f124e9e0364a"
      },
      "execution_count": 29,
      "outputs": [
        {
          "output_type": "stream",
          "name": "stdout",
          "text": [
            "Epoch 1/10\n",
            "11/11 [==============================] - 7s 620ms/step - loss: 0.8200 - accuracy: 0.6716 - val_loss: 0.6993 - val_accuracy: 0.7927\n",
            "Epoch 2/10\n",
            "11/11 [==============================] - 5s 485ms/step - loss: 0.7909 - accuracy: 0.6597 - val_loss: 0.8677 - val_accuracy: 0.6463\n",
            "Epoch 3/10\n",
            "11/11 [==============================] - 5s 399ms/step - loss: 0.8097 - accuracy: 0.6657 - val_loss: 0.8651 - val_accuracy: 0.6951\n",
            "Epoch 4/10\n",
            "11/11 [==============================] - 5s 444ms/step - loss: 0.8062 - accuracy: 0.6567 - val_loss: 0.6987 - val_accuracy: 0.7561\n",
            "Epoch 5/10\n",
            "11/11 [==============================] - 5s 420ms/step - loss: 0.7699 - accuracy: 0.7134 - val_loss: 0.7218 - val_accuracy: 0.7317\n",
            "Epoch 6/10\n",
            "11/11 [==============================] - 5s 401ms/step - loss: 0.8932 - accuracy: 0.6657 - val_loss: 0.8831 - val_accuracy: 0.6951\n",
            "Epoch 7/10\n",
            "11/11 [==============================] - 6s 515ms/step - loss: 0.9563 - accuracy: 0.6000 - val_loss: 1.3578 - val_accuracy: 0.5244\n",
            "Epoch 8/10\n",
            "11/11 [==============================] - 5s 427ms/step - loss: 0.8457 - accuracy: 0.6687 - val_loss: 0.7917 - val_accuracy: 0.6707\n",
            "Epoch 9/10\n",
            "11/11 [==============================] - 6s 533ms/step - loss: 0.7830 - accuracy: 0.6657 - val_loss: 0.8059 - val_accuracy: 0.7073\n",
            "Epoch 10/10\n",
            "11/11 [==============================] - 5s 423ms/step - loss: 0.7927 - accuracy: 0.6716 - val_loss: 0.9960 - val_accuracy: 0.6585\n"
          ]
        }
      ]
    },
    {
      "cell_type": "code",
      "source": [
        "import numpy as np\n",
        "from sklearn.metrics import confusion_matrix, classification_report\n",
        "import matplotlib.pyplot as plt\n",
        "import seaborn as sns\n",
        "\n",
        "Y_pred = model.predict(validation_generator)\n",
        "y_pred = np.argmax(Y_pred, axis=1)\n",
        "\n",
        "y_true = validation_generator.classes\n",
        "\n",
        "conf_matrix = confusion_matrix(y_true, y_pred)\n",
        "\n",
        "# Tampilkan confusion matrix menggunakan seaborn heatmap\n",
        "plt.figure(figsize=(4, 4))\n",
        "sns.heatmap(conf_matrix, annot=True, fmt='d', cmap='Blues', xticklabels=validation_generator.class_indices.keys(), yticklabels=validation_generator.class_indices.keys())\n",
        "plt.xlabel('Predicted')\n",
        "plt.ylabel('True')\n",
        "plt.title('Confusion Matrix')\n",
        "plt.show()\n",
        "\n",
        "print('\\nClassification Report:\\n', classification_report(y_true, y_pred, target_names=validation_generator.class_indices.keys()))"
      ],
      "metadata": {
        "colab": {
          "base_uri": "https://localhost:8080/",
          "height": 742
        },
        "id": "VUA9DXzmEHGb",
        "outputId": "8e791dd6-2b55-4a8b-e374-9829817ee174"
      },
      "execution_count": 30,
      "outputs": [
        {
          "output_type": "stream",
          "name": "stdout",
          "text": [
            "3/3 [==============================] - 1s 168ms/step\n"
          ]
        },
        {
          "output_type": "display_data",
          "data": {
            "text/plain": [
              "<Figure size 400x400 with 2 Axes>"
            ],
            "image/png": "[encoded data removed]"
          },
          "metadata": {}
        },
        {
          "output_type": "stream",
          "name": "stdout",
          "text": [
            "\n",
            "Classification Report:\n",
            "                 precision    recall  f1-score   support\n",
            "\n",
            "        Blight       0.14      0.05      0.07        22\n",
            "   Common_rust       0.33      0.54      0.41        26\n",
            "Gray_leaf_spot       0.00      0.00      0.00        11\n",
            "       Healthy       0.31      0.43      0.36        23\n",
            "\n",
            "      accuracy                           0.30        82\n",
            "     macro avg       0.20      0.25      0.21        82\n",
            "  weighted avg       0.23      0.30      0.25        82\n",
            "\n"
          ]
        }
      ]
    }
  ]
}