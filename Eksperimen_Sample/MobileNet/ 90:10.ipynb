{
  "nbformat": 4,
  "nbformat_minor": 0,
  "metadata": {
    "colab": {
      "provenance": [],
      "gpuType": "T4",
      "authorship_tag": "ABX9TyNNFFPJSFXRBkOKT44LgjWE",
      "include_colab_link": true
    },
    "kernelspec": {
      "name": "python3",
      "display_name": "Python 3"
    },
    "language_info": {
      "name": "python"
    },
    "accelerator": "GPU"
  },
  "cells": [
    {
      "cell_type": "markdown",
      "metadata": {
        "id": "view-in-github",
        "colab_type": "text"
      },
      "source": [
        "<a href=\"https://colab.research.google.com/github/Smjfirna/Arsitektur-Compration/blob/main/Eksperimen_Sample/MobileNet/%2090%3A10.ipynb\" target=\"_parent\"><img src=\"https://colab.research.google.com/assets/colab-badge.svg\" alt=\"Open In Colab\"/></a>"
      ]
    },
    {
      "cell_type": "code",
      "execution_count": 1,
      "metadata": {
        "id": "nytWI835wuV1",
        "colab": {
          "base_uri": "https://localhost:8080/"
        },
        "outputId": "4afd8c6b-d247-42b8-9ca5-de950753275a"
      },
      "outputs": [
        {
          "output_type": "stream",
          "name": "stdout",
          "text": [
            "Mounted at /content/drive\n"
          ]
        }
      ],
      "source": [
        "from google.colab import drive\n",
        "drive.mount('/content/drive')"
      ]
    },
    {
      "cell_type": "code",
      "source": [
        "import tensorflow as tf\n",
        "from tensorflow.keras.preprocessing.image import ImageDataGenerator\n",
        "from tensorflow.keras.models import Sequential\n",
        "from tensorflow.keras import layers, Model, regularizers\n",
        "from tensorflow.keras.callbacks import EarlyStopping\n",
        "from tensorflow.keras.layers import Conv2D, MaxPooling2D, Flatten, Dense, GlobalAveragePooling2D, Dropout\n",
        "import os\n",
        "from tensorflow.keras.optimizers import Adam\n",
        "from tensorflow.keras.optimizers import RMSprop\n",
        "\n",
        "from keras.applications import ResNet50"
      ],
      "metadata": {
        "id": "rAvfUOSs4cqW"
      },
      "execution_count": 11,
      "outputs": []
    },
    {
      "cell_type": "code",
      "source": [
        "base_dir = '/content/drive/MyDrive/Skripsi Syafirna/Program/Data Sample 10'\n",
        "\n",
        "print(\"Contents of base directory:\")\n",
        "print(os.listdir(base_dir))"
      ],
      "metadata": {
        "colab": {
          "base_uri": "https://localhost:8080/"
        },
        "id": "9U_GPT024goV",
        "outputId": "dbc97940-e107-472c-fb96-6fca5f56e358"
      },
      "execution_count": 6,
      "outputs": [
        {
          "output_type": "stream",
          "name": "stdout",
          "text": [
            "Contents of base directory:\n",
            "['Common_rust', 'Blight', 'Healthy', 'Gray_leaf_spot']\n"
          ]
        }
      ]
    },
    {
      "cell_type": "code",
      "source": [
        "Common_rust_dir = os.path.join(base_dir, 'Common_rust')\n",
        "Blight_dir = os.path.join(base_dir, 'Blight')\n",
        "Healthy_dir = os.path.join(base_dir, 'Healthy')\n",
        "Gray_leaf_spot_dir = os.path.join(base_dir, 'Gray_leaf_spot')"
      ],
      "metadata": {
        "id": "br4PtZBn41xi"
      },
      "execution_count": 7,
      "outputs": []
    },
    {
      "cell_type": "code",
      "source": [
        "Common_rust_fnames = os.listdir(Common_rust_dir)\n",
        "Blight_fnames = os.listdir(Blight_dir)\n",
        "Healthy_fnames = os.listdir(Healthy_dir)\n",
        "Gray_leaf_spot_fnames = os.listdir(Gray_leaf_spot_dir)"
      ],
      "metadata": {
        "id": "3MjeW4CO5f0G"
      },
      "execution_count": 8,
      "outputs": []
    },
    {
      "cell_type": "code",
      "source": [
        "print('Total Gambar Common rust :', len(os.listdir(Common_rust_dir)))\n",
        "print('Total Gambar Blight :', len(os.listdir(Blight_dir)))\n",
        "print('Total Gambar Healty :', len(os.listdir(Healthy_dir)))\n",
        "print('Total Gambar Gray Leaf Spot :', len(os.listdir(Gray_leaf_spot_dir)))"
      ],
      "metadata": {
        "colab": {
          "base_uri": "https://localhost:8080/"
        },
        "id": "r3eLGlfb7Lsp",
        "outputId": "ff343b69-d78b-43ce-e1d0-7ce15ec405b1"
      },
      "execution_count": 9,
      "outputs": [
        {
          "output_type": "stream",
          "name": "stdout",
          "text": [
            "Total Gambar Common rust : 130\n",
            "Total Gambar Blight : 114\n",
            "Total Gambar Healty : 116\n",
            "Total Gambar Gray Leaf Spot : 57\n"
          ]
        }
      ]
    },
    {
      "cell_type": "code",
      "source": [
        "img_height = 224\n",
        "img_width = 224\n",
        "img_channels = 3\n",
        "num_epochs= 10\n",
        "\n",
        "datagen = ImageDataGenerator( rescale = 1.0/255.,\n",
        "                             validation_split=0.1\n",
        "                            )\n",
        "\n",
        "train_generator = datagen.flow_from_directory(\n",
        "    base_dir,\n",
        "    target_size=(img_height, img_width),\n",
        "    class_mode='categorical',\n",
        "    subset='training'\n",
        ")\n",
        "\n",
        "validation_generator = datagen.flow_from_directory(\n",
        "    base_dir,\n",
        "    target_size=(img_height, img_width),\n",
        "    class_mode='categorical',\n",
        "    subset='validation'\n",
        ")"
      ],
      "metadata": {
        "colab": {
          "base_uri": "https://localhost:8080/"
        },
        "id": "eNYwO2jB76bD",
        "outputId": "dce0e9c1-6790-400f-a8f6-c52cdf2d2005"
      },
      "execution_count": 23,
      "outputs": [
        {
          "output_type": "stream",
          "name": "stdout",
          "text": [
            "Found 377 images belonging to 4 classes.\n",
            "Found 40 images belonging to 4 classes.\n"
          ]
        }
      ]
    },
    {
      "cell_type": "code",
      "source": [
        "# Initialize ResNet50 base model\n",
        "resnet50_base = ResNet50(weights='imagenet', include_top=False, input_shape=(img_height, img_width, img_channels))\n",
        "\n",
        "# Freeze the convolutional base\n",
        "for layer in resnet50_base.layers:\n",
        "    layer.trainable = False\n",
        "\n",
        "# Create a new model\n",
        "model = Sequential()\n",
        "model.add(resnet50_base)\n",
        "model.add(Flatten())\n",
        "model.add(Dense(256, activation='relu'))\n",
        "model.add(Dense(4, activation='sigmoid'))"
      ],
      "metadata": {
        "id": "v-NwBGNC_qwl"
      },
      "execution_count": 24,
      "outputs": []
    },
    {
      "cell_type": "code",
      "source": [
        "model.compile(optimizer='Adam', loss='categorical_crossentropy', metrics=['accuracy'])"
      ],
      "metadata": {
        "id": "pkTGNmAnA7SG"
      },
      "execution_count": 25,
      "outputs": []
    },
    {
      "cell_type": "code",
      "source": [
        "history = model.fit(train_generator, epochs=num_epochs, validation_data=validation_generator)"
      ],
      "metadata": {
        "colab": {
          "base_uri": "https://localhost:8080/"
        },
        "id": "dlZt3jK2BWzy",
        "outputId": "6a66753e-e211-46fb-a1ee-541d66baf15e"
      },
      "execution_count": 26,
      "outputs": [
        {
          "output_type": "stream",
          "name": "stdout",
          "text": [
            "Epoch 1/10\n",
            "12/12 [==============================] - 10s 462ms/step - loss: 19.4236 - accuracy: 0.2679 - val_loss: 4.0322 - val_accuracy: 0.4500\n",
            "Epoch 2/10\n",
            "12/12 [==============================] - 5s 413ms/step - loss: 3.2095 - accuracy: 0.4191 - val_loss: 2.2773 - val_accuracy: 0.1250\n",
            "Epoch 3/10\n",
            "12/12 [==============================] - 5s 436ms/step - loss: 1.5521 - accuracy: 0.4430 - val_loss: 1.0797 - val_accuracy: 0.7000\n",
            "Epoch 4/10\n",
            "12/12 [==============================] - 5s 355ms/step - loss: 1.2391 - accuracy: 0.4695 - val_loss: 1.2488 - val_accuracy: 0.4750\n",
            "Epoch 5/10\n",
            "12/12 [==============================] - 5s 437ms/step - loss: 1.0398 - accuracy: 0.5836 - val_loss: 0.9458 - val_accuracy: 0.7000\n",
            "Epoch 6/10\n",
            "12/12 [==============================] - 5s 375ms/step - loss: 0.9458 - accuracy: 0.6180 - val_loss: 0.8484 - val_accuracy: 0.7250\n",
            "Epoch 7/10\n",
            "12/12 [==============================] - 5s 443ms/step - loss: 1.0331 - accuracy: 0.5703 - val_loss: 0.8640 - val_accuracy: 0.6500\n",
            "Epoch 8/10\n",
            "12/12 [==============================] - 5s 400ms/step - loss: 1.1229 - accuracy: 0.5172 - val_loss: 0.8420 - val_accuracy: 0.6750\n",
            "Epoch 9/10\n",
            "12/12 [==============================] - 5s 414ms/step - loss: 0.8603 - accuracy: 0.6419 - val_loss: 0.7838 - val_accuracy: 0.7500\n",
            "Epoch 10/10\n",
            "12/12 [==============================] - 5s 427ms/step - loss: 0.8406 - accuracy: 0.6340 - val_loss: 0.8001 - val_accuracy: 0.7500\n"
          ]
        }
      ]
    },
    {
      "cell_type": "code",
      "source": [
        "import numpy as np\n",
        "from sklearn.metrics import confusion_matrix, classification_report\n",
        "import matplotlib.pyplot as plt\n",
        "import seaborn as sns\n",
        "\n",
        "Y_pred = model.predict(validation_generator)\n",
        "y_pred = np.argmax(Y_pred, axis=1)\n",
        "\n",
        "y_true = validation_generator.classes\n",
        "\n",
        "conf_matrix = confusion_matrix(y_true, y_pred)\n",
        "\n",
        "# Tampilkan confusion matrix menggunakan seaborn heatmap\n",
        "plt.figure(figsize=(4, 4))\n",
        "sns.heatmap(conf_matrix, annot=True, fmt='d', cmap='Blues', xticklabels=validation_generator.class_indices.keys(), yticklabels=validation_generator.class_indices.keys())\n",
        "plt.xlabel('Predicted')\n",
        "plt.ylabel('True')\n",
        "plt.title('Confusion Matrix')\n",
        "plt.show()\n",
        "\n",
        "print('\\nClassification Report:\\n', classification_report(y_true, y_pred, target_names=validation_generator.class_indices.keys()))"
      ],
      "metadata": {
        "colab": {
          "base_uri": "https://localhost:8080/",
          "height": 742
        },
        "id": "VUA9DXzmEHGb",
        "outputId": "4481f7a3-a3d3-4fed-95b5-15026559774e"
      },
      "execution_count": 27,
      "outputs": [
        {
          "output_type": "stream",
          "name": "stdout",
          "text": [
            "2/2 [==============================] - 1s 14ms/step\n"
          ]
        },
        {
          "output_type": "display_data",
          "data": {
            "text/plain": [
              "<Figure size 400x400 with 2 Axes>"
            ],
            "image/png": "[encoded data removed]"
          },
          "metadata": {}
        },
        {
          "output_type": "stream",
          "name": "stdout",
          "text": [
            "\n",
            "Classification Report:\n",
            "                 precision    recall  f1-score   support\n",
            "\n",
            "        Blight       0.25      0.27      0.26        11\n",
            "   Common_rust       0.41      0.54      0.47        13\n",
            "Gray_leaf_spot       0.00      0.00      0.00         5\n",
            "       Healthy       0.50      0.45      0.48        11\n",
            "\n",
            "      accuracy                           0.38        40\n",
            "     macro avg       0.29      0.32      0.30        40\n",
            "  weighted avg       0.34      0.38      0.35        40\n",
            "\n"
          ]
        }
      ]
    }
  ]
}