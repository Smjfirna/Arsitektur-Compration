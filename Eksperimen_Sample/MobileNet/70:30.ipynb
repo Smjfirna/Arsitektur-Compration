{
  "nbformat": 4,
  "nbformat_minor": 0,
  "metadata": {
    "colab": {
      "provenance": [],
      "gpuType": "T4",
      "authorship_tag": "ABX9TyPZayCxtqBJfOgrqdpxrq75",
      "include_colab_link": true
    },
    "kernelspec": {
      "name": "python3",
      "display_name": "Python 3"
    },
    "language_info": {
      "name": "python"
    },
    "accelerator": "GPU"
  },
  "cells": [
    {
      "cell_type": "markdown",
      "metadata": {
        "id": "view-in-github",
        "colab_type": "text"
      },
      "source": [
        "<a href=\"https://colab.research.google.com/github/Smjfirna/Arsitektur-Compration/blob/main/Eksperimen_Sample/MobileNet/70%3A30.ipynb\" target=\"_parent\"><img src=\"https://colab.research.google.com/assets/colab-badge.svg\" alt=\"Open In Colab\"/></a>"
      ]
    },
    {
      "cell_type": "code",
      "execution_count": 1,
      "metadata": {
        "id": "nytWI835wuV1",
        "colab": {
          "base_uri": "https://localhost:8080/"
        },
        "outputId": "4afd8c6b-d247-42b8-9ca5-de950753275a"
      },
      "outputs": [
        {
          "output_type": "stream",
          "name": "stdout",
          "text": [
            "Mounted at /content/drive\n"
          ]
        }
      ],
      "source": [
        "from google.colab import drive\n",
        "drive.mount('/content/drive')"
      ]
    },
    {
      "cell_type": "code",
      "source": [
        "import tensorflow as tf\n",
        "from tensorflow.keras.preprocessing.image import ImageDataGenerator\n",
        "from tensorflow.keras.models import Sequential\n",
        "from tensorflow.keras import layers, Model, regularizers\n",
        "from tensorflow.keras.callbacks import EarlyStopping\n",
        "from tensorflow.keras.layers import Conv2D, MaxPooling2D, Flatten, Dense, GlobalAveragePooling2D, Dropout\n",
        "import os\n",
        "from tensorflow.keras.optimizers import Adam\n",
        "from tensorflow.keras.optimizers import RMSprop\n",
        "\n",
        "from keras.applications import ResNet50"
      ],
      "metadata": {
        "id": "rAvfUOSs4cqW"
      },
      "execution_count": 11,
      "outputs": []
    },
    {
      "cell_type": "code",
      "source": [
        "base_dir = '/content/drive/MyDrive/Skripsi Syafirna/Program/Data Sample 10'\n",
        "\n",
        "print(\"Contents of base directory:\")\n",
        "print(os.listdir(base_dir))"
      ],
      "metadata": {
        "colab": {
          "base_uri": "https://localhost:8080/"
        },
        "id": "9U_GPT024goV",
        "outputId": "dbc97940-e107-472c-fb96-6fca5f56e358"
      },
      "execution_count": 6,
      "outputs": [
        {
          "output_type": "stream",
          "name": "stdout",
          "text": [
            "Contents of base directory:\n",
            "['Common_rust', 'Blight', 'Healthy', 'Gray_leaf_spot']\n"
          ]
        }
      ]
    },
    {
      "cell_type": "code",
      "source": [
        "Common_rust_dir = os.path.join(base_dir, 'Common_rust')\n",
        "Blight_dir = os.path.join(base_dir, 'Blight')\n",
        "Healthy_dir = os.path.join(base_dir, 'Healthy')\n",
        "Gray_leaf_spot_dir = os.path.join(base_dir, 'Gray_leaf_spot')"
      ],
      "metadata": {
        "id": "br4PtZBn41xi"
      },
      "execution_count": 7,
      "outputs": []
    },
    {
      "cell_type": "code",
      "source": [
        "Common_rust_fnames = os.listdir(Common_rust_dir)\n",
        "Blight_fnames = os.listdir(Blight_dir)\n",
        "Healthy_fnames = os.listdir(Healthy_dir)\n",
        "Gray_leaf_spot_fnames = os.listdir(Gray_leaf_spot_dir)"
      ],
      "metadata": {
        "id": "3MjeW4CO5f0G"
      },
      "execution_count": 8,
      "outputs": []
    },
    {
      "cell_type": "code",
      "source": [
        "print('Total Gambar Common rust :', len(os.listdir(Common_rust_dir)))\n",
        "print('Total Gambar Blight :', len(os.listdir(Blight_dir)))\n",
        "print('Total Gambar Healty :', len(os.listdir(Healthy_dir)))\n",
        "print('Total Gambar Gray Leaf Spot :', len(os.listdir(Gray_leaf_spot_dir)))"
      ],
      "metadata": {
        "colab": {
          "base_uri": "https://localhost:8080/"
        },
        "id": "r3eLGlfb7Lsp",
        "outputId": "ff343b69-d78b-43ce-e1d0-7ce15ec405b1"
      },
      "execution_count": 9,
      "outputs": [
        {
          "output_type": "stream",
          "name": "stdout",
          "text": [
            "Total Gambar Common rust : 130\n",
            "Total Gambar Blight : 114\n",
            "Total Gambar Healty : 116\n",
            "Total Gambar Gray Leaf Spot : 57\n"
          ]
        }
      ]
    },
    {
      "cell_type": "code",
      "source": [
        "img_height = 224\n",
        "img_width = 224\n",
        "img_channels = 3\n",
        "num_epochs= 10\n",
        "\n",
        "datagen = ImageDataGenerator( rescale = 1.0/255.,\n",
        "                             validation_split=0.3\n",
        "                            )\n",
        "\n",
        "train_generator = datagen.flow_from_directory(\n",
        "    base_dir,\n",
        "    target_size=(img_height, img_width),\n",
        "    class_mode='categorical',\n",
        "    subset='training'\n",
        ")\n",
        "\n",
        "validation_generator = datagen.flow_from_directory(\n",
        "    base_dir,\n",
        "    target_size=(img_height, img_width),\n",
        "    class_mode='categorical',\n",
        "    subset='validation'\n",
        ")"
      ],
      "metadata": {
        "colab": {
          "base_uri": "https://localhost:8080/"
        },
        "id": "eNYwO2jB76bD",
        "outputId": "1e6129da-c3ad-4d5c-82ce-c4c8609b9e2a"
      },
      "execution_count": 31,
      "outputs": [
        {
          "output_type": "stream",
          "name": "stdout",
          "text": [
            "Found 293 images belonging to 4 classes.\n",
            "Found 124 images belonging to 4 classes.\n"
          ]
        }
      ]
    },
    {
      "cell_type": "code",
      "source": [
        "# Initialize ResNet50 base model\n",
        "resnet50_base = ResNet50(weights='imagenet', include_top=False, input_shape=(img_height, img_width, img_channels))\n",
        "\n",
        "# Freeze the convolutional base\n",
        "for layer in resnet50_base.layers:\n",
        "    layer.trainable = False\n",
        "\n",
        "# Create a new model\n",
        "model = Sequential()\n",
        "model.add(resnet50_base)\n",
        "model.add(Flatten())\n",
        "model.add(Dense(256, activation='relu'))\n",
        "model.add(Dense(4, activation='sigmoid'))"
      ],
      "metadata": {
        "id": "v-NwBGNC_qwl"
      },
      "execution_count": 32,
      "outputs": []
    },
    {
      "cell_type": "code",
      "source": [
        "model.compile(optimizer='Adam', loss='categorical_crossentropy', metrics=['accuracy'])"
      ],
      "metadata": {
        "id": "pkTGNmAnA7SG"
      },
      "execution_count": 34,
      "outputs": []
    },
    {
      "cell_type": "code",
      "source": [
        "history = model.fit(train_generator, epochs=num_epochs, validation_data=validation_generator)"
      ],
      "metadata": {
        "colab": {
          "base_uri": "https://localhost:8080/"
        },
        "id": "dlZt3jK2BWzy",
        "outputId": "f27a191b-821d-4d24-e650-7accc385a8c6"
      },
      "execution_count": 35,
      "outputs": [
        {
          "output_type": "stream",
          "name": "stdout",
          "text": [
            "Epoch 1/10\n",
            "10/10 [==============================] - 12s 814ms/step - loss: 11.8232 - accuracy: 0.3072 - val_loss: 6.5028 - val_accuracy: 0.2742\n",
            "Epoch 2/10\n",
            "10/10 [==============================] - 5s 562ms/step - loss: 3.3689 - accuracy: 0.3413 - val_loss: 2.4144 - val_accuracy: 0.3306\n",
            "Epoch 3/10\n",
            "10/10 [==============================] - 5s 471ms/step - loss: 3.2569 - accuracy: 0.3754 - val_loss: 3.4651 - val_accuracy: 0.3306\n",
            "Epoch 4/10\n",
            "10/10 [==============================] - 5s 497ms/step - loss: 2.1802 - accuracy: 0.4471 - val_loss: 2.1011 - val_accuracy: 0.5161\n",
            "Epoch 5/10\n",
            "10/10 [==============================] - 5s 542ms/step - loss: 1.7862 - accuracy: 0.4881 - val_loss: 2.4606 - val_accuracy: 0.4758\n",
            "Epoch 6/10\n",
            "10/10 [==============================] - 5s 465ms/step - loss: 1.8208 - accuracy: 0.5017 - val_loss: 1.7270 - val_accuracy: 0.5726\n",
            "Epoch 7/10\n",
            "10/10 [==============================] - 5s 547ms/step - loss: 1.3185 - accuracy: 0.5256 - val_loss: 1.3314 - val_accuracy: 0.6129\n",
            "Epoch 8/10\n",
            "10/10 [==============================] - 5s 521ms/step - loss: 1.0274 - accuracy: 0.5870 - val_loss: 0.8691 - val_accuracy: 0.6694\n",
            "Epoch 9/10\n",
            "10/10 [==============================] - 5s 459ms/step - loss: 1.1188 - accuracy: 0.5939 - val_loss: 1.1876 - val_accuracy: 0.6774\n",
            "Epoch 10/10\n",
            "10/10 [==============================] - 6s 573ms/step - loss: 1.1883 - accuracy: 0.5802 - val_loss: 1.0201 - val_accuracy: 0.6452\n"
          ]
        }
      ]
    },
    {
      "cell_type": "code",
      "source": [
        "import numpy as np\n",
        "from sklearn.metrics import confusion_matrix, classification_report\n",
        "import matplotlib.pyplot as plt\n",
        "import seaborn as sns\n",
        "\n",
        "Y_pred = model.predict(validation_generator)\n",
        "y_pred = np.argmax(Y_pred, axis=1)\n",
        "\n",
        "y_true = validation_generator.classes\n",
        "\n",
        "conf_matrix = confusion_matrix(y_true, y_pred)\n",
        "\n",
        "# Tampilkan confusion matrix menggunakan seaborn heatmap\n",
        "plt.figure(figsize=(4, 4))\n",
        "sns.heatmap(conf_matrix, annot=True, fmt='d', cmap='Blues', xticklabels=validation_generator.class_indices.keys(), yticklabels=validation_generator.class_indices.keys())\n",
        "plt.xlabel('Predicted')\n",
        "plt.ylabel('True')\n",
        "plt.title('Confusion Matrix')\n",
        "plt.show()\n",
        "\n",
        "print('\\nClassification Report:\\n', classification_report(y_true, y_pred, target_names=validation_generator.class_indices.keys()))"
      ],
      "metadata": {
        "colab": {
          "base_uri": "https://localhost:8080/",
          "height": 742
        },
        "id": "VUA9DXzmEHGb",
        "outputId": "ae83d4cf-0218-4c29-9379-acc8e3aa8012"
      },
      "execution_count": 36,
      "outputs": [
        {
          "output_type": "stream",
          "name": "stdout",
          "text": [
            "4/4 [==============================] - 2s 213ms/step\n"
          ]
        },
        {
          "output_type": "display_data",
          "data": {
            "text/plain": [
              "<Figure size 400x400 with 2 Axes>"
            ],
            "image/png": "[encoded data removed]"
          },
          "metadata": {}
        },
        {
          "output_type": "stream",
          "name": "stdout",
          "text": [
            "\n",
            "Classification Report:\n",
            "                 precision    recall  f1-score   support\n",
            "\n",
            "        Blight       0.28      0.32      0.30        34\n",
            "   Common_rust       0.33      0.21      0.25        39\n",
            "Gray_leaf_spot       0.00      0.00      0.00        17\n",
            "       Healthy       0.30      0.50      0.37        34\n",
            "\n",
            "      accuracy                           0.29       124\n",
            "     macro avg       0.23      0.26      0.23       124\n",
            "  weighted avg       0.26      0.29      0.26       124\n",
            "\n"
          ]
        }
      ]
    }
  ]
}