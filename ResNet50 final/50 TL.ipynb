{
  "nbformat": 4,
  "nbformat_minor": 0,
  "metadata": {
    "colab": {
      "provenance": [],
      "gpuType": "T4",
      "authorship_tag": "ABX9TyNPTOs8z7xm/2VZ5unz8mzS",
      "include_colab_link": true
    },
    "kernelspec": {
      "name": "python3",
      "display_name": "Python 3"
    },
    "language_info": {
      "name": "python"
    },
    "accelerator": "GPU"
  },
  "cells": [
    {
      "cell_type": "markdown",
      "metadata": {
        "id": "view-in-github",
        "colab_type": "text"
      },
      "source": [
        "<a href=\"https://colab.research.google.com/github/Smjfirna/Arsitektur-Compration/blob/main/ResNet50%20final/50.ipynb\" target=\"_parent\"><img src=\"https://colab.research.google.com/assets/colab-badge.svg\" alt=\"Open In Colab\"/></a>"
      ]
    },
    {
      "cell_type": "code",
      "source": [
        "#Preprocessing\n",
        "import os\n",
        "import cv2\n",
        "import numpy as np\n",
        "from tqdm import tqdm\n",
        "from sklearn.model_selection import train_test_split\n",
        "from sklearn.preprocessing import LabelEncoder\n",
        "from keras.utils import to_categorical\n",
        "\n",
        "#Model dan Augmentasi\n",
        "import tensorflow as tf\n",
        "from tensorflow.keras.preprocessing.image import ImageDataGenerator\n",
        "from tensorflow.keras.models import Sequential\n",
        "from tensorflow.keras import layers, Model, regularizers\n",
        "from tensorflow.keras.callbacks import EarlyStopping\n",
        "from tensorflow.keras.layers import Conv2D, MaxPooling2D, Flatten, Dense, GlobalAveragePooling2D, Dropout\n",
        "import os\n",
        "from tensorflow.keras.optimizers import Adam\n",
        "from tensorflow.keras.optimizers import RMSprop\n",
        "from keras.applications import ResNet50\n",
        "\n",
        "# Evaluasi\n",
        "import torch\n",
        "import torchvision.models as models\n",
        "from thop import profile\n",
        "from sklearn.metrics import confusion_matrix, classification_report\n",
        "\n",
        "#Visualisasi\n",
        "import matplotlib.pyplot as plt\n",
        "import seaborn as sns"
      ],
      "metadata": {
        "id": "NMN3beIVALVJ"
      },
      "execution_count": 1,
      "outputs": []
    },
    {
      "cell_type": "code",
      "execution_count": 2,
      "metadata": {
        "colab": {
          "base_uri": "https://localhost:8080/",
          "height": 56
        },
        "id": "GK3MPeDN_Ofu",
        "outputId": "5442c9c1-2c4a-48a8-9757-11b3c81b746d"
      },
      "outputs": [
        {
          "output_type": "display_data",
          "data": {
            "text/plain": [
              "<IPython.core.display.HTML object>"
            ],
            "text/html": [
              "\n",
              "     <input type=\"file\" id=\"files-c862cf52-2431-4f7c-bdfe-db56a05fab08\" name=\"files[]\" multiple disabled\n",
              "        style=\"border:none\" />\n",
              "     <output id=\"result-c862cf52-2431-4f7c-bdfe-db56a05fab08\">\n",
              "      Upload widget is only available when the cell has been executed in the\n",
              "      current browser session. Please rerun this cell to enable.\n",
              "      </output>\n",
              "      <script>// Copyright 2017 Google LLC\n",
              "//\n",
              "// Licensed under the Apache License, Version 2.0 (the \"License\");\n",
              "// you may not use this file except in compliance with the License.\n",
              "// You may obtain a copy of the License at\n",
              "//\n",
              "//      http://www.apache.org/licenses/LICENSE-2.0\n",
              "//\n",
              "// Unless required by applicable law or agreed to in writing, software\n",
              "// distributed under the License is distributed on an \"AS IS\" BASIS,\n",
              "// WITHOUT WARRANTIES OR CONDITIONS OF ANY KIND, either express or implied.\n",
              "// See the License for the specific language governing permissions and\n",
              "// limitations under the License.\n",
              "\n",
              "/**\n",
              " * @fileoverview Helpers for google.colab Python module.\n",
              " */\n",
              "(function(scope) {\n",
              "function span(text, styleAttributes = {}) {\n",
              "  const element = document.createElement('span');\n",
              "  element.textContent = text;\n",
              "  for (const key of Object.keys(styleAttributes)) {\n",
              "    element.style[key] = styleAttributes[key];\n",
              "  }\n",
              "  return element;\n",
              "}\n",
              "\n",
              "// Max number of bytes which will be uploaded at a time.\n",
              "const MAX_PAYLOAD_SIZE = 100 * 1024;\n",
              "\n",
              "function _uploadFiles(inputId, outputId) {\n",
              "  const steps = uploadFilesStep(inputId, outputId);\n",
              "  const outputElement = document.getElementById(outputId);\n",
              "  // Cache steps on the outputElement to make it available for the next call\n",
              "  // to uploadFilesContinue from Python.\n",
              "  outputElement.steps = steps;\n",
              "\n",
              "  return _uploadFilesContinue(outputId);\n",
              "}\n",
              "\n",
              "// This is roughly an async generator (not supported in the browser yet),\n",
              "// where there are multiple asynchronous steps and the Python side is going\n",
              "// to poll for completion of each step.\n",
              "// This uses a Promise to block the python side on completion of each step,\n",
              "// then passes the result of the previous step as the input to the next step.\n",
              "function _uploadFilesContinue(outputId) {\n",
              "  const outputElement = document.getElementById(outputId);\n",
              "  const steps = outputElement.steps;\n",
              "\n",
              "  const next = steps.next(outputElement.lastPromiseValue);\n",
              "  return Promise.resolve(next.value.promise).then((value) => {\n",
              "    // Cache the last promise value to make it available to the next\n",
              "    // step of the generator.\n",
              "    outputElement.lastPromiseValue = value;\n",
              "    return next.value.response;\n",
              "  });\n",
              "}\n",
              "\n",
              "/**\n",
              " * Generator function which is called between each async step of the upload\n",
              " * process.\n",
              " * @param {string} inputId Element ID of the input file picker element.\n",
              " * @param {string} outputId Element ID of the output display.\n",
              " * @return {!Iterable<!Object>} Iterable of next steps.\n",
              " */\n",
              "function* uploadFilesStep(inputId, outputId) {\n",
              "  const inputElement = document.getElementById(inputId);\n",
              "  inputElement.disabled = false;\n",
              "\n",
              "  const outputElement = document.getElementById(outputId);\n",
              "  outputElement.innerHTML = '';\n",
              "\n",
              "  const pickedPromise = new Promise((resolve) => {\n",
              "    inputElement.addEventListener('change', (e) => {\n",
              "      resolve(e.target.files);\n",
              "    });\n",
              "  });\n",
              "\n",
              "  const cancel = document.createElement('button');\n",
              "  inputElement.parentElement.appendChild(cancel);\n",
              "  cancel.textContent = 'Cancel upload';\n",
              "  const cancelPromise = new Promise((resolve) => {\n",
              "    cancel.onclick = () => {\n",
              "      resolve(null);\n",
              "    };\n",
              "  });\n",
              "\n",
              "  // Wait for the user to pick the files.\n",
              "  const files = yield {\n",
              "    promise: Promise.race([pickedPromise, cancelPromise]),\n",
              "    response: {\n",
              "      action: 'starting',\n",
              "    }\n",
              "  };\n",
              "\n",
              "  cancel.remove();\n",
              "\n",
              "  // Disable the input element since further picks are not allowed.\n",
              "  inputElement.disabled = true;\n",
              "\n",
              "  if (!files) {\n",
              "    return {\n",
              "      response: {\n",
              "        action: 'complete',\n",
              "      }\n",
              "    };\n",
              "  }\n",
              "\n",
              "  for (const file of files) {\n",
              "    const li = document.createElement('li');\n",
              "    li.append(span(file.name, {fontWeight: 'bold'}));\n",
              "    li.append(span(\n",
              "        `(${file.type || 'n/a'}) - ${file.size} bytes, ` +\n",
              "        `last modified: ${\n",
              "            file.lastModifiedDate ? file.lastModifiedDate.toLocaleDateString() :\n",
              "                                    'n/a'} - `));\n",
              "    const percent = span('0% done');\n",
              "    li.appendChild(percent);\n",
              "\n",
              "    outputElement.appendChild(li);\n",
              "\n",
              "    const fileDataPromise = new Promise((resolve) => {\n",
              "      const reader = new FileReader();\n",
              "      reader.onload = (e) => {\n",
              "        resolve(e.target.result);\n",
              "      };\n",
              "      reader.readAsArrayBuffer(file);\n",
              "    });\n",
              "    // Wait for the data to be ready.\n",
              "    let fileData = yield {\n",
              "      promise: fileDataPromise,\n",
              "      response: {\n",
              "        action: 'continue',\n",
              "      }\n",
              "    };\n",
              "\n",
              "    // Use a chunked sending to avoid message size limits. See b/62115660.\n",
              "    let position = 0;\n",
              "    do {\n",
              "      const length = Math.min(fileData.byteLength - position, MAX_PAYLOAD_SIZE);\n",
              "      const chunk = new Uint8Array(fileData, position, length);\n",
              "      position += length;\n",
              "\n",
              "      const base64 = btoa(String.fromCharCode.apply(null, chunk));\n",
              "      yield {\n",
              "        response: {\n",
              "          action: 'append',\n",
              "          file: file.name,\n",
              "          data: base64,\n",
              "        },\n",
              "      };\n",
              "\n",
              "      let percentDone = fileData.byteLength === 0 ?\n",
              "          100 :\n",
              "          Math.round((position / fileData.byteLength) * 100);\n",
              "      percent.textContent = `${percentDone}% done`;\n",
              "\n",
              "    } while (position < fileData.byteLength);\n",
              "  }\n",
              "\n",
              "  // All done.\n",
              "  yield {\n",
              "    response: {\n",
              "      action: 'complete',\n",
              "    }\n",
              "  };\n",
              "}\n",
              "\n",
              "scope.google = scope.google || {};\n",
              "scope.google.colab = scope.google.colab || {};\n",
              "scope.google.colab._files = {\n",
              "  _uploadFiles,\n",
              "  _uploadFilesContinue,\n",
              "};\n",
              "})(self);\n",
              "</script> "
            ]
          },
          "metadata": {}
        },
        {
          "output_type": "execute_result",
          "data": {
            "text/plain": [
              "{}"
            ]
          },
          "metadata": {},
          "execution_count": 2
        }
      ],
      "source": [
        "from google.colab import files\n",
        "files.upload()"
      ]
    },
    {
      "cell_type": "code",
      "source": [
        "!mkdir -p ~/.kaggle\n",
        "!cp kaggle.json ~/.kaggle/\n",
        "!chmod 600 ~/.kaggle/kaggle.json"
      ],
      "metadata": {
        "id": "Y9Kia11G_5Si"
      },
      "execution_count": 3,
      "outputs": []
    },
    {
      "cell_type": "code",
      "source": [
        "##link dataset in Kaggle.com\n",
        "!kaggle datasets download -d smaranjitghose/corn-or-maize-leaf-disease-dataset"
      ],
      "metadata": {
        "colab": {
          "base_uri": "https://localhost:8080/"
        },
        "id": "apfKVlxj_8FJ",
        "outputId": "7e33b33e-7d74-455e-f80e-15fe9b833527"
      },
      "execution_count": 4,
      "outputs": [
        {
          "output_type": "stream",
          "name": "stdout",
          "text": [
            "corn-or-maize-leaf-disease-dataset.zip: Skipping, found more recently modified local copy (use --force to force download)\n"
          ]
        }
      ]
    },
    {
      "cell_type": "code",
      "source": [
        "!unzip -q corn-or-maize-leaf-disease-dataset.zip -d /content"
      ],
      "metadata": {
        "id": "ixMUoB2rAAd3"
      },
      "execution_count": 7,
      "outputs": []
    },
    {
      "cell_type": "code",
      "source": [
        "dataset_dir = '/content/data'"
      ],
      "metadata": {
        "id": "pZ8IerIQAGFO"
      },
      "execution_count": 2,
      "outputs": []
    },
    {
      "cell_type": "code",
      "source": [
        "print(os.listdir(dataset_dir))"
      ],
      "metadata": {
        "colab": {
          "base_uri": "https://localhost:8080/"
        },
        "id": "9wwka8QaAIcj",
        "outputId": "3b5b5183-1431-48d0-f656-00cba106a949"
      },
      "execution_count": 3,
      "outputs": [
        {
          "output_type": "stream",
          "name": "stdout",
          "text": [
            "['Gray_Leaf_Spot', 'Healthy', 'Common_Rust', 'Blight']\n"
          ]
        }
      ]
    },
    {
      "cell_type": "code",
      "source": [
        "IMAGE_SIZE_resnet50 = 224"
      ],
      "metadata": {
        "id": "_UCEuA-hAPSa"
      },
      "execution_count": 4,
      "outputs": []
    },
    {
      "cell_type": "code",
      "source": [
        "def make_data(label, DIR, img_list, label_list):\n",
        "    for img in tqdm(os.listdir(DIR)):\n",
        "        path = os.path.join(DIR, img)\n",
        "        img = cv2.imread(path, cv2.IMREAD_COLOR)\n",
        "        img = cv2.resize(img, (IMAGE_SIZE_resnet50, IMAGE_SIZE_resnet50))\n",
        "        img_list.append(np.array(img))\n",
        "        label_list.append(str(label))"
      ],
      "metadata": {
        "id": "B3menIgvARk5"
      },
      "execution_count": 5,
      "outputs": []
    },
    {
      "cell_type": "code",
      "source": [
        "X = []\n",
        "Z = []"
      ],
      "metadata": {
        "id": "Jn6gWefxATyU"
      },
      "execution_count": 6,
      "outputs": []
    },
    {
      "cell_type": "code",
      "source": [
        "for i, class_name in enumerate(['Common_Rust', 'Healthy', 'Gray_Leaf_Spot', 'Blight']):\n",
        "    class_dir = os.path.join(dataset_dir, class_name)\n",
        "    make_data(class_name, class_dir, X, Z)"
      ],
      "metadata": {
        "colab": {
          "base_uri": "https://localhost:8080/"
        },
        "id": "S9-RQTGJAWCk",
        "outputId": "c80cf7ed-6f1f-499b-d11e-1f1419af5855"
      },
      "execution_count": 7,
      "outputs": [
        {
          "output_type": "stream",
          "name": "stderr",
          "text": [
            "100%|██████████| 1306/1306 [00:07<00:00, 178.33it/s]\n",
            "100%|██████████| 1162/1162 [00:01<00:00, 668.73it/s]\n",
            "100%|██████████| 574/574 [00:01<00:00, 308.73it/s]\n",
            "100%|██████████| 1146/1146 [00:05<00:00, 200.58it/s]\n"
          ]
        }
      ]
    },
    {
      "cell_type": "code",
      "source": [
        "# Menghitung jumlah data untuk setiap kelas\n",
        "class_counts = {class_name: Z.count(class_name) for class_name in set(Z)}\n",
        "\n",
        "# Menampilkan visualisasi jumlah data\n",
        "plt.figure(figsize=(6, 4))\n",
        "plt.bar(class_counts.keys(), class_counts.values())\n",
        "plt.xlabel('Class')\n",
        "plt.ylabel('Count')\n",
        "plt.title('Jumlah Data Setiap Kelas')\n",
        "plt.show()"
      ],
      "metadata": {
        "colab": {
          "base_uri": "https://localhost:8080/",
          "height": 410
        },
        "id": "-IcXHIM8Akcw",
        "outputId": "4c04de27-fd34-4942-a2a5-2c492385f878"
      },
      "execution_count": 8,
      "outputs": [
        {
          "output_type": "display_data",
          "data": {
            "text/plain": [
              "<Figure size 600x400 with 1 Axes>"
            ],
            "image/png": "[encoded data removed]"
          },
          "metadata": {}
        }
      ]
    },
    {
      "cell_type": "code",
      "source": [
        "le = LabelEncoder()\n",
        "Y = le.fit_transform(Z)\n",
        "Y = to_categorical(Y, num_classes=len(le.classes_))\n",
        "\n",
        "# Konversi ke array numpy\n",
        "X = np.array(X)\n",
        "\n",
        "# Memisahkan data menjadi data latih dan data uji\n",
        "X_train, X_test, Y_train, Y_test = train_test_split(X, Y, test_size=0.2, random_state=42)\n",
        "\n",
        "print(\"Jumlah Data Train adalah :\", len(X_train))\n",
        "print(\"Jumlah Data Test adalah :\", len(X_test))"
      ],
      "metadata": {
        "colab": {
          "base_uri": "https://localhost:8080/"
        },
        "id": "OI7kvVbXAqko",
        "outputId": "dac0a753-67cc-4710-c7e7-85d8531345d5"
      },
      "execution_count": 9,
      "outputs": [
        {
          "output_type": "stream",
          "name": "stdout",
          "text": [
            "Jumlah Data Train adalah : 3350\n",
            "Jumlah Data Test adalah : 838\n"
          ]
        }
      ]
    },
    {
      "cell_type": "code",
      "source": [
        "datagen = ImageDataGenerator(\n",
        "    rotation_range=20,\n",
        "    zoom_range=0.2,\n",
        "    horizontal_flip=True,\n",
        "    vertical_flip=True\n",
        ")\n",
        "\n",
        "datagen.fit(X_train)"
      ],
      "metadata": {
        "id": "ue5XLCIlA2ld"
      },
      "execution_count": 10,
      "outputs": []
    },
    {
      "cell_type": "code",
      "source": [
        "resnet50 = ResNet50(include_top=False, weights='imagenet', input_shape=(IMAGE_SIZE_resnet50, IMAGE_SIZE_resnet50, 3))\n",
        "\n",
        "# Membuat model Sequential\n",
        "model_resnet50ver2 = Sequential()\n",
        "model_resnet50ver2.add(resnet50)\n",
        "model_resnet50ver2.add(GlobalAveragePooling2D())\n",
        "model_resnet50ver2.add(Dense(4, activation='softmax'))\n",
        "\n",
        "# Membekukan layer-layer ResNet50 yang telah dilatih\n",
        "for layer in resnet50.layers:\n",
        "    layer.trainable = False\n",
        "\n",
        "model_resnet50ver2.compile(optimizer=Adam(learning_rate=1e-4), loss='categorical_crossentropy', metrics=['accuracy'])\n",
        "\n",
        "# Menampilkan summary dari model\n",
        "model_resnet50ver2.summary()\n",
        "\n",
        "# Melatih model dengan data latih dan validasi\n",
        "history_resnet50ver2 = model_resnet50ver2.fit(datagen.flow(X_train, Y_train), epochs=50, validation_data=(X_test, Y_test))"
      ],
      "metadata": {
        "id": "qg6h8yY_A62R",
        "colab": {
          "base_uri": "https://localhost:8080/"
        },
        "outputId": "55352aee-8af4-43ab-cff9-e17917083cff"
      },
      "execution_count": 11,
      "outputs": [
        {
          "output_type": "stream",
          "name": "stdout",
          "text": [
            "Model: \"sequential\"\n",
            "_________________________________________________________________\n",
            " Layer (type)                Output Shape              Param #   \n",
            "=================================================================\n",
            " resnet50 (Functional)       (None, 7, 7, 2048)        23587712  \n",
            "                                                                 \n",
            " global_average_pooling2d (  (None, 2048)              0         \n",
            " GlobalAveragePooling2D)                                         \n",
            "                                                                 \n",
            " dense (Dense)               (None, 4)                 8196      \n",
            "                                                                 \n",
            "=================================================================\n",
            "Total params: 23595908 (90.01 MB)\n",
            "Trainable params: 8196 (32.02 KB)\n",
            "Non-trainable params: 23587712 (89.98 MB)\n",
            "_________________________________________________________________\n",
            "Epoch 1/50\n",
            "105/105 [==============================] - 54s 437ms/step - loss: 1.2132 - accuracy: 0.5024 - val_loss: 0.6600 - val_accuracy: 0.7697\n",
            "Epoch 2/50\n",
            "105/105 [==============================] - 44s 415ms/step - loss: 0.5883 - accuracy: 0.8012 - val_loss: 0.4133 - val_accuracy: 0.8711\n",
            "Epoch 3/50\n",
            "105/105 [==============================] - 41s 391ms/step - loss: 0.4246 - accuracy: 0.8609 - val_loss: 0.3319 - val_accuracy: 0.8807\n",
            "Epoch 4/50\n",
            "105/105 [==============================] - 42s 395ms/step - loss: 0.3629 - accuracy: 0.8776 - val_loss: 0.2792 - val_accuracy: 0.8962\n",
            "Epoch 5/50\n",
            "105/105 [==============================] - 42s 395ms/step - loss: 0.3142 - accuracy: 0.8940 - val_loss: 0.2490 - val_accuracy: 0.9057\n",
            "Epoch 6/50\n",
            "105/105 [==============================] - 41s 392ms/step - loss: 0.2858 - accuracy: 0.9057 - val_loss: 0.2320 - val_accuracy: 0.9093\n",
            "Epoch 7/50\n",
            "105/105 [==============================] - 41s 393ms/step - loss: 0.2749 - accuracy: 0.8994 - val_loss: 0.2111 - val_accuracy: 0.9165\n",
            "Epoch 8/50\n",
            "105/105 [==============================] - 41s 389ms/step - loss: 0.2598 - accuracy: 0.9090 - val_loss: 0.2002 - val_accuracy: 0.9200\n",
            "Epoch 9/50\n",
            "105/105 [==============================] - 41s 393ms/step - loss: 0.2413 - accuracy: 0.9167 - val_loss: 0.1912 - val_accuracy: 0.9248\n",
            "Epoch 10/50\n",
            "105/105 [==============================] - 41s 390ms/step - loss: 0.2334 - accuracy: 0.9164 - val_loss: 0.1840 - val_accuracy: 0.9260\n",
            "Epoch 11/50\n",
            "105/105 [==============================] - 41s 391ms/step - loss: 0.2232 - accuracy: 0.9227 - val_loss: 0.1769 - val_accuracy: 0.9284\n",
            "Epoch 12/50\n",
            "105/105 [==============================] - 42s 399ms/step - loss: 0.2132 - accuracy: 0.9245 - val_loss: 0.1714 - val_accuracy: 0.9284\n",
            "Epoch 13/50\n",
            "105/105 [==============================] - 41s 391ms/step - loss: 0.2115 - accuracy: 0.9254 - val_loss: 0.1685 - val_accuracy: 0.9368\n",
            "Epoch 14/50\n",
            "105/105 [==============================] - 41s 391ms/step - loss: 0.2061 - accuracy: 0.9239 - val_loss: 0.1677 - val_accuracy: 0.9272\n",
            "Epoch 15/50\n",
            "105/105 [==============================] - 42s 395ms/step - loss: 0.1984 - accuracy: 0.9281 - val_loss: 0.1604 - val_accuracy: 0.9356\n",
            "Epoch 16/50\n",
            "105/105 [==============================] - 41s 394ms/step - loss: 0.1902 - accuracy: 0.9293 - val_loss: 0.1573 - val_accuracy: 0.9356\n",
            "Epoch 17/50\n",
            "105/105 [==============================] - 41s 395ms/step - loss: 0.1912 - accuracy: 0.9301 - val_loss: 0.1544 - val_accuracy: 0.9379\n",
            "Epoch 18/50\n",
            "105/105 [==============================] - 41s 391ms/step - loss: 0.1861 - accuracy: 0.9325 - val_loss: 0.1520 - val_accuracy: 0.9427\n",
            "Epoch 19/50\n",
            "105/105 [==============================] - 41s 387ms/step - loss: 0.1810 - accuracy: 0.9328 - val_loss: 0.1504 - val_accuracy: 0.9427\n",
            "Epoch 20/50\n",
            "105/105 [==============================] - 41s 391ms/step - loss: 0.1768 - accuracy: 0.9394 - val_loss: 0.1490 - val_accuracy: 0.9439\n",
            "Epoch 21/50\n",
            "105/105 [==============================] - 41s 387ms/step - loss: 0.1735 - accuracy: 0.9394 - val_loss: 0.1464 - val_accuracy: 0.9427\n",
            "Epoch 22/50\n",
            "105/105 [==============================] - 41s 388ms/step - loss: 0.1800 - accuracy: 0.9331 - val_loss: 0.1473 - val_accuracy: 0.9415\n",
            "Epoch 23/50\n",
            "105/105 [==============================] - 41s 390ms/step - loss: 0.1669 - accuracy: 0.9397 - val_loss: 0.1445 - val_accuracy: 0.9499\n",
            "Epoch 24/50\n",
            "105/105 [==============================] - 41s 395ms/step - loss: 0.1628 - accuracy: 0.9424 - val_loss: 0.1429 - val_accuracy: 0.9451\n",
            "Epoch 25/50\n",
            "105/105 [==============================] - 41s 386ms/step - loss: 0.1679 - accuracy: 0.9400 - val_loss: 0.1495 - val_accuracy: 0.9379\n",
            "Epoch 26/50\n",
            "105/105 [==============================] - 41s 390ms/step - loss: 0.1555 - accuracy: 0.9424 - val_loss: 0.1400 - val_accuracy: 0.9427\n",
            "Epoch 27/50\n",
            "105/105 [==============================] - 41s 389ms/step - loss: 0.1553 - accuracy: 0.9403 - val_loss: 0.1397 - val_accuracy: 0.9463\n",
            "Epoch 28/50\n",
            "105/105 [==============================] - 41s 388ms/step - loss: 0.1575 - accuracy: 0.9433 - val_loss: 0.1383 - val_accuracy: 0.9487\n",
            "Epoch 29/50\n",
            "105/105 [==============================] - 41s 390ms/step - loss: 0.1569 - accuracy: 0.9424 - val_loss: 0.1371 - val_accuracy: 0.9487\n",
            "Epoch 30/50\n",
            "105/105 [==============================] - 41s 391ms/step - loss: 0.1480 - accuracy: 0.9469 - val_loss: 0.1366 - val_accuracy: 0.9475\n",
            "Epoch 31/50\n",
            "105/105 [==============================] - 41s 390ms/step - loss: 0.1530 - accuracy: 0.9430 - val_loss: 0.1365 - val_accuracy: 0.9487\n",
            "Epoch 32/50\n",
            "105/105 [==============================] - 41s 388ms/step - loss: 0.1505 - accuracy: 0.9430 - val_loss: 0.1330 - val_accuracy: 0.9487\n",
            "Epoch 33/50\n",
            "105/105 [==============================] - 41s 392ms/step - loss: 0.1520 - accuracy: 0.9421 - val_loss: 0.1328 - val_accuracy: 0.9499\n",
            "Epoch 34/50\n",
            "105/105 [==============================] - 41s 388ms/step - loss: 0.1455 - accuracy: 0.9475 - val_loss: 0.1325 - val_accuracy: 0.9475\n",
            "Epoch 35/50\n",
            "105/105 [==============================] - 41s 388ms/step - loss: 0.1456 - accuracy: 0.9442 - val_loss: 0.1324 - val_accuracy: 0.9487\n",
            "Epoch 36/50\n",
            "105/105 [==============================] - 41s 389ms/step - loss: 0.1392 - accuracy: 0.9519 - val_loss: 0.1315 - val_accuracy: 0.9475\n",
            "Epoch 37/50\n",
            "105/105 [==============================] - 41s 389ms/step - loss: 0.1446 - accuracy: 0.9442 - val_loss: 0.1303 - val_accuracy: 0.9499\n",
            "Epoch 38/50\n",
            "105/105 [==============================] - 41s 389ms/step - loss: 0.1371 - accuracy: 0.9484 - val_loss: 0.1316 - val_accuracy: 0.9499\n",
            "Epoch 39/50\n",
            "105/105 [==============================] - 41s 391ms/step - loss: 0.1376 - accuracy: 0.9513 - val_loss: 0.1303 - val_accuracy: 0.9523\n",
            "Epoch 40/50\n",
            "105/105 [==============================] - 41s 389ms/step - loss: 0.1371 - accuracy: 0.9475 - val_loss: 0.1293 - val_accuracy: 0.9511\n",
            "Epoch 41/50\n",
            "105/105 [==============================] - 41s 388ms/step - loss: 0.1386 - accuracy: 0.9469 - val_loss: 0.1305 - val_accuracy: 0.9535\n",
            "Epoch 42/50\n",
            "105/105 [==============================] - 41s 389ms/step - loss: 0.1335 - accuracy: 0.9531 - val_loss: 0.1286 - val_accuracy: 0.9535\n",
            "Epoch 43/50\n",
            "105/105 [==============================] - 41s 389ms/step - loss: 0.1311 - accuracy: 0.9519 - val_loss: 0.1349 - val_accuracy: 0.9511\n",
            "Epoch 44/50\n",
            "105/105 [==============================] - 41s 388ms/step - loss: 0.1364 - accuracy: 0.9490 - val_loss: 0.1271 - val_accuracy: 0.9523\n",
            "Epoch 45/50\n",
            "105/105 [==============================] - 41s 390ms/step - loss: 0.1331 - accuracy: 0.9481 - val_loss: 0.1282 - val_accuracy: 0.9523\n",
            "Epoch 46/50\n",
            "105/105 [==============================] - 41s 389ms/step - loss: 0.1297 - accuracy: 0.9507 - val_loss: 0.1277 - val_accuracy: 0.9475\n",
            "Epoch 47/50\n",
            "105/105 [==============================] - 41s 390ms/step - loss: 0.1330 - accuracy: 0.9504 - val_loss: 0.1271 - val_accuracy: 0.9523\n",
            "Epoch 48/50\n",
            "105/105 [==============================] - 41s 391ms/step - loss: 0.1320 - accuracy: 0.9531 - val_loss: 0.1280 - val_accuracy: 0.9523\n",
            "Epoch 49/50\n",
            "105/105 [==============================] - 41s 393ms/step - loss: 0.1268 - accuracy: 0.9543 - val_loss: 0.1265 - val_accuracy: 0.9523\n",
            "Epoch 50/50\n",
            "105/105 [==============================] - 41s 387ms/step - loss: 0.1247 - accuracy: 0.9525 - val_loss: 0.1302 - val_accuracy: 0.9558\n"
          ]
        }
      ]
    },
    {
      "cell_type": "code",
      "source": [
        "# Menggunakan model_resnet50ver2 untuk membuat prediksi pada data uji\n",
        "Y_pred = model_resnet50ver2.predict(X_test)\n",
        "# Mengambil indeks kelas dengan probabilitas tertinggi sebagai prediksi\n",
        "Y_pred_classes = np.argmax(Y_pred, axis=1)\n",
        "# Mengambil indeks kelas dengan probabilitas tertinggi sebagai label sebenarnya\n",
        "Y_true = np.argmax(Y_test, axis=1)\n",
        "\n",
        "# Membuat confusion matrix\n",
        "conf_matrix = confusion_matrix(Y_true, Y_pred_classes)\n",
        "\n",
        "# Menampilkan confusion matrix dalam bentuk visualisasi\n",
        "plt.figure(figsize=(8, 6))\n",
        "sns.heatmap(conf_matrix, annot=True, fmt=\"d\", cmap=\"Blues\", xticklabels=['Common_Rust', 'Healthy', 'Gray_Leaf_Spot', 'Blight'], yticklabels=['Common_Rust', 'Healthy', 'Gray_Leaf_Spot', 'Blight'])\n",
        "plt.xlabel('Predicted labels')\n",
        "plt.ylabel('True labels')\n",
        "plt.title('Confusion Matrix')\n",
        "plt.show()\n",
        "\n",
        "# Membuat classification report\n",
        "class_report = classification_report(Y_true, Y_pred_classes)\n",
        "\n",
        "# Menampilkan classification report\n",
        "print(\"\\nClassification Report:\")\n",
        "print(class_report)"
      ],
      "metadata": {
        "id": "W2svXyjyTjeo",
        "colab": {
          "base_uri": "https://localhost:8080/",
          "height": 807
        },
        "outputId": "af01ab60-b4db-48c2-e530-fe0c879869f6"
      },
      "execution_count": 12,
      "outputs": [
        {
          "output_type": "stream",
          "name": "stdout",
          "text": [
            "27/27 [==============================] - 3s 93ms/step\n"
          ]
        },
        {
          "output_type": "display_data",
          "data": {
            "text/plain": [
              "<Figure size 800x600 with 2 Axes>"
            ],
            "image/png": "[encoded data removed]"
          },
          "metadata": {}
        },
        {
          "output_type": "stream",
          "name": "stdout",
          "text": [
            "\n",
            "Classification Report:\n",
            "              precision    recall  f1-score   support\n",
            "\n",
            "           0       0.88      0.97      0.93       218\n",
            "           1       1.00      0.97      0.98       289\n",
            "           2       0.91      0.79      0.85       104\n",
            "           3       1.00      1.00      1.00       227\n",
            "\n",
            "    accuracy                           0.96       838\n",
            "   macro avg       0.95      0.93      0.94       838\n",
            "weighted avg       0.96      0.96      0.96       838\n",
            "\n"
          ]
        }
      ]
    },
    {
      "cell_type": "code",
      "source": [
        "model = models.resnet50()\n",
        "\n",
        "input = torch.randn(1, 3, 224, 224)\n",
        "\n",
        "flops, params = profile(model, inputs=(input, ))\n",
        "print(f\"Estimasi FLOPS: {flops}\")"
      ],
      "metadata": {
        "colab": {
          "base_uri": "https://localhost:8080/"
        },
        "id": "s4STCCZCJjfO",
        "outputId": "a4ac864b-8f7e-4084-a744-ea4345b9cc69"
      },
      "execution_count": 13,
      "outputs": [
        {
          "output_type": "stream",
          "name": "stdout",
          "text": [
            "[INFO] Register count_convNd() for <class 'torch.nn.modules.conv.Conv2d'>.\n",
            "[INFO] Register count_normalization() for <class 'torch.nn.modules.batchnorm.BatchNorm2d'>.\n",
            "[INFO] Register zero_ops() for <class 'torch.nn.modules.activation.ReLU'>.\n",
            "[INFO] Register zero_ops() for <class 'torch.nn.modules.pooling.MaxPool2d'>.\n",
            "[INFO] Register zero_ops() for <class 'torch.nn.modules.container.Sequential'>.\n",
            "[INFO] Register count_adap_avgpool() for <class 'torch.nn.modules.pooling.AdaptiveAvgPool2d'>.\n",
            "[INFO] Register count_linear() for <class 'torch.nn.modules.linear.Linear'>.\n",
            "Estimasi FLOPS: 4133742592.0\n"
          ]
        }
      ]
    }
  ]
}
