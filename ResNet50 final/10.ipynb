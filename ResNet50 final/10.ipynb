{
  "nbformat": 4,
  "nbformat_minor": 0,
  "metadata": {
    "colab": {
      "provenance": [],
      "gpuType": "T4",
      "authorship_tag": "ABX9TyOwr575narOAWO1XRvr6c6Y",
      "include_colab_link": true
    },
    "kernelspec": {
      "name": "python3",
      "display_name": "Python 3"
    },
    "language_info": {
      "name": "python"
    },
    "accelerator": "GPU"
  },
  "cells": [
    {
      "cell_type": "markdown",
      "metadata": {
        "id": "view-in-github",
        "colab_type": "text"
      },
      "source": [
        "<a href=\"https://colab.research.google.com/github/Smjfirna/Arsitektur-Compration/blob/main/ResNet50%20final/10.ipynb\" target=\"_parent\"><img src=\"https://colab.research.google.com/assets/colab-badge.svg\" alt=\"Open In Colab\"/></a>"
      ]
    },
    {
      "cell_type": "code",
      "source": [
        "#Preprocessing\n",
        "import os\n",
        "import cv2\n",
        "import numpy as np\n",
        "from tqdm import tqdm\n",
        "from sklearn.model_selection import train_test_split\n",
        "from sklearn.preprocessing import LabelEncoder\n",
        "from keras.utils import to_categorical\n",
        "\n",
        "#Model dan Augmentasi\n",
        "import tensorflow as tf\n",
        "from tensorflow.keras.preprocessing.image import ImageDataGenerator\n",
        "from tensorflow.keras.models import Sequential\n",
        "from tensorflow.keras import layers, Model, regularizers\n",
        "from tensorflow.keras.callbacks import EarlyStopping\n",
        "from tensorflow.keras.layers import Conv2D, MaxPooling2D, Flatten, Dense, GlobalAveragePooling2D, Dropout\n",
        "import os\n",
        "from tensorflow.keras.optimizers import Adam\n",
        "from tensorflow.keras.optimizers import RMSprop\n",
        "from keras.applications import ResNet50\n",
        "\n",
        "# Evaluasi\n",
        "import torch\n",
        "import torchvision.models as models\n",
        "from thop import profile\n",
        "from sklearn.metrics import confusion_matrix, classification_report\n",
        "\n",
        "#Visualisasi\n",
        "import matplotlib.pyplot as plt\n",
        "import seaborn as sns"
      ],
      "metadata": {
        "id": "NMN3beIVALVJ"
      },
      "execution_count": 1,
      "outputs": []
    },
    {
      "cell_type": "code",
      "execution_count": 2,
      "metadata": {
        "colab": {
          "base_uri": "https://localhost:8080/",
          "height": 56
        },
        "id": "GK3MPeDN_Ofu",
        "outputId": "5442c9c1-2c4a-48a8-9757-11b3c81b746d"
      },
      "outputs": [
        {
          "output_type": "display_data",
          "data": {
            "text/plain": [
              "<IPython.core.display.HTML object>"
            ],
            "text/html": [
              "\n",
              "     <input type=\"file\" id=\"files-c862cf52-2431-4f7c-bdfe-db56a05fab08\" name=\"files[]\" multiple disabled\n",
              "        style=\"border:none\" />\n",
              "     <output id=\"result-c862cf52-2431-4f7c-bdfe-db56a05fab08\">\n",
              "      Upload widget is only available when the cell has been executed in the\n",
              "      current browser session. Please rerun this cell to enable.\n",
              "      </output>\n",
              "      <script>// Copyright 2017 Google LLC\n",
              "//\n",
              "// Licensed under the Apache License, Version 2.0 (the \"License\");\n",
              "// you may not use this file except in compliance with the License.\n",
              "// You may obtain a copy of the License at\n",
              "//\n",
              "//      http://www.apache.org/licenses/LICENSE-2.0\n",
              "//\n",
              "// Unless required by applicable law or agreed to in writing, software\n",
              "// distributed under the License is distributed on an \"AS IS\" BASIS,\n",
              "// WITHOUT WARRANTIES OR CONDITIONS OF ANY KIND, either express or implied.\n",
              "// See the License for the specific language governing permissions and\n",
              "// limitations under the License.\n",
              "\n",
              "/**\n",
              " * @fileoverview Helpers for google.colab Python module.\n",
              " */\n",
              "(function(scope) {\n",
              "function span(text, styleAttributes = {}) {\n",
              "  const element = document.createElement('span');\n",
              "  element.textContent = text;\n",
              "  for (const key of Object.keys(styleAttributes)) {\n",
              "    element.style[key] = styleAttributes[key];\n",
              "  }\n",
              "  return element;\n",
              "}\n",
              "\n",
              "// Max number of bytes which will be uploaded at a time.\n",
              "const MAX_PAYLOAD_SIZE = 100 * 1024;\n",
              "\n",
              "function _uploadFiles(inputId, outputId) {\n",
              "  const steps = uploadFilesStep(inputId, outputId);\n",
              "  const outputElement = document.getElementById(outputId);\n",
              "  // Cache steps on the outputElement to make it available for the next call\n",
              "  // to uploadFilesContinue from Python.\n",
              "  outputElement.steps = steps;\n",
              "\n",
              "  return _uploadFilesContinue(outputId);\n",
              "}\n",
              "\n",
              "// This is roughly an async generator (not supported in the browser yet),\n",
              "// where there are multiple asynchronous steps and the Python side is going\n",
              "// to poll for completion of each step.\n",
              "// This uses a Promise to block the python side on completion of each step,\n",
              "// then passes the result of the previous step as the input to the next step.\n",
              "function _uploadFilesContinue(outputId) {\n",
              "  const outputElement = document.getElementById(outputId);\n",
              "  const steps = outputElement.steps;\n",
              "\n",
              "  const next = steps.next(outputElement.lastPromiseValue);\n",
              "  return Promise.resolve(next.value.promise).then((value) => {\n",
              "    // Cache the last promise value to make it available to the next\n",
              "    // step of the generator.\n",
              "    outputElement.lastPromiseValue = value;\n",
              "    return next.value.response;\n",
              "  });\n",
              "}\n",
              "\n",
              "/**\n",
              " * Generator function which is called between each async step of the upload\n",
              " * process.\n",
              " * @param {string} inputId Element ID of the input file picker element.\n",
              " * @param {string} outputId Element ID of the output display.\n",
              " * @return {!Iterable<!Object>} Iterable of next steps.\n",
              " */\n",
              "function* uploadFilesStep(inputId, outputId) {\n",
              "  const inputElement = document.getElementById(inputId);\n",
              "  inputElement.disabled = false;\n",
              "\n",
              "  const outputElement = document.getElementById(outputId);\n",
              "  outputElement.innerHTML = '';\n",
              "\n",
              "  const pickedPromise = new Promise((resolve) => {\n",
              "    inputElement.addEventListener('change', (e) => {\n",
              "      resolve(e.target.files);\n",
              "    });\n",
              "  });\n",
              "\n",
              "  const cancel = document.createElement('button');\n",
              "  inputElement.parentElement.appendChild(cancel);\n",
              "  cancel.textContent = 'Cancel upload';\n",
              "  const cancelPromise = new Promise((resolve) => {\n",
              "    cancel.onclick = () => {\n",
              "      resolve(null);\n",
              "    };\n",
              "  });\n",
              "\n",
              "  // Wait for the user to pick the files.\n",
              "  const files = yield {\n",
              "    promise: Promise.race([pickedPromise, cancelPromise]),\n",
              "    response: {\n",
              "      action: 'starting',\n",
              "    }\n",
              "  };\n",
              "\n",
              "  cancel.remove();\n",
              "\n",
              "  // Disable the input element since further picks are not allowed.\n",
              "  inputElement.disabled = true;\n",
              "\n",
              "  if (!files) {\n",
              "    return {\n",
              "      response: {\n",
              "        action: 'complete',\n",
              "      }\n",
              "    };\n",
              "  }\n",
              "\n",
              "  for (const file of files) {\n",
              "    const li = document.createElement('li');\n",
              "    li.append(span(file.name, {fontWeight: 'bold'}));\n",
              "    li.append(span(\n",
              "        `(${file.type || 'n/a'}) - ${file.size} bytes, ` +\n",
              "        `last modified: ${\n",
              "            file.lastModifiedDate ? file.lastModifiedDate.toLocaleDateString() :\n",
              "                                    'n/a'} - `));\n",
              "    const percent = span('0% done');\n",
              "    li.appendChild(percent);\n",
              "\n",
              "    outputElement.appendChild(li);\n",
              "\n",
              "    const fileDataPromise = new Promise((resolve) => {\n",
              "      const reader = new FileReader();\n",
              "      reader.onload = (e) => {\n",
              "        resolve(e.target.result);\n",
              "      };\n",
              "      reader.readAsArrayBuffer(file);\n",
              "    });\n",
              "    // Wait for the data to be ready.\n",
              "    let fileData = yield {\n",
              "      promise: fileDataPromise,\n",
              "      response: {\n",
              "        action: 'continue',\n",
              "      }\n",
              "    };\n",
              "\n",
              "    // Use a chunked sending to avoid message size limits. See b/62115660.\n",
              "    let position = 0;\n",
              "    do {\n",
              "      const length = Math.min(fileData.byteLength - position, MAX_PAYLOAD_SIZE);\n",
              "      const chunk = new Uint8Array(fileData, position, length);\n",
              "      position += length;\n",
              "\n",
              "      const base64 = btoa(String.fromCharCode.apply(null, chunk));\n",
              "      yield {\n",
              "        response: {\n",
              "          action: 'append',\n",
              "          file: file.name,\n",
              "          data: base64,\n",
              "        },\n",
              "      };\n",
              "\n",
              "      let percentDone = fileData.byteLength === 0 ?\n",
              "          100 :\n",
              "          Math.round((position / fileData.byteLength) * 100);\n",
              "      percent.textContent = `${percentDone}% done`;\n",
              "\n",
              "    } while (position < fileData.byteLength);\n",
              "  }\n",
              "\n",
              "  // All done.\n",
              "  yield {\n",
              "    response: {\n",
              "      action: 'complete',\n",
              "    }\n",
              "  };\n",
              "}\n",
              "\n",
              "scope.google = scope.google || {};\n",
              "scope.google.colab = scope.google.colab || {};\n",
              "scope.google.colab._files = {\n",
              "  _uploadFiles,\n",
              "  _uploadFilesContinue,\n",
              "};\n",
              "})(self);\n",
              "</script> "
            ]
          },
          "metadata": {}
        },
        {
          "output_type": "execute_result",
          "data": {
            "text/plain": [
              "{}"
            ]
          },
          "metadata": {},
          "execution_count": 2
        }
      ],
      "source": [
        "from google.colab import files\n",
        "files.upload()"
      ]
    },
    {
      "cell_type": "code",
      "source": [
        "!mkdir -p ~/.kaggle\n",
        "!cp kaggle.json ~/.kaggle/\n",
        "!chmod 600 ~/.kaggle/kaggle.json"
      ],
      "metadata": {
        "id": "Y9Kia11G_5Si"
      },
      "execution_count": 3,
      "outputs": []
    },
    {
      "cell_type": "code",
      "source": [
        "##link dataset in Kaggle.com\n",
        "!kaggle datasets download -d smaranjitghose/corn-or-maize-leaf-disease-dataset"
      ],
      "metadata": {
        "colab": {
          "base_uri": "https://localhost:8080/"
        },
        "id": "apfKVlxj_8FJ",
        "outputId": "7e33b33e-7d74-455e-f80e-15fe9b833527"
      },
      "execution_count": 4,
      "outputs": [
        {
          "output_type": "stream",
          "name": "stdout",
          "text": [
            "corn-or-maize-leaf-disease-dataset.zip: Skipping, found more recently modified local copy (use --force to force download)\n"
          ]
        }
      ]
    },
    {
      "cell_type": "code",
      "source": [
        "!unzip -q corn-or-maize-leaf-disease-dataset.zip -d /content"
      ],
      "metadata": {
        "id": "ixMUoB2rAAd3"
      },
      "execution_count": 7,
      "outputs": []
    },
    {
      "cell_type": "code",
      "source": [
        "dataset_dir = '/content/data'"
      ],
      "metadata": {
        "id": "pZ8IerIQAGFO"
      },
      "execution_count": 2,
      "outputs": []
    },
    {
      "cell_type": "code",
      "source": [
        "print(os.listdir(dataset_dir))"
      ],
      "metadata": {
        "colab": {
          "base_uri": "https://localhost:8080/"
        },
        "id": "9wwka8QaAIcj",
        "outputId": "3b5b5183-1431-48d0-f656-00cba106a949"
      },
      "execution_count": 3,
      "outputs": [
        {
          "output_type": "stream",
          "name": "stdout",
          "text": [
            "['Gray_Leaf_Spot', 'Healthy', 'Common_Rust', 'Blight']\n"
          ]
        }
      ]
    },
    {
      "cell_type": "code",
      "source": [
        "IMAGE_SIZE_resnet50 = 224"
      ],
      "metadata": {
        "id": "_UCEuA-hAPSa"
      },
      "execution_count": 4,
      "outputs": []
    },
    {
      "cell_type": "code",
      "source": [
        "def make_data(label, DIR, img_list, label_list):\n",
        "    for img in tqdm(os.listdir(DIR)):\n",
        "        path = os.path.join(DIR, img)\n",
        "        img = cv2.imread(path, cv2.IMREAD_COLOR)\n",
        "        img = cv2.resize(img, (IMAGE_SIZE_resnet50, IMAGE_SIZE_resnet50))\n",
        "        img_list.append(np.array(img))\n",
        "        label_list.append(str(label))"
      ],
      "metadata": {
        "id": "B3menIgvARk5"
      },
      "execution_count": 5,
      "outputs": []
    },
    {
      "cell_type": "code",
      "source": [
        "X = []\n",
        "Z = []"
      ],
      "metadata": {
        "id": "Jn6gWefxATyU"
      },
      "execution_count": 6,
      "outputs": []
    },
    {
      "cell_type": "code",
      "source": [
        "for i, class_name in enumerate(['Common_Rust', 'Healthy', 'Gray_Leaf_Spot', 'Blight']):\n",
        "    class_dir = os.path.join(dataset_dir, class_name)\n",
        "    make_data(class_name, class_dir, X, Z)"
      ],
      "metadata": {
        "colab": {
          "base_uri": "https://localhost:8080/"
        },
        "id": "S9-RQTGJAWCk",
        "outputId": "c80cf7ed-6f1f-499b-d11e-1f1419af5855"
      },
      "execution_count": 7,
      "outputs": [
        {
          "output_type": "stream",
          "name": "stderr",
          "text": [
            "100%|██████████| 1306/1306 [00:07<00:00, 178.33it/s]\n",
            "100%|██████████| 1162/1162 [00:01<00:00, 668.73it/s]\n",
            "100%|██████████| 574/574 [00:01<00:00, 308.73it/s]\n",
            "100%|██████████| 1146/1146 [00:05<00:00, 200.58it/s]\n"
          ]
        }
      ]
    },
    {
      "cell_type": "code",
      "source": [
        "# Menghitung jumlah data untuk setiap kelas\n",
        "class_counts = {class_name: Z.count(class_name) for class_name in set(Z)}\n",
        "\n",
        "# Menampilkan visualisasi jumlah data\n",
        "plt.figure(figsize=(6, 4))\n",
        "plt.bar(class_counts.keys(), class_counts.values())\n",
        "plt.xlabel('Class')\n",
        "plt.ylabel('Count')\n",
        "plt.title('Jumlah Data Setiap Kelas')\n",
        "plt.show()"
      ],
      "metadata": {
        "colab": {
          "base_uri": "https://localhost:8080/",
          "height": 410
        },
        "id": "-IcXHIM8Akcw",
        "outputId": "4c04de27-fd34-4942-a2a5-2c492385f878"
      },
      "execution_count": 8,
      "outputs": [
        {
          "output_type": "display_data",
          "data": {
            "text/plain": [
              "<Figure size 600x400 with 1 Axes>"
            ],
            "image/png": "[encoded data removed]"
          },
          "metadata": {}
        }
      ]
    },
    {
      "cell_type": "code",
      "source": [
        "le = LabelEncoder()\n",
        "Y = le.fit_transform(Z)\n",
        "Y = to_categorical(Y, num_classes=len(le.classes_))\n",
        "\n",
        "# Konversi ke array numpy\n",
        "X = np.array(X)\n",
        "\n",
        "# Memisahkan data menjadi data latih dan data uji\n",
        "X_train, X_test, Y_train, Y_test = train_test_split(X, Y, test_size=0.2, random_state=42)\n",
        "\n",
        "print(\"Jumlah Data Train adalah :\", len(X_train))\n",
        "print(\"Jumlah Data Test adalah :\", len(X_test))"
      ],
      "metadata": {
        "colab": {
          "base_uri": "https://localhost:8080/"
        },
        "id": "OI7kvVbXAqko",
        "outputId": "dac0a753-67cc-4710-c7e7-85d8531345d5"
      },
      "execution_count": 9,
      "outputs": [
        {
          "output_type": "stream",
          "name": "stdout",
          "text": [
            "Jumlah Data Train adalah : 3350\n",
            "Jumlah Data Test adalah : 838\n"
          ]
        }
      ]
    },
    {
      "cell_type": "code",
      "source": [
        "datagen = ImageDataGenerator(\n",
        "    rotation_range=20,\n",
        "    zoom_range=0.2,\n",
        "    horizontal_flip=True,\n",
        "    vertical_flip=True\n",
        ")\n",
        "\n",
        "datagen.fit(X_train)"
      ],
      "metadata": {
        "id": "ue5XLCIlA2ld"
      },
      "execution_count": 10,
      "outputs": []
    },
    {
      "cell_type": "code",
      "source": [
        "resnet50 = ResNet50(include_top=False, weights='imagenet', input_shape=(IMAGE_SIZE_resnet50, IMAGE_SIZE_resnet50, 3))\n",
        "\n",
        "# Membuat model Sequential\n",
        "model_resnet50ver2 = Sequential()\n",
        "model_resnet50ver2.add(resnet50)\n",
        "model_resnet50ver2.add(GlobalAveragePooling2D())\n",
        "model_resnet50ver2.add(Dense(4, activation='softmax'))\n",
        "\n",
        "# Membekukan layer-layer ResNet50 yang telah dilatih\n",
        "for layer in resnet50.layers:\n",
        "    layer.trainable = False\n",
        "\n",
        "model_resnet50ver2.compile(optimizer=Adam(learning_rate=1e-4), loss='categorical_crossentropy', metrics=['accuracy'])\n",
        "\n",
        "# Menampilkan summary dari model\n",
        "model_resnet50ver2.summary()\n",
        "\n",
        "# Melatih model dengan data latih dan validasi\n",
        "history_resnet50ver2 = model_resnet50ver2.fit(datagen.flow(X_train, Y_train), epochs=10, validation_data=(X_test, Y_test))"
      ],
      "metadata": {
        "id": "qg6h8yY_A62R",
        "colab": {
          "base_uri": "https://localhost:8080/"
        },
        "outputId": "16e831be-d2b3-4015-905c-cd675e137269"
      },
      "execution_count": 14,
      "outputs": [
        {
          "output_type": "stream",
          "name": "stdout",
          "text": [
            "Model: \"sequential_1\"\n",
            "_________________________________________________________________\n",
            " Layer (type)                Output Shape              Param #   \n",
            "=================================================================\n",
            " resnet50 (Functional)       (None, 7, 7, 2048)        23587712  \n",
            "                                                                 \n",
            " global_average_pooling2d_1  (None, 2048)              0         \n",
            "  (GlobalAveragePooling2D)                                       \n",
            "                                                                 \n",
            " dense_1 (Dense)             (None, 4)                 8196      \n",
            "                                                                 \n",
            "=================================================================\n",
            "Total params: 23595908 (90.01 MB)\n",
            "Trainable params: 8196 (32.02 KB)\n",
            "Non-trainable params: 23587712 (89.98 MB)\n",
            "_________________________________________________________________\n",
            "Epoch 1/10\n",
            "105/105 [==============================] - 45s 400ms/step - loss: 1.1170 - accuracy: 0.5540 - val_loss: 0.6689 - val_accuracy: 0.7685\n",
            "Epoch 2/10\n",
            "105/105 [==============================] - 41s 389ms/step - loss: 0.5744 - accuracy: 0.8030 - val_loss: 0.4412 - val_accuracy: 0.8282\n",
            "Epoch 3/10\n",
            "105/105 [==============================] - 41s 389ms/step - loss: 0.4254 - accuracy: 0.8534 - val_loss: 0.3497 - val_accuracy: 0.8711\n",
            "Epoch 4/10\n",
            "105/105 [==============================] - 41s 388ms/step - loss: 0.3586 - accuracy: 0.8758 - val_loss: 0.3055 - val_accuracy: 0.8783\n",
            "Epoch 5/10\n",
            "105/105 [==============================] - 41s 390ms/step - loss: 0.3149 - accuracy: 0.8916 - val_loss: 0.2694 - val_accuracy: 0.8962\n",
            "Epoch 6/10\n",
            "105/105 [==============================] - 41s 390ms/step - loss: 0.2828 - accuracy: 0.9045 - val_loss: 0.2499 - val_accuracy: 0.9045\n",
            "Epoch 7/10\n",
            "105/105 [==============================] - 41s 387ms/step - loss: 0.2655 - accuracy: 0.9072 - val_loss: 0.2362 - val_accuracy: 0.9105\n",
            "Epoch 8/10\n",
            "105/105 [==============================] - 41s 395ms/step - loss: 0.2525 - accuracy: 0.9155 - val_loss: 0.2236 - val_accuracy: 0.9141\n",
            "Epoch 9/10\n",
            "105/105 [==============================] - 41s 389ms/step - loss: 0.2435 - accuracy: 0.9116 - val_loss: 0.2150 - val_accuracy: 0.9177\n",
            "Epoch 10/10\n",
            "105/105 [==============================] - 41s 386ms/step - loss: 0.2332 - accuracy: 0.9161 - val_loss: 0.2115 - val_accuracy: 0.9212\n"
          ]
        }
      ]
    },
    {
      "cell_type": "code",
      "source": [
        "# Menggunakan model_resnet50ver2 untuk membuat prediksi pada data uji\n",
        "Y_pred = model_resnet50ver2.predict(X_test)\n",
        "# Mengambil indeks kelas dengan probabilitas tertinggi sebagai prediksi\n",
        "Y_pred_classes = np.argmax(Y_pred, axis=1)\n",
        "# Mengambil indeks kelas dengan probabilitas tertinggi sebagai label sebenarnya\n",
        "Y_true = np.argmax(Y_test, axis=1)\n",
        "\n",
        "# Membuat confusion matrix\n",
        "conf_matrix = confusion_matrix(Y_true, Y_pred_classes)\n",
        "\n",
        "# Menampilkan confusion matrix dalam bentuk visualisasi\n",
        "plt.figure(figsize=(8, 6))\n",
        "sns.heatmap(conf_matrix, annot=True, fmt=\"d\", cmap=\"Blues\", xticklabels=['Common_Rust', 'Healthy', 'Gray_Leaf_Spot', 'Blight'], yticklabels=['Common_Rust', 'Healthy', 'Gray_Leaf_Spot', 'Blight'])\n",
        "plt.xlabel('Predicted labels')\n",
        "plt.ylabel('True labels')\n",
        "plt.title('Confusion Matrix')\n",
        "plt.show()\n",
        "\n",
        "# Membuat classification report\n",
        "class_report = classification_report(Y_true, Y_pred_classes)\n",
        "\n",
        "# Menampilkan classification report\n",
        "print(\"\\nClassification Report:\")\n",
        "print(class_report)"
      ],
      "metadata": {
        "id": "W2svXyjyTjeo",
        "colab": {
          "base_uri": "https://localhost:8080/",
          "height": 807
        },
        "outputId": "6d4ea0cf-11a3-42e4-87fa-5cab2037ba7e"
      },
      "execution_count": 15,
      "outputs": [
        {
          "output_type": "stream",
          "name": "stdout",
          "text": [
            "27/27 [==============================] - 5s 101ms/step\n"
          ]
        },
        {
          "output_type": "display_data",
          "data": {
            "text/plain": [
              "<Figure size 800x600 with 2 Axes>"
            ],
            "image/png": "[encoded data removed]"
          },
          "metadata": {}
        },
        {
          "output_type": "stream",
          "name": "stdout",
          "text": [
            "\n",
            "Classification Report:\n",
            "              precision    recall  f1-score   support\n",
            "\n",
            "           0       0.80      0.94      0.87       218\n",
            "           1       0.99      0.96      0.97       289\n",
            "           2       0.86      0.62      0.72       104\n",
            "           3       1.00      0.99      0.99       227\n",
            "\n",
            "    accuracy                           0.92       838\n",
            "   macro avg       0.91      0.88      0.89       838\n",
            "weighted avg       0.93      0.92      0.92       838\n",
            "\n"
          ]
        }
      ]
    },
    {
      "cell_type": "code",
      "source": [
        "model = models.resnet50()\n",
        "\n",
        "input = torch.randn(1, 3, 224, 224)\n",
        "\n",
        "flops, params = profile(model, inputs=(input, ))\n",
        "print(f\"Estimasi FLOPS: {flops}\")"
      ],
      "metadata": {
        "colab": {
          "base_uri": "https://localhost:8080/"
        },
        "id": "s4STCCZCJjfO",
        "outputId": "ba4871f1-7239-4932-ea51-ab9bfc3dba8d"
      },
      "execution_count": 16,
      "outputs": [
        {
          "output_type": "stream",
          "name": "stdout",
          "text": [
            "[INFO] Register count_convNd() for <class 'torch.nn.modules.conv.Conv2d'>.\n",
            "[INFO] Register count_normalization() for <class 'torch.nn.modules.batchnorm.BatchNorm2d'>.\n",
            "[INFO] Register zero_ops() for <class 'torch.nn.modules.activation.ReLU'>.\n",
            "[INFO] Register zero_ops() for <class 'torch.nn.modules.pooling.MaxPool2d'>.\n",
            "[INFO] Register zero_ops() for <class 'torch.nn.modules.container.Sequential'>.\n",
            "[INFO] Register count_adap_avgpool() for <class 'torch.nn.modules.pooling.AdaptiveAvgPool2d'>.\n",
            "[INFO] Register count_linear() for <class 'torch.nn.modules.linear.Linear'>.\n",
            "Estimasi FLOPS: 4133742592.0\n"
          ]
        }
      ]
    }
  ]
}