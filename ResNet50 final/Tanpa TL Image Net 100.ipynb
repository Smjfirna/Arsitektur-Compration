{
  "nbformat": 4,
  "nbformat_minor": 0,
  "metadata": {
    "colab": {
      "provenance": [],
      "gpuType": "T4",
      "authorship_tag": "ABX9TyPmuQJCVqgDoyunN0yIaSmk",
      "include_colab_link": true
    },
    "kernelspec": {
      "name": "python3",
      "display_name": "Python 3"
    },
    "language_info": {
      "name": "python"
    },
    "accelerator": "GPU"
  },
  "cells": [
    {
      "cell_type": "markdown",
      "metadata": {
        "id": "view-in-github",
        "colab_type": "text"
      },
      "source": [
        "<a href=\"https://colab.research.google.com/github/Smjfirna/Arsitektur-Compration/blob/main/ResNet50%20final/Tanpa%20TL%20Image%20Net%20100.ipynb\" target=\"_parent\"><img src=\"https://colab.research.google.com/assets/colab-badge.svg\" alt=\"Open In Colab\"/></a>"
      ]
    },
    {
      "cell_type": "code",
      "source": [
        "#Preprocessing\n",
        "import os\n",
        "import cv2\n",
        "import numpy as np\n",
        "from tqdm import tqdm\n",
        "from sklearn.model_selection import train_test_split\n",
        "from sklearn.preprocessing import LabelEncoder\n",
        "from keras.utils import to_categorical\n",
        "\n",
        "#Model dan Augmentasi\n",
        "import tensorflow as tf\n",
        "from tensorflow.keras.preprocessing.image import ImageDataGenerator\n",
        "from tensorflow.keras.models import Sequential\n",
        "from tensorflow.keras import layers, Model, regularizers\n",
        "from tensorflow.keras.callbacks import EarlyStopping\n",
        "from tensorflow.keras.layers import Conv2D, MaxPooling2D, Flatten, Dense, GlobalAveragePooling2D, Dropout\n",
        "import os\n",
        "from tensorflow.keras.optimizers import Adam\n",
        "from tensorflow.keras.optimizers import RMSprop\n",
        "from keras.applications import ResNet50\n",
        "\n",
        "# Evaluasi\n",
        "#import torch\n",
        "#import torchvision.models as models\n",
        "#from thop import profile\n",
        "from sklearn.metrics import confusion_matrix, classification_report\n",
        "\n",
        "#Visualisasi\n",
        "import matplotlib.pyplot as plt\n",
        "import seaborn as sns"
      ],
      "metadata": {
        "id": "NMN3beIVALVJ"
      },
      "execution_count": 1,
      "outputs": []
    },
    {
      "cell_type": "code",
      "execution_count": 2,
      "metadata": {
        "colab": {
          "base_uri": "https://localhost:8080/",
          "height": 90
        },
        "id": "GK3MPeDN_Ofu",
        "outputId": "4404c5d8-50ae-4cc2-8c17-e29060279bb0"
      },
      "outputs": [
        {
          "output_type": "display_data",
          "data": {
            "text/plain": [
              "<IPython.core.display.HTML object>"
            ],
            "text/html": [
              "\n",
              "     <input type=\"file\" id=\"files-94f6b40e-cb20-40c1-b072-6516ee2cd61a\" name=\"files[]\" multiple disabled\n",
              "        style=\"border:none\" />\n",
              "     <output id=\"result-94f6b40e-cb20-40c1-b072-6516ee2cd61a\">\n",
              "      Upload widget is only available when the cell has been executed in the\n",
              "      current browser session. Please rerun this cell to enable.\n",
              "      </output>\n",
              "      <script>// Copyright 2017 Google LLC\n",
              "//\n",
              "// Licensed under the Apache License, Version 2.0 (the \"License\");\n",
              "// you may not use this file except in compliance with the License.\n",
              "// You may obtain a copy of the License at\n",
              "//\n",
              "//      http://www.apache.org/licenses/LICENSE-2.0\n",
              "//\n",
              "// Unless required by applicable law or agreed to in writing, software\n",
              "// distributed under the License is distributed on an \"AS IS\" BASIS,\n",
              "// WITHOUT WARRANTIES OR CONDITIONS OF ANY KIND, either express or implied.\n",
              "// See the License for the specific language governing permissions and\n",
              "// limitations under the License.\n",
              "\n",
              "/**\n",
              " * @fileoverview Helpers for google.colab Python module.\n",
              " */\n",
              "(function(scope) {\n",
              "function span(text, styleAttributes = {}) {\n",
              "  const element = document.createElement('span');\n",
              "  element.textContent = text;\n",
              "  for (const key of Object.keys(styleAttributes)) {\n",
              "    element.style[key] = styleAttributes[key];\n",
              "  }\n",
              "  return element;\n",
              "}\n",
              "\n",
              "// Max number of bytes which will be uploaded at a time.\n",
              "const MAX_PAYLOAD_SIZE = 100 * 1024;\n",
              "\n",
              "function _uploadFiles(inputId, outputId) {\n",
              "  const steps = uploadFilesStep(inputId, outputId);\n",
              "  const outputElement = document.getElementById(outputId);\n",
              "  // Cache steps on the outputElement to make it available for the next call\n",
              "  // to uploadFilesContinue from Python.\n",
              "  outputElement.steps = steps;\n",
              "\n",
              "  return _uploadFilesContinue(outputId);\n",
              "}\n",
              "\n",
              "// This is roughly an async generator (not supported in the browser yet),\n",
              "// where there are multiple asynchronous steps and the Python side is going\n",
              "// to poll for completion of each step.\n",
              "// This uses a Promise to block the python side on completion of each step,\n",
              "// then passes the result of the previous step as the input to the next step.\n",
              "function _uploadFilesContinue(outputId) {\n",
              "  const outputElement = document.getElementById(outputId);\n",
              "  const steps = outputElement.steps;\n",
              "\n",
              "  const next = steps.next(outputElement.lastPromiseValue);\n",
              "  return Promise.resolve(next.value.promise).then((value) => {\n",
              "    // Cache the last promise value to make it available to the next\n",
              "    // step of the generator.\n",
              "    outputElement.lastPromiseValue = value;\n",
              "    return next.value.response;\n",
              "  });\n",
              "}\n",
              "\n",
              "/**\n",
              " * Generator function which is called between each async step of the upload\n",
              " * process.\n",
              " * @param {string} inputId Element ID of the input file picker element.\n",
              " * @param {string} outputId Element ID of the output display.\n",
              " * @return {!Iterable<!Object>} Iterable of next steps.\n",
              " */\n",
              "function* uploadFilesStep(inputId, outputId) {\n",
              "  const inputElement = document.getElementById(inputId);\n",
              "  inputElement.disabled = false;\n",
              "\n",
              "  const outputElement = document.getElementById(outputId);\n",
              "  outputElement.innerHTML = '';\n",
              "\n",
              "  const pickedPromise = new Promise((resolve) => {\n",
              "    inputElement.addEventListener('change', (e) => {\n",
              "      resolve(e.target.files);\n",
              "    });\n",
              "  });\n",
              "\n",
              "  const cancel = document.createElement('button');\n",
              "  inputElement.parentElement.appendChild(cancel);\n",
              "  cancel.textContent = 'Cancel upload';\n",
              "  const cancelPromise = new Promise((resolve) => {\n",
              "    cancel.onclick = () => {\n",
              "      resolve(null);\n",
              "    };\n",
              "  });\n",
              "\n",
              "  // Wait for the user to pick the files.\n",
              "  const files = yield {\n",
              "    promise: Promise.race([pickedPromise, cancelPromise]),\n",
              "    response: {\n",
              "      action: 'starting',\n",
              "    }\n",
              "  };\n",
              "\n",
              "  cancel.remove();\n",
              "\n",
              "  // Disable the input element since further picks are not allowed.\n",
              "  inputElement.disabled = true;\n",
              "\n",
              "  if (!files) {\n",
              "    return {\n",
              "      response: {\n",
              "        action: 'complete',\n",
              "      }\n",
              "    };\n",
              "  }\n",
              "\n",
              "  for (const file of files) {\n",
              "    const li = document.createElement('li');\n",
              "    li.append(span(file.name, {fontWeight: 'bold'}));\n",
              "    li.append(span(\n",
              "        `(${file.type || 'n/a'}) - ${file.size} bytes, ` +\n",
              "        `last modified: ${\n",
              "            file.lastModifiedDate ? file.lastModifiedDate.toLocaleDateString() :\n",
              "                                    'n/a'} - `));\n",
              "    const percent = span('0% done');\n",
              "    li.appendChild(percent);\n",
              "\n",
              "    outputElement.appendChild(li);\n",
              "\n",
              "    const fileDataPromise = new Promise((resolve) => {\n",
              "      const reader = new FileReader();\n",
              "      reader.onload = (e) => {\n",
              "        resolve(e.target.result);\n",
              "      };\n",
              "      reader.readAsArrayBuffer(file);\n",
              "    });\n",
              "    // Wait for the data to be ready.\n",
              "    let fileData = yield {\n",
              "      promise: fileDataPromise,\n",
              "      response: {\n",
              "        action: 'continue',\n",
              "      }\n",
              "    };\n",
              "\n",
              "    // Use a chunked sending to avoid message size limits. See b/62115660.\n",
              "    let position = 0;\n",
              "    do {\n",
              "      const length = Math.min(fileData.byteLength - position, MAX_PAYLOAD_SIZE);\n",
              "      const chunk = new Uint8Array(fileData, position, length);\n",
              "      position += length;\n",
              "\n",
              "      const base64 = btoa(String.fromCharCode.apply(null, chunk));\n",
              "      yield {\n",
              "        response: {\n",
              "          action: 'append',\n",
              "          file: file.name,\n",
              "          data: base64,\n",
              "        },\n",
              "      };\n",
              "\n",
              "      let percentDone = fileData.byteLength === 0 ?\n",
              "          100 :\n",
              "          Math.round((position / fileData.byteLength) * 100);\n",
              "      percent.textContent = `${percentDone}% done`;\n",
              "\n",
              "    } while (position < fileData.byteLength);\n",
              "  }\n",
              "\n",
              "  // All done.\n",
              "  yield {\n",
              "    response: {\n",
              "      action: 'complete',\n",
              "    }\n",
              "  };\n",
              "}\n",
              "\n",
              "scope.google = scope.google || {};\n",
              "scope.google.colab = scope.google.colab || {};\n",
              "scope.google.colab._files = {\n",
              "  _uploadFiles,\n",
              "  _uploadFilesContinue,\n",
              "};\n",
              "})(self);\n",
              "</script> "
            ]
          },
          "metadata": {}
        },
        {
          "output_type": "stream",
          "name": "stdout",
          "text": [
            "Saving kaggle.json to kaggle.json\n"
          ]
        },
        {
          "output_type": "execute_result",
          "data": {
            "text/plain": [
              "{'kaggle.json': b'{\"username\":\"smjayyy\",\"key\":\"07729aa6a210c0f9baaeed1cf96a6a3b\"}'}"
            ]
          },
          "metadata": {},
          "execution_count": 2
        }
      ],
      "source": [
        "from google.colab import files\n",
        "files.upload()"
      ]
    },
    {
      "cell_type": "code",
      "source": [
        "!mkdir -p ~/.kaggle\n",
        "!cp kaggle.json ~/.kaggle/\n",
        "!chmod 600 ~/.kaggle/kaggle.json"
      ],
      "metadata": {
        "id": "Y9Kia11G_5Si"
      },
      "execution_count": 3,
      "outputs": []
    },
    {
      "cell_type": "code",
      "source": [
        "##link dataset in Kaggle.com\n",
        "!kaggle datasets download -d smaranjitghose/corn-or-maize-leaf-disease-dataset"
      ],
      "metadata": {
        "colab": {
          "base_uri": "https://localhost:8080/"
        },
        "id": "apfKVlxj_8FJ",
        "outputId": "a11c05d0-3d8f-422d-e002-cb567bc1ae33"
      },
      "execution_count": 4,
      "outputs": [
        {
          "output_type": "stream",
          "name": "stdout",
          "text": [
            "Dataset URL: https://www.kaggle.com/datasets/smaranjitghose/corn-or-maize-leaf-disease-dataset\n",
            "License(s): copyright-authors\n",
            "Downloading corn-or-maize-leaf-disease-dataset.zip to /content\n",
            " 99% 159M/161M [00:02<00:00, 78.7MB/s]\n",
            "100% 161M/161M [00:02<00:00, 57.2MB/s]\n"
          ]
        }
      ]
    },
    {
      "cell_type": "code",
      "source": [
        "!unzip -q corn-or-maize-leaf-disease-dataset.zip -d /content"
      ],
      "metadata": {
        "id": "ixMUoB2rAAd3"
      },
      "execution_count": 5,
      "outputs": []
    },
    {
      "cell_type": "code",
      "source": [
        "dataset_dir = '/content/data'"
      ],
      "metadata": {
        "id": "pZ8IerIQAGFO"
      },
      "execution_count": 6,
      "outputs": []
    },
    {
      "cell_type": "code",
      "source": [
        "print(os.listdir(dataset_dir))"
      ],
      "metadata": {
        "colab": {
          "base_uri": "https://localhost:8080/"
        },
        "id": "9wwka8QaAIcj",
        "outputId": "7ba3f223-c095-4fc5-f441-32ba94d9435b"
      },
      "execution_count": 7,
      "outputs": [
        {
          "output_type": "stream",
          "name": "stdout",
          "text": [
            "['Blight', 'Common_Rust', 'Gray_Leaf_Spot', 'Healthy']\n"
          ]
        }
      ]
    },
    {
      "cell_type": "code",
      "source": [
        "IMAGE_SIZE_resnet50 = 224"
      ],
      "metadata": {
        "id": "_UCEuA-hAPSa"
      },
      "execution_count": 8,
      "outputs": []
    },
    {
      "cell_type": "code",
      "source": [
        "def make_data(label, DIR, img_list, label_list):\n",
        "    for img in tqdm(os.listdir(DIR)):\n",
        "        path = os.path.join(DIR, img)\n",
        "        img = cv2.imread(path, cv2.IMREAD_COLOR)\n",
        "        img = cv2.resize(img, (IMAGE_SIZE_resnet50, IMAGE_SIZE_resnet50))\n",
        "        img_list.append(np.array(img))\n",
        "        label_list.append(str(label))"
      ],
      "metadata": {
        "id": "B3menIgvARk5"
      },
      "execution_count": 9,
      "outputs": []
    },
    {
      "cell_type": "code",
      "source": [
        "X = []\n",
        "Z = []"
      ],
      "metadata": {
        "id": "Jn6gWefxATyU"
      },
      "execution_count": 10,
      "outputs": []
    },
    {
      "cell_type": "code",
      "source": [
        "for i, class_name in enumerate(['Common_Rust', 'Healthy', 'Gray_Leaf_Spot', 'Blight']):\n",
        "    class_dir = os.path.join(dataset_dir, class_name)\n",
        "    make_data(class_name, class_dir, X, Z)"
      ],
      "metadata": {
        "colab": {
          "base_uri": "https://localhost:8080/"
        },
        "id": "S9-RQTGJAWCk",
        "outputId": "e2b37b2d-def8-4701-b552-a59897faabe9"
      },
      "execution_count": 11,
      "outputs": [
        {
          "output_type": "stream",
          "name": "stderr",
          "text": [
            "100%|██████████| 1306/1306 [00:09<00:00, 144.42it/s]\n",
            "100%|██████████| 1162/1162 [00:01<00:00, 884.95it/s]\n",
            "100%|██████████| 574/574 [00:01<00:00, 354.68it/s]\n",
            "100%|██████████| 1146/1146 [00:04<00:00, 243.94it/s]\n"
          ]
        }
      ]
    },
    {
      "cell_type": "code",
      "source": [
        "# Menghitung jumlah data untuk setiap kelas\n",
        "class_counts = {class_name: Z.count(class_name) for class_name in set(Z)}\n",
        "\n",
        "# Menampilkan visualisasi jumlah data\n",
        "plt.figure(figsize=(6, 4))\n",
        "plt.bar(class_counts.keys(), class_counts.values())\n",
        "plt.xlabel('Class')\n",
        "plt.ylabel('Count')\n",
        "plt.title('Jumlah Data Setiap Kelas')\n",
        "plt.show()"
      ],
      "metadata": {
        "colab": {
          "base_uri": "https://localhost:8080/",
          "height": 410
        },
        "id": "-IcXHIM8Akcw",
        "outputId": "daac2c31-9468-4f43-9699-25619114fc26"
      },
      "execution_count": 12,
      "outputs": [
        {
          "output_type": "display_data",
          "data": {
            "text/plain": [
              "<Figure size 600x400 with 1 Axes>"
            ],
            "image/png": "[encoded data removed]"
          },
          "metadata": {}
        }
      ]
    },
    {
      "cell_type": "code",
      "source": [
        "le = LabelEncoder()\n",
        "Y = le.fit_transform(Z)\n",
        "Y = to_categorical(Y, num_classes=len(le.classes_))\n",
        "\n",
        "# Konversi ke array numpy\n",
        "X = np.array(X)\n",
        "\n",
        "# Memisahkan data menjadi data latih dan data uji\n",
        "X_train, X_test, Y_train, Y_test = train_test_split(X, Y, test_size=0.2, random_state=42)\n",
        "\n",
        "print(\"Jumlah Data Train adalah :\", len(X_train))\n",
        "print(\"Jumlah Data Test adalah :\", len(X_test))"
      ],
      "metadata": {
        "colab": {
          "base_uri": "https://localhost:8080/"
        },
        "id": "OI7kvVbXAqko",
        "outputId": "b9f3ea9d-627e-4c69-b20a-ad14b0d7211c"
      },
      "execution_count": 13,
      "outputs": [
        {
          "output_type": "stream",
          "name": "stdout",
          "text": [
            "Jumlah Data Train adalah : 3350\n",
            "Jumlah Data Test adalah : 838\n"
          ]
        }
      ]
    },
    {
      "cell_type": "code",
      "source": [
        "print(X_train[0])"
      ],
      "metadata": {
        "colab": {
          "base_uri": "https://localhost:8080/"
        },
        "id": "oDuXTKwBEPj_",
        "outputId": "fe5ec7a5-b8ea-4073-ec32-abe1d42c00dd"
      },
      "execution_count": 19,
      "outputs": [
        {
          "output_type": "stream",
          "name": "stdout",
          "text": [
            "[[[195 222 206]\n",
            "  [191 218 202]\n",
            "  [199 225 209]\n",
            "  ...\n",
            "  [ 63  99  69]\n",
            "  [ 38  73  42]\n",
            "  [ 24  59  27]]\n",
            "\n",
            " [[193 220 204]\n",
            "  [189 216 200]\n",
            "  [196 222 207]\n",
            "  ...\n",
            "  [ 74 110  80]\n",
            "  [ 44  79  48]\n",
            "  [ 25  59  29]]\n",
            "\n",
            " [[192 219 203]\n",
            "  [187 214 198]\n",
            "  [193 219 203]\n",
            "  ...\n",
            "  [ 88 126  96]\n",
            "  [ 66 102  72]\n",
            "  [ 52  89  59]]\n",
            "\n",
            " ...\n",
            "\n",
            " [[ 34  55  53]\n",
            "  [ 60  82  79]\n",
            "  [112 138 131]\n",
            "  ...\n",
            "  [ 88 123 112]\n",
            "  [ 89 124 113]\n",
            "  [ 84 121 109]]\n",
            "\n",
            " [[ 39  57  57]\n",
            "  [ 60  82  79]\n",
            "  [114 139 134]\n",
            "  ...\n",
            "  [ 77 111 100]\n",
            "  [ 80 112 102]\n",
            "  [ 79 113 103]]\n",
            "\n",
            " [[ 27  45  46]\n",
            "  [ 54  75  73]\n",
            "  [116 140 137]\n",
            "  ...\n",
            "  [ 69 101  90]\n",
            "  [ 72 104  94]\n",
            "  [ 78 110 101]]]\n"
          ]
        }
      ]
    },
    {
      "cell_type": "code",
      "source": [
        "datagen = ImageDataGenerator(\n",
        "    rotation_range=20,\n",
        "    zoom_range=0.2,\n",
        "    horizontal_flip=True,\n",
        "    vertical_flip=True\n",
        ")\n",
        "\n",
        "datagen.fit(X_train)"
      ],
      "metadata": {
        "id": "ue5XLCIlA2ld"
      },
      "execution_count": 14,
      "outputs": []
    },
    {
      "cell_type": "code",
      "source": [
        "resnet50 = ResNet50(include_top=False, weights=None, input_shape=(IMAGE_SIZE_resnet50, IMAGE_SIZE_resnet50, 3))\n",
        "\n",
        "# Membuat model Sequential\n",
        "model_resnet50ver2 = Sequential()\n",
        "model_resnet50ver2.add(resnet50)\n",
        "model_resnet50ver2.add(GlobalAveragePooling2D())\n",
        "model_resnet50ver2.add(Dense(4, activation='softmax'))\n",
        "\n",
        "# Membekukan layer-layer ResNet50 yang telah dilatih\n",
        "for layer in resnet50.layers:\n",
        "    layer.trainable = False\n",
        "\n",
        "model_resnet50ver2.compile(optimizer=Adam(learning_rate=1e-4), loss='categorical_crossentropy', metrics=['accuracy'])\n",
        "\n",
        "# Menampilkan summary dari model\n",
        "model_resnet50ver2.summary()\n",
        "\n",
        "# Melatih model dengan data latih dan validasi\n",
        "history_resnet50ver2 = model_resnet50ver2.fit(datagen.flow(X_train, Y_train), epochs=100, validation_data=(X_test, Y_test))"
      ],
      "metadata": {
        "id": "qg6h8yY_A62R",
        "colab": {
          "base_uri": "https://localhost:8080/"
        },
        "outputId": "5c67d872-3780-49e2-acae-09711a95aeae"
      },
      "execution_count": 22,
      "outputs": [
        {
          "metadata": {
            "tags": null
          },
          "name": "stdout",
          "output_type": "stream",
          "text": [
            "Model: \"sequential_2\"\n",
            "_________________________________________________________________\n",
            " Layer (type)                Output Shape              Param #   \n",
            "=================================================================\n",
            " resnet50 (Functional)       (None, 7, 7, 2048)        23587712  \n",
            "                                                                 \n",
            " global_average_pooling2d_2  (None, 2048)              0         \n",
            "  (GlobalAveragePooling2D)                                       \n",
            "                                                                 \n",
            " dense_2 (Dense)             (None, 4)                 8196      \n",
            "                                                                 \n",
            "=================================================================\n",
            "Total params: 23595908 (90.01 MB)\n",
            "Trainable params: 8196 (32.02 KB)\n",
            "Non-trainable params: 23587712 (89.98 MB)\n",
            "_________________________________________________________________\n",
            "Epoch 1/100\n",
            "105/105 [==============================] - 48s 421ms/step - loss: 2.3480 - accuracy: 0.3913 - val_loss: 1.1703 - val_accuracy: 0.5621\n",
            "Epoch 2/100\n",
            "105/105 [==============================] - 43s 411ms/step - loss: 1.1112 - accuracy: 0.5600 - val_loss: 1.0642 - val_accuracy: 0.6420\n",
            "Epoch 3/100\n",
            "105/105 [==============================] - 42s 401ms/step - loss: 1.0203 - accuracy: 0.6033 - val_loss: 0.9226 - val_accuracy: 0.6754\n",
            "Epoch 4/100\n",
            "105/105 [==============================] - 42s 398ms/step - loss: 0.9294 - accuracy: 0.6621 - val_loss: 0.8023 - val_accuracy: 0.7482\n",
            "Epoch 5/100\n",
            "105/105 [==============================] - 41s 395ms/step - loss: 0.8877 - accuracy: 0.6740 - val_loss: 0.7904 - val_accuracy: 0.6957\n",
            "Epoch 6/100\n",
            "105/105 [==============================] - 42s 399ms/step - loss: 0.8270 - accuracy: 0.6854 - val_loss: 0.7017 - val_accuracy: 0.7673\n",
            "Epoch 7/100\n",
            "105/105 [==============================] - 41s 395ms/step - loss: 0.7896 - accuracy: 0.6961 - val_loss: 0.6822 - val_accuracy: 0.7685\n",
            "Epoch 8/100\n",
            "105/105 [==============================] - 41s 394ms/step - loss: 0.7482 - accuracy: 0.7221 - val_loss: 0.6558 - val_accuracy: 0.7721\n",
            "Epoch 9/100\n",
            "105/105 [==============================] - 42s 396ms/step - loss: 0.7382 - accuracy: 0.7203 - val_loss: 0.6358 - val_accuracy: 0.7625\n",
            "Epoch 10/100\n",
            "105/105 [==============================] - 42s 394ms/step - loss: 0.7156 - accuracy: 0.7158 - val_loss: 0.6416 - val_accuracy: 0.7661\n",
            "Epoch 11/100\n",
            "105/105 [==============================] - 41s 393ms/step - loss: 0.6979 - accuracy: 0.7296 - val_loss: 0.6123 - val_accuracy: 0.7721\n",
            "Epoch 12/100\n",
            "105/105 [==============================] - 43s 407ms/step - loss: 0.6851 - accuracy: 0.7322 - val_loss: 0.5948 - val_accuracy: 0.7780\n",
            "Epoch 13/100\n",
            "105/105 [==============================] - 41s 395ms/step - loss: 0.6595 - accuracy: 0.7460 - val_loss: 0.6139 - val_accuracy: 0.7661\n",
            "Epoch 14/100\n",
            "105/105 [==============================] - 42s 396ms/step - loss: 0.6527 - accuracy: 0.7412 - val_loss: 0.5970 - val_accuracy: 0.7757\n",
            "Epoch 15/100\n",
            "105/105 [==============================] - 42s 396ms/step - loss: 0.6457 - accuracy: 0.7412 - val_loss: 0.5778 - val_accuracy: 0.7924\n",
            "Epoch 16/100\n",
            "105/105 [==============================] - 41s 391ms/step - loss: 0.6482 - accuracy: 0.7448 - val_loss: 0.5469 - val_accuracy: 0.7912\n",
            "Epoch 17/100\n",
            "105/105 [==============================] - 42s 400ms/step - loss: 0.6391 - accuracy: 0.7418 - val_loss: 0.5566 - val_accuracy: 0.7625\n",
            "Epoch 18/100\n",
            "105/105 [==============================] - 42s 397ms/step - loss: 0.6281 - accuracy: 0.7490 - val_loss: 0.5418 - val_accuracy: 0.7840\n",
            "Epoch 19/100\n",
            "105/105 [==============================] - 42s 398ms/step - loss: 0.6142 - accuracy: 0.7490 - val_loss: 0.6604 - val_accuracy: 0.6897\n",
            "Epoch 20/100\n",
            "105/105 [==============================] - 42s 395ms/step - loss: 0.6260 - accuracy: 0.7585 - val_loss: 0.5306 - val_accuracy: 0.7804\n",
            "Epoch 21/100\n",
            "105/105 [==============================] - 42s 400ms/step - loss: 0.6138 - accuracy: 0.7654 - val_loss: 0.5645 - val_accuracy: 0.7709\n",
            "Epoch 22/100\n",
            "105/105 [==============================] - 45s 422ms/step - loss: 0.6199 - accuracy: 0.7469 - val_loss: 0.5241 - val_accuracy: 0.7888\n",
            "Epoch 23/100\n",
            "105/105 [==============================] - 42s 398ms/step - loss: 0.5993 - accuracy: 0.7552 - val_loss: 0.5182 - val_accuracy: 0.7816\n",
            "Epoch 24/100\n",
            "105/105 [==============================] - 44s 421ms/step - loss: 0.5937 - accuracy: 0.7531 - val_loss: 0.4910 - val_accuracy: 0.8103\n",
            "Epoch 25/100\n",
            "105/105 [==============================] - 42s 400ms/step - loss: 0.5959 - accuracy: 0.7519 - val_loss: 0.4899 - val_accuracy: 0.7912\n",
            "Epoch 26/100\n",
            "105/105 [==============================] - 42s 398ms/step - loss: 0.5869 - accuracy: 0.7549 - val_loss: 0.5092 - val_accuracy: 0.7971\n",
            "Epoch 27/100\n",
            "105/105 [==============================] - 42s 399ms/step - loss: 0.5847 - accuracy: 0.7558 - val_loss: 0.5049 - val_accuracy: 0.7888\n",
            "Epoch 28/100\n",
            "105/105 [==============================] - 42s 397ms/step - loss: 0.5958 - accuracy: 0.7496 - val_loss: 0.4927 - val_accuracy: 0.8043\n",
            "Epoch 29/100\n",
            "105/105 [==============================] - 43s 407ms/step - loss: 0.5893 - accuracy: 0.7439 - val_loss: 0.5038 - val_accuracy: 0.7780\n",
            "Epoch 30/100\n",
            "105/105 [==============================] - 42s 400ms/step - loss: 0.5781 - accuracy: 0.7645 - val_loss: 0.5102 - val_accuracy: 0.7530\n",
            "Epoch 31/100\n",
            "105/105 [==============================] - 42s 397ms/step - loss: 0.5700 - accuracy: 0.7701 - val_loss: 0.4839 - val_accuracy: 0.8007\n",
            "Epoch 32/100\n",
            "105/105 [==============================] - 42s 398ms/step - loss: 0.5741 - accuracy: 0.7603 - val_loss: 0.4916 - val_accuracy: 0.8103\n",
            "Epoch 33/100\n",
            "105/105 [==============================] - 41s 395ms/step - loss: 0.5586 - accuracy: 0.7690 - val_loss: 0.5104 - val_accuracy: 0.7470\n",
            "Epoch 34/100\n",
            "105/105 [==============================] - 42s 398ms/step - loss: 0.5706 - accuracy: 0.7639 - val_loss: 0.4657 - val_accuracy: 0.7959\n",
            "Epoch 35/100\n",
            "105/105 [==============================] - 41s 394ms/step - loss: 0.5487 - accuracy: 0.7806 - val_loss: 0.4787 - val_accuracy: 0.8079\n",
            "Epoch 36/100\n",
            "105/105 [==============================] - 43s 408ms/step - loss: 0.5806 - accuracy: 0.7573 - val_loss: 0.5457 - val_accuracy: 0.7685\n",
            "Epoch 37/100\n",
            "105/105 [==============================] - 41s 393ms/step - loss: 0.5679 - accuracy: 0.7666 - val_loss: 0.4972 - val_accuracy: 0.7840\n",
            "Epoch 38/100\n",
            "105/105 [==============================] - 42s 398ms/step - loss: 0.5478 - accuracy: 0.7716 - val_loss: 0.4483 - val_accuracy: 0.8174\n",
            "Epoch 39/100\n",
            "105/105 [==============================] - 42s 402ms/step - loss: 0.5588 - accuracy: 0.7690 - val_loss: 0.4884 - val_accuracy: 0.8007\n",
            "Epoch 40/100\n",
            "105/105 [==============================] - 42s 398ms/step - loss: 0.5342 - accuracy: 0.7821 - val_loss: 0.4739 - val_accuracy: 0.7888\n",
            "Epoch 41/100\n",
            "105/105 [==============================] - 42s 399ms/step - loss: 0.5442 - accuracy: 0.7809 - val_loss: 0.5545 - val_accuracy: 0.7220\n",
            "Epoch 42/100\n",
            "105/105 [==============================] - 42s 395ms/step - loss: 0.5694 - accuracy: 0.7603 - val_loss: 0.4677 - val_accuracy: 0.7947\n",
            "Epoch 43/100\n",
            "105/105 [==============================] - 43s 412ms/step - loss: 0.5540 - accuracy: 0.7743 - val_loss: 0.4422 - val_accuracy: 0.8270\n",
            "Epoch 44/100\n",
            "105/105 [==============================] - 42s 397ms/step - loss: 0.5559 - accuracy: 0.7722 - val_loss: 0.4630 - val_accuracy: 0.8210\n",
            "Epoch 45/100\n",
            "105/105 [==============================] - 42s 401ms/step - loss: 0.5377 - accuracy: 0.7809 - val_loss: 0.4786 - val_accuracy: 0.7888\n",
            "Epoch 46/100\n",
            "105/105 [==============================] - 42s 399ms/step - loss: 0.5450 - accuracy: 0.7725 - val_loss: 0.5196 - val_accuracy: 0.7947\n",
            "Epoch 47/100\n",
            "105/105 [==============================] - 42s 398ms/step - loss: 0.5569 - accuracy: 0.7669 - val_loss: 0.4634 - val_accuracy: 0.7995\n",
            "Epoch 48/100\n",
            "105/105 [==============================] - 43s 407ms/step - loss: 0.5319 - accuracy: 0.7752 - val_loss: 0.4855 - val_accuracy: 0.7578\n",
            "Epoch 49/100\n",
            "105/105 [==============================] - 42s 396ms/step - loss: 0.5568 - accuracy: 0.7678 - val_loss: 0.4649 - val_accuracy: 0.7816\n",
            "Epoch 50/100\n",
            "105/105 [==============================] - 42s 398ms/step - loss: 0.5191 - accuracy: 0.7919 - val_loss: 0.4556 - val_accuracy: 0.7947\n",
            "Epoch 51/100\n",
            "105/105 [==============================] - 42s 398ms/step - loss: 0.5477 - accuracy: 0.7710 - val_loss: 0.4399 - val_accuracy: 0.8294\n",
            "Epoch 52/100\n",
            "105/105 [==============================] - 42s 400ms/step - loss: 0.5153 - accuracy: 0.7806 - val_loss: 0.5601 - val_accuracy: 0.7936\n",
            "Epoch 53/100\n",
            "105/105 [==============================] - 42s 398ms/step - loss: 0.5326 - accuracy: 0.7809 - val_loss: 0.4417 - val_accuracy: 0.8246\n",
            "Epoch 54/100\n",
            "105/105 [==============================] - 42s 397ms/step - loss: 0.5272 - accuracy: 0.7821 - val_loss: 0.4956 - val_accuracy: 0.7745\n",
            "Epoch 55/100\n",
            "105/105 [==============================] - 42s 399ms/step - loss: 0.5285 - accuracy: 0.7815 - val_loss: 0.4281 - val_accuracy: 0.8258\n",
            "Epoch 56/100\n",
            "105/105 [==============================] - 42s 398ms/step - loss: 0.5146 - accuracy: 0.7901 - val_loss: 0.4211 - val_accuracy: 0.8341\n",
            "Epoch 57/100\n",
            "105/105 [==============================] - 43s 409ms/step - loss: 0.5189 - accuracy: 0.7839 - val_loss: 0.4398 - val_accuracy: 0.8162\n",
            "Epoch 58/100\n",
            "105/105 [==============================] - 42s 401ms/step - loss: 0.5200 - accuracy: 0.7887 - val_loss: 0.4197 - val_accuracy: 0.8353\n",
            "Epoch 59/100\n",
            "105/105 [==============================] - 42s 400ms/step - loss: 0.5144 - accuracy: 0.7773 - val_loss: 0.4402 - val_accuracy: 0.8043\n",
            "Epoch 60/100\n",
            "105/105 [==============================] - 42s 400ms/step - loss: 0.5188 - accuracy: 0.7806 - val_loss: 0.4511 - val_accuracy: 0.8103\n",
            "Epoch 61/100\n",
            "105/105 [==============================] - 43s 410ms/step - loss: 0.5446 - accuracy: 0.7699 - val_loss: 0.4276 - val_accuracy: 0.8270\n",
            "Epoch 62/100\n",
            "105/105 [==============================] - 42s 398ms/step - loss: 0.5356 - accuracy: 0.7731 - val_loss: 0.4406 - val_accuracy: 0.8126\n",
            "Epoch 63/100\n",
            "105/105 [==============================] - 42s 403ms/step - loss: 0.5527 - accuracy: 0.7660 - val_loss: 0.4806 - val_accuracy: 0.8007\n",
            "Epoch 64/100\n",
            "105/105 [==============================] - 42s 401ms/step - loss: 0.5225 - accuracy: 0.7824 - val_loss: 0.4182 - val_accuracy: 0.8305\n",
            "Epoch 65/100\n",
            "105/105 [==============================] - 42s 402ms/step - loss: 0.5152 - accuracy: 0.7836 - val_loss: 0.4561 - val_accuracy: 0.8174\n",
            "Epoch 66/100\n",
            "105/105 [==============================] - 42s 398ms/step - loss: 0.5077 - accuracy: 0.7881 - val_loss: 0.5284 - val_accuracy: 0.7363\n",
            "Epoch 67/100\n",
            "105/105 [==============================] - 43s 402ms/step - loss: 0.5351 - accuracy: 0.7764 - val_loss: 0.4191 - val_accuracy: 0.8294\n",
            "Epoch 68/100\n",
            "105/105 [==============================] - 41s 392ms/step - loss: 0.5129 - accuracy: 0.7869 - val_loss: 0.4114 - val_accuracy: 0.8246\n",
            "Epoch 69/100\n",
            "105/105 [==============================] - 42s 397ms/step - loss: 0.5100 - accuracy: 0.7860 - val_loss: 0.4387 - val_accuracy: 0.8258\n",
            "Epoch 70/100\n",
            "105/105 [==============================] - 43s 407ms/step - loss: 0.5166 - accuracy: 0.7839 - val_loss: 0.4769 - val_accuracy: 0.8031\n",
            "Epoch 71/100\n",
            "105/105 [==============================] - 42s 397ms/step - loss: 0.5116 - accuracy: 0.7854 - val_loss: 0.4238 - val_accuracy: 0.8198\n",
            "Epoch 72/100\n",
            "105/105 [==============================] - 42s 397ms/step - loss: 0.5015 - accuracy: 0.7901 - val_loss: 0.4079 - val_accuracy: 0.8401\n",
            "Epoch 73/100\n",
            "105/105 [==============================] - 42s 397ms/step - loss: 0.5008 - accuracy: 0.7863 - val_loss: 0.4590 - val_accuracy: 0.8031\n",
            "Epoch 74/100\n",
            "105/105 [==============================] - 43s 413ms/step - loss: 0.4939 - accuracy: 0.7904 - val_loss: 0.4216 - val_accuracy: 0.8353\n",
            "Epoch 75/100\n",
            "105/105 [==============================] - 41s 394ms/step - loss: 0.5122 - accuracy: 0.7839 - val_loss: 0.4107 - val_accuracy: 0.8353\n",
            "Epoch 76/100\n",
            "105/105 [==============================] - 42s 396ms/step - loss: 0.4989 - accuracy: 0.7857 - val_loss: 0.4920 - val_accuracy: 0.7411\n",
            "Epoch 77/100\n",
            "105/105 [==============================] - 42s 398ms/step - loss: 0.5073 - accuracy: 0.7836 - val_loss: 0.5145 - val_accuracy: 0.7184\n",
            "Epoch 78/100\n",
            "105/105 [==============================] - 41s 394ms/step - loss: 0.5128 - accuracy: 0.7839 - val_loss: 0.4038 - val_accuracy: 0.8341\n",
            "Epoch 79/100\n",
            "105/105 [==============================] - 42s 396ms/step - loss: 0.5320 - accuracy: 0.7785 - val_loss: 0.5440 - val_accuracy: 0.7375\n",
            "Epoch 80/100\n",
            "105/105 [==============================] - 42s 397ms/step - loss: 0.5097 - accuracy: 0.7860 - val_loss: 0.4547 - val_accuracy: 0.8031\n",
            "Epoch 81/100\n",
            "105/105 [==============================] - 42s 398ms/step - loss: 0.4780 - accuracy: 0.8000 - val_loss: 0.4323 - val_accuracy: 0.8150\n",
            "Epoch 82/100\n",
            "105/105 [==============================] - 42s 398ms/step - loss: 0.4952 - accuracy: 0.7890 - val_loss: 0.4049 - val_accuracy: 0.8317\n",
            "Epoch 83/100\n",
            "105/105 [==============================] - 42s 399ms/step - loss: 0.5019 - accuracy: 0.7878 - val_loss: 0.4479 - val_accuracy: 0.8162\n",
            "Epoch 84/100\n",
            "105/105 [==============================] - 43s 405ms/step - loss: 0.4971 - accuracy: 0.7857 - val_loss: 0.4642 - val_accuracy: 0.7709\n",
            "Epoch 85/100\n",
            "105/105 [==============================] - 44s 420ms/step - loss: 0.4893 - accuracy: 0.8018 - val_loss: 0.4556 - val_accuracy: 0.8079\n",
            "Epoch 86/100\n",
            "105/105 [==============================] - 44s 418ms/step - loss: 0.4986 - accuracy: 0.7907 - val_loss: 0.4517 - val_accuracy: 0.7876\n",
            "Epoch 87/100\n",
            "105/105 [==============================] - 43s 411ms/step - loss: 0.4870 - accuracy: 0.7955 - val_loss: 0.4433 - val_accuracy: 0.8222\n",
            "Epoch 88/100\n",
            "105/105 [==============================] - 44s 415ms/step - loss: 0.5050 - accuracy: 0.7878 - val_loss: 0.4155 - val_accuracy: 0.8282\n",
            "Epoch 89/100\n",
            "105/105 [==============================] - 44s 422ms/step - loss: 0.4898 - accuracy: 0.7991 - val_loss: 0.4018 - val_accuracy: 0.8401\n",
            "Epoch 90/100\n",
            "105/105 [==============================] - 43s 410ms/step - loss: 0.5001 - accuracy: 0.7913 - val_loss: 0.4443 - val_accuracy: 0.8115\n",
            "Epoch 91/100\n",
            "105/105 [==============================] - 43s 405ms/step - loss: 0.4863 - accuracy: 0.8012 - val_loss: 0.4020 - val_accuracy: 0.8353\n",
            "Epoch 92/100\n",
            "105/105 [==============================] - 42s 404ms/step - loss: 0.4933 - accuracy: 0.7875 - val_loss: 0.4109 - val_accuracy: 0.8329\n",
            "Epoch 93/100\n",
            "105/105 [==============================] - 43s 405ms/step - loss: 0.4919 - accuracy: 0.7970 - val_loss: 0.4143 - val_accuracy: 0.8341\n",
            "Epoch 94/100\n",
            "105/105 [==============================] - 42s 400ms/step - loss: 0.4782 - accuracy: 0.8054 - val_loss: 0.4499 - val_accuracy: 0.8210\n",
            "Epoch 95/100\n",
            "105/105 [==============================] - 43s 408ms/step - loss: 0.4922 - accuracy: 0.7967 - val_loss: 0.4266 - val_accuracy: 0.8222\n",
            "Epoch 96/100\n",
            "105/105 [==============================] - 42s 403ms/step - loss: 0.4973 - accuracy: 0.7925 - val_loss: 0.4181 - val_accuracy: 0.8282\n",
            "Epoch 97/100\n",
            "105/105 [==============================] - 42s 399ms/step - loss: 0.4839 - accuracy: 0.7913 - val_loss: 0.3943 - val_accuracy: 0.8389\n",
            "Epoch 98/100\n",
            "105/105 [==============================] - 42s 401ms/step - loss: 0.4763 - accuracy: 0.8012 - val_loss: 0.4078 - val_accuracy: 0.8353\n",
            "Epoch 99/100\n",
            "105/105 [==============================] - 41s 387ms/step - loss: 0.4850 - accuracy: 0.8036 - val_loss: 0.3990 - val_accuracy: 0.8401\n",
            "Epoch 100/100\n",
            "105/105 [==============================] - 42s 396ms/step - loss: 0.4789 - accuracy: 0.8018 - val_loss: 0.4044 - val_accuracy: 0.8365\n"
          ]
        }
      ]
    },
    {
      "cell_type": "code",
      "source": [
        "# Menggunakan model_resnet50ver2 untuk membuat prediksi pada data uji\n",
        "Y_pred = model_resnet50ver2.predict(X_test)\n",
        "# Mengambil indeks kelas dengan probabilitas tertinggi sebagai prediksi\n",
        "Y_pred_classes = np.argmax(Y_pred, axis=1)\n",
        "# Mengambil indeks kelas dengan probabilitas tertinggi sebagai label sebenarnya\n",
        "Y_true = np.argmax(Y_test, axis=1)\n",
        "\n",
        "# Membuat confusion matrix\n",
        "conf_matrix = confusion_matrix(Y_true, Y_pred_classes)\n",
        "\n",
        "# Menampilkan confusion matrix dalam bentuk visualisasi\n",
        "plt.figure(figsize=(8, 6))\n",
        "sns.heatmap(conf_matrix, annot=True, fmt=\"d\", cmap=\"Blues\", xticklabels=['Common_Rust', 'Healthy', 'Gray_Leaf_Spot', 'Blight'], yticklabels=['Common_Rust', 'Healthy', 'Gray_Leaf_Spot', 'Blight'])\n",
        "plt.xlabel('Predicted labels')\n",
        "plt.ylabel('True labels')\n",
        "plt.title('Confusion Matrix')\n",
        "plt.show()\n",
        "\n",
        "# Membuat classification report\n",
        "class_report = classification_report(Y_true, Y_pred_classes)\n",
        "\n",
        "# Menampilkan classification report\n",
        "print(\"\\nClassification Report:\")\n",
        "print(class_report)"
      ],
      "metadata": {
        "id": "W2svXyjyTjeo",
        "colab": {
          "base_uri": "https://localhost:8080/",
          "height": 807
        },
        "outputId": "032f126e-82eb-4b2b-a14d-96a0b4dcd6c3"
      },
      "execution_count": 24,
      "outputs": [
        {
          "output_type": "stream",
          "name": "stdout",
          "text": [
            "27/27 [==============================] - 2s 86ms/step\n"
          ]
        },
        {
          "output_type": "display_data",
          "data": {
            "text/plain": [
              "<Figure size 800x600 with 2 Axes>"
            ],
            "image/png": "[encoded data removed]"
          },
          "metadata": {}
        },
        {
          "output_type": "stream",
          "name": "stdout",
          "text": [
            "\n",
            "Classification Report:\n",
            "              precision    recall  f1-score   support\n",
            "\n",
            "           0       0.64      0.94      0.76       218\n",
            "           1       0.96      0.96      0.96       289\n",
            "           2       0.75      0.06      0.11       104\n",
            "           3       0.97      0.94      0.96       227\n",
            "\n",
            "    accuracy                           0.84       838\n",
            "   macro avg       0.83      0.72      0.70       838\n",
            "weighted avg       0.85      0.84      0.80       838\n",
            "\n"
          ]
        }
      ]
    },
    {
      "cell_type": "code",
      "source": [
        "model_resnet50ver2.save('resnet50.h5')"
      ],
      "metadata": {
        "colab": {
          "base_uri": "https://localhost:8080/"
        },
        "id": "m85kjtZopOdu",
        "outputId": "808e6f8c-19fc-4cea-8c13-84445064ac07"
      },
      "execution_count": 17,
      "outputs": [
        {
          "output_type": "stream",
          "name": "stderr",
          "text": [
            "/usr/local/lib/python3.10/dist-packages/keras/src/engine/training.py:3103: UserWarning: You are saving your model as an HDF5 file via `model.save()`. This file format is considered legacy. We recommend using instead the native Keras format, e.g. `model.save('my_model.keras')`.\n",
            "  saving_api.save_model(\n"
          ]
        }
      ]
    }
  ]
}