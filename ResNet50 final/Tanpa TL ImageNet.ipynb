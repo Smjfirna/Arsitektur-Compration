{
  "nbformat": 4,
  "nbformat_minor": 0,
  "metadata": {
    "colab": {
      "provenance": [],
      "gpuType": "T4",
      "authorship_tag": "ABX9TyOCNokE8NcoiLmj4CLWVcSM",
      "include_colab_link": true
    },
    "kernelspec": {
      "name": "python3",
      "display_name": "Python 3"
    },
    "language_info": {
      "name": "python"
    },
    "accelerator": "GPU"
  },
  "cells": [
    {
      "cell_type": "markdown",
      "metadata": {
        "id": "view-in-github",
        "colab_type": "text"
      },
      "source": [
        "<a href=\"https://colab.research.google.com/github/Smjfirna/Arsitektur-Compration/blob/main/ResNet50%20final/Tanpa%20TL%20ImageNet.ipynb\" target=\"_parent\"><img src=\"https://colab.research.google.com/assets/colab-badge.svg\" alt=\"Open In Colab\"/></a>"
      ]
    },
    {
      "cell_type": "code",
      "source": [
        "#Preprocessing\n",
        "import os\n",
        "import cv2\n",
        "import numpy as np\n",
        "from tqdm import tqdm\n",
        "from sklearn.model_selection import train_test_split\n",
        "from sklearn.preprocessing import LabelEncoder\n",
        "from keras.utils import to_categorical\n",
        "\n",
        "#Model dan Augmentasi\n",
        "import tensorflow as tf\n",
        "from tensorflow.keras.preprocessing.image import ImageDataGenerator\n",
        "from tensorflow.keras.models import Sequential\n",
        "from tensorflow.keras import layers, Model, regularizers\n",
        "from tensorflow.keras.callbacks import EarlyStopping\n",
        "from tensorflow.keras.layers import Conv2D, MaxPooling2D, Flatten, Dense, GlobalAveragePooling2D, Dropout\n",
        "import os\n",
        "from tensorflow.keras.optimizers import Adam\n",
        "from tensorflow.keras.optimizers import RMSprop\n",
        "from keras.applications import ResNet50\n",
        "\n",
        "# Evaluasi\n",
        "#import torch\n",
        "#import torchvision.models as models\n",
        "#from thop import profile\n",
        "from sklearn.metrics import confusion_matrix, classification_report\n",
        "\n",
        "#Visualisasi\n",
        "import matplotlib.pyplot as plt\n",
        "import seaborn as sns"
      ],
      "metadata": {
        "id": "NMN3beIVALVJ"
      },
      "execution_count": 1,
      "outputs": []
    },
    {
      "cell_type": "code",
      "execution_count": 2,
      "metadata": {
        "colab": {
          "base_uri": "https://localhost:8080/",
          "height": 90
        },
        "id": "GK3MPeDN_Ofu",
        "outputId": "4404c5d8-50ae-4cc2-8c17-e29060279bb0"
      },
      "outputs": [
        {
          "output_type": "display_data",
          "data": {
            "text/plain": [
              "<IPython.core.display.HTML object>"
            ],
            "text/html": [
              "\n",
              "     <input type=\"file\" id=\"files-94f6b40e-cb20-40c1-b072-6516ee2cd61a\" name=\"files[]\" multiple disabled\n",
              "        style=\"border:none\" />\n",
              "     <output id=\"result-94f6b40e-cb20-40c1-b072-6516ee2cd61a\">\n",
              "      Upload widget is only available when the cell has been executed in the\n",
              "      current browser session. Please rerun this cell to enable.\n",
              "      </output>\n",
              "      <script>// Copyright 2017 Google LLC\n",
              "//\n",
              "// Licensed under the Apache License, Version 2.0 (the \"License\");\n",
              "// you may not use this file except in compliance with the License.\n",
              "// You may obtain a copy of the License at\n",
              "//\n",
              "//      http://www.apache.org/licenses/LICENSE-2.0\n",
              "//\n",
              "// Unless required by applicable law or agreed to in writing, software\n",
              "// distributed under the License is distributed on an \"AS IS\" BASIS,\n",
              "// WITHOUT WARRANTIES OR CONDITIONS OF ANY KIND, either express or implied.\n",
              "// See the License for the specific language governing permissions and\n",
              "// limitations under the License.\n",
              "\n",
              "/**\n",
              " * @fileoverview Helpers for google.colab Python module.\n",
              " */\n",
              "(function(scope) {\n",
              "function span(text, styleAttributes = {}) {\n",
              "  const element = document.createElement('span');\n",
              "  element.textContent = text;\n",
              "  for (const key of Object.keys(styleAttributes)) {\n",
              "    element.style[key] = styleAttributes[key];\n",
              "  }\n",
              "  return element;\n",
              "}\n",
              "\n",
              "// Max number of bytes which will be uploaded at a time.\n",
              "const MAX_PAYLOAD_SIZE = 100 * 1024;\n",
              "\n",
              "function _uploadFiles(inputId, outputId) {\n",
              "  const steps = uploadFilesStep(inputId, outputId);\n",
              "  const outputElement = document.getElementById(outputId);\n",
              "  // Cache steps on the outputElement to make it available for the next call\n",
              "  // to uploadFilesContinue from Python.\n",
              "  outputElement.steps = steps;\n",
              "\n",
              "  return _uploadFilesContinue(outputId);\n",
              "}\n",
              "\n",
              "// This is roughly an async generator (not supported in the browser yet),\n",
              "// where there are multiple asynchronous steps and the Python side is going\n",
              "// to poll for completion of each step.\n",
              "// This uses a Promise to block the python side on completion of each step,\n",
              "// then passes the result of the previous step as the input to the next step.\n",
              "function _uploadFilesContinue(outputId) {\n",
              "  const outputElement = document.getElementById(outputId);\n",
              "  const steps = outputElement.steps;\n",
              "\n",
              "  const next = steps.next(outputElement.lastPromiseValue);\n",
              "  return Promise.resolve(next.value.promise).then((value) => {\n",
              "    // Cache the last promise value to make it available to the next\n",
              "    // step of the generator.\n",
              "    outputElement.lastPromiseValue = value;\n",
              "    return next.value.response;\n",
              "  });\n",
              "}\n",
              "\n",
              "/**\n",
              " * Generator function which is called between each async step of the upload\n",
              " * process.\n",
              " * @param {string} inputId Element ID of the input file picker element.\n",
              " * @param {string} outputId Element ID of the output display.\n",
              " * @return {!Iterable<!Object>} Iterable of next steps.\n",
              " */\n",
              "function* uploadFilesStep(inputId, outputId) {\n",
              "  const inputElement = document.getElementById(inputId);\n",
              "  inputElement.disabled = false;\n",
              "\n",
              "  const outputElement = document.getElementById(outputId);\n",
              "  outputElement.innerHTML = '';\n",
              "\n",
              "  const pickedPromise = new Promise((resolve) => {\n",
              "    inputElement.addEventListener('change', (e) => {\n",
              "      resolve(e.target.files);\n",
              "    });\n",
              "  });\n",
              "\n",
              "  const cancel = document.createElement('button');\n",
              "  inputElement.parentElement.appendChild(cancel);\n",
              "  cancel.textContent = 'Cancel upload';\n",
              "  const cancelPromise = new Promise((resolve) => {\n",
              "    cancel.onclick = () => {\n",
              "      resolve(null);\n",
              "    };\n",
              "  });\n",
              "\n",
              "  // Wait for the user to pick the files.\n",
              "  const files = yield {\n",
              "    promise: Promise.race([pickedPromise, cancelPromise]),\n",
              "    response: {\n",
              "      action: 'starting',\n",
              "    }\n",
              "  };\n",
              "\n",
              "  cancel.remove();\n",
              "\n",
              "  // Disable the input element since further picks are not allowed.\n",
              "  inputElement.disabled = true;\n",
              "\n",
              "  if (!files) {\n",
              "    return {\n",
              "      response: {\n",
              "        action: 'complete',\n",
              "      }\n",
              "    };\n",
              "  }\n",
              "\n",
              "  for (const file of files) {\n",
              "    const li = document.createElement('li');\n",
              "    li.append(span(file.name, {fontWeight: 'bold'}));\n",
              "    li.append(span(\n",
              "        `(${file.type || 'n/a'}) - ${file.size} bytes, ` +\n",
              "        `last modified: ${\n",
              "            file.lastModifiedDate ? file.lastModifiedDate.toLocaleDateString() :\n",
              "                                    'n/a'} - `));\n",
              "    const percent = span('0% done');\n",
              "    li.appendChild(percent);\n",
              "\n",
              "    outputElement.appendChild(li);\n",
              "\n",
              "    const fileDataPromise = new Promise((resolve) => {\n",
              "      const reader = new FileReader();\n",
              "      reader.onload = (e) => {\n",
              "        resolve(e.target.result);\n",
              "      };\n",
              "      reader.readAsArrayBuffer(file);\n",
              "    });\n",
              "    // Wait for the data to be ready.\n",
              "    let fileData = yield {\n",
              "      promise: fileDataPromise,\n",
              "      response: {\n",
              "        action: 'continue',\n",
              "      }\n",
              "    };\n",
              "\n",
              "    // Use a chunked sending to avoid message size limits. See b/62115660.\n",
              "    let position = 0;\n",
              "    do {\n",
              "      const length = Math.min(fileData.byteLength - position, MAX_PAYLOAD_SIZE);\n",
              "      const chunk = new Uint8Array(fileData, position, length);\n",
              "      position += length;\n",
              "\n",
              "      const base64 = btoa(String.fromCharCode.apply(null, chunk));\n",
              "      yield {\n",
              "        response: {\n",
              "          action: 'append',\n",
              "          file: file.name,\n",
              "          data: base64,\n",
              "        },\n",
              "      };\n",
              "\n",
              "      let percentDone = fileData.byteLength === 0 ?\n",
              "          100 :\n",
              "          Math.round((position / fileData.byteLength) * 100);\n",
              "      percent.textContent = `${percentDone}% done`;\n",
              "\n",
              "    } while (position < fileData.byteLength);\n",
              "  }\n",
              "\n",
              "  // All done.\n",
              "  yield {\n",
              "    response: {\n",
              "      action: 'complete',\n",
              "    }\n",
              "  };\n",
              "}\n",
              "\n",
              "scope.google = scope.google || {};\n",
              "scope.google.colab = scope.google.colab || {};\n",
              "scope.google.colab._files = {\n",
              "  _uploadFiles,\n",
              "  _uploadFilesContinue,\n",
              "};\n",
              "})(self);\n",
              "</script> "
            ]
          },
          "metadata": {}
        },
        {
          "output_type": "stream",
          "name": "stdout",
          "text": [
            "Saving kaggle.json to kaggle.json\n"
          ]
        },
        {
          "output_type": "execute_result",
          "data": {
            "text/plain": [
              "{'kaggle.json': b'{\"username\":\"smjayyy\",\"key\":\"07729aa6a210c0f9baaeed1cf96a6a3b\"}'}"
            ]
          },
          "metadata": {},
          "execution_count": 2
        }
      ],
      "source": [
        "from google.colab import files\n",
        "files.upload()"
      ]
    },
    {
      "cell_type": "code",
      "source": [
        "!mkdir -p ~/.kaggle\n",
        "!cp kaggle.json ~/.kaggle/\n",
        "!chmod 600 ~/.kaggle/kaggle.json"
      ],
      "metadata": {
        "id": "Y9Kia11G_5Si"
      },
      "execution_count": 3,
      "outputs": []
    },
    {
      "cell_type": "code",
      "source": [
        "##link dataset in Kaggle.com\n",
        "!kaggle datasets download -d smaranjitghose/corn-or-maize-leaf-disease-dataset"
      ],
      "metadata": {
        "colab": {
          "base_uri": "https://localhost:8080/"
        },
        "id": "apfKVlxj_8FJ",
        "outputId": "a11c05d0-3d8f-422d-e002-cb567bc1ae33"
      },
      "execution_count": 4,
      "outputs": [
        {
          "output_type": "stream",
          "name": "stdout",
          "text": [
            "Dataset URL: https://www.kaggle.com/datasets/smaranjitghose/corn-or-maize-leaf-disease-dataset\n",
            "License(s): copyright-authors\n",
            "Downloading corn-or-maize-leaf-disease-dataset.zip to /content\n",
            " 99% 159M/161M [00:02<00:00, 78.7MB/s]\n",
            "100% 161M/161M [00:02<00:00, 57.2MB/s]\n"
          ]
        }
      ]
    },
    {
      "cell_type": "code",
      "source": [
        "!unzip -q corn-or-maize-leaf-disease-dataset.zip -d /content"
      ],
      "metadata": {
        "id": "ixMUoB2rAAd3"
      },
      "execution_count": 5,
      "outputs": []
    },
    {
      "cell_type": "code",
      "source": [
        "dataset_dir = '/content/data'"
      ],
      "metadata": {
        "id": "pZ8IerIQAGFO"
      },
      "execution_count": 6,
      "outputs": []
    },
    {
      "cell_type": "code",
      "source": [
        "print(os.listdir(dataset_dir))"
      ],
      "metadata": {
        "colab": {
          "base_uri": "https://localhost:8080/"
        },
        "id": "9wwka8QaAIcj",
        "outputId": "7ba3f223-c095-4fc5-f441-32ba94d9435b"
      },
      "execution_count": 7,
      "outputs": [
        {
          "output_type": "stream",
          "name": "stdout",
          "text": [
            "['Blight', 'Common_Rust', 'Gray_Leaf_Spot', 'Healthy']\n"
          ]
        }
      ]
    },
    {
      "cell_type": "code",
      "source": [
        "IMAGE_SIZE_resnet50 = 224"
      ],
      "metadata": {
        "id": "_UCEuA-hAPSa"
      },
      "execution_count": 8,
      "outputs": []
    },
    {
      "cell_type": "code",
      "source": [
        "def make_data(label, DIR, img_list, label_list):\n",
        "    for img in tqdm(os.listdir(DIR)):\n",
        "        path = os.path.join(DIR, img)\n",
        "        img = cv2.imread(path, cv2.IMREAD_COLOR)\n",
        "        img = cv2.resize(img, (IMAGE_SIZE_resnet50, IMAGE_SIZE_resnet50))\n",
        "        img_list.append(np.array(img))\n",
        "        label_list.append(str(label))"
      ],
      "metadata": {
        "id": "B3menIgvARk5"
      },
      "execution_count": 9,
      "outputs": []
    },
    {
      "cell_type": "code",
      "source": [
        "X = []\n",
        "Z = []"
      ],
      "metadata": {
        "id": "Jn6gWefxATyU"
      },
      "execution_count": 10,
      "outputs": []
    },
    {
      "cell_type": "code",
      "source": [
        "for i, class_name in enumerate(['Common_Rust', 'Healthy', 'Gray_Leaf_Spot', 'Blight']):\n",
        "    class_dir = os.path.join(dataset_dir, class_name)\n",
        "    make_data(class_name, class_dir, X, Z)"
      ],
      "metadata": {
        "colab": {
          "base_uri": "https://localhost:8080/"
        },
        "id": "S9-RQTGJAWCk",
        "outputId": "e2b37b2d-def8-4701-b552-a59897faabe9"
      },
      "execution_count": 11,
      "outputs": [
        {
          "output_type": "stream",
          "name": "stderr",
          "text": [
            "100%|██████████| 1306/1306 [00:09<00:00, 144.42it/s]\n",
            "100%|██████████| 1162/1162 [00:01<00:00, 884.95it/s]\n",
            "100%|██████████| 574/574 [00:01<00:00, 354.68it/s]\n",
            "100%|██████████| 1146/1146 [00:04<00:00, 243.94it/s]\n"
          ]
        }
      ]
    },
    {
      "cell_type": "code",
      "source": [
        "# Menghitung jumlah data untuk setiap kelas\n",
        "class_counts = {class_name: Z.count(class_name) for class_name in set(Z)}\n",
        "\n",
        "# Menampilkan visualisasi jumlah data\n",
        "plt.figure(figsize=(6, 4))\n",
        "plt.bar(class_counts.keys(), class_counts.values())\n",
        "plt.xlabel('Class')\n",
        "plt.ylabel('Count')\n",
        "plt.title('Jumlah Data Setiap Kelas')\n",
        "plt.show()"
      ],
      "metadata": {
        "colab": {
          "base_uri": "https://localhost:8080/",
          "height": 410
        },
        "id": "-IcXHIM8Akcw",
        "outputId": "daac2c31-9468-4f43-9699-25619114fc26"
      },
      "execution_count": 12,
      "outputs": [
        {
          "output_type": "display_data",
          "data": {
            "text/plain": [
              "<Figure size 600x400 with 1 Axes>"
            ],
            "image/png": "[encoded data removed]"
          },
          "metadata": {}
        }
      ]
    },
    {
      "cell_type": "code",
      "source": [
        "le = LabelEncoder()\n",
        "Y = le.fit_transform(Z)\n",
        "Y = to_categorical(Y, num_classes=len(le.classes_))\n",
        "\n",
        "# Konversi ke array numpy\n",
        "X = np.array(X)\n",
        "\n",
        "# Memisahkan data menjadi data latih dan data uji\n",
        "X_train, X_test, Y_train, Y_test = train_test_split(X, Y, test_size=0.2, random_state=42)\n",
        "\n",
        "print(\"Jumlah Data Train adalah :\", len(X_train))\n",
        "print(\"Jumlah Data Test adalah :\", len(X_test))"
      ],
      "metadata": {
        "colab": {
          "base_uri": "https://localhost:8080/"
        },
        "id": "OI7kvVbXAqko",
        "outputId": "b9f3ea9d-627e-4c69-b20a-ad14b0d7211c"
      },
      "execution_count": 13,
      "outputs": [
        {
          "output_type": "stream",
          "name": "stdout",
          "text": [
            "Jumlah Data Train adalah : 3350\n",
            "Jumlah Data Test adalah : 838\n"
          ]
        }
      ]
    },
    {
      "cell_type": "code",
      "source": [
        "print(X_train[0])"
      ],
      "metadata": {
        "colab": {
          "base_uri": "https://localhost:8080/"
        },
        "id": "oDuXTKwBEPj_",
        "outputId": "fe5ec7a5-b8ea-4073-ec32-abe1d42c00dd"
      },
      "execution_count": 19,
      "outputs": [
        {
          "output_type": "stream",
          "name": "stdout",
          "text": [
            "[[[195 222 206]\n",
            "  [191 218 202]\n",
            "  [199 225 209]\n",
            "  ...\n",
            "  [ 63  99  69]\n",
            "  [ 38  73  42]\n",
            "  [ 24  59  27]]\n",
            "\n",
            " [[193 220 204]\n",
            "  [189 216 200]\n",
            "  [196 222 207]\n",
            "  ...\n",
            "  [ 74 110  80]\n",
            "  [ 44  79  48]\n",
            "  [ 25  59  29]]\n",
            "\n",
            " [[192 219 203]\n",
            "  [187 214 198]\n",
            "  [193 219 203]\n",
            "  ...\n",
            "  [ 88 126  96]\n",
            "  [ 66 102  72]\n",
            "  [ 52  89  59]]\n",
            "\n",
            " ...\n",
            "\n",
            " [[ 34  55  53]\n",
            "  [ 60  82  79]\n",
            "  [112 138 131]\n",
            "  ...\n",
            "  [ 88 123 112]\n",
            "  [ 89 124 113]\n",
            "  [ 84 121 109]]\n",
            "\n",
            " [[ 39  57  57]\n",
            "  [ 60  82  79]\n",
            "  [114 139 134]\n",
            "  ...\n",
            "  [ 77 111 100]\n",
            "  [ 80 112 102]\n",
            "  [ 79 113 103]]\n",
            "\n",
            " [[ 27  45  46]\n",
            "  [ 54  75  73]\n",
            "  [116 140 137]\n",
            "  ...\n",
            "  [ 69 101  90]\n",
            "  [ 72 104  94]\n",
            "  [ 78 110 101]]]\n"
          ]
        }
      ]
    },
    {
      "cell_type": "code",
      "source": [
        "datagen = ImageDataGenerator(\n",
        "    rotation_range=20,\n",
        "    zoom_range=0.2,\n",
        "    horizontal_flip=True,\n",
        "    vertical_flip=True\n",
        ")\n",
        "\n",
        "datagen.fit(X_train)"
      ],
      "metadata": {
        "id": "ue5XLCIlA2ld"
      },
      "execution_count": 14,
      "outputs": []
    },
    {
      "cell_type": "code",
      "source": [
        "resnet50 = ResNet50(include_top=False, weights=None, input_shape=(IMAGE_SIZE_resnet50, IMAGE_SIZE_resnet50, 3))\n",
        "\n",
        "# Membuat model Sequential\n",
        "model_resnet50ver2 = Sequential()\n",
        "model_resnet50ver2.add(resnet50)\n",
        "model_resnet50ver2.add(GlobalAveragePooling2D())\n",
        "model_resnet50ver2.add(Dense(4, activation='softmax'))\n",
        "\n",
        "# Membekukan layer-layer ResNet50 yang telah dilatih\n",
        "for layer in resnet50.layers:\n",
        "    layer.trainable = False\n",
        "\n",
        "model_resnet50ver2.compile(optimizer=Adam(learning_rate=1e-4), loss='categorical_crossentropy', metrics=['accuracy'])\n",
        "\n",
        "# Menampilkan summary dari model\n",
        "model_resnet50ver2.summary()\n",
        "\n",
        "# Melatih model dengan data latih dan validasi\n",
        "history_resnet50ver2 = model_resnet50ver2.fit(datagen.flow(X_train, Y_train), epochs=50, validation_data=(X_test, Y_test))"
      ],
      "metadata": {
        "id": "qg6h8yY_A62R",
        "colab": {
          "base_uri": "https://localhost:8080/"
        },
        "outputId": "5db11323-3fcf-46f7-d3ac-f00c2379c456"
      },
      "execution_count": 20,
      "outputs": [
        {
          "output_type": "stream",
          "name": "stdout",
          "text": [
            "Model: \"sequential_1\"\n",
            "_________________________________________________________________\n",
            " Layer (type)                Output Shape              Param #   \n",
            "=================================================================\n",
            " resnet50 (Functional)       (None, 7, 7, 2048)        23587712  \n",
            "                                                                 \n",
            " global_average_pooling2d_1  (None, 2048)              0         \n",
            "  (GlobalAveragePooling2D)                                       \n",
            "                                                                 \n",
            " dense_1 (Dense)             (None, 4)                 8196      \n",
            "                                                                 \n",
            "=================================================================\n",
            "Total params: 23595908 (90.01 MB)\n",
            "Trainable params: 8196 (32.02 KB)\n",
            "Non-trainable params: 23587712 (89.98 MB)\n",
            "_________________________________________________________________\n",
            "Epoch 1/50\n",
            "105/105 [==============================] - 46s 412ms/step - loss: 1.4093 - accuracy: 0.4272 - val_loss: 1.1101 - val_accuracy: 0.5895\n",
            "Epoch 2/50\n",
            "105/105 [==============================] - 42s 401ms/step - loss: 1.1092 - accuracy: 0.5633 - val_loss: 0.9996 - val_accuracy: 0.6778\n",
            "Epoch 3/50\n",
            "105/105 [==============================] - 42s 399ms/step - loss: 1.0147 - accuracy: 0.6179 - val_loss: 0.8770 - val_accuracy: 0.7673\n",
            "Epoch 4/50\n",
            "105/105 [==============================] - 44s 423ms/step - loss: 0.9278 - accuracy: 0.6812 - val_loss: 0.8104 - val_accuracy: 0.7100\n",
            "Epoch 5/50\n",
            "105/105 [==============================] - 42s 399ms/step - loss: 0.8723 - accuracy: 0.7000 - val_loss: 0.7383 - val_accuracy: 0.7924\n",
            "Epoch 6/50\n",
            "105/105 [==============================] - 42s 399ms/step - loss: 0.8224 - accuracy: 0.7215 - val_loss: 0.7165 - val_accuracy: 0.7816\n",
            "Epoch 7/50\n",
            "105/105 [==============================] - 42s 398ms/step - loss: 0.7986 - accuracy: 0.7122 - val_loss: 0.6857 - val_accuracy: 0.7697\n",
            "Epoch 8/50\n",
            "105/105 [==============================] - 44s 412ms/step - loss: 0.7610 - accuracy: 0.7218 - val_loss: 0.6365 - val_accuracy: 0.8031\n",
            "Epoch 9/50\n",
            "105/105 [==============================] - 42s 399ms/step - loss: 0.7395 - accuracy: 0.7415 - val_loss: 0.6372 - val_accuracy: 0.8007\n",
            "Epoch 10/50\n",
            "105/105 [==============================] - 41s 395ms/step - loss: 0.7127 - accuracy: 0.7358 - val_loss: 0.6001 - val_accuracy: 0.8138\n",
            "Epoch 11/50\n",
            "105/105 [==============================] - 42s 397ms/step - loss: 0.7065 - accuracy: 0.7418 - val_loss: 0.5800 - val_accuracy: 0.8067\n",
            "Epoch 12/50\n",
            "105/105 [==============================] - 42s 397ms/step - loss: 0.6815 - accuracy: 0.7499 - val_loss: 0.5669 - val_accuracy: 0.8150\n",
            "Epoch 13/50\n",
            "105/105 [==============================] - 42s 400ms/step - loss: 0.6669 - accuracy: 0.7534 - val_loss: 0.5551 - val_accuracy: 0.8174\n",
            "Epoch 14/50\n",
            "105/105 [==============================] - 42s 397ms/step - loss: 0.6551 - accuracy: 0.7618 - val_loss: 0.5586 - val_accuracy: 0.7828\n",
            "Epoch 15/50\n",
            "105/105 [==============================] - 42s 399ms/step - loss: 0.6572 - accuracy: 0.7537 - val_loss: 0.5451 - val_accuracy: 0.8067\n",
            "Epoch 16/50\n",
            "105/105 [==============================] - 42s 401ms/step - loss: 0.6256 - accuracy: 0.7573 - val_loss: 0.5385 - val_accuracy: 0.8043\n",
            "Epoch 17/50\n",
            "105/105 [==============================] - 43s 409ms/step - loss: 0.6213 - accuracy: 0.7621 - val_loss: 0.5411 - val_accuracy: 0.8067\n",
            "Epoch 18/50\n",
            "105/105 [==============================] - 42s 399ms/step - loss: 0.6230 - accuracy: 0.7561 - val_loss: 0.5255 - val_accuracy: 0.8138\n",
            "Epoch 19/50\n",
            "105/105 [==============================] - 42s 401ms/step - loss: 0.5970 - accuracy: 0.7800 - val_loss: 0.5039 - val_accuracy: 0.8115\n",
            "Epoch 20/50\n",
            "105/105 [==============================] - 44s 420ms/step - loss: 0.5868 - accuracy: 0.7761 - val_loss: 0.5141 - val_accuracy: 0.8150\n",
            "Epoch 21/50\n",
            "105/105 [==============================] - 42s 399ms/step - loss: 0.5834 - accuracy: 0.7845 - val_loss: 0.5004 - val_accuracy: 0.8174\n",
            "Epoch 22/50\n",
            "105/105 [==============================] - 43s 409ms/step - loss: 0.5831 - accuracy: 0.7725 - val_loss: 0.5296 - val_accuracy: 0.7649\n",
            "Epoch 23/50\n",
            "105/105 [==============================] - 42s 403ms/step - loss: 0.5891 - accuracy: 0.7585 - val_loss: 0.4792 - val_accuracy: 0.8186\n",
            "Epoch 24/50\n",
            "105/105 [==============================] - 42s 397ms/step - loss: 0.5733 - accuracy: 0.7749 - val_loss: 0.4792 - val_accuracy: 0.8174\n",
            "Epoch 25/50\n",
            "105/105 [==============================] - 42s 396ms/step - loss: 0.5763 - accuracy: 0.7803 - val_loss: 0.4751 - val_accuracy: 0.8246\n",
            "Epoch 26/50\n",
            "105/105 [==============================] - 42s 399ms/step - loss: 0.5642 - accuracy: 0.7788 - val_loss: 0.4740 - val_accuracy: 0.8317\n",
            "Epoch 27/50\n",
            "105/105 [==============================] - 42s 397ms/step - loss: 0.5611 - accuracy: 0.7824 - val_loss: 0.4664 - val_accuracy: 0.8305\n",
            "Epoch 28/50\n",
            "105/105 [==============================] - 43s 411ms/step - loss: 0.5453 - accuracy: 0.7863 - val_loss: 0.4698 - val_accuracy: 0.8210\n",
            "Epoch 29/50\n",
            "105/105 [==============================] - 42s 397ms/step - loss: 0.5501 - accuracy: 0.7833 - val_loss: 0.5008 - val_accuracy: 0.7721\n",
            "Epoch 30/50\n",
            "105/105 [==============================] - 42s 401ms/step - loss: 0.5662 - accuracy: 0.7791 - val_loss: 0.5171 - val_accuracy: 0.7924\n",
            "Epoch 31/50\n",
            "105/105 [==============================] - 42s 402ms/step - loss: 0.5446 - accuracy: 0.7782 - val_loss: 0.5438 - val_accuracy: 0.7267\n",
            "Epoch 32/50\n",
            "105/105 [==============================] - 43s 408ms/step - loss: 0.5460 - accuracy: 0.7758 - val_loss: 0.4831 - val_accuracy: 0.8055\n",
            "Epoch 33/50\n",
            "105/105 [==============================] - 42s 396ms/step - loss: 0.5437 - accuracy: 0.7803 - val_loss: 0.4558 - val_accuracy: 0.8198\n",
            "Epoch 34/50\n",
            "105/105 [==============================] - 42s 401ms/step - loss: 0.5381 - accuracy: 0.7881 - val_loss: 0.4809 - val_accuracy: 0.8055\n",
            "Epoch 35/50\n",
            "105/105 [==============================] - 42s 399ms/step - loss: 0.5262 - accuracy: 0.7884 - val_loss: 0.4414 - val_accuracy: 0.8186\n",
            "Epoch 36/50\n",
            "105/105 [==============================] - 42s 396ms/step - loss: 0.5345 - accuracy: 0.7833 - val_loss: 0.4558 - val_accuracy: 0.8138\n",
            "Epoch 37/50\n",
            "105/105 [==============================] - 42s 401ms/step - loss: 0.5209 - accuracy: 0.7881 - val_loss: 0.4284 - val_accuracy: 0.8270\n",
            "Epoch 38/50\n",
            "105/105 [==============================] - 42s 398ms/step - loss: 0.5221 - accuracy: 0.7851 - val_loss: 0.4525 - val_accuracy: 0.8019\n",
            "Epoch 39/50\n",
            "105/105 [==============================] - 41s 392ms/step - loss: 0.5205 - accuracy: 0.7854 - val_loss: 0.4275 - val_accuracy: 0.8305\n",
            "Epoch 40/50\n",
            "105/105 [==============================] - 42s 399ms/step - loss: 0.5208 - accuracy: 0.7910 - val_loss: 0.4640 - val_accuracy: 0.8150\n",
            "Epoch 41/50\n",
            "105/105 [==============================] - 43s 411ms/step - loss: 0.5161 - accuracy: 0.7922 - val_loss: 0.4451 - val_accuracy: 0.8067\n",
            "Epoch 42/50\n",
            "105/105 [==============================] - 42s 396ms/step - loss: 0.5225 - accuracy: 0.7848 - val_loss: 0.4378 - val_accuracy: 0.8305\n",
            "Epoch 43/50\n",
            "105/105 [==============================] - 42s 397ms/step - loss: 0.5115 - accuracy: 0.7955 - val_loss: 0.4820 - val_accuracy: 0.8115\n",
            "Epoch 44/50\n",
            "105/105 [==============================] - 41s 394ms/step - loss: 0.5114 - accuracy: 0.7875 - val_loss: 0.4060 - val_accuracy: 0.8425\n",
            "Epoch 45/50\n",
            "105/105 [==============================] - 43s 409ms/step - loss: 0.5102 - accuracy: 0.7916 - val_loss: 0.4238 - val_accuracy: 0.8341\n",
            "Epoch 46/50\n",
            "105/105 [==============================] - 42s 395ms/step - loss: 0.5147 - accuracy: 0.7827 - val_loss: 0.4622 - val_accuracy: 0.8258\n",
            "Epoch 47/50\n",
            "105/105 [==============================] - 42s 396ms/step - loss: 0.5047 - accuracy: 0.8003 - val_loss: 0.4371 - val_accuracy: 0.8198\n",
            "Epoch 48/50\n",
            "105/105 [==============================] - 42s 399ms/step - loss: 0.5024 - accuracy: 0.8006 - val_loss: 0.4127 - val_accuracy: 0.8532\n",
            "Epoch 49/50\n",
            "105/105 [==============================] - 43s 407ms/step - loss: 0.4965 - accuracy: 0.7955 - val_loss: 0.4118 - val_accuracy: 0.8329\n",
            "Epoch 50/50\n",
            "105/105 [==============================] - 44s 423ms/step - loss: 0.4888 - accuracy: 0.8096 - val_loss: 0.4233 - val_accuracy: 0.8329\n"
          ]
        }
      ]
    },
    {
      "cell_type": "code",
      "source": [
        "# Menggunakan model_resnet50ver2 untuk membuat prediksi pada data uji\n",
        "Y_pred = model_resnet50ver2.predict(X_test)\n",
        "# Mengambil indeks kelas dengan probabilitas tertinggi sebagai prediksi\n",
        "Y_pred_classes = np.argmax(Y_pred, axis=1)\n",
        "# Mengambil indeks kelas dengan probabilitas tertinggi sebagai label sebenarnya\n",
        "Y_true = np.argmax(Y_test, axis=1)\n",
        "\n",
        "# Membuat confusion matrix\n",
        "conf_matrix = confusion_matrix(Y_true, Y_pred_classes)\n",
        "\n",
        "# Menampilkan confusion matrix dalam bentuk visualisasi\n",
        "plt.figure(figsize=(8, 6))\n",
        "sns.heatmap(conf_matrix, annot=True, fmt=\"d\", cmap=\"Blues\", xticklabels=['Common_Rust', 'Healthy', 'Gray_Leaf_Spot', 'Blight'], yticklabels=['Common_Rust', 'Healthy', 'Gray_Leaf_Spot', 'Blight'])\n",
        "plt.xlabel('Predicted labels')\n",
        "plt.ylabel('True labels')\n",
        "plt.title('Confusion Matrix')\n",
        "plt.show()\n",
        "\n",
        "# Membuat classification report\n",
        "class_report = classification_report(Y_true, Y_pred_classes)\n",
        "\n",
        "# Menampilkan classification report\n",
        "print(\"\\nClassification Report:\")\n",
        "print(class_report)"
      ],
      "metadata": {
        "id": "W2svXyjyTjeo",
        "colab": {
          "base_uri": "https://localhost:8080/",
          "height": 807
        },
        "outputId": "3f175274-9192-4b72-8bc4-1b41dcbf33a2"
      },
      "execution_count": 21,
      "outputs": [
        {
          "output_type": "stream",
          "name": "stdout",
          "text": [
            "27/27 [==============================] - 3s 95ms/step\n"
          ]
        },
        {
          "output_type": "display_data",
          "data": {
            "text/plain": [
              "<Figure size 800x600 with 2 Axes>"
            ],
            "image/png": "[encoded data removed]"
          },
          "metadata": {}
        },
        {
          "output_type": "stream",
          "name": "stdout",
          "text": [
            "\n",
            "Classification Report:\n",
            "              precision    recall  f1-score   support\n",
            "\n",
            "           0       0.64      0.94      0.76       218\n",
            "           1       0.97      0.96      0.96       289\n",
            "           2       0.53      0.08      0.13       104\n",
            "           3       0.98      0.91      0.94       227\n",
            "\n",
            "    accuracy                           0.83       838\n",
            "   macro avg       0.78      0.72      0.70       838\n",
            "weighted avg       0.83      0.83      0.80       838\n",
            "\n"
          ]
        }
      ]
    },
    {
      "cell_type": "code",
      "source": [
        "model_resnet50ver2.save('resnet50.h5')"
      ],
      "metadata": {
        "colab": {
          "base_uri": "https://localhost:8080/"
        },
        "id": "m85kjtZopOdu",
        "outputId": "808e6f8c-19fc-4cea-8c13-84445064ac07"
      },
      "execution_count": 17,
      "outputs": [
        {
          "output_type": "stream",
          "name": "stderr",
          "text": [
            "/usr/local/lib/python3.10/dist-packages/keras/src/engine/training.py:3103: UserWarning: You are saving your model as an HDF5 file via `model.save()`. This file format is considered legacy. We recommend using instead the native Keras format, e.g. `model.save('my_model.keras')`.\n",
            "  saving_api.save_model(\n"
          ]
        }
      ]
    }
  ]
}