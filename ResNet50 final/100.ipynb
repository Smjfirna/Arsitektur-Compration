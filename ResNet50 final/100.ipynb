{
  "nbformat": 4,
  "nbformat_minor": 0,
  "metadata": {
    "colab": {
      "provenance": [],
      "gpuType": "T4",
      "include_colab_link": true
    },
    "kernelspec": {
      "name": "python3",
      "display_name": "Python 3"
    },
    "language_info": {
      "name": "python"
    },
    "accelerator": "GPU"
  },
  "cells": [
    {
      "cell_type": "markdown",
      "metadata": {
        "id": "view-in-github",
        "colab_type": "text"
      },
      "source": [
        "<a href=\"https://colab.research.google.com/github/Smjfirna/Arsitektur-Compration/blob/main/ResNet50%20final/100.ipynb\" target=\"_parent\"><img src=\"https://colab.research.google.com/assets/colab-badge.svg\" alt=\"Open In Colab\"/></a>"
      ]
    },
    {
      "cell_type": "code",
      "source": [
        "#Preprocessing\n",
        "import os\n",
        "import cv2\n",
        "import numpy as np\n",
        "from tqdm import tqdm\n",
        "from sklearn.model_selection import train_test_split\n",
        "from sklearn.preprocessing import LabelEncoder\n",
        "from keras.utils import to_categorical\n",
        "\n",
        "#Model dan Augmentasi\n",
        "import tensorflow as tf\n",
        "from tensorflow.keras.preprocessing.image import ImageDataGenerator\n",
        "from tensorflow.keras.models import Sequential\n",
        "from tensorflow.keras import layers, Model, regularizers\n",
        "from tensorflow.keras.callbacks import EarlyStopping\n",
        "from tensorflow.keras.layers import Conv2D, MaxPooling2D, Flatten, Dense, GlobalAveragePooling2D, Dropout\n",
        "import os\n",
        "from tensorflow.keras.optimizers import Adam\n",
        "from tensorflow.keras.optimizers import RMSprop\n",
        "from keras.applications import ResNet50\n",
        "\n",
        "# Evaluasi\n",
        "import torch\n",
        "import torchvision.models as models\n",
        "from thop import profile\n",
        "from sklearn.metrics import confusion_matrix, classification_report\n",
        "\n",
        "#Visualisasi\n",
        "import matplotlib.pyplot as plt\n",
        "import seaborn as sns"
      ],
      "metadata": {
        "id": "NMN3beIVALVJ"
      },
      "execution_count": 4,
      "outputs": []
    },
    {
      "cell_type": "code",
      "execution_count": 5,
      "metadata": {
        "colab": {
          "base_uri": "https://localhost:8080/",
          "height": 90
        },
        "id": "GK3MPeDN_Ofu",
        "outputId": "7939e7f1-bef2-4b24-c759-4b3568547e4e"
      },
      "outputs": [
        {
          "output_type": "display_data",
          "data": {
            "text/plain": [
              "<IPython.core.display.HTML object>"
            ],
            "text/html": [
              "\n",
              "     <input type=\"file\" id=\"files-40a2d164-5f54-4d12-b129-eeb7dbe92a65\" name=\"files[]\" multiple disabled\n",
              "        style=\"border:none\" />\n",
              "     <output id=\"result-40a2d164-5f54-4d12-b129-eeb7dbe92a65\">\n",
              "      Upload widget is only available when the cell has been executed in the\n",
              "      current browser session. Please rerun this cell to enable.\n",
              "      </output>\n",
              "      <script>// Copyright 2017 Google LLC\n",
              "//\n",
              "// Licensed under the Apache License, Version 2.0 (the \"License\");\n",
              "// you may not use this file except in compliance with the License.\n",
              "// You may obtain a copy of the License at\n",
              "//\n",
              "//      http://www.apache.org/licenses/LICENSE-2.0\n",
              "//\n",
              "// Unless required by applicable law or agreed to in writing, software\n",
              "// distributed under the License is distributed on an \"AS IS\" BASIS,\n",
              "// WITHOUT WARRANTIES OR CONDITIONS OF ANY KIND, either express or implied.\n",
              "// See the License for the specific language governing permissions and\n",
              "// limitations under the License.\n",
              "\n",
              "/**\n",
              " * @fileoverview Helpers for google.colab Python module.\n",
              " */\n",
              "(function(scope) {\n",
              "function span(text, styleAttributes = {}) {\n",
              "  const element = document.createElement('span');\n",
              "  element.textContent = text;\n",
              "  for (const key of Object.keys(styleAttributes)) {\n",
              "    element.style[key] = styleAttributes[key];\n",
              "  }\n",
              "  return element;\n",
              "}\n",
              "\n",
              "// Max number of bytes which will be uploaded at a time.\n",
              "const MAX_PAYLOAD_SIZE = 100 * 1024;\n",
              "\n",
              "function _uploadFiles(inputId, outputId) {\n",
              "  const steps = uploadFilesStep(inputId, outputId);\n",
              "  const outputElement = document.getElementById(outputId);\n",
              "  // Cache steps on the outputElement to make it available for the next call\n",
              "  // to uploadFilesContinue from Python.\n",
              "  outputElement.steps = steps;\n",
              "\n",
              "  return _uploadFilesContinue(outputId);\n",
              "}\n",
              "\n",
              "// This is roughly an async generator (not supported in the browser yet),\n",
              "// where there are multiple asynchronous steps and the Python side is going\n",
              "// to poll for completion of each step.\n",
              "// This uses a Promise to block the python side on completion of each step,\n",
              "// then passes the result of the previous step as the input to the next step.\n",
              "function _uploadFilesContinue(outputId) {\n",
              "  const outputElement = document.getElementById(outputId);\n",
              "  const steps = outputElement.steps;\n",
              "\n",
              "  const next = steps.next(outputElement.lastPromiseValue);\n",
              "  return Promise.resolve(next.value.promise).then((value) => {\n",
              "    // Cache the last promise value to make it available to the next\n",
              "    // step of the generator.\n",
              "    outputElement.lastPromiseValue = value;\n",
              "    return next.value.response;\n",
              "  });\n",
              "}\n",
              "\n",
              "/**\n",
              " * Generator function which is called between each async step of the upload\n",
              " * process.\n",
              " * @param {string} inputId Element ID of the input file picker element.\n",
              " * @param {string} outputId Element ID of the output display.\n",
              " * @return {!Iterable<!Object>} Iterable of next steps.\n",
              " */\n",
              "function* uploadFilesStep(inputId, outputId) {\n",
              "  const inputElement = document.getElementById(inputId);\n",
              "  inputElement.disabled = false;\n",
              "\n",
              "  const outputElement = document.getElementById(outputId);\n",
              "  outputElement.innerHTML = '';\n",
              "\n",
              "  const pickedPromise = new Promise((resolve) => {\n",
              "    inputElement.addEventListener('change', (e) => {\n",
              "      resolve(e.target.files);\n",
              "    });\n",
              "  });\n",
              "\n",
              "  const cancel = document.createElement('button');\n",
              "  inputElement.parentElement.appendChild(cancel);\n",
              "  cancel.textContent = 'Cancel upload';\n",
              "  const cancelPromise = new Promise((resolve) => {\n",
              "    cancel.onclick = () => {\n",
              "      resolve(null);\n",
              "    };\n",
              "  });\n",
              "\n",
              "  // Wait for the user to pick the files.\n",
              "  const files = yield {\n",
              "    promise: Promise.race([pickedPromise, cancelPromise]),\n",
              "    response: {\n",
              "      action: 'starting',\n",
              "    }\n",
              "  };\n",
              "\n",
              "  cancel.remove();\n",
              "\n",
              "  // Disable the input element since further picks are not allowed.\n",
              "  inputElement.disabled = true;\n",
              "\n",
              "  if (!files) {\n",
              "    return {\n",
              "      response: {\n",
              "        action: 'complete',\n",
              "      }\n",
              "    };\n",
              "  }\n",
              "\n",
              "  for (const file of files) {\n",
              "    const li = document.createElement('li');\n",
              "    li.append(span(file.name, {fontWeight: 'bold'}));\n",
              "    li.append(span(\n",
              "        `(${file.type || 'n/a'}) - ${file.size} bytes, ` +\n",
              "        `last modified: ${\n",
              "            file.lastModifiedDate ? file.lastModifiedDate.toLocaleDateString() :\n",
              "                                    'n/a'} - `));\n",
              "    const percent = span('0% done');\n",
              "    li.appendChild(percent);\n",
              "\n",
              "    outputElement.appendChild(li);\n",
              "\n",
              "    const fileDataPromise = new Promise((resolve) => {\n",
              "      const reader = new FileReader();\n",
              "      reader.onload = (e) => {\n",
              "        resolve(e.target.result);\n",
              "      };\n",
              "      reader.readAsArrayBuffer(file);\n",
              "    });\n",
              "    // Wait for the data to be ready.\n",
              "    let fileData = yield {\n",
              "      promise: fileDataPromise,\n",
              "      response: {\n",
              "        action: 'continue',\n",
              "      }\n",
              "    };\n",
              "\n",
              "    // Use a chunked sending to avoid message size limits. See b/62115660.\n",
              "    let position = 0;\n",
              "    do {\n",
              "      const length = Math.min(fileData.byteLength - position, MAX_PAYLOAD_SIZE);\n",
              "      const chunk = new Uint8Array(fileData, position, length);\n",
              "      position += length;\n",
              "\n",
              "      const base64 = btoa(String.fromCharCode.apply(null, chunk));\n",
              "      yield {\n",
              "        response: {\n",
              "          action: 'append',\n",
              "          file: file.name,\n",
              "          data: base64,\n",
              "        },\n",
              "      };\n",
              "\n",
              "      let percentDone = fileData.byteLength === 0 ?\n",
              "          100 :\n",
              "          Math.round((position / fileData.byteLength) * 100);\n",
              "      percent.textContent = `${percentDone}% done`;\n",
              "\n",
              "    } while (position < fileData.byteLength);\n",
              "  }\n",
              "\n",
              "  // All done.\n",
              "  yield {\n",
              "    response: {\n",
              "      action: 'complete',\n",
              "    }\n",
              "  };\n",
              "}\n",
              "\n",
              "scope.google = scope.google || {};\n",
              "scope.google.colab = scope.google.colab || {};\n",
              "scope.google.colab._files = {\n",
              "  _uploadFiles,\n",
              "  _uploadFilesContinue,\n",
              "};\n",
              "})(self);\n",
              "</script> "
            ]
          },
          "metadata": {}
        },
        {
          "output_type": "stream",
          "name": "stdout",
          "text": [
            "Saving kaggle.json to kaggle.json\n"
          ]
        },
        {
          "output_type": "execute_result",
          "data": {
            "text/plain": [
              "{'kaggle.json': b'{\"username\":\"smjayyy\",\"key\":\"8eb172e224d83c7b56b4a2ef349b7c0d\"}'}"
            ]
          },
          "metadata": {},
          "execution_count": 5
        }
      ],
      "source": [
        "from google.colab import files\n",
        "files.upload()"
      ]
    },
    {
      "cell_type": "code",
      "source": [
        "!mkdir -p ~/.kaggle\n",
        "!cp kaggle.json ~/.kaggle/\n",
        "!chmod 600 ~/.kaggle/kaggle.json"
      ],
      "metadata": {
        "id": "Y9Kia11G_5Si"
      },
      "execution_count": 6,
      "outputs": []
    },
    {
      "cell_type": "code",
      "source": [
        "##link dataset in Kaggle.com\n",
        "!kaggle datasets download -d smaranjitghose/corn-or-maize-leaf-disease-dataset"
      ],
      "metadata": {
        "colab": {
          "base_uri": "https://localhost:8080/"
        },
        "id": "apfKVlxj_8FJ",
        "outputId": "1438364e-07a4-4bd3-e671-e8cbdf56f969"
      },
      "execution_count": 7,
      "outputs": [
        {
          "output_type": "stream",
          "name": "stdout",
          "text": [
            "Downloading corn-or-maize-leaf-disease-dataset.zip to /content\n",
            " 95% 153M/161M [00:03<00:00, 60.1MB/s]\n",
            "100% 161M/161M [00:03<00:00, 54.8MB/s]\n"
          ]
        }
      ]
    },
    {
      "cell_type": "code",
      "source": [
        "!unzip -q corn-or-maize-leaf-disease-dataset.zip -d /content"
      ],
      "metadata": {
        "id": "ixMUoB2rAAd3"
      },
      "execution_count": 8,
      "outputs": []
    },
    {
      "cell_type": "code",
      "source": [
        "dataset_dir = '/content/data'"
      ],
      "metadata": {
        "id": "pZ8IerIQAGFO"
      },
      "execution_count": 9,
      "outputs": []
    },
    {
      "cell_type": "code",
      "source": [
        "print(os.listdir(dataset_dir))"
      ],
      "metadata": {
        "colab": {
          "base_uri": "https://localhost:8080/"
        },
        "id": "9wwka8QaAIcj",
        "outputId": "c6bfc38a-c87c-40f2-c86a-60ce63e6e16b"
      },
      "execution_count": 10,
      "outputs": [
        {
          "output_type": "stream",
          "name": "stdout",
          "text": [
            "['Blight', 'Healthy', 'Gray_Leaf_Spot', 'Common_Rust']\n"
          ]
        }
      ]
    },
    {
      "cell_type": "code",
      "source": [
        "IMAGE_SIZE_resnet50 = 224"
      ],
      "metadata": {
        "id": "_UCEuA-hAPSa"
      },
      "execution_count": 11,
      "outputs": []
    },
    {
      "cell_type": "code",
      "source": [
        "def make_data(label, DIR, img_list, label_list):\n",
        "    for img in tqdm(os.listdir(DIR)):\n",
        "        path = os.path.join(DIR, img)\n",
        "        img = cv2.imread(path, cv2.IMREAD_COLOR)\n",
        "        img = cv2.resize(img, (IMAGE_SIZE_resnet50, IMAGE_SIZE_resnet50))\n",
        "        img_list.append(np.array(img))\n",
        "        label_list.append(str(label))"
      ],
      "metadata": {
        "id": "B3menIgvARk5"
      },
      "execution_count": 12,
      "outputs": []
    },
    {
      "cell_type": "code",
      "source": [
        "X = []\n",
        "Z = []"
      ],
      "metadata": {
        "id": "Jn6gWefxATyU"
      },
      "execution_count": 13,
      "outputs": []
    },
    {
      "cell_type": "code",
      "source": [
        "for i, class_name in enumerate(['Common_Rust', 'Healthy', 'Gray_Leaf_Spot', 'Blight']):\n",
        "    class_dir = os.path.join(dataset_dir, class_name)\n",
        "    make_data(class_name, class_dir, X, Z)"
      ],
      "metadata": {
        "colab": {
          "base_uri": "https://localhost:8080/"
        },
        "id": "S9-RQTGJAWCk",
        "outputId": "6860d1ac-ca11-4619-a291-654632b3dad0"
      },
      "execution_count": 14,
      "outputs": [
        {
          "output_type": "stream",
          "name": "stderr",
          "text": [
            "100%|██████████| 1306/1306 [00:05<00:00, 246.40it/s]\n",
            "100%|██████████| 1162/1162 [00:01<00:00, 882.39it/s]\n",
            "100%|██████████| 574/574 [00:01<00:00, 356.10it/s]\n",
            "100%|██████████| 1146/1146 [00:04<00:00, 237.09it/s]\n"
          ]
        }
      ]
    },
    {
      "cell_type": "code",
      "source": [
        "# Menghitung jumlah data untuk setiap kelas\n",
        "class_counts = {class_name: Z.count(class_name) for class_name in set(Z)}\n",
        "\n",
        "# Menampilkan visualisasi jumlah data\n",
        "plt.figure(figsize=(6, 4))\n",
        "plt.bar(class_counts.keys(), class_counts.values())\n",
        "plt.xlabel('Class')\n",
        "plt.ylabel('Count')\n",
        "plt.title('Jumlah Data Setiap Kelas')\n",
        "plt.show()"
      ],
      "metadata": {
        "colab": {
          "base_uri": "https://localhost:8080/",
          "height": 410
        },
        "id": "-IcXHIM8Akcw",
        "outputId": "dbc6fbbf-0c09-4d08-da66-8b11f396bf3d"
      },
      "execution_count": 15,
      "outputs": [
        {
          "output_type": "display_data",
          "data": {
            "text/plain": [
              "<Figure size 600x400 with 1 Axes>"
            ],
            "image/png": "[encoded data removed]"
          },
          "metadata": {}
        }
      ]
    },
    {
      "cell_type": "code",
      "source": [
        "le = LabelEncoder()\n",
        "Y = le.fit_transform(Z)\n",
        "Y = to_categorical(Y, num_classes=len(le.classes_))\n",
        "\n",
        "# Konversi ke array numpy\n",
        "X = np.array(X)\n",
        "\n",
        "# Memisahkan data menjadi data latih dan data uji\n",
        "X_train, X_test, Y_train, Y_test = train_test_split(X, Y, test_size=0.2, random_state=42)\n",
        "\n",
        "print(\"Jumlah Data Train adalah :\", len(X_train))\n",
        "print(\"Jumlah Data Test adalah :\", len(X_test))"
      ],
      "metadata": {
        "colab": {
          "base_uri": "https://localhost:8080/"
        },
        "id": "OI7kvVbXAqko",
        "outputId": "764030f4-12fa-44b4-a7f6-1a92c8e5bd79"
      },
      "execution_count": 16,
      "outputs": [
        {
          "output_type": "stream",
          "name": "stdout",
          "text": [
            "Jumlah Data Train adalah : 3350\n",
            "Jumlah Data Test adalah : 838\n"
          ]
        }
      ]
    },
    {
      "cell_type": "code",
      "source": [
        "datagen = ImageDataGenerator(\n",
        "    rotation_range=20,\n",
        "    zoom_range=0.2,\n",
        "    horizontal_flip=True,\n",
        "    vertical_flip=True\n",
        ")\n",
        "\n",
        "datagen.fit(X_train)"
      ],
      "metadata": {
        "id": "ue5XLCIlA2ld"
      },
      "execution_count": 17,
      "outputs": []
    },
    {
      "cell_type": "code",
      "source": [
        "resnet50 = ResNet50(include_top=False, weights='imagenet', input_shape=(IMAGE_SIZE_resnet50, IMAGE_SIZE_resnet50, 3))\n",
        "\n",
        "# Membuat model Sequential\n",
        "model_resnet50ver2 = Sequential()\n",
        "model_resnet50ver2.add(resnet50)\n",
        "model_resnet50ver2.add(GlobalAveragePooling2D())\n",
        "model_resnet50ver2.add(Dense(4, activation='softmax'))\n",
        "\n",
        "# Membekukan layer-layer ResNet50 yang telah dilatih\n",
        "for layer in resnet50.layers:\n",
        "    layer.trainable = False\n",
        "\n",
        "model_resnet50ver2.compile(optimizer=Adam(learning_rate=1e-4), loss='categorical_crossentropy', metrics=['accuracy'])\n",
        "\n",
        "# Menampilkan summary dari model\n",
        "model_resnet50ver2.summary()\n",
        "\n",
        "# Melatih model dengan data latih dan validasi\n",
        "history_resnet50ver2 = model_resnet50ver2.fit(datagen.flow(X_train, Y_train), epochs=100, validation_data=(X_test, Y_test))"
      ],
      "metadata": {
        "id": "qg6h8yY_A62R",
        "colab": {
          "base_uri": "https://localhost:8080/"
        },
        "outputId": "0a782ec5-fe2b-462f-f6a5-a41233924975"
      },
      "execution_count": 18,
      "outputs": [
        {
          "output_type": "stream",
          "name": "stdout",
          "text": [
            "Downloading data from https://storage.googleapis.com/tensorflow/keras-applications/resnet/resnet50_weights_tf_dim_ordering_tf_kernels_notop.h5\n",
            "94765736/94765736 [==============================] - 0s 0us/step\n",
            "Model: \"sequential\"\n",
            "_________________________________________________________________\n",
            " Layer (type)                Output Shape              Param #   \n",
            "=================================================================\n",
            " resnet50 (Functional)       (None, 7, 7, 2048)        23587712  \n",
            "                                                                 \n",
            " global_average_pooling2d (  (None, 2048)              0         \n",
            " GlobalAveragePooling2D)                                         \n",
            "                                                                 \n",
            " dense (Dense)               (None, 4)                 8196      \n",
            "                                                                 \n",
            "=================================================================\n",
            "Total params: 23595908 (90.01 MB)\n",
            "Trainable params: 8196 (32.02 KB)\n",
            "Non-trainable params: 23587712 (89.98 MB)\n",
            "_________________________________________________________________\n",
            "Epoch 1/100\n",
            "105/105 [==============================] - 57s 464ms/step - loss: 1.1068 - accuracy: 0.5352 - val_loss: 0.6516 - val_accuracy: 0.7852\n",
            "Epoch 2/100\n",
            "105/105 [==============================] - 43s 409ms/step - loss: 0.5442 - accuracy: 0.8284 - val_loss: 0.4192 - val_accuracy: 0.8663\n",
            "Epoch 3/100\n",
            "105/105 [==============================] - 44s 417ms/step - loss: 0.3999 - accuracy: 0.8725 - val_loss: 0.3435 - val_accuracy: 0.8962\n",
            "Epoch 4/100\n",
            "105/105 [==============================] - 44s 416ms/step - loss: 0.3337 - accuracy: 0.8937 - val_loss: 0.2937 - val_accuracy: 0.9081\n",
            "Epoch 5/100\n",
            "105/105 [==============================] - 44s 413ms/step - loss: 0.2977 - accuracy: 0.8997 - val_loss: 0.2667 - val_accuracy: 0.9057\n",
            "Epoch 6/100\n",
            "105/105 [==============================] - 43s 409ms/step - loss: 0.2741 - accuracy: 0.9036 - val_loss: 0.2493 - val_accuracy: 0.9117\n",
            "Epoch 7/100\n",
            "105/105 [==============================] - 43s 408ms/step - loss: 0.2576 - accuracy: 0.9107 - val_loss: 0.2203 - val_accuracy: 0.9236\n",
            "Epoch 8/100\n",
            "105/105 [==============================] - 44s 417ms/step - loss: 0.2488 - accuracy: 0.9161 - val_loss: 0.2194 - val_accuracy: 0.9200\n",
            "Epoch 9/100\n",
            "105/105 [==============================] - 44s 417ms/step - loss: 0.2337 - accuracy: 0.9233 - val_loss: 0.2043 - val_accuracy: 0.9284\n",
            "Epoch 10/100\n",
            "105/105 [==============================] - 43s 406ms/step - loss: 0.2206 - accuracy: 0.9287 - val_loss: 0.1949 - val_accuracy: 0.9356\n",
            "Epoch 11/100\n",
            "105/105 [==============================] - 44s 416ms/step - loss: 0.2175 - accuracy: 0.9242 - val_loss: 0.1895 - val_accuracy: 0.9356\n",
            "Epoch 12/100\n",
            "105/105 [==============================] - 43s 406ms/step - loss: 0.2110 - accuracy: 0.9272 - val_loss: 0.1847 - val_accuracy: 0.9344\n",
            "Epoch 13/100\n",
            "105/105 [==============================] - 44s 419ms/step - loss: 0.2022 - accuracy: 0.9313 - val_loss: 0.1803 - val_accuracy: 0.9391\n",
            "Epoch 14/100\n",
            "105/105 [==============================] - 43s 409ms/step - loss: 0.1979 - accuracy: 0.9322 - val_loss: 0.1740 - val_accuracy: 0.9391\n",
            "Epoch 15/100\n",
            "105/105 [==============================] - 45s 428ms/step - loss: 0.1996 - accuracy: 0.9293 - val_loss: 0.1760 - val_accuracy: 0.9415\n",
            "Epoch 16/100\n",
            "105/105 [==============================] - 43s 407ms/step - loss: 0.1905 - accuracy: 0.9328 - val_loss: 0.1704 - val_accuracy: 0.9391\n",
            "Epoch 17/100\n",
            "105/105 [==============================] - 43s 410ms/step - loss: 0.1854 - accuracy: 0.9337 - val_loss: 0.1617 - val_accuracy: 0.9415\n",
            "Epoch 18/100\n",
            "105/105 [==============================] - 43s 410ms/step - loss: 0.1812 - accuracy: 0.9337 - val_loss: 0.1576 - val_accuracy: 0.9451\n",
            "Epoch 19/100\n",
            "105/105 [==============================] - 43s 411ms/step - loss: 0.1771 - accuracy: 0.9361 - val_loss: 0.1596 - val_accuracy: 0.9439\n",
            "Epoch 20/100\n",
            "105/105 [==============================] - 42s 404ms/step - loss: 0.1710 - accuracy: 0.9442 - val_loss: 0.1532 - val_accuracy: 0.9475\n",
            "Epoch 21/100\n",
            "105/105 [==============================] - 43s 413ms/step - loss: 0.1734 - accuracy: 0.9388 - val_loss: 0.1527 - val_accuracy: 0.9487\n",
            "Epoch 22/100\n",
            "105/105 [==============================] - 42s 401ms/step - loss: 0.1684 - accuracy: 0.9403 - val_loss: 0.1522 - val_accuracy: 0.9475\n",
            "Epoch 23/100\n",
            "105/105 [==============================] - 42s 402ms/step - loss: 0.1670 - accuracy: 0.9418 - val_loss: 0.1502 - val_accuracy: 0.9439\n",
            "Epoch 24/100\n",
            "105/105 [==============================] - 43s 405ms/step - loss: 0.1641 - accuracy: 0.9403 - val_loss: 0.1489 - val_accuracy: 0.9451\n",
            "Epoch 25/100\n",
            "105/105 [==============================] - 42s 400ms/step - loss: 0.1572 - accuracy: 0.9400 - val_loss: 0.1461 - val_accuracy: 0.9487\n",
            "Epoch 26/100\n",
            "105/105 [==============================] - 42s 400ms/step - loss: 0.1589 - accuracy: 0.9415 - val_loss: 0.1443 - val_accuracy: 0.9463\n",
            "Epoch 27/100\n",
            "105/105 [==============================] - 43s 409ms/step - loss: 0.1547 - accuracy: 0.9466 - val_loss: 0.1504 - val_accuracy: 0.9439\n",
            "Epoch 28/100\n",
            "105/105 [==============================] - 42s 400ms/step - loss: 0.1548 - accuracy: 0.9397 - val_loss: 0.1431 - val_accuracy: 0.9511\n",
            "Epoch 29/100\n",
            "105/105 [==============================] - 42s 398ms/step - loss: 0.1496 - accuracy: 0.9478 - val_loss: 0.1411 - val_accuracy: 0.9451\n",
            "Epoch 30/100\n",
            "105/105 [==============================] - 42s 398ms/step - loss: 0.1492 - accuracy: 0.9436 - val_loss: 0.1431 - val_accuracy: 0.9463\n",
            "Epoch 31/100\n",
            "105/105 [==============================] - 43s 410ms/step - loss: 0.1445 - accuracy: 0.9451 - val_loss: 0.1391 - val_accuracy: 0.9487\n",
            "Epoch 32/100\n",
            "105/105 [==============================] - 42s 399ms/step - loss: 0.1470 - accuracy: 0.9460 - val_loss: 0.1364 - val_accuracy: 0.9511\n",
            "Epoch 33/100\n",
            "105/105 [==============================] - 42s 400ms/step - loss: 0.1437 - accuracy: 0.9484 - val_loss: 0.1386 - val_accuracy: 0.9475\n",
            "Epoch 34/100\n",
            "105/105 [==============================] - 42s 396ms/step - loss: 0.1432 - accuracy: 0.9454 - val_loss: 0.1395 - val_accuracy: 0.9475\n",
            "Epoch 35/100\n",
            "105/105 [==============================] - 42s 400ms/step - loss: 0.1443 - accuracy: 0.9481 - val_loss: 0.1369 - val_accuracy: 0.9487\n",
            "Epoch 36/100\n",
            "105/105 [==============================] - 43s 409ms/step - loss: 0.1427 - accuracy: 0.9475 - val_loss: 0.1362 - val_accuracy: 0.9451\n",
            "Epoch 37/100\n",
            "105/105 [==============================] - 42s 401ms/step - loss: 0.1404 - accuracy: 0.9501 - val_loss: 0.1376 - val_accuracy: 0.9487\n",
            "Epoch 38/100\n",
            "105/105 [==============================] - 42s 403ms/step - loss: 0.1402 - accuracy: 0.9478 - val_loss: 0.1336 - val_accuracy: 0.9487\n",
            "Epoch 39/100\n",
            "105/105 [==============================] - 43s 411ms/step - loss: 0.1392 - accuracy: 0.9490 - val_loss: 0.1324 - val_accuracy: 0.9487\n",
            "Epoch 40/100\n",
            "105/105 [==============================] - 42s 397ms/step - loss: 0.1364 - accuracy: 0.9481 - val_loss: 0.1321 - val_accuracy: 0.9475\n",
            "Epoch 41/100\n",
            "105/105 [==============================] - 42s 395ms/step - loss: 0.1340 - accuracy: 0.9493 - val_loss: 0.1357 - val_accuracy: 0.9451\n",
            "Epoch 42/100\n",
            "105/105 [==============================] - 43s 404ms/step - loss: 0.1339 - accuracy: 0.9490 - val_loss: 0.1344 - val_accuracy: 0.9487\n",
            "Epoch 43/100\n",
            "105/105 [==============================] - 42s 397ms/step - loss: 0.1258 - accuracy: 0.9576 - val_loss: 0.1338 - val_accuracy: 0.9439\n",
            "Epoch 44/100\n",
            "105/105 [==============================] - 43s 409ms/step - loss: 0.1331 - accuracy: 0.9478 - val_loss: 0.1328 - val_accuracy: 0.9523\n",
            "Epoch 45/100\n",
            "105/105 [==============================] - 42s 400ms/step - loss: 0.1257 - accuracy: 0.9525 - val_loss: 0.1400 - val_accuracy: 0.9475\n",
            "Epoch 46/100\n",
            "105/105 [==============================] - 42s 398ms/step - loss: 0.1317 - accuracy: 0.9499 - val_loss: 0.1300 - val_accuracy: 0.9523\n",
            "Epoch 47/100\n",
            "105/105 [==============================] - 42s 404ms/step - loss: 0.1311 - accuracy: 0.9528 - val_loss: 0.1284 - val_accuracy: 0.9511\n",
            "Epoch 48/100\n",
            "105/105 [==============================] - 43s 407ms/step - loss: 0.1246 - accuracy: 0.9540 - val_loss: 0.1288 - val_accuracy: 0.9499\n",
            "Epoch 49/100\n",
            "105/105 [==============================] - 44s 416ms/step - loss: 0.1350 - accuracy: 0.9496 - val_loss: 0.1277 - val_accuracy: 0.9570\n",
            "Epoch 50/100\n",
            "105/105 [==============================] - 42s 399ms/step - loss: 0.1242 - accuracy: 0.9540 - val_loss: 0.1287 - val_accuracy: 0.9487\n",
            "Epoch 51/100\n",
            "105/105 [==============================] - 42s 398ms/step - loss: 0.1289 - accuracy: 0.9540 - val_loss: 0.1267 - val_accuracy: 0.9499\n",
            "Epoch 52/100\n",
            "105/105 [==============================] - 42s 402ms/step - loss: 0.1278 - accuracy: 0.9540 - val_loss: 0.1267 - val_accuracy: 0.9511\n",
            "Epoch 53/100\n",
            "105/105 [==============================] - 42s 402ms/step - loss: 0.1248 - accuracy: 0.9546 - val_loss: 0.1256 - val_accuracy: 0.9535\n",
            "Epoch 54/100\n",
            "105/105 [==============================] - 44s 416ms/step - loss: 0.1192 - accuracy: 0.9561 - val_loss: 0.1262 - val_accuracy: 0.9535\n",
            "Epoch 55/100\n",
            "105/105 [==============================] - 43s 402ms/step - loss: 0.1178 - accuracy: 0.9567 - val_loss: 0.1248 - val_accuracy: 0.9547\n",
            "Epoch 56/100\n",
            "105/105 [==============================] - 43s 412ms/step - loss: 0.1194 - accuracy: 0.9540 - val_loss: 0.1255 - val_accuracy: 0.9547\n",
            "Epoch 57/100\n",
            "105/105 [==============================] - 42s 400ms/step - loss: 0.1227 - accuracy: 0.9552 - val_loss: 0.1231 - val_accuracy: 0.9582\n",
            "Epoch 58/100\n",
            "105/105 [==============================] - 43s 409ms/step - loss: 0.1185 - accuracy: 0.9555 - val_loss: 0.1234 - val_accuracy: 0.9547\n",
            "Epoch 59/100\n",
            "105/105 [==============================] - 42s 404ms/step - loss: 0.1194 - accuracy: 0.9537 - val_loss: 0.1204 - val_accuracy: 0.9558\n",
            "Epoch 60/100\n",
            "105/105 [==============================] - 43s 405ms/step - loss: 0.1176 - accuracy: 0.9540 - val_loss: 0.1228 - val_accuracy: 0.9582\n",
            "Epoch 61/100\n",
            "105/105 [==============================] - 42s 399ms/step - loss: 0.1197 - accuracy: 0.9534 - val_loss: 0.1209 - val_accuracy: 0.9606\n",
            "Epoch 62/100\n",
            "105/105 [==============================] - 42s 398ms/step - loss: 0.1139 - accuracy: 0.9588 - val_loss: 0.1264 - val_accuracy: 0.9499\n",
            "Epoch 63/100\n",
            "105/105 [==============================] - 42s 398ms/step - loss: 0.1135 - accuracy: 0.9618 - val_loss: 0.1230 - val_accuracy: 0.9535\n",
            "Epoch 64/100\n",
            "105/105 [==============================] - 43s 410ms/step - loss: 0.1127 - accuracy: 0.9576 - val_loss: 0.1209 - val_accuracy: 0.9582\n",
            "Epoch 65/100\n",
            "105/105 [==============================] - 43s 410ms/step - loss: 0.1164 - accuracy: 0.9561 - val_loss: 0.1195 - val_accuracy: 0.9570\n",
            "Epoch 66/100\n",
            "105/105 [==============================] - 43s 403ms/step - loss: 0.1133 - accuracy: 0.9594 - val_loss: 0.1195 - val_accuracy: 0.9570\n",
            "Epoch 67/100\n",
            "105/105 [==============================] - 42s 398ms/step - loss: 0.1100 - accuracy: 0.9576 - val_loss: 0.1235 - val_accuracy: 0.9570\n",
            "Epoch 68/100\n",
            "105/105 [==============================] - 42s 397ms/step - loss: 0.1070 - accuracy: 0.9654 - val_loss: 0.1222 - val_accuracy: 0.9535\n",
            "Epoch 69/100\n",
            "105/105 [==============================] - 42s 396ms/step - loss: 0.1178 - accuracy: 0.9513 - val_loss: 0.1205 - val_accuracy: 0.9582\n",
            "Epoch 70/100\n",
            "105/105 [==============================] - 43s 411ms/step - loss: 0.1098 - accuracy: 0.9588 - val_loss: 0.1200 - val_accuracy: 0.9594\n",
            "Epoch 71/100\n",
            "105/105 [==============================] - 43s 404ms/step - loss: 0.1092 - accuracy: 0.9594 - val_loss: 0.1226 - val_accuracy: 0.9558\n",
            "Epoch 72/100\n",
            "105/105 [==============================] - 42s 398ms/step - loss: 0.1131 - accuracy: 0.9576 - val_loss: 0.1195 - val_accuracy: 0.9582\n",
            "Epoch 73/100\n",
            "105/105 [==============================] - 42s 404ms/step - loss: 0.1120 - accuracy: 0.9585 - val_loss: 0.1232 - val_accuracy: 0.9523\n",
            "Epoch 74/100\n",
            "105/105 [==============================] - 42s 402ms/step - loss: 0.1120 - accuracy: 0.9564 - val_loss: 0.1205 - val_accuracy: 0.9570\n",
            "Epoch 75/100\n",
            "105/105 [==============================] - 43s 406ms/step - loss: 0.1080 - accuracy: 0.9609 - val_loss: 0.1203 - val_accuracy: 0.9558\n",
            "Epoch 76/100\n",
            "105/105 [==============================] - 43s 409ms/step - loss: 0.1081 - accuracy: 0.9603 - val_loss: 0.1224 - val_accuracy: 0.9582\n",
            "Epoch 77/100\n",
            "105/105 [==============================] - 42s 402ms/step - loss: 0.1080 - accuracy: 0.9636 - val_loss: 0.1193 - val_accuracy: 0.9570\n",
            "Epoch 78/100\n",
            "105/105 [==============================] - 42s 399ms/step - loss: 0.1097 - accuracy: 0.9585 - val_loss: 0.1193 - val_accuracy: 0.9582\n",
            "Epoch 79/100\n",
            "105/105 [==============================] - 43s 413ms/step - loss: 0.1074 - accuracy: 0.9579 - val_loss: 0.1204 - val_accuracy: 0.9570\n",
            "Epoch 80/100\n",
            "105/105 [==============================] - 42s 401ms/step - loss: 0.1037 - accuracy: 0.9630 - val_loss: 0.1200 - val_accuracy: 0.9582\n",
            "Epoch 81/100\n",
            "105/105 [==============================] - 43s 414ms/step - loss: 0.1050 - accuracy: 0.9594 - val_loss: 0.1188 - val_accuracy: 0.9594\n",
            "Epoch 82/100\n",
            "105/105 [==============================] - 44s 417ms/step - loss: 0.0991 - accuracy: 0.9642 - val_loss: 0.1176 - val_accuracy: 0.9582\n",
            "Epoch 83/100\n",
            "105/105 [==============================] - 43s 414ms/step - loss: 0.1026 - accuracy: 0.9591 - val_loss: 0.1187 - val_accuracy: 0.9606\n",
            "Epoch 84/100\n",
            "105/105 [==============================] - 43s 406ms/step - loss: 0.1065 - accuracy: 0.9618 - val_loss: 0.1183 - val_accuracy: 0.9594\n",
            "Epoch 85/100\n",
            "105/105 [==============================] - 42s 404ms/step - loss: 0.1054 - accuracy: 0.9591 - val_loss: 0.1194 - val_accuracy: 0.9606\n",
            "Epoch 86/100\n",
            "105/105 [==============================] - 43s 407ms/step - loss: 0.1008 - accuracy: 0.9651 - val_loss: 0.1181 - val_accuracy: 0.9558\n",
            "Epoch 87/100\n",
            "105/105 [==============================] - 43s 410ms/step - loss: 0.1024 - accuracy: 0.9651 - val_loss: 0.1170 - val_accuracy: 0.9547\n",
            "Epoch 88/100\n",
            "105/105 [==============================] - 47s 445ms/step - loss: 0.1015 - accuracy: 0.9639 - val_loss: 0.1179 - val_accuracy: 0.9558\n",
            "Epoch 89/100\n",
            "105/105 [==============================] - 43s 412ms/step - loss: 0.1015 - accuracy: 0.9654 - val_loss: 0.1169 - val_accuracy: 0.9570\n",
            "Epoch 90/100\n",
            "105/105 [==============================] - 44s 415ms/step - loss: 0.1015 - accuracy: 0.9618 - val_loss: 0.1195 - val_accuracy: 0.9570\n",
            "Epoch 91/100\n",
            "105/105 [==============================] - 43s 408ms/step - loss: 0.1018 - accuracy: 0.9600 - val_loss: 0.1177 - val_accuracy: 0.9594\n",
            "Epoch 92/100\n",
            "105/105 [==============================] - 43s 405ms/step - loss: 0.1015 - accuracy: 0.9609 - val_loss: 0.1188 - val_accuracy: 0.9570\n",
            "Epoch 93/100\n",
            "105/105 [==============================] - 43s 407ms/step - loss: 0.1030 - accuracy: 0.9555 - val_loss: 0.1169 - val_accuracy: 0.9594\n",
            "Epoch 94/100\n",
            "105/105 [==============================] - 45s 432ms/step - loss: 0.0980 - accuracy: 0.9645 - val_loss: 0.1188 - val_accuracy: 0.9558\n",
            "Epoch 95/100\n",
            "105/105 [==============================] - 43s 405ms/step - loss: 0.0944 - accuracy: 0.9645 - val_loss: 0.1181 - val_accuracy: 0.9558\n",
            "Epoch 96/100\n",
            "105/105 [==============================] - 43s 405ms/step - loss: 0.0972 - accuracy: 0.9660 - val_loss: 0.1175 - val_accuracy: 0.9547\n",
            "Epoch 97/100\n",
            "105/105 [==============================] - 43s 406ms/step - loss: 0.0965 - accuracy: 0.9648 - val_loss: 0.1178 - val_accuracy: 0.9535\n",
            "Epoch 98/100\n",
            "105/105 [==============================] - 42s 404ms/step - loss: 0.1004 - accuracy: 0.9651 - val_loss: 0.1171 - val_accuracy: 0.9547\n",
            "Epoch 99/100\n",
            "105/105 [==============================] - 44s 414ms/step - loss: 0.0935 - accuracy: 0.9666 - val_loss: 0.1161 - val_accuracy: 0.9570\n",
            "Epoch 100/100\n",
            "105/105 [==============================] - 52s 492ms/step - loss: 0.0950 - accuracy: 0.9663 - val_loss: 0.1166 - val_accuracy: 0.9558\n"
          ]
        }
      ]
    },
    {
      "cell_type": "code",
      "source": [
        "# Menggunakan model_resnet50ver2 untuk membuat prediksi pada data uji\n",
        "Y_pred = model_resnet50ver2.predict(X_test)\n",
        "# Mengambil indeks kelas dengan probabilitas tertinggi sebagai prediksi\n",
        "Y_pred_classes = np.argmax(Y_pred, axis=1)\n",
        "# Mengambil indeks kelas dengan probabilitas tertinggi sebagai label sebenarnya\n",
        "Y_true = np.argmax(Y_test, axis=1)\n",
        "\n",
        "# Membuat confusion matrix\n",
        "conf_matrix = confusion_matrix(Y_true, Y_pred_classes)\n",
        "\n",
        "# Menampilkan confusion matrix dalam bentuk visualisasi\n",
        "plt.figure(figsize=(8, 6))\n",
        "sns.heatmap(conf_matrix, annot=True, fmt=\"d\", cmap=\"Blues\", xticklabels=['Common_Rust', 'Healthy', 'Gray_Leaf_Spot', 'Blight'], yticklabels=['Common_Rust', 'Healthy', 'Gray_Leaf_Spot', 'Blight'])\n",
        "plt.xlabel('Predicted labels')\n",
        "plt.ylabel('True labels')\n",
        "plt.title('Confusion Matrix')\n",
        "plt.show()\n",
        "\n",
        "# Membuat classification report\n",
        "class_report = classification_report(Y_true, Y_pred_classes)\n",
        "\n",
        "# Menampilkan classification report\n",
        "print(\"\\nClassification Report:\")\n",
        "print(class_report)"
      ],
      "metadata": {
        "id": "W2svXyjyTjeo",
        "colab": {
          "base_uri": "https://localhost:8080/",
          "height": 807
        },
        "outputId": "de50174e-5ba8-4056-d288-bbe16358ce3c"
      },
      "execution_count": 19,
      "outputs": [
        {
          "output_type": "stream",
          "name": "stdout",
          "text": [
            "27/27 [==============================] - 3s 98ms/step\n"
          ]
        },
        {
          "output_type": "display_data",
          "data": {
            "text/plain": [
              "<Figure size 800x600 with 2 Axes>"
            ],
            "image/png": "[encoded data removed]"
          },
          "metadata": {}
        },
        {
          "output_type": "stream",
          "name": "stdout",
          "text": [
            "\n",
            "Classification Report:\n",
            "              precision    recall  f1-score   support\n",
            "\n",
            "           0       0.91      0.94      0.92       218\n",
            "           1       0.99      0.99      0.99       289\n",
            "           2       0.88      0.82      0.85       104\n",
            "           3       1.00      1.00      1.00       227\n",
            "\n",
            "    accuracy                           0.96       838\n",
            "   macro avg       0.94      0.93      0.94       838\n",
            "weighted avg       0.96      0.96      0.96       838\n",
            "\n"
          ]
        }
      ]
    },
    {
      "cell_type": "code",
      "source": [
        "model = models.resnet50()\n",
        "\n",
        "input = torch.randn(1, 3, 224, 224)\n",
        "\n",
        "flops, params = profile(model, inputs=(input, ))\n",
        "print(f\"Estimasi FLOPS: {flops}\")"
      ],
      "metadata": {
        "colab": {
          "base_uri": "https://localhost:8080/"
        },
        "id": "s4STCCZCJjfO",
        "outputId": "83a66a03-6001-4f05-cfe6-8a9c94a29efa"
      },
      "execution_count": 20,
      "outputs": [
        {
          "output_type": "stream",
          "name": "stdout",
          "text": [
            "[INFO] Register count_convNd() for <class 'torch.nn.modules.conv.Conv2d'>.\n",
            "[INFO] Register count_normalization() for <class 'torch.nn.modules.batchnorm.BatchNorm2d'>.\n",
            "[INFO] Register zero_ops() for <class 'torch.nn.modules.activation.ReLU'>.\n",
            "[INFO] Register zero_ops() for <class 'torch.nn.modules.pooling.MaxPool2d'>.\n",
            "[INFO] Register zero_ops() for <class 'torch.nn.modules.container.Sequential'>.\n",
            "[INFO] Register count_adap_avgpool() for <class 'torch.nn.modules.pooling.AdaptiveAvgPool2d'>.\n",
            "[INFO] Register count_linear() for <class 'torch.nn.modules.linear.Linear'>.\n",
            "Estimasi FLOPS: 4133742592.0\n"
          ]
        }
      ]
    }
  ]
}