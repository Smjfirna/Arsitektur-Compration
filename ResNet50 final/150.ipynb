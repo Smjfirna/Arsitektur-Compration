{
  "nbformat": 4,
  "nbformat_minor": 0,
  "metadata": {
    "colab": {
      "provenance": [],
      "gpuType": "T4",
      "include_colab_link": true
    },
    "kernelspec": {
      "name": "python3",
      "display_name": "Python 3"
    },
    "language_info": {
      "name": "python"
    },
    "accelerator": "GPU"
  },
  "cells": [
    {
      "cell_type": "markdown",
      "metadata": {
        "id": "view-in-github",
        "colab_type": "text"
      },
      "source": [
        "<a href=\"https://colab.research.google.com/github/Smjfirna/Arsitektur-Compration/blob/main/ResNet50%20final/150.ipynb\" target=\"_parent\"><img src=\"https://colab.research.google.com/assets/colab-badge.svg\" alt=\"Open In Colab\"/></a>"
      ]
    },
    {
      "cell_type": "code",
      "source": [
        "#Preprocessing\n",
        "import os\n",
        "import cv2\n",
        "import numpy as np\n",
        "from tqdm import tqdm\n",
        "from sklearn.model_selection import train_test_split\n",
        "from sklearn.preprocessing import LabelEncoder\n",
        "from keras.utils import to_categorical\n",
        "\n",
        "#Model dan Augmentasi\n",
        "import tensorflow as tf\n",
        "from tensorflow.keras.preprocessing.image import ImageDataGenerator\n",
        "from tensorflow.keras.models import Sequential\n",
        "from tensorflow.keras import layers, Model, regularizers\n",
        "from tensorflow.keras.callbacks import EarlyStopping\n",
        "from tensorflow.keras.layers import Conv2D, MaxPooling2D, Flatten, Dense, GlobalAveragePooling2D, Dropout\n",
        "import os\n",
        "from tensorflow.keras.optimizers import Adam\n",
        "from tensorflow.keras.optimizers import RMSprop\n",
        "from keras.applications import ResNet50\n",
        "\n",
        "# Evaluasi\n",
        "import torch\n",
        "import torchvision.models as models\n",
        "from thop import profile\n",
        "from sklearn.metrics import confusion_matrix, classification_report\n",
        "\n",
        "#Visualisasi\n",
        "import matplotlib.pyplot as plt\n",
        "import seaborn as sns"
      ],
      "metadata": {
        "id": "NMN3beIVALVJ"
      },
      "execution_count": 2,
      "outputs": []
    },
    {
      "cell_type": "code",
      "execution_count": 3,
      "metadata": {
        "colab": {
          "base_uri": "https://localhost:8080/",
          "height": 90
        },
        "id": "GK3MPeDN_Ofu",
        "outputId": "fc64ba2d-2f2b-45f8-b56a-f2b2c908430b"
      },
      "outputs": [
        {
          "output_type": "display_data",
          "data": {
            "text/plain": [
              "<IPython.core.display.HTML object>"
            ],
            "text/html": [
              "\n",
              "     <input type=\"file\" id=\"files-c81018b2-f5c8-4cc1-89b7-7b04b4f32469\" name=\"files[]\" multiple disabled\n",
              "        style=\"border:none\" />\n",
              "     <output id=\"result-c81018b2-f5c8-4cc1-89b7-7b04b4f32469\">\n",
              "      Upload widget is only available when the cell has been executed in the\n",
              "      current browser session. Please rerun this cell to enable.\n",
              "      </output>\n",
              "      <script>// Copyright 2017 Google LLC\n",
              "//\n",
              "// Licensed under the Apache License, Version 2.0 (the \"License\");\n",
              "// you may not use this file except in compliance with the License.\n",
              "// You may obtain a copy of the License at\n",
              "//\n",
              "//      http://www.apache.org/licenses/LICENSE-2.0\n",
              "//\n",
              "// Unless required by applicable law or agreed to in writing, software\n",
              "// distributed under the License is distributed on an \"AS IS\" BASIS,\n",
              "// WITHOUT WARRANTIES OR CONDITIONS OF ANY KIND, either express or implied.\n",
              "// See the License for the specific language governing permissions and\n",
              "// limitations under the License.\n",
              "\n",
              "/**\n",
              " * @fileoverview Helpers for google.colab Python module.\n",
              " */\n",
              "(function(scope) {\n",
              "function span(text, styleAttributes = {}) {\n",
              "  const element = document.createElement('span');\n",
              "  element.textContent = text;\n",
              "  for (const key of Object.keys(styleAttributes)) {\n",
              "    element.style[key] = styleAttributes[key];\n",
              "  }\n",
              "  return element;\n",
              "}\n",
              "\n",
              "// Max number of bytes which will be uploaded at a time.\n",
              "const MAX_PAYLOAD_SIZE = 100 * 1024;\n",
              "\n",
              "function _uploadFiles(inputId, outputId) {\n",
              "  const steps = uploadFilesStep(inputId, outputId);\n",
              "  const outputElement = document.getElementById(outputId);\n",
              "  // Cache steps on the outputElement to make it available for the next call\n",
              "  // to uploadFilesContinue from Python.\n",
              "  outputElement.steps = steps;\n",
              "\n",
              "  return _uploadFilesContinue(outputId);\n",
              "}\n",
              "\n",
              "// This is roughly an async generator (not supported in the browser yet),\n",
              "// where there are multiple asynchronous steps and the Python side is going\n",
              "// to poll for completion of each step.\n",
              "// This uses a Promise to block the python side on completion of each step,\n",
              "// then passes the result of the previous step as the input to the next step.\n",
              "function _uploadFilesContinue(outputId) {\n",
              "  const outputElement = document.getElementById(outputId);\n",
              "  const steps = outputElement.steps;\n",
              "\n",
              "  const next = steps.next(outputElement.lastPromiseValue);\n",
              "  return Promise.resolve(next.value.promise).then((value) => {\n",
              "    // Cache the last promise value to make it available to the next\n",
              "    // step of the generator.\n",
              "    outputElement.lastPromiseValue = value;\n",
              "    return next.value.response;\n",
              "  });\n",
              "}\n",
              "\n",
              "/**\n",
              " * Generator function which is called between each async step of the upload\n",
              " * process.\n",
              " * @param {string} inputId Element ID of the input file picker element.\n",
              " * @param {string} outputId Element ID of the output display.\n",
              " * @return {!Iterable<!Object>} Iterable of next steps.\n",
              " */\n",
              "function* uploadFilesStep(inputId, outputId) {\n",
              "  const inputElement = document.getElementById(inputId);\n",
              "  inputElement.disabled = false;\n",
              "\n",
              "  const outputElement = document.getElementById(outputId);\n",
              "  outputElement.innerHTML = '';\n",
              "\n",
              "  const pickedPromise = new Promise((resolve) => {\n",
              "    inputElement.addEventListener('change', (e) => {\n",
              "      resolve(e.target.files);\n",
              "    });\n",
              "  });\n",
              "\n",
              "  const cancel = document.createElement('button');\n",
              "  inputElement.parentElement.appendChild(cancel);\n",
              "  cancel.textContent = 'Cancel upload';\n",
              "  const cancelPromise = new Promise((resolve) => {\n",
              "    cancel.onclick = () => {\n",
              "      resolve(null);\n",
              "    };\n",
              "  });\n",
              "\n",
              "  // Wait for the user to pick the files.\n",
              "  const files = yield {\n",
              "    promise: Promise.race([pickedPromise, cancelPromise]),\n",
              "    response: {\n",
              "      action: 'starting',\n",
              "    }\n",
              "  };\n",
              "\n",
              "  cancel.remove();\n",
              "\n",
              "  // Disable the input element since further picks are not allowed.\n",
              "  inputElement.disabled = true;\n",
              "\n",
              "  if (!files) {\n",
              "    return {\n",
              "      response: {\n",
              "        action: 'complete',\n",
              "      }\n",
              "    };\n",
              "  }\n",
              "\n",
              "  for (const file of files) {\n",
              "    const li = document.createElement('li');\n",
              "    li.append(span(file.name, {fontWeight: 'bold'}));\n",
              "    li.append(span(\n",
              "        `(${file.type || 'n/a'}) - ${file.size} bytes, ` +\n",
              "        `last modified: ${\n",
              "            file.lastModifiedDate ? file.lastModifiedDate.toLocaleDateString() :\n",
              "                                    'n/a'} - `));\n",
              "    const percent = span('0% done');\n",
              "    li.appendChild(percent);\n",
              "\n",
              "    outputElement.appendChild(li);\n",
              "\n",
              "    const fileDataPromise = new Promise((resolve) => {\n",
              "      const reader = new FileReader();\n",
              "      reader.onload = (e) => {\n",
              "        resolve(e.target.result);\n",
              "      };\n",
              "      reader.readAsArrayBuffer(file);\n",
              "    });\n",
              "    // Wait for the data to be ready.\n",
              "    let fileData = yield {\n",
              "      promise: fileDataPromise,\n",
              "      response: {\n",
              "        action: 'continue',\n",
              "      }\n",
              "    };\n",
              "\n",
              "    // Use a chunked sending to avoid message size limits. See b/62115660.\n",
              "    let position = 0;\n",
              "    do {\n",
              "      const length = Math.min(fileData.byteLength - position, MAX_PAYLOAD_SIZE);\n",
              "      const chunk = new Uint8Array(fileData, position, length);\n",
              "      position += length;\n",
              "\n",
              "      const base64 = btoa(String.fromCharCode.apply(null, chunk));\n",
              "      yield {\n",
              "        response: {\n",
              "          action: 'append',\n",
              "          file: file.name,\n",
              "          data: base64,\n",
              "        },\n",
              "      };\n",
              "\n",
              "      let percentDone = fileData.byteLength === 0 ?\n",
              "          100 :\n",
              "          Math.round((position / fileData.byteLength) * 100);\n",
              "      percent.textContent = `${percentDone}% done`;\n",
              "\n",
              "    } while (position < fileData.byteLength);\n",
              "  }\n",
              "\n",
              "  // All done.\n",
              "  yield {\n",
              "    response: {\n",
              "      action: 'complete',\n",
              "    }\n",
              "  };\n",
              "}\n",
              "\n",
              "scope.google = scope.google || {};\n",
              "scope.google.colab = scope.google.colab || {};\n",
              "scope.google.colab._files = {\n",
              "  _uploadFiles,\n",
              "  _uploadFilesContinue,\n",
              "};\n",
              "})(self);\n",
              "</script> "
            ]
          },
          "metadata": {}
        },
        {
          "output_type": "stream",
          "name": "stdout",
          "text": [
            "Saving kaggle.json to kaggle.json\n"
          ]
        },
        {
          "output_type": "execute_result",
          "data": {
            "text/plain": [
              "{'kaggle.json': b'{\"username\":\"smjayyy\",\"key\":\"8eb172e224d83c7b56b4a2ef349b7c0d\"}'}"
            ]
          },
          "metadata": {},
          "execution_count": 3
        }
      ],
      "source": [
        "from google.colab import files\n",
        "files.upload()"
      ]
    },
    {
      "cell_type": "code",
      "source": [
        "!mkdir -p ~/.kaggle\n",
        "!cp kaggle.json ~/.kaggle/\n",
        "!chmod 600 ~/.kaggle/kaggle.json"
      ],
      "metadata": {
        "id": "Y9Kia11G_5Si"
      },
      "execution_count": 4,
      "outputs": []
    },
    {
      "cell_type": "code",
      "source": [
        "##link dataset in Kaggle.com\n",
        "!kaggle datasets download -d smaranjitghose/corn-or-maize-leaf-disease-dataset"
      ],
      "metadata": {
        "colab": {
          "base_uri": "https://localhost:8080/"
        },
        "id": "apfKVlxj_8FJ",
        "outputId": "bfaf0830-cb52-4801-aff5-d88d80cc882b"
      },
      "execution_count": 5,
      "outputs": [
        {
          "output_type": "stream",
          "name": "stdout",
          "text": [
            "Dataset URL: https://www.kaggle.com/datasets/smaranjitghose/corn-or-maize-leaf-disease-dataset\n",
            "License(s): copyright-authors\n",
            "Downloading corn-or-maize-leaf-disease-dataset.zip to /content\n",
            " 96% 155M/161M [00:01<00:00, 183MB/s]\n",
            "100% 161M/161M [00:01<00:00, 160MB/s]\n"
          ]
        }
      ]
    },
    {
      "cell_type": "code",
      "source": [
        "!unzip -q corn-or-maize-leaf-disease-dataset.zip -d /content"
      ],
      "metadata": {
        "id": "ixMUoB2rAAd3"
      },
      "execution_count": 6,
      "outputs": []
    },
    {
      "cell_type": "code",
      "source": [
        "dataset_dir = '/content/data'"
      ],
      "metadata": {
        "id": "pZ8IerIQAGFO"
      },
      "execution_count": 7,
      "outputs": []
    },
    {
      "cell_type": "code",
      "source": [
        "print(os.listdir(dataset_dir))"
      ],
      "metadata": {
        "colab": {
          "base_uri": "https://localhost:8080/"
        },
        "id": "9wwka8QaAIcj",
        "outputId": "06195458-3d83-408e-905a-d47e35fbb4f7"
      },
      "execution_count": 8,
      "outputs": [
        {
          "output_type": "stream",
          "name": "stdout",
          "text": [
            "['Gray_Leaf_Spot', 'Healthy', 'Blight', 'Common_Rust']\n"
          ]
        }
      ]
    },
    {
      "cell_type": "code",
      "source": [
        "IMAGE_SIZE_resnet50 = 224"
      ],
      "metadata": {
        "id": "_UCEuA-hAPSa"
      },
      "execution_count": 9,
      "outputs": []
    },
    {
      "cell_type": "code",
      "source": [
        "def make_data(label, DIR, img_list, label_list):\n",
        "    for img in tqdm(os.listdir(DIR)):\n",
        "        path = os.path.join(DIR, img)\n",
        "        img = cv2.imread(path, cv2.IMREAD_COLOR)\n",
        "        img = cv2.resize(img, (IMAGE_SIZE_resnet50, IMAGE_SIZE_resnet50))\n",
        "        img_list.append(np.array(img))\n",
        "        label_list.append(str(label))"
      ],
      "metadata": {
        "id": "B3menIgvARk5"
      },
      "execution_count": 10,
      "outputs": []
    },
    {
      "cell_type": "code",
      "source": [
        "X = []\n",
        "Z = []"
      ],
      "metadata": {
        "id": "Jn6gWefxATyU"
      },
      "execution_count": 11,
      "outputs": []
    },
    {
      "cell_type": "code",
      "source": [
        "for i, class_name in enumerate(['Common_Rust', 'Healthy', 'Gray_Leaf_Spot', 'Blight']):\n",
        "    class_dir = os.path.join(dataset_dir, class_name)\n",
        "    make_data(class_name, class_dir, X, Z)"
      ],
      "metadata": {
        "colab": {
          "base_uri": "https://localhost:8080/"
        },
        "id": "S9-RQTGJAWCk",
        "outputId": "89eaf284-d710-4fd9-867c-7a2235a01eea"
      },
      "execution_count": 12,
      "outputs": [
        {
          "output_type": "stream",
          "name": "stderr",
          "text": [
            "100%|██████████| 1306/1306 [00:04<00:00, 264.08it/s]\n",
            "100%|██████████| 1162/1162 [00:01<00:00, 908.36it/s]\n",
            "100%|██████████| 574/574 [00:01<00:00, 356.44it/s]\n",
            "100%|██████████| 1146/1146 [00:04<00:00, 233.55it/s]\n"
          ]
        }
      ]
    },
    {
      "cell_type": "code",
      "source": [
        "# Menghitung jumlah data untuk setiap kelas\n",
        "class_counts = {class_name: Z.count(class_name) for class_name in set(Z)}\n",
        "\n",
        "# Menampilkan visualisasi jumlah data\n",
        "plt.figure(figsize=(6, 4))\n",
        "plt.bar(class_counts.keys(), class_counts.values())\n",
        "plt.xlabel('Class')\n",
        "plt.ylabel('Count')\n",
        "plt.title('Jumlah Data Setiap Kelas')\n",
        "plt.show()"
      ],
      "metadata": {
        "colab": {
          "base_uri": "https://localhost:8080/",
          "height": 410
        },
        "id": "-IcXHIM8Akcw",
        "outputId": "d3925cb7-249a-49bc-f8b5-c25c3c9a75e2"
      },
      "execution_count": 13,
      "outputs": [
        {
          "output_type": "display_data",
          "data": {
            "text/plain": [
              "<Figure size 600x400 with 1 Axes>"
            ],
            "image/png": "[encoded data removed]"
          },
          "metadata": {}
        }
      ]
    },
    {
      "cell_type": "code",
      "source": [
        "le = LabelEncoder()\n",
        "Y = le.fit_transform(Z)\n",
        "Y = to_categorical(Y, num_classes=len(le.classes_))\n",
        "\n",
        "# Konversi ke array numpy\n",
        "X = np.array(X)\n",
        "\n",
        "# Memisahkan data menjadi data latih dan data uji\n",
        "X_train, X_test, Y_train, Y_test = train_test_split(X, Y, test_size=0.2, random_state=42)\n",
        "\n",
        "print(\"Jumlah Data Train adalah :\", len(X_train))\n",
        "print(\"Jumlah Data Test adalah :\", len(X_test))"
      ],
      "metadata": {
        "colab": {
          "base_uri": "https://localhost:8080/"
        },
        "id": "OI7kvVbXAqko",
        "outputId": "830d6763-47d2-4938-b8dc-56f44c048236"
      },
      "execution_count": 14,
      "outputs": [
        {
          "output_type": "stream",
          "name": "stdout",
          "text": [
            "Jumlah Data Train adalah : 3350\n",
            "Jumlah Data Test adalah : 838\n"
          ]
        }
      ]
    },
    {
      "cell_type": "code",
      "source": [
        "datagen = ImageDataGenerator(\n",
        "    rotation_range=20,\n",
        "    zoom_range=0.2,\n",
        "    horizontal_flip=True,\n",
        "    vertical_flip=True\n",
        ")\n",
        "\n",
        "datagen.fit(X_train)"
      ],
      "metadata": {
        "id": "ue5XLCIlA2ld"
      },
      "execution_count": 15,
      "outputs": []
    },
    {
      "cell_type": "code",
      "source": [
        "resnet50 = ResNet50(include_top=False, weights='imagenet', input_shape=(IMAGE_SIZE_resnet50, IMAGE_SIZE_resnet50, 3))\n",
        "\n",
        "# Membuat model Sequential\n",
        "model_resnet50ver2 = Sequential()\n",
        "model_resnet50ver2.add(resnet50)\n",
        "model_resnet50ver2.add(GlobalAveragePooling2D())\n",
        "model_resnet50ver2.add(Dense(4, activation='softmax'))\n",
        "\n",
        "# Membekukan layer-layer ResNet50 yang telah dilatih\n",
        "for layer in resnet50.layers:\n",
        "    layer.trainable = False\n",
        "\n",
        "model_resnet50ver2.compile(optimizer=Adam(learning_rate=1e-4), loss='categorical_crossentropy', metrics=['accuracy'])\n",
        "\n",
        "# Menampilkan summary dari model\n",
        "model_resnet50ver2.summary()\n",
        "\n",
        "# Melatih model dengan data latih dan validasi\n",
        "history_resnet50ver2 = model_resnet50ver2.fit(datagen.flow(X_train, Y_train), epochs=150, validation_data=(X_test, Y_test))"
      ],
      "metadata": {
        "id": "qg6h8yY_A62R",
        "colab": {
          "base_uri": "https://localhost:8080/"
        },
        "outputId": "69865ffe-09a4-4a06-fc08-785eed741872"
      },
      "execution_count": 16,
      "outputs": [
        {
          "output_type": "stream",
          "name": "stdout",
          "text": [
            "Downloading data from https://storage.googleapis.com/tensorflow/keras-applications/resnet/resnet50_weights_tf_dim_ordering_tf_kernels_notop.h5\n",
            "94765736/94765736 [==============================] - 0s 0us/step\n",
            "Model: \"sequential\"\n",
            "_________________________________________________________________\n",
            " Layer (type)                Output Shape              Param #   \n",
            "=================================================================\n",
            " resnet50 (Functional)       (None, 7, 7, 2048)        23587712  \n",
            "                                                                 \n",
            " global_average_pooling2d (  (None, 2048)              0         \n",
            " GlobalAveragePooling2D)                                         \n",
            "                                                                 \n",
            " dense (Dense)               (None, 4)                 8196      \n",
            "                                                                 \n",
            "=================================================================\n",
            "Total params: 23595908 (90.01 MB)\n",
            "Trainable params: 8196 (32.02 KB)\n",
            "Non-trainable params: 23587712 (89.98 MB)\n",
            "_________________________________________________________________\n",
            "Epoch 1/150\n",
            "105/105 [==============================] - 57s 464ms/step - loss: 1.0823 - accuracy: 0.5645 - val_loss: 0.6324 - val_accuracy: 0.7876\n",
            "Epoch 2/150\n",
            "105/105 [==============================] - 42s 396ms/step - loss: 0.5526 - accuracy: 0.8158 - val_loss: 0.4325 - val_accuracy: 0.8508\n",
            "Epoch 3/150\n",
            "105/105 [==============================] - 43s 407ms/step - loss: 0.4207 - accuracy: 0.8564 - val_loss: 0.3546 - val_accuracy: 0.8699\n",
            "Epoch 4/150\n",
            "105/105 [==============================] - 43s 406ms/step - loss: 0.3509 - accuracy: 0.8806 - val_loss: 0.3134 - val_accuracy: 0.8831\n",
            "Epoch 5/150\n",
            "105/105 [==============================] - 43s 408ms/step - loss: 0.3054 - accuracy: 0.8961 - val_loss: 0.2844 - val_accuracy: 0.8938\n",
            "Epoch 6/150\n",
            "105/105 [==============================] - 42s 400ms/step - loss: 0.2843 - accuracy: 0.8964 - val_loss: 0.2631 - val_accuracy: 0.9093\n",
            "Epoch 7/150\n",
            "105/105 [==============================] - 42s 401ms/step - loss: 0.2567 - accuracy: 0.9128 - val_loss: 0.2493 - val_accuracy: 0.9177\n",
            "Epoch 8/150\n",
            "105/105 [==============================] - 43s 413ms/step - loss: 0.2483 - accuracy: 0.9146 - val_loss: 0.2405 - val_accuracy: 0.9129\n",
            "Epoch 9/150\n",
            "105/105 [==============================] - 43s 407ms/step - loss: 0.2368 - accuracy: 0.9143 - val_loss: 0.2299 - val_accuracy: 0.9200\n",
            "Epoch 10/150\n",
            "105/105 [==============================] - 43s 411ms/step - loss: 0.2295 - accuracy: 0.9167 - val_loss: 0.2298 - val_accuracy: 0.9212\n",
            "Epoch 11/150\n",
            "105/105 [==============================] - 44s 417ms/step - loss: 0.2139 - accuracy: 0.9230 - val_loss: 0.2179 - val_accuracy: 0.9260\n",
            "Epoch 12/150\n",
            "105/105 [==============================] - 42s 403ms/step - loss: 0.2128 - accuracy: 0.9242 - val_loss: 0.2204 - val_accuracy: 0.9224\n",
            "Epoch 13/150\n",
            "105/105 [==============================] - 43s 407ms/step - loss: 0.2028 - accuracy: 0.9281 - val_loss: 0.2071 - val_accuracy: 0.9308\n",
            "Epoch 14/150\n",
            "105/105 [==============================] - 44s 415ms/step - loss: 0.1924 - accuracy: 0.9296 - val_loss: 0.2062 - val_accuracy: 0.9284\n",
            "Epoch 15/150\n",
            "105/105 [==============================] - 43s 414ms/step - loss: 0.1973 - accuracy: 0.9296 - val_loss: 0.1976 - val_accuracy: 0.9308\n",
            "Epoch 16/150\n",
            "105/105 [==============================] - 44s 419ms/step - loss: 0.1958 - accuracy: 0.9287 - val_loss: 0.1967 - val_accuracy: 0.9308\n",
            "Epoch 17/150\n",
            "105/105 [==============================] - 43s 410ms/step - loss: 0.1898 - accuracy: 0.9322 - val_loss: 0.1932 - val_accuracy: 0.9320\n",
            "Epoch 18/150\n",
            "105/105 [==============================] - 42s 402ms/step - loss: 0.1828 - accuracy: 0.9352 - val_loss: 0.1962 - val_accuracy: 0.9308\n",
            "Epoch 19/150\n",
            "105/105 [==============================] - 44s 420ms/step - loss: 0.1768 - accuracy: 0.9355 - val_loss: 0.1929 - val_accuracy: 0.9320\n",
            "Epoch 20/150\n",
            "105/105 [==============================] - 43s 409ms/step - loss: 0.1779 - accuracy: 0.9346 - val_loss: 0.1851 - val_accuracy: 0.9379\n",
            "Epoch 21/150\n",
            "105/105 [==============================] - 43s 408ms/step - loss: 0.1707 - accuracy: 0.9376 - val_loss: 0.1843 - val_accuracy: 0.9356\n",
            "Epoch 22/150\n",
            "105/105 [==============================] - 42s 400ms/step - loss: 0.1718 - accuracy: 0.9382 - val_loss: 0.1876 - val_accuracy: 0.9356\n",
            "Epoch 23/150\n",
            "105/105 [==============================] - 42s 400ms/step - loss: 0.1689 - accuracy: 0.9379 - val_loss: 0.1793 - val_accuracy: 0.9356\n",
            "Epoch 24/150\n",
            "105/105 [==============================] - 42s 400ms/step - loss: 0.1594 - accuracy: 0.9400 - val_loss: 0.1770 - val_accuracy: 0.9391\n",
            "Epoch 25/150\n",
            "105/105 [==============================] - 42s 401ms/step - loss: 0.1577 - accuracy: 0.9436 - val_loss: 0.1789 - val_accuracy: 0.9391\n",
            "Epoch 26/150\n",
            "105/105 [==============================] - 43s 411ms/step - loss: 0.1550 - accuracy: 0.9466 - val_loss: 0.1738 - val_accuracy: 0.9415\n",
            "Epoch 27/150\n",
            "105/105 [==============================] - 43s 406ms/step - loss: 0.1491 - accuracy: 0.9466 - val_loss: 0.1740 - val_accuracy: 0.9427\n",
            "Epoch 28/150\n",
            "105/105 [==============================] - 42s 398ms/step - loss: 0.1529 - accuracy: 0.9415 - val_loss: 0.1734 - val_accuracy: 0.9439\n",
            "Epoch 29/150\n",
            "105/105 [==============================] - 42s 399ms/step - loss: 0.1492 - accuracy: 0.9478 - val_loss: 0.1684 - val_accuracy: 0.9391\n",
            "Epoch 30/150\n",
            "105/105 [==============================] - 43s 412ms/step - loss: 0.1445 - accuracy: 0.9439 - val_loss: 0.1689 - val_accuracy: 0.9427\n",
            "Epoch 31/150\n",
            "105/105 [==============================] - 42s 400ms/step - loss: 0.1527 - accuracy: 0.9442 - val_loss: 0.1677 - val_accuracy: 0.9427\n",
            "Epoch 32/150\n",
            "105/105 [==============================] - 43s 406ms/step - loss: 0.1492 - accuracy: 0.9451 - val_loss: 0.1662 - val_accuracy: 0.9439\n",
            "Epoch 33/150\n",
            "105/105 [==============================] - 43s 411ms/step - loss: 0.1457 - accuracy: 0.9454 - val_loss: 0.1650 - val_accuracy: 0.9463\n",
            "Epoch 34/150\n",
            "105/105 [==============================] - 43s 405ms/step - loss: 0.1426 - accuracy: 0.9469 - val_loss: 0.1649 - val_accuracy: 0.9451\n",
            "Epoch 35/150\n",
            "105/105 [==============================] - 43s 406ms/step - loss: 0.1381 - accuracy: 0.9487 - val_loss: 0.1626 - val_accuracy: 0.9463\n",
            "Epoch 36/150\n",
            "105/105 [==============================] - 42s 399ms/step - loss: 0.1452 - accuracy: 0.9466 - val_loss: 0.1611 - val_accuracy: 0.9475\n",
            "Epoch 37/150\n",
            "105/105 [==============================] - 42s 399ms/step - loss: 0.1419 - accuracy: 0.9519 - val_loss: 0.1606 - val_accuracy: 0.9475\n",
            "Epoch 38/150\n",
            "105/105 [==============================] - 42s 401ms/step - loss: 0.1370 - accuracy: 0.9496 - val_loss: 0.1588 - val_accuracy: 0.9487\n",
            "Epoch 39/150\n",
            "105/105 [==============================] - 44s 421ms/step - loss: 0.1343 - accuracy: 0.9540 - val_loss: 0.1616 - val_accuracy: 0.9499\n",
            "Epoch 40/150\n",
            "105/105 [==============================] - 42s 399ms/step - loss: 0.1332 - accuracy: 0.9504 - val_loss: 0.1586 - val_accuracy: 0.9487\n",
            "Epoch 41/150\n",
            "105/105 [==============================] - 42s 403ms/step - loss: 0.1386 - accuracy: 0.9501 - val_loss: 0.1598 - val_accuracy: 0.9547\n",
            "Epoch 42/150\n",
            "105/105 [==============================] - 43s 408ms/step - loss: 0.1343 - accuracy: 0.9501 - val_loss: 0.1593 - val_accuracy: 0.9499\n",
            "Epoch 43/150\n",
            "105/105 [==============================] - 43s 406ms/step - loss: 0.1321 - accuracy: 0.9507 - val_loss: 0.1560 - val_accuracy: 0.9523\n",
            "Epoch 44/150\n",
            "105/105 [==============================] - 42s 400ms/step - loss: 0.1302 - accuracy: 0.9522 - val_loss: 0.1560 - val_accuracy: 0.9499\n",
            "Epoch 45/150\n",
            "105/105 [==============================] - 42s 401ms/step - loss: 0.1278 - accuracy: 0.9528 - val_loss: 0.1546 - val_accuracy: 0.9499\n",
            "Epoch 46/150\n",
            "105/105 [==============================] - 42s 399ms/step - loss: 0.1266 - accuracy: 0.9573 - val_loss: 0.1542 - val_accuracy: 0.9511\n",
            "Epoch 47/150\n",
            "105/105 [==============================] - 43s 413ms/step - loss: 0.1245 - accuracy: 0.9534 - val_loss: 0.1544 - val_accuracy: 0.9511\n",
            "Epoch 48/150\n",
            "105/105 [==============================] - 42s 402ms/step - loss: 0.1288 - accuracy: 0.9540 - val_loss: 0.1539 - val_accuracy: 0.9499\n",
            "Epoch 49/150\n",
            "105/105 [==============================] - 43s 412ms/step - loss: 0.1205 - accuracy: 0.9582 - val_loss: 0.1515 - val_accuracy: 0.9511\n",
            "Epoch 50/150\n",
            "105/105 [==============================] - 42s 403ms/step - loss: 0.1266 - accuracy: 0.9555 - val_loss: 0.1524 - val_accuracy: 0.9511\n",
            "Epoch 51/150\n",
            "105/105 [==============================] - 42s 402ms/step - loss: 0.1191 - accuracy: 0.9549 - val_loss: 0.1532 - val_accuracy: 0.9523\n",
            "Epoch 52/150\n",
            "105/105 [==============================] - 42s 399ms/step - loss: 0.1234 - accuracy: 0.9543 - val_loss: 0.1560 - val_accuracy: 0.9499\n",
            "Epoch 53/150\n",
            "105/105 [==============================] - 44s 420ms/step - loss: 0.1233 - accuracy: 0.9516 - val_loss: 0.1520 - val_accuracy: 0.9523\n",
            "Epoch 54/150\n",
            "105/105 [==============================] - 42s 401ms/step - loss: 0.1204 - accuracy: 0.9540 - val_loss: 0.1497 - val_accuracy: 0.9523\n",
            "Epoch 55/150\n",
            "105/105 [==============================] - 43s 410ms/step - loss: 0.1202 - accuracy: 0.9555 - val_loss: 0.1511 - val_accuracy: 0.9535\n",
            "Epoch 56/150\n",
            "105/105 [==============================] - 43s 407ms/step - loss: 0.1146 - accuracy: 0.9585 - val_loss: 0.1521 - val_accuracy: 0.9499\n",
            "Epoch 57/150\n",
            "105/105 [==============================] - 42s 397ms/step - loss: 0.1196 - accuracy: 0.9558 - val_loss: 0.1488 - val_accuracy: 0.9547\n",
            "Epoch 58/150\n",
            "105/105 [==============================] - 42s 400ms/step - loss: 0.1177 - accuracy: 0.9603 - val_loss: 0.1509 - val_accuracy: 0.9547\n",
            "Epoch 59/150\n",
            "105/105 [==============================] - 51s 483ms/step - loss: 0.1155 - accuracy: 0.9603 - val_loss: 0.1483 - val_accuracy: 0.9523\n",
            "Epoch 60/150\n",
            "105/105 [==============================] - 44s 419ms/step - loss: 0.1172 - accuracy: 0.9567 - val_loss: 0.1489 - val_accuracy: 0.9499\n",
            "Epoch 61/150\n",
            "105/105 [==============================] - 42s 403ms/step - loss: 0.1140 - accuracy: 0.9603 - val_loss: 0.1499 - val_accuracy: 0.9523\n",
            "Epoch 62/150\n",
            "105/105 [==============================] - 43s 409ms/step - loss: 0.1180 - accuracy: 0.9567 - val_loss: 0.1466 - val_accuracy: 0.9547\n",
            "Epoch 63/150\n",
            "105/105 [==============================] - 44s 421ms/step - loss: 0.1094 - accuracy: 0.9606 - val_loss: 0.1484 - val_accuracy: 0.9570\n",
            "Epoch 64/150\n",
            "105/105 [==============================] - 42s 404ms/step - loss: 0.1221 - accuracy: 0.9558 - val_loss: 0.1457 - val_accuracy: 0.9511\n",
            "Epoch 65/150\n",
            "105/105 [==============================] - 43s 412ms/step - loss: 0.1172 - accuracy: 0.9582 - val_loss: 0.1455 - val_accuracy: 0.9523\n",
            "Epoch 66/150\n",
            "105/105 [==============================] - 43s 409ms/step - loss: 0.1096 - accuracy: 0.9582 - val_loss: 0.1463 - val_accuracy: 0.9547\n",
            "Epoch 67/150\n",
            "105/105 [==============================] - 43s 406ms/step - loss: 0.1128 - accuracy: 0.9591 - val_loss: 0.1490 - val_accuracy: 0.9487\n",
            "Epoch 68/150\n",
            "105/105 [==============================] - 45s 423ms/step - loss: 0.1077 - accuracy: 0.9582 - val_loss: 0.1460 - val_accuracy: 0.9511\n",
            "Epoch 69/150\n",
            "105/105 [==============================] - 42s 402ms/step - loss: 0.1099 - accuracy: 0.9612 - val_loss: 0.1455 - val_accuracy: 0.9523\n",
            "Epoch 70/150\n",
            "105/105 [==============================] - 44s 417ms/step - loss: 0.1143 - accuracy: 0.9576 - val_loss: 0.1455 - val_accuracy: 0.9511\n",
            "Epoch 71/150\n",
            "105/105 [==============================] - 42s 400ms/step - loss: 0.1061 - accuracy: 0.9585 - val_loss: 0.1471 - val_accuracy: 0.9547\n",
            "Epoch 72/150\n",
            "105/105 [==============================] - 45s 428ms/step - loss: 0.1138 - accuracy: 0.9546 - val_loss: 0.1463 - val_accuracy: 0.9535\n",
            "Epoch 73/150\n",
            "105/105 [==============================] - 42s 402ms/step - loss: 0.1089 - accuracy: 0.9591 - val_loss: 0.1471 - val_accuracy: 0.9523\n",
            "Epoch 74/150\n",
            "105/105 [==============================] - 42s 399ms/step - loss: 0.1064 - accuracy: 0.9603 - val_loss: 0.1441 - val_accuracy: 0.9523\n",
            "Epoch 75/150\n",
            "105/105 [==============================] - 43s 413ms/step - loss: 0.1012 - accuracy: 0.9648 - val_loss: 0.1471 - val_accuracy: 0.9523\n",
            "Epoch 76/150\n",
            "105/105 [==============================] - 42s 403ms/step - loss: 0.1069 - accuracy: 0.9609 - val_loss: 0.1489 - val_accuracy: 0.9523\n",
            "Epoch 77/150\n",
            "105/105 [==============================] - 43s 411ms/step - loss: 0.1041 - accuracy: 0.9591 - val_loss: 0.1446 - val_accuracy: 0.9523\n",
            "Epoch 78/150\n",
            "105/105 [==============================] - 43s 409ms/step - loss: 0.1021 - accuracy: 0.9624 - val_loss: 0.1433 - val_accuracy: 0.9499\n",
            "Epoch 79/150\n",
            "105/105 [==============================] - 42s 401ms/step - loss: 0.1038 - accuracy: 0.9576 - val_loss: 0.1450 - val_accuracy: 0.9523\n",
            "Epoch 80/150\n",
            "105/105 [==============================] - 42s 398ms/step - loss: 0.1019 - accuracy: 0.9633 - val_loss: 0.1442 - val_accuracy: 0.9523\n",
            "Epoch 81/150\n",
            "105/105 [==============================] - 43s 411ms/step - loss: 0.1000 - accuracy: 0.9657 - val_loss: 0.1495 - val_accuracy: 0.9523\n",
            "Epoch 82/150\n",
            "105/105 [==============================] - 42s 401ms/step - loss: 0.0994 - accuracy: 0.9660 - val_loss: 0.1437 - val_accuracy: 0.9535\n",
            "Epoch 83/150\n",
            "105/105 [==============================] - 42s 399ms/step - loss: 0.1057 - accuracy: 0.9618 - val_loss: 0.1510 - val_accuracy: 0.9523\n",
            "Epoch 84/150\n",
            "105/105 [==============================] - 42s 397ms/step - loss: 0.0967 - accuracy: 0.9642 - val_loss: 0.1485 - val_accuracy: 0.9535\n",
            "Epoch 85/150\n",
            "105/105 [==============================] - 42s 400ms/step - loss: 0.1007 - accuracy: 0.9636 - val_loss: 0.1438 - val_accuracy: 0.9511\n",
            "Epoch 86/150\n",
            "105/105 [==============================] - 44s 418ms/step - loss: 0.1056 - accuracy: 0.9612 - val_loss: 0.1422 - val_accuracy: 0.9535\n",
            "Epoch 87/150\n",
            "105/105 [==============================] - 42s 400ms/step - loss: 0.0989 - accuracy: 0.9615 - val_loss: 0.1421 - val_accuracy: 0.9523\n",
            "Epoch 88/150\n",
            "105/105 [==============================] - 42s 398ms/step - loss: 0.0984 - accuracy: 0.9630 - val_loss: 0.1430 - val_accuracy: 0.9547\n",
            "Epoch 89/150\n",
            "105/105 [==============================] - 43s 409ms/step - loss: 0.0960 - accuracy: 0.9681 - val_loss: 0.1434 - val_accuracy: 0.9535\n",
            "Epoch 90/150\n",
            "105/105 [==============================] - 43s 410ms/step - loss: 0.0950 - accuracy: 0.9657 - val_loss: 0.1431 - val_accuracy: 0.9547\n",
            "Epoch 91/150\n",
            "105/105 [==============================] - 42s 398ms/step - loss: 0.0978 - accuracy: 0.9672 - val_loss: 0.1411 - val_accuracy: 0.9523\n",
            "Epoch 92/150\n",
            "105/105 [==============================] - 43s 407ms/step - loss: 0.1032 - accuracy: 0.9624 - val_loss: 0.1430 - val_accuracy: 0.9523\n",
            "Epoch 93/150\n",
            "105/105 [==============================] - 43s 403ms/step - loss: 0.0977 - accuracy: 0.9663 - val_loss: 0.1421 - val_accuracy: 0.9523\n",
            "Epoch 94/150\n",
            "105/105 [==============================] - 44s 419ms/step - loss: 0.0988 - accuracy: 0.9642 - val_loss: 0.1409 - val_accuracy: 0.9535\n",
            "Epoch 95/150\n",
            "105/105 [==============================] - 44s 422ms/step - loss: 0.0991 - accuracy: 0.9627 - val_loss: 0.1405 - val_accuracy: 0.9535\n",
            "Epoch 96/150\n",
            "105/105 [==============================] - 43s 407ms/step - loss: 0.0939 - accuracy: 0.9660 - val_loss: 0.1424 - val_accuracy: 0.9523\n",
            "Epoch 97/150\n",
            "105/105 [==============================] - 44s 420ms/step - loss: 0.1018 - accuracy: 0.9618 - val_loss: 0.1413 - val_accuracy: 0.9511\n",
            "Epoch 98/150\n",
            "105/105 [==============================] - 43s 407ms/step - loss: 0.0893 - accuracy: 0.9687 - val_loss: 0.1418 - val_accuracy: 0.9523\n",
            "Epoch 99/150\n",
            "105/105 [==============================] - 43s 407ms/step - loss: 0.0985 - accuracy: 0.9621 - val_loss: 0.1420 - val_accuracy: 0.9523\n",
            "Epoch 100/150\n",
            "105/105 [==============================] - 44s 418ms/step - loss: 0.0961 - accuracy: 0.9645 - val_loss: 0.1415 - val_accuracy: 0.9535\n",
            "Epoch 101/150\n",
            "105/105 [==============================] - 44s 419ms/step - loss: 0.0955 - accuracy: 0.9624 - val_loss: 0.1430 - val_accuracy: 0.9535\n",
            "Epoch 102/150\n",
            "105/105 [==============================] - 43s 407ms/step - loss: 0.0936 - accuracy: 0.9675 - val_loss: 0.1404 - val_accuracy: 0.9511\n",
            "Epoch 103/150\n",
            "105/105 [==============================] - 43s 408ms/step - loss: 0.0930 - accuracy: 0.9651 - val_loss: 0.1443 - val_accuracy: 0.9523\n",
            "Epoch 104/150\n",
            "105/105 [==============================] - 43s 413ms/step - loss: 0.0923 - accuracy: 0.9678 - val_loss: 0.1430 - val_accuracy: 0.9511\n",
            "Epoch 105/150\n",
            "105/105 [==============================] - 43s 406ms/step - loss: 0.0937 - accuracy: 0.9657 - val_loss: 0.1397 - val_accuracy: 0.9535\n",
            "Epoch 106/150\n",
            "105/105 [==============================] - 42s 403ms/step - loss: 0.0934 - accuracy: 0.9669 - val_loss: 0.1406 - val_accuracy: 0.9535\n",
            "Epoch 107/150\n",
            "105/105 [==============================] - 44s 417ms/step - loss: 0.0944 - accuracy: 0.9651 - val_loss: 0.1380 - val_accuracy: 0.9558\n",
            "Epoch 108/150\n",
            "105/105 [==============================] - 49s 471ms/step - loss: 0.0961 - accuracy: 0.9651 - val_loss: 0.1384 - val_accuracy: 0.9558\n",
            "Epoch 109/150\n",
            "105/105 [==============================] - 42s 402ms/step - loss: 0.0891 - accuracy: 0.9707 - val_loss: 0.1402 - val_accuracy: 0.9547\n",
            "Epoch 110/150\n",
            "105/105 [==============================] - 44s 421ms/step - loss: 0.0916 - accuracy: 0.9681 - val_loss: 0.1392 - val_accuracy: 0.9547\n",
            "Epoch 111/150\n",
            "105/105 [==============================] - 45s 428ms/step - loss: 0.0954 - accuracy: 0.9657 - val_loss: 0.1426 - val_accuracy: 0.9547\n",
            "Epoch 112/150\n",
            "105/105 [==============================] - 43s 405ms/step - loss: 0.0904 - accuracy: 0.9707 - val_loss: 0.1415 - val_accuracy: 0.9535\n",
            "Epoch 113/150\n",
            "105/105 [==============================] - 42s 403ms/step - loss: 0.0840 - accuracy: 0.9672 - val_loss: 0.1411 - val_accuracy: 0.9558\n",
            "Epoch 114/150\n",
            "105/105 [==============================] - 44s 417ms/step - loss: 0.0878 - accuracy: 0.9701 - val_loss: 0.1418 - val_accuracy: 0.9535\n",
            "Epoch 115/150\n",
            "105/105 [==============================] - 43s 408ms/step - loss: 0.0906 - accuracy: 0.9675 - val_loss: 0.1410 - val_accuracy: 0.9547\n",
            "Epoch 116/150\n",
            "105/105 [==============================] - 43s 406ms/step - loss: 0.0902 - accuracy: 0.9704 - val_loss: 0.1417 - val_accuracy: 0.9535\n",
            "Epoch 117/150\n",
            "105/105 [==============================] - 43s 407ms/step - loss: 0.0884 - accuracy: 0.9672 - val_loss: 0.1420 - val_accuracy: 0.9523\n",
            "Epoch 118/150\n",
            "105/105 [==============================] - 44s 421ms/step - loss: 0.0935 - accuracy: 0.9654 - val_loss: 0.1429 - val_accuracy: 0.9523\n",
            "Epoch 119/150\n",
            "105/105 [==============================] - 43s 411ms/step - loss: 0.0876 - accuracy: 0.9672 - val_loss: 0.1444 - val_accuracy: 0.9487\n",
            "Epoch 120/150\n",
            "105/105 [==============================] - 43s 410ms/step - loss: 0.0872 - accuracy: 0.9675 - val_loss: 0.1441 - val_accuracy: 0.9511\n",
            "Epoch 121/150\n",
            "105/105 [==============================] - 43s 406ms/step - loss: 0.0876 - accuracy: 0.9681 - val_loss: 0.1437 - val_accuracy: 0.9499\n",
            "Epoch 122/150\n",
            "105/105 [==============================] - 43s 412ms/step - loss: 0.0887 - accuracy: 0.9690 - val_loss: 0.1428 - val_accuracy: 0.9535\n",
            "Epoch 123/150\n",
            "105/105 [==============================] - 42s 404ms/step - loss: 0.0845 - accuracy: 0.9734 - val_loss: 0.1444 - val_accuracy: 0.9547\n",
            "Epoch 124/150\n",
            "105/105 [==============================] - 42s 402ms/step - loss: 0.0886 - accuracy: 0.9669 - val_loss: 0.1418 - val_accuracy: 0.9547\n",
            "Epoch 125/150\n",
            "105/105 [==============================] - 42s 399ms/step - loss: 0.0855 - accuracy: 0.9696 - val_loss: 0.1409 - val_accuracy: 0.9523\n",
            "Epoch 126/150\n",
            "105/105 [==============================] - 43s 406ms/step - loss: 0.0838 - accuracy: 0.9690 - val_loss: 0.1416 - val_accuracy: 0.9535\n",
            "Epoch 127/150\n",
            "105/105 [==============================] - 44s 419ms/step - loss: 0.0878 - accuracy: 0.9690 - val_loss: 0.1404 - val_accuracy: 0.9547\n",
            "Epoch 128/150\n",
            "105/105 [==============================] - 43s 408ms/step - loss: 0.0836 - accuracy: 0.9716 - val_loss: 0.1403 - val_accuracy: 0.9535\n",
            "Epoch 129/150\n",
            "105/105 [==============================] - 42s 402ms/step - loss: 0.0827 - accuracy: 0.9687 - val_loss: 0.1412 - val_accuracy: 0.9547\n",
            "Epoch 130/150\n",
            "105/105 [==============================] - 42s 402ms/step - loss: 0.0859 - accuracy: 0.9690 - val_loss: 0.1436 - val_accuracy: 0.9547\n",
            "Epoch 131/150\n",
            "105/105 [==============================] - 42s 400ms/step - loss: 0.0866 - accuracy: 0.9687 - val_loss: 0.1430 - val_accuracy: 0.9511\n",
            "Epoch 132/150\n",
            "105/105 [==============================] - 43s 405ms/step - loss: 0.0820 - accuracy: 0.9716 - val_loss: 0.1402 - val_accuracy: 0.9547\n",
            "Epoch 133/150\n",
            "105/105 [==============================] - 43s 408ms/step - loss: 0.0851 - accuracy: 0.9699 - val_loss: 0.1446 - val_accuracy: 0.9547\n",
            "Epoch 134/150\n",
            "105/105 [==============================] - 42s 402ms/step - loss: 0.0869 - accuracy: 0.9710 - val_loss: 0.1424 - val_accuracy: 0.9535\n",
            "Epoch 135/150\n",
            "105/105 [==============================] - 43s 413ms/step - loss: 0.0821 - accuracy: 0.9681 - val_loss: 0.1431 - val_accuracy: 0.9535\n",
            "Epoch 136/150\n",
            "105/105 [==============================] - 42s 403ms/step - loss: 0.0857 - accuracy: 0.9654 - val_loss: 0.1429 - val_accuracy: 0.9535\n",
            "Epoch 137/150\n",
            "105/105 [==============================] - 43s 406ms/step - loss: 0.0879 - accuracy: 0.9719 - val_loss: 0.1418 - val_accuracy: 0.9535\n",
            "Epoch 138/150\n",
            "105/105 [==============================] - 43s 404ms/step - loss: 0.0849 - accuracy: 0.9681 - val_loss: 0.1427 - val_accuracy: 0.9535\n",
            "Epoch 139/150\n",
            "105/105 [==============================] - 43s 405ms/step - loss: 0.0800 - accuracy: 0.9728 - val_loss: 0.1469 - val_accuracy: 0.9535\n",
            "Epoch 140/150\n",
            "105/105 [==============================] - 45s 429ms/step - loss: 0.0849 - accuracy: 0.9690 - val_loss: 0.1439 - val_accuracy: 0.9535\n",
            "Epoch 141/150\n",
            "105/105 [==============================] - 42s 401ms/step - loss: 0.0824 - accuracy: 0.9696 - val_loss: 0.1435 - val_accuracy: 0.9547\n",
            "Epoch 142/150\n",
            "105/105 [==============================] - 43s 402ms/step - loss: 0.0787 - accuracy: 0.9716 - val_loss: 0.1449 - val_accuracy: 0.9523\n",
            "Epoch 143/150\n",
            "105/105 [==============================] - 43s 405ms/step - loss: 0.0831 - accuracy: 0.9707 - val_loss: 0.1487 - val_accuracy: 0.9511\n",
            "Epoch 144/150\n",
            "105/105 [==============================] - 44s 418ms/step - loss: 0.0777 - accuracy: 0.9725 - val_loss: 0.1427 - val_accuracy: 0.9511\n",
            "Epoch 145/150\n",
            "105/105 [==============================] - 42s 401ms/step - loss: 0.0872 - accuracy: 0.9675 - val_loss: 0.1464 - val_accuracy: 0.9523\n",
            "Epoch 146/150\n",
            "105/105 [==============================] - 43s 409ms/step - loss: 0.0823 - accuracy: 0.9719 - val_loss: 0.1475 - val_accuracy: 0.9523\n",
            "Epoch 147/150\n",
            "105/105 [==============================] - 42s 397ms/step - loss: 0.0800 - accuracy: 0.9731 - val_loss: 0.1461 - val_accuracy: 0.9523\n",
            "Epoch 148/150\n",
            "105/105 [==============================] - 42s 400ms/step - loss: 0.0762 - accuracy: 0.9728 - val_loss: 0.1453 - val_accuracy: 0.9535\n",
            "Epoch 149/150\n",
            "105/105 [==============================] - 44s 414ms/step - loss: 0.0788 - accuracy: 0.9749 - val_loss: 0.1458 - val_accuracy: 0.9570\n",
            "Epoch 150/150\n",
            "105/105 [==============================] - 49s 469ms/step - loss: 0.0791 - accuracy: 0.9707 - val_loss: 0.1435 - val_accuracy: 0.9570\n"
          ]
        }
      ]
    },
    {
      "cell_type": "code",
      "source": [
        "# Menggunakan model_resnet50ver2 untuk membuat prediksi pada data uji\n",
        "Y_pred = model_resnet50ver2.predict(X_test)\n",
        "# Mengambil indeks kelas dengan probabilitas tertinggi sebagai prediksi\n",
        "Y_pred_classes = np.argmax(Y_pred, axis=1)\n",
        "# Mengambil indeks kelas dengan probabilitas tertinggi sebagai label sebenarnya\n",
        "Y_true = np.argmax(Y_test, axis=1)\n",
        "\n",
        "# Membuat confusion matrix\n",
        "conf_matrix = confusion_matrix(Y_true, Y_pred_classes)\n",
        "\n",
        "# Menampilkan confusion matrix dalam bentuk visualisasi\n",
        "plt.figure(figsize=(8, 6))\n",
        "sns.heatmap(conf_matrix, annot=True, fmt=\"d\", cmap=\"Blues\", xticklabels=['Common_Rust', 'Healthy', 'Gray_Leaf_Spot', 'Blight'], yticklabels=['Common_Rust', 'Healthy', 'Gray_Leaf_Spot', 'Blight'])\n",
        "plt.xlabel('Predicted labels')\n",
        "plt.ylabel('True labels')\n",
        "plt.title('Confusion Matrix')\n",
        "plt.show()\n",
        "\n",
        "# Membuat classification report\n",
        "class_report = classification_report(Y_true, Y_pred_classes)\n",
        "\n",
        "# Menampilkan classification report\n",
        "print(\"\\nClassification Report:\")\n",
        "print(class_report)"
      ],
      "metadata": {
        "id": "W2svXyjyTjeo",
        "colab": {
          "base_uri": "https://localhost:8080/",
          "height": 807
        },
        "outputId": "226700b2-5e54-4dd4-c05e-9f8bae53cc57"
      },
      "execution_count": 17,
      "outputs": [
        {
          "output_type": "stream",
          "name": "stdout",
          "text": [
            "27/27 [==============================] - 3s 84ms/step\n"
          ]
        },
        {
          "output_type": "display_data",
          "data": {
            "text/plain": [
              "<Figure size 800x600 with 2 Axes>"
            ],
            "image/png": "[encoded data removed]"
          },
          "metadata": {}
        },
        {
          "output_type": "stream",
          "name": "stdout",
          "text": [
            "\n",
            "Classification Report:\n",
            "              precision    recall  f1-score   support\n",
            "\n",
            "           0       0.92      0.93      0.92       218\n",
            "           1       0.99      0.98      0.98       289\n",
            "           2       0.85      0.87      0.86       104\n",
            "           3       1.00      1.00      1.00       227\n",
            "\n",
            "    accuracy                           0.96       838\n",
            "   macro avg       0.94      0.94      0.94       838\n",
            "weighted avg       0.96      0.96      0.96       838\n",
            "\n"
          ]
        }
      ]
    },
    {
      "cell_type": "code",
      "source": [
        "model = models.resnet50()\n",
        "\n",
        "input = torch.randn(1, 3, 224, 224)\n",
        "\n",
        "flops, params = profile(model, inputs=(input, ))\n",
        "print(f\"Estimasi FLOPS: {flops}\")"
      ],
      "metadata": {
        "id": "s4STCCZCJjfO",
        "colab": {
          "base_uri": "https://localhost:8080/"
        },
        "outputId": "b1baca79-2e00-4f2f-9784-505c8bd59d41"
      },
      "execution_count": 18,
      "outputs": [
        {
          "output_type": "stream",
          "name": "stdout",
          "text": [
            "[INFO] Register count_convNd() for <class 'torch.nn.modules.conv.Conv2d'>.\n",
            "[INFO] Register count_normalization() for <class 'torch.nn.modules.batchnorm.BatchNorm2d'>.\n",
            "[INFO] Register zero_ops() for <class 'torch.nn.modules.activation.ReLU'>.\n",
            "[INFO] Register zero_ops() for <class 'torch.nn.modules.pooling.MaxPool2d'>.\n",
            "[INFO] Register zero_ops() for <class 'torch.nn.modules.container.Sequential'>.\n",
            "[INFO] Register count_adap_avgpool() for <class 'torch.nn.modules.pooling.AdaptiveAvgPool2d'>.\n",
            "[INFO] Register count_linear() for <class 'torch.nn.modules.linear.Linear'>.\n",
            "Estimasi FLOPS: 4133742592.0\n"
          ]
        }
      ]
    },
    {
      "cell_type": "code",
      "source": [
        "model_resnet50ver2.save('model_resnet50.h5')\n",
        "loaded_model = tf.keras.models.load_model('model_resnet50.h5')"
      ],
      "metadata": {
        "id": "yzSPHUsn5Wan",
        "colab": {
          "base_uri": "https://localhost:8080/"
        },
        "outputId": "be75fcf7-35d4-4098-a5a6-8a59ed0d4c50"
      },
      "execution_count": 19,
      "outputs": [
        {
          "output_type": "stream",
          "name": "stderr",
          "text": [
            "/usr/local/lib/python3.10/dist-packages/keras/src/engine/training.py:3103: UserWarning: You are saving your model as an HDF5 file via `model.save()`. This file format is considered legacy. We recommend using instead the native Keras format, e.g. `model.save('my_model.keras')`.\n",
            "  saving_api.save_model(\n"
          ]
        }
      ]
    }
  ]
}