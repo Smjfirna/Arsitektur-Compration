{
  "nbformat": 4,
  "nbformat_minor": 0,
  "metadata": {
    "colab": {
      "provenance": [],
      "gpuType": "T4",
      "authorship_tag": "ABX9TyOGhvVtLv8BxRGwohdqXPxa",
      "include_colab_link": true
    },
    "kernelspec": {
      "name": "python3",
      "display_name": "Python 3"
    },
    "language_info": {
      "name": "python"
    },
    "accelerator": "GPU"
  },
  "cells": [
    {
      "cell_type": "markdown",
      "metadata": {
        "id": "view-in-github",
        "colab_type": "text"
      },
      "source": [
        "<a href=\"https://colab.research.google.com/github/Smjfirna/Arsitektur-Compration/blob/main/VGG16/50%2Baug.ipynb\" target=\"_parent\"><img src=\"https://colab.research.google.com/assets/colab-badge.svg\" alt=\"Open In Colab\"/></a>"
      ]
    },
    {
      "cell_type": "code",
      "source": [
        "import os\n",
        "import cv2\n",
        "import numpy as np\n",
        "from tqdm import tqdm\n",
        "from sklearn.model_selection import train_test_split\n",
        "from sklearn.preprocessing import LabelEncoder\n",
        "from keras.utils import to_categorical\n",
        "\n",
        "import tensorflow as tf\n",
        "from tensorflow.keras.preprocessing.image import ImageDataGenerator\n",
        "from tensorflow.keras.models import Sequential\n",
        "from tensorflow.keras import layers, Model, regularizers\n",
        "from tensorflow.keras.callbacks import EarlyStopping\n",
        "from tensorflow.keras.layers import Conv2D, MaxPooling2D, Flatten, Dense, GlobalAveragePooling2D, Dropout\n",
        "import os\n",
        "from tensorflow.keras.optimizers import Adam\n",
        "from tensorflow.keras.optimizers import RMSprop\n",
        "\n",
        "from keras.applications import ResNet50\n",
        "from tensorflow.keras.applications import VGG16"
      ],
      "metadata": {
        "id": "NMN3beIVALVJ"
      },
      "execution_count": 1,
      "outputs": []
    },
    {
      "cell_type": "code",
      "execution_count": 2,
      "metadata": {
        "colab": {
          "base_uri": "https://localhost:8080/",
          "height": 90
        },
        "id": "GK3MPeDN_Ofu",
        "outputId": "a6654765-7af3-439e-e05c-f7f4be3ef631"
      },
      "outputs": [
        {
          "output_type": "display_data",
          "data": {
            "text/plain": [
              "<IPython.core.display.HTML object>"
            ],
            "text/html": [
              "\n",
              "     <input type=\"file\" id=\"files-486fd571-2a55-4563-8743-bc99d5328b50\" name=\"files[]\" multiple disabled\n",
              "        style=\"border:none\" />\n",
              "     <output id=\"result-486fd571-2a55-4563-8743-bc99d5328b50\">\n",
              "      Upload widget is only available when the cell has been executed in the\n",
              "      current browser session. Please rerun this cell to enable.\n",
              "      </output>\n",
              "      <script>// Copyright 2017 Google LLC\n",
              "//\n",
              "// Licensed under the Apache License, Version 2.0 (the \"License\");\n",
              "// you may not use this file except in compliance with the License.\n",
              "// You may obtain a copy of the License at\n",
              "//\n",
              "//      http://www.apache.org/licenses/LICENSE-2.0\n",
              "//\n",
              "// Unless required by applicable law or agreed to in writing, software\n",
              "// distributed under the License is distributed on an \"AS IS\" BASIS,\n",
              "// WITHOUT WARRANTIES OR CONDITIONS OF ANY KIND, either express or implied.\n",
              "// See the License for the specific language governing permissions and\n",
              "// limitations under the License.\n",
              "\n",
              "/**\n",
              " * @fileoverview Helpers for google.colab Python module.\n",
              " */\n",
              "(function(scope) {\n",
              "function span(text, styleAttributes = {}) {\n",
              "  const element = document.createElement('span');\n",
              "  element.textContent = text;\n",
              "  for (const key of Object.keys(styleAttributes)) {\n",
              "    element.style[key] = styleAttributes[key];\n",
              "  }\n",
              "  return element;\n",
              "}\n",
              "\n",
              "// Max number of bytes which will be uploaded at a time.\n",
              "const MAX_PAYLOAD_SIZE = 100 * 1024;\n",
              "\n",
              "function _uploadFiles(inputId, outputId) {\n",
              "  const steps = uploadFilesStep(inputId, outputId);\n",
              "  const outputElement = document.getElementById(outputId);\n",
              "  // Cache steps on the outputElement to make it available for the next call\n",
              "  // to uploadFilesContinue from Python.\n",
              "  outputElement.steps = steps;\n",
              "\n",
              "  return _uploadFilesContinue(outputId);\n",
              "}\n",
              "\n",
              "// This is roughly an async generator (not supported in the browser yet),\n",
              "// where there are multiple asynchronous steps and the Python side is going\n",
              "// to poll for completion of each step.\n",
              "// This uses a Promise to block the python side on completion of each step,\n",
              "// then passes the result of the previous step as the input to the next step.\n",
              "function _uploadFilesContinue(outputId) {\n",
              "  const outputElement = document.getElementById(outputId);\n",
              "  const steps = outputElement.steps;\n",
              "\n",
              "  const next = steps.next(outputElement.lastPromiseValue);\n",
              "  return Promise.resolve(next.value.promise).then((value) => {\n",
              "    // Cache the last promise value to make it available to the next\n",
              "    // step of the generator.\n",
              "    outputElement.lastPromiseValue = value;\n",
              "    return next.value.response;\n",
              "  });\n",
              "}\n",
              "\n",
              "/**\n",
              " * Generator function which is called between each async step of the upload\n",
              " * process.\n",
              " * @param {string} inputId Element ID of the input file picker element.\n",
              " * @param {string} outputId Element ID of the output display.\n",
              " * @return {!Iterable<!Object>} Iterable of next steps.\n",
              " */\n",
              "function* uploadFilesStep(inputId, outputId) {\n",
              "  const inputElement = document.getElementById(inputId);\n",
              "  inputElement.disabled = false;\n",
              "\n",
              "  const outputElement = document.getElementById(outputId);\n",
              "  outputElement.innerHTML = '';\n",
              "\n",
              "  const pickedPromise = new Promise((resolve) => {\n",
              "    inputElement.addEventListener('change', (e) => {\n",
              "      resolve(e.target.files);\n",
              "    });\n",
              "  });\n",
              "\n",
              "  const cancel = document.createElement('button');\n",
              "  inputElement.parentElement.appendChild(cancel);\n",
              "  cancel.textContent = 'Cancel upload';\n",
              "  const cancelPromise = new Promise((resolve) => {\n",
              "    cancel.onclick = () => {\n",
              "      resolve(null);\n",
              "    };\n",
              "  });\n",
              "\n",
              "  // Wait for the user to pick the files.\n",
              "  const files = yield {\n",
              "    promise: Promise.race([pickedPromise, cancelPromise]),\n",
              "    response: {\n",
              "      action: 'starting',\n",
              "    }\n",
              "  };\n",
              "\n",
              "  cancel.remove();\n",
              "\n",
              "  // Disable the input element since further picks are not allowed.\n",
              "  inputElement.disabled = true;\n",
              "\n",
              "  if (!files) {\n",
              "    return {\n",
              "      response: {\n",
              "        action: 'complete',\n",
              "      }\n",
              "    };\n",
              "  }\n",
              "\n",
              "  for (const file of files) {\n",
              "    const li = document.createElement('li');\n",
              "    li.append(span(file.name, {fontWeight: 'bold'}));\n",
              "    li.append(span(\n",
              "        `(${file.type || 'n/a'}) - ${file.size} bytes, ` +\n",
              "        `last modified: ${\n",
              "            file.lastModifiedDate ? file.lastModifiedDate.toLocaleDateString() :\n",
              "                                    'n/a'} - `));\n",
              "    const percent = span('0% done');\n",
              "    li.appendChild(percent);\n",
              "\n",
              "    outputElement.appendChild(li);\n",
              "\n",
              "    const fileDataPromise = new Promise((resolve) => {\n",
              "      const reader = new FileReader();\n",
              "      reader.onload = (e) => {\n",
              "        resolve(e.target.result);\n",
              "      };\n",
              "      reader.readAsArrayBuffer(file);\n",
              "    });\n",
              "    // Wait for the data to be ready.\n",
              "    let fileData = yield {\n",
              "      promise: fileDataPromise,\n",
              "      response: {\n",
              "        action: 'continue',\n",
              "      }\n",
              "    };\n",
              "\n",
              "    // Use a chunked sending to avoid message size limits. See b/62115660.\n",
              "    let position = 0;\n",
              "    do {\n",
              "      const length = Math.min(fileData.byteLength - position, MAX_PAYLOAD_SIZE);\n",
              "      const chunk = new Uint8Array(fileData, position, length);\n",
              "      position += length;\n",
              "\n",
              "      const base64 = btoa(String.fromCharCode.apply(null, chunk));\n",
              "      yield {\n",
              "        response: {\n",
              "          action: 'append',\n",
              "          file: file.name,\n",
              "          data: base64,\n",
              "        },\n",
              "      };\n",
              "\n",
              "      let percentDone = fileData.byteLength === 0 ?\n",
              "          100 :\n",
              "          Math.round((position / fileData.byteLength) * 100);\n",
              "      percent.textContent = `${percentDone}% done`;\n",
              "\n",
              "    } while (position < fileData.byteLength);\n",
              "  }\n",
              "\n",
              "  // All done.\n",
              "  yield {\n",
              "    response: {\n",
              "      action: 'complete',\n",
              "    }\n",
              "  };\n",
              "}\n",
              "\n",
              "scope.google = scope.google || {};\n",
              "scope.google.colab = scope.google.colab || {};\n",
              "scope.google.colab._files = {\n",
              "  _uploadFiles,\n",
              "  _uploadFilesContinue,\n",
              "};\n",
              "})(self);\n",
              "</script> "
            ]
          },
          "metadata": {}
        },
        {
          "output_type": "stream",
          "name": "stdout",
          "text": [
            "Saving kaggle.json to kaggle.json\n"
          ]
        },
        {
          "output_type": "execute_result",
          "data": {
            "text/plain": [
              "{'kaggle.json': b'{\"username\":\"smjayyy\",\"key\":\"8eb172e224d83c7b56b4a2ef349b7c0d\"}'}"
            ]
          },
          "metadata": {},
          "execution_count": 2
        }
      ],
      "source": [
        "from google.colab import files\n",
        "files.upload()"
      ]
    },
    {
      "cell_type": "code",
      "source": [
        "!mkdir -p ~/.kaggle\n",
        "!cp kaggle.json ~/.kaggle/\n",
        "!chmod 600 ~/.kaggle/kaggle.json"
      ],
      "metadata": {
        "id": "Y9Kia11G_5Si"
      },
      "execution_count": 3,
      "outputs": []
    },
    {
      "cell_type": "code",
      "source": [
        "##link dataset in Kaggle.com\n",
        "!kaggle datasets download -d smaranjitghose/corn-or-maize-leaf-disease-dataset"
      ],
      "metadata": {
        "colab": {
          "base_uri": "https://localhost:8080/"
        },
        "id": "apfKVlxj_8FJ",
        "outputId": "378ca511-a76f-443e-8c7b-15fbe073ded4"
      },
      "execution_count": 4,
      "outputs": [
        {
          "output_type": "stream",
          "name": "stdout",
          "text": [
            "Downloading corn-or-maize-leaf-disease-dataset.zip to /content\n",
            " 92% 148M/161M [00:01<00:00, 127MB/s]\n",
            "100% 161M/161M [00:01<00:00, 130MB/s]\n"
          ]
        }
      ]
    },
    {
      "cell_type": "code",
      "source": [
        "!unzip -q corn-or-maize-leaf-disease-dataset.zip -d /content"
      ],
      "metadata": {
        "id": "ixMUoB2rAAd3"
      },
      "execution_count": 5,
      "outputs": []
    },
    {
      "cell_type": "code",
      "source": [
        "dataset_dir = '/content/data'"
      ],
      "metadata": {
        "id": "pZ8IerIQAGFO"
      },
      "execution_count": 6,
      "outputs": []
    },
    {
      "cell_type": "code",
      "source": [
        "print(os.listdir(dataset_dir))"
      ],
      "metadata": {
        "colab": {
          "base_uri": "https://localhost:8080/"
        },
        "id": "9wwka8QaAIcj",
        "outputId": "f1ba852e-e0aa-4861-895a-1d0fe7b4e41a"
      },
      "execution_count": 7,
      "outputs": [
        {
          "output_type": "stream",
          "name": "stdout",
          "text": [
            "['Blight', 'Gray_Leaf_Spot', 'Common_Rust', 'Healthy']\n"
          ]
        }
      ]
    },
    {
      "cell_type": "code",
      "source": [
        "IMAGE_SIZE_vgg16 = 224"
      ],
      "metadata": {
        "id": "_UCEuA-hAPSa"
      },
      "execution_count": 8,
      "outputs": []
    },
    {
      "cell_type": "code",
      "source": [
        "def make_data(label, DIR, img_list, label_list):\n",
        "    for img in tqdm(os.listdir(DIR)):\n",
        "        path = os.path.join(DIR, img)\n",
        "        img = cv2.imread(path, cv2.IMREAD_COLOR)\n",
        "        img = cv2.resize(img, (IMAGE_SIZE_vgg16, IMAGE_SIZE_vgg16))\n",
        "        img_list.append(np.array(img))\n",
        "        label_list.append(str(label))"
      ],
      "metadata": {
        "id": "B3menIgvARk5"
      },
      "execution_count": 9,
      "outputs": []
    },
    {
      "cell_type": "code",
      "source": [
        "X = []\n",
        "Z = []"
      ],
      "metadata": {
        "id": "Jn6gWefxATyU"
      },
      "execution_count": 10,
      "outputs": []
    },
    {
      "cell_type": "code",
      "source": [
        "for i, class_name in enumerate(['Common_Rust', 'Healthy', 'Gray_Leaf_Spot', 'Blight']):\n",
        "    class_dir = os.path.join(dataset_dir, class_name)\n",
        "    make_data(class_name, class_dir, X, Z)"
      ],
      "metadata": {
        "colab": {
          "base_uri": "https://localhost:8080/"
        },
        "id": "S9-RQTGJAWCk",
        "outputId": "155553e2-be4f-4fed-fd0f-a1a67f1c9277"
      },
      "execution_count": 11,
      "outputs": [
        {
          "output_type": "stream",
          "name": "stderr",
          "text": [
            "100%|██████████| 1306/1306 [00:05<00:00, 248.86it/s]\n",
            "100%|██████████| 1162/1162 [00:01<00:00, 921.03it/s]\n",
            "100%|██████████| 574/574 [00:01<00:00, 365.41it/s]\n",
            "100%|██████████| 1146/1146 [00:05<00:00, 219.23it/s]\n"
          ]
        }
      ]
    },
    {
      "cell_type": "code",
      "source": [
        "import matplotlib.pyplot as plt\n",
        "\n",
        "# Menghitung jumlah data untuk setiap kelas\n",
        "class_counts = {class_name: Z.count(class_name) for class_name in set(Z)}\n",
        "\n",
        "# Menampilkan visualisasi jumlah data\n",
        "plt.figure(figsize=(8, 6))\n",
        "plt.bar(class_counts.keys(), class_counts.values())\n",
        "plt.xlabel('Class')\n",
        "plt.ylabel('Count')\n",
        "plt.title('Number of Data Samples for Each Class')\n",
        "plt.show()"
      ],
      "metadata": {
        "colab": {
          "base_uri": "https://localhost:8080/",
          "height": 564
        },
        "id": "-IcXHIM8Akcw",
        "outputId": "82819fe8-adc9-430a-98ef-b902106cb901"
      },
      "execution_count": 12,
      "outputs": [
        {
          "output_type": "display_data",
          "data": {
            "text/plain": [
              "<Figure size 800x600 with 1 Axes>"
            ],
            "image/png": "[encoded data removed]"
          },
          "metadata": {}
        }
      ]
    },
    {
      "cell_type": "code",
      "source": [
        "le = LabelEncoder()\n",
        "Y = le.fit_transform(Z)\n",
        "Y = to_categorical(Y, num_classes=len(le.classes_))\n",
        "\n",
        "# Konversi ke array numpy\n",
        "X = np.array(X)\n",
        "\n",
        "# Memisahkan data menjadi data latih dan data uji\n",
        "X_train, X_test, Y_train, Y_test = train_test_split(X, Y, test_size=0.2, random_state=42)\n",
        "\n",
        "print(\"Jumlah Data Train adalah :\", len(X_train))\n",
        "print(\"Jumlah Data Test adalah :\", len(X_test))"
      ],
      "metadata": {
        "colab": {
          "base_uri": "https://localhost:8080/"
        },
        "id": "OI7kvVbXAqko",
        "outputId": "6e839f98-3d29-4ad0-e531-eab74450041b"
      },
      "execution_count": 13,
      "outputs": [
        {
          "output_type": "stream",
          "name": "stdout",
          "text": [
            "Jumlah Data Train adalah : 3350\n",
            "Jumlah Data Test adalah : 838\n"
          ]
        }
      ]
    },
    {
      "cell_type": "code",
      "source": [
        "datagen = ImageDataGenerator(\n",
        "    rotation_range=20,  # Rotasi gambar hingga 40 derajat\n",
        "    zoom_range=0.2,  # Zoom-in/Zoom-out gambar\n",
        "    horizontal_flip=True,  # Flipping horizontal gambar\n",
        "    vertical_flip=True\n",
        ")\n",
        "\n",
        "datagen.fit(X_train)"
      ],
      "metadata": {
        "id": "ue5XLCIlA2ld"
      },
      "execution_count": 14,
      "outputs": []
    },
    {
      "cell_type": "code",
      "source": [
        "vgg16 = VGG16(weights='imagenet', include_top=False, input_shape=(IMAGE_SIZE_vgg16, IMAGE_SIZE_vgg16, 3))\n",
        "\n",
        "# Membuat model Sequential\n",
        "model_vgg16 = Sequential()\n",
        "model_vgg16.add(vgg16)\n",
        "model_vgg16.add(GlobalAveragePooling2D())\n",
        "model_vgg16.add(Dense(4, activation='softmax'))\n",
        "\n",
        "# Membekukan layer-layer ResNet50 yang telah dilatih\n",
        "for layer in vgg16.layers:\n",
        "    layer.trainable = False\n",
        "\n",
        "model_vgg16.compile(optimizer=Adam(learning_rate=0.001), loss='categorical_crossentropy', metrics=['accuracy'])\n",
        "\n",
        "# Menampilkan summary dari model\n",
        "model_vgg16.summary()\n",
        "\n",
        "# Melatih model dengan data latih dan validasi\n",
        "history_resnet50ver2 = model_vgg16.fit(datagen.flow(X_train, Y_train), epochs=50, validation_data=(X_test, Y_test))"
      ],
      "metadata": {
        "id": "qg6h8yY_A62R",
        "colab": {
          "base_uri": "https://localhost:8080/"
        },
        "outputId": "41ffd9ef-7203-4461-e9b5-071ae4037003"
      },
      "execution_count": 18,
      "outputs": [
        {
          "output_type": "stream",
          "name": "stdout",
          "text": [
            "Model: \"sequential_2\"\n",
            "_________________________________________________________________\n",
            " Layer (type)                Output Shape              Param #   \n",
            "=================================================================\n",
            " vgg16 (Functional)          (None, 7, 7, 512)         14714688  \n",
            "                                                                 \n",
            " global_average_pooling2d_2  (None, 512)               0         \n",
            "  (GlobalAveragePooling2D)                                       \n",
            "                                                                 \n",
            " dense_2 (Dense)             (None, 4)                 2052      \n",
            "                                                                 \n",
            "=================================================================\n",
            "Total params: 14716740 (56.14 MB)\n",
            "Trainable params: 2052 (8.02 KB)\n",
            "Non-trainable params: 14714688 (56.13 MB)\n",
            "_________________________________________________________________\n",
            "Epoch 1/50\n",
            "105/105 [==============================] - 44s 406ms/step - loss: 0.9863 - accuracy: 0.7322 - val_loss: 0.6077 - val_accuracy: 0.8425\n",
            "Epoch 2/50\n",
            "105/105 [==============================] - 42s 404ms/step - loss: 0.4693 - accuracy: 0.8579 - val_loss: 0.5109 - val_accuracy: 0.8663\n",
            "Epoch 3/50\n",
            "105/105 [==============================] - 43s 411ms/step - loss: 0.3518 - accuracy: 0.8899 - val_loss: 0.3881 - val_accuracy: 0.8854\n",
            "Epoch 4/50\n",
            "105/105 [==============================] - 43s 410ms/step - loss: 0.3161 - accuracy: 0.8875 - val_loss: 0.3228 - val_accuracy: 0.8938\n",
            "Epoch 5/50\n",
            "105/105 [==============================] - 44s 418ms/step - loss: 0.2976 - accuracy: 0.9000 - val_loss: 0.3342 - val_accuracy: 0.8938\n",
            "Epoch 6/50\n",
            "105/105 [==============================] - 42s 398ms/step - loss: 0.2857 - accuracy: 0.9006 - val_loss: 0.3605 - val_accuracy: 0.8902\n",
            "Epoch 7/50\n",
            "105/105 [==============================] - 42s 399ms/step - loss: 0.2548 - accuracy: 0.9158 - val_loss: 0.2770 - val_accuracy: 0.9212\n",
            "Epoch 8/50\n",
            "105/105 [==============================] - 44s 417ms/step - loss: 0.2330 - accuracy: 0.9188 - val_loss: 0.3025 - val_accuracy: 0.9010\n",
            "Epoch 9/50\n",
            "105/105 [==============================] - 42s 402ms/step - loss: 0.2274 - accuracy: 0.9152 - val_loss: 0.2611 - val_accuracy: 0.9200\n",
            "Epoch 10/50\n",
            "105/105 [==============================] - 42s 400ms/step - loss: 0.2162 - accuracy: 0.9224 - val_loss: 0.2437 - val_accuracy: 0.9153\n",
            "Epoch 11/50\n",
            "105/105 [==============================] - 44s 414ms/step - loss: 0.2183 - accuracy: 0.9206 - val_loss: 0.2521 - val_accuracy: 0.9248\n",
            "Epoch 12/50\n",
            "105/105 [==============================] - 44s 416ms/step - loss: 0.2104 - accuracy: 0.9194 - val_loss: 0.2463 - val_accuracy: 0.9189\n",
            "Epoch 13/50\n",
            "105/105 [==============================] - 42s 395ms/step - loss: 0.1909 - accuracy: 0.9296 - val_loss: 0.2349 - val_accuracy: 0.9236\n",
            "Epoch 14/50\n",
            "105/105 [==============================] - 44s 422ms/step - loss: 0.2159 - accuracy: 0.9146 - val_loss: 0.2425 - val_accuracy: 0.9224\n",
            "Epoch 15/50\n",
            "105/105 [==============================] - 44s 424ms/step - loss: 0.1773 - accuracy: 0.9293 - val_loss: 0.2324 - val_accuracy: 0.9177\n",
            "Epoch 16/50\n",
            "105/105 [==============================] - 44s 416ms/step - loss: 0.1760 - accuracy: 0.9343 - val_loss: 0.2424 - val_accuracy: 0.9260\n",
            "Epoch 17/50\n",
            "105/105 [==============================] - 43s 407ms/step - loss: 0.1765 - accuracy: 0.9352 - val_loss: 0.2483 - val_accuracy: 0.9260\n",
            "Epoch 18/50\n",
            "105/105 [==============================] - 43s 410ms/step - loss: 0.1848 - accuracy: 0.9275 - val_loss: 0.2410 - val_accuracy: 0.9272\n",
            "Epoch 19/50\n",
            "105/105 [==============================] - 43s 412ms/step - loss: 0.1763 - accuracy: 0.9358 - val_loss: 0.2384 - val_accuracy: 0.9200\n",
            "Epoch 20/50\n",
            "105/105 [==============================] - 45s 425ms/step - loss: 0.1563 - accuracy: 0.9370 - val_loss: 0.2562 - val_accuracy: 0.9212\n",
            "Epoch 21/50\n",
            "105/105 [==============================] - 42s 402ms/step - loss: 0.1811 - accuracy: 0.9301 - val_loss: 0.3433 - val_accuracy: 0.9045\n",
            "Epoch 22/50\n",
            "105/105 [==============================] - 42s 399ms/step - loss: 0.1785 - accuracy: 0.9316 - val_loss: 0.2784 - val_accuracy: 0.9021\n",
            "Epoch 23/50\n",
            "105/105 [==============================] - 42s 402ms/step - loss: 0.1731 - accuracy: 0.9346 - val_loss: 0.2707 - val_accuracy: 0.9153\n",
            "Epoch 24/50\n",
            "105/105 [==============================] - 43s 413ms/step - loss: 0.1605 - accuracy: 0.9322 - val_loss: 0.2804 - val_accuracy: 0.9129\n",
            "Epoch 25/50\n",
            "105/105 [==============================] - 43s 413ms/step - loss: 0.1740 - accuracy: 0.9307 - val_loss: 0.2586 - val_accuracy: 0.9284\n",
            "Epoch 26/50\n",
            "105/105 [==============================] - 43s 414ms/step - loss: 0.1603 - accuracy: 0.9394 - val_loss: 0.2469 - val_accuracy: 0.9260\n",
            "Epoch 27/50\n",
            "105/105 [==============================] - 43s 406ms/step - loss: 0.1630 - accuracy: 0.9361 - val_loss: 0.2660 - val_accuracy: 0.9129\n",
            "Epoch 28/50\n",
            "105/105 [==============================] - 42s 403ms/step - loss: 0.1699 - accuracy: 0.9334 - val_loss: 0.2333 - val_accuracy: 0.9212\n",
            "Epoch 29/50\n",
            "105/105 [==============================] - 44s 422ms/step - loss: 0.1623 - accuracy: 0.9385 - val_loss: 0.2330 - val_accuracy: 0.9200\n",
            "Epoch 30/50\n",
            "105/105 [==============================] - 44s 414ms/step - loss: 0.1783 - accuracy: 0.9319 - val_loss: 0.2609 - val_accuracy: 0.9236\n",
            "Epoch 31/50\n",
            "105/105 [==============================] - 42s 398ms/step - loss: 0.1587 - accuracy: 0.9373 - val_loss: 0.2285 - val_accuracy: 0.9224\n",
            "Epoch 32/50\n",
            "105/105 [==============================] - 42s 397ms/step - loss: 0.1646 - accuracy: 0.9346 - val_loss: 0.2593 - val_accuracy: 0.9224\n",
            "Epoch 33/50\n",
            "105/105 [==============================] - 43s 406ms/step - loss: 0.1634 - accuracy: 0.9352 - val_loss: 0.2528 - val_accuracy: 0.9165\n",
            "Epoch 34/50\n",
            "105/105 [==============================] - 42s 399ms/step - loss: 0.1675 - accuracy: 0.9340 - val_loss: 0.2697 - val_accuracy: 0.9129\n",
            "Epoch 35/50\n",
            "105/105 [==============================] - 42s 397ms/step - loss: 0.1623 - accuracy: 0.9370 - val_loss: 0.2292 - val_accuracy: 0.9272\n",
            "Epoch 36/50\n",
            "105/105 [==============================] - 42s 395ms/step - loss: 0.1753 - accuracy: 0.9355 - val_loss: 0.2562 - val_accuracy: 0.9177\n",
            "Epoch 37/50\n",
            "105/105 [==============================] - 44s 423ms/step - loss: 0.1612 - accuracy: 0.9418 - val_loss: 0.2775 - val_accuracy: 0.9200\n",
            "Epoch 38/50\n",
            "105/105 [==============================] - 42s 395ms/step - loss: 0.1554 - accuracy: 0.9409 - val_loss: 0.2630 - val_accuracy: 0.9177\n",
            "Epoch 39/50\n",
            "105/105 [==============================] - 43s 413ms/step - loss: 0.1514 - accuracy: 0.9442 - val_loss: 0.2436 - val_accuracy: 0.9272\n",
            "Epoch 40/50\n",
            "105/105 [==============================] - 42s 396ms/step - loss: 0.1516 - accuracy: 0.9355 - val_loss: 0.2748 - val_accuracy: 0.9272\n",
            "Epoch 41/50\n",
            "105/105 [==============================] - 42s 400ms/step - loss: 0.1654 - accuracy: 0.9340 - val_loss: 0.2719 - val_accuracy: 0.9224\n",
            "Epoch 42/50\n",
            "105/105 [==============================] - 44s 423ms/step - loss: 0.1640 - accuracy: 0.9379 - val_loss: 0.2320 - val_accuracy: 0.9236\n",
            "Epoch 43/50\n",
            "105/105 [==============================] - 42s 401ms/step - loss: 0.1519 - accuracy: 0.9421 - val_loss: 0.2378 - val_accuracy: 0.9129\n",
            "Epoch 44/50\n",
            "105/105 [==============================] - 43s 402ms/step - loss: 0.1434 - accuracy: 0.9421 - val_loss: 0.2621 - val_accuracy: 0.9093\n",
            "Epoch 45/50\n",
            "105/105 [==============================] - 45s 423ms/step - loss: 0.1607 - accuracy: 0.9409 - val_loss: 0.2537 - val_accuracy: 0.9117\n",
            "Epoch 46/50\n",
            "105/105 [==============================] - 42s 401ms/step - loss: 0.1614 - accuracy: 0.9343 - val_loss: 0.2460 - val_accuracy: 0.9236\n",
            "Epoch 47/50\n",
            "105/105 [==============================] - 43s 405ms/step - loss: 0.1571 - accuracy: 0.9391 - val_loss: 0.2342 - val_accuracy: 0.9236\n",
            "Epoch 48/50\n",
            "105/105 [==============================] - 44s 421ms/step - loss: 0.1555 - accuracy: 0.9400 - val_loss: 0.2458 - val_accuracy: 0.9296\n",
            "Epoch 49/50\n",
            "105/105 [==============================] - 44s 419ms/step - loss: 0.1657 - accuracy: 0.9367 - val_loss: 0.2353 - val_accuracy: 0.9284\n",
            "Epoch 50/50\n",
            "105/105 [==============================] - 42s 400ms/step - loss: 0.1564 - accuracy: 0.9415 - val_loss: 0.2350 - val_accuracy: 0.9308\n"
          ]
        }
      ]
    },
    {
      "cell_type": "code",
      "source": [
        "from sklearn.metrics import confusion_matrix, classification_report\n",
        "import numpy as np\n",
        "import matplotlib.pyplot as plt\n",
        "import seaborn as sns\n",
        "\n",
        "Y_pred = model_vgg16.predict(X_test)\n",
        "Y_pred_classes = np.argmax(Y_pred, axis=1)\n",
        "Y_true = np.argmax(Y_test, axis=1)\n",
        "\n",
        "conf_matrix = confusion_matrix(Y_true, Y_pred_classes)\n",
        "\n",
        "plt.figure(figsize=(8, 6))\n",
        "sns.heatmap(conf_matrix, annot=True, fmt=\"d\", cmap=\"Blues\", xticklabels=['Common_Rust', 'Healthy', 'Gray_Leaf_Spot', 'Blight'], yticklabels=['Common_Rust', 'Healthy', 'Gray_Leaf_Spot', 'Blight'])\n",
        "plt.xlabel('Predicted labels')\n",
        "plt.ylabel('True labels')\n",
        "plt.title('Confusion Matrix')\n",
        "plt.show()\n",
        "\n",
        "class_report = classification_report(Y_true, Y_pred_classes)\n",
        "\n",
        "print(\"\\nClassification Report:\")\n",
        "print(class_report)"
      ],
      "metadata": {
        "id": "W2svXyjyTjeo",
        "colab": {
          "base_uri": "https://localhost:8080/",
          "height": 807
        },
        "outputId": "c81de097-92f5-4479-ab2c-240f5b6cff93"
      },
      "execution_count": 19,
      "outputs": [
        {
          "output_type": "stream",
          "name": "stdout",
          "text": [
            "27/27 [==============================] - 3s 124ms/step\n"
          ]
        },
        {
          "output_type": "display_data",
          "data": {
            "text/plain": [
              "<Figure size 800x600 with 2 Axes>"
            ],
            "image/png": "[encoded data removed]"
          },
          "metadata": {}
        },
        {
          "output_type": "stream",
          "name": "stdout",
          "text": [
            "\n",
            "Classification Report:\n",
            "              precision    recall  f1-score   support\n",
            "\n",
            "           0       0.85      0.94      0.89       218\n",
            "           1       0.97      0.98      0.97       289\n",
            "           2       0.86      0.68      0.76       104\n",
            "           3       0.99      0.98      0.99       227\n",
            "\n",
            "    accuracy                           0.93       838\n",
            "   macro avg       0.92      0.89      0.90       838\n",
            "weighted avg       0.93      0.93      0.93       838\n",
            "\n"
          ]
        }
      ]
    }
  ]
}