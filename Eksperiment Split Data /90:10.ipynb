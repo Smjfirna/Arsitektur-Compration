{
  "nbformat": 4,
  "nbformat_minor": 0,
  "metadata": {
    "colab": {
      "provenance": [],
      "gpuType": "T4",
      "include_colab_link": true
    },
    "kernelspec": {
      "name": "python3",
      "display_name": "Python 3"
    },
    "language_info": {
      "name": "python"
    },
    "accelerator": "GPU"
  },
  "cells": [
    {
      "cell_type": "markdown",
      "metadata": {
        "id": "view-in-github",
        "colab_type": "text"
      },
      "source": [
        "<a href=\"https://colab.research.google.com/github/Smjfirna/Arsitektur-Compration/blob/main/Eksperiment%20Split%20Data%20/90%3A10.ipynb\" target=\"_parent\"><img src=\"https://colab.research.google.com/assets/colab-badge.svg\" alt=\"Open In Colab\"/></a>"
      ]
    },
    {
      "cell_type": "code",
      "source": [
        "import os\n",
        "import cv2\n",
        "import numpy as np\n",
        "from tqdm import tqdm\n",
        "from sklearn.model_selection import train_test_split\n",
        "from sklearn.preprocessing import LabelEncoder\n",
        "from keras.utils import to_categorical\n",
        "\n",
        "import tensorflow as tf\n",
        "from tensorflow.keras.preprocessing.image import ImageDataGenerator\n",
        "from tensorflow.keras.models import Sequential\n",
        "from tensorflow.keras import layers, Model, regularizers\n",
        "from tensorflow.keras.callbacks import EarlyStopping\n",
        "from tensorflow.keras.layers import Conv2D, MaxPooling2D, Flatten, Dense, GlobalAveragePooling2D, Dropout\n",
        "import os\n",
        "from tensorflow.keras.optimizers import Adam\n",
        "from tensorflow.keras.optimizers import RMSprop\n",
        "\n",
        "from keras.applications import ResNet50"
      ],
      "metadata": {
        "id": "LaloGmhuhwP-"
      },
      "execution_count": 1,
      "outputs": []
    },
    {
      "cell_type": "code",
      "execution_count": 2,
      "metadata": {
        "colab": {
          "base_uri": "https://localhost:8080/"
        },
        "id": "d_i5Zy9kdLGU",
        "outputId": "73997e5e-6584-4f36-b4f6-af00a81b4951"
      },
      "outputs": [
        {
          "output_type": "stream",
          "name": "stdout",
          "text": [
            "Mounted at /content/drive\n"
          ]
        }
      ],
      "source": [
        "from google.colab import drive\n",
        "drive.mount('/content/drive')"
      ]
    },
    {
      "cell_type": "code",
      "source": [
        "dataset_dir = \"/content/drive/MyDrive/Skripsi/Data Sample 10\"\n",
        "\n",
        "print(os.listdir(dataset_dir))"
      ],
      "metadata": {
        "colab": {
          "base_uri": "https://localhost:8080/"
        },
        "id": "c60kX1_DjBPd",
        "outputId": "a2c88fd0-4f0e-4008-b182-e731141724bf"
      },
      "execution_count": 3,
      "outputs": [
        {
          "output_type": "stream",
          "name": "stdout",
          "text": [
            "['Healthy', 'Blight', 'Gray_Leaf_Spot', 'Common_Rust']\n"
          ]
        }
      ]
    },
    {
      "cell_type": "code",
      "source": [
        "size_resnet50 = 224"
      ],
      "metadata": {
        "id": "Mjg6pdK1DO1a"
      },
      "execution_count": 4,
      "outputs": []
    },
    {
      "cell_type": "code",
      "source": [
        "def make_data(label, DIR, img_list, label_list):\n",
        "    for img in tqdm(os.listdir(DIR)):\n",
        "        path = os.path.join(DIR, img)\n",
        "        img = cv2.imread(path, cv2.IMREAD_COLOR)\n",
        "        img = cv2.resize(img, (size_resnet50, size_resnet50))\n",
        "        img_list.append(np.array(img))\n",
        "        label_list.append(str(label))"
      ],
      "metadata": {
        "id": "XgNY4FGvD-BF"
      },
      "execution_count": 5,
      "outputs": []
    },
    {
      "cell_type": "code",
      "source": [
        "X = []\n",
        "Z = []"
      ],
      "metadata": {
        "id": "HPv9tP13DXm6"
      },
      "execution_count": 6,
      "outputs": []
    },
    {
      "cell_type": "code",
      "source": [
        "for i, class_name in enumerate(['Common_Rust', 'Healthy', 'Gray_Leaf_Spot', 'Blight']):\n",
        "    class_dir = os.path.join(dataset_dir, class_name)\n",
        "    make_data(class_name, class_dir, X, Z)"
      ],
      "metadata": {
        "colab": {
          "base_uri": "https://localhost:8080/"
        },
        "id": "L7CgU46UDc6d",
        "outputId": "665460ac-2a7c-4c52-f716-1b0b7eccca52"
      },
      "execution_count": 7,
      "outputs": [
        {
          "output_type": "stream",
          "name": "stderr",
          "text": [
            "100%|██████████| 130/130 [00:07<00:00, 17.37it/s]\n",
            "100%|██████████| 116/116 [00:03<00:00, 30.99it/s] \n",
            "100%|██████████| 57/57 [00:45<00:00,  1.27it/s]\n",
            "100%|██████████| 114/114 [00:14<00:00,  7.64it/s]\n"
          ]
        }
      ]
    },
    {
      "cell_type": "code",
      "source": [
        "import matplotlib.pyplot as plt\n",
        "\n",
        "# Menghitung jumlah data untuk setiap kelas\n",
        "class_counts = {class_name: Z.count(class_name) for class_name in set(Z)}\n",
        "\n",
        "# Menampilkan visualisasi jumlah data\n",
        "plt.figure(figsize=(4, 4))\n",
        "plt.bar(class_counts.keys(), class_counts.values())\n",
        "plt.xlabel('Class')\n",
        "plt.ylabel('Count')\n",
        "plt.title('Number of Data Samples for Each Class')\n",
        "plt.show()"
      ],
      "metadata": {
        "colab": {
          "base_uri": "https://localhost:8080/",
          "height": 410
        },
        "id": "jWbdII-8E9kW",
        "outputId": "936893c7-3ee9-44ca-ec52-ab75ebb6e9d4"
      },
      "execution_count": 8,
      "outputs": [
        {
          "output_type": "display_data",
          "data": {
            "text/plain": [
              "<Figure size 400x400 with 1 Axes>"
            ],
            "image/png": "[encoded data removed]"
          },
          "metadata": {}
        }
      ]
    },
    {
      "cell_type": "code",
      "source": [
        "le = LabelEncoder()\n",
        "Y = le.fit_transform(Z)\n",
        "Y = to_categorical(Y, num_classes=len(le.classes_))\n",
        "\n",
        "# Konversi ke array numpy\n",
        "X = np.array(X)\n",
        "\n",
        "# Memisahkan data menjadi data latih dan data uji\n",
        "X_train, X_test, Y_train, Y_test = train_test_split(X, Y, test_size=0.1, random_state=42)\n",
        "\n",
        "print(\"Jumlah Data Train adalah :\", len(X_train))\n",
        "print(\"Jumlah Data Test adalah :\", len(X_test))"
      ],
      "metadata": {
        "colab": {
          "base_uri": "https://localhost:8080/"
        },
        "id": "LFG1SJ3OFPWV",
        "outputId": "a4ca6865-6135-42ce-e9bd-19ffb6a09c95"
      },
      "execution_count": 13,
      "outputs": [
        {
          "output_type": "stream",
          "name": "stdout",
          "text": [
            "Jumlah Data Train adalah : 375\n",
            "Jumlah Data Test adalah : 42\n"
          ]
        }
      ]
    },
    {
      "cell_type": "code",
      "source": [
        "datagen = ImageDataGenerator(\n",
        "    rotation_range=20,\n",
        "    zoom_range=0.2,\n",
        "    horizontal_flip=True,\n",
        ")\n",
        "\n",
        "datagen.fit(X_train)"
      ],
      "metadata": {
        "id": "l_s_dW_k2OKD"
      },
      "execution_count": 14,
      "outputs": []
    },
    {
      "cell_type": "code",
      "source": [
        "resnet50 = ResNet50(include_top=False, weights='imagenet', input_shape=(size_resnet50, size_resnet50, 3))\n",
        "\n",
        "# Membuat model Sequential\n",
        "model_resnet50ver2 = Sequential()\n",
        "model_resnet50ver2.add(resnet50)\n",
        "model_resnet50ver2.add(GlobalAveragePooling2D())\n",
        "model_resnet50ver2.add(Dense(4, activation='softmax'))\n",
        "\n",
        "# Membekukan layer-layer ResNet50 yang telah dilatih\n",
        "for layer in resnet50.layers:\n",
        "    layer.trainable = False\n",
        "\n",
        "# Mengompilasi model dengan optimizer Adam dan loss function categorical crossentropy\n",
        "model_resnet50ver2.compile(optimizer=Adam(learning_rate=1e-5), loss='categorical_crossentropy', metrics=['accuracy'])\n",
        "\n",
        "# Menampilkan summary dari model\n",
        "model_resnet50ver2.summary()\n",
        "\n",
        "# Melatih model dengan data latih dan validasi\n",
        "history_resnet50ver2 = model_resnet50ver2.fit(datagen.flow(X_train, Y_train), epochs=200, validation_data=(X_test, Y_test))"
      ],
      "metadata": {
        "colab": {
          "base_uri": "https://localhost:8080/"
        },
        "id": "L4NJLS5-FT93",
        "outputId": "5fb05d42-5625-4420-aeac-3c9f9f6a8e23"
      },
      "execution_count": 15,
      "outputs": [
        {
          "output_type": "stream",
          "name": "stdout",
          "text": [
            "Model: \"sequential_1\"\n",
            "_________________________________________________________________\n",
            " Layer (type)                Output Shape              Param #   \n",
            "=================================================================\n",
            " resnet50 (Functional)       (None, 7, 7, 2048)        23587712  \n",
            "                                                                 \n",
            " global_average_pooling2d_1  (None, 2048)              0         \n",
            "  (GlobalAveragePooling2D)                                       \n",
            "                                                                 \n",
            " dense_1 (Dense)             (None, 4)                 8196      \n",
            "                                                                 \n",
            "=================================================================\n",
            "Total params: 23595908 (90.01 MB)\n",
            "Trainable params: 8196 (32.02 KB)\n",
            "Non-trainable params: 23587712 (89.98 MB)\n",
            "_________________________________________________________________\n",
            "Epoch 1/200\n",
            "12/12 [==============================] - 11s 661ms/step - loss: 2.2120 - accuracy: 0.2267 - val_loss: 2.3731 - val_accuracy: 0.3095\n",
            "Epoch 2/200\n",
            "12/12 [==============================] - 5s 382ms/step - loss: 2.2187 - accuracy: 0.2000 - val_loss: 2.3122 - val_accuracy: 0.2857\n",
            "Epoch 3/200\n",
            "12/12 [==============================] - 4s 341ms/step - loss: 2.1413 - accuracy: 0.2027 - val_loss: 2.2570 - val_accuracy: 0.3095\n",
            "Epoch 4/200\n",
            "12/12 [==============================] - 5s 402ms/step - loss: 2.0503 - accuracy: 0.2080 - val_loss: 2.2065 - val_accuracy: 0.2857\n",
            "Epoch 5/200\n",
            "12/12 [==============================] - 4s 342ms/step - loss: 2.0179 - accuracy: 0.2080 - val_loss: 2.1599 - val_accuracy: 0.2619\n",
            "Epoch 6/200\n",
            "12/12 [==============================] - 4s 337ms/step - loss: 1.9535 - accuracy: 0.2027 - val_loss: 2.1156 - val_accuracy: 0.3095\n",
            "Epoch 7/200\n",
            "12/12 [==============================] - 5s 440ms/step - loss: 1.8876 - accuracy: 0.2080 - val_loss: 2.0751 - val_accuracy: 0.2619\n",
            "Epoch 8/200\n",
            "12/12 [==============================] - 4s 342ms/step - loss: 1.9028 - accuracy: 0.2187 - val_loss: 2.0384 - val_accuracy: 0.2619\n",
            "Epoch 9/200\n",
            "12/12 [==============================] - 5s 459ms/step - loss: 1.8621 - accuracy: 0.2187 - val_loss: 2.0042 - val_accuracy: 0.2619\n",
            "Epoch 10/200\n",
            "12/12 [==============================] - 4s 339ms/step - loss: 1.8305 - accuracy: 0.2587 - val_loss: 1.9724 - val_accuracy: 0.2619\n",
            "Epoch 11/200\n",
            "12/12 [==============================] - 5s 377ms/step - loss: 1.7733 - accuracy: 0.2453 - val_loss: 1.9441 - val_accuracy: 0.2619\n",
            "Epoch 12/200\n",
            "12/12 [==============================] - 4s 339ms/step - loss: 1.7858 - accuracy: 0.2373 - val_loss: 1.9167 - val_accuracy: 0.2619\n",
            "Epoch 13/200\n",
            "12/12 [==============================] - 5s 435ms/step - loss: 1.7424 - accuracy: 0.2613 - val_loss: 1.8907 - val_accuracy: 0.2619\n",
            "Epoch 14/200\n",
            "12/12 [==============================] - 4s 349ms/step - loss: 1.7316 - accuracy: 0.2640 - val_loss: 1.8668 - val_accuracy: 0.2619\n",
            "Epoch 15/200\n",
            "12/12 [==============================] - 5s 457ms/step - loss: 1.6451 - accuracy: 0.3147 - val_loss: 1.8445 - val_accuracy: 0.2619\n",
            "Epoch 16/200\n",
            "12/12 [==============================] - 4s 347ms/step - loss: 1.6676 - accuracy: 0.3040 - val_loss: 1.8225 - val_accuracy: 0.2857\n",
            "Epoch 17/200\n",
            "12/12 [==============================] - 5s 359ms/step - loss: 1.6359 - accuracy: 0.3227 - val_loss: 1.8017 - val_accuracy: 0.2857\n",
            "Epoch 18/200\n",
            "12/12 [==============================] - 4s 344ms/step - loss: 1.6227 - accuracy: 0.3120 - val_loss: 1.7823 - val_accuracy: 0.2857\n",
            "Epoch 19/200\n",
            "12/12 [==============================] - 5s 426ms/step - loss: 1.6060 - accuracy: 0.3147 - val_loss: 1.7645 - val_accuracy: 0.2857\n",
            "Epoch 20/200\n",
            "12/12 [==============================] - 4s 340ms/step - loss: 1.6150 - accuracy: 0.3200 - val_loss: 1.7464 - val_accuracy: 0.2857\n",
            "Epoch 21/200\n",
            "12/12 [==============================] - 4s 338ms/step - loss: 1.5289 - accuracy: 0.3387 - val_loss: 1.7286 - val_accuracy: 0.2857\n",
            "Epoch 22/200\n",
            "12/12 [==============================] - 5s 456ms/step - loss: 1.5594 - accuracy: 0.3547 - val_loss: 1.7124 - val_accuracy: 0.2619\n",
            "Epoch 23/200\n",
            "12/12 [==============================] - 4s 336ms/step - loss: 1.5228 - accuracy: 0.3387 - val_loss: 1.6956 - val_accuracy: 0.2619\n",
            "Epoch 24/200\n",
            "12/12 [==============================] - 5s 455ms/step - loss: 1.5046 - accuracy: 0.3893 - val_loss: 1.6786 - val_accuracy: 0.2619\n",
            "Epoch 25/200\n",
            "12/12 [==============================] - 4s 339ms/step - loss: 1.4574 - accuracy: 0.4107 - val_loss: 1.6617 - val_accuracy: 0.2381\n",
            "Epoch 26/200\n",
            "12/12 [==============================] - 5s 352ms/step - loss: 1.4866 - accuracy: 0.4000 - val_loss: 1.6455 - val_accuracy: 0.2381\n",
            "Epoch 27/200\n",
            "12/12 [==============================] - 4s 343ms/step - loss: 1.5024 - accuracy: 0.3813 - val_loss: 1.6297 - val_accuracy: 0.2857\n",
            "Epoch 28/200\n",
            "12/12 [==============================] - 5s 430ms/step - loss: 1.4525 - accuracy: 0.4213 - val_loss: 1.6144 - val_accuracy: 0.3095\n",
            "Epoch 29/200\n",
            "12/12 [==============================] - 4s 346ms/step - loss: 1.3880 - accuracy: 0.4293 - val_loss: 1.5992 - val_accuracy: 0.3333\n",
            "Epoch 30/200\n",
            "12/12 [==============================] - 4s 352ms/step - loss: 1.3963 - accuracy: 0.4320 - val_loss: 1.5846 - val_accuracy: 0.3333\n",
            "Epoch 31/200\n",
            "12/12 [==============================] - 5s 458ms/step - loss: 1.4143 - accuracy: 0.4133 - val_loss: 1.5711 - val_accuracy: 0.3333\n",
            "Epoch 32/200\n",
            "12/12 [==============================] - 4s 348ms/step - loss: 1.3854 - accuracy: 0.4507 - val_loss: 1.5580 - val_accuracy: 0.3333\n",
            "Epoch 33/200\n",
            "12/12 [==============================] - 4s 338ms/step - loss: 1.3870 - accuracy: 0.4347 - val_loss: 1.5442 - val_accuracy: 0.3333\n",
            "Epoch 34/200\n",
            "12/12 [==============================] - 5s 458ms/step - loss: 1.3472 - accuracy: 0.4613 - val_loss: 1.5301 - val_accuracy: 0.3333\n",
            "Epoch 35/200\n",
            "12/12 [==============================] - 4s 341ms/step - loss: 1.3757 - accuracy: 0.4507 - val_loss: 1.5162 - val_accuracy: 0.3333\n",
            "Epoch 36/200\n",
            "12/12 [==============================] - 4s 349ms/step - loss: 1.3711 - accuracy: 0.4560 - val_loss: 1.5031 - val_accuracy: 0.3571\n",
            "Epoch 37/200\n",
            "12/12 [==============================] - 5s 459ms/step - loss: 1.3241 - accuracy: 0.4533 - val_loss: 1.4899 - val_accuracy: 0.3571\n",
            "Epoch 38/200\n",
            "12/12 [==============================] - 4s 357ms/step - loss: 1.3074 - accuracy: 0.4640 - val_loss: 1.4764 - val_accuracy: 0.3571\n",
            "Epoch 39/200\n",
            "12/12 [==============================] - 5s 406ms/step - loss: 1.3053 - accuracy: 0.4587 - val_loss: 1.4625 - val_accuracy: 0.3810\n",
            "Epoch 40/200\n",
            "12/12 [==============================] - 4s 336ms/step - loss: 1.2859 - accuracy: 0.4853 - val_loss: 1.4493 - val_accuracy: 0.3810\n",
            "Epoch 41/200\n",
            "12/12 [==============================] - 5s 381ms/step - loss: 1.2511 - accuracy: 0.5147 - val_loss: 1.4363 - val_accuracy: 0.3810\n",
            "Epoch 42/200\n",
            "12/12 [==============================] - 4s 346ms/step - loss: 1.2457 - accuracy: 0.5120 - val_loss: 1.4240 - val_accuracy: 0.3810\n",
            "Epoch 43/200\n",
            "12/12 [==============================] - 4s 340ms/step - loss: 1.2478 - accuracy: 0.5067 - val_loss: 1.4114 - val_accuracy: 0.3810\n",
            "Epoch 44/200\n",
            "12/12 [==============================] - 5s 465ms/step - loss: 1.2418 - accuracy: 0.5173 - val_loss: 1.4005 - val_accuracy: 0.3810\n",
            "Epoch 45/200\n",
            "12/12 [==============================] - 4s 340ms/step - loss: 1.2502 - accuracy: 0.5280 - val_loss: 1.3884 - val_accuracy: 0.3810\n",
            "Epoch 46/200\n",
            "12/12 [==============================] - 4s 343ms/step - loss: 1.2403 - accuracy: 0.5200 - val_loss: 1.3761 - val_accuracy: 0.3810\n",
            "Epoch 47/200\n",
            "12/12 [==============================] - 5s 468ms/step - loss: 1.1731 - accuracy: 0.5440 - val_loss: 1.3648 - val_accuracy: 0.3810\n",
            "Epoch 48/200\n",
            "12/12 [==============================] - 4s 363ms/step - loss: 1.2052 - accuracy: 0.5520 - val_loss: 1.3539 - val_accuracy: 0.4048\n",
            "Epoch 49/200\n",
            "12/12 [==============================] - 5s 358ms/step - loss: 1.1845 - accuracy: 0.5493 - val_loss: 1.3430 - val_accuracy: 0.4286\n",
            "Epoch 50/200\n",
            "12/12 [==============================] - 4s 338ms/step - loss: 1.1628 - accuracy: 0.5627 - val_loss: 1.3323 - val_accuracy: 0.4286\n",
            "Epoch 51/200\n",
            "12/12 [==============================] - 5s 460ms/step - loss: 1.1695 - accuracy: 0.5440 - val_loss: 1.3208 - val_accuracy: 0.4286\n",
            "Epoch 52/200\n",
            "12/12 [==============================] - 4s 340ms/step - loss: 1.1610 - accuracy: 0.5680 - val_loss: 1.3100 - val_accuracy: 0.4286\n",
            "Epoch 53/200\n",
            "12/12 [==============================] - 4s 338ms/step - loss: 1.1351 - accuracy: 0.5280 - val_loss: 1.2988 - val_accuracy: 0.4286\n",
            "Epoch 54/200\n",
            "12/12 [==============================] - 5s 459ms/step - loss: 1.1218 - accuracy: 0.5893 - val_loss: 1.2892 - val_accuracy: 0.4286\n",
            "Epoch 55/200\n",
            "12/12 [==============================] - 4s 338ms/step - loss: 1.1602 - accuracy: 0.5413 - val_loss: 1.2776 - val_accuracy: 0.4286\n",
            "Epoch 56/200\n",
            "12/12 [==============================] - 4s 341ms/step - loss: 1.0889 - accuracy: 0.5707 - val_loss: 1.2682 - val_accuracy: 0.4762\n",
            "Epoch 57/200\n",
            "12/12 [==============================] - 5s 464ms/step - loss: 1.0908 - accuracy: 0.5680 - val_loss: 1.2585 - val_accuracy: 0.4762\n",
            "Epoch 58/200\n",
            "12/12 [==============================] - 4s 335ms/step - loss: 1.1009 - accuracy: 0.5680 - val_loss: 1.2487 - val_accuracy: 0.4524\n",
            "Epoch 59/200\n",
            "12/12 [==============================] - 4s 342ms/step - loss: 1.0789 - accuracy: 0.5893 - val_loss: 1.2390 - val_accuracy: 0.4524\n",
            "Epoch 60/200\n",
            "12/12 [==============================] - 5s 452ms/step - loss: 1.0945 - accuracy: 0.5627 - val_loss: 1.2298 - val_accuracy: 0.4524\n",
            "Epoch 61/200\n",
            "12/12 [==============================] - 4s 343ms/step - loss: 1.0754 - accuracy: 0.5653 - val_loss: 1.2207 - val_accuracy: 0.4524\n",
            "Epoch 62/200\n",
            "12/12 [==============================] - 4s 357ms/step - loss: 1.0747 - accuracy: 0.5920 - val_loss: 1.2118 - val_accuracy: 0.4524\n",
            "Epoch 63/200\n",
            "12/12 [==============================] - 5s 422ms/step - loss: 1.0673 - accuracy: 0.5867 - val_loss: 1.2032 - val_accuracy: 0.4524\n",
            "Epoch 64/200\n",
            "12/12 [==============================] - 4s 339ms/step - loss: 1.0072 - accuracy: 0.6213 - val_loss: 1.1940 - val_accuracy: 0.4524\n",
            "Epoch 65/200\n",
            "12/12 [==============================] - 5s 432ms/step - loss: 1.0193 - accuracy: 0.6027 - val_loss: 1.1854 - val_accuracy: 0.4524\n",
            "Epoch 66/200\n",
            "12/12 [==============================] - 4s 336ms/step - loss: 1.0314 - accuracy: 0.5893 - val_loss: 1.1771 - val_accuracy: 0.4524\n",
            "Epoch 67/200\n",
            "12/12 [==============================] - 6s 443ms/step - loss: 1.0115 - accuracy: 0.6160 - val_loss: 1.1681 - val_accuracy: 0.4524\n",
            "Epoch 68/200\n",
            "12/12 [==============================] - 4s 337ms/step - loss: 0.9955 - accuracy: 0.6347 - val_loss: 1.1594 - val_accuracy: 0.4524\n",
            "Epoch 69/200\n",
            "12/12 [==============================] - 4s 352ms/step - loss: 0.9957 - accuracy: 0.6107 - val_loss: 1.1511 - val_accuracy: 0.4524\n",
            "Epoch 70/200\n",
            "12/12 [==============================] - 5s 408ms/step - loss: 0.9601 - accuracy: 0.6213 - val_loss: 1.1432 - val_accuracy: 0.4524\n",
            "Epoch 71/200\n",
            "12/12 [==============================] - 5s 432ms/step - loss: 0.9759 - accuracy: 0.6293 - val_loss: 1.1352 - val_accuracy: 0.4524\n",
            "Epoch 72/200\n",
            "12/12 [==============================] - 4s 338ms/step - loss: 0.9839 - accuracy: 0.6293 - val_loss: 1.1283 - val_accuracy: 0.4762\n",
            "Epoch 73/200\n",
            "12/12 [==============================] - 4s 338ms/step - loss: 0.9726 - accuracy: 0.6240 - val_loss: 1.1192 - val_accuracy: 0.4762\n",
            "Epoch 74/200\n",
            "12/12 [==============================] - 5s 459ms/step - loss: 0.9674 - accuracy: 0.6293 - val_loss: 1.1119 - val_accuracy: 0.5000\n",
            "Epoch 75/200\n",
            "12/12 [==============================] - 4s 341ms/step - loss: 0.9517 - accuracy: 0.6240 - val_loss: 1.1042 - val_accuracy: 0.5000\n",
            "Epoch 76/200\n",
            "12/12 [==============================] - 4s 341ms/step - loss: 0.9384 - accuracy: 0.6213 - val_loss: 1.0975 - val_accuracy: 0.5000\n",
            "Epoch 77/200\n",
            "12/12 [==============================] - 5s 460ms/step - loss: 0.9472 - accuracy: 0.6427 - val_loss: 1.0903 - val_accuracy: 0.5000\n",
            "Epoch 78/200\n",
            "12/12 [==============================] - 4s 348ms/step - loss: 0.8977 - accuracy: 0.6587 - val_loss: 1.0837 - val_accuracy: 0.5000\n",
            "Epoch 79/200\n",
            "12/12 [==============================] - 4s 349ms/step - loss: 0.9184 - accuracy: 0.6533 - val_loss: 1.0769 - val_accuracy: 0.5000\n",
            "Epoch 80/200\n",
            "12/12 [==============================] - 5s 423ms/step - loss: 0.9377 - accuracy: 0.6427 - val_loss: 1.0693 - val_accuracy: 0.5000\n",
            "Epoch 81/200\n",
            "12/12 [==============================] - 5s 422ms/step - loss: 0.9289 - accuracy: 0.6187 - val_loss: 1.0625 - val_accuracy: 0.5000\n",
            "Epoch 82/200\n",
            "12/12 [==============================] - 4s 343ms/step - loss: 0.9285 - accuracy: 0.6293 - val_loss: 1.0554 - val_accuracy: 0.5000\n",
            "Epoch 83/200\n",
            "12/12 [==============================] - 4s 339ms/step - loss: 0.8842 - accuracy: 0.6613 - val_loss: 1.0489 - val_accuracy: 0.5000\n",
            "Epoch 84/200\n",
            "12/12 [==============================] - 5s 465ms/step - loss: 0.9051 - accuracy: 0.6560 - val_loss: 1.0419 - val_accuracy: 0.5476\n",
            "Epoch 85/200\n",
            "12/12 [==============================] - 4s 342ms/step - loss: 0.9082 - accuracy: 0.6293 - val_loss: 1.0357 - val_accuracy: 0.5476\n",
            "Epoch 86/200\n",
            "12/12 [==============================] - 4s 342ms/step - loss: 0.9058 - accuracy: 0.6480 - val_loss: 1.0288 - val_accuracy: 0.5476\n",
            "Epoch 87/200\n",
            "12/12 [==============================] - 6s 513ms/step - loss: 0.8942 - accuracy: 0.6693 - val_loss: 1.0223 - val_accuracy: 0.5476\n",
            "Epoch 88/200\n",
            "12/12 [==============================] - 4s 338ms/step - loss: 0.8751 - accuracy: 0.6587 - val_loss: 1.0161 - val_accuracy: 0.5476\n",
            "Epoch 89/200\n",
            "12/12 [==============================] - 5s 437ms/step - loss: 0.8510 - accuracy: 0.6773 - val_loss: 1.0103 - val_accuracy: 0.5714\n",
            "Epoch 90/200\n",
            "12/12 [==============================] - 4s 339ms/step - loss: 0.8432 - accuracy: 0.6507 - val_loss: 1.0034 - val_accuracy: 0.5952\n",
            "Epoch 91/200\n",
            "12/12 [==============================] - 6s 456ms/step - loss: 0.8796 - accuracy: 0.6533 - val_loss: 0.9973 - val_accuracy: 0.5952\n",
            "Epoch 92/200\n",
            "12/12 [==============================] - 5s 379ms/step - loss: 0.8497 - accuracy: 0.6693 - val_loss: 0.9920 - val_accuracy: 0.5952\n",
            "Epoch 93/200\n",
            "12/12 [==============================] - 5s 378ms/step - loss: 0.8110 - accuracy: 0.6747 - val_loss: 0.9864 - val_accuracy: 0.5952\n",
            "Epoch 94/200\n",
            "12/12 [==============================] - 4s 349ms/step - loss: 0.8740 - accuracy: 0.6587 - val_loss: 0.9806 - val_accuracy: 0.5952\n",
            "Epoch 95/200\n",
            "12/12 [==============================] - 5s 420ms/step - loss: 0.8329 - accuracy: 0.6533 - val_loss: 0.9747 - val_accuracy: 0.5952\n",
            "Epoch 96/200\n",
            "12/12 [==============================] - 4s 346ms/step - loss: 0.8213 - accuracy: 0.6880 - val_loss: 0.9681 - val_accuracy: 0.5952\n",
            "Epoch 97/200\n",
            "12/12 [==============================] - 4s 343ms/step - loss: 0.8372 - accuracy: 0.6667 - val_loss: 0.9630 - val_accuracy: 0.5952\n",
            "Epoch 98/200\n",
            "12/12 [==============================] - 5s 457ms/step - loss: 0.7990 - accuracy: 0.6987 - val_loss: 0.9577 - val_accuracy: 0.5952\n",
            "Epoch 99/200\n",
            "12/12 [==============================] - 4s 337ms/step - loss: 0.8173 - accuracy: 0.6800 - val_loss: 0.9515 - val_accuracy: 0.5952\n",
            "Epoch 100/200\n",
            "12/12 [==============================] - 4s 344ms/step - loss: 0.7942 - accuracy: 0.6773 - val_loss: 0.9460 - val_accuracy: 0.5952\n",
            "Epoch 101/200\n",
            "12/12 [==============================] - 5s 455ms/step - loss: 0.8161 - accuracy: 0.6640 - val_loss: 0.9404 - val_accuracy: 0.5952\n",
            "Epoch 102/200\n",
            "12/12 [==============================] - 4s 345ms/step - loss: 0.7910 - accuracy: 0.6933 - val_loss: 0.9352 - val_accuracy: 0.5952\n",
            "Epoch 103/200\n",
            "12/12 [==============================] - 4s 339ms/step - loss: 0.7934 - accuracy: 0.6747 - val_loss: 0.9302 - val_accuracy: 0.5952\n",
            "Epoch 104/200\n",
            "12/12 [==============================] - 6s 443ms/step - loss: 0.7828 - accuracy: 0.7147 - val_loss: 0.9261 - val_accuracy: 0.5952\n",
            "Epoch 105/200\n",
            "12/12 [==============================] - 5s 400ms/step - loss: 0.7818 - accuracy: 0.6693 - val_loss: 0.9216 - val_accuracy: 0.6190\n",
            "Epoch 106/200\n",
            "12/12 [==============================] - 5s 380ms/step - loss: 0.7854 - accuracy: 0.6907 - val_loss: 0.9159 - val_accuracy: 0.6190\n",
            "Epoch 107/200\n",
            "12/12 [==============================] - 4s 351ms/step - loss: 0.7745 - accuracy: 0.7147 - val_loss: 0.9105 - val_accuracy: 0.6429\n",
            "Epoch 108/200\n",
            "12/12 [==============================] - 5s 446ms/step - loss: 0.7998 - accuracy: 0.6773 - val_loss: 0.9055 - val_accuracy: 0.6667\n",
            "Epoch 109/200\n",
            "12/12 [==============================] - 4s 342ms/step - loss: 0.7919 - accuracy: 0.6933 - val_loss: 0.9012 - val_accuracy: 0.6667\n",
            "Epoch 110/200\n",
            "12/12 [==============================] - 4s 350ms/step - loss: 0.7650 - accuracy: 0.7040 - val_loss: 0.8967 - val_accuracy: 0.6667\n",
            "Epoch 111/200\n",
            "12/12 [==============================] - 5s 456ms/step - loss: 0.7588 - accuracy: 0.7040 - val_loss: 0.8923 - val_accuracy: 0.6667\n",
            "Epoch 112/200\n",
            "12/12 [==============================] - 4s 367ms/step - loss: 0.7423 - accuracy: 0.7173 - val_loss: 0.8876 - val_accuracy: 0.6667\n",
            "Epoch 113/200\n",
            "12/12 [==============================] - 5s 359ms/step - loss: 0.7749 - accuracy: 0.6853 - val_loss: 0.8837 - val_accuracy: 0.6667\n",
            "Epoch 114/200\n",
            "12/12 [==============================] - 4s 352ms/step - loss: 0.7306 - accuracy: 0.7120 - val_loss: 0.8782 - val_accuracy: 0.6667\n",
            "Epoch 115/200\n",
            "12/12 [==============================] - 5s 460ms/step - loss: 0.7532 - accuracy: 0.7093 - val_loss: 0.8746 - val_accuracy: 0.6667\n",
            "Epoch 116/200\n",
            "12/12 [==============================] - 4s 341ms/step - loss: 0.7496 - accuracy: 0.6907 - val_loss: 0.8706 - val_accuracy: 0.6667\n",
            "Epoch 117/200\n",
            "12/12 [==============================] - 4s 347ms/step - loss: 0.7426 - accuracy: 0.6907 - val_loss: 0.8657 - val_accuracy: 0.6667\n",
            "Epoch 118/200\n",
            "12/12 [==============================] - 5s 454ms/step - loss: 0.7183 - accuracy: 0.7040 - val_loss: 0.8613 - val_accuracy: 0.6667\n",
            "Epoch 119/200\n",
            "12/12 [==============================] - 4s 337ms/step - loss: 0.7410 - accuracy: 0.6987 - val_loss: 0.8570 - val_accuracy: 0.6905\n",
            "Epoch 120/200\n",
            "12/12 [==============================] - 4s 337ms/step - loss: 0.7369 - accuracy: 0.7040 - val_loss: 0.8533 - val_accuracy: 0.6905\n",
            "Epoch 121/200\n",
            "12/12 [==============================] - 5s 460ms/step - loss: 0.7414 - accuracy: 0.7120 - val_loss: 0.8491 - val_accuracy: 0.7143\n",
            "Epoch 122/200\n",
            "12/12 [==============================] - 4s 359ms/step - loss: 0.7050 - accuracy: 0.7387 - val_loss: 0.8452 - val_accuracy: 0.7143\n",
            "Epoch 123/200\n",
            "12/12 [==============================] - 5s 429ms/step - loss: 0.7056 - accuracy: 0.7253 - val_loss: 0.8412 - val_accuracy: 0.6905\n",
            "Epoch 124/200\n",
            "12/12 [==============================] - 4s 341ms/step - loss: 0.7316 - accuracy: 0.7173 - val_loss: 0.8374 - val_accuracy: 0.7143\n",
            "Epoch 125/200\n",
            "12/12 [==============================] - 5s 393ms/step - loss: 0.7137 - accuracy: 0.7173 - val_loss: 0.8342 - val_accuracy: 0.7143\n",
            "Epoch 126/200\n",
            "12/12 [==============================] - 5s 353ms/step - loss: 0.7067 - accuracy: 0.7280 - val_loss: 0.8308 - val_accuracy: 0.7143\n",
            "Epoch 127/200\n",
            "12/12 [==============================] - 4s 340ms/step - loss: 0.6931 - accuracy: 0.7147 - val_loss: 0.8269 - val_accuracy: 0.7143\n",
            "Epoch 128/200\n",
            "12/12 [==============================] - 5s 449ms/step - loss: 0.6960 - accuracy: 0.7253 - val_loss: 0.8239 - val_accuracy: 0.7143\n",
            "Epoch 129/200\n",
            "12/12 [==============================] - 8s 642ms/step - loss: 0.7213 - accuracy: 0.7307 - val_loss: 0.8201 - val_accuracy: 0.7143\n",
            "Epoch 130/200\n",
            "12/12 [==============================] - 8s 681ms/step - loss: 0.7064 - accuracy: 0.7227 - val_loss: 0.8163 - val_accuracy: 0.7143\n",
            "Epoch 131/200\n",
            "12/12 [==============================] - 4s 368ms/step - loss: 0.7172 - accuracy: 0.7307 - val_loss: 0.8128 - val_accuracy: 0.7143\n",
            "Epoch 132/200\n",
            "12/12 [==============================] - 9s 752ms/step - loss: 0.6913 - accuracy: 0.7307 - val_loss: 0.8096 - val_accuracy: 0.7143\n",
            "Epoch 133/200\n",
            "12/12 [==============================] - 7s 601ms/step - loss: 0.6744 - accuracy: 0.7440 - val_loss: 0.8067 - val_accuracy: 0.7143\n",
            "Epoch 134/200\n",
            "12/12 [==============================] - 5s 350ms/step - loss: 0.6773 - accuracy: 0.7307 - val_loss: 0.8035 - val_accuracy: 0.7143\n",
            "Epoch 135/200\n",
            "12/12 [==============================] - 4s 342ms/step - loss: 0.6891 - accuracy: 0.7360 - val_loss: 0.8001 - val_accuracy: 0.7143\n",
            "Epoch 136/200\n",
            "12/12 [==============================] - 5s 468ms/step - loss: 0.6869 - accuracy: 0.7440 - val_loss: 0.7968 - val_accuracy: 0.7143\n",
            "Epoch 137/200\n",
            "12/12 [==============================] - 4s 337ms/step - loss: 0.6757 - accuracy: 0.7333 - val_loss: 0.7934 - val_accuracy: 0.7143\n",
            "Epoch 138/200\n",
            "12/12 [==============================] - 4s 343ms/step - loss: 0.6761 - accuracy: 0.7307 - val_loss: 0.7902 - val_accuracy: 0.7143\n",
            "Epoch 139/200\n",
            "12/12 [==============================] - 5s 462ms/step - loss: 0.6621 - accuracy: 0.7387 - val_loss: 0.7872 - val_accuracy: 0.7143\n",
            "Epoch 140/200\n",
            "12/12 [==============================] - 4s 338ms/step - loss: 0.6729 - accuracy: 0.7387 - val_loss: 0.7843 - val_accuracy: 0.7143\n",
            "Epoch 141/200\n",
            "12/12 [==============================] - 4s 336ms/step - loss: 0.6848 - accuracy: 0.7440 - val_loss: 0.7814 - val_accuracy: 0.7143\n",
            "Epoch 142/200\n",
            "12/12 [==============================] - 5s 467ms/step - loss: 0.6876 - accuracy: 0.7333 - val_loss: 0.7784 - val_accuracy: 0.7143\n",
            "Epoch 143/200\n",
            "12/12 [==============================] - 4s 338ms/step - loss: 0.6527 - accuracy: 0.7440 - val_loss: 0.7757 - val_accuracy: 0.7143\n",
            "Epoch 144/200\n",
            "12/12 [==============================] - 4s 342ms/step - loss: 0.6631 - accuracy: 0.7360 - val_loss: 0.7729 - val_accuracy: 0.7143\n",
            "Epoch 145/200\n",
            "12/12 [==============================] - 5s 459ms/step - loss: 0.6347 - accuracy: 0.7413 - val_loss: 0.7701 - val_accuracy: 0.7143\n",
            "Epoch 146/200\n",
            "12/12 [==============================] - 4s 343ms/step - loss: 0.6619 - accuracy: 0.7333 - val_loss: 0.7674 - val_accuracy: 0.7143\n",
            "Epoch 147/200\n",
            "12/12 [==============================] - 5s 398ms/step - loss: 0.6590 - accuracy: 0.7467 - val_loss: 0.7645 - val_accuracy: 0.7143\n",
            "Epoch 148/200\n",
            "12/12 [==============================] - 5s 373ms/step - loss: 0.6434 - accuracy: 0.7627 - val_loss: 0.7614 - val_accuracy: 0.7143\n",
            "Epoch 149/200\n",
            "12/12 [==============================] - 4s 340ms/step - loss: 0.6391 - accuracy: 0.7520 - val_loss: 0.7589 - val_accuracy: 0.7143\n",
            "Epoch 150/200\n",
            "12/12 [==============================] - 5s 426ms/step - loss: 0.6284 - accuracy: 0.7547 - val_loss: 0.7567 - val_accuracy: 0.7143\n",
            "Epoch 151/200\n",
            "12/12 [==============================] - 4s 345ms/step - loss: 0.6395 - accuracy: 0.7387 - val_loss: 0.7540 - val_accuracy: 0.7143\n",
            "Epoch 152/200\n",
            "12/12 [==============================] - 4s 352ms/step - loss: 0.6595 - accuracy: 0.7520 - val_loss: 0.7519 - val_accuracy: 0.7143\n",
            "Epoch 153/200\n",
            "12/12 [==============================] - 6s 499ms/step - loss: 0.6393 - accuracy: 0.7307 - val_loss: 0.7487 - val_accuracy: 0.7143\n",
            "Epoch 154/200\n",
            "12/12 [==============================] - 4s 349ms/step - loss: 0.6084 - accuracy: 0.7707 - val_loss: 0.7468 - val_accuracy: 0.7143\n",
            "Epoch 155/200\n",
            "12/12 [==============================] - 5s 460ms/step - loss: 0.6213 - accuracy: 0.7547 - val_loss: 0.7444 - val_accuracy: 0.7143\n",
            "Epoch 156/200\n",
            "12/12 [==============================] - 4s 349ms/step - loss: 0.6420 - accuracy: 0.7573 - val_loss: 0.7419 - val_accuracy: 0.7143\n",
            "Epoch 157/200\n",
            "12/12 [==============================] - 5s 375ms/step - loss: 0.6152 - accuracy: 0.7733 - val_loss: 0.7392 - val_accuracy: 0.7143\n",
            "Epoch 158/200\n",
            "12/12 [==============================] - 5s 390ms/step - loss: 0.6253 - accuracy: 0.7627 - val_loss: 0.7365 - val_accuracy: 0.7143\n",
            "Epoch 159/200\n",
            "12/12 [==============================] - 4s 341ms/step - loss: 0.6335 - accuracy: 0.7547 - val_loss: 0.7342 - val_accuracy: 0.7143\n",
            "Epoch 160/200\n",
            "12/12 [==============================] - 5s 408ms/step - loss: 0.6212 - accuracy: 0.7520 - val_loss: 0.7320 - val_accuracy: 0.7143\n",
            "Epoch 161/200\n",
            "12/12 [==============================] - 5s 355ms/step - loss: 0.6308 - accuracy: 0.7547 - val_loss: 0.7294 - val_accuracy: 0.7143\n",
            "Epoch 162/200\n",
            "12/12 [==============================] - 4s 340ms/step - loss: 0.6182 - accuracy: 0.7707 - val_loss: 0.7277 - val_accuracy: 0.7143\n",
            "Epoch 163/200\n",
            "12/12 [==============================] - 5s 446ms/step - loss: 0.6454 - accuracy: 0.7307 - val_loss: 0.7253 - val_accuracy: 0.7143\n",
            "Epoch 164/200\n",
            "12/12 [==============================] - 4s 341ms/step - loss: 0.6220 - accuracy: 0.7520 - val_loss: 0.7226 - val_accuracy: 0.7143\n",
            "Epoch 165/200\n",
            "12/12 [==============================] - 5s 442ms/step - loss: 0.5979 - accuracy: 0.7680 - val_loss: 0.7205 - val_accuracy: 0.7143\n",
            "Epoch 166/200\n",
            "12/12 [==============================] - 4s 343ms/step - loss: 0.5844 - accuracy: 0.7840 - val_loss: 0.7184 - val_accuracy: 0.7143\n",
            "Epoch 167/200\n",
            "12/12 [==============================] - 4s 361ms/step - loss: 0.6036 - accuracy: 0.7680 - val_loss: 0.7167 - val_accuracy: 0.7143\n",
            "Epoch 168/200\n",
            "12/12 [==============================] - 5s 412ms/step - loss: 0.6064 - accuracy: 0.7653 - val_loss: 0.7149 - val_accuracy: 0.7143\n",
            "Epoch 169/200\n",
            "12/12 [==============================] - 4s 341ms/step - loss: 0.5930 - accuracy: 0.7813 - val_loss: 0.7131 - val_accuracy: 0.7143\n",
            "Epoch 170/200\n",
            "12/12 [==============================] - 5s 396ms/step - loss: 0.5860 - accuracy: 0.7893 - val_loss: 0.7109 - val_accuracy: 0.7143\n",
            "Epoch 171/200\n",
            "12/12 [==============================] - 5s 374ms/step - loss: 0.6023 - accuracy: 0.7760 - val_loss: 0.7091 - val_accuracy: 0.7143\n",
            "Epoch 172/200\n",
            "12/12 [==============================] - 4s 339ms/step - loss: 0.6052 - accuracy: 0.7600 - val_loss: 0.7073 - val_accuracy: 0.7143\n",
            "Epoch 173/200\n",
            "12/12 [==============================] - 6s 509ms/step - loss: 0.5958 - accuracy: 0.7680 - val_loss: 0.7054 - val_accuracy: 0.7143\n",
            "Epoch 174/200\n",
            "12/12 [==============================] - 4s 347ms/step - loss: 0.5990 - accuracy: 0.7467 - val_loss: 0.7040 - val_accuracy: 0.7143\n",
            "Epoch 175/200\n",
            "12/12 [==============================] - 4s 344ms/step - loss: 0.5949 - accuracy: 0.7733 - val_loss: 0.7026 - val_accuracy: 0.7143\n",
            "Epoch 176/200\n",
            "12/12 [==============================] - 5s 415ms/step - loss: 0.5879 - accuracy: 0.7547 - val_loss: 0.7016 - val_accuracy: 0.7143\n",
            "Epoch 177/200\n",
            "12/12 [==============================] - 4s 341ms/step - loss: 0.5985 - accuracy: 0.7547 - val_loss: 0.6992 - val_accuracy: 0.7143\n",
            "Epoch 178/200\n",
            "12/12 [==============================] - 5s 410ms/step - loss: 0.5847 - accuracy: 0.7840 - val_loss: 0.6980 - val_accuracy: 0.7143\n",
            "Epoch 179/200\n",
            "12/12 [==============================] - 4s 348ms/step - loss: 0.5756 - accuracy: 0.7760 - val_loss: 0.6961 - val_accuracy: 0.7143\n",
            "Epoch 180/200\n",
            "12/12 [==============================] - 4s 340ms/step - loss: 0.5668 - accuracy: 0.8000 - val_loss: 0.6938 - val_accuracy: 0.7143\n",
            "Epoch 181/200\n",
            "12/12 [==============================] - 6s 465ms/step - loss: 0.5833 - accuracy: 0.7787 - val_loss: 0.6911 - val_accuracy: 0.7143\n",
            "Epoch 182/200\n",
            "12/12 [==============================] - 4s 340ms/step - loss: 0.5961 - accuracy: 0.7627 - val_loss: 0.6893 - val_accuracy: 0.7381\n",
            "Epoch 183/200\n",
            "12/12 [==============================] - 4s 347ms/step - loss: 0.5727 - accuracy: 0.7733 - val_loss: 0.6876 - val_accuracy: 0.7381\n",
            "Epoch 184/200\n",
            "12/12 [==============================] - 6s 475ms/step - loss: 0.5767 - accuracy: 0.7600 - val_loss: 0.6861 - val_accuracy: 0.7381\n",
            "Epoch 185/200\n",
            "12/12 [==============================] - 4s 347ms/step - loss: 0.5795 - accuracy: 0.7947 - val_loss: 0.6845 - val_accuracy: 0.7381\n",
            "Epoch 186/200\n",
            "12/12 [==============================] - 4s 356ms/step - loss: 0.5759 - accuracy: 0.7760 - val_loss: 0.6827 - val_accuracy: 0.7381\n",
            "Epoch 187/200\n",
            "12/12 [==============================] - 5s 353ms/step - loss: 0.5825 - accuracy: 0.7733 - val_loss: 0.6811 - val_accuracy: 0.7381\n",
            "Epoch 188/200\n",
            "12/12 [==============================] - 4s 342ms/step - loss: 0.5527 - accuracy: 0.7920 - val_loss: 0.6792 - val_accuracy: 0.7381\n",
            "Epoch 189/200\n",
            "12/12 [==============================] - 5s 453ms/step - loss: 0.5394 - accuracy: 0.8240 - val_loss: 0.6776 - val_accuracy: 0.7381\n",
            "Epoch 190/200\n",
            "12/12 [==============================] - 4s 337ms/step - loss: 0.5539 - accuracy: 0.7920 - val_loss: 0.6763 - val_accuracy: 0.7381\n",
            "Epoch 191/200\n",
            "12/12 [==============================] - 4s 355ms/step - loss: 0.5644 - accuracy: 0.7680 - val_loss: 0.6743 - val_accuracy: 0.7381\n",
            "Epoch 192/200\n",
            "12/12 [==============================] - 5s 466ms/step - loss: 0.5661 - accuracy: 0.7733 - val_loss: 0.6732 - val_accuracy: 0.7381\n",
            "Epoch 193/200\n",
            "12/12 [==============================] - 4s 343ms/step - loss: 0.5600 - accuracy: 0.7707 - val_loss: 0.6712 - val_accuracy: 0.7381\n",
            "Epoch 194/200\n",
            "12/12 [==============================] - 4s 344ms/step - loss: 0.5433 - accuracy: 0.8053 - val_loss: 0.6700 - val_accuracy: 0.7381\n",
            "Epoch 195/200\n",
            "12/12 [==============================] - 5s 440ms/step - loss: 0.5551 - accuracy: 0.7760 - val_loss: 0.6683 - val_accuracy: 0.7381\n",
            "Epoch 196/200\n",
            "12/12 [==============================] - 4s 347ms/step - loss: 0.5544 - accuracy: 0.8107 - val_loss: 0.6667 - val_accuracy: 0.7619\n",
            "Epoch 197/200\n",
            "12/12 [==============================] - 5s 461ms/step - loss: 0.5366 - accuracy: 0.7947 - val_loss: 0.6657 - val_accuracy: 0.7619\n",
            "Epoch 198/200\n",
            "12/12 [==============================] - 4s 342ms/step - loss: 0.5536 - accuracy: 0.7920 - val_loss: 0.6647 - val_accuracy: 0.7619\n",
            "Epoch 199/200\n",
            "12/12 [==============================] - 4s 341ms/step - loss: 0.5498 - accuracy: 0.7760 - val_loss: 0.6637 - val_accuracy: 0.7619\n",
            "Epoch 200/200\n",
            "12/12 [==============================] - 6s 474ms/step - loss: 0.5520 - accuracy: 0.7893 - val_loss: 0.6621 - val_accuracy: 0.7619\n"
          ]
        }
      ]
    },
    {
      "cell_type": "code",
      "source": [
        "from sklearn.metrics import confusion_matrix, classification_report\n",
        "import numpy as np\n",
        "import matplotlib.pyplot as plt\n",
        "import seaborn as sns\n",
        "\n",
        "Y_pred = model_resnet50ver2.predict(X_test)\n",
        "Y_pred_classes = np.argmax(Y_pred, axis=1)\n",
        "Y_true = np.argmax(Y_test, axis=1)\n",
        "\n",
        "conf_matrix = confusion_matrix(Y_true, Y_pred_classes)\n",
        "\n",
        "plt.figure(figsize=(8, 6))\n",
        "sns.heatmap(conf_matrix, annot=True, fmt=\"d\", cmap=\"Blues\", xticklabels=['Common_Rust', 'Healthy', 'Gray_Leaf_Spot', 'Blight'], yticklabels=['Common_Rust', 'Healthy', 'Gray_Leaf_Spot', 'Blight'])\n",
        "plt.xlabel('Predicted labels')\n",
        "plt.ylabel('True labels')\n",
        "plt.title('Confusion Matrix')\n",
        "plt.show()\n",
        "\n",
        "class_report = classification_report(Y_true, Y_pred_classes)\n",
        "\n",
        "print(\"\\nClassification Report:\")\n",
        "print(class_report)\n"
      ],
      "metadata": {
        "colab": {
          "base_uri": "https://localhost:8080/",
          "height": 807
        },
        "id": "YWvBAbaMInI-",
        "outputId": "e328393f-7d51-45b8-89b2-faf1cdca4c16"
      },
      "execution_count": 16,
      "outputs": [
        {
          "output_type": "stream",
          "name": "stdout",
          "text": [
            "2/2 [==============================] - 1s 121ms/step\n"
          ]
        },
        {
          "output_type": "display_data",
          "data": {
            "text/plain": [
              "<Figure size 800x600 with 2 Axes>"
            ],
            "image/png": "[encoded data removed]"
          },
          "metadata": {}
        },
        {
          "output_type": "stream",
          "name": "stdout",
          "text": [
            "\n",
            "Classification Report:\n",
            "              precision    recall  f1-score   support\n",
            "\n",
            "           0       0.63      0.80      0.71        15\n",
            "           1       0.87      0.81      0.84        16\n",
            "           2       0.50      0.20      0.29         5\n",
            "           3       1.00      1.00      1.00         6\n",
            "\n",
            "    accuracy                           0.76        42\n",
            "   macro avg       0.75      0.70      0.71        42\n",
            "weighted avg       0.76      0.76      0.75        42\n",
            "\n"
          ]
        }
      ]
    }
  ]
}