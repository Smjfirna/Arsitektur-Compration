{
  "nbformat": 4,
  "nbformat_minor": 0,
  "metadata": {
    "colab": {
      "provenance": [],
      "gpuType": "T4",
      "authorship_tag": "ABX9TyMWm29FxGedxMnRWM89h6ag",
      "include_colab_link": true
    },
    "kernelspec": {
      "name": "python3",
      "display_name": "Python 3"
    },
    "language_info": {
      "name": "python"
    },
    "accelerator": "GPU"
  },
  "cells": [
    {
      "cell_type": "markdown",
      "metadata": {
        "id": "view-in-github",
        "colab_type": "text"
      },
      "source": [
        "<a href=\"https://colab.research.google.com/github/Smjfirna/Arsitektur-Compration/blob/main/Eksperimen%20%20Epoch/50.ipynb\" target=\"_parent\"><img src=\"https://colab.research.google.com/assets/colab-badge.svg\" alt=\"Open In Colab\"/></a>"
      ]
    },
    {
      "cell_type": "code",
      "source": [
        "import os\n",
        "import cv2\n",
        "import numpy as np\n",
        "from tqdm import tqdm\n",
        "from sklearn.model_selection import train_test_split\n",
        "from sklearn.preprocessing import LabelEncoder\n",
        "from keras.utils import to_categorical\n",
        "\n",
        "import tensorflow as tf\n",
        "from tensorflow.keras.preprocessing.image import ImageDataGenerator\n",
        "from tensorflow.keras.models import Sequential\n",
        "from tensorflow.keras import layers, Model, regularizers\n",
        "from tensorflow.keras.callbacks import EarlyStopping\n",
        "from tensorflow.keras.layers import Conv2D, MaxPooling2D, Flatten, Dense, GlobalAveragePooling2D, Dropout\n",
        "import os\n",
        "from tensorflow.keras.optimizers import Adam\n",
        "from tensorflow.keras.optimizers import RMSprop\n",
        "\n",
        "from keras.applications import ResNet50"
      ],
      "metadata": {
        "id": "LaloGmhuhwP-"
      },
      "execution_count": 1,
      "outputs": []
    },
    {
      "cell_type": "code",
      "execution_count": 2,
      "metadata": {
        "colab": {
          "base_uri": "https://localhost:8080/"
        },
        "id": "d_i5Zy9kdLGU",
        "outputId": "e6d87198-d7b8-4fb0-9af1-1b96a2f18e50"
      },
      "outputs": [
        {
          "output_type": "stream",
          "name": "stdout",
          "text": [
            "Mounted at /content/drive\n"
          ]
        }
      ],
      "source": [
        "from google.colab import drive\n",
        "drive.mount('/content/drive')"
      ]
    },
    {
      "cell_type": "code",
      "source": [
        "dataset_dir = \"/content/drive/MyDrive/Skripsi Syafirna/Program/Data Sample 10\"\n",
        "\n",
        "print(os.listdir(dataset_dir))"
      ],
      "metadata": {
        "colab": {
          "base_uri": "https://localhost:8080/"
        },
        "id": "c60kX1_DjBPd",
        "outputId": "d0c1d0c5-cbc3-4d26-8553-8b01b2095ac1"
      },
      "execution_count": 3,
      "outputs": [
        {
          "output_type": "stream",
          "name": "stdout",
          "text": [
            "['Blight', 'Healthy', 'Common_Rust', 'Gray_Leaf_Spot']\n"
          ]
        }
      ]
    },
    {
      "cell_type": "code",
      "source": [
        "size_resnet50 = 224"
      ],
      "metadata": {
        "id": "Mjg6pdK1DO1a"
      },
      "execution_count": 4,
      "outputs": []
    },
    {
      "cell_type": "code",
      "source": [
        "def make_data(label, DIR, img_list, label_list):\n",
        "    for img in tqdm(os.listdir(DIR)):\n",
        "        path = os.path.join(DIR, img)\n",
        "        img = cv2.imread(path, cv2.IMREAD_COLOR)\n",
        "        img = cv2.resize(img, (size_resnet50, size_resnet50))\n",
        "        img_list.append(np.array(img))\n",
        "        label_list.append(str(label))"
      ],
      "metadata": {
        "id": "XgNY4FGvD-BF"
      },
      "execution_count": 5,
      "outputs": []
    },
    {
      "cell_type": "code",
      "source": [
        "X = []\n",
        "Z = []"
      ],
      "metadata": {
        "id": "HPv9tP13DXm6"
      },
      "execution_count": 6,
      "outputs": []
    },
    {
      "cell_type": "code",
      "source": [
        "for i, class_name in enumerate(['Common_Rust', 'Healthy', 'Gray_Leaf_Spot', 'Blight']):\n",
        "    class_dir = os.path.join(dataset_dir, class_name)\n",
        "    make_data(class_name, class_dir, X, Z)"
      ],
      "metadata": {
        "colab": {
          "base_uri": "https://localhost:8080/"
        },
        "id": "L7CgU46UDc6d",
        "outputId": "1347160c-65f0-4a0a-fc78-cd2cbc6d2dee"
      },
      "execution_count": 7,
      "outputs": [
        {
          "output_type": "stream",
          "name": "stderr",
          "text": [
            "100%|██████████| 130/130 [00:17<00:00,  7.53it/s]\n",
            "100%|██████████| 116/116 [00:03<00:00, 34.20it/s]\n",
            "100%|██████████| 57/57 [00:34<00:00,  1.65it/s]\n",
            "100%|██████████| 114/114 [00:15<00:00,  7.45it/s]\n"
          ]
        }
      ]
    },
    {
      "cell_type": "code",
      "source": [
        "import matplotlib.pyplot as plt\n",
        "\n",
        "# Menghitung jumlah data untuk setiap kelas\n",
        "class_counts = {class_name: Z.count(class_name) for class_name in set(Z)}\n",
        "\n",
        "# Menampilkan visualisasi jumlah data\n",
        "plt.figure(figsize=(4, 4))\n",
        "plt.bar(class_counts.keys(), class_counts.values())\n",
        "plt.xlabel('Class')\n",
        "plt.ylabel('Count')\n",
        "plt.title('Number of Data Samples for Each Class')\n",
        "plt.show()"
      ],
      "metadata": {
        "colab": {
          "base_uri": "https://localhost:8080/",
          "height": 410
        },
        "id": "jWbdII-8E9kW",
        "outputId": "083a2cf0-247c-4d09-f622-635051b72403"
      },
      "execution_count": 8,
      "outputs": [
        {
          "output_type": "display_data",
          "data": {
            "text/plain": [
              "<Figure size 400x400 with 1 Axes>"
            ],
            "image/png": "[encoded data removed]"
          },
          "metadata": {}
        }
      ]
    },
    {
      "cell_type": "code",
      "source": [
        "le = LabelEncoder()\n",
        "Y = le.fit_transform(Z)\n",
        "Y = to_categorical(Y, num_classes=len(le.classes_))\n",
        "\n",
        "# Konversi ke array numpy\n",
        "X = np.array(X)\n",
        "\n",
        "# Memisahkan data menjadi data latih dan data uji\n",
        "X_train, X_test, Y_train, Y_test = train_test_split(X, Y, test_size=0.2, random_state=42)\n",
        "\n",
        "print(\"Jumlah Data Train adalah :\", len(X_train))\n",
        "print(\"Jumlah Data Test adalah :\", len(X_test))"
      ],
      "metadata": {
        "colab": {
          "base_uri": "https://localhost:8080/"
        },
        "id": "LFG1SJ3OFPWV",
        "outputId": "d7a81432-d81c-4c32-e7a9-fe86b20b8f14"
      },
      "execution_count": 9,
      "outputs": [
        {
          "output_type": "stream",
          "name": "stdout",
          "text": [
            "Jumlah Data Train adalah : 333\n",
            "Jumlah Data Test adalah : 84\n"
          ]
        }
      ]
    },
    {
      "cell_type": "code",
      "source": [
        "datagen = ImageDataGenerator(\n",
        "    rotation_range=20,  # Rotasi gambar hingga 40 derajat\n",
        "    zoom_range=0.2,  # Zoom-in/Zoom-out gambar\n",
        "    horizontal_flip=True,  # Flipping horizontal gambar\n",
        ")\n",
        "\n",
        "datagen.fit(X_train)"
      ],
      "metadata": {
        "id": "l_s_dW_k2OKD"
      },
      "execution_count": 10,
      "outputs": []
    },
    {
      "cell_type": "code",
      "source": [
        "resnet50 = ResNet50(include_top=False, weights='imagenet', input_shape=(size_resnet50, size_resnet50, 3))\n",
        "\n",
        "# Membuat model Sequential\n",
        "model_resnet50ver2 = Sequential()\n",
        "model_resnet50ver2.add(resnet50)\n",
        "model_resnet50ver2.add(GlobalAveragePooling2D())\n",
        "model_resnet50ver2.add(Dense(4, activation='softmax'))\n",
        "\n",
        "# Membekukan layer-layer ResNet50 yang telah dilatih\n",
        "for layer in resnet50.layers:\n",
        "    layer.trainable = False\n",
        "\n",
        "# Mengompilasi model dengan optimizer Adam dan loss function categorical crossentropy\n",
        "model_resnet50ver2.compile(optimizer=Adam(learning_rate=1e-5), loss='categorical_crossentropy', metrics=['accuracy'])\n",
        "\n",
        "# Menampilkan summary dari model\n",
        "model_resnet50ver2.summary()\n",
        "\n",
        "# Melatih model dengan data latih dan validasi\n",
        "history_resnet50ver2 = model_resnet50ver2.fit(datagen.flow(X_train, Y_train), epochs=50, validation_data=(X_test, Y_test))"
      ],
      "metadata": {
        "colab": {
          "base_uri": "https://localhost:8080/"
        },
        "id": "L4NJLS5-FT93",
        "outputId": "44ee17d6-e26b-4ff0-8d65-23e1f363f154"
      },
      "execution_count": 14,
      "outputs": [
        {
          "output_type": "stream",
          "name": "stdout",
          "text": [
            "Model: \"sequential_2\"\n",
            "_________________________________________________________________\n",
            " Layer (type)                Output Shape              Param #   \n",
            "=================================================================\n",
            " resnet50 (Functional)       (None, 7, 7, 2048)        23587712  \n",
            "                                                                 \n",
            " global_average_pooling2d_2  (None, 2048)              0         \n",
            "  (GlobalAveragePooling2D)                                       \n",
            "                                                                 \n",
            " dense_2 (Dense)             (None, 4)                 8196      \n",
            "                                                                 \n",
            "=================================================================\n",
            "Total params: 23595908 (90.01 MB)\n",
            "Trainable params: 8196 (32.02 KB)\n",
            "Non-trainable params: 23587712 (89.98 MB)\n",
            "_________________________________________________________________\n",
            "Epoch 1/50\n",
            "11/11 [==============================] - 9s 575ms/step - loss: 2.1697 - accuracy: 0.1892 - val_loss: 2.5798 - val_accuracy: 0.2262\n",
            "Epoch 2/50\n",
            "11/11 [==============================] - 4s 390ms/step - loss: 2.1387 - accuracy: 0.1922 - val_loss: 2.5271 - val_accuracy: 0.2262\n",
            "Epoch 3/50\n",
            "11/11 [==============================] - 5s 489ms/step - loss: 2.0946 - accuracy: 0.1832 - val_loss: 2.4766 - val_accuracy: 0.2262\n",
            "Epoch 4/50\n",
            "11/11 [==============================] - 4s 353ms/step - loss: 2.0295 - accuracy: 0.2312 - val_loss: 2.4299 - val_accuracy: 0.2381\n",
            "Epoch 5/50\n",
            "11/11 [==============================] - 4s 359ms/step - loss: 2.0770 - accuracy: 0.1742 - val_loss: 2.3845 - val_accuracy: 0.2381\n",
            "Epoch 6/50\n",
            "11/11 [==============================] - 5s 499ms/step - loss: 2.0034 - accuracy: 0.1892 - val_loss: 2.3414 - val_accuracy: 0.2381\n",
            "Epoch 7/50\n",
            "11/11 [==============================] - 4s 361ms/step - loss: 1.9491 - accuracy: 0.1862 - val_loss: 2.3002 - val_accuracy: 0.2619\n",
            "Epoch 8/50\n",
            "11/11 [==============================] - 4s 360ms/step - loss: 1.9832 - accuracy: 0.1802 - val_loss: 2.2610 - val_accuracy: 0.2619\n",
            "Epoch 9/50\n",
            "11/11 [==============================] - 4s 352ms/step - loss: 1.9088 - accuracy: 0.2042 - val_loss: 2.2213 - val_accuracy: 0.2619\n",
            "Epoch 10/50\n",
            "11/11 [==============================] - 5s 494ms/step - loss: 1.9140 - accuracy: 0.2072 - val_loss: 2.1837 - val_accuracy: 0.2619\n",
            "Epoch 11/50\n",
            "11/11 [==============================] - 4s 359ms/step - loss: 1.8479 - accuracy: 0.2012 - val_loss: 2.1487 - val_accuracy: 0.2738\n",
            "Epoch 12/50\n",
            "11/11 [==============================] - 4s 356ms/step - loss: 1.8606 - accuracy: 0.2252 - val_loss: 2.1124 - val_accuracy: 0.2738\n",
            "Epoch 13/50\n",
            "11/11 [==============================] - 5s 505ms/step - loss: 1.7830 - accuracy: 0.2553 - val_loss: 2.0815 - val_accuracy: 0.2738\n",
            "Epoch 14/50\n",
            "11/11 [==============================] - 4s 357ms/step - loss: 1.8642 - accuracy: 0.2282 - val_loss: 2.0491 - val_accuracy: 0.2738\n",
            "Epoch 15/50\n",
            "11/11 [==============================] - 4s 356ms/step - loss: 1.7827 - accuracy: 0.2402 - val_loss: 2.0186 - val_accuracy: 0.2738\n",
            "Epoch 16/50\n",
            "11/11 [==============================] - 6s 545ms/step - loss: 1.7711 - accuracy: 0.2342 - val_loss: 1.9873 - val_accuracy: 0.2619\n",
            "Epoch 17/50\n",
            "11/11 [==============================] - 4s 359ms/step - loss: 1.7582 - accuracy: 0.2282 - val_loss: 1.9576 - val_accuracy: 0.2619\n",
            "Epoch 18/50\n",
            "11/11 [==============================] - 4s 359ms/step - loss: 1.7071 - accuracy: 0.2643 - val_loss: 1.9310 - val_accuracy: 0.2738\n",
            "Epoch 19/50\n",
            "11/11 [==============================] - 5s 506ms/step - loss: 1.6898 - accuracy: 0.2673 - val_loss: 1.9031 - val_accuracy: 0.2619\n",
            "Epoch 20/50\n",
            "11/11 [==============================] - 4s 356ms/step - loss: 1.6280 - accuracy: 0.2673 - val_loss: 1.8766 - val_accuracy: 0.2500\n",
            "Epoch 21/50\n",
            "11/11 [==============================] - 5s 524ms/step - loss: 1.6949 - accuracy: 0.2583 - val_loss: 1.8515 - val_accuracy: 0.2619\n",
            "Epoch 22/50\n",
            "11/11 [==============================] - 4s 413ms/step - loss: 1.6129 - accuracy: 0.3063 - val_loss: 1.8257 - val_accuracy: 0.2738\n",
            "Epoch 23/50\n",
            "11/11 [==============================] - 4s 370ms/step - loss: 1.6382 - accuracy: 0.2913 - val_loss: 1.7997 - val_accuracy: 0.2857\n",
            "Epoch 24/50\n",
            "11/11 [==============================] - 4s 350ms/step - loss: 1.6269 - accuracy: 0.2793 - val_loss: 1.7739 - val_accuracy: 0.2857\n",
            "Epoch 25/50\n",
            "11/11 [==============================] - 5s 428ms/step - loss: 1.6021 - accuracy: 0.2823 - val_loss: 1.7497 - val_accuracy: 0.2857\n",
            "Epoch 26/50\n",
            "11/11 [==============================] - 5s 384ms/step - loss: 1.5735 - accuracy: 0.2823 - val_loss: 1.7263 - val_accuracy: 0.2976\n",
            "Epoch 27/50\n",
            "11/11 [==============================] - 4s 361ms/step - loss: 1.5286 - accuracy: 0.3213 - val_loss: 1.7037 - val_accuracy: 0.3214\n",
            "Epoch 28/50\n",
            "11/11 [==============================] - 5s 505ms/step - loss: 1.5029 - accuracy: 0.3213 - val_loss: 1.6815 - val_accuracy: 0.3214\n",
            "Epoch 29/50\n",
            "11/11 [==============================] - 4s 355ms/step - loss: 1.4941 - accuracy: 0.3093 - val_loss: 1.6599 - val_accuracy: 0.3095\n",
            "Epoch 30/50\n",
            "11/11 [==============================] - 5s 506ms/step - loss: 1.4884 - accuracy: 0.3363 - val_loss: 1.6378 - val_accuracy: 0.3095\n",
            "Epoch 31/50\n",
            "11/11 [==============================] - 4s 359ms/step - loss: 1.4598 - accuracy: 0.3363 - val_loss: 1.6164 - val_accuracy: 0.3214\n",
            "Epoch 32/50\n",
            "11/11 [==============================] - 4s 364ms/step - loss: 1.4212 - accuracy: 0.3453 - val_loss: 1.5956 - val_accuracy: 0.3214\n",
            "Epoch 33/50\n",
            "11/11 [==============================] - 4s 375ms/step - loss: 1.3909 - accuracy: 0.3574 - val_loss: 1.5755 - val_accuracy: 0.3214\n",
            "Epoch 34/50\n",
            "11/11 [==============================] - 4s 362ms/step - loss: 1.3716 - accuracy: 0.3934 - val_loss: 1.5574 - val_accuracy: 0.3333\n",
            "Epoch 35/50\n",
            "11/11 [==============================] - 6s 509ms/step - loss: 1.3753 - accuracy: 0.3634 - val_loss: 1.5358 - val_accuracy: 0.3333\n",
            "Epoch 36/50\n",
            "11/11 [==============================] - 4s 353ms/step - loss: 1.3690 - accuracy: 0.3544 - val_loss: 1.5145 - val_accuracy: 0.3333\n",
            "Epoch 37/50\n",
            "11/11 [==============================] - 4s 359ms/step - loss: 1.3465 - accuracy: 0.3694 - val_loss: 1.4975 - val_accuracy: 0.3333\n",
            "Epoch 38/50\n",
            "11/11 [==============================] - 5s 498ms/step - loss: 1.3356 - accuracy: 0.3874 - val_loss: 1.4793 - val_accuracy: 0.3333\n",
            "Epoch 39/50\n",
            "11/11 [==============================] - 4s 365ms/step - loss: 1.3394 - accuracy: 0.3784 - val_loss: 1.4622 - val_accuracy: 0.3333\n",
            "Epoch 40/50\n",
            "11/11 [==============================] - 4s 349ms/step - loss: 1.3439 - accuracy: 0.4084 - val_loss: 1.4437 - val_accuracy: 0.3452\n",
            "Epoch 41/50\n",
            "11/11 [==============================] - 5s 486ms/step - loss: 1.3012 - accuracy: 0.4234 - val_loss: 1.4271 - val_accuracy: 0.3810\n",
            "Epoch 42/50\n",
            "11/11 [==============================] - 4s 360ms/step - loss: 1.2965 - accuracy: 0.4024 - val_loss: 1.4102 - val_accuracy: 0.3810\n",
            "Epoch 43/50\n",
            "11/11 [==============================] - 4s 363ms/step - loss: 1.2712 - accuracy: 0.4204 - val_loss: 1.3944 - val_accuracy: 0.3810\n",
            "Epoch 44/50\n",
            "11/11 [==============================] - 5s 505ms/step - loss: 1.2518 - accuracy: 0.4354 - val_loss: 1.3781 - val_accuracy: 0.3810\n",
            "Epoch 45/50\n",
            "11/11 [==============================] - 4s 359ms/step - loss: 1.2582 - accuracy: 0.4294 - val_loss: 1.3630 - val_accuracy: 0.3810\n",
            "Epoch 46/50\n",
            "11/11 [==============================] - 5s 392ms/step - loss: 1.2507 - accuracy: 0.4294 - val_loss: 1.3462 - val_accuracy: 0.3929\n",
            "Epoch 47/50\n",
            "11/11 [==============================] - 4s 355ms/step - loss: 1.2356 - accuracy: 0.4354 - val_loss: 1.3333 - val_accuracy: 0.4048\n",
            "Epoch 48/50\n",
            "11/11 [==============================] - 5s 495ms/step - loss: 1.2145 - accuracy: 0.4715 - val_loss: 1.3195 - val_accuracy: 0.4048\n",
            "Epoch 49/50\n",
            "11/11 [==============================] - 4s 354ms/step - loss: 1.2322 - accuracy: 0.4444 - val_loss: 1.3055 - val_accuracy: 0.4167\n",
            "Epoch 50/50\n",
            "11/11 [==============================] - 4s 355ms/step - loss: 1.1812 - accuracy: 0.4595 - val_loss: 1.2917 - val_accuracy: 0.4167\n"
          ]
        }
      ]
    },
    {
      "cell_type": "code",
      "source": [
        "from sklearn.metrics import confusion_matrix, classification_report\n",
        "import numpy as np\n",
        "import matplotlib.pyplot as plt\n",
        "import seaborn as sns\n",
        "\n",
        "# Menggunakan model_resnet50ver2 untuk membuat prediksi pada data uji\n",
        "Y_pred = model_resnet50ver2.predict(X_test)\n",
        "# Mengambil indeks kelas dengan probabilitas tertinggi sebagai prediksi\n",
        "Y_pred_classes = np.argmax(Y_pred, axis=1)\n",
        "# Mengambil indeks kelas dengan probabilitas tertinggi sebagai label sebenarnya\n",
        "Y_true = np.argmax(Y_test, axis=1)\n",
        "\n",
        "# Membuat confusion matrix\n",
        "conf_matrix = confusion_matrix(Y_true, Y_pred_classes)\n",
        "\n",
        "# Menampilkan confusion matrix dalam bentuk visualisasi\n",
        "plt.figure(figsize=(8, 6))\n",
        "sns.heatmap(conf_matrix, annot=True, fmt=\"d\", cmap=\"Blues\", xticklabels=['Common_Rust', 'Healthy', 'Gray_Leaf_Spot', 'Blight'], yticklabels=['Common_Rust', 'Healthy', 'Gray_Leaf_Spot', 'Blight'])\n",
        "plt.xlabel('Predicted labels')\n",
        "plt.ylabel('True labels')\n",
        "plt.title('Confusion Matrix')\n",
        "plt.show()\n",
        "\n",
        "# Membuat classification report\n",
        "class_report = classification_report(Y_true, Y_pred_classes)\n",
        "\n",
        "# Menampilkan classification report\n",
        "print(\"\\nClassification Report:\")\n",
        "print(class_report)\n"
      ],
      "metadata": {
        "colab": {
          "base_uri": "https://localhost:8080/",
          "height": 807
        },
        "id": "YWvBAbaMInI-",
        "outputId": "aecb02a3-d5fd-4edb-dc54-313833c3cf6e"
      },
      "execution_count": 15,
      "outputs": [
        {
          "output_type": "stream",
          "name": "stdout",
          "text": [
            "3/3 [==============================] - 1s 109ms/step\n"
          ]
        },
        {
          "output_type": "display_data",
          "data": {
            "text/plain": [
              "<Figure size 800x600 with 2 Axes>"
            ],
            "image/png": "[encoded data removed]"
          },
          "metadata": {}
        },
        {
          "output_type": "stream",
          "name": "stdout",
          "text": [
            "\n",
            "Classification Report:\n",
            "              precision    recall  f1-score   support\n",
            "\n",
            "           0       0.36      0.65      0.47        26\n",
            "           1       0.57      0.35      0.44        34\n",
            "           2       0.17      0.10      0.12        10\n",
            "           3       0.50      0.36      0.42        14\n",
            "\n",
            "    accuracy                           0.42        84\n",
            "   macro avg       0.40      0.37      0.36        84\n",
            "weighted avg       0.45      0.42      0.41        84\n",
            "\n"
          ]
        }
      ]
    }
  ]
}